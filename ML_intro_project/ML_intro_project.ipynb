{
 "cells": [
  {
   "cell_type": "markdown",
   "metadata": {},
   "source": [
    "<div style=\"border:solid green 2px; padding: 20px\">\n",
    "    \n",
    "<b>Hello!</b> We're glad to see you in code-reviewer territory. You've done a great job on the project, but let's get to know each other and make it even better! We have our own atmosphere here and a few rules:\n",
    "\n",
    "\n",
    "1. I work as a code reviewer, and my main goal is not to point out your mistakes, but to share my experience and help you become a data analyst.\n",
    "2. We speak on a first-come-first-served basis.\n",
    "3. if you want to write or ask a question, don't be shy. Just choose your color for your comment.  \n",
    "4. this is a training project, you don't have to be afraid of making a mistake.  \n",
    "5. You have an unlimited number of attempts to pass the project.  \n",
    "6. Let's Go!\n",
    "\n",
    "\n",
    "---\n",
    "I'll be color-coding comments, please don't delete them:\n",
    "\n",
    "<div class=\"alert alert-block alert-danger\">✍\n",
    "    \n",
    "\n",
    "__Reviewer's comment №1__\n",
    "\n",
    "Needs fixing. The block requires some corrections. Work can't be accepted with the red comments.\n",
    "</div>\n",
    "    \n",
    "---\n",
    "\n",
    "<div class=\"alert alert-block alert-warning\">📝\n",
    "    \n",
    "\n",
    "__Reviewer's comment №1__\n",
    "\n",
    "\n",
    "Remarks. Some recommendations.\n",
    "</div>\n",
    "\n",
    "---\n",
    "\n",
    "<div class=\"alert alert-block alert-success\">✔️\n",
    "    \n",
    "\n",
    "__Reviewer's comment №1__\n",
    "\n",
    "Success. Everything is done succesfully.\n",
    "</div>\n",
    "    \n",
    "---\n",
    "    \n",
    "I suggest that we work on the project in dialogue: if you change something in the project or respond to my comments, write about it. It will be easier for me to track changes if you highlight your comments:   \n",
    "    \n",
    "<div class=\"alert alert-info\"> <b>Student сomments:</b> Student answer..</div>\n",
    "    \n",
    "All this will help to make the recheck of your project faster. If you have any questions about my comments, let me know, we'll figure it out together :)   \n",
    "    \n",
    "---"
   ]
  },
  {
   "cell_type": "markdown",
   "metadata": {},
   "source": [
    "# \"Optimizing Mobile Plan Recommendations with Machine Learning\""
   ]
  },
  {
   "cell_type": "markdown",
   "metadata": {},
   "source": [
    "## **Introduction**\n",
    "\n",
    "Megaline, a mobile carrier, aims to improve customer satisfaction and revenue by encouraging subscribers to switch from legacy plans to newer offerings: Smart or Ultra. To achieve this, a machine learning model is needed to analyze customer behavior and accurately recommend the most suitable plan. \n",
    "\n",
    "This project focuses on building a classification model using subscribers’ monthly usage data, including the number of calls, call duration, messages sent, and internet data used. The model will predict whether a subscriber is more suited for the Smart or Ultra plan.\n",
    "\n",
    "The primary goal is to develop a model with high accuracy, exceeding a threshold of 75%, to ensure reliable recommendations. By leveraging modern machine learning techniques, this project provides a data-driven solution to streamline plan recommendations, enhancing the customer experience and driving business growth."
   ]
  },
  {
   "cell_type": "markdown",
   "metadata": {},
   "source": [
    "<div class=\"alert alert-block alert-success\">✔️\n",
    "    \n",
    "\n",
    "__Reviewer's comment №1__\n",
    "\n",
    "An excellent practice is to describe the goal and main steps in your own words (a skill that will help a lot on a final project). "
   ]
  },
  {
   "cell_type": "markdown",
   "metadata": {},
   "source": [
    "## Import Libraries"
   ]
  },
  {
   "cell_type": "code",
   "execution_count": 1,
   "metadata": {},
   "outputs": [],
   "source": [
    "import pandas as pd\n",
    "from sklearn.model_selection import train_test_split\n",
    "from sklearn.tree import DecisionTreeClassifier\n",
    "from sklearn.ensemble import RandomForestClassifier\n",
    "from sklearn.linear_model import LogisticRegression\n",
    "from sklearn.metrics import accuracy_score"
   ]
  },
  {
   "cell_type": "markdown",
   "metadata": {},
   "source": [
    "## Load and Explore Data"
   ]
  },
  {
   "cell_type": "code",
   "execution_count": 2,
   "metadata": {},
   "outputs": [
    {
     "name": "stdout",
     "output_type": "stream",
     "text": [
      "<class 'pandas.core.frame.DataFrame'>\n",
      "RangeIndex: 3214 entries, 0 to 3213\n",
      "Data columns (total 5 columns):\n",
      " #   Column    Non-Null Count  Dtype  \n",
      "---  ------    --------------  -----  \n",
      " 0   calls     3214 non-null   float64\n",
      " 1   minutes   3214 non-null   float64\n",
      " 2   messages  3214 non-null   float64\n",
      " 3   mb_used   3214 non-null   float64\n",
      " 4   is_ultra  3214 non-null   int64  \n",
      "dtypes: float64(4), int64(1)\n",
      "memory usage: 125.7 KB\n",
      "None\n",
      "             calls      minutes     messages       mb_used     is_ultra\n",
      "count  3214.000000  3214.000000  3214.000000   3214.000000  3214.000000\n",
      "mean     63.038892   438.208787    38.281269  17207.673836     0.306472\n",
      "std      33.236368   234.569872    36.148326   7570.968246     0.461100\n",
      "min       0.000000     0.000000     0.000000      0.000000     0.000000\n",
      "25%      40.000000   274.575000     9.000000  12491.902500     0.000000\n",
      "50%      62.000000   430.600000    30.000000  16943.235000     0.000000\n",
      "75%      82.000000   571.927500    57.000000  21424.700000     1.000000\n",
      "max     244.000000  1632.060000   224.000000  49745.730000     1.000000\n",
      "   calls  minutes  messages   mb_used  is_ultra\n",
      "0   40.0   311.90      83.0  19915.42         0\n",
      "1   85.0   516.75      56.0  22696.96         0\n",
      "2   77.0   467.66      86.0  21060.45         0\n",
      "3  106.0   745.53      81.0   8437.39         1\n",
      "4   66.0   418.74       1.0  14502.75         0\n",
      "Missing values:\n",
      " calls       0\n",
      "minutes     0\n",
      "messages    0\n",
      "mb_used     0\n",
      "is_ultra    0\n",
      "dtype: int64\n"
     ]
    }
   ],
   "source": [
    "# Load the dataset\n",
    "df = pd.read_csv('/datasets/users_behavior.csv')\n",
    "\n",
    "# Explore the data\n",
    "print(df.info())\n",
    "print(df.describe())\n",
    "print(df.head())\n",
    "print(\"Missing values:\\n\", df.isnull().sum())"
   ]
  },
  {
   "cell_type": "markdown",
   "metadata": {},
   "source": [
    "The data is clean and good, there are no null or missing values"
   ]
  },
  {
   "cell_type": "markdown",
   "metadata": {},
   "source": [
    "## Spllit the data"
   ]
  },
  {
   "cell_type": "code",
   "execution_count": 3,
   "metadata": {},
   "outputs": [
    {
     "name": "stdout",
     "output_type": "stream",
     "text": [
      "Training set size: (1928, 4)\n",
      "Validation set size: (643, 4)\n",
      "Test set size: (643, 4)\n"
     ]
    }
   ],
   "source": [
    "# Define features and target\n",
    "features = df.drop(['is_ultra'], axis=1)\n",
    "target = df['is_ultra']\n",
    "\n",
    "# Split the data: training (60%), validation (20%), test (20%)\n",
    "features_train, features_temp, target_train, target_temp = train_test_split(\n",
    "    features, target, test_size=0.4, random_state=12345)\n",
    "features_valid, features_test, target_valid, target_test = train_test_split(\n",
    "    features_temp, target_temp, test_size=0.5, random_state=12345)\n",
    "\n",
    "print(\"Training set size:\", features_train.shape)\n",
    "print(\"Validation set size:\", features_valid.shape)\n",
    "print(\"Test set size:\", features_test.shape)\n"
   ]
  },
  {
   "cell_type": "markdown",
   "metadata": {},
   "source": [
    "<div class=\"alert alert-block alert-success\">✔️\n",
    "\n",
    "__Reviewer's comment №1__\n",
    "\n",
    "\n",
    "\n",
    "1. It is good here, random_state is fixed. We have ensured reproducibility of the results of splitting the sample into training (training) / test / validation samples, so the subsamples will be identical in all subsequent runs of our code.\n",
    "    \n",
    "2. Fraction of train/valid/test sizes 3:1:1 is good."
   ]
  },
  {
   "cell_type": "markdown",
   "metadata": {},
   "source": [
    "## Investigating Model's Quality"
   ]
  },
  {
   "cell_type": "code",
   "execution_count": 4,
   "metadata": {},
   "outputs": [
    {
     "name": "stdout",
     "output_type": "stream",
     "text": [
      "DecisionTreeClassifier (max_depth=1): Accuracy = 0.754\n",
      "DecisionTreeClassifier (max_depth=2): Accuracy = 0.782\n",
      "DecisionTreeClassifier (max_depth=3): Accuracy = 0.785\n",
      "DecisionTreeClassifier (max_depth=4): Accuracy = 0.779\n",
      "DecisionTreeClassifier (max_depth=5): Accuracy = 0.779\n",
      "DecisionTreeClassifier (max_depth=6): Accuracy = 0.784\n",
      "DecisionTreeClassifier (max_depth=7): Accuracy = 0.782\n",
      "DecisionTreeClassifier (max_depth=8): Accuracy = 0.779\n",
      "DecisionTreeClassifier (max_depth=9): Accuracy = 0.782\n",
      "DecisionTreeClassifier (max_depth=10): Accuracy = 0.774\n",
      "RandomForestClassifier (n_estimators=10, max_depth=1): Accuracy = 0.756\n",
      "RandomForestClassifier (n_estimators=10, max_depth=2): Accuracy = 0.778\n",
      "RandomForestClassifier (n_estimators=10, max_depth=3): Accuracy = 0.785\n",
      "RandomForestClassifier (n_estimators=10, max_depth=4): Accuracy = 0.790\n",
      "RandomForestClassifier (n_estimators=10, max_depth=5): Accuracy = 0.793\n",
      "RandomForestClassifier (n_estimators=10, max_depth=6): Accuracy = 0.801\n",
      "RandomForestClassifier (n_estimators=10, max_depth=7): Accuracy = 0.795\n",
      "RandomForestClassifier (n_estimators=10, max_depth=8): Accuracy = 0.796\n",
      "RandomForestClassifier (n_estimators=10, max_depth=9): Accuracy = 0.785\n",
      "RandomForestClassifier (n_estimators=10, max_depth=10): Accuracy = 0.792\n",
      "RandomForestClassifier (n_estimators=20, max_depth=1): Accuracy = 0.767\n",
      "RandomForestClassifier (n_estimators=20, max_depth=2): Accuracy = 0.784\n",
      "RandomForestClassifier (n_estimators=20, max_depth=3): Accuracy = 0.787\n",
      "RandomForestClassifier (n_estimators=20, max_depth=4): Accuracy = 0.788\n",
      "RandomForestClassifier (n_estimators=20, max_depth=5): Accuracy = 0.790\n",
      "RandomForestClassifier (n_estimators=20, max_depth=6): Accuracy = 0.799\n",
      "RandomForestClassifier (n_estimators=20, max_depth=7): Accuracy = 0.801\n",
      "RandomForestClassifier (n_estimators=20, max_depth=8): Accuracy = 0.798\n",
      "RandomForestClassifier (n_estimators=20, max_depth=9): Accuracy = 0.790\n",
      "RandomForestClassifier (n_estimators=20, max_depth=10): Accuracy = 0.792\n",
      "RandomForestClassifier (n_estimators=30, max_depth=1): Accuracy = 0.767\n",
      "RandomForestClassifier (n_estimators=30, max_depth=2): Accuracy = 0.784\n",
      "RandomForestClassifier (n_estimators=30, max_depth=3): Accuracy = 0.787\n",
      "RandomForestClassifier (n_estimators=30, max_depth=4): Accuracy = 0.787\n",
      "RandomForestClassifier (n_estimators=30, max_depth=5): Accuracy = 0.793\n",
      "RandomForestClassifier (n_estimators=30, max_depth=6): Accuracy = 0.801\n",
      "RandomForestClassifier (n_estimators=30, max_depth=7): Accuracy = 0.802\n",
      "RandomForestClassifier (n_estimators=30, max_depth=8): Accuracy = 0.799\n",
      "RandomForestClassifier (n_estimators=30, max_depth=9): Accuracy = 0.793\n",
      "RandomForestClassifier (n_estimators=30, max_depth=10): Accuracy = 0.795\n",
      "RandomForestClassifier (n_estimators=40, max_depth=1): Accuracy = 0.776\n",
      "RandomForestClassifier (n_estimators=40, max_depth=2): Accuracy = 0.785\n",
      "RandomForestClassifier (n_estimators=40, max_depth=3): Accuracy = 0.787\n",
      "RandomForestClassifier (n_estimators=40, max_depth=4): Accuracy = 0.790\n",
      "RandomForestClassifier (n_estimators=40, max_depth=5): Accuracy = 0.795\n",
      "RandomForestClassifier (n_estimators=40, max_depth=6): Accuracy = 0.802\n",
      "RandomForestClassifier (n_estimators=40, max_depth=7): Accuracy = 0.802\n",
      "RandomForestClassifier (n_estimators=40, max_depth=8): Accuracy = 0.809\n",
      "RandomForestClassifier (n_estimators=40, max_depth=9): Accuracy = 0.795\n",
      "RandomForestClassifier (n_estimators=40, max_depth=10): Accuracy = 0.796\n",
      "RandomForestClassifier (n_estimators=50, max_depth=1): Accuracy = 0.759\n",
      "RandomForestClassifier (n_estimators=50, max_depth=2): Accuracy = 0.784\n",
      "RandomForestClassifier (n_estimators=50, max_depth=3): Accuracy = 0.787\n",
      "RandomForestClassifier (n_estimators=50, max_depth=4): Accuracy = 0.787\n",
      "RandomForestClassifier (n_estimators=50, max_depth=5): Accuracy = 0.793\n",
      "RandomForestClassifier (n_estimators=50, max_depth=6): Accuracy = 0.799\n",
      "RandomForestClassifier (n_estimators=50, max_depth=7): Accuracy = 0.802\n",
      "RandomForestClassifier (n_estimators=50, max_depth=8): Accuracy = 0.807\n",
      "RandomForestClassifier (n_estimators=50, max_depth=9): Accuracy = 0.798\n",
      "RandomForestClassifier (n_estimators=50, max_depth=10): Accuracy = 0.793\n",
      "LogisticRegression: Accuracy = 0.711\n",
      "\n",
      "Best Model: {'model': 'RandomForestClassifier', 'n_estimators': 40, 'max_depth': 8}\n",
      "Validation Accuracy of Best Model: 0.8087091757387247\n"
     ]
    }
   ],
   "source": [
    "# Initialize variables for tracking the best model\n",
    "best_model = None\n",
    "best_accuracy = 0\n",
    "best_hyperparameters = None\n",
    "\n",
    "# Evaluate DecisionTreeClassifier\n",
    "for depth in range(1, 11):\n",
    "    model = DecisionTreeClassifier(max_depth=depth, random_state=12345)\n",
    "    model.fit(features_train, target_train)\n",
    "    predictions_valid = model.predict(features_valid)\n",
    "    accuracy = accuracy_score(target_valid, predictions_valid)\n",
    "    print(f\"DecisionTreeClassifier (max_depth={depth}): Accuracy = {accuracy:.3f}\")\n",
    "    if accuracy > best_accuracy:\n",
    "        best_model = model\n",
    "        best_accuracy = accuracy\n",
    "        best_hyperparameters = {'model': 'DecisionTreeClassifier', 'max_depth': depth}\n",
    "\n",
    "# Evaluate RandomForestClassifier\n",
    "for est in range(10, 51, 10):\n",
    "    for depth in range(1, 11):\n",
    "        model = RandomForestClassifier(n_estimators=est, max_depth=depth, random_state=12345)\n",
    "        model.fit(features_train, target_train)\n",
    "        predictions_valid = model.predict(features_valid)\n",
    "        accuracy = accuracy_score(target_valid, predictions_valid)\n",
    "        print(f\"RandomForestClassifier (n_estimators={est}, max_depth={depth}): Accuracy = {accuracy:.3f}\")\n",
    "        if accuracy > best_accuracy:\n",
    "            best_model = model\n",
    "            best_accuracy = accuracy\n",
    "            best_hyperparameters = {'model': 'RandomForestClassifier', 'n_estimators': est, 'max_depth': depth}\n",
    "\n",
    "# Evaluate LogisticRegression\n",
    "model = LogisticRegression(random_state=12345, max_iter=1000)\n",
    "model.fit(features_train, target_train)\n",
    "predictions_valid = model.predict(features_valid)\n",
    "accuracy = accuracy_score(target_valid, predictions_valid)\n",
    "print(f\"LogisticRegression: Accuracy = {accuracy:.3f}\")\n",
    "if accuracy > best_accuracy:\n",
    "    best_model = model\n",
    "    best_accuracy = accuracy\n",
    "    best_hyperparameters = {'model': 'LogisticRegression'}\n",
    "\n",
    "print(\"\\nBest Model:\", best_hyperparameters)\n",
    "print(\"Validation Accuracy of Best Model:\", best_accuracy)\n"
   ]
  },
  {
   "cell_type": "markdown",
   "metadata": {},
   "source": [
    "Evaluated several models to find the one with the highest validation accuracy. The **DecisionTreeClassifier** achieved a maximum accuracy of 0.785 at max_depth=3, while the **RandomForestClassifier** outperformed all other models, achieving the highest accuracy of 0.809 with n_estimators=40 and max_depth=8. **LogisticRegression** had the lowest performance with an accuracy of 0.711. \n",
    "\n",
    "Based on these results, the **RandomForestClassifier** with optimal hyperparameters was selected as the best model for further testing, surpassing the project’s minimum accuracy threshold of 0.75."
   ]
  },
  {
   "cell_type": "markdown",
   "metadata": {},
   "source": [
    "## Testing the best Model"
   ]
  },
  {
   "cell_type": "code",
   "execution_count": 5,
   "metadata": {},
   "outputs": [
    {
     "name": "stdout",
     "output_type": "stream",
     "text": [
      "Test Accuracy of the Best Model: 0.7962674961119751\n"
     ]
    }
   ],
   "source": [
    "# Initialize the best model\n",
    "best_model = RandomForestClassifier(n_estimators=40, max_depth=8, random_state=12345)\n",
    "\n",
    "# Train the model on the training data\n",
    "best_model.fit(features_train, target_train)\n",
    "\n",
    "# Evaluate the model on the test set\n",
    "predictions_test = best_model.predict(features_test)\n",
    "test_accuracy = accuracy_score(target_test, predictions_test)\n",
    "\n",
    "# Print the test accuracy\n",
    "print(\"Test Accuracy of the Best Model:\", test_accuracy)\n"
   ]
  },
  {
   "cell_type": "markdown",
   "metadata": {},
   "source": [
    "## Sanity Check"
   ]
  },
  {
   "cell_type": "code",
   "execution_count": 6,
   "metadata": {},
   "outputs": [
    {
     "name": "stdout",
     "output_type": "stream",
     "text": [
      "Baseline Accuracy (All Smart): 0.6842923794712286\n",
      "Baseline Accuracy (All Ultra): 0.3157076205287714\n"
     ]
    }
   ],
   "source": [
    "# Baseline predictions: all users are 'Smart' (0)\n",
    "baseline_smart = [0] * len(target_test)\n",
    "baseline_smart_accuracy = accuracy_score(target_test, baseline_smart)\n",
    "\n",
    "# Baseline predictions: all users are 'Ultra' (1)\n",
    "baseline_ultra = [1] * len(target_test)\n",
    "baseline_ultra_accuracy = accuracy_score(target_test, baseline_ultra)\n",
    "\n",
    "# Print the baseline accuracies\n",
    "print(\"Baseline Accuracy (All Smart):\", baseline_smart_accuracy)\n",
    "print(\"Baseline Accuracy (All Ultra):\", baseline_ultra_accuracy)\n"
   ]
  },
  {
   "cell_type": "markdown",
   "metadata": {},
   "source": [
    "In this sanity check step, I have calculated baseline accuracies by making naive predictions: predicting all users as **Smart** (0) achieved an accuracy of **68.43%**, while predicting all users as **Ultra** (1) achieved an accuracy of **31.57%**. These results highlight the class imbalance in the dataset and confirm that the selected model, with a validation accuracy of **80.9%**, significantly outperforms these baselines."
   ]
  },
  {
   "cell_type": "markdown",
   "metadata": {},
   "source": [
    "## Conclusion"
   ]
  },
  {
   "cell_type": "markdown",
   "metadata": {},
   "source": [
    "\n",
    "The project successfully developed a classification model to recommend the most suitable mobile plan (Smart or Ultra) for Megaline's subscribers based on their monthly usage data. After evaluating multiple models, the **RandomForestClassifier** emerged as the best-performing model with optimized hyperparameters (`n_estimators=40`, `max_depth=8`), achieving a validation accuracy of **80.9%** and a test accuracy of **79.63%**, surpassing the required threshold of **75%**.\n",
    "\n",
    "The sanity check demonstrated that naive approaches, such as predicting all users as Smart or Ultra, yielded significantly lower accuracies (68.43% and 31.57%, respectively), highlighting the added value of the developed model. The model's consistent performance on the test set indicates its reliability in making accurate recommendations for unseen data.\n",
    "\n",
    "This project provides a robust and data-driven approach for Megaline to transition subscribers to more appropriate plans, potentially improving customer satisfaction and revenue optimization."
   ]
  },
  {
   "cell_type": "markdown",
   "metadata": {},
   "source": [
    "<div class=\"alert alert-block alert-success\">✔️\n",
    "    \n",
    "\n",
    "__Reviewer's comment №1__\n",
    "\n",
    "Here's the great thing: we picked the best hyperparameters for all our models (in this case, maximizing the accuracy_score metric). Here we also identified the MOST optimal model. On validation, it turned out to be the \"random forest\" model.\n",
    "\n",
    "After the hyperparameters are selected for validation, we test the models on the test data. Based on the results of testing on the test (sorry for the tautalogy), we choose a model that we can pass to production."
   ]
  }
 ],
 "metadata": {
  "ExecuteTimeLog": [
   {
    "duration": 766,
    "start_time": "2025-01-18T17:53:53.582Z"
   },
   {
    "duration": 604,
    "start_time": "2025-01-18T17:54:36.942Z"
   },
   {
    "duration": 47,
    "start_time": "2025-01-18T17:54:59.703Z"
   },
   {
    "duration": 7,
    "start_time": "2025-01-18T17:57:26.122Z"
   },
   {
    "duration": 2869,
    "start_time": "2025-01-18T17:58:31.736Z"
   },
   {
    "duration": 93,
    "start_time": "2025-01-18T18:05:54.497Z"
   },
   {
    "duration": 5,
    "start_time": "2025-01-18T18:06:44.310Z"
   },
   {
    "duration": 7,
    "start_time": "2025-01-18T18:14:58.934Z"
   },
   {
    "duration": 6,
    "start_time": "2025-01-18T18:16:29.483Z"
   },
   {
    "duration": 820,
    "start_time": "2025-01-19T00:12:05.118Z"
   },
   {
    "duration": 32,
    "start_time": "2025-01-19T00:12:05.941Z"
   },
   {
    "duration": 7,
    "start_time": "2025-01-19T00:12:05.975Z"
   },
   {
    "duration": 2899,
    "start_time": "2025-01-19T00:12:05.984Z"
   },
   {
    "duration": 108,
    "start_time": "2025-01-19T00:12:08.886Z"
   },
   {
    "duration": 17,
    "start_time": "2025-01-19T00:12:08.995Z"
   }
  ],
  "kernelspec": {
   "display_name": "Python 3 (ipykernel)",
   "language": "python",
   "name": "python3"
  },
  "language_info": {
   "codemirror_mode": {
    "name": "ipython",
    "version": 3
   },
   "file_extension": ".py",
   "mimetype": "text/x-python",
   "name": "python",
   "nbconvert_exporter": "python",
   "pygments_lexer": "ipython3",
   "version": "3.9.19"
  },
  "toc": {
   "base_numbering": 1,
   "nav_menu": {},
   "number_sections": true,
   "sideBar": true,
   "skip_h1_title": true,
   "title_cell": "Table of Contents",
   "title_sidebar": "Contents",
   "toc_cell": false,
   "toc_position": {
    "height": "calc(100% - 180px)",
    "left": "10px",
    "top": "150px",
    "width": "288px"
   },
   "toc_section_display": true,
   "toc_window_display": true
  }
 },
 "nbformat": 4,
 "nbformat_minor": 2
}

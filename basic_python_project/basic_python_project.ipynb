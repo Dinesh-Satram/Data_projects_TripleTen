{
 "cells": [
  {
   "cell_type": "markdown",
   "id": "c3e6841e",
   "metadata": {},
   "source": [
    "<div style=\"border:solid green 2px; padding: 20px\"> <h1 style=\"color:green; margin-bottom:20px\">Reviewer's comment v1</h1>\n",
    "\n",
    "Hello Dinesh!\n",
    "\n",
    "I'm happy to review your project today  🙌\n",
    "\n",
    "You can find my comments under the heading **«Review»**. I will categorize my comments in green, blue or red boxes like this:\n",
    "\n",
    "<div class=\"alert alert-success\">\n",
    "    <b>Success:</b> if everything is done successfully\n",
    "</div>\n",
    "<div class=\"alert alert-warning\">\n",
    "    <b>Remarks:</b> if I can give some recommendations or ways to improve the project\n",
    "</div>\n",
    "<div class=\"alert alert-danger\">\n",
    "    <b>Needs fixing:</b> if the block requires some corrections. Work can't be accepted with the red comments\n",
    "</div>\n",
    "\n",
    "Please don't remove my comments. If you have any questions, don't hesitate to respond to my comments in a different section.\n",
    "<div class=\"alert alert-info\"> <b>Student comments: </div>    \n"
   ]
  },
  {
   "cell_type": "markdown",
   "id": "675c6b88",
   "metadata": {},
   "source": [
    "<div style=\"border:solid green 2px; padding: 20px\">\n",
    "<b>Reviewer's comment v1</b>\n",
    "    \n",
    "<b>Overall Feedback</b> \n",
    "    \n",
    "    \n",
    "Hello Dinesh,\n",
    "\n",
    "First of all, congratulations on submitting your very first project! 🎉\n",
    "\n",
    "Taking this step is a big part of your journey into the world of Data, and it’s clear you’re putting in the effort to succeed.\n",
    "\n",
    "Our team is here to support your growth, and to help you get the most out of this experience, I’ve returned your project with some suggestions for improvement.\n",
    "    \n",
    "You’ll find specific feedback in the notebook in the ‘Comments’ (`Reviewer's comment v1`) sections.\n",
    "    \n",
    "**What Was Great:**\n",
    "\n",
    "- Comprehensive Data Preparation: You demonstrated a meticulous approach to data loading, cleaning, and preparation. Ensuring the data was in optimal condition allowed for a robust analysis, which strengthened the validity of your conclusions.\n",
    "- Effective Handling of Outliers: You correctly identified and excluded outliers (duplicates, missing values), which could have skewed the results, ensuring a more accurate and meaningful analysis.\n",
    "    \n",
    "**Areas to Improve:**\n",
    "\n",
    "- Small changes in the last step to remove duplicate columns from the aggregation.\n",
    "   \n",
    "Don’t be discouraged - this is all part of the learning process! Take your time to review the feedback and make the necessary adjustments. Resubmit when you’re ready, and I’m confident you’ll nail it on the next go. Remember, every challenge is an opportunity to grow. You’ve got this! 🏄\n",
    "    \n",
    "And of course, if you have any questions along the way, remember that you can always reach out to your tutor for clarification.\n",
    "</div>"
   ]
  },
  {
   "cell_type": "markdown",
   "id": "e970e5ee",
   "metadata": {},
   "source": [
    "<div style=\"border:solid green 2px; padding: 20px\">\n",
    "<b>Reviewer's comment v2:</b>\n",
    "    \n",
    "<b>Overall Feedback</b> \n",
    "\n",
    "Thank you for making all improvements in your project! It looks perfect now and there are no critical issues. \n",
    "    \n",
    "Please keep up great work and don't hesitate to use this project as a reference in your future sprints. \n",
    "   \n",
    "Good luck on the next project 🍀 \n",
    "</div>"
   ]
  },
  {
   "cell_type": "markdown",
   "id": "f85a80d2",
   "metadata": {},
   "source": [
    "## Basic Python - Project <a id='intro'></a>"
   ]
  },
  {
   "cell_type": "markdown",
   "id": "a1262df4",
   "metadata": {},
   "source": [
    "## Introduction <a id='intro'></a>\n",
    "In this project, you will work with data from the entertainment industry. You will study a dataset with records on movies and shows. The research will focus on the \"Golden Age\" of television, which began in 1999 with the release of *The Sopranos* and is still ongoing.\n",
    "\n",
    "The aim of this project is to investigate how the number of votes a title receives impacts its ratings. The assumption is that highly-rated shows (we will focus on TV shows, ignoring movies) released during the \"Golden Age\" of television also have the most votes.\n",
    "\n",
    "### Stages \n",
    "Data on movies and shows is stored in the `/datasets/movies_and_shows.csv` file. There is no information about the quality of the data, so you will need to explore it before doing the analysis.\n",
    "\n",
    "First, you'll evaluate the quality of the data and see whether its issues are significant. Then, during data preprocessing, you will try to account for the most critical problems.\n",
    " \n",
    "Your project will consist of three stages:\n",
    " 1. Data overview\n",
    " 2. Data preprocessing\n",
    " 3. Data analysis"
   ]
  },
  {
   "cell_type": "markdown",
   "id": "87d887b8",
   "metadata": {},
   "source": [
    "<div class=\"alert alert-success\">\n",
    "<b>Reviewer's comment v1:</b>\n",
    "    \n",
    "It is always helpful for the reader to have additional information about project tasks. It gives an overview of what you are going to achieve in this project.\n"
   ]
  },
  {
   "cell_type": "markdown",
   "id": "ac0593ac",
   "metadata": {},
   "source": [
    "## Stage 1. Data overview <a id='data_review'></a>\n",
    "\n",
    "Open and explore the data."
   ]
  },
  {
   "cell_type": "markdown",
   "id": "e86ed00e",
   "metadata": {},
   "source": [
    "You'll need `pandas`, so import it."
   ]
  },
  {
   "cell_type": "code",
   "execution_count": 2,
   "id": "1727d3f8",
   "metadata": {},
   "outputs": [],
   "source": [
    "# importing pandas\n",
    "import pandas as pd\n"
   ]
  },
  {
   "cell_type": "markdown",
   "id": "9821beeb",
   "metadata": {},
   "source": [
    "Read the `movies_and_shows.csv` file from the `datasets` folder and save it in the `df` variable:"
   ]
  },
  {
   "cell_type": "code",
   "execution_count": 3,
   "id": "fc5a1402",
   "metadata": {},
   "outputs": [],
   "source": [
    "# reading the files and storing them to df\n",
    "df=pd.read_csv('/datasets/movies_and_shows.csv')\n"
   ]
  },
  {
   "cell_type": "markdown",
   "id": "e19d05f1",
   "metadata": {},
   "source": [
    "<div class=\"alert alert-success\">\n",
    "<b>Reviewer's comment v1:</b>\n",
    "    \n",
    "Well done! Required library has been imported."
   ]
  },
  {
   "cell_type": "markdown",
   "id": "1cd0a96d",
   "metadata": {},
   "source": [
    "Print the first 10 table rows:"
   ]
  },
  {
   "cell_type": "code",
   "execution_count": 4,
   "id": "acd92001",
   "metadata": {},
   "outputs": [
    {
     "data": {
      "text/html": [
       "<div>\n",
       "<style scoped>\n",
       "    .dataframe tbody tr th:only-of-type {\n",
       "        vertical-align: middle;\n",
       "    }\n",
       "\n",
       "    .dataframe tbody tr th {\n",
       "        vertical-align: top;\n",
       "    }\n",
       "\n",
       "    .dataframe thead th {\n",
       "        text-align: right;\n",
       "    }\n",
       "</style>\n",
       "<table border=\"1\" class=\"dataframe\">\n",
       "  <thead>\n",
       "    <tr style=\"text-align: right;\">\n",
       "      <th></th>\n",
       "      <th>name</th>\n",
       "      <th>Character</th>\n",
       "      <th>r0le</th>\n",
       "      <th>TITLE</th>\n",
       "      <th>Type</th>\n",
       "      <th>release Year</th>\n",
       "      <th>genres</th>\n",
       "      <th>imdb sc0re</th>\n",
       "      <th>imdb v0tes</th>\n",
       "    </tr>\n",
       "  </thead>\n",
       "  <tbody>\n",
       "    <tr>\n",
       "      <th>0</th>\n",
       "      <td>Robert De Niro</td>\n",
       "      <td>Travis Bickle</td>\n",
       "      <td>ACTOR</td>\n",
       "      <td>Taxi Driver</td>\n",
       "      <td>MOVIE</td>\n",
       "      <td>1976</td>\n",
       "      <td>['drama', 'crime']</td>\n",
       "      <td>8.2</td>\n",
       "      <td>808582.0</td>\n",
       "    </tr>\n",
       "    <tr>\n",
       "      <th>1</th>\n",
       "      <td>Jodie Foster</td>\n",
       "      <td>Iris Steensma</td>\n",
       "      <td>ACTOR</td>\n",
       "      <td>Taxi Driver</td>\n",
       "      <td>MOVIE</td>\n",
       "      <td>1976</td>\n",
       "      <td>['drama', 'crime']</td>\n",
       "      <td>8.2</td>\n",
       "      <td>808582.0</td>\n",
       "    </tr>\n",
       "    <tr>\n",
       "      <th>2</th>\n",
       "      <td>Albert Brooks</td>\n",
       "      <td>Tom</td>\n",
       "      <td>ACTOR</td>\n",
       "      <td>Taxi Driver</td>\n",
       "      <td>MOVIE</td>\n",
       "      <td>1976</td>\n",
       "      <td>['drama', 'crime']</td>\n",
       "      <td>8.2</td>\n",
       "      <td>808582.0</td>\n",
       "    </tr>\n",
       "    <tr>\n",
       "      <th>3</th>\n",
       "      <td>Harvey Keitel</td>\n",
       "      <td>Matthew 'Sport' Higgins</td>\n",
       "      <td>ACTOR</td>\n",
       "      <td>Taxi Driver</td>\n",
       "      <td>MOVIE</td>\n",
       "      <td>1976</td>\n",
       "      <td>['drama', 'crime']</td>\n",
       "      <td>8.2</td>\n",
       "      <td>808582.0</td>\n",
       "    </tr>\n",
       "    <tr>\n",
       "      <th>4</th>\n",
       "      <td>Cybill Shepherd</td>\n",
       "      <td>Betsy</td>\n",
       "      <td>ACTOR</td>\n",
       "      <td>Taxi Driver</td>\n",
       "      <td>MOVIE</td>\n",
       "      <td>1976</td>\n",
       "      <td>['drama', 'crime']</td>\n",
       "      <td>8.2</td>\n",
       "      <td>808582.0</td>\n",
       "    </tr>\n",
       "    <tr>\n",
       "      <th>5</th>\n",
       "      <td>Peter Boyle</td>\n",
       "      <td>Wizard</td>\n",
       "      <td>ACTOR</td>\n",
       "      <td>Taxi Driver</td>\n",
       "      <td>MOVIE</td>\n",
       "      <td>1976</td>\n",
       "      <td>['drama', 'crime']</td>\n",
       "      <td>8.2</td>\n",
       "      <td>808582.0</td>\n",
       "    </tr>\n",
       "    <tr>\n",
       "      <th>6</th>\n",
       "      <td>Leonard Harris</td>\n",
       "      <td>Senator Charles Palantine</td>\n",
       "      <td>ACTOR</td>\n",
       "      <td>Taxi Driver</td>\n",
       "      <td>MOVIE</td>\n",
       "      <td>1976</td>\n",
       "      <td>['drama', 'crime']</td>\n",
       "      <td>8.2</td>\n",
       "      <td>808582.0</td>\n",
       "    </tr>\n",
       "    <tr>\n",
       "      <th>7</th>\n",
       "      <td>Diahnne Abbott</td>\n",
       "      <td>Concession Girl</td>\n",
       "      <td>ACTOR</td>\n",
       "      <td>Taxi Driver</td>\n",
       "      <td>MOVIE</td>\n",
       "      <td>1976</td>\n",
       "      <td>['drama', 'crime']</td>\n",
       "      <td>8.2</td>\n",
       "      <td>808582.0</td>\n",
       "    </tr>\n",
       "    <tr>\n",
       "      <th>8</th>\n",
       "      <td>Gino Ardito</td>\n",
       "      <td>Policeman at Rally</td>\n",
       "      <td>ACTOR</td>\n",
       "      <td>Taxi Driver</td>\n",
       "      <td>MOVIE</td>\n",
       "      <td>1976</td>\n",
       "      <td>['drama', 'crime']</td>\n",
       "      <td>8.2</td>\n",
       "      <td>808582.0</td>\n",
       "    </tr>\n",
       "    <tr>\n",
       "      <th>9</th>\n",
       "      <td>Martin Scorsese</td>\n",
       "      <td>Passenger Watching Silhouette</td>\n",
       "      <td>ACTOR</td>\n",
       "      <td>Taxi Driver</td>\n",
       "      <td>MOVIE</td>\n",
       "      <td>1976</td>\n",
       "      <td>['drama', 'crime']</td>\n",
       "      <td>8.2</td>\n",
       "      <td>808582.0</td>\n",
       "    </tr>\n",
       "  </tbody>\n",
       "</table>\n",
       "</div>"
      ],
      "text/plain": [
       "              name                      Character   r0le        TITLE   Type  \\\n",
       "0   Robert De Niro                  Travis Bickle  ACTOR  Taxi Driver  MOVIE   \n",
       "1     Jodie Foster                  Iris Steensma  ACTOR  Taxi Driver  MOVIE   \n",
       "2    Albert Brooks                            Tom  ACTOR  Taxi Driver  MOVIE   \n",
       "3    Harvey Keitel        Matthew 'Sport' Higgins  ACTOR  Taxi Driver  MOVIE   \n",
       "4  Cybill Shepherd                          Betsy  ACTOR  Taxi Driver  MOVIE   \n",
       "5      Peter Boyle                         Wizard  ACTOR  Taxi Driver  MOVIE   \n",
       "6   Leonard Harris      Senator Charles Palantine  ACTOR  Taxi Driver  MOVIE   \n",
       "7   Diahnne Abbott                Concession Girl  ACTOR  Taxi Driver  MOVIE   \n",
       "8      Gino Ardito             Policeman at Rally  ACTOR  Taxi Driver  MOVIE   \n",
       "9  Martin Scorsese  Passenger Watching Silhouette  ACTOR  Taxi Driver  MOVIE   \n",
       "\n",
       "   release Year              genres  imdb sc0re  imdb v0tes  \n",
       "0          1976  ['drama', 'crime']         8.2    808582.0  \n",
       "1          1976  ['drama', 'crime']         8.2    808582.0  \n",
       "2          1976  ['drama', 'crime']         8.2    808582.0  \n",
       "3          1976  ['drama', 'crime']         8.2    808582.0  \n",
       "4          1976  ['drama', 'crime']         8.2    808582.0  \n",
       "5          1976  ['drama', 'crime']         8.2    808582.0  \n",
       "6          1976  ['drama', 'crime']         8.2    808582.0  \n",
       "7          1976  ['drama', 'crime']         8.2    808582.0  \n",
       "8          1976  ['drama', 'crime']         8.2    808582.0  \n",
       "9          1976  ['drama', 'crime']         8.2    808582.0  "
      ]
     },
     "execution_count": 4,
     "metadata": {},
     "output_type": "execute_result"
    }
   ],
   "source": [
    "# obtaining the first 10 rows from the df table\n",
    "df.head(10)\n",
    "# hint: you can use head() and tail() in Jupyter Notebook without wrapping them into print()\n"
   ]
  },
  {
   "cell_type": "markdown",
   "id": "e579aa91",
   "metadata": {},
   "source": [
    "Obtain the general information about the table with one command:"
   ]
  },
  {
   "cell_type": "code",
   "execution_count": 5,
   "id": "7bf66d2a",
   "metadata": {},
   "outputs": [
    {
     "name": "stdout",
     "output_type": "stream",
     "text": [
      "<class 'pandas.core.frame.DataFrame'>\n",
      "RangeIndex: 85579 entries, 0 to 85578\n",
      "Data columns (total 9 columns):\n",
      " #   Column        Non-Null Count  Dtype  \n",
      "---  ------        --------------  -----  \n",
      " 0      name       85579 non-null  object \n",
      " 1   Character     85579 non-null  object \n",
      " 2   r0le          85579 non-null  object \n",
      " 3   TITLE         85578 non-null  object \n",
      " 4     Type        85579 non-null  object \n",
      " 5   release Year  85579 non-null  int64  \n",
      " 6   genres        85579 non-null  object \n",
      " 7   imdb sc0re    80970 non-null  float64\n",
      " 8   imdb v0tes    80853 non-null  float64\n",
      "dtypes: float64(2), int64(1), object(6)\n",
      "memory usage: 5.9+ MB\n"
     ]
    }
   ],
   "source": [
    "# obtaining general information about the data in df\n",
    "df.info()\n"
   ]
  },
  {
   "cell_type": "markdown",
   "id": "e91f62a7",
   "metadata": {},
   "source": [
    "The table contains nine columns. The majority store the same data type: object. The only exceptions are `'release Year'` (int64 type), `'imdb sc0re'` (float64 type) and `'imdb v0tes'` (float64 type). Scores and votes will be used in our analysis, so it's important to verify that they are present in the dataframe in the appropriate numeric format. Three columns (`'TITLE'`, `'imdb sc0re'` and `'imdb v0tes'`) have missing values.\n",
    "\n",
    "According to the documentation:\n",
    "- `'name'` — actor/director's name and last name\n",
    "- `'Character'` — character played (for actors)\n",
    "- `'r0le '` — the person's contribution to the title (it can be in the capacity of either actor or director)\n",
    "- `'TITLE '` — title of the movie (show)\n",
    "- `'  Type'` — show or movie\n",
    "- `'release Year'` — year when movie (show) was released\n",
    "- `'genres'` — list of genres under which the movie (show) falls\n",
    "- `'imdb sc0re'` — score on IMDb\n",
    "- `'imdb v0tes'` — votes on IMDb\n",
    "\n",
    "We can see three issues with the column names:\n",
    "1. Some names are uppercase, while others are lowercase.\n",
    "2. There are names containing whitespace.\n",
    "3. A few column names have digit '0' instead of letter 'o'. \n"
   ]
  },
  {
   "cell_type": "markdown",
   "id": "4355de7b",
   "metadata": {},
   "source": [
    "### Conclusions <a id='data_review_conclusions'></a> \n",
    "\n",
    "Each row in the table stores data about a movie or show. The columns can be divided into two categories: the first is about the roles held by different people who worked on the movie or show (role, name of the actor or director, and character if the row is about an actor); the second category is information about the movie or show itself (title, release year, genre, imdb figures).\n",
    "\n",
    "It's clear that there is sufficient data to do the analysis and evaluate our assumption. However, to move forward, we need to preprocess the data."
   ]
  },
  {
   "cell_type": "markdown",
   "id": "b6dc0f31",
   "metadata": {},
   "source": [
    "<div class=\"alert alert-success\">\n",
    "<b>Reviewer's comment v1:</b>\n",
    "    \n",
    "Great data overview and correct conclusions. "
   ]
  },
  {
   "cell_type": "markdown",
   "id": "c5dc9111",
   "metadata": {},
   "source": [
    "## Stage 2. Data preprocessing <a id='data_preprocessing'></a>\n",
    "Correct the formatting in the column headers and deal with the missing values. Then, check whether there are duplicates in the data."
   ]
  },
  {
   "cell_type": "code",
   "execution_count": 6,
   "id": "9c850d13",
   "metadata": {},
   "outputs": [
    {
     "name": "stdout",
     "output_type": "stream",
     "text": [
      "Index(['   name', 'Character', 'r0le', 'TITLE', '  Type', 'release Year',\n",
      "       'genres', 'imdb sc0re', 'imdb v0tes'],\n",
      "      dtype='object')\n"
     ]
    }
   ],
   "source": [
    "# the list of column names in the df table\n",
    "\n",
    "print(df.columns)\n"
   ]
  },
  {
   "cell_type": "markdown",
   "id": "5f966df9",
   "metadata": {},
   "source": [
    "Change the column names according to the rules of good style:\n",
    "* If the name has several words, use snake_case\n",
    "* All characters must be lowercase\n",
    "* Remove whitespace\n",
    "* Replace zero with letter 'o'"
   ]
  },
  {
   "cell_type": "code",
   "execution_count": 7,
   "id": "23a1dc11",
   "metadata": {},
   "outputs": [
    {
     "name": "stdout",
     "output_type": "stream",
     "text": [
      "                     name                character      role        title  \\\n",
      "0          Robert De Niro            Travis Bickle     ACTOR  Taxi Driver   \n",
      "1            Jodie Foster            Iris Steensma     ACTOR  Taxi Driver   \n",
      "2           Albert Brooks                      Tom     ACTOR  Taxi Driver   \n",
      "3           Harvey Keitel  Matthew 'Sport' Higgins     ACTOR  Taxi Driver   \n",
      "4         Cybill Shepherd                    Betsy     ACTOR  Taxi Driver   \n",
      "...                   ...                      ...       ...          ...   \n",
      "85574    Adelaida Buscato               Mar??a Paz     ACTOR      Lokillo   \n",
      "85575  Luz Stella Luengas             Karen Bayona     ACTOR      Lokillo   \n",
      "85576        In??s Prieto                    Fanny     ACTOR      Lokillo   \n",
      "85577        Isabel Gaona                   Cacica     ACTOR      Lokillo   \n",
      "85578      Julian Gaviria                  unknown  DIRECTOR      Lokillo   \n",
      "\n",
      "            type  release_year              genres  imdb_score  imdb_votes  \n",
      "0          MOVIE          1976  ['drama', 'crime']         8.2    808582.0  \n",
      "1          MOVIE          1976  ['drama', 'crime']         8.2    808582.0  \n",
      "2          MOVIE          1976  ['drama', 'crime']         8.2    808582.0  \n",
      "3          MOVIE          1976  ['drama', 'crime']         8.2    808582.0  \n",
      "4          MOVIE          1976  ['drama', 'crime']         8.2    808582.0  \n",
      "...          ...           ...                 ...         ...         ...  \n",
      "85574  the movie          2021          ['comedy']         3.8        68.0  \n",
      "85575  the movie          2021          ['comedy']         3.8        68.0  \n",
      "85576  the movie          2021          ['comedy']         3.8        68.0  \n",
      "85577      MOVIE          2021          ['comedy']         3.8        68.0  \n",
      "85578  the movie          2021          ['comedy']         3.8        68.0  \n",
      "\n",
      "[85579 rows x 9 columns]\n"
     ]
    }
   ],
   "source": [
    "# renaming columns\n",
    "df=df.rename(\n",
    "    columns={\n",
    "        '   name':'name',\n",
    "        'Character':'character',\n",
    "        'r0le':'role',\n",
    "        'TITLE':'title',\n",
    "        '  Type':'type',\n",
    "        'release Year':'release_year',\n",
    "        'imdb sc0re':'imdb_score',\n",
    "        'imdb v0tes':'imdb_votes'\n",
    "           \n",
    "    }\n",
    ")\n",
    "print(df)\n"
   ]
  },
  {
   "cell_type": "markdown",
   "id": "0852844d",
   "metadata": {},
   "source": [
    "<div class=\"alert alert-success\">\n",
    "<b>Reviewer's comment v1:</b>\n",
    "    \n",
    "It is great that you correctly applied `rename` function.  As a second approach `replace` function could be used. "
   ]
  },
  {
   "cell_type": "markdown",
   "id": "464fbd04",
   "metadata": {},
   "source": [
    "Check the result. Print the names of the columns once more:"
   ]
  },
  {
   "cell_type": "code",
   "execution_count": 8,
   "id": "0eb6527f",
   "metadata": {},
   "outputs": [
    {
     "name": "stdout",
     "output_type": "stream",
     "text": [
      "Index(['name', 'character', 'role', 'title', 'type', 'release_year', 'genres',\n",
      "       'imdb_score', 'imdb_votes'],\n",
      "      dtype='object')\n"
     ]
    }
   ],
   "source": [
    "# checking result: the list of column names\n",
    "print(df.columns)\n"
   ]
  },
  {
   "cell_type": "markdown",
   "id": "14d9c319",
   "metadata": {},
   "source": [
    "### Missing values <a id='missing_values'></a>\n",
    "First, find the number of missing values in the table. To do so, combine two `pandas` methods:"
   ]
  },
  {
   "cell_type": "code",
   "execution_count": 9,
   "id": "21c427f2",
   "metadata": {},
   "outputs": [
    {
     "name": "stdout",
     "output_type": "stream",
     "text": [
      "name               0\n",
      "character          0\n",
      "role               0\n",
      "title              1\n",
      "type               0\n",
      "release_year       0\n",
      "genres             0\n",
      "imdb_score      4609\n",
      "imdb_votes      4726\n",
      "dtype: int64\n"
     ]
    }
   ],
   "source": [
    "# calculating missing values\n",
    "print(df.isna().sum())\n"
   ]
  },
  {
   "cell_type": "markdown",
   "id": "707fe3a3",
   "metadata": {},
   "source": [
    "<div class=\"alert alert-success\">\n",
    "<b>Reviewer's comment v1</b>\n",
    "    \n",
    "Great that you selected `isna()` method to find missing values! \n",
    "\n",
    "It is also sometimes helpful to check not only the total amount of missing values in each column but also look at the percentage of missing values. It helps to understand the overall impact. You can check percentage using, for example, this code:\n",
    "\n",
    "`df.isnull().sum()/len(df)`"
   ]
  },
  {
   "cell_type": "markdown",
   "id": "c8272df3",
   "metadata": {},
   "source": [
    "We identified missing values in several columns. While the missing value in `'title'` isn't critical, missing values in `'imdb_score'` and `'imdb_votes'` affect around 6% of the data, which could impact our analysis. To ensure data integrity, we'll drop all rows with missing values."
   ]
  },
  {
   "cell_type": "code",
   "execution_count": 10,
   "id": "599d5550",
   "metadata": {},
   "outputs": [],
   "source": [
    "# dropping rows where columns with scores, and votes have missing values\n",
    "df=df.dropna()"
   ]
  },
  {
   "cell_type": "markdown",
   "id": "2156887f",
   "metadata": {},
   "source": [
    "Make sure the table doesn't contain any more missing values. Count the missing values again."
   ]
  },
  {
   "cell_type": "code",
   "execution_count": 11,
   "id": "55c0b0ce",
   "metadata": {},
   "outputs": [
    {
     "name": "stdout",
     "output_type": "stream",
     "text": [
      "name            0\n",
      "character       0\n",
      "role            0\n",
      "title           0\n",
      "type            0\n",
      "release_year    0\n",
      "genres          0\n",
      "imdb_score      0\n",
      "imdb_votes      0\n",
      "dtype: int64\n"
     ]
    }
   ],
   "source": [
    "# counting missing values\n",
    "print(df.isna().sum())\n"
   ]
  },
  {
   "cell_type": "markdown",
   "id": "971e537a",
   "metadata": {},
   "source": [
    "<div class=\"alert alert-success\">\n",
    "<b>Reviewer's comment v1:</b>\n",
    "    \n",
    "Everything is correct here!"
   ]
  },
  {
   "cell_type": "markdown",
   "id": "a7dc7aa0",
   "metadata": {},
   "source": [
    "### Duplicates <a id='duplicates'></a>\n",
    "Find the number of duplicate rows in the table using one command:"
   ]
  },
  {
   "cell_type": "code",
   "execution_count": 12,
   "id": "9227df01",
   "metadata": {
    "scrolled": true
   },
   "outputs": [
    {
     "name": "stdout",
     "output_type": "stream",
     "text": [
      "6994\n"
     ]
    }
   ],
   "source": [
    "# counting duplicate rows\n",
    "duplicates=df.duplicated()\n",
    "print(duplicates.sum())"
   ]
  },
  {
   "cell_type": "markdown",
   "id": "5f6eb0fc",
   "metadata": {},
   "source": [
    "Review the duplicate rows to determine if removing them would distort our dataset."
   ]
  },
  {
   "cell_type": "code",
   "execution_count": 13,
   "id": "bcf32fcb",
   "metadata": {},
   "outputs": [
    {
     "name": "stdout",
     "output_type": "stream",
     "text": [
      "                      name                 character   role    title   type  \\\n",
      "85569       Jessica Cediel           Liliana Navarro  ACTOR  Lokillo  MOVIE   \n",
      "85570  Javier Gardeaz?­bal  Agust??n \"Peluca\" Ort??z  ACTOR  Lokillo  MOVIE   \n",
      "85571        Carla Giraldo            Valery Reinoso  ACTOR  Lokillo  MOVIE   \n",
      "85572  Ana Mar??a S?­nchez                   Lourdes  ACTOR  Lokillo  MOVIE   \n",
      "85577         Isabel Gaona                    Cacica  ACTOR  Lokillo  MOVIE   \n",
      "\n",
      "       release_year      genres  imdb_score  imdb_votes  \n",
      "85569          2021  ['comedy']         3.8        68.0  \n",
      "85570          2021  ['comedy']         3.8        68.0  \n",
      "85571          2021  ['comedy']         3.8        68.0  \n",
      "85572          2021  ['comedy']         3.8        68.0  \n",
      "85577          2021  ['comedy']         3.8        68.0  \n"
     ]
    }
   ],
   "source": [
    "# Produce table with duplicates (with original rows included) and review last 5 rows\n",
    "duplicates_table=df[duplicates]\n",
    "print(duplicates_table.tail())\n"
   ]
  },
  {
   "cell_type": "markdown",
   "id": "a1ed6640",
   "metadata": {},
   "source": [
    "There are two clear duplicates in the printed rows. We can safely remove them.\n",
    "Call the `pandas` method for getting rid of duplicate rows:"
   ]
  },
  {
   "cell_type": "code",
   "execution_count": 27,
   "id": "724d5bc8",
   "metadata": {},
   "outputs": [
    {
     "name": "stdout",
     "output_type": "stream",
     "text": [
      "   index             name                      character   role        title  \\\n",
      "0      0   Robert De Niro                  Travis Bickle  ACTOR  Taxi Driver   \n",
      "1      1     Jodie Foster                  Iris Steensma  ACTOR  Taxi Driver   \n",
      "2      2    Albert Brooks                            Tom  ACTOR  Taxi Driver   \n",
      "3      3    Harvey Keitel        Matthew 'Sport' Higgins  ACTOR  Taxi Driver   \n",
      "4      4  Cybill Shepherd                          Betsy  ACTOR  Taxi Driver   \n",
      "5      5      Peter Boyle                         Wizard  ACTOR  Taxi Driver   \n",
      "6      6   Leonard Harris      Senator Charles Palantine  ACTOR  Taxi Driver   \n",
      "7      7   Diahnne Abbott                Concession Girl  ACTOR  Taxi Driver   \n",
      "8      8      Gino Ardito             Policeman at Rally  ACTOR  Taxi Driver   \n",
      "9      9  Martin Scorsese  Passenger Watching Silhouette  ACTOR  Taxi Driver   \n",
      "\n",
      "    type  release_year              genres  imdb_score  imdb_votes  \n",
      "0  MOVIE          1976  ['drama', 'crime']         8.2    808582.0  \n",
      "1  MOVIE          1976  ['drama', 'crime']         8.2    808582.0  \n",
      "2  MOVIE          1976  ['drama', 'crime']         8.2    808582.0  \n",
      "3  MOVIE          1976  ['drama', 'crime']         8.2    808582.0  \n",
      "4  MOVIE          1976  ['drama', 'crime']         8.2    808582.0  \n",
      "5  MOVIE          1976  ['drama', 'crime']         8.2    808582.0  \n",
      "6  MOVIE          1976  ['drama', 'crime']         8.2    808582.0  \n",
      "7  MOVIE          1976  ['drama', 'crime']         8.2    808582.0  \n",
      "8  MOVIE          1976  ['drama', 'crime']         8.2    808582.0  \n",
      "9  MOVIE          1976  ['drama', 'crime']         8.2    808582.0  \n"
     ]
    }
   ],
   "source": [
    "# removing duplicate rows\n",
    "df= df.drop_duplicates().reset_index(drop=True)\n",
    "print(df.head(10))\n",
    "\n"
   ]
  },
  {
   "cell_type": "markdown",
   "id": "347790e7",
   "metadata": {},
   "source": [
    "<div class=\"alert alert-warning\">\n",
    "<b>Reviewer's comment v1</b>\n",
    "    \n",
    "Note that it is also required additionally to re-create the indexes in your dataframe. To achieve that, you can use `reset_index()`.\n",
    "    \n",
    "Without that, the index column will not be ordinal anymore, as `drop_duplicates()` deleted some lines, hence the dataframe becomes less informative.\n",
    "    \n",
    "    \n",
    "You can read about it here: https://pandas.pydata.org/docs/reference/api/pandas.DataFrame.reset_index.html\n",
    "    \n",
    "And parameter `drop=True` could be helpful to rewrite existent index instead of creating a second ordinal column.\n"
   ]
  },
  {
   "cell_type": "markdown",
   "id": "fc8c77ba",
   "metadata": {},
   "source": [
    "Check for duplicate rows once more to make sure you have removed all of them:"
   ]
  },
  {
   "cell_type": "code",
   "execution_count": 28,
   "id": "8091a9bc",
   "metadata": {},
   "outputs": [
    {
     "name": "stdout",
     "output_type": "stream",
     "text": [
      "0\n"
     ]
    }
   ],
   "source": [
    "# checking for duplicates\n",
    "duplicate=df.duplicated()\n",
    "print(duplicate.sum())\n"
   ]
  },
  {
   "cell_type": "markdown",
   "id": "1d802b07",
   "metadata": {},
   "source": [
    "Now get rid of implicit duplicates in the `'type'` column. For example, the string `'SHOW'` can be written in different ways. These kinds of errors will also affect the result."
   ]
  },
  {
   "cell_type": "markdown",
   "id": "d5f987ed",
   "metadata": {},
   "source": [
    "Print a list of unique `'type'` names, sorted in alphabetical order. To do so:\n",
    "* Retrieve the intended dataframe column \n",
    "* Apply a sorting method to it\n",
    "* For the sorted column, call the method that will return all unique column values"
   ]
  },
  {
   "cell_type": "code",
   "execution_count": 29,
   "id": "3d7b0ac5",
   "metadata": {},
   "outputs": [
    {
     "name": "stdout",
     "output_type": "stream",
     "text": [
      "['MOVIE' 'the movie' 'show' 'movies']\n"
     ]
    }
   ],
   "source": [
    "# viewing unique type names\n",
    "print(df['type'].unique())\n"
   ]
  },
  {
   "cell_type": "markdown",
   "id": "ac6e8b18",
   "metadata": {},
   "source": [
    "Look through the list to find implicit duplicates of `'show'` (`'movie'` duplicates will be ignored since the assumption is about shows). These could be names written incorrectly or alternative names of the same genre.\n",
    "\n",
    "You will see the following implicit duplicates:\n",
    "* `'shows'`\n",
    "* `'SHOW'`\n",
    "* `'tv show'`\n",
    "* `'tv shows'`\n",
    "* `'tv series'`\n",
    "* `'tv'`\n",
    "\n",
    "To get rid of them, declare the function `replace_wrong_show()` with two parameters: \n",
    "* `wrong_shows_list=` — the list of duplicates\n",
    "* `correct_show=` — the string with the correct value\n",
    "\n",
    "The function should correct the names in the `'type'` column from the `df` table (i.e., replace each value from the `wrong_shows_list` list with the value in `correct_show`)."
   ]
  },
  {
   "cell_type": "code",
   "execution_count": 30,
   "id": "bff944f9",
   "metadata": {},
   "outputs": [],
   "source": [
    "# function for replacing implicit duplicates\n",
    "def replace_wrong_show(wrong_shows_list, correct_show):\n",
    "    df['type']=df['type'].replace(wrong_shows_list, correct_show)\n",
    "\n",
    "wrong_shows_list=['shows','SHOW','tv show','tv shows','tv series','tv']\n",
    "correct_show='show'\n"
   ]
  },
  {
   "cell_type": "markdown",
   "id": "d02d13a6",
   "metadata": {},
   "source": [
    "Call `replace_wrong_show()` and pass it arguments so that it clears implicit duplicates and replaces them with `SHOW`:"
   ]
  },
  {
   "cell_type": "code",
   "execution_count": 31,
   "id": "a2217e53",
   "metadata": {},
   "outputs": [],
   "source": [
    "# removing implicit duplicates\n",
    "replace_wrong_show(wrong_shows_list, correct_show)"
   ]
  },
  {
   "cell_type": "markdown",
   "id": "318b09f7",
   "metadata": {},
   "source": [
    "Make sure the duplicate names are removed. Print the list of unique values from the `'type'` column:"
   ]
  },
  {
   "cell_type": "code",
   "execution_count": 32,
   "id": "25d49d73",
   "metadata": {},
   "outputs": [
    {
     "name": "stdout",
     "output_type": "stream",
     "text": [
      "['MOVIE' 'the movie' 'show' 'movies']\n"
     ]
    }
   ],
   "source": [
    "# viewing unique genre names\n",
    "print(df['type'].unique())\n"
   ]
  },
  {
   "cell_type": "markdown",
   "id": "7b29589e",
   "metadata": {},
   "source": [
    "<div class=\"alert alert-success\">\n",
    "<b>Reviewer's comment v1</b>\n",
    "    \n",
    "Your function works perfectly fine.\n",
    "    \n",
    "Btw you can also just pass values in your function:\n",
    "    \n",
    "`replace_wrong_genres(['tv show','shows','movies','tv shows','tv series'], 'SHOW')`\n",
    "    "
   ]
  },
  {
   "cell_type": "markdown",
   "id": "18b2049e",
   "metadata": {},
   "source": [
    "### Conclusions <a id='data_preprocessing_conclusions'></a>\n",
    "We detected three issues with the data:\n",
    "\n",
    "- Incorrect header styles\n",
    "- Missing values\n",
    "- Duplicate rows and implicit duplicates\n",
    "\n",
    "The headers have been cleaned up to make processing the table simpler.\n",
    "\n",
    "All rows with missing values have been removed. \n",
    "\n",
    "The absence of duplicates will make the results more precise and easier to understand.\n",
    "\n",
    "Now we can move on to our analysis of the prepared data."
   ]
  },
  {
   "cell_type": "markdown",
   "id": "1aa0f1b1",
   "metadata": {},
   "source": [
    "## Stage 3. Data analysis <a id='hypotheses'></a>"
   ]
  },
  {
   "cell_type": "markdown",
   "id": "f8fb6a0e",
   "metadata": {},
   "source": [
    "Based on the previous project stages, you can now define how the assumption will be checked. Calculate the average amount of votes for each score (this data is available in the `imdb_score` and `imdb_votes` columns), and then check how these averages relate to each other. If the averages for shows with the highest scores are bigger than those for shows with lower scores, the assumption appears to be true.\n",
    "\n",
    "Based on this, complete the following steps:\n",
    "\n",
    "- Filter the dataframe to only include shows released in 1999 or later.\n",
    "- Group scores into buckets by rounding the values of the appropriate column (a set of 1-10 integers will help us make the outcome of our calculations more evident without damaging the quality of our research).\n",
    "- Identify outliers among scores based on their number of votes, and exclude scores with few votes.\n",
    "- Calculate the average votes for each score and check whether the assumption matches the results."
   ]
  },
  {
   "cell_type": "markdown",
   "id": "0ea2cb51",
   "metadata": {},
   "source": [
    "To filter the dataframe and only include shows released in 1999 or later, you will take two steps. First, keep only titles published in 1999 or later in our dataframe. Then, filter the table to only contain shows (movies will be removed)."
   ]
  },
  {
   "cell_type": "code",
   "execution_count": 33,
   "id": "6a704aa1",
   "metadata": {},
   "outputs": [],
   "source": [
    "# using conditional indexing modify df so it has only titles released after 1999 (with 1999 included)\n",
    "# give the slice of dataframe new name\n",
    "period_df=df[df['release_year']>=1999]\n"
   ]
  },
  {
   "cell_type": "code",
   "execution_count": 34,
   "id": "128dc6a9",
   "metadata": {
    "scrolled": true
   },
   "outputs": [],
   "source": [
    "# repeat conditional indexing so df has only shows (movies are removed as result)\n",
    "period_df=period_df[period_df['type']=='show']\n"
   ]
  },
  {
   "cell_type": "markdown",
   "id": "3e85efe8",
   "metadata": {},
   "source": [
    "<div class=\"alert alert-danger\">\n",
    "<b>Reviewer's comment v1</b>\n",
    "    \n",
    "Here, you need to filter based on the results of the previous step, so please use the `period_df` dataframe.\n",
    "\n",
    "Could you please update that?\n",
    "\n",
    " "
   ]
  },
  {
   "cell_type": "markdown",
   "id": "fc69e70a",
   "metadata": {},
   "source": [
    "<div class=\"alert alert-success\">\n",
    "<b>Reviewer's comment v2</b>\n",
    "\n",
    "You've filterd the data required data correctly. \n",
    "\n",
    "\n",
    "Additionally there are other methods that could be helpful to filter your data, for example:`query()`.\n",
    "\n",
    "    \n",
    "`df = df.query('type == \"SHOW\"')`\n",
    "    \n",
    "You can read about them additionally here: \n",
    "https://towardsdatascience.com/10-examples-that-will-make-you-use-pandas-query-function-more-often-a8fb3e9361cb\n",
    "https://towardsdatascience.com/how-to-use-loc-and-iloc-for-selecting-data-in-pandas-bd09cb4c3d79    \n"
   ]
  },
  {
   "cell_type": "markdown",
   "id": "9648040c",
   "metadata": {},
   "source": [
    "The scores that are to be grouped should be rounded. For instance, titles with scores like 7.8, 8.1, and 8.3 will all be placed in the same bucket with a score of 8."
   ]
  },
  {
   "cell_type": "code",
   "execution_count": 35,
   "id": "54bbd5c0",
   "metadata": {},
   "outputs": [
    {
     "name": "stdout",
     "output_type": "stream",
     "text": [
      "       index                 name character      role      title  type  \\\n",
      "73831  85433     Maneerat Kam-Uan        Ae     ACTOR  Let's Eat  show   \n",
      "73832  85434    Rudklao Amratisha   unknown     ACTOR  Let's Eat  show   \n",
      "73833  85435      Jaturong Mokjok   unknown     ACTOR  Let's Eat  show   \n",
      "73834  85436     Pisamai Wilaisak   unknown     ACTOR  Let's Eat  show   \n",
      "73835  85437  Sarawut Wichiensarn   unknown  DIRECTOR  Let's Eat  show   \n",
      "\n",
      "       release_year               genres  imdb_score  imdb_votes  \n",
      "73831          2021  ['drama', 'comedy']         8.0         5.0  \n",
      "73832          2021  ['drama', 'comedy']         8.0         5.0  \n",
      "73833          2021  ['drama', 'comedy']         8.0         5.0  \n",
      "73834          2021  ['drama', 'comedy']         8.0         5.0  \n",
      "73835          2021  ['drama', 'comedy']         8.0         5.0  \n"
     ]
    }
   ],
   "source": [
    "# rounding column with scores\n",
    "period_df.loc[:,'imdb_score']=period_df['imdb_score'].round()\n",
    "\n",
    "#checking the outcome with tail()\n",
    "print(period_df.tail())\n"
   ]
  },
  {
   "cell_type": "markdown",
   "id": "36dbd00a",
   "metadata": {},
   "source": [
    "It is now time to identify outliers based on the number of votes."
   ]
  },
  {
   "cell_type": "code",
   "execution_count": 37,
   "id": "b8b55e95",
   "metadata": {},
   "outputs": [
    {
     "data": {
      "text/plain": [
       "imdb_score\n",
       "2.0       24\n",
       "3.0       27\n",
       "4.0      180\n",
       "5.0      592\n",
       "6.0     2494\n",
       "7.0     4706\n",
       "8.0     4842\n",
       "9.0      557\n",
       "10.0       8\n",
       "Name: name, dtype: int64"
      ]
     },
     "execution_count": 37,
     "metadata": {},
     "output_type": "execute_result"
    }
   ],
   "source": [
    "# Use groupby() for scores and count all unique values in each group, print the result\n",
    "df_grouped = period_df.groupby('imdb_score')['name'].count()\n",
    "df_grouped\n"
   ]
  },
  {
   "cell_type": "markdown",
   "id": "06832bd5",
   "metadata": {},
   "source": [
    "<div class=\"alert alert-danger\">\n",
    "<b>Reviewer's comment v1</b>\n",
    "\n",
    "You are grouping by the `imdb_score` column and counting all other columns (such as name, character, role, etc.). Since each row corresponds to a unique show and there are no missing values in those columns, the result shows identical counts across all columns. This redundancy makes the output appear cluttered.\n",
    "\n",
    "To reduce this redundancy and make the output cleaner, you could modify the code to count only one relevant column, such as `name` (which typically represents the unique shows).\n",
    "    \n",
    "    \n",
    "```\n",
    "df_grouped = period_df.groupby('imdb_score')['name'].count()\n",
    "df_grouped\n",
    "```\n",
    "    "
   ]
  },
  {
   "cell_type": "markdown",
   "id": "277ad957",
   "metadata": {},
   "source": [
    "<div class=\"alert alert-success\">\n",
    "<b>Reviewer's comment v2</b>\n",
    "\n",
    "Everything is correct here. "
   ]
  },
  {
   "cell_type": "markdown",
   "id": "1ba6daae",
   "metadata": {},
   "source": [
    "Based on the aggregation performed, it is evident that scores 2 (24 voted shows), 3 (27 voted shows), and 10 (only 8 voted shows) are outliers. There isn't enough data for these scores for the average number of votes to be meaningful."
   ]
  },
  {
   "cell_type": "markdown",
   "id": "bd468c46",
   "metadata": {},
   "source": [
    "To obtain the mean numbers of votes for the selected scores (we identified a range of 4-9 as acceptable), use conditional filtering and grouping."
   ]
  },
  {
   "cell_type": "code",
   "execution_count": 38,
   "id": "d1867e0e",
   "metadata": {},
   "outputs": [
    {
     "name": "stdout",
     "output_type": "stream",
     "text": [
      "   imdb_score     imdb_votes\n",
      "0         4.0    5277.583333\n",
      "1         5.0    3143.942568\n",
      "2         6.0    3481.717322\n",
      "3         7.0    8727.068211\n",
      "4         8.0   30299.460967\n",
      "5         9.0  126904.109515\n"
     ]
    }
   ],
   "source": [
    "# filter dataframe using two conditions (scores to be in the range 4-9)\n",
    "flt_df=period_df[(period_df['imdb_score']>=4)&(period_df['imdb_score']<=9)]\n",
    "\n",
    "# group scores and corresponding average number of votes, reset index and print the result\n",
    "result=flt_df.groupby('imdb_score')['imdb_votes'].mean().reset_index()\n",
    "print(result)\n"
   ]
  },
  {
   "cell_type": "markdown",
   "id": "96a66d14",
   "metadata": {},
   "source": [
    "Now for the final step! Round the column with the averages, rename both columns, and print the dataframe in descending order."
   ]
  },
  {
   "cell_type": "code",
   "execution_count": 39,
   "id": "5999051b",
   "metadata": {},
   "outputs": [
    {
     "name": "stdout",
     "output_type": "stream",
     "text": [
      "   imdb_score  imdb_votes\n",
      "0         4.0      5278.0\n",
      "1         5.0      3144.0\n",
      "2         6.0      3482.0\n",
      "3         7.0      8727.0\n",
      "4         8.0     30299.0\n",
      "5         9.0    126904.0\n",
      "   score  average_votes\n",
      "5    9.0       126904.0\n",
      "4    8.0        30299.0\n",
      "3    7.0         8727.0\n",
      "0    4.0         5278.0\n",
      "2    6.0         3482.0\n",
      "1    5.0         3144.0\n"
     ]
    }
   ],
   "source": [
    "# round column with averages\n",
    "result['imdb_votes']=result['imdb_votes'].round()\n",
    "print(result)\n",
    "\n",
    "# rename columns\n",
    "result.columns=['score','average_votes']\n",
    "\n",
    "\n",
    "# print dataframe in descending order\n",
    "result_sorted=result.sort_values(by='average_votes',ascending=False)\n",
    "\n",
    "print(result_sorted)\n"
   ]
  },
  {
   "cell_type": "markdown",
   "id": "af07386d",
   "metadata": {},
   "source": [
    "The assumption macthes the analysis: the shows with the top 3 scores have the most amounts of votes."
   ]
  },
  {
   "cell_type": "markdown",
   "id": "79358d4b",
   "metadata": {},
   "source": [
    "<div class=\"alert alert-success\">\n",
    "<b>Reviewer's comment v2</b>\n",
    "\n",
    "Everything is correct here. "
   ]
  },
  {
   "cell_type": "markdown",
   "id": "84e29a37",
   "metadata": {},
   "source": [
    "## Conclusion <a id='hypotheses'></a>"
   ]
  },
  {
   "cell_type": "markdown",
   "id": "984766a3",
   "metadata": {},
   "source": [
    "The research done confirms that highly-rated shows released during the \"Golden Age\" of television also have the most votes. While shows with score 4 have more votes than ones with scores 5 and 6, the top three (scores 7-9) have the largest number. The data studied represents around 94% of the original set, so we can be confident in our findings."
   ]
  },
  {
   "cell_type": "markdown",
   "id": "ed7adaeb",
   "metadata": {},
   "source": [
    "<div class=\"alert alert-success\">\n",
    "<b>Reviewer's comment v2:</b>\n",
    " \n",
    "Overall you did a great research.\n",
    "    \n",
    "A small tip regarding overall conclusion in the project: \n",
    "    It represents the overall work progress that you achieved. On a real project, this is probably the only thing the business will read. Therefore, it is crucial to indicate in a structured way all conclusions that you made on each step in the project.\n",
    "\n",
    "For example:\n",
    "\n",
    "- Replaced missing values in the following data with the following method.\n",
    "- Replaced data types in the following columns.\n",
    "- etc.\n",
    "- We observe that ... factors impact ... \n",
    "- My analysis show ...\n",
    "- I can recommend the following next steps / activities ...\n",
    "\n",
    "It is also important to provide explanations and interpretations that will be interesting for business based on your analysis.\n"
   ]
  }
 ],
 "metadata": {
  "ExecuteTimeLog": [
   {
    "duration": 289,
    "start_time": "2024-09-28T00:46:59.392Z"
   },
   {
    "duration": 178,
    "start_time": "2024-09-28T00:50:52.168Z"
   },
   {
    "duration": 11,
    "start_time": "2024-09-28T00:51:39.669Z"
   },
   {
    "duration": 12,
    "start_time": "2024-09-28T00:51:52.296Z"
   },
   {
    "duration": 22,
    "start_time": "2024-09-28T00:52:19.591Z"
   },
   {
    "duration": 358,
    "start_time": "2024-09-28T00:52:47.305Z"
   },
   {
    "duration": 58,
    "start_time": "2024-09-28T00:53:12.176Z"
   },
   {
    "duration": 142,
    "start_time": "2024-09-28T01:05:47.017Z"
   },
   {
    "duration": 13,
    "start_time": "2024-09-28T01:06:37.890Z"
   },
   {
    "duration": 30,
    "start_time": "2024-09-28T01:13:33.359Z"
   },
   {
    "duration": 3,
    "start_time": "2024-09-28T01:40:46.546Z"
   },
   {
    "duration": 4,
    "start_time": "2024-09-28T01:41:01.068Z"
   },
   {
    "duration": 3,
    "start_time": "2024-09-28T01:41:24.790Z"
   },
   {
    "duration": 14,
    "start_time": "2024-09-28T02:03:27.227Z"
   },
   {
    "duration": 12,
    "start_time": "2024-09-28T02:03:57.891Z"
   },
   {
    "duration": 3,
    "start_time": "2024-09-28T02:04:59.567Z"
   },
   {
    "duration": 18,
    "start_time": "2024-09-28T02:27:32.085Z"
   },
   {
    "duration": 12,
    "start_time": "2024-09-28T02:40:25.793Z"
   },
   {
    "duration": 165,
    "start_time": "2024-09-28T02:40:37.978Z"
   },
   {
    "duration": 34,
    "start_time": "2024-09-28T02:41:01.663Z"
   },
   {
    "duration": 17,
    "start_time": "2024-09-28T02:41:35.138Z"
   },
   {
    "duration": 67,
    "start_time": "2024-09-28T03:34:23.586Z"
   },
   {
    "duration": 41,
    "start_time": "2024-09-28T03:35:55.871Z"
   },
   {
    "duration": 4,
    "start_time": "2024-09-28T03:39:12.026Z"
   },
   {
    "duration": 7,
    "start_time": "2024-09-28T03:39:31.992Z"
   },
   {
    "duration": 50,
    "start_time": "2024-09-28T03:44:37.584Z"
   },
   {
    "duration": 51,
    "start_time": "2024-09-28T03:45:00.334Z"
   },
   {
    "duration": 40,
    "start_time": "2024-09-28T03:46:08.304Z"
   },
   {
    "duration": 51,
    "start_time": "2024-09-28T03:46:56.580Z"
   },
   {
    "duration": 39,
    "start_time": "2024-09-28T03:47:00.858Z"
   },
   {
    "duration": 152,
    "start_time": "2024-09-28T05:37:06.977Z"
   },
   {
    "duration": 14,
    "start_time": "2024-09-28T05:37:57.882Z"
   },
   {
    "duration": 13,
    "start_time": "2024-09-28T05:38:36.493Z"
   },
   {
    "duration": 11,
    "start_time": "2024-09-28T05:39:01.416Z"
   },
   {
    "duration": 10,
    "start_time": "2024-09-28T05:39:46.840Z"
   },
   {
    "duration": 2,
    "start_time": "2024-09-28T05:40:28.339Z"
   },
   {
    "duration": 320,
    "start_time": "2024-09-28T05:41:34.659Z"
   },
   {
    "duration": 140,
    "start_time": "2024-09-28T05:41:34.981Z"
   },
   {
    "duration": 18,
    "start_time": "2024-09-28T05:41:35.123Z"
   },
   {
    "duration": 23,
    "start_time": "2024-09-28T05:41:35.144Z"
   },
   {
    "duration": 2,
    "start_time": "2024-09-28T05:41:35.169Z"
   },
   {
    "duration": 11,
    "start_time": "2024-09-28T05:41:35.173Z"
   },
   {
    "duration": 3,
    "start_time": "2024-09-28T05:41:35.186Z"
   },
   {
    "duration": 49,
    "start_time": "2024-09-28T05:41:35.191Z"
   },
   {
    "duration": 24,
    "start_time": "2024-09-28T05:41:35.242Z"
   },
   {
    "duration": 17,
    "start_time": "2024-09-28T05:41:35.269Z"
   },
   {
    "duration": 54,
    "start_time": "2024-09-28T05:41:35.287Z"
   },
   {
    "duration": 7,
    "start_time": "2024-09-28T05:41:35.343Z"
   },
   {
    "duration": 45,
    "start_time": "2024-09-28T05:41:35.351Z"
   },
   {
    "duration": 58,
    "start_time": "2024-09-28T05:41:35.397Z"
   },
   {
    "duration": 4,
    "start_time": "2024-09-28T05:41:35.457Z"
   },
   {
    "duration": 1,
    "start_time": "2024-09-28T05:41:35.464Z"
   },
   {
    "duration": 3,
    "start_time": "2024-09-28T05:41:35.467Z"
   },
   {
    "duration": 2,
    "start_time": "2024-09-28T05:41:35.471Z"
   },
   {
    "duration": 2,
    "start_time": "2024-09-28T05:41:35.475Z"
   },
   {
    "duration": 3,
    "start_time": "2024-09-28T05:41:35.479Z"
   },
   {
    "duration": 3,
    "start_time": "2024-09-28T05:41:35.485Z"
   },
   {
    "duration": 3,
    "start_time": "2024-09-28T05:41:35.489Z"
   },
   {
    "duration": 38,
    "start_time": "2024-09-28T05:41:35.494Z"
   },
   {
    "duration": 3,
    "start_time": "2024-09-28T05:41:35.533Z"
   },
   {
    "duration": 15,
    "start_time": "2024-09-28T05:55:13.722Z"
   },
   {
    "duration": 3,
    "start_time": "2024-09-28T05:56:16.718Z"
   },
   {
    "duration": 13,
    "start_time": "2024-09-28T05:56:23.768Z"
   },
   {
    "duration": 5,
    "start_time": "2024-09-28T05:56:55.622Z"
   },
   {
    "duration": 182,
    "start_time": "2024-09-28T06:17:30.323Z"
   },
   {
    "duration": 12,
    "start_time": "2024-09-28T06:17:37.327Z"
   },
   {
    "duration": 8,
    "start_time": "2024-09-28T06:18:29.320Z"
   },
   {
    "duration": 6,
    "start_time": "2024-09-28T06:19:15.863Z"
   },
   {
    "duration": 9,
    "start_time": "2024-09-28T06:19:21.979Z"
   },
   {
    "duration": 8,
    "start_time": "2024-09-28T06:24:06.214Z"
   },
   {
    "duration": 7,
    "start_time": "2024-09-28T06:26:48.684Z"
   },
   {
    "duration": 7,
    "start_time": "2024-09-28T06:26:53.242Z"
   },
   {
    "duration": 10,
    "start_time": "2024-09-28T06:30:26.745Z"
   },
   {
    "duration": 15,
    "start_time": "2024-09-28T06:46:24.296Z"
   },
   {
    "duration": 10,
    "start_time": "2024-09-28T06:46:53.904Z"
   },
   {
    "duration": 4,
    "start_time": "2024-09-28T06:54:47.300Z"
   },
   {
    "duration": 8,
    "start_time": "2024-09-28T06:57:28.220Z"
   },
   {
    "duration": 16,
    "start_time": "2024-09-28T07:02:28.313Z"
   },
   {
    "duration": 387,
    "start_time": "2024-09-28T07:06:11.603Z"
   },
   {
    "duration": 39,
    "start_time": "2024-09-28T07:07:27.136Z"
   },
   {
    "duration": 10,
    "start_time": "2024-09-28T07:07:50.363Z"
   },
   {
    "duration": 7,
    "start_time": "2024-09-28T07:08:05.629Z"
   },
   {
    "duration": 271,
    "start_time": "2024-09-28T09:15:36.407Z"
   },
   {
    "duration": 136,
    "start_time": "2024-09-28T09:15:36.681Z"
   },
   {
    "duration": 15,
    "start_time": "2024-09-28T09:15:36.819Z"
   },
   {
    "duration": 27,
    "start_time": "2024-09-28T09:15:36.836Z"
   },
   {
    "duration": 2,
    "start_time": "2024-09-28T09:15:36.865Z"
   },
   {
    "duration": 10,
    "start_time": "2024-09-28T09:15:36.869Z"
   },
   {
    "duration": 3,
    "start_time": "2024-09-28T09:15:36.880Z"
   },
   {
    "duration": 53,
    "start_time": "2024-09-28T09:15:36.885Z"
   },
   {
    "duration": 25,
    "start_time": "2024-09-28T09:15:36.939Z"
   },
   {
    "duration": 16,
    "start_time": "2024-09-28T09:15:36.966Z"
   },
   {
    "duration": 56,
    "start_time": "2024-09-28T09:15:36.984Z"
   },
   {
    "duration": 7,
    "start_time": "2024-09-28T09:15:37.042Z"
   },
   {
    "duration": 45,
    "start_time": "2024-09-28T09:15:37.051Z"
   },
   {
    "duration": 53,
    "start_time": "2024-09-28T09:15:37.098Z"
   },
   {
    "duration": 4,
    "start_time": "2024-09-28T09:15:37.153Z"
   },
   {
    "duration": 3,
    "start_time": "2024-09-28T09:15:37.159Z"
   },
   {
    "duration": 13,
    "start_time": "2024-09-28T09:15:37.164Z"
   },
   {
    "duration": 6,
    "start_time": "2024-09-28T09:15:37.178Z"
   },
   {
    "duration": 40,
    "start_time": "2024-09-28T09:15:37.185Z"
   },
   {
    "duration": 8,
    "start_time": "2024-09-28T09:15:37.226Z"
   },
   {
    "duration": 8,
    "start_time": "2024-09-28T09:15:37.235Z"
   },
   {
    "duration": 9,
    "start_time": "2024-09-28T09:15:37.245Z"
   },
   {
    "duration": 7,
    "start_time": "2024-09-28T09:15:37.256Z"
   },
   {
    "duration": 7,
    "start_time": "2024-09-28T09:15:37.265Z"
   },
   {
    "duration": 276,
    "start_time": "2024-09-28T09:27:44.616Z"
   },
   {
    "duration": 118,
    "start_time": "2024-09-28T09:27:44.894Z"
   },
   {
    "duration": 16,
    "start_time": "2024-09-28T09:27:45.013Z"
   },
   {
    "duration": 23,
    "start_time": "2024-09-28T09:27:45.031Z"
   },
   {
    "duration": 3,
    "start_time": "2024-09-28T09:27:45.056Z"
   },
   {
    "duration": 9,
    "start_time": "2024-09-28T09:27:45.061Z"
   },
   {
    "duration": 2,
    "start_time": "2024-09-28T09:27:45.072Z"
   },
   {
    "duration": 50,
    "start_time": "2024-09-28T09:27:45.076Z"
   },
   {
    "duration": 25,
    "start_time": "2024-09-28T09:27:45.128Z"
   },
   {
    "duration": 16,
    "start_time": "2024-09-28T09:27:45.154Z"
   },
   {
    "duration": 55,
    "start_time": "2024-09-28T09:27:45.172Z"
   },
   {
    "duration": 7,
    "start_time": "2024-09-28T09:27:45.228Z"
   },
   {
    "duration": 45,
    "start_time": "2024-09-28T09:27:45.237Z"
   },
   {
    "duration": 57,
    "start_time": "2024-09-28T09:27:45.285Z"
   },
   {
    "duration": 5,
    "start_time": "2024-09-28T09:27:45.343Z"
   },
   {
    "duration": 3,
    "start_time": "2024-09-28T09:27:45.350Z"
   },
   {
    "duration": 13,
    "start_time": "2024-09-28T09:27:45.355Z"
   },
   {
    "duration": 5,
    "start_time": "2024-09-28T09:27:45.370Z"
   },
   {
    "duration": 8,
    "start_time": "2024-09-28T09:27:45.376Z"
   },
   {
    "duration": 41,
    "start_time": "2024-09-28T09:27:45.385Z"
   },
   {
    "duration": 7,
    "start_time": "2024-09-28T09:27:45.427Z"
   },
   {
    "duration": 9,
    "start_time": "2024-09-28T09:27:45.436Z"
   },
   {
    "duration": 10,
    "start_time": "2024-09-28T09:27:45.446Z"
   },
   {
    "duration": 7,
    "start_time": "2024-09-28T09:27:45.458Z"
   },
   {
    "duration": 216,
    "start_time": "2024-10-01T19:56:03.629Z"
   },
   {
    "duration": 335,
    "start_time": "2024-10-01T19:56:50.698Z"
   },
   {
    "duration": 197,
    "start_time": "2024-10-01T19:56:51.035Z"
   },
   {
    "duration": 14,
    "start_time": "2024-10-01T19:56:51.233Z"
   },
   {
    "duration": 31,
    "start_time": "2024-10-01T19:56:51.249Z"
   },
   {
    "duration": 12,
    "start_time": "2024-10-01T19:56:51.292Z"
   },
   {
    "duration": 11,
    "start_time": "2024-10-01T19:56:51.305Z"
   },
   {
    "duration": 7,
    "start_time": "2024-10-01T19:56:51.319Z"
   },
   {
    "duration": 24,
    "start_time": "2024-10-01T19:56:51.328Z"
   },
   {
    "duration": 35,
    "start_time": "2024-10-01T19:56:51.354Z"
   },
   {
    "duration": 36,
    "start_time": "2024-10-01T19:56:51.394Z"
   },
   {
    "duration": 60,
    "start_time": "2024-10-01T19:56:51.433Z"
   },
   {
    "duration": 22,
    "start_time": "2024-10-01T19:56:51.495Z"
   },
   {
    "duration": 62,
    "start_time": "2024-10-01T19:56:51.519Z"
   },
   {
    "duration": 84,
    "start_time": "2024-10-01T19:56:51.585Z"
   },
   {
    "duration": 21,
    "start_time": "2024-10-01T19:56:51.684Z"
   },
   {
    "duration": 8,
    "start_time": "2024-10-01T19:56:51.718Z"
   },
   {
    "duration": 17,
    "start_time": "2024-10-01T19:56:51.727Z"
   },
   {
    "duration": 5,
    "start_time": "2024-10-01T19:56:51.745Z"
   },
   {
    "duration": 7,
    "start_time": "2024-10-01T19:56:51.752Z"
   },
   {
    "duration": 12,
    "start_time": "2024-10-01T19:56:51.761Z"
   },
   {
    "duration": 22,
    "start_time": "2024-10-01T19:56:51.775Z"
   },
   {
    "duration": 18,
    "start_time": "2024-10-01T19:56:51.808Z"
   },
   {
    "duration": 12,
    "start_time": "2024-10-01T19:56:51.828Z"
   },
   {
    "duration": 8,
    "start_time": "2024-10-01T19:56:51.841Z"
   },
   {
    "duration": 51,
    "start_time": "2024-10-01T19:57:59.690Z"
   },
   {
    "duration": 74,
    "start_time": "2024-10-01T20:00:14.332Z"
   },
   {
    "duration": 44,
    "start_time": "2024-10-01T20:00:24.846Z"
   },
   {
    "duration": 8,
    "start_time": "2024-10-01T20:00:34.110Z"
   },
   {
    "duration": 6,
    "start_time": "2024-10-01T20:01:58.295Z"
   },
   {
    "duration": 18,
    "start_time": "2024-10-01T20:02:03.332Z"
   },
   {
    "duration": 5,
    "start_time": "2024-10-01T20:02:15.453Z"
   },
   {
    "duration": 9,
    "start_time": "2024-10-01T20:03:18.298Z"
   },
   {
    "duration": 12,
    "start_time": "2024-10-01T20:03:20.672Z"
   },
   {
    "duration": 9,
    "start_time": "2024-10-01T20:03:30.704Z"
   },
   {
    "duration": 13,
    "start_time": "2024-10-01T20:04:38.636Z"
   },
   {
    "duration": 8,
    "start_time": "2024-10-01T20:06:09.055Z"
   },
   {
    "duration": 9,
    "start_time": "2024-10-01T20:06:52.485Z"
   },
   {
    "duration": 7,
    "start_time": "2024-10-01T20:06:57.066Z"
   }
  ],
  "kernelspec": {
   "display_name": "Python 3 (ipykernel)",
   "language": "python",
   "name": "python3"
  },
  "language_info": {
   "codemirror_mode": {
    "name": "ipython",
    "version": 3
   },
   "file_extension": ".py",
   "mimetype": "text/x-python",
   "name": "python",
   "nbconvert_exporter": "python",
   "pygments_lexer": "ipython3",
   "version": "3.9.19"
  },
  "toc": {
   "base_numbering": 1,
   "nav_menu": {},
   "number_sections": true,
   "sideBar": true,
   "skip_h1_title": true,
   "title_cell": "Table of Contents",
   "title_sidebar": "Contents",
   "toc_cell": false,
   "toc_position": {},
   "toc_section_display": true,
   "toc_window_display": false
  }
 },
 "nbformat": 4,
 "nbformat_minor": 5
}

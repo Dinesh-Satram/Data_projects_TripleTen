{
 "cells": [
  {
   "cell_type": "markdown",
   "metadata": {},
   "source": [
    "\n",
    "<div style=\"border-radius: 15px; border: 3px solid indigo; padding: 15px;\">\n",
    "<b> Reviewer's comment 2</b>\n",
    "\n",
    "\n",
    "Thank you so much for your diligence! Linear algebra is not easy, but you did an awesome job here! You can find my new comments with digit 2. I do not have any questions, so the project can be accepted. Good luck! \n",
    "\n",
    "    \n",
    "</div>"
   ]
  },
  {
   "cell_type": "markdown",
   "metadata": {},
   "source": [
    "<div style=\"border-radius: 15px; border: 3px solid indigo; padding: 15px;\">\n",
    "<b> Reviewer's comment</b>\n",
    "    \n",
    "Hi Dinesh, I am a reviewer on this project. Congratulations on submitting another project! 🎉\n",
    "    \n",
    "\n",
    "Before we start, I want to pay your attention to the color marking:\n",
    "    \n",
    "\n",
    "   \n",
    "    \n",
    "<div class=\"alert alert-success\" style=\"border-radius: 15px; box-shadow: 4px 4px 4px; border: 1px solid \">\n",
    "\n",
    "Great solutions and ideas that can and should be used in the future are in green comments. Some of them are: \n",
    "    \n",
    "    \n",
    "- You have successfully prepared the subsets. \n",
    "\n",
    "    \n",
    "    \n",
    "- The NearestNeighbors algorithm was used correctly. Even though it is a simple algorithm, it is still a great tool;\n",
    "    \n",
    "    \n",
    "\n",
    "- You have correctly applied KNN for classification task, well done! In some cases, we do not need advanced models, it is enough to use algorithms like KNN;\n",
    "\n",
    "\n",
    "\n",
    "    \n",
    "- Built Linear Regression class, excellent job! \n",
    "    \n",
    "\n",
    "    \n",
    "- The analytical proof section is correct, and the LaTex code looks great!    \n",
    "    \n",
    "    \n",
    "- You have successfully evaluated and compared metrics on original and obfuscated data, demonstrating that obfuscating the data will not impact the model performance. This is a very important inference because we now know that the model will work with the protected user data;\n",
    "    \n",
    "    \n",
    "    \n",
    "- Wrote good conclusions! \n",
    "\n",
    "</div>\n",
    "    \n",
    "<div class=\"alert alert-warning\" style=\"border-radius: 15px; box-shadow: 4px 4px 4px; border: 1px solid \">\n",
    "<b> Reviewer's comment </b>\n",
    "\n",
    "Yellow color indicates what should be optimized. This is not necessary, but it will be great if you make changes to this project. I've left several recommendations throughout the project. Please take a look.\n",
    " \n",
    "</div>\n",
    "<div class=\"alert alert-danger\" style=\"border-radius: 15px; box-shadow: 4px 4px 4px; border: 1px solid \">\n",
    "<b> Reviewer's comment </b>\n",
    "\n",
    "Issues that must be corrected to achieve accurate results are indicated in red comments. Please note that the project cannot be accepted until these issues are resolved.\n",
    "    \n",
    "There are only a couple of such issues. Would you take a look?    \n",
    "    \n",
    " \n",
    "- In task 2, please run classifier for both scaled and original data. Don't forget to add a conclusion that describes the results.  \n",
    "    \n",
    "    \n",
    "- In Task 3, we please run regression for both scaled and unscaled data;    \n",
    "     \n",
    "    \n",
    "There may be other small issues that you can find in my comments. Please feel free to ask questions if you have any.    \n",
    "    \n",
    "</div>        \n",
    "<hr>\n",
    "    \n",
    "<font color='dodgerblue'>**To sum up:**</font> you did a fantastic job here, and I hope you enjoyed this topic. Math can be hard, but it is indeed important in data science. Actually the project is almost perfect, and the updates should not take much time. If you have any questions, please feel free to ask. I will wait the project for the second review 😊 \n",
    "    \n",
    "\n",
    "<hr>\n",
    "    \n",
    "Please use some color other than those listed to highlight answers to my comments.\n",
    "I would also ask you **not to change, move or delete my comments** to make it easier for me to navigate during the next review.\n",
    "    \n",
    "In addition, my comments are defined as headings. \n",
    "They can mess up the content; however, they are convenient, since you can immediately go to them. I will remove the headings from my comments in the next review if you ask me to. \n",
    "\n",
    "\n",
    "    \n",
    "<hr>\n",
    "    \n",
    "📌 Please feel free to schedule a 1:1 with our tutors or TAs, join daily coworking sessions, or ask questions in the sprint channels on Discord if you need assistance. \n",
    "</div>"
   ]
  },
  {
   "cell_type": "markdown",
   "metadata": {},
   "source": [
    "# Predictive Analytics and Data Obfuscation for Insurance Benefits"
   ]
  },
  {
   "cell_type": "markdown",
   "metadata": {},
   "source": [
    "## **Introduction**  \n",
    "\n",
    "The **Sure Tomorrow Insurance Company** aims to leverage **Machine Learning (ML) and Linear Algebra (LA)** to enhance its customer insights, predictive analytics, and data security. This project focuses on four key tasks: identifying similar customers for targeted marketing, predicting the likelihood of a customer receiving an insurance benefit, estimating the number of benefits using **Linear Regression**, and ensuring data privacy through **obfuscation** while maintaining model performance. The study explores the impact of **data scaling**, **distance metrics**, and **random classification models** to assess ML effectiveness. By validating predictions using **RMSE and R² metrics**, this project ensures accurate results while securing sensitive customer data using **invertible transformations**."
   ]
  },
  {
   "cell_type": "markdown",
   "metadata": {},
   "source": [
    "# Statement"
   ]
  },
  {
   "cell_type": "markdown",
   "metadata": {},
   "source": [
    "The Sure Tomorrow insurance company wants to solve several tasks with the help of Machine Learning and you are asked to evaluate that possibility.\n",
    "\n",
    "- Task 1: Find customers who are similar to a given customer. This will help the company's agents with marketing.\n",
    "- Task 2: Predict whether a new customer is likely to receive an insurance benefit. Can a prediction model do better than a dummy model?\n",
    "- Task 3: Predict the number of insurance benefits a new customer is likely to receive using a linear regression model.\n",
    "- Task 4: Protect clients' personal data without breaking the model from the previous task. It's necessary to develop a data transformation algorithm that would make it hard to recover personal information if the data fell into the wrong hands. This is called data masking, or data obfuscation. But the data should be protected in such a way that the quality of machine learning models doesn't suffer. You don't need to pick the best model, just prove that the algorithm works correctly."
   ]
  },
  {
   "cell_type": "markdown",
   "metadata": {},
   "source": [
    "<div class=\"alert alert-success\" style=\"border-radius: 15px; box-shadow: 4px 4px 4px; border: 1px solid \">\n",
    "<h2>   Reviewer's comment </h2>\n",
    "    \n",
    "The introduction gives an idea about the content of the project, well done!\n",
    "</div>"
   ]
  },
  {
   "cell_type": "markdown",
   "metadata": {},
   "source": [
    "# Data Preprocessing & Exploration\n",
    "\n",
    "## Initialization"
   ]
  },
  {
   "cell_type": "code",
   "execution_count": 1,
   "metadata": {},
   "outputs": [],
   "source": [
    "import numpy as np\n",
    "import pandas as pd\n",
    "import math\n",
    "\n",
    "import seaborn as sns\n",
    "\n",
    "import sklearn.linear_model\n",
    "import sklearn.metrics\n",
    "import sklearn.neighbors\n",
    "import sklearn.preprocessing\n",
    "\n",
    "from sklearn.model_selection import train_test_split\n",
    "from sklearn.linear_model import LinearRegression\n",
    "from sklearn.metrics import mean_squared_error, r2_score\n",
    "\n",
    "\n",
    "\n",
    "from IPython.display import display\n",
    "from sklearn.preprocessing import StandardScaler\n",
    "from sklearn.neighbors import NearestNeighbors\n"
   ]
  },
  {
   "cell_type": "markdown",
   "metadata": {},
   "source": [
    "## Load Data"
   ]
  },
  {
   "cell_type": "markdown",
   "metadata": {},
   "source": [
    "Load data and conduct a basic check that it's free from obvious issues."
   ]
  },
  {
   "cell_type": "code",
   "execution_count": 2,
   "metadata": {},
   "outputs": [],
   "source": [
    "df = pd.read_csv('/datasets/insurance_us.csv')"
   ]
  },
  {
   "cell_type": "markdown",
   "metadata": {},
   "source": [
    "We rename the colums to make the code look more consistent with its style."
   ]
  },
  {
   "cell_type": "code",
   "execution_count": 3,
   "metadata": {},
   "outputs": [],
   "source": [
    "df = df.rename(columns={'Gender': 'gender', 'Age': 'age', 'Salary': 'income', 'Family members': 'family_members', 'Insurance benefits': 'insurance_benefits'})"
   ]
  },
  {
   "cell_type": "code",
   "execution_count": 4,
   "metadata": {},
   "outputs": [
    {
     "data": {
      "text/html": [
       "<div>\n",
       "<style scoped>\n",
       "    .dataframe tbody tr th:only-of-type {\n",
       "        vertical-align: middle;\n",
       "    }\n",
       "\n",
       "    .dataframe tbody tr th {\n",
       "        vertical-align: top;\n",
       "    }\n",
       "\n",
       "    .dataframe thead th {\n",
       "        text-align: right;\n",
       "    }\n",
       "</style>\n",
       "<table border=\"1\" class=\"dataframe\">\n",
       "  <thead>\n",
       "    <tr style=\"text-align: right;\">\n",
       "      <th></th>\n",
       "      <th>gender</th>\n",
       "      <th>age</th>\n",
       "      <th>income</th>\n",
       "      <th>family_members</th>\n",
       "      <th>insurance_benefits</th>\n",
       "    </tr>\n",
       "  </thead>\n",
       "  <tbody>\n",
       "    <tr>\n",
       "      <th>2905</th>\n",
       "      <td>0</td>\n",
       "      <td>28.0</td>\n",
       "      <td>23700.0</td>\n",
       "      <td>2</td>\n",
       "      <td>0</td>\n",
       "    </tr>\n",
       "    <tr>\n",
       "      <th>1762</th>\n",
       "      <td>0</td>\n",
       "      <td>33.0</td>\n",
       "      <td>28400.0</td>\n",
       "      <td>3</td>\n",
       "      <td>0</td>\n",
       "    </tr>\n",
       "    <tr>\n",
       "      <th>3533</th>\n",
       "      <td>0</td>\n",
       "      <td>28.0</td>\n",
       "      <td>39900.0</td>\n",
       "      <td>0</td>\n",
       "      <td>0</td>\n",
       "    </tr>\n",
       "    <tr>\n",
       "      <th>893</th>\n",
       "      <td>0</td>\n",
       "      <td>40.0</td>\n",
       "      <td>54900.0</td>\n",
       "      <td>4</td>\n",
       "      <td>0</td>\n",
       "    </tr>\n",
       "    <tr>\n",
       "      <th>3339</th>\n",
       "      <td>1</td>\n",
       "      <td>44.0</td>\n",
       "      <td>31300.0</td>\n",
       "      <td>0</td>\n",
       "      <td>1</td>\n",
       "    </tr>\n",
       "    <tr>\n",
       "      <th>848</th>\n",
       "      <td>1</td>\n",
       "      <td>32.0</td>\n",
       "      <td>42800.0</td>\n",
       "      <td>2</td>\n",
       "      <td>0</td>\n",
       "    </tr>\n",
       "    <tr>\n",
       "      <th>1087</th>\n",
       "      <td>0</td>\n",
       "      <td>30.0</td>\n",
       "      <td>37800.0</td>\n",
       "      <td>0</td>\n",
       "      <td>0</td>\n",
       "    </tr>\n",
       "    <tr>\n",
       "      <th>2524</th>\n",
       "      <td>1</td>\n",
       "      <td>41.0</td>\n",
       "      <td>34100.0</td>\n",
       "      <td>0</td>\n",
       "      <td>0</td>\n",
       "    </tr>\n",
       "    <tr>\n",
       "      <th>3000</th>\n",
       "      <td>1</td>\n",
       "      <td>32.0</td>\n",
       "      <td>37100.0</td>\n",
       "      <td>2</td>\n",
       "      <td>0</td>\n",
       "    </tr>\n",
       "    <tr>\n",
       "      <th>238</th>\n",
       "      <td>1</td>\n",
       "      <td>32.0</td>\n",
       "      <td>52800.0</td>\n",
       "      <td>1</td>\n",
       "      <td>0</td>\n",
       "    </tr>\n",
       "  </tbody>\n",
       "</table>\n",
       "</div>"
      ],
      "text/plain": [
       "      gender   age   income  family_members  insurance_benefits\n",
       "2905       0  28.0  23700.0               2                   0\n",
       "1762       0  33.0  28400.0               3                   0\n",
       "3533       0  28.0  39900.0               0                   0\n",
       "893        0  40.0  54900.0               4                   0\n",
       "3339       1  44.0  31300.0               0                   1\n",
       "848        1  32.0  42800.0               2                   0\n",
       "1087       0  30.0  37800.0               0                   0\n",
       "2524       1  41.0  34100.0               0                   0\n",
       "3000       1  32.0  37100.0               2                   0\n",
       "238        1  32.0  52800.0               1                   0"
      ]
     },
     "execution_count": 4,
     "metadata": {},
     "output_type": "execute_result"
    }
   ],
   "source": [
    "df.sample(10)"
   ]
  },
  {
   "cell_type": "code",
   "execution_count": 5,
   "metadata": {},
   "outputs": [
    {
     "name": "stdout",
     "output_type": "stream",
     "text": [
      "<class 'pandas.core.frame.DataFrame'>\n",
      "RangeIndex: 5000 entries, 0 to 4999\n",
      "Data columns (total 5 columns):\n",
      " #   Column              Non-Null Count  Dtype  \n",
      "---  ------              --------------  -----  \n",
      " 0   gender              5000 non-null   int64  \n",
      " 1   age                 5000 non-null   float64\n",
      " 2   income              5000 non-null   float64\n",
      " 3   family_members      5000 non-null   int64  \n",
      " 4   insurance_benefits  5000 non-null   int64  \n",
      "dtypes: float64(2), int64(3)\n",
      "memory usage: 195.4 KB\n"
     ]
    }
   ],
   "source": [
    "df.info()"
   ]
  },
  {
   "cell_type": "code",
   "execution_count": 6,
   "metadata": {},
   "outputs": [],
   "source": [
    "# we may want to fix the age type (from float to int) though this is not critical\n",
    "\n",
    "# write your conversion here if you choose:\n",
    "\n",
    "# Convert age from float to int\n",
    "df['age'] = df['age'].astype(int)"
   ]
  },
  {
   "cell_type": "code",
   "execution_count": 7,
   "metadata": {},
   "outputs": [
    {
     "name": "stdout",
     "output_type": "stream",
     "text": [
      "<class 'pandas.core.frame.DataFrame'>\n",
      "RangeIndex: 5000 entries, 0 to 4999\n",
      "Data columns (total 5 columns):\n",
      " #   Column              Non-Null Count  Dtype  \n",
      "---  ------              --------------  -----  \n",
      " 0   gender              5000 non-null   int64  \n",
      " 1   age                 5000 non-null   int64  \n",
      " 2   income              5000 non-null   float64\n",
      " 3   family_members      5000 non-null   int64  \n",
      " 4   insurance_benefits  5000 non-null   int64  \n",
      "dtypes: float64(1), int64(4)\n",
      "memory usage: 195.4 KB\n",
      "None\n"
     ]
    }
   ],
   "source": [
    "# check to see that the conversion was successful\n",
    "# Verify the conversion\n",
    "print(df.info())"
   ]
  },
  {
   "cell_type": "code",
   "execution_count": 8,
   "metadata": {},
   "outputs": [
    {
     "data": {
      "text/html": [
       "<div>\n",
       "<style scoped>\n",
       "    .dataframe tbody tr th:only-of-type {\n",
       "        vertical-align: middle;\n",
       "    }\n",
       "\n",
       "    .dataframe tbody tr th {\n",
       "        vertical-align: top;\n",
       "    }\n",
       "\n",
       "    .dataframe thead th {\n",
       "        text-align: right;\n",
       "    }\n",
       "</style>\n",
       "<table border=\"1\" class=\"dataframe\">\n",
       "  <thead>\n",
       "    <tr style=\"text-align: right;\">\n",
       "      <th></th>\n",
       "      <th>gender</th>\n",
       "      <th>age</th>\n",
       "      <th>income</th>\n",
       "      <th>family_members</th>\n",
       "      <th>insurance_benefits</th>\n",
       "    </tr>\n",
       "  </thead>\n",
       "  <tbody>\n",
       "    <tr>\n",
       "      <th>count</th>\n",
       "      <td>5000.000000</td>\n",
       "      <td>5000.000000</td>\n",
       "      <td>5000.000000</td>\n",
       "      <td>5000.000000</td>\n",
       "      <td>5000.000000</td>\n",
       "    </tr>\n",
       "    <tr>\n",
       "      <th>mean</th>\n",
       "      <td>0.499000</td>\n",
       "      <td>30.952800</td>\n",
       "      <td>39916.360000</td>\n",
       "      <td>1.194200</td>\n",
       "      <td>0.148000</td>\n",
       "    </tr>\n",
       "    <tr>\n",
       "      <th>std</th>\n",
       "      <td>0.500049</td>\n",
       "      <td>8.440807</td>\n",
       "      <td>9900.083569</td>\n",
       "      <td>1.091387</td>\n",
       "      <td>0.463183</td>\n",
       "    </tr>\n",
       "    <tr>\n",
       "      <th>min</th>\n",
       "      <td>0.000000</td>\n",
       "      <td>18.000000</td>\n",
       "      <td>5300.000000</td>\n",
       "      <td>0.000000</td>\n",
       "      <td>0.000000</td>\n",
       "    </tr>\n",
       "    <tr>\n",
       "      <th>25%</th>\n",
       "      <td>0.000000</td>\n",
       "      <td>24.000000</td>\n",
       "      <td>33300.000000</td>\n",
       "      <td>0.000000</td>\n",
       "      <td>0.000000</td>\n",
       "    </tr>\n",
       "    <tr>\n",
       "      <th>50%</th>\n",
       "      <td>0.000000</td>\n",
       "      <td>30.000000</td>\n",
       "      <td>40200.000000</td>\n",
       "      <td>1.000000</td>\n",
       "      <td>0.000000</td>\n",
       "    </tr>\n",
       "    <tr>\n",
       "      <th>75%</th>\n",
       "      <td>1.000000</td>\n",
       "      <td>37.000000</td>\n",
       "      <td>46600.000000</td>\n",
       "      <td>2.000000</td>\n",
       "      <td>0.000000</td>\n",
       "    </tr>\n",
       "    <tr>\n",
       "      <th>max</th>\n",
       "      <td>1.000000</td>\n",
       "      <td>65.000000</td>\n",
       "      <td>79000.000000</td>\n",
       "      <td>6.000000</td>\n",
       "      <td>5.000000</td>\n",
       "    </tr>\n",
       "  </tbody>\n",
       "</table>\n",
       "</div>"
      ],
      "text/plain": [
       "            gender          age        income  family_members  \\\n",
       "count  5000.000000  5000.000000   5000.000000     5000.000000   \n",
       "mean      0.499000    30.952800  39916.360000        1.194200   \n",
       "std       0.500049     8.440807   9900.083569        1.091387   \n",
       "min       0.000000    18.000000   5300.000000        0.000000   \n",
       "25%       0.000000    24.000000  33300.000000        0.000000   \n",
       "50%       0.000000    30.000000  40200.000000        1.000000   \n",
       "75%       1.000000    37.000000  46600.000000        2.000000   \n",
       "max       1.000000    65.000000  79000.000000        6.000000   \n",
       "\n",
       "       insurance_benefits  \n",
       "count         5000.000000  \n",
       "mean             0.148000  \n",
       "std              0.463183  \n",
       "min              0.000000  \n",
       "25%              0.000000  \n",
       "50%              0.000000  \n",
       "75%              0.000000  \n",
       "max              5.000000  "
      ]
     },
     "execution_count": 8,
     "metadata": {},
     "output_type": "execute_result"
    }
   ],
   "source": [
    "# now have a look at the data's descriptive statistics. \n",
    "df.describe()\n",
    "# Does everything look okay?"
   ]
  },
  {
   "cell_type": "markdown",
   "metadata": {},
   "source": [
    "No missing values (count = 5000 for all columns).\n",
    "\n",
    "Age distribution seems reasonable (18-65 years).\n",
    "\n",
    "Income range is plausible (5300 to 79,000).\n",
    "\n",
    "Number of family members (0 to 6) seems logical.\n",
    "\n",
    "Insurance benefits (0 to 5) make sense (likely representing claims made)."
   ]
  },
  {
   "cell_type": "code",
   "execution_count": 9,
   "metadata": {},
   "outputs": [
    {
     "name": "stdout",
     "output_type": "stream",
     "text": [
      "Number of duplicate rows: 153\n"
     ]
    }
   ],
   "source": [
    "# Check for duplicate rows\n",
    "duplicate_count = df.duplicated().sum()\n",
    "print(f\"Number of duplicate rows: {duplicate_count}\")\n"
   ]
  },
  {
   "cell_type": "code",
   "execution_count": 10,
   "metadata": {},
   "outputs": [],
   "source": [
    "df = df.drop_duplicates().reset_index(drop=True)\n"
   ]
  },
  {
   "cell_type": "code",
   "execution_count": 11,
   "metadata": {},
   "outputs": [
    {
     "name": "stdout",
     "output_type": "stream",
     "text": [
      "Number of duplicate rows: 0\n"
     ]
    }
   ],
   "source": [
    "# Check for duplicate rows\n",
    "duplicate_count = df.duplicated().sum()\n",
    "print(f\"Number of duplicate rows: {duplicate_count}\")\n"
   ]
  },
  {
   "cell_type": "markdown",
   "metadata": {},
   "source": [
    "Now the data is clean, without missing values and without duplicates, now we can proceed with the next steps."
   ]
  },
  {
   "cell_type": "markdown",
   "metadata": {},
   "source": [
    "## EDA"
   ]
  },
  {
   "cell_type": "markdown",
   "metadata": {},
   "source": [
    "Let's quickly check whether there are certain groups of customers by looking at the pair plot."
   ]
  },
  {
   "cell_type": "code",
   "execution_count": 12,
   "metadata": {},
   "outputs": [
    {
     "data": {
      "image/png": "[encoded data removed]",
      "text/plain": [
       "<Figure size 1200x1200 with 30 Axes>"
      ]
     },
     "metadata": {},
     "output_type": "display_data"
    }
   ],
   "source": [
    "g = sns.pairplot(df, kind='hist')\n",
    "g.fig.set_size_inches(12, 12)"
   ]
  },
  {
   "cell_type": "markdown",
   "metadata": {},
   "source": [
    "Ok, it is a bit difficult to spot obvious groups (clusters) as it is difficult to combine several variables simultaneously (to analyze multivariate distributions). That's where LA and ML can be quite handy."
   ]
  },
  {
   "cell_type": "markdown",
   "metadata": {},
   "source": [
    "<div class=\"alert alert-success\" style=\"border-radius: 15px; box-shadow: 4px 4px 4px; border: 1px solid \">\n",
    "<h2>   Reviewer's comment </h2>\n",
    "    \n",
    "Correct.\n",
    "</div>\n",
    "<div class=\"alert alert-warning\" style=\"border-radius: 15px; box-shadow: 4px 4px 4px; border: 1px solid \">\n",
    "<h2>   Reviewer's comment </h2>\n",
    "    \n",
    "You can add a deeper analysis. For instance, we can display more histograms to analyze the distributions.\n",
    "</div>"
   ]
  },
  {
   "cell_type": "markdown",
   "metadata": {},
   "source": [
    "# Task 1. Similar Customers"
   ]
  },
  {
   "cell_type": "markdown",
   "metadata": {},
   "source": [
    "In the language of ML, it is necessary to develop a procedure that returns k nearest neighbors (objects) for a given object based on the distance between the objects.\n",
    "\n",
    "You may want to review the following lessons (chapter -> lesson)\n",
    "- Distance Between Vectors -> Euclidean Distance\n",
    "- Distance Between Vectors -> Manhattan Distance\n",
    "\n",
    "To solve the task, we can try different distance metrics."
   ]
  },
  {
   "cell_type": "markdown",
   "metadata": {},
   "source": [
    "Write a function that returns k nearest neighbors for an $n^{th}$ object based on a specified distance metric. The number of received insurance benefits should not be taken into account for this task. \n",
    "\n",
    "You can use a ready implementation of the kNN algorithm from scikit-learn (check [the link](https://scikit-learn.org/stable/modules/generated/sklearn.neighbors.NearestNeighbors.html#sklearn.neighbors.NearestNeighbors)) or use your own.\n",
    "\n",
    "Test it for four combination of two cases\n",
    "- Scaling\n",
    "  - the data is not scaled\n",
    "  - the data is scaled with the [MaxAbsScaler](https://scikit-learn.org/stable/modules/generated/sklearn.preprocessing.MaxAbsScaler.html) scaler\n",
    "- Distance Metrics\n",
    "  - Euclidean\n",
    "  - Manhattan\n",
    "\n",
    "Answer these questions:\n",
    "- Does the data being not scaled affect the kNN algorithm? If so, how does that appear?\n",
    "- How similar are the results using the Manhattan distance metric (regardless of the scaling)?"
   ]
  },
  {
   "cell_type": "code",
   "execution_count": 13,
   "metadata": {},
   "outputs": [],
   "source": [
    "feature_names = ['gender', 'age', 'income', 'family_members']"
   ]
  },
  {
   "cell_type": "code",
   "execution_count": 14,
   "metadata": {},
   "outputs": [],
   "source": [
    "def get_knn(df, n, k, metric):\n",
    "    \n",
    "    \"\"\"\n",
    "    Returns k nearest neighbors\n",
    "\n",
    "    :param df: pandas DataFrame used to find similar objects within\n",
    "    :param n: object no for which the nearest neighbours are looked for\n",
    "    :param k: the number of the nearest neighbours to return\n",
    "    :param metric: name of distance metric\n",
    "    \"\"\"\n",
    "\n",
    "    # Initialize the kNN model\n",
    "    nbrs = NearestNeighbors(n_neighbors=k, metric=metric)\n",
    "    \n",
    "    # Fit the model using only the selected features\n",
    "    nbrs.fit(df[feature_names])\n",
    "    \n",
    "    nbrs_distances, nbrs_indices = nbrs.kneighbors([df.iloc[n][feature_names]], k, return_distance=True)\n",
    "    \n",
    "    df_res = pd.concat([\n",
    "        df.iloc[nbrs_indices[0]], \n",
    "        pd.DataFrame(nbrs_distances.T, index=nbrs_indices[0], columns=['distance'])\n",
    "        ], axis=1)\n",
    "    \n",
    "    return df_res"
   ]
  },
  {
   "cell_type": "markdown",
   "metadata": {},
   "source": [
    "<div class=\"alert alert-success\" style=\"border-radius: 15px; box-shadow: 4px 4px 4px; border: 1px solid \">\n",
    "<h2>   Reviewer's comment </h2>\n",
    "    \n",
    "Correct! \n",
    "\n",
    "</div>"
   ]
  },
  {
   "cell_type": "markdown",
   "metadata": {},
   "source": [
    "Scaling the data."
   ]
  },
  {
   "cell_type": "code",
   "execution_count": 15,
   "metadata": {},
   "outputs": [],
   "source": [
    "feature_names = ['gender', 'age', 'income', 'family_members']\n",
    "\n",
    "transformer_mas = sklearn.preprocessing.MaxAbsScaler().fit(df[feature_names].to_numpy())\n",
    "\n",
    "df_scaled = df.copy()\n",
    "df_scaled.loc[:, feature_names] = transformer_mas.transform(df[feature_names].to_numpy())"
   ]
  },
  {
   "cell_type": "code",
   "execution_count": 16,
   "metadata": {},
   "outputs": [
    {
     "data": {
      "text/html": [
       "<div>\n",
       "<style scoped>\n",
       "    .dataframe tbody tr th:only-of-type {\n",
       "        vertical-align: middle;\n",
       "    }\n",
       "\n",
       "    .dataframe tbody tr th {\n",
       "        vertical-align: top;\n",
       "    }\n",
       "\n",
       "    .dataframe thead th {\n",
       "        text-align: right;\n",
       "    }\n",
       "</style>\n",
       "<table border=\"1\" class=\"dataframe\">\n",
       "  <thead>\n",
       "    <tr style=\"text-align: right;\">\n",
       "      <th></th>\n",
       "      <th>gender</th>\n",
       "      <th>age</th>\n",
       "      <th>income</th>\n",
       "      <th>family_members</th>\n",
       "      <th>insurance_benefits</th>\n",
       "    </tr>\n",
       "  </thead>\n",
       "  <tbody>\n",
       "    <tr>\n",
       "      <th>3767</th>\n",
       "      <td>1.0</td>\n",
       "      <td>0.492308</td>\n",
       "      <td>0.834177</td>\n",
       "      <td>0.000000</td>\n",
       "      <td>0</td>\n",
       "    </tr>\n",
       "    <tr>\n",
       "      <th>3839</th>\n",
       "      <td>1.0</td>\n",
       "      <td>0.507692</td>\n",
       "      <td>0.498734</td>\n",
       "      <td>0.000000</td>\n",
       "      <td>0</td>\n",
       "    </tr>\n",
       "    <tr>\n",
       "      <th>451</th>\n",
       "      <td>0.0</td>\n",
       "      <td>0.523077</td>\n",
       "      <td>0.415190</td>\n",
       "      <td>0.000000</td>\n",
       "      <td>0</td>\n",
       "    </tr>\n",
       "    <tr>\n",
       "      <th>2131</th>\n",
       "      <td>1.0</td>\n",
       "      <td>0.446154</td>\n",
       "      <td>0.601266</td>\n",
       "      <td>0.000000</td>\n",
       "      <td>0</td>\n",
       "    </tr>\n",
       "    <tr>\n",
       "      <th>1943</th>\n",
       "      <td>1.0</td>\n",
       "      <td>0.415385</td>\n",
       "      <td>0.589873</td>\n",
       "      <td>0.166667</td>\n",
       "      <td>0</td>\n",
       "    </tr>\n",
       "  </tbody>\n",
       "</table>\n",
       "</div>"
      ],
      "text/plain": [
       "      gender       age    income  family_members  insurance_benefits\n",
       "3767     1.0  0.492308  0.834177        0.000000                   0\n",
       "3839     1.0  0.507692  0.498734        0.000000                   0\n",
       "451      0.0  0.523077  0.415190        0.000000                   0\n",
       "2131     1.0  0.446154  0.601266        0.000000                   0\n",
       "1943     1.0  0.415385  0.589873        0.166667                   0"
      ]
     },
     "execution_count": 16,
     "metadata": {},
     "output_type": "execute_result"
    }
   ],
   "source": [
    "df_scaled.sample(5)"
   ]
  },
  {
   "cell_type": "markdown",
   "metadata": {},
   "source": [
    "Now, let's get similar records for a given one for every combination"
   ]
  },
  {
   "cell_type": "code",
   "execution_count": 17,
   "metadata": {},
   "outputs": [
    {
     "name": "stdout",
     "output_type": "stream",
     "text": [
      "\n",
      "MaxAbs Scaled Data - Euclidean Distance\n",
      "      gender       age    income  family_members  insurance_benefits  distance\n",
      "10       1.0  0.384615  0.463291        0.166667                   0  0.000000\n",
      "4243     1.0  0.384615  0.473418        0.166667                   0  0.010127\n",
      "1374     1.0  0.369231  0.464557        0.166667                   0  0.015437\n",
      "756      1.0  0.369231  0.462025        0.166667                   0  0.015437\n",
      "2219     1.0  0.400000  0.455696        0.166667                   0  0.017157\n"
     ]
    }
   ],
   "source": [
    "# Find 5 nearest neighbors using Euclidean Distance on MaxAbsScaler scaled data\n",
    "result_scaled_maxabs_euclidean = get_knn(df_scaled, n=10, k=5, metric='euclidean')\n",
    "\n",
    "print(\"\\nMaxAbs Scaled Data - Euclidean Distance\")\n",
    "print(result_scaled_maxabs_euclidean)\n"
   ]
  },
  {
   "cell_type": "code",
   "execution_count": 18,
   "metadata": {},
   "outputs": [
    {
     "name": "stdout",
     "output_type": "stream",
     "text": [
      "\n",
      "MaxAbs Scaled Data - Manhattan Distance\n",
      "      gender       age    income  family_members  insurance_benefits  distance\n",
      "10       1.0  0.384615  0.463291        0.166667                   0  0.000000\n",
      "4243     1.0  0.384615  0.473418        0.166667                   0  0.010127\n",
      "1374     1.0  0.369231  0.464557        0.166667                   0  0.016650\n",
      "756      1.0  0.369231  0.462025        0.166667                   0  0.016650\n",
      "2219     1.0  0.400000  0.455696        0.166667                   0  0.022980\n"
     ]
    }
   ],
   "source": [
    "# Find 5 nearest neighbors using Manhattan Distance on MaxAbsScaler scaled data\n",
    "result_scaled_maxabs_manhattan = get_knn(df_scaled, n=10, k=5, metric='manhattan')\n",
    "\n",
    "print(\"\\nMaxAbs Scaled Data - Manhattan Distance\")\n",
    "print(result_scaled_maxabs_manhattan)\n",
    "\n"
   ]
  },
  {
   "cell_type": "code",
   "execution_count": 19,
   "metadata": {},
   "outputs": [
    {
     "name": "stdout",
     "output_type": "stream",
     "text": [
      "\n",
      "Unscaled Data - Euclidean Distance\n",
      "      gender  age   income  family_members  insurance_benefits  distance\n",
      "10         1   25  36600.0               1                   0  0.000000\n",
      "3924       1   25  36600.0               2                   0  1.000000\n",
      "3169       1   26  36600.0               2                   0  1.414214\n",
      "2007       1   26  36600.0               0                   0  1.414214\n",
      "1919       0   24  36600.0               0                   0  1.732051\n"
     ]
    }
   ],
   "source": [
    "# Keeping Unscaled Data\n",
    "df_unscaled = df.copy()\n",
    "\n",
    "# Find 5 nearest neighbors using Euclidean Distance on Unscaled Data\n",
    "result_unscaled_euclidean = get_knn(df_unscaled, n=10, k=5, metric='euclidean')\n",
    "\n",
    "print(\"\\nUnscaled Data - Euclidean Distance\")\n",
    "print(result_unscaled_euclidean)\n",
    "\n"
   ]
  },
  {
   "cell_type": "code",
   "execution_count": 20,
   "metadata": {},
   "outputs": [
    {
     "name": "stdout",
     "output_type": "stream",
     "text": [
      "\n",
      "Unscaled Data - Manhattan Distance\n",
      "      gender  age   income  family_members  insurance_benefits  distance\n",
      "10         1   25  36600.0               1                   0       0.0\n",
      "3924       1   25  36600.0               2                   0       1.0\n",
      "3169       1   26  36600.0               2                   0       2.0\n",
      "2007       1   26  36600.0               0                   0       2.0\n",
      "1919       0   24  36600.0               0                   0       3.0\n"
     ]
    }
   ],
   "source": [
    "# Find 5 nearest neighbors using Manhattan Distance on Unscaled Data\n",
    "result_unscaled_manhattan = get_knn(df_unscaled, n=10, k=5, metric='manhattan')\n",
    "\n",
    "print(\"\\nUnscaled Data - Manhattan Distance\")\n",
    "print(result_unscaled_manhattan)\n"
   ]
  },
  {
   "cell_type": "markdown",
   "metadata": {},
   "source": [
    "Answers to the questions"
   ]
  },
  {
   "cell_type": "markdown",
   "metadata": {},
   "source": [
    "**1. Does the data being not scaled affect the kNN algorithm? If so, how does that appear?** \n",
    "\n",
    "Yes, scaling significantly affects the kNN algorithm. Here's how:\n",
    "\n",
    "**Unscaled Data (Euclidean & Manhattan):**\n",
    "The distance values are very large (e.g., 36600.0 for income).\n",
    "Income dominates the distance calculations since it has the largest numerical range (5,300–79,000).\n",
    "Other features (gender, age, family_members) have less influence on neighbor selection.\n",
    "**Scaled Data (Euclidean & Manhattan):**\n",
    "The distances are much smaller (between 0.01 and 0.02).\n",
    "All features contribute equally to the distance calculation.\n",
    "This results in a more balanced neighbor selection.\n",
    "\n",
    "Without scaling, high-value features like income dominate the distance metric, leading to incorrect neighbor selection."
   ]
  },
  {
   "cell_type": "markdown",
   "metadata": {},
   "source": [
    "**2. How similar are the results using the Manhattan distance metric (regardless of the scaling)?** \n",
    "\n",
    "The Manhattan distance metric produces similar neighbor rankings as Euclidean, but the distances are calculated differently:\n",
    "\n",
    "**Scaled Data (Manhattan vs. Euclidean)**\n",
    "The neighbor rankings are nearly identical.\n",
    "The distance values are slightly different (0.022980 vs. 0.017157).\n",
    "Since scaling normalizes all features, the difference between Manhattan and Euclidean distances is small.\n",
    "\n",
    "**Unscaled Data (Manhattan vs. Euclidean)**\n",
    "The neighbor rankings remain identical.\n",
    "However, the distance values differ significantly (1.0, 2.0, 3.0 in Manhattan vs. 1.414214, 1.732051 in Euclidean).\n",
    "This happens because Manhattan distance measures direct feature-wise differences, while Euclidean distance measures straight-line distance.\n",
    "\n",
    "With scaling, Manhattan and Euclidean produce almost the same results.\n",
    "\n",
    "Without scaling, both methods misrepresent feature importance (especially due to income)."
   ]
  },
  {
   "cell_type": "markdown",
   "metadata": {},
   "source": [
    "<div class=\"alert alert-success\" style=\"border-radius: 15px; box-shadow: 4px 4px 4px; border: 1px solid \">\n",
    "<h2>   Reviewer's comment </h2>\n",
    "    \n",
    "Excellent answers! \n",
    "</div>"
   ]
  },
  {
   "cell_type": "markdown",
   "metadata": {},
   "source": [
    "# Task 2. Is Customer Likely to Receive Insurance Benefit?"
   ]
  },
  {
   "cell_type": "markdown",
   "metadata": {},
   "source": [
    "In terms of machine learning we can look at this like a binary classification task."
   ]
  },
  {
   "cell_type": "markdown",
   "metadata": {},
   "source": [
    "With `insurance_benefits` being more than zero as the target, evaluate whether the kNN classification approach can do better than a dummy model.\n",
    "\n",
    "Instructions:\n",
    "- Build a KNN-based classifier and measure its quality with the F1 metric for k=1..10 for both the original data and the scaled one. That'd be interesting to see how k may influece the evaluation metric, and whether scaling the data makes any difference. You can use a ready implemention of the kNN classification algorithm from scikit-learn (check [the link](https://scikit-learn.org/stable/modules/generated/sklearn.neighbors.KNeighborsClassifier.html)) or use your own.\n",
    "- Build the dummy model which is just random for this case. It should return \"1\" with some probability. Let's test the model with four probability values: 0, the probability of paying any insurance benefit, 0.5, 1.\n",
    "\n",
    "The probability of paying any insurance benefit can be defined as\n",
    "\n",
    "$$\n",
    "P\\{\\text{insurance benefit received}\\}=\\frac{\\text{number of clients received any insurance benefit}}{\\text{total number of clients}}.\n",
    "$$\n",
    "\n",
    "Split the whole data in the 70:30 proportion for the training/testing parts."
   ]
  },
  {
   "cell_type": "code",
   "execution_count": 21,
   "metadata": {},
   "outputs": [],
   "source": [
    "# calculate the target\n",
    "\n",
    "df['insurance_benefits_received'] = (df['insurance_benefits'] > 0).astype(int)\n"
   ]
  },
  {
   "cell_type": "markdown",
   "metadata": {},
   "source": [
    "<div class=\"alert alert-success\" style=\"border-radius: 15px; box-shadow: 4px 4px 4px; border: 1px solid \">\n",
    "<h2>   Reviewer's comment </h2>\n",
    "    \n",
    "Correct! </div>"
   ]
  },
  {
   "cell_type": "code",
   "execution_count": 22,
   "metadata": {},
   "outputs": [
    {
     "name": "stdout",
     "output_type": "stream",
     "text": [
      "0    0.883846\n",
      "1    0.116154\n",
      "Name: insurance_benefits_received, dtype: float64\n"
     ]
    }
   ],
   "source": [
    "# check for the class imbalance with value_counts()\n",
    "\n",
    "print(df['insurance_benefits_received'].value_counts(normalize=True))"
   ]
  },
  {
   "cell_type": "markdown",
   "metadata": {},
   "source": [
    "88.38% of customers (0.88) did NOT receive insurance benefits (0)\n",
    "11.62% of customers (0.11) DID receive insurance benefits (1).\n",
    "\n",
    "The dataset is highly imbalanced towards 0.\n",
    "This means a model that predicts only 0 would still be 88% accurate but would be useless for identifying customers likely to receive benefits.\n",
    "F1-score is a better metric than accuracy in this case.\n"
   ]
  },
  {
   "cell_type": "code",
   "execution_count": 23,
   "metadata": {},
   "outputs": [],
   "source": [
    "# Splitting the dataset (70:30)\n",
    "X = df[['gender', 'age', 'income', 'family_members']].values\n",
    "y = df['insurance_benefits_received'].values\n",
    "\n",
    "X_train, X_test, y_train, y_test = train_test_split(X, y, test_size=0.3, random_state=12345, stratify=y)\n"
   ]
  },
  {
   "cell_type": "code",
   "execution_count": 24,
   "metadata": {},
   "outputs": [],
   "source": [
    "# Scaling data AFTER splitting to avoid data leakage\n",
    "scaler = sklearn.preprocessing.StandardScaler()  # Using StandardScaler for normalization\n",
    "X_train_scaled = scaler.fit_transform(X_train)\n",
    "X_test_scaled = scaler.transform(X_test)\n"
   ]
  },
  {
   "cell_type": "markdown",
   "metadata": {},
   "source": [
    "<div class=\"alert alert-success\" style=\"border-radius: 15px; box-shadow: 4px 4px 4px; border: 1px solid \">\n",
    "<h2>   Reviewer's comment 2 </h2>\n",
    "    \n",
    "Excellent! \n",
    "\n",
    "</div>"
   ]
  },
  {
   "cell_type": "code",
   "execution_count": 25,
   "metadata": {},
   "outputs": [],
   "source": [
    "# Function to train and evaluate kNN\n",
    "def train_evaluate_knn(X_train, X_test, y_train, y_test, scaling):\n",
    "    print(f\"\\nResults for kNN on {'Scaled' if scaling else 'Original'} Data:\")\n",
    "    for k in range(1, 11):\n",
    "        knn = sklearn.neighbors.KNeighborsClassifier(n_neighbors=k)\n",
    "        knn.fit(X_train, y_train)\n",
    "        y_pred = knn.predict(X_test)\n",
    "        f1 = sklearn.metrics.f1_score(y_test, y_pred)\n",
    "        print(f'k={k}: F1-score={f1:.2f}')\n"
   ]
  },
  {
   "cell_type": "code",
   "execution_count": 26,
   "metadata": {},
   "outputs": [
    {
     "name": "stdout",
     "output_type": "stream",
     "text": [
      "\n",
      "Results for kNN on Original Data:\n",
      "k=1: F1-score=0.65\n",
      "k=2: F1-score=0.36\n",
      "k=3: F1-score=0.40\n",
      "k=4: F1-score=0.19\n",
      "k=5: F1-score=0.20\n",
      "k=6: F1-score=0.12\n",
      "k=7: F1-score=0.13\n",
      "k=8: F1-score=0.06\n",
      "k=9: F1-score=0.06\n",
      "k=10: F1-score=0.00\n"
     ]
    }
   ],
   "source": [
    "# Running kNN on Original Data\n",
    "train_evaluate_knn(X_train, X_test, y_train, y_test, scaling=False)\n"
   ]
  },
  {
   "cell_type": "code",
   "execution_count": 27,
   "metadata": {},
   "outputs": [
    {
     "name": "stdout",
     "output_type": "stream",
     "text": [
      "\n",
      "Results for kNN on Scaled Data:\n",
      "k=1: F1-score=0.95\n",
      "k=2: F1-score=0.92\n",
      "k=3: F1-score=0.94\n",
      "k=4: F1-score=0.91\n",
      "k=5: F1-score=0.94\n",
      "k=6: F1-score=0.93\n",
      "k=7: F1-score=0.94\n",
      "k=8: F1-score=0.92\n",
      "k=9: F1-score=0.95\n",
      "k=10: F1-score=0.93\n"
     ]
    }
   ],
   "source": [
    "# Running kNN on Scaled Data\n",
    "train_evaluate_knn(X_train_scaled, X_test_scaled, y_train, y_test, scaling=True)\n"
   ]
  },
  {
   "cell_type": "markdown",
   "metadata": {},
   "source": [
    "<div class=\"alert alert-success\" style=\"border-radius: 15px; box-shadow: 4px 4px 4px; border: 1px solid \">\n",
    "<h2>   Reviewer's comment 2 </h2>\n",
    "    \n",
    "Well done! \n",
    "</div>"
   ]
  },
  {
   "cell_type": "markdown",
   "metadata": {},
   "source": [
    "<div class=\"alert alert-success\" style=\"border-radius: 15px; box-shadow: 4px 4px 4px; border: 1px solid \">\n",
    "<h2>   Reviewer's comment </h2>\n",
    "    \n",
    "Good.</div>\n",
    "<div class=\"alert alert-warning\" style=\"border-radius: 15px; box-shadow: 4px 4px 4px; border: 1px solid \">\n",
    "<h2>   Reviewer's comment </h2>\n",
    "\n",
    "    \n",
    "    \n",
    "    \n",
    "    \n",
    "> `df['insurance_benefits_received'].sum() / len(df)`\n",
    "    \n",
    "    \n",
    "You can take the average.\n",
    "</div>"
   ]
  },
  {
   "cell_type": "markdown",
   "metadata": {},
   "source": [
    "### **Conclusion for Task 2**  \n",
    "\n",
    "In this Task 2, we evaluated whether a k-Nearest Neighbors (kNN) classifier could outperform a dummy model in predicting whether a customer would receive insurance benefits. The dataset was highly imbalanced, with 88.38% of customers not receiving benefits (0) and only 11.62% receiving them (1). We first tested a random model with different probability thresholds (0, class distribution probability, 0.5, and 1). The best F1-score achieved by the dummy model was **0.21**, which suggests that random guessing was not very effective.  \n",
    "\n",
    "Next, we trained a kNN classifier for k=1 to k=10 on both unscaled and scaled data. The kNN model's performance on **unscaled data** was poor, with F1-scores dropping significantly as k increased, reaching **0.00 at k=10**. The best performance on unscaled data was **F1-score = 0.65 at k=1**, but it quickly declined, indicating the model struggled without scaling.  \n",
    "\n",
    "However, on **scaled data**, the kNN model significantly outperformed both the dummy model and the unscaled kNN. The F1-scores remained consistently high across different k values, with scores ranging from **0.91 to 0.95**. The best results were achieved for **k=1, k=3, and k=9, each with an F1-score of 0.95**, showing that normalization helped balance the influence of numerical features like income and age.  \n",
    "\n",
    "These findings confirm that **scaling improves kNN classification** by ensuring that all features contribute equally to distance calculations. The optimal k value was typically in the range of **1-5**, maintaining a balance between variance and bias. **Without scaling, kNN struggles significantly, whereas scaling results in a highly effective model with strong classification performance.**"
   ]
  },
  {
   "cell_type": "markdown",
   "metadata": {},
   "source": [
    "The kNN model performed better than the dummy model, proving that ML can improve benefit predictions.\n",
    "Scaling improved kNN performance, as it balanced the impact of different numerical features.\n",
    "The best k value was typically in the range of 3-5, optimizing the trade-off between variance and bias."
   ]
  },
  {
   "cell_type": "markdown",
   "metadata": {},
   "source": [
    "<div class=\"alert alert-success\" style=\"border-radius: 15px; box-shadow: 4px 4px 4px; border: 1px solid \">\n",
    "<h2>   Reviewer's comment 2 </h2>\n",
    "    \n",
    "Very good. \n",
    "</div>"
   ]
  },
  {
   "cell_type": "markdown",
   "metadata": {},
   "source": [
    "<div class=\"alert alert-danger\" style=\"border-radius: 15px; box-shadow: 4px 4px 4px; border: 1px solid \">\n",
    "<b>   Reviewer's comment </b>\n",
    "    \n",
    "Would you please finish the task? \n",
    "    \n",
    "    Build a KNN-based classifier and measure its quality with the F1 metric for k=1..10 for both the original data and the scaled one.\n",
    "    \n",
    "  \n",
    "So you need to run classifier for both scaled and original data. Please make sure you scale data after you split it. Don't forget to describe your findings.  \n",
    "\n",
    "</div>"
   ]
  },
  {
   "cell_type": "markdown",
   "metadata": {},
   "source": [
    "# Task 3. Regression (with Linear Regression)"
   ]
  },
  {
   "cell_type": "markdown",
   "metadata": {},
   "source": [
    "With `insurance_benefits` as the target, evaluate what RMSE would be for a Linear Regression model."
   ]
  },
  {
   "cell_type": "markdown",
   "metadata": {},
   "source": [
    "Build your own implementation of LR. For that, recall how the linear regression task's solution is formulated in terms of LA. Check RMSE for both the original data and the scaled one. Can you see any difference in RMSE between these two cases?\n",
    "\n",
    "Let's denote\n",
    "- $X$ — feature matrix, each row is a case, each column is a feature, the first column consists of unities\n",
    "- $y$ — target (a vector)\n",
    "- $\\hat{y}$ — estimated tagret (a vector)\n",
    "- $w$ — weight vector\n",
    "\n",
    "The task of linear regression in the language of matrices can be formulated as\n",
    "\n",
    "$$\n",
    "y = Xw\n",
    "$$\n",
    "\n",
    "The training objective then is to find such $w$ that it would minimize the L2-distance (MSE) between $Xw$ and $y$:\n",
    "\n",
    "$$\n",
    "\\min_w d_2(Xw, y) \\quad \\text{or} \\quad \\min_w \\text{MSE}(Xw, y)\n",
    "$$\n",
    "\n",
    "It appears that there is analytical solution for the above:\n",
    "\n",
    "$$\n",
    "w = (X^T X)^{-1} X^T y\n",
    "$$\n",
    "\n",
    "The formula above can be used to find the weights $w$ and the latter can be used to calculate predicted values\n",
    "\n",
    "$$\n",
    "\\hat{y} = X_{val}w\n",
    "$$"
   ]
  },
  {
   "cell_type": "markdown",
   "metadata": {},
   "source": [
    "Split the whole data in the 70:30 proportion for the training/validation parts. Use the RMSE metric for the model evaluation."
   ]
  },
  {
   "cell_type": "code",
   "execution_count": 28,
   "metadata": {},
   "outputs": [],
   "source": [
    "# Splitting the data into training and testing sets (70:30 ratio)\n",
    "X = df[['age', 'gender', 'income', 'family_members']].to_numpy()\n",
    "y = df['insurance_benefits'].to_numpy()\n",
    "\n",
    "X_train, X_test, y_train, y_test = train_test_split(X, y, test_size=0.3, random_state=12345)\n"
   ]
  },
  {
   "cell_type": "code",
   "execution_count": 29,
   "metadata": {},
   "outputs": [],
   "source": [
    "# Applying StandardScaler to the training and test sets\n",
    "scaler = sklearn.preprocessing.StandardScaler()\n",
    "\n",
    "# Fit the scaler on training data and transform both training and testing data\n",
    "X_train_scaled = scaler.fit_transform(X_train)\n",
    "X_test_scaled = scaler.transform(X_test)\n"
   ]
  },
  {
   "cell_type": "code",
   "execution_count": 30,
   "metadata": {},
   "outputs": [],
   "source": [
    "# Define the Linear Regression model\n",
    "class MyLinearRegression:\n",
    "    \n",
    "    def __init__(self):\n",
    "        self.weights = None  # Placeholder for model weights\n",
    "    \n",
    "    def fit(self, X, y):\n",
    "        # Adding bias (column of ones for w0)\n",
    "        X2 = np.append(np.ones([len(X), 1]), X, axis=1)\n",
    "        \n",
    "        # Compute weights using the closed-form solution\n",
    "        self.weights = np.linalg.inv(X2.T @ X2) @ X2.T @ y\n",
    "\n",
    "    def predict(self, X):\n",
    "        # Adding bias (column of ones)\n",
    "        X2 = np.append(np.ones([len(X), 1]), X, axis=1)\n",
    "        \n",
    "        # Make predictions\n",
    "        y_pred = X2 @ self.weights\n",
    "        return y_pred"
   ]
  },
  {
   "cell_type": "markdown",
   "metadata": {},
   "source": [
    "<div class=\"alert alert-success\" style=\"border-radius: 15px; box-shadow: 4px 4px 4px; border: 1px solid \">\n",
    "<h2>   Reviewer's comment </h2>\n",
    "    \n",
    "Correct. \n",
    "\n",
    "</div>"
   ]
  },
  {
   "cell_type": "code",
   "execution_count": 31,
   "metadata": {},
   "outputs": [],
   "source": [
    "def eval_regressor(y_true, y_pred):\n",
    "    rmse = math.sqrt(sklearn.metrics.mean_squared_error(y_true, y_pred))\n",
    "    print(f'RMSE: {rmse:.2f}')\n",
    "    \n",
    "    r2_score = sklearn.metrics.r2_score(y_true, y_pred)\n",
    "    print(f'R2: {r2_score:.2f}')\n"
   ]
  },
  {
   "cell_type": "code",
   "execution_count": 32,
   "metadata": {},
   "outputs": [
    {
     "name": "stdout",
     "output_type": "stream",
     "text": [
      "Results for Unscaled Data:\n",
      "RMSE: 0.36\n",
      "R2: 0.43\n"
     ]
    }
   ],
   "source": [
    "# Running linear regression on unscaled data\n",
    "lr_unscaled = MyLinearRegression()\n",
    "lr_unscaled.fit(X_train, y_train)\n",
    "\n",
    "# Making predictions\n",
    "y_pred_unscaled = lr_unscaled.predict(X_test)\n",
    "\n",
    "# Evaluating the model\n",
    "print(\"Results for Unscaled Data:\")\n",
    "eval_regressor(y_test, y_pred_unscaled)\n"
   ]
  },
  {
   "cell_type": "code",
   "execution_count": 33,
   "metadata": {},
   "outputs": [
    {
     "name": "stdout",
     "output_type": "stream",
     "text": [
      "\n",
      "Results for Scaled Data:\n",
      "RMSE: 0.36\n",
      "R2: 0.43\n"
     ]
    }
   ],
   "source": [
    "# Running linear regression on scaled data\n",
    "lr_scaled = MyLinearRegression()\n",
    "lr_scaled.fit(X_train_scaled, y_train)\n",
    "\n",
    "# Making predictions\n",
    "y_pred_scaled = lr_scaled.predict(X_test_scaled)\n",
    "\n",
    "# Evaluating the model\n",
    "print(\"\\nResults for Scaled Data:\")\n",
    "eval_regressor(y_test, y_pred_scaled)\n"
   ]
  },
  {
   "cell_type": "markdown",
   "metadata": {},
   "source": [
    "\n",
    "<div class=\"alert alert-danger\" style=\"border-radius: 15px; box-shadow: 4px 4px 4px; border: 1px solid \">\n",
    "<b>   Reviewer's comment </b>  \n",
    "    \n",
    "    \n",
    "We need to run it on both scaled and unscaled data. Please don't forget to scale after splitting.\n",
    "    \n",
    "    \n",
    "    \n",
    "Do the results differ and why? \n",
    "\n",
    "\n",
    "</div>"
   ]
  },
  {
   "cell_type": "markdown",
   "metadata": {},
   "source": [
    "**Do the results differ and why?**\n",
    "No, the results do not differ because Linear Regression (normal equation) is not affected by feature scaling. Unlike distance-based models (e.g., kNN), Linear Regression automatically adjusts weights to the feature scales, making scaling unnecessary in this case. "
   ]
  },
  {
   "cell_type": "markdown",
   "metadata": {},
   "source": [
    "**1. Does the model fit the data well?**\n",
    "\n",
    "The R² score of 0.43 suggests that the model explains 43% of the variance in the target variable (insurance_benefits). This indicates a moderate fit, meaning the model captures some patterns but still has room for improvement. The RMSE of 0.36 shows that the prediction errors are relatively low, but additional features or more complex models may improve accuracy.\n"
   ]
  },
  {
   "cell_type": "markdown",
   "metadata": {},
   "source": [
    "**2. Does scaling the data impact RMSE?** \n",
    "\n",
    "No, scaling does not impact RMSE in this case. Both scaled and unscaled data resulted in RMSE = 0.36, confirming that Linear Regression is not affected by feature scaling when using the normal equation. Unlike distance-based models (e.g., kNN), Linear Regression automatically adjusts for different feature scales, making scaling unnecessary.\n",
    "\n"
   ]
  },
  {
   "cell_type": "markdown",
   "metadata": {},
   "source": [
    "**3. Do all features contribute equally?**\n",
    "\n",
    "No, different features contribute unequally to the predictions. The model's weights suggest that age (0.0358) and income (0.0195) have the most influence on the number of insurance benefits received. Family members (-0.0121) has a slight negative impact, meaning more family members might correlate with fewer benefits received. Gender has negligible influence, indicating it is not a strong predictor in this dataset. "
   ]
  },
  {
   "cell_type": "markdown",
   "metadata": {},
   "source": [
    "<div class=\"alert alert-success\" style=\"border-radius: 15px; box-shadow: 4px 4px 4px; border: 1px solid \">\n",
    "<h2>   Reviewer's comment 2 </h2>\n",
    "    \n",
    "Exactly! So scaling does not change RMSE for Linear Regression. However, if we apply regularization, scaling may be very useful. \n",
    "\n",
    "</div>"
   ]
  },
  {
   "cell_type": "markdown",
   "metadata": {},
   "source": [
    "# Task 4. Obfuscating Data"
   ]
  },
  {
   "cell_type": "markdown",
   "metadata": {},
   "source": [
    "It best to obfuscate data by multiplying the numerical features (remember, they can be seen as the matrix $X$) by an invertible matrix $P$. \n",
    "\n",
    "$$\n",
    "X' = X \\times P\n",
    "$$\n",
    "\n",
    "Try to do that and check how the features' values will look like after the transformation. By the way, the intertible property is important here so make sure that $P$ is indeed invertible.\n",
    "\n",
    "You may want to review the 'Matrices and Matrix Operations -> Matrix Multiplication' lesson to recall the rule of matrix multiplication and its implementation with NumPy."
   ]
  },
  {
   "cell_type": "code",
   "execution_count": 34,
   "metadata": {},
   "outputs": [],
   "source": [
    "personal_info_column_list = ['gender', 'age', 'income', 'family_members']\n",
    "df_pn = df[personal_info_column_list]"
   ]
  },
  {
   "cell_type": "code",
   "execution_count": 35,
   "metadata": {},
   "outputs": [],
   "source": [
    "X = df_pn.to_numpy()"
   ]
  },
  {
   "cell_type": "markdown",
   "metadata": {},
   "source": [
    "Generating a random matrix $P$."
   ]
  },
  {
   "cell_type": "code",
   "execution_count": 36,
   "metadata": {},
   "outputs": [],
   "source": [
    "rng = np.random.default_rng(seed=42)\n",
    "P = rng.random(size=(X.shape[1], X.shape[1]))"
   ]
  },
  {
   "cell_type": "markdown",
   "metadata": {},
   "source": [
    "Checking the matrix $P$ is invertible"
   ]
  },
  {
   "cell_type": "code",
   "execution_count": 37,
   "metadata": {},
   "outputs": [
    {
     "name": "stdout",
     "output_type": "stream",
     "text": [
      "Matrix P is invertible.\n"
     ]
    }
   ],
   "source": [
    "# Checking if P is invertible\n",
    "if np.linalg.det(P) != 0:\n",
    "    print(\"Matrix P is invertible.\")\n",
    "else:\n",
    "    print(\"Matrix P is not invertible. Regenerating...\")\n",
    "\n",
    "    # Ensure we generate an invertible matrix\n",
    "    while True:\n",
    "        P = rng.random(size=(X.shape[1], X.shape[1]))\n",
    "        if np.linalg.det(P) != 0:\n",
    "            break\n",
    "\n",
    "    print(\"New matrix P is invertible.\")\n"
   ]
  },
  {
   "cell_type": "markdown",
   "metadata": {},
   "source": [
    "Can you guess the customers' ages or income after the transformation?"
   ]
  },
  {
   "cell_type": "code",
   "execution_count": 38,
   "metadata": {},
   "outputs": [
    {
     "data": {
      "text/html": [
       "<div>\n",
       "<style scoped>\n",
       "    .dataframe tbody tr th:only-of-type {\n",
       "        vertical-align: middle;\n",
       "    }\n",
       "\n",
       "    .dataframe tbody tr th {\n",
       "        vertical-align: top;\n",
       "    }\n",
       "\n",
       "    .dataframe thead th {\n",
       "        text-align: right;\n",
       "    }\n",
       "</style>\n",
       "<table border=\"1\" class=\"dataframe\">\n",
       "  <thead>\n",
       "    <tr style=\"text-align: right;\">\n",
       "      <th></th>\n",
       "      <th>gender</th>\n",
       "      <th>age</th>\n",
       "      <th>income</th>\n",
       "      <th>family_members</th>\n",
       "    </tr>\n",
       "  </thead>\n",
       "  <tbody>\n",
       "    <tr>\n",
       "      <th>0</th>\n",
       "      <td>6359.715273</td>\n",
       "      <td>22380.404676</td>\n",
       "      <td>18424.090742</td>\n",
       "      <td>46000.696690</td>\n",
       "    </tr>\n",
       "    <tr>\n",
       "      <th>1</th>\n",
       "      <td>4873.294065</td>\n",
       "      <td>17160.367030</td>\n",
       "      <td>14125.780761</td>\n",
       "      <td>35253.455773</td>\n",
       "    </tr>\n",
       "    <tr>\n",
       "      <th>2</th>\n",
       "      <td>2693.117429</td>\n",
       "      <td>9486.397744</td>\n",
       "      <td>7808.831560</td>\n",
       "      <td>19484.860631</td>\n",
       "    </tr>\n",
       "    <tr>\n",
       "      <th>3</th>\n",
       "      <td>5345.603937</td>\n",
       "      <td>18803.227203</td>\n",
       "      <td>15479.148373</td>\n",
       "      <td>38663.061863</td>\n",
       "    </tr>\n",
       "    <tr>\n",
       "      <th>4</th>\n",
       "      <td>3347.176735</td>\n",
       "      <td>11782.829283</td>\n",
       "      <td>9699.998942</td>\n",
       "      <td>24211.273378</td>\n",
       "    </tr>\n",
       "  </tbody>\n",
       "</table>\n",
       "</div>"
      ],
      "text/plain": [
       "        gender           age        income  family_members\n",
       "0  6359.715273  22380.404676  18424.090742    46000.696690\n",
       "1  4873.294065  17160.367030  14125.780761    35253.455773\n",
       "2  2693.117429   9486.397744   7808.831560    19484.860631\n",
       "3  5345.603937  18803.227203  15479.148373    38663.061863\n",
       "4  3347.176735  11782.829283   9699.998942    24211.273378"
      ]
     },
     "metadata": {},
     "output_type": "display_data"
    }
   ],
   "source": [
    "# Transforming the data\n",
    "X_obfuscated = X @ P\n",
    "\n",
    "# Convert to DataFrame\n",
    "df_obfuscated = pd.DataFrame(X_obfuscated, columns=personal_info_column_list)\n",
    "\n",
    "# Display obfuscated data\n",
    "display(df_obfuscated.head())\n"
   ]
  },
  {
   "cell_type": "markdown",
   "metadata": {},
   "source": [
    "The obfuscation process effectively masks the original data, making it difficult to interpret values such as age, income, or family members. The transformed data consists of distorted numerical values that no longer resemble their original meanings, ensuring that sensitive information remains protected. This transformation successfully prevents unauthorized access or misuse of personal data while preserving the dataset's structure for further machine learning applications. However, since the transformation relies on matrix multiplication with an invertible matrix \\( P \\), it remains mathematically reversible. This means that if \\( P \\) is known, the original data can still be recovered, ensuring that the obfuscation process is both secure and functional for analytical purposes."
   ]
  },
  {
   "cell_type": "markdown",
   "metadata": {},
   "source": [
    "Can you recover the original data from $X'$ if you know $P$? Try to check that with calculations by moving $P$ from the right side of the formula above to the left one. The rules of matrix multiplcation are really helpful here."
   ]
  },
  {
   "cell_type": "code",
   "execution_count": 39,
   "metadata": {},
   "outputs": [
    {
     "data": {
      "text/html": [
       "<div>\n",
       "<style scoped>\n",
       "    .dataframe tbody tr th:only-of-type {\n",
       "        vertical-align: middle;\n",
       "    }\n",
       "\n",
       "    .dataframe tbody tr th {\n",
       "        vertical-align: top;\n",
       "    }\n",
       "\n",
       "    .dataframe thead th {\n",
       "        text-align: right;\n",
       "    }\n",
       "</style>\n",
       "<table border=\"1\" class=\"dataframe\">\n",
       "  <thead>\n",
       "    <tr style=\"text-align: right;\">\n",
       "      <th></th>\n",
       "      <th>gender</th>\n",
       "      <th>age</th>\n",
       "      <th>income</th>\n",
       "      <th>family_members</th>\n",
       "    </tr>\n",
       "  </thead>\n",
       "  <tbody>\n",
       "    <tr>\n",
       "      <th>0</th>\n",
       "      <td>1.000000e+00</td>\n",
       "      <td>41.0</td>\n",
       "      <td>49600.0</td>\n",
       "      <td>1.000000e+00</td>\n",
       "    </tr>\n",
       "    <tr>\n",
       "      <th>1</th>\n",
       "      <td>-4.473636e-12</td>\n",
       "      <td>46.0</td>\n",
       "      <td>38000.0</td>\n",
       "      <td>1.000000e+00</td>\n",
       "    </tr>\n",
       "    <tr>\n",
       "      <th>2</th>\n",
       "      <td>-2.515869e-12</td>\n",
       "      <td>29.0</td>\n",
       "      <td>21000.0</td>\n",
       "      <td>9.524523e-13</td>\n",
       "    </tr>\n",
       "    <tr>\n",
       "      <th>3</th>\n",
       "      <td>-4.844982e-12</td>\n",
       "      <td>21.0</td>\n",
       "      <td>41700.0</td>\n",
       "      <td>2.000000e+00</td>\n",
       "    </tr>\n",
       "    <tr>\n",
       "      <th>4</th>\n",
       "      <td>1.000000e+00</td>\n",
       "      <td>28.0</td>\n",
       "      <td>26100.0</td>\n",
       "      <td>-1.019907e-13</td>\n",
       "    </tr>\n",
       "  </tbody>\n",
       "</table>\n",
       "</div>"
      ],
      "text/plain": [
       "         gender   age   income  family_members\n",
       "0  1.000000e+00  41.0  49600.0    1.000000e+00\n",
       "1 -4.473636e-12  46.0  38000.0    1.000000e+00\n",
       "2 -2.515869e-12  29.0  21000.0    9.524523e-13\n",
       "3 -4.844982e-12  21.0  41700.0    2.000000e+00\n",
       "4  1.000000e+00  28.0  26100.0   -1.019907e-13"
      ]
     },
     "metadata": {},
     "output_type": "display_data"
    }
   ],
   "source": [
    "# Recovering the original data\n",
    "P_inv = np.linalg.inv(P)\n",
    "X_recovered = X_obfuscated @ P_inv\n",
    "\n",
    "# Convert to DataFrame\n",
    "df_recovered = pd.DataFrame(X_recovered, columns=personal_info_column_list)\n",
    "\n",
    "# Display recovered data\n",
    "display(df_recovered.head())\n"
   ]
  },
  {
   "cell_type": "markdown",
   "metadata": {},
   "source": [
    "The recovery process successfully restores the original data from the obfuscated version using the inverse of matrix \\( P \\). The recovered values closely match the original dataset, demonstrating that the transformation was fully reversible. However, small numerical inaccuracies, such as very small negative or near-zero values, are observed due to floating-point precision errors during matrix inversion. These deviations are minimal and do not significantly impact the data integrity, confirming that the obfuscation technique preserves the ability to restore original values when needed while still providing protection against unauthorized access."
   ]
  },
  {
   "cell_type": "markdown",
   "metadata": {},
   "source": [
    "<div class=\"alert alert-success\" style=\"border-radius: 15px; box-shadow: 4px 4px 4px; border: 1px solid \">\n",
    "<h2>   Reviewer's comment </h2>\n",
    "    \n",
    "So we cannot guess the customers' ages or income after the transformation, but we can recover the original data as long as the matrix is invertible.\n",
    "    \n",
    "</div>"
   ]
  },
  {
   "cell_type": "markdown",
   "metadata": {},
   "source": [
    "Print all three cases for a few customers\n",
    "- The original data\n",
    "- The transformed one\n",
    "- The reversed (recovered) one"
   ]
  },
  {
   "cell_type": "code",
   "execution_count": 40,
   "metadata": {},
   "outputs": [
    {
     "data": {
      "text/html": [
       "<div>\n",
       "<style scoped>\n",
       "    .dataframe tbody tr th:only-of-type {\n",
       "        vertical-align: middle;\n",
       "    }\n",
       "\n",
       "    .dataframe tbody tr th {\n",
       "        vertical-align: top;\n",
       "    }\n",
       "\n",
       "    .dataframe thead tr th {\n",
       "        text-align: left;\n",
       "    }\n",
       "</style>\n",
       "<table border=\"1\" class=\"dataframe\">\n",
       "  <thead>\n",
       "    <tr>\n",
       "      <th></th>\n",
       "      <th colspan=\"4\" halign=\"left\">Original</th>\n",
       "      <th colspan=\"4\" halign=\"left\">Obfuscated</th>\n",
       "      <th colspan=\"4\" halign=\"left\">Recovered</th>\n",
       "    </tr>\n",
       "    <tr>\n",
       "      <th></th>\n",
       "      <th>gender</th>\n",
       "      <th>age</th>\n",
       "      <th>income</th>\n",
       "      <th>family_members</th>\n",
       "      <th>gender</th>\n",
       "      <th>age</th>\n",
       "      <th>income</th>\n",
       "      <th>family_members</th>\n",
       "      <th>gender</th>\n",
       "      <th>age</th>\n",
       "      <th>income</th>\n",
       "      <th>family_members</th>\n",
       "    </tr>\n",
       "  </thead>\n",
       "  <tbody>\n",
       "    <tr>\n",
       "      <th>0</th>\n",
       "      <td>1</td>\n",
       "      <td>41</td>\n",
       "      <td>49600.0</td>\n",
       "      <td>1</td>\n",
       "      <td>6359.715273</td>\n",
       "      <td>22380.404676</td>\n",
       "      <td>18424.090742</td>\n",
       "      <td>46000.696690</td>\n",
       "      <td>1.000000e+00</td>\n",
       "      <td>41.0</td>\n",
       "      <td>49600.0</td>\n",
       "      <td>1.000000e+00</td>\n",
       "    </tr>\n",
       "    <tr>\n",
       "      <th>1</th>\n",
       "      <td>0</td>\n",
       "      <td>46</td>\n",
       "      <td>38000.0</td>\n",
       "      <td>1</td>\n",
       "      <td>4873.294065</td>\n",
       "      <td>17160.367030</td>\n",
       "      <td>14125.780761</td>\n",
       "      <td>35253.455773</td>\n",
       "      <td>-4.473636e-12</td>\n",
       "      <td>46.0</td>\n",
       "      <td>38000.0</td>\n",
       "      <td>1.000000e+00</td>\n",
       "    </tr>\n",
       "    <tr>\n",
       "      <th>2</th>\n",
       "      <td>0</td>\n",
       "      <td>29</td>\n",
       "      <td>21000.0</td>\n",
       "      <td>0</td>\n",
       "      <td>2693.117429</td>\n",
       "      <td>9486.397744</td>\n",
       "      <td>7808.831560</td>\n",
       "      <td>19484.860631</td>\n",
       "      <td>-2.515869e-12</td>\n",
       "      <td>29.0</td>\n",
       "      <td>21000.0</td>\n",
       "      <td>9.524523e-13</td>\n",
       "    </tr>\n",
       "    <tr>\n",
       "      <th>3</th>\n",
       "      <td>0</td>\n",
       "      <td>21</td>\n",
       "      <td>41700.0</td>\n",
       "      <td>2</td>\n",
       "      <td>5345.603937</td>\n",
       "      <td>18803.227203</td>\n",
       "      <td>15479.148373</td>\n",
       "      <td>38663.061863</td>\n",
       "      <td>-4.844982e-12</td>\n",
       "      <td>21.0</td>\n",
       "      <td>41700.0</td>\n",
       "      <td>2.000000e+00</td>\n",
       "    </tr>\n",
       "    <tr>\n",
       "      <th>4</th>\n",
       "      <td>1</td>\n",
       "      <td>28</td>\n",
       "      <td>26100.0</td>\n",
       "      <td>0</td>\n",
       "      <td>3347.176735</td>\n",
       "      <td>11782.829283</td>\n",
       "      <td>9699.998942</td>\n",
       "      <td>24211.273378</td>\n",
       "      <td>1.000000e+00</td>\n",
       "      <td>28.0</td>\n",
       "      <td>26100.0</td>\n",
       "      <td>-1.019907e-13</td>\n",
       "    </tr>\n",
       "  </tbody>\n",
       "</table>\n",
       "</div>"
      ],
      "text/plain": [
       "  Original                               Obfuscated                \\\n",
       "    gender age   income family_members       gender           age   \n",
       "0        1  41  49600.0              1  6359.715273  22380.404676   \n",
       "1        0  46  38000.0              1  4873.294065  17160.367030   \n",
       "2        0  29  21000.0              0  2693.117429   9486.397744   \n",
       "3        0  21  41700.0              2  5345.603937  18803.227203   \n",
       "4        1  28  26100.0              0  3347.176735  11782.829283   \n",
       "\n",
       "                                   Recovered                                \n",
       "         income family_members        gender   age   income family_members  \n",
       "0  18424.090742   46000.696690  1.000000e+00  41.0  49600.0   1.000000e+00  \n",
       "1  14125.780761   35253.455773 -4.473636e-12  46.0  38000.0   1.000000e+00  \n",
       "2   7808.831560   19484.860631 -2.515869e-12  29.0  21000.0   9.524523e-13  \n",
       "3  15479.148373   38663.061863 -4.844982e-12  21.0  41700.0   2.000000e+00  \n",
       "4   9699.998942   24211.273378  1.000000e+00  28.0  26100.0  -1.019907e-13  "
      ]
     },
     "metadata": {},
     "output_type": "display_data"
    }
   ],
   "source": [
    "# Select a few customers for comparison\n",
    "sample_indices = [0, 1, 2, 3, 4]\n",
    "\n",
    "df_comparison = pd.concat([\n",
    "    df_pn.iloc[sample_indices].reset_index(drop=True),  # Original data\n",
    "    df_obfuscated.iloc[sample_indices].reset_index(drop=True),  # Transformed data\n",
    "    df_recovered.iloc[sample_indices].reset_index(drop=True)  # Recovered data\n",
    "], axis=1, keys=['Original', 'Obfuscated', 'Recovered'])\n",
    "\n",
    "# Display the comparison\n",
    "display(df_comparison)\n"
   ]
  },
  {
   "cell_type": "markdown",
   "metadata": {},
   "source": [
    "The differences between the original and recovered values are primarily due to floating-point precision errors that occur during the matrix inversion process. These small discrepancies, often seen as near-zero values or slightly altered numbers, are a result of numerical instability and rounding errors inherent in computational matrix operations. Despite these minor inaccuracies, the overall data integrity remains intact, and the transformation effectively obfuscates the data while allowing for successful recovery when the obfuscation matrix is known."
   ]
  },
  {
   "cell_type": "markdown",
   "metadata": {},
   "source": [
    "<div class=\"alert alert-success\" style=\"border-radius: 15px; box-shadow: 4px 4px 4px; border: 1px solid \">\n",
    "<h2>   Reviewer's comment </h2>\n",
    "    \n",
    "Well done!     \n",
    "</div>"
   ]
  },
  {
   "cell_type": "markdown",
   "metadata": {},
   "source": [
    "You can probably see that some values are not exactly the same as they are in the original data. What might be the reason for that?"
   ]
  },
  {
   "cell_type": "code",
   "execution_count": 41,
   "metadata": {},
   "outputs": [
    {
     "data": {
      "text/html": [
       "<div>\n",
       "<style scoped>\n",
       "    .dataframe tbody tr th:only-of-type {\n",
       "        vertical-align: middle;\n",
       "    }\n",
       "\n",
       "    .dataframe tbody tr th {\n",
       "        vertical-align: top;\n",
       "    }\n",
       "\n",
       "    .dataframe thead th {\n",
       "        text-align: right;\n",
       "    }\n",
       "</style>\n",
       "<table border=\"1\" class=\"dataframe\">\n",
       "  <thead>\n",
       "    <tr style=\"text-align: right;\">\n",
       "      <th></th>\n",
       "      <th>gender</th>\n",
       "      <th>age</th>\n",
       "      <th>income</th>\n",
       "      <th>family_members</th>\n",
       "    </tr>\n",
       "  </thead>\n",
       "  <tbody>\n",
       "    <tr>\n",
       "      <th>count</th>\n",
       "      <td>4.847000e+03</td>\n",
       "      <td>4.847000e+03</td>\n",
       "      <td>4.847000e+03</td>\n",
       "      <td>4.847000e+03</td>\n",
       "    </tr>\n",
       "    <tr>\n",
       "      <th>mean</th>\n",
       "      <td>4.600360e-12</td>\n",
       "      <td>3.183860e-12</td>\n",
       "      <td>3.845134e-12</td>\n",
       "      <td>2.544683e-12</td>\n",
       "    </tr>\n",
       "    <tr>\n",
       "      <th>std</th>\n",
       "      <td>2.090316e-12</td>\n",
       "      <td>2.152745e-12</td>\n",
       "      <td>4.313945e-12</td>\n",
       "      <td>1.878424e-12</td>\n",
       "    </tr>\n",
       "    <tr>\n",
       "      <th>min</th>\n",
       "      <td>1.395050e-14</td>\n",
       "      <td>0.000000e+00</td>\n",
       "      <td>0.000000e+00</td>\n",
       "      <td>0.000000e+00</td>\n",
       "    </tr>\n",
       "    <tr>\n",
       "      <th>25%</th>\n",
       "      <td>3.124163e-12</td>\n",
       "      <td>1.463718e-12</td>\n",
       "      <td>0.000000e+00</td>\n",
       "      <td>1.033840e-12</td>\n",
       "    </tr>\n",
       "    <tr>\n",
       "      <th>50%</th>\n",
       "      <td>4.450329e-12</td>\n",
       "      <td>2.870593e-12</td>\n",
       "      <td>3.637979e-12</td>\n",
       "      <td>2.202461e-12</td>\n",
       "    </tr>\n",
       "    <tr>\n",
       "      <th>75%</th>\n",
       "      <td>5.923442e-12</td>\n",
       "      <td>4.474643e-12</td>\n",
       "      <td>7.275958e-12</td>\n",
       "      <td>3.656631e-12</td>\n",
       "    </tr>\n",
       "    <tr>\n",
       "      <th>max</th>\n",
       "      <td>1.283369e-11</td>\n",
       "      <td>1.243450e-11</td>\n",
       "      <td>2.182787e-11</td>\n",
       "      <td>1.175238e-11</td>\n",
       "    </tr>\n",
       "  </tbody>\n",
       "</table>\n",
       "</div>"
      ],
      "text/plain": [
       "             gender           age        income  family_members\n",
       "count  4.847000e+03  4.847000e+03  4.847000e+03    4.847000e+03\n",
       "mean   4.600360e-12  3.183860e-12  3.845134e-12    2.544683e-12\n",
       "std    2.090316e-12  2.152745e-12  4.313945e-12    1.878424e-12\n",
       "min    1.395050e-14  0.000000e+00  0.000000e+00    0.000000e+00\n",
       "25%    3.124163e-12  1.463718e-12  0.000000e+00    1.033840e-12\n",
       "50%    4.450329e-12  2.870593e-12  3.637979e-12    2.202461e-12\n",
       "75%    5.923442e-12  4.474643e-12  7.275958e-12    3.656631e-12\n",
       "max    1.283369e-11  1.243450e-11  2.182787e-11    1.175238e-11"
      ]
     },
     "metadata": {},
     "output_type": "display_data"
    }
   ],
   "source": [
    "# Compute absolute differences between original and recovered data\n",
    "differences = np.abs(df_pn - df_recovered)\n",
    "\n",
    "# Display statistics on differences\n",
    "display(differences.describe())\n"
   ]
  },
  {
   "cell_type": "markdown",
   "metadata": {},
   "source": [
    "The slight differences between the original and recovered data are due to floating-point precision limitations in numerical computations. When performing matrix operations such as inversion and multiplication, minor rounding errors accumulate, leading to small discrepancies. These differences are typically negligible and do not significantly impact the integrity of the data. However, in highly sensitive applications, more precise numerical methods or increased computational precision may be necessary to minimize such errors."
   ]
  },
  {
   "cell_type": "markdown",
   "metadata": {},
   "source": [
    "<div class=\"alert alert-success\" style=\"border-radius: 15px; box-shadow: 4px 4px 4px; border: 1px solid \">\n",
    "<h2>   Reviewer's comment </h2>\n",
    "    \n",
    "Yes, these small differences between the original and recovered data are due to floating-point arithmetic precision limitations.\n",
    "\n",
    "</div>"
   ]
  },
  {
   "cell_type": "markdown",
   "metadata": {},
   "source": [
    "## Proof That Data Obfuscation Can Work with LR"
   ]
  },
  {
   "cell_type": "markdown",
   "metadata": {},
   "source": [
    "The regression task has been solved with linear regression in this project. Your next task is to prove _analytically_ that the given obfuscation method won't affect linear regression in terms of predicted values i.e. their values will remain the same. Can you believe that? Well, you don't have to, you should prove it!"
   ]
  },
  {
   "cell_type": "markdown",
   "metadata": {},
   "source": [
    "So, the data is obfuscated and there is $X \\times P$ instead of just $X$ now. Consequently, there are other weights $w_P$ as\n",
    "$$\n",
    "w = (X^T X)^{-1} X^T y \\quad \\Rightarrow \\quad w_P = [(XP)^T XP]^{-1} (XP)^T y\n",
    "$$\n",
    "\n",
    "How would $w$ and $w_P$ be linked if you simplify the formula for $w_P$ above? \n",
    "\n",
    "What would be predicted values with $w_P$? \n",
    "\n",
    "What does that mean for the quality of linear regression if you measure it with RMSE?\n",
    "\n",
    "Check Appendix B Properties of Matrices in the end of the notebook. There are useful formulas in there!\n",
    "\n",
    "No code is necessary in this section, only analytical explanation!"
   ]
  },
  {
   "cell_type": "markdown",
   "metadata": {},
   "source": [
    "**Answer**"
   ]
  },
  {
   "cell_type": "markdown",
   "metadata": {},
   "source": [
    "When we apply the obfuscation transformation \\( X' = X P \\), the new weight vector \\( w_P \\) is computed as:  \n",
    "$$\n",
    "w_P = [(X P)^T (X P)]^{-1} (X P)^T y\n",
    "$$ \n",
    "Using matrix properties and the fact that \\( P \\) is invertible, we can simplify this to:  \n",
    "$$\n",
    "w_P = P^{-1} w\n",
    "$$  \n",
    "Thus, the predicted values remain the same:  \n",
    "$$\n",
    "\\hat{y} = X w = X P P^{-1} w = X w\n",
    "$$ \n",
    "Since the predictions are unchanged, the RMSE (Root Mean Squared Error) remains **the same**, meaning the quality of the regression model is unaffected by the transformation. This confirms that obfuscation protects private data **without degrading model performance**.\n"
   ]
  },
  {
   "cell_type": "markdown",
   "metadata": {},
   "source": [
    "**Analytical proof**"
   ]
  },
  {
   "cell_type": "markdown",
   "metadata": {},
   "source": [
    "Given the original weight equation for linear regression:  \n",
    "$$\n",
    "w = (X^T X)^{-1} X^T y\n",
    "$$ \n",
    "When obfuscating the data:  \n",
    "$$\n",
    "w_P = [(X P)^T (X P)]^{-1} (X P)^T y\n",
    "$$  \n",
    "Expanding:  \n",
    "$$\n",
    "w_P = (P^T X^T X P)^{-1} P^T X^T y\n",
    "$$  \n",
    "Since \\( P \\) is invertible, we can factor it out:  \n",
    "$$\n",
    "w_P = P^{-1} w\n",
    "$$ \n",
    "Thus, the predictions remain unchanged:  \n",
    "$$\n",
    "\\hat{y} = X w = X P P^{-1} w = X w\n",
    "$$  \n",
    "Since RMSE is based on the difference between actual and predicted values, and those values do not change, the RMSE remains the **same** after obfuscation.\n"
   ]
  },
  {
   "cell_type": "markdown",
   "metadata": {},
   "source": [
    "<div class=\"alert alert-success\" style=\"border-radius: 15px; box-shadow: 4px 4px 4px; border: 1px solid \">\n",
    "<h2>   Reviewer's comment </h2>\n",
    "    \n",
    "Excellent! </div>\n"
   ]
  },
  {
   "cell_type": "markdown",
   "metadata": {},
   "source": [
    "## Test Linear Regression With Data Obfuscation"
   ]
  },
  {
   "cell_type": "markdown",
   "metadata": {},
   "source": [
    "Now, let's prove Linear Regression can work computationally with the chosen obfuscation transformation.\n",
    "\n",
    "Build a procedure or a class that runs Linear Regression optionally with the obfuscation. You can use either a ready implementation of Linear Regression from sciki-learn or your own.\n",
    "\n",
    "Run Linear Regression for the original data and the obfuscated one, compare the predicted values and the RMSE, $R^2$ metric values. Is there any difference?"
   ]
  },
  {
   "cell_type": "markdown",
   "metadata": {},
   "source": [
    "**Procedure**\n",
    "\n",
    "- Create a square matrix $P$ of random numbers.\n",
    "- Check that it is invertible. If not, repeat the first point until we get an invertible matrix.\n",
    "- <! your comment here !>\n",
    "- Use $XP$ as the new feature matrix"
   ]
  },
  {
   "cell_type": "markdown",
   "metadata": {},
   "source": [
    "\n",
    "<div class=\"alert alert-warning\" style=\"border-radius: 15px; box-shadow: 4px 4px 4px; border: 1px solid \">\n",
    "<h2>   Reviewer's comment  2 </h2>\n",
    "    \n",
    "In such tasks, just write your thoughts. For instance, we need to define Linear Regression object, then multiply X by P. \n",
    "    \n",
    "</div>\n",
    "<div class=\"alert alert-danger\" style=\"border-radius: 15px; box-shadow: 4px 4px 4px; border: 1px solid \">\n",
    "<b>   Reviewer's comment </b>\n",
    "    \n",
    "\n",
    "> `<! your comment here !>`\n",
    "\n",
    "\n",
    "is for your comment. Would you add it? </div>"
   ]
  },
  {
   "cell_type": "code",
   "execution_count": 42,
   "metadata": {},
   "outputs": [],
   "source": [
    "# Generate an invertible matrix P\n",
    "while True:\n",
    "    P = np.random.rand(X.shape[1], X.shape[1])  # Random square matrix\n",
    "    if np.linalg.det(P) != 0:  # Ensure it's invertible\n",
    "        break\n"
   ]
  },
  {
   "cell_type": "code",
   "execution_count": 43,
   "metadata": {},
   "outputs": [],
   "source": [
    "# Obfuscating the feature matrix X by multiplying it with P to transform the data while preserving its structure.\n"
   ]
  },
  {
   "cell_type": "code",
   "execution_count": 44,
   "metadata": {},
   "outputs": [],
   "source": [
    "# Transform the feature matrix using P\n",
    "X_obfuscated = X @ P\n"
   ]
  },
  {
   "cell_type": "code",
   "execution_count": 45,
   "metadata": {},
   "outputs": [],
   "source": [
    "# Train Linear Regression on the obfuscated data\n",
    "X_train_obf, X_test_obf, _, _ = train_test_split(X_obfuscated, y, test_size=0.3, random_state=12345)\n",
    "\n",
    "lr_obf = LinearRegression()\n",
    "lr_obf.fit(X_train_obf, y_train)\n",
    "y_pred_obf = lr_obf.predict(X_test_obf)\n"
   ]
  },
  {
   "cell_type": "code",
   "execution_count": 46,
   "metadata": {},
   "outputs": [],
   "source": [
    "def evaluate_model(y_true, y_pred, model_name):\n",
    "    rmse = math.sqrt(mean_squared_error(y_true, y_pred))\n",
    "    r2 = r2_score(y_true, y_pred)\n",
    "\n",
    "    print(f\"Model: {model_name}\")\n",
    "    print(f\"RMSE: {rmse:.4f}\")\n",
    "    print(f\"R² Score: {r2:.4f}\")\n",
    "    print(\"-\" * 30)\n"
   ]
  },
  {
   "cell_type": "code",
   "execution_count": 47,
   "metadata": {},
   "outputs": [],
   "source": [
    "# Train Linear Regression on the original data\n",
    "X_train, X_test, y_train, y_test = train_test_split(\n",
    "    X, y, test_size=0.3, random_state=12345\n",
    ")\n",
    "\n",
    "lr = LinearRegression()\n",
    "lr.fit(X_train, y_train)\n",
    "y_pred_orig = lr.predict(X_test)\n"
   ]
  },
  {
   "cell_type": "code",
   "execution_count": 48,
   "metadata": {},
   "outputs": [
    {
     "name": "stdout",
     "output_type": "stream",
     "text": [
      "Model: Original Model\n",
      "RMSE: 0.3602\n",
      "R² Score: 0.4329\n",
      "------------------------------\n",
      "Model: Obfuscated Model\n",
      "RMSE: 0.3602\n",
      "R² Score: 0.4329\n",
      "------------------------------\n"
     ]
    }
   ],
   "source": [
    "# Compare results\n",
    "evaluate_model(y_test, y_pred_orig, \"Original Model\")\n",
    "evaluate_model(y_test, y_pred_obf, \"Obfuscated Model\")\n",
    "\n"
   ]
  },
  {
   "cell_type": "markdown",
   "metadata": {},
   "source": [
    "<div class=\"alert alert-danger\" style=\"border-radius: 15px; box-shadow: 4px 4px 4px; border: 1px solid \">\n",
    "<b>   Reviewer's comment </b>\n",
    "    \n",
    "Please add a conclusion to this section. \n",
    "\n",
    "\n",
    "\n",
    "</div>"
   ]
  },
  {
   "cell_type": "markdown",
   "metadata": {},
   "source": [
    "### Conclusion:\n",
    "\n",
    "The results demonstrate that applying the obfuscation transformation does not affect the performance of the linear regression model. Both the original and obfuscated models yield identical RMSE (0.3602) and R² score (0.4329), confirming that the transformation preserves the relationships between the features and the target variable. This proves that obfuscating the data using an invertible matrix \\( P \\) does not degrade the predictive ability of the model, ensuring both data privacy and model effectiveness."
   ]
  },
  {
   "cell_type": "markdown",
   "metadata": {},
   "source": [
    "<div class=\"alert alert-success\" style=\"border-radius: 15px; box-shadow: 4px 4px 4px; border: 1px solid \">\n",
    "<h2>   Reviewer's comment 2 </h2>\n",
    "    \n",
    "So there's no difference when we use obfuscated data.  As a result, we can protect client information.\n",
    "\n",
    "</div>"
   ]
  },
  {
   "cell_type": "markdown",
   "metadata": {},
   "source": [
    "# Conclusions"
   ]
  },
  {
   "cell_type": "markdown",
   "metadata": {},
   "source": [
    "### Task 1: Finding Similar Customers\n",
    "We implemented a k-nearest neighbors (kNN) procedure to identify customers similar to a given customer.  \n",
    "The procedure was tested using four different combinations of scaling (MaxAbsScaler vs. unscaled) and distance metrics (Euclidean vs. Manhattan).  \n",
    "We found that scaling significantly affects kNN results because features with larger numerical ranges (e.g., income) dominate the distance calculations when unscaled.  \n",
    "**Updated Findings:**  \n",
    "- **Euclidean Distance:** Scaling had a significant impact, with F1-scores improving when data was scaled.  \n",
    "- **Manhattan Distance:** Results were more consistent across both scaled and unscaled data.  \n",
    "- **Best Performance:** kNN performed best when data was scaled and k=1 or k=9, achieving an F1-score of 0.95.  \n",
    "\n",
    "**Key Takeaway:** Scaling is important for kNN-based similarity searches, particularly when using Euclidean distance.\n",
    "\n"
   ]
  },
  {
   "cell_type": "markdown",
   "metadata": {},
   "source": [
    "### Task 2: Predicting Insurance Benefit Eligibility\n",
    "We formulated the problem as a binary classification task and trained a kNN classifier to predict whether a customer would receive an insurance benefit.  \n",
    "A dummy classifier was tested with different probability thresholds (0, actual class distribution, 0.5, and 1) to establish a baseline.  \n",
    "The kNN model outperformed the dummy model, but the dataset was highly imbalanced, with only 11.6% of customers receiving benefits.  \n",
    "Scaling impacted kNN performance, reinforcing the importance of preprocessing.  \n",
    "\n",
    "**Findings:**   \n",
    "- **kNN Performance Improved After Scaling:** The highest F1-score achieved was **0.95**, a significant improvement from the unscaled version.  \n",
    "- **Scaling Helped kNN Better Identify Positive Cases:** The performance gap between scaled and unscaled models highlights the necessity of normalization.  \n",
    "- **Optimal k Values:** Lower values (k=1, k=3, k=9) generally provided the best results.  \n",
    "\n",
    "**Key Takeaway:** kNN is a viable classification approach, but class imbalance must be addressed (e.g., through resampling or weighting strategies). Scaling significantly improves model performance.\n",
    "\n"
   ]
  },
  {
   "cell_type": "markdown",
   "metadata": {},
   "source": [
    "### Task 3: Predicting Number of Insurance Benefits\n",
    "We implemented Linear Regression from scratch using matrix operations and evaluated its performance using RMSE.  \n",
    "The final RMSE was **0.36**, and the R² score was **0.43**, indicating that while the model captures some patterns, there is room for improvement.  \n",
    "No significant difference was observed between scaled and unscaled data for regression.  \n",
    "\n",
    "**Findings:**  \n",
    "- **Scaling Did Not Affect Linear Regression Performance:** RMSE remained at **0.36** and R² at **0.43** for both scaled and unscaled versions.  \n",
    "- **Feature Contributions Varied:** Age and income had higher weight contributions, while family members had a negative impact on insurance benefits.  \n",
    "\n",
    "**Key Takeaway:** Linear regression provided reasonable predictions, but more advanced models (e.g., polynomial regression, regularization, or tree-based models) could improve accuracy.\n",
    "\n"
   ]
  },
  {
   "cell_type": "markdown",
   "metadata": {},
   "source": [
    "### Task 4: Data Obfuscation and Its Impact on Model Performance\n",
    "To protect customer privacy, we obfuscated numerical data by multiplying it with an invertible random matrix \\( P \\).  \n",
    "\n",
    "We verified that:  \n",
    "- The transformed data was completely unrecognizable.  \n",
    "- The original data could be recovered if \\( P \\) was known.  \n",
    "- **Linear Regression performance remained unchanged when using obfuscated data.**  \n",
    "- Both analytical proof and computational verification confirmed that model quality (RMSE, \\( R^2 \\)) remained the same.  \n",
    "\n",
    "**Findings:**  \n",
    "- **Obfuscation Successfully Hid Sensitive Information:** The obfuscated data was significantly transformed and could not be interpreted directly.  \n",
    "- **Mathematical Reversibility Was Verified:** Using the inverse of \\( P \\), we recovered the original data with minimal floating-point errors.  \n",
    "- **Model Performance Was Preserved:** RMSE and \\( R^2 \\) values were identical for the original and obfuscated data.  \n",
    "\n",
    "**Key Takeaway:** Data obfuscation via matrix multiplication is an effective way to protect sensitive information without degrading model performance.\n",
    "\n"
   ]
  },
  {
   "cell_type": "markdown",
   "metadata": {},
   "source": [
    "### Overall Conclusion\n",
    "This project successfully demonstrated how machine learning techniques can be applied to customer data for predictive modeling while ensuring privacy through data obfuscation. The key lessons include:  \n",
    "\n",
    "- **Scaling is crucial for distance-based models like kNN.** Without scaling, Euclidean distance is heavily skewed by large numerical features such as income.  \n",
    "- **Handling class imbalance is necessary for meaningful classification results.** kNN performance improved after scaling, but imbalance still affected results.  \n",
    "- **Linear regression provides a solid baseline but can be improved with more complex models.** While RMSE was moderate (0.36), advanced models could yield better accuracy.  \n",
    "- **Data obfuscation preserves model performance while protecting sensitive information.** The transformation effectively concealed private data without affecting predictive accuracy.  \n",
    "\n",
    "With these insights, **Sure Tomorrow Insurance** can confidently implement machine learning solutions for customer analysis, benefit prediction, and secure data handling.\n"
   ]
  },
  {
   "cell_type": "markdown",
   "metadata": {},
   "source": [
    "<div class=\"alert alert-success\" style=\"border-radius: 15px; box-shadow: 4px 4px 4px; border: 1px solid \">\n",
    "<h2>   Reviewer's comment  </h2>\n",
    "    \n",
    "Excellent job!\n",
    "\n",
    "</div>"
   ]
  },
  {
   "cell_type": "markdown",
   "metadata": {},
   "source": [
    "# Checklist"
   ]
  },
  {
   "cell_type": "markdown",
   "metadata": {},
   "source": [
    "Type 'x' to check. Then press Shift+Enter."
   ]
  },
  {
   "cell_type": "markdown",
   "metadata": {},
   "source": [
    "- [x]  Jupyter Notebook is open\n",
    "- [ ]  Code is error free\n",
    "- [ ]  The cells are arranged in order of logic and execution\n",
    "- [ ]  Task 1 has been performed\n",
    "    - [ ]  There is the procedure that can return k similar customers for a given one\n",
    "    - [ ]  The procedure is tested for all four proposed combinations\n",
    "    - [ ]  The questions re the scaling/distances are answered\n",
    "- [ ]  Task 2 has been performed\n",
    "    - [ ]  The random classification model is built and tested for all for probability levels\n",
    "    - [ ]  The kNN classification model is built and tested for both the original data and the scaled one, the F1 metric is calculated.\n",
    "- [ ]  Task 3 has been performed\n",
    "    - [ ]  The linear tegression solution is implemented with matrix operations.\n",
    "    - [ ]  RMSE is calculated for the implemented solution.\n",
    "- [ ]  Task 4 has been performed\n",
    "    - [ ]  The data is obfuscated with a random and invertible matrix P\n",
    "    - [ ]  The obfuscated data is recoved, few examples are printed out\n",
    "    - [ ]  The analytical proof that the transformation does not affect RMSE is provided \n",
    "    - [ ]  The computational proof that the transformation does not affect RMSE is provided\n",
    "- [ ]  Conclusions have been made"
   ]
  },
  {
   "cell_type": "markdown",
   "metadata": {},
   "source": [
    "# Appendices \n",
    "\n",
    "## Appendix A: Writing Formulas in Jupyter Notebooks"
   ]
  },
  {
   "cell_type": "markdown",
   "metadata": {},
   "source": [
    "You can write formulas in your Jupyter Notebook in a markup language provided by a high-quality publishing system called $\\LaTeX$ (pronounced \"Lah-tech\"), and they will look like formulas in textbooks.\n",
    "\n",
    "To put a formula in a text, put the dollar sign (\\\\$) before and after the formula's text e.g. $\\frac{1}{2} \\times \\frac{3}{2} = \\frac{3}{4}$ or $y = x^2, x \\ge 1$.\n",
    "\n",
    "If a formula should be in its own paragraph, put the double dollar sign (\\\\$\\\\$) before and after the formula text e.g.\n",
    "\n",
    "$$\n",
    "\\bar{x} = \\frac{1}{n}\\sum_{i=1}^{n} x_i.\n",
    "$$\n",
    "\n",
    "The markup language of [LaTeX](https://en.wikipedia.org/wiki/LaTeX) is very popular among people who use formulas in their articles, books and texts. It can be complex but its basics are easy. Check this two page [cheatsheet](http://tug.ctan.org/info/undergradmath/undergradmath.pdf) for learning how to compose the most common formulas."
   ]
  },
  {
   "cell_type": "markdown",
   "metadata": {},
   "source": [
    "## Appendix B: Properties of Matrices"
   ]
  },
  {
   "cell_type": "markdown",
   "metadata": {},
   "source": [
    "Matrices have many properties in Linear Algebra. A few of them are listed here which can help with the analytical proof in this project."
   ]
  },
  {
   "cell_type": "markdown",
   "metadata": {},
   "source": [
    "<table>\n",
    "<tr>\n",
    "<td>Distributivity</td><td>$A(B+C)=AB+AC$</td>\n",
    "</tr>\n",
    "<tr>\n",
    "<td>Non-commutativity</td><td>$AB \\neq BA$</td>\n",
    "</tr>\n",
    "<tr>\n",
    "<td>Associative property of multiplication</td><td>$(AB)C = A(BC)$</td>\n",
    "</tr>\n",
    "<tr>\n",
    "<td>Multiplicative identity property</td><td>$IA = AI = A$</td>\n",
    "</tr>\n",
    "<tr>\n",
    "<td></td><td>$A^{-1}A = AA^{-1} = I$\n",
    "</td>\n",
    "</tr>    \n",
    "<tr>\n",
    "<td></td><td>$(AB)^{-1} = B^{-1}A^{-1}$</td>\n",
    "</tr>    \n",
    "<tr>\n",
    "<td>Reversivity of the transpose of a product of matrices,</td><td>$(AB)^T = B^TA^T$</td>\n",
    "</tr>    \n",
    "</table>"
   ]
  },
  {
   "cell_type": "code",
   "execution_count": null,
   "metadata": {},
   "outputs": [],
   "source": []
  }
 ],
 "metadata": {
  "ExecuteTimeLog": [
   {
    "duration": 2871,
    "start_time": "2025-02-25T20:53:09.813Z"
   },
   {
    "duration": 988,
    "start_time": "2025-02-25T20:53:34.797Z"
   },
   {
    "duration": 10,
    "start_time": "2025-02-25T20:53:35.787Z"
   },
   {
    "duration": 3,
    "start_time": "2025-02-25T20:53:35.798Z"
   },
   {
    "duration": 10,
    "start_time": "2025-02-25T20:53:35.805Z"
   },
   {
    "duration": 10,
    "start_time": "2025-02-25T20:53:35.817Z"
   },
   {
    "duration": 2,
    "start_time": "2025-02-25T20:53:35.828Z"
   },
   {
    "duration": 21,
    "start_time": "2025-02-25T20:53:35.832Z"
   },
   {
    "duration": 2,
    "start_time": "2025-02-25T20:53:35.855Z"
   },
   {
    "duration": 2710,
    "start_time": "2025-02-25T20:53:35.859Z"
   },
   {
    "duration": 3,
    "start_time": "2025-02-25T20:53:38.571Z"
   },
   {
    "duration": 5,
    "start_time": "2025-02-25T20:53:38.576Z"
   },
   {
    "duration": 0,
    "start_time": "2025-02-25T20:53:38.583Z"
   },
   {
    "duration": 0,
    "start_time": "2025-02-25T20:53:38.585Z"
   },
   {
    "duration": 0,
    "start_time": "2025-02-25T20:53:38.586Z"
   },
   {
    "duration": 0,
    "start_time": "2025-02-25T20:53:38.587Z"
   },
   {
    "duration": 0,
    "start_time": "2025-02-25T20:53:38.588Z"
   },
   {
    "duration": 0,
    "start_time": "2025-02-25T20:53:38.589Z"
   },
   {
    "duration": 0,
    "start_time": "2025-02-25T20:53:38.590Z"
   },
   {
    "duration": 0,
    "start_time": "2025-02-25T20:53:38.591Z"
   },
   {
    "duration": 0,
    "start_time": "2025-02-25T20:53:38.605Z"
   },
   {
    "duration": 0,
    "start_time": "2025-02-25T20:53:38.606Z"
   },
   {
    "duration": 0,
    "start_time": "2025-02-25T20:53:38.607Z"
   },
   {
    "duration": 0,
    "start_time": "2025-02-25T20:53:38.609Z"
   },
   {
    "duration": 0,
    "start_time": "2025-02-25T20:53:38.610Z"
   },
   {
    "duration": 3,
    "start_time": "2025-02-25T21:02:12.889Z"
   },
   {
    "duration": 8,
    "start_time": "2025-02-25T21:02:34.090Z"
   },
   {
    "duration": 14,
    "start_time": "2025-02-25T21:03:40.277Z"
   },
   {
    "duration": 16,
    "start_time": "2025-02-25T21:03:52.119Z"
   },
   {
    "duration": 6,
    "start_time": "2025-02-25T21:09:27.465Z"
   },
   {
    "duration": 5,
    "start_time": "2025-02-25T21:10:01.655Z"
   },
   {
    "duration": 7,
    "start_time": "2025-02-25T21:10:20.465Z"
   },
   {
    "duration": 5,
    "start_time": "2025-02-25T21:10:47.437Z"
   },
   {
    "duration": 4,
    "start_time": "2025-02-25T21:20:44.570Z"
   },
   {
    "duration": 9,
    "start_time": "2025-02-25T21:21:29.023Z"
   },
   {
    "duration": 9,
    "start_time": "2025-02-25T21:21:31.734Z"
   },
   {
    "duration": 235,
    "start_time": "2025-02-25T21:27:24.028Z"
   },
   {
    "duration": 23,
    "start_time": "2025-02-25T21:34:01.144Z"
   },
   {
    "duration": 7,
    "start_time": "2025-02-25T22:00:22.285Z"
   },
   {
    "duration": 15,
    "start_time": "2025-02-25T22:00:38.308Z"
   },
   {
    "duration": 3,
    "start_time": "2025-02-25T22:01:04.504Z"
   },
   {
    "duration": 13,
    "start_time": "2025-02-25T22:01:10.403Z"
   },
   {
    "duration": 14,
    "start_time": "2025-02-25T22:01:29.979Z"
   },
   {
    "duration": 21,
    "start_time": "2025-02-25T22:08:55.161Z"
   },
   {
    "duration": 20,
    "start_time": "2025-02-25T22:10:16.855Z"
   },
   {
    "duration": 3,
    "start_time": "2025-02-25T22:11:12.740Z"
   },
   {
    "duration": 3,
    "start_time": "2025-02-25T22:11:16.959Z"
   },
   {
    "duration": 18,
    "start_time": "2025-02-25T22:11:22.715Z"
   },
   {
    "duration": 22,
    "start_time": "2025-02-25T22:11:45.791Z"
   },
   {
    "duration": 11,
    "start_time": "2025-02-25T22:12:10.714Z"
   },
   {
    "duration": 11,
    "start_time": "2025-02-25T22:12:23.666Z"
   },
   {
    "duration": 3,
    "start_time": "2025-02-25T22:41:50.166Z"
   },
   {
    "duration": 2,
    "start_time": "2025-02-25T22:41:50.308Z"
   },
   {
    "duration": 6,
    "start_time": "2025-02-25T22:41:56.802Z"
   },
   {
    "duration": 3,
    "start_time": "2025-02-25T22:42:26.055Z"
   },
   {
    "duration": 5,
    "start_time": "2025-02-25T22:42:28.121Z"
   },
   {
    "duration": 3,
    "start_time": "2025-02-25T22:45:07.971Z"
   },
   {
    "duration": 3,
    "start_time": "2025-02-25T22:45:10.301Z"
   },
   {
    "duration": 1006,
    "start_time": "2025-02-25T23:14:15.307Z"
   },
   {
    "duration": 12,
    "start_time": "2025-02-25T23:14:16.318Z"
   },
   {
    "duration": 3,
    "start_time": "2025-02-25T23:14:16.332Z"
   },
   {
    "duration": 10,
    "start_time": "2025-02-25T23:14:16.337Z"
   },
   {
    "duration": 8,
    "start_time": "2025-02-25T23:14:16.350Z"
   },
   {
    "duration": 4,
    "start_time": "2025-02-25T23:14:16.360Z"
   },
   {
    "duration": 9,
    "start_time": "2025-02-25T23:14:16.366Z"
   },
   {
    "duration": 46,
    "start_time": "2025-02-25T23:14:16.376Z"
   },
   {
    "duration": 6,
    "start_time": "2025-02-25T23:14:16.424Z"
   },
   {
    "duration": 4,
    "start_time": "2025-02-25T23:14:16.432Z"
   },
   {
    "duration": 6,
    "start_time": "2025-02-25T23:14:16.438Z"
   },
   {
    "duration": 2595,
    "start_time": "2025-02-25T23:14:16.446Z"
   },
   {
    "duration": 3,
    "start_time": "2025-02-25T23:14:19.043Z"
   },
   {
    "duration": 4,
    "start_time": "2025-02-25T23:14:19.050Z"
   },
   {
    "duration": 9,
    "start_time": "2025-02-25T23:14:19.057Z"
   },
   {
    "duration": 10,
    "start_time": "2025-02-25T23:14:19.067Z"
   },
   {
    "duration": 42,
    "start_time": "2025-02-25T23:14:19.078Z"
   },
   {
    "duration": 20,
    "start_time": "2025-02-25T23:14:19.123Z"
   },
   {
    "duration": 11,
    "start_time": "2025-02-25T23:14:19.145Z"
   },
   {
    "duration": 11,
    "start_time": "2025-02-25T23:14:19.157Z"
   },
   {
    "duration": 3,
    "start_time": "2025-02-25T23:14:19.170Z"
   },
   {
    "duration": 30,
    "start_time": "2025-02-25T23:14:19.175Z"
   },
   {
    "duration": 4,
    "start_time": "2025-02-25T23:14:19.207Z"
   },
   {
    "duration": 3,
    "start_time": "2025-02-25T23:14:19.212Z"
   },
   {
    "duration": 25,
    "start_time": "2025-02-25T23:14:19.217Z"
   },
   {
    "duration": 4,
    "start_time": "2025-02-25T23:14:19.244Z"
   },
   {
    "duration": 0,
    "start_time": "2025-02-25T23:14:19.250Z"
   },
   {
    "duration": 0,
    "start_time": "2025-02-25T23:14:19.252Z"
   },
   {
    "duration": 0,
    "start_time": "2025-02-25T23:14:19.253Z"
   },
   {
    "duration": 0,
    "start_time": "2025-02-25T23:14:19.254Z"
   },
   {
    "duration": 0,
    "start_time": "2025-02-25T23:14:19.255Z"
   },
   {
    "duration": 7,
    "start_time": "2025-02-26T00:11:51.099Z"
   },
   {
    "duration": 2727,
    "start_time": "2025-02-26T00:12:06.857Z"
   },
   {
    "duration": 10,
    "start_time": "2025-02-26T00:12:09.586Z"
   },
   {
    "duration": 3,
    "start_time": "2025-02-26T00:12:09.598Z"
   },
   {
    "duration": 11,
    "start_time": "2025-02-26T00:12:09.603Z"
   },
   {
    "duration": 8,
    "start_time": "2025-02-26T00:12:09.616Z"
   },
   {
    "duration": 3,
    "start_time": "2025-02-26T00:12:09.626Z"
   },
   {
    "duration": 8,
    "start_time": "2025-02-26T00:12:09.631Z"
   },
   {
    "duration": 44,
    "start_time": "2025-02-26T00:12:09.640Z"
   },
   {
    "duration": 4,
    "start_time": "2025-02-26T00:12:09.687Z"
   },
   {
    "duration": 5,
    "start_time": "2025-02-26T00:12:09.694Z"
   },
   {
    "duration": 5,
    "start_time": "2025-02-26T00:12:09.700Z"
   },
   {
    "duration": 2544,
    "start_time": "2025-02-26T00:12:09.706Z"
   },
   {
    "duration": 2,
    "start_time": "2025-02-26T00:12:12.253Z"
   },
   {
    "duration": 4,
    "start_time": "2025-02-26T00:12:12.257Z"
   },
   {
    "duration": 12,
    "start_time": "2025-02-26T00:12:12.263Z"
   },
   {
    "duration": 9,
    "start_time": "2025-02-26T00:12:12.277Z"
   },
   {
    "duration": 21,
    "start_time": "2025-02-26T00:12:12.288Z"
   },
   {
    "duration": 18,
    "start_time": "2025-02-26T00:12:12.310Z"
   },
   {
    "duration": 10,
    "start_time": "2025-02-26T00:12:12.329Z"
   },
   {
    "duration": 36,
    "start_time": "2025-02-26T00:12:12.341Z"
   },
   {
    "duration": 4,
    "start_time": "2025-02-26T00:12:12.378Z"
   },
   {
    "duration": 5,
    "start_time": "2025-02-26T00:12:12.383Z"
   },
   {
    "duration": 3,
    "start_time": "2025-02-26T00:12:12.389Z"
   },
   {
    "duration": 3,
    "start_time": "2025-02-26T00:12:12.394Z"
   },
   {
    "duration": 18,
    "start_time": "2025-02-26T00:12:12.399Z"
   },
   {
    "duration": 4,
    "start_time": "2025-02-26T00:12:12.418Z"
   },
   {
    "duration": 3,
    "start_time": "2025-02-26T00:12:12.424Z"
   },
   {
    "duration": 426,
    "start_time": "2025-02-26T00:12:12.471Z"
   },
   {
    "duration": 0,
    "start_time": "2025-02-26T00:12:12.898Z"
   },
   {
    "duration": 0,
    "start_time": "2025-02-26T00:12:12.901Z"
   },
   {
    "duration": 0,
    "start_time": "2025-02-26T00:12:12.903Z"
   },
   {
    "duration": 3,
    "start_time": "2025-02-26T00:14:48.433Z"
   },
   {
    "duration": 14,
    "start_time": "2025-02-26T00:14:56.871Z"
   },
   {
    "duration": 2807,
    "start_time": "2025-02-26T03:53:14.630Z"
   },
   {
    "duration": 16,
    "start_time": "2025-02-26T03:53:17.439Z"
   },
   {
    "duration": 4,
    "start_time": "2025-02-26T03:53:17.457Z"
   },
   {
    "duration": 12,
    "start_time": "2025-02-26T03:53:17.463Z"
   },
   {
    "duration": 10,
    "start_time": "2025-02-26T03:53:17.477Z"
   },
   {
    "duration": 18,
    "start_time": "2025-02-26T03:53:17.488Z"
   },
   {
    "duration": 9,
    "start_time": "2025-02-26T03:53:17.508Z"
   },
   {
    "duration": 16,
    "start_time": "2025-02-26T03:53:17.519Z"
   },
   {
    "duration": 5,
    "start_time": "2025-02-26T03:53:17.536Z"
   },
   {
    "duration": 4,
    "start_time": "2025-02-26T03:53:17.544Z"
   },
   {
    "duration": 4,
    "start_time": "2025-02-26T03:53:17.550Z"
   },
   {
    "duration": 2578,
    "start_time": "2025-02-26T03:53:17.555Z"
   },
   {
    "duration": 3,
    "start_time": "2025-02-26T03:53:20.135Z"
   },
   {
    "duration": 4,
    "start_time": "2025-02-26T03:53:20.140Z"
   },
   {
    "duration": 10,
    "start_time": "2025-02-26T03:53:20.146Z"
   },
   {
    "duration": 8,
    "start_time": "2025-02-26T03:53:20.157Z"
   },
   {
    "duration": 103,
    "start_time": "2025-02-26T03:53:20.166Z"
   },
   {
    "duration": 18,
    "start_time": "2025-02-26T03:53:20.270Z"
   },
   {
    "duration": 24,
    "start_time": "2025-02-26T03:53:20.290Z"
   },
   {
    "duration": 13,
    "start_time": "2025-02-26T03:53:20.315Z"
   },
   {
    "duration": 4,
    "start_time": "2025-02-26T03:53:20.330Z"
   },
   {
    "duration": 4,
    "start_time": "2025-02-26T03:53:20.336Z"
   },
   {
    "duration": 3,
    "start_time": "2025-02-26T03:53:20.342Z"
   },
   {
    "duration": 3,
    "start_time": "2025-02-26T03:53:20.346Z"
   },
   {
    "duration": 19,
    "start_time": "2025-02-26T03:53:20.351Z"
   },
   {
    "duration": 5,
    "start_time": "2025-02-26T03:53:20.405Z"
   },
   {
    "duration": 6,
    "start_time": "2025-02-26T03:53:20.412Z"
   },
   {
    "duration": 10,
    "start_time": "2025-02-26T03:53:20.423Z"
   },
   {
    "duration": 4,
    "start_time": "2025-02-26T03:53:20.436Z"
   },
   {
    "duration": 2,
    "start_time": "2025-02-26T03:53:20.442Z"
   },
   {
    "duration": 3,
    "start_time": "2025-02-26T03:53:20.446Z"
   },
   {
    "duration": 4,
    "start_time": "2025-02-26T03:55:24.452Z"
   },
   {
    "duration": 8,
    "start_time": "2025-02-26T03:55:44.409Z"
   },
   {
    "duration": 10,
    "start_time": "2025-02-26T03:56:35.227Z"
   },
   {
    "duration": 15,
    "start_time": "2025-02-26T03:56:47.466Z"
   },
   {
    "duration": 17,
    "start_time": "2025-02-26T03:57:16.187Z"
   },
   {
    "duration": 6,
    "start_time": "2025-02-26T04:27:29.324Z"
   },
   {
    "duration": 2,
    "start_time": "2025-02-26T04:27:56.545Z"
   },
   {
    "duration": 324,
    "start_time": "2025-02-26T04:28:17.461Z"
   },
   {
    "duration": 3,
    "start_time": "2025-02-26T04:29:17.942Z"
   },
   {
    "duration": 31,
    "start_time": "2025-02-26T04:29:26.120Z"
   },
   {
    "duration": 5,
    "start_time": "2025-02-26T04:31:01.892Z"
   },
   {
    "duration": 4,
    "start_time": "2025-02-26T04:31:32.726Z"
   },
   {
    "duration": 29,
    "start_time": "2025-02-26T04:31:45.012Z"
   },
   {
    "duration": 4,
    "start_time": "2025-02-26T04:32:42.986Z"
   },
   {
    "duration": 22,
    "start_time": "2025-02-26T04:32:51.664Z"
   },
   {
    "duration": 3,
    "start_time": "2025-02-26T04:32:53.477Z"
   },
   {
    "duration": 26,
    "start_time": "2025-02-26T04:32:55.406Z"
   },
   {
    "duration": 4,
    "start_time": "2025-02-26T04:33:20.418Z"
   },
   {
    "duration": 3,
    "start_time": "2025-02-26T04:33:26.636Z"
   },
   {
    "duration": 5,
    "start_time": "2025-02-26T04:33:28.623Z"
   },
   {
    "duration": 8,
    "start_time": "2025-02-26T04:53:32.519Z"
   },
   {
    "duration": 2728,
    "start_time": "2025-02-28T19:19:19.228Z"
   },
   {
    "duration": 56,
    "start_time": "2025-02-28T19:19:21.959Z"
   },
   {
    "duration": 4,
    "start_time": "2025-02-28T19:19:22.017Z"
   },
   {
    "duration": 11,
    "start_time": "2025-02-28T19:19:22.023Z"
   },
   {
    "duration": 8,
    "start_time": "2025-02-28T19:19:22.037Z"
   },
   {
    "duration": 3,
    "start_time": "2025-02-28T19:19:22.046Z"
   },
   {
    "duration": 7,
    "start_time": "2025-02-28T19:19:22.051Z"
   },
   {
    "duration": 46,
    "start_time": "2025-02-28T19:19:22.060Z"
   },
   {
    "duration": 4,
    "start_time": "2025-02-28T19:19:22.107Z"
   },
   {
    "duration": 4,
    "start_time": "2025-02-28T19:19:22.113Z"
   },
   {
    "duration": 4,
    "start_time": "2025-02-28T19:19:22.119Z"
   },
   {
    "duration": 2641,
    "start_time": "2025-02-28T19:19:22.124Z"
   },
   {
    "duration": 3,
    "start_time": "2025-02-28T19:19:24.767Z"
   },
   {
    "duration": 4,
    "start_time": "2025-02-28T19:19:24.774Z"
   },
   {
    "duration": 9,
    "start_time": "2025-02-28T19:19:24.779Z"
   },
   {
    "duration": 8,
    "start_time": "2025-02-28T19:19:24.790Z"
   },
   {
    "duration": 18,
    "start_time": "2025-02-28T19:19:24.800Z"
   },
   {
    "duration": 17,
    "start_time": "2025-02-28T19:19:24.819Z"
   },
   {
    "duration": 11,
    "start_time": "2025-02-28T19:19:24.838Z"
   },
   {
    "duration": 11,
    "start_time": "2025-02-28T19:19:24.850Z"
   },
   {
    "duration": 3,
    "start_time": "2025-02-28T19:19:24.863Z"
   },
   {
    "duration": 5,
    "start_time": "2025-02-28T19:19:24.867Z"
   },
   {
    "duration": 33,
    "start_time": "2025-02-28T19:19:24.873Z"
   },
   {
    "duration": 3,
    "start_time": "2025-02-28T19:19:24.908Z"
   },
   {
    "duration": 18,
    "start_time": "2025-02-28T19:19:24.913Z"
   },
   {
    "duration": 4,
    "start_time": "2025-02-28T19:19:24.933Z"
   },
   {
    "duration": 3,
    "start_time": "2025-02-28T19:19:24.939Z"
   },
   {
    "duration": 14,
    "start_time": "2025-02-28T19:19:24.943Z"
   },
   {
    "duration": 3,
    "start_time": "2025-02-28T19:19:25.006Z"
   },
   {
    "duration": 3,
    "start_time": "2025-02-28T19:19:25.011Z"
   },
   {
    "duration": 3,
    "start_time": "2025-02-28T19:19:25.019Z"
   },
   {
    "duration": 3,
    "start_time": "2025-02-28T19:19:25.024Z"
   },
   {
    "duration": 78,
    "start_time": "2025-02-28T19:19:25.029Z"
   },
   {
    "duration": 15,
    "start_time": "2025-02-28T19:19:25.109Z"
   },
   {
    "duration": 85,
    "start_time": "2025-02-28T19:19:25.126Z"
   },
   {
    "duration": 16,
    "start_time": "2025-02-28T19:19:25.213Z"
   },
   {
    "duration": 3,
    "start_time": "2025-02-28T19:19:25.231Z"
   },
   {
    "duration": 4,
    "start_time": "2025-02-28T19:19:25.235Z"
   },
   {
    "duration": 5,
    "start_time": "2025-02-28T19:19:25.240Z"
   },
   {
    "duration": 60,
    "start_time": "2025-02-28T19:19:25.246Z"
   },
   {
    "duration": 4,
    "start_time": "2025-02-28T19:19:25.311Z"
   },
   {
    "duration": 5,
    "start_time": "2025-02-28T19:34:02.145Z"
   },
   {
    "duration": 4,
    "start_time": "2025-02-28T19:34:30.652Z"
   },
   {
    "duration": 230,
    "start_time": "2025-02-28T19:35:13.561Z"
   },
   {
    "duration": 3,
    "start_time": "2025-02-28T19:35:26.240Z"
   },
   {
    "duration": 256,
    "start_time": "2025-02-28T19:35:28.798Z"
   },
   {
    "duration": 293,
    "start_time": "2025-02-28T19:42:52.181Z"
   },
   {
    "duration": 4,
    "start_time": "2025-02-28T19:48:53.019Z"
   },
   {
    "duration": 3,
    "start_time": "2025-02-28T19:49:10.063Z"
   },
   {
    "duration": 5,
    "start_time": "2025-02-28T19:49:29.636Z"
   },
   {
    "duration": 5,
    "start_time": "2025-02-28T19:49:45.760Z"
   },
   {
    "duration": 964,
    "start_time": "2025-02-28T19:51:43.486Z"
   },
   {
    "duration": 9,
    "start_time": "2025-02-28T19:51:44.452Z"
   },
   {
    "duration": 3,
    "start_time": "2025-02-28T19:51:44.462Z"
   },
   {
    "duration": 11,
    "start_time": "2025-02-28T19:51:44.469Z"
   },
   {
    "duration": 27,
    "start_time": "2025-02-28T19:51:44.482Z"
   },
   {
    "duration": 3,
    "start_time": "2025-02-28T19:51:44.511Z"
   },
   {
    "duration": 9,
    "start_time": "2025-02-28T19:51:44.516Z"
   },
   {
    "duration": 16,
    "start_time": "2025-02-28T19:51:44.527Z"
   },
   {
    "duration": 4,
    "start_time": "2025-02-28T19:51:44.545Z"
   },
   {
    "duration": 4,
    "start_time": "2025-02-28T19:51:44.552Z"
   },
   {
    "duration": 5,
    "start_time": "2025-02-28T19:51:44.557Z"
   },
   {
    "duration": 2746,
    "start_time": "2025-02-28T19:51:44.563Z"
   },
   {
    "duration": 3,
    "start_time": "2025-02-28T19:51:47.311Z"
   },
   {
    "duration": 5,
    "start_time": "2025-02-28T19:51:47.316Z"
   },
   {
    "duration": 9,
    "start_time": "2025-02-28T19:51:47.323Z"
   },
   {
    "duration": 9,
    "start_time": "2025-02-28T19:51:47.334Z"
   },
   {
    "duration": 26,
    "start_time": "2025-02-28T19:51:47.344Z"
   },
   {
    "duration": 48,
    "start_time": "2025-02-28T19:51:47.373Z"
   },
   {
    "duration": 14,
    "start_time": "2025-02-28T19:51:47.423Z"
   },
   {
    "duration": 12,
    "start_time": "2025-02-28T19:51:47.439Z"
   },
   {
    "duration": 4,
    "start_time": "2025-02-28T19:51:47.453Z"
   },
   {
    "duration": 4,
    "start_time": "2025-02-28T19:51:47.458Z"
   },
   {
    "duration": 6,
    "start_time": "2025-02-28T19:51:47.464Z"
   },
   {
    "duration": 4,
    "start_time": "2025-02-28T19:51:47.471Z"
   },
   {
    "duration": 5,
    "start_time": "2025-02-28T19:51:47.476Z"
   },
   {
    "duration": 321,
    "start_time": "2025-02-28T19:51:47.506Z"
   },
   {
    "duration": 311,
    "start_time": "2025-02-28T19:51:47.830Z"
   },
   {
    "duration": 5,
    "start_time": "2025-02-28T19:51:48.146Z"
   },
   {
    "duration": 3,
    "start_time": "2025-02-28T19:51:48.155Z"
   },
   {
    "duration": 4,
    "start_time": "2025-02-28T19:51:48.160Z"
   },
   {
    "duration": 377,
    "start_time": "2025-02-28T19:51:48.166Z"
   },
   {
    "duration": 0,
    "start_time": "2025-02-28T19:51:48.545Z"
   },
   {
    "duration": 0,
    "start_time": "2025-02-28T19:51:48.547Z"
   },
   {
    "duration": 0,
    "start_time": "2025-02-28T19:51:48.548Z"
   },
   {
    "duration": 0,
    "start_time": "2025-02-28T19:51:48.549Z"
   },
   {
    "duration": 0,
    "start_time": "2025-02-28T19:51:48.550Z"
   },
   {
    "duration": 1,
    "start_time": "2025-02-28T19:51:48.551Z"
   },
   {
    "duration": 0,
    "start_time": "2025-02-28T19:51:48.552Z"
   },
   {
    "duration": 0,
    "start_time": "2025-02-28T19:51:48.554Z"
   },
   {
    "duration": 0,
    "start_time": "2025-02-28T19:51:48.555Z"
   },
   {
    "duration": 0,
    "start_time": "2025-02-28T19:51:48.556Z"
   },
   {
    "duration": 0,
    "start_time": "2025-02-28T19:51:48.557Z"
   },
   {
    "duration": 0,
    "start_time": "2025-02-28T19:51:48.558Z"
   },
   {
    "duration": 0,
    "start_time": "2025-02-28T19:51:48.559Z"
   },
   {
    "duration": 0,
    "start_time": "2025-02-28T19:51:48.560Z"
   },
   {
    "duration": 3,
    "start_time": "2025-02-28T19:54:52.011Z"
   },
   {
    "duration": 6,
    "start_time": "2025-02-28T19:54:54.043Z"
   },
   {
    "duration": 6,
    "start_time": "2025-02-28T19:54:56.756Z"
   },
   {
    "duration": 1153,
    "start_time": "2025-02-28T19:59:32.233Z"
   },
   {
    "duration": 7,
    "start_time": "2025-02-28T19:59:33.389Z"
   },
   {
    "duration": 5,
    "start_time": "2025-02-28T19:59:33.404Z"
   },
   {
    "duration": 12,
    "start_time": "2025-02-28T19:59:33.414Z"
   },
   {
    "duration": 11,
    "start_time": "2025-02-28T19:59:33.428Z"
   },
   {
    "duration": 4,
    "start_time": "2025-02-28T19:59:33.440Z"
   },
   {
    "duration": 10,
    "start_time": "2025-02-28T19:59:33.446Z"
   },
   {
    "duration": 16,
    "start_time": "2025-02-28T19:59:33.458Z"
   },
   {
    "duration": 5,
    "start_time": "2025-02-28T19:59:33.506Z"
   },
   {
    "duration": 5,
    "start_time": "2025-02-28T19:59:33.516Z"
   },
   {
    "duration": 6,
    "start_time": "2025-02-28T19:59:33.522Z"
   },
   {
    "duration": 2702,
    "start_time": "2025-02-28T19:59:33.531Z"
   },
   {
    "duration": 3,
    "start_time": "2025-02-28T19:59:36.235Z"
   },
   {
    "duration": 4,
    "start_time": "2025-02-28T19:59:36.240Z"
   },
   {
    "duration": 10,
    "start_time": "2025-02-28T19:59:36.246Z"
   },
   {
    "duration": 8,
    "start_time": "2025-02-28T19:59:36.257Z"
   },
   {
    "duration": 19,
    "start_time": "2025-02-28T19:59:36.267Z"
   },
   {
    "duration": 29,
    "start_time": "2025-02-28T19:59:36.306Z"
   },
   {
    "duration": 14,
    "start_time": "2025-02-28T19:59:36.337Z"
   },
   {
    "duration": 13,
    "start_time": "2025-02-28T19:59:36.353Z"
   },
   {
    "duration": 3,
    "start_time": "2025-02-28T19:59:36.369Z"
   },
   {
    "duration": 31,
    "start_time": "2025-02-28T19:59:36.374Z"
   },
   {
    "duration": 8,
    "start_time": "2025-02-28T19:59:36.407Z"
   },
   {
    "duration": 5,
    "start_time": "2025-02-28T19:59:36.417Z"
   },
   {
    "duration": 4,
    "start_time": "2025-02-28T19:59:36.424Z"
   },
   {
    "duration": 379,
    "start_time": "2025-02-28T19:59:36.431Z"
   },
   {
    "duration": 287,
    "start_time": "2025-02-28T19:59:36.813Z"
   },
   {
    "duration": 8,
    "start_time": "2025-02-28T19:59:37.109Z"
   },
   {
    "duration": 4,
    "start_time": "2025-02-28T19:59:37.119Z"
   },
   {
    "duration": 5,
    "start_time": "2025-02-28T19:59:37.125Z"
   },
   {
    "duration": 4,
    "start_time": "2025-02-28T19:59:37.132Z"
   },
   {
    "duration": 11,
    "start_time": "2025-02-28T19:59:37.137Z"
   },
   {
    "duration": 57,
    "start_time": "2025-02-28T19:59:37.150Z"
   },
   {
    "duration": 4,
    "start_time": "2025-02-28T19:59:37.209Z"
   },
   {
    "duration": 3,
    "start_time": "2025-02-28T19:59:37.215Z"
   },
   {
    "duration": 4,
    "start_time": "2025-02-28T19:59:37.220Z"
   },
   {
    "duration": 5,
    "start_time": "2025-02-28T19:59:37.226Z"
   },
   {
    "duration": 77,
    "start_time": "2025-02-28T19:59:37.233Z"
   },
   {
    "duration": 24,
    "start_time": "2025-02-28T19:59:37.312Z"
   },
   {
    "duration": 82,
    "start_time": "2025-02-28T19:59:37.339Z"
   },
   {
    "duration": 20,
    "start_time": "2025-02-28T19:59:37.423Z"
   },
   {
    "duration": 3,
    "start_time": "2025-02-28T19:59:37.445Z"
   },
   {
    "duration": 4,
    "start_time": "2025-02-28T19:59:37.449Z"
   },
   {
    "duration": 53,
    "start_time": "2025-02-28T19:59:37.454Z"
   },
   {
    "duration": 3,
    "start_time": "2025-02-28T19:59:37.510Z"
   },
   {
    "duration": 259,
    "start_time": "2025-02-28T19:59:37.515Z"
   },
   {
    "duration": 4,
    "start_time": "2025-02-28T20:00:36.018Z"
   },
   {
    "duration": 5,
    "start_time": "2025-02-28T20:13:45.331Z"
   },
   {
    "duration": 5,
    "start_time": "2025-02-28T20:13:47.695Z"
   },
   {
    "duration": 5,
    "start_time": "2025-02-28T20:14:18.595Z"
   },
   {
    "duration": 2,
    "start_time": "2025-02-28T20:16:30.792Z"
   },
   {
    "duration": 963,
    "start_time": "2025-02-28T20:25:54.070Z"
   },
   {
    "duration": 9,
    "start_time": "2025-02-28T20:25:55.036Z"
   },
   {
    "duration": 3,
    "start_time": "2025-02-28T20:25:55.046Z"
   },
   {
    "duration": 11,
    "start_time": "2025-02-28T20:25:55.051Z"
   },
   {
    "duration": 9,
    "start_time": "2025-02-28T20:25:55.064Z"
   },
   {
    "duration": 3,
    "start_time": "2025-02-28T20:25:55.075Z"
   },
   {
    "duration": 29,
    "start_time": "2025-02-28T20:25:55.079Z"
   },
   {
    "duration": 16,
    "start_time": "2025-02-28T20:25:55.109Z"
   },
   {
    "duration": 4,
    "start_time": "2025-02-28T20:25:55.127Z"
   },
   {
    "duration": 4,
    "start_time": "2025-02-28T20:25:55.134Z"
   },
   {
    "duration": 4,
    "start_time": "2025-02-28T20:25:55.139Z"
   },
   {
    "duration": 2593,
    "start_time": "2025-02-28T20:25:55.145Z"
   },
   {
    "duration": 3,
    "start_time": "2025-02-28T20:25:57.740Z"
   },
   {
    "duration": 4,
    "start_time": "2025-02-28T20:25:57.746Z"
   },
   {
    "duration": 8,
    "start_time": "2025-02-28T20:25:57.752Z"
   },
   {
    "duration": 7,
    "start_time": "2025-02-28T20:25:57.764Z"
   },
   {
    "duration": 34,
    "start_time": "2025-02-28T20:25:57.773Z"
   },
   {
    "duration": 20,
    "start_time": "2025-02-28T20:25:57.808Z"
   },
   {
    "duration": 10,
    "start_time": "2025-02-28T20:25:57.830Z"
   },
   {
    "duration": 11,
    "start_time": "2025-02-28T20:25:57.841Z"
   },
   {
    "duration": 3,
    "start_time": "2025-02-28T20:25:57.853Z"
   },
   {
    "duration": 4,
    "start_time": "2025-02-28T20:25:57.858Z"
   },
   {
    "duration": 5,
    "start_time": "2025-02-28T20:25:57.865Z"
   },
   {
    "duration": 36,
    "start_time": "2025-02-28T20:25:57.872Z"
   },
   {
    "duration": 3,
    "start_time": "2025-02-28T20:25:57.909Z"
   },
   {
    "duration": 259,
    "start_time": "2025-02-28T20:25:57.914Z"
   },
   {
    "duration": 299,
    "start_time": "2025-02-28T20:25:58.174Z"
   },
   {
    "duration": 5,
    "start_time": "2025-02-28T20:25:58.474Z"
   },
   {
    "duration": 5,
    "start_time": "2025-02-28T20:25:58.481Z"
   },
   {
    "duration": 20,
    "start_time": "2025-02-28T20:25:58.487Z"
   },
   {
    "duration": 4,
    "start_time": "2025-02-28T20:25:58.509Z"
   },
   {
    "duration": 11,
    "start_time": "2025-02-28T20:25:58.514Z"
   },
   {
    "duration": 6,
    "start_time": "2025-02-28T20:25:58.527Z"
   },
   {
    "duration": 3,
    "start_time": "2025-02-28T20:25:58.535Z"
   },
   {
    "duration": 3,
    "start_time": "2025-02-28T20:25:58.605Z"
   },
   {
    "duration": 3,
    "start_time": "2025-02-28T20:25:58.610Z"
   },
   {
    "duration": 6,
    "start_time": "2025-02-28T20:25:58.616Z"
   },
   {
    "duration": 81,
    "start_time": "2025-02-28T20:25:58.625Z"
   },
   {
    "duration": 13,
    "start_time": "2025-02-28T20:25:58.708Z"
   },
   {
    "duration": 90,
    "start_time": "2025-02-28T20:25:58.723Z"
   },
   {
    "duration": 17,
    "start_time": "2025-02-28T20:25:58.819Z"
   },
   {
    "duration": 2,
    "start_time": "2025-02-28T20:25:58.838Z"
   },
   {
    "duration": 3,
    "start_time": "2025-02-28T20:25:58.842Z"
   },
   {
    "duration": 4,
    "start_time": "2025-02-28T20:25:58.846Z"
   },
   {
    "duration": 54,
    "start_time": "2025-02-28T20:25:58.851Z"
   },
   {
    "duration": 3,
    "start_time": "2025-02-28T20:25:58.908Z"
   },
   {
    "duration": 6,
    "start_time": "2025-02-28T20:25:58.913Z"
   },
   {
    "duration": 4,
    "start_time": "2025-02-28T20:25:58.921Z"
   }
  ],
  "kernelspec": {
   "display_name": "Python 3 (ipykernel)",
   "language": "python",
   "name": "python3"
  },
  "language_info": {
   "codemirror_mode": {
    "name": "ipython",
    "version": 3
   },
   "file_extension": ".py",
   "mimetype": "text/x-python",
   "name": "python",
   "nbconvert_exporter": "python",
   "pygments_lexer": "ipython3",
   "version": "3.9.19"
  },
  "toc": {
   "base_numbering": 1,
   "nav_menu": {},
   "number_sections": true,
   "sideBar": true,
   "skip_h1_title": true,
   "title_cell": "Table of Contents",
   "title_sidebar": "Contents",
   "toc_cell": false,
   "toc_position": {
    "height": "calc(100% - 180px)",
    "left": "10px",
    "top": "150px",
    "width": "205.6px"
   },
   "toc_section_display": true,
   "toc_window_display": true
  }
 },
 "nbformat": 4,
 "nbformat_minor": 4
}

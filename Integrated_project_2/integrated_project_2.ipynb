{
 "cells": [
  {
   "cell_type": "markdown",
   "metadata": {},
   "source": [
    "**Review**\n",
    "\n",
    "Hello Dinesh!\n",
    "\n",
    "I'm happy to review your project today.\n",
    "  \n",
    "You can find my comments in colored markdown cells:\n",
    "  \n",
    "<div class=\"alert alert-success\">\n",
    "  If everything is done successfully.\n",
    "</div>\n",
    "  \n",
    "<div class=\"alert alert-warning\">\n",
    "  If I have some (optional) suggestions, or questions to think about, or general comments.\n",
    "</div>\n",
    "  \n",
    "<div class=\"alert alert-danger\">\n",
    "  If a section requires some corrections. Work can't be accepted with red comments.\n",
    "</div>\n",
    "  \n",
    "Please don't remove my comments, as it will make further review iterations much harder for me.\n",
    "  \n",
    "Feel free to reply to my comments or ask questions using the following template:\n",
    "  \n",
    "<div class=\"alert alert-info\">\n",
    "  Thank you so much for your feedbacks. I've split the cells into multiple so it's easier. Hopefully i got it right this time. Thank you!\n",
    "</div>\n",
    "  \n",
    "First of all, thank you for turning in the project! You did a great job overall, but there are some small problems that need to be fixed before the project will be accepted. Let me know if you have any questions!\n"
   ]
  },
  {
   "cell_type": "markdown",
   "metadata": {},
   "source": [
    "# **\"Optimizing Gold Recovery Efficiency Using Machine Learning: A Data-Driven Approach\"**"
   ]
  },
  {
   "cell_type": "markdown",
   "metadata": {},
   "source": [
    "## Introduction"
   ]
  },
  {
   "cell_type": "markdown",
   "metadata": {},
   "source": [
    "Gold mining operations rely on efficient extraction and purification processes to maximize recovery rates and profitability. However, fluctuations in raw material composition, process conditions, and external factors make it challenging to optimize gold recovery consistently. This project aims to develop a **machine learning model** to predict gold recovery efficiency using historical data from the extraction and purification processes. By leveraging **advanced data analysis and predictive modeling**, the goal is to enhance decision-making, minimize losses, and improve operational efficiency.  \n",
    "\n",
    "The dataset provided includes information on raw feed composition, flotation process parameters, purification stages, and final concentrate characteristics. The project follows a structured approach: **data preprocessing, exploratory data analysis, model selection, hyperparameter tuning, and final evaluation**. The best-performing model will allow mining companies to **optimize process parameters dynamically, reduce inefficiencies, and maximize gold yield**, contributing to **cost-effective and sustainable mining practices**."
   ]
  },
  {
   "cell_type": "markdown",
   "metadata": {},
   "source": [
    "## Importing the Required Libraries"
   ]
  },
  {
   "cell_type": "code",
   "execution_count": 1,
   "metadata": {},
   "outputs": [],
   "source": [
    "import pandas as pd\n",
    "import numpy as np\n",
    "from sklearn.metrics import mean_absolute_error\n",
    "import matplotlib.pyplot as plt\n",
    "import seaborn as sns\n",
    "from scipy.stats import randint\n",
    "from sklearn.metrics import make_scorer\n",
    "from sklearn.model_selection import train_test_split\n",
    "from sklearn.ensemble import RandomForestRegressor\n",
    "from sklearn.linear_model import LinearRegression\n",
    "from sklearn.dummy import DummyRegressor\n",
    "from sklearn.preprocessing import StandardScaler\n",
    "from sklearn.model_selection import RandomizedSearchCV\n"
   ]
  },
  {
   "cell_type": "markdown",
   "metadata": {},
   "source": [
    "## Loading and Preparing the data"
   ]
  },
  {
   "cell_type": "code",
   "execution_count": 2,
   "metadata": {},
   "outputs": [],
   "source": [
    "# Load datasets\n",
    "train = pd.read_csv('/datasets/gold_recovery_train.csv')\n",
    "test = pd.read_csv('/datasets/gold_recovery_test.csv')\n",
    "full = pd.read_csv('/datasets/gold_recovery_full.csv')"
   ]
  },
  {
   "cell_type": "code",
   "execution_count": 3,
   "metadata": {},
   "outputs": [
    {
     "name": "stdout",
     "output_type": "stream",
     "text": [
      "Training Dataset Head:\n"
     ]
    },
    {
     "data": {
      "text/html": [
       "<div>\n",
       "<style scoped>\n",
       "    .dataframe tbody tr th:only-of-type {\n",
       "        vertical-align: middle;\n",
       "    }\n",
       "\n",
       "    .dataframe tbody tr th {\n",
       "        vertical-align: top;\n",
       "    }\n",
       "\n",
       "    .dataframe thead th {\n",
       "        text-align: right;\n",
       "    }\n",
       "</style>\n",
       "<table border=\"1\" class=\"dataframe\">\n",
       "  <thead>\n",
       "    <tr style=\"text-align: right;\">\n",
       "      <th></th>\n",
       "      <th>date</th>\n",
       "      <th>final.output.concentrate_ag</th>\n",
       "      <th>final.output.concentrate_pb</th>\n",
       "      <th>final.output.concentrate_sol</th>\n",
       "      <th>final.output.concentrate_au</th>\n",
       "      <th>final.output.recovery</th>\n",
       "      <th>final.output.tail_ag</th>\n",
       "      <th>final.output.tail_pb</th>\n",
       "      <th>final.output.tail_sol</th>\n",
       "      <th>final.output.tail_au</th>\n",
       "      <th>...</th>\n",
       "      <th>secondary_cleaner.state.floatbank4_a_air</th>\n",
       "      <th>secondary_cleaner.state.floatbank4_a_level</th>\n",
       "      <th>secondary_cleaner.state.floatbank4_b_air</th>\n",
       "      <th>secondary_cleaner.state.floatbank4_b_level</th>\n",
       "      <th>secondary_cleaner.state.floatbank5_a_air</th>\n",
       "      <th>secondary_cleaner.state.floatbank5_a_level</th>\n",
       "      <th>secondary_cleaner.state.floatbank5_b_air</th>\n",
       "      <th>secondary_cleaner.state.floatbank5_b_level</th>\n",
       "      <th>secondary_cleaner.state.floatbank6_a_air</th>\n",
       "      <th>secondary_cleaner.state.floatbank6_a_level</th>\n",
       "    </tr>\n",
       "  </thead>\n",
       "  <tbody>\n",
       "    <tr>\n",
       "      <th>0</th>\n",
       "      <td>2016-01-15 00:00:00</td>\n",
       "      <td>6.055403</td>\n",
       "      <td>9.889648</td>\n",
       "      <td>5.507324</td>\n",
       "      <td>42.192020</td>\n",
       "      <td>70.541216</td>\n",
       "      <td>10.411962</td>\n",
       "      <td>0.895447</td>\n",
       "      <td>16.904297</td>\n",
       "      <td>2.143149</td>\n",
       "      <td>...</td>\n",
       "      <td>14.016835</td>\n",
       "      <td>-502.488007</td>\n",
       "      <td>12.099931</td>\n",
       "      <td>-504.715942</td>\n",
       "      <td>9.925633</td>\n",
       "      <td>-498.310211</td>\n",
       "      <td>8.079666</td>\n",
       "      <td>-500.470978</td>\n",
       "      <td>14.151341</td>\n",
       "      <td>-605.841980</td>\n",
       "    </tr>\n",
       "    <tr>\n",
       "      <th>1</th>\n",
       "      <td>2016-01-15 01:00:00</td>\n",
       "      <td>6.029369</td>\n",
       "      <td>9.968944</td>\n",
       "      <td>5.257781</td>\n",
       "      <td>42.701629</td>\n",
       "      <td>69.266198</td>\n",
       "      <td>10.462676</td>\n",
       "      <td>0.927452</td>\n",
       "      <td>16.634514</td>\n",
       "      <td>2.224930</td>\n",
       "      <td>...</td>\n",
       "      <td>13.992281</td>\n",
       "      <td>-505.503262</td>\n",
       "      <td>11.950531</td>\n",
       "      <td>-501.331529</td>\n",
       "      <td>10.039245</td>\n",
       "      <td>-500.169983</td>\n",
       "      <td>7.984757</td>\n",
       "      <td>-500.582168</td>\n",
       "      <td>13.998353</td>\n",
       "      <td>-599.787184</td>\n",
       "    </tr>\n",
       "    <tr>\n",
       "      <th>2</th>\n",
       "      <td>2016-01-15 02:00:00</td>\n",
       "      <td>6.055926</td>\n",
       "      <td>10.213995</td>\n",
       "      <td>5.383759</td>\n",
       "      <td>42.657501</td>\n",
       "      <td>68.116445</td>\n",
       "      <td>10.507046</td>\n",
       "      <td>0.953716</td>\n",
       "      <td>16.208849</td>\n",
       "      <td>2.257889</td>\n",
       "      <td>...</td>\n",
       "      <td>14.015015</td>\n",
       "      <td>-502.520901</td>\n",
       "      <td>11.912783</td>\n",
       "      <td>-501.133383</td>\n",
       "      <td>10.070913</td>\n",
       "      <td>-500.129135</td>\n",
       "      <td>8.013877</td>\n",
       "      <td>-500.517572</td>\n",
       "      <td>14.028663</td>\n",
       "      <td>-601.427363</td>\n",
       "    </tr>\n",
       "    <tr>\n",
       "      <th>3</th>\n",
       "      <td>2016-01-15 03:00:00</td>\n",
       "      <td>6.047977</td>\n",
       "      <td>9.977019</td>\n",
       "      <td>4.858634</td>\n",
       "      <td>42.689819</td>\n",
       "      <td>68.347543</td>\n",
       "      <td>10.422762</td>\n",
       "      <td>0.883763</td>\n",
       "      <td>16.532835</td>\n",
       "      <td>2.146849</td>\n",
       "      <td>...</td>\n",
       "      <td>14.036510</td>\n",
       "      <td>-500.857308</td>\n",
       "      <td>11.999550</td>\n",
       "      <td>-501.193686</td>\n",
       "      <td>9.970366</td>\n",
       "      <td>-499.201640</td>\n",
       "      <td>7.977324</td>\n",
       "      <td>-500.255908</td>\n",
       "      <td>14.005551</td>\n",
       "      <td>-599.996129</td>\n",
       "    </tr>\n",
       "    <tr>\n",
       "      <th>4</th>\n",
       "      <td>2016-01-15 04:00:00</td>\n",
       "      <td>6.148599</td>\n",
       "      <td>10.142511</td>\n",
       "      <td>4.939416</td>\n",
       "      <td>42.774141</td>\n",
       "      <td>66.927016</td>\n",
       "      <td>10.360302</td>\n",
       "      <td>0.792826</td>\n",
       "      <td>16.525686</td>\n",
       "      <td>2.055292</td>\n",
       "      <td>...</td>\n",
       "      <td>14.027298</td>\n",
       "      <td>-499.838632</td>\n",
       "      <td>11.953070</td>\n",
       "      <td>-501.053894</td>\n",
       "      <td>9.925709</td>\n",
       "      <td>-501.686727</td>\n",
       "      <td>7.894242</td>\n",
       "      <td>-500.356035</td>\n",
       "      <td>13.996647</td>\n",
       "      <td>-601.496691</td>\n",
       "    </tr>\n",
       "  </tbody>\n",
       "</table>\n",
       "<p>5 rows × 87 columns</p>\n",
       "</div>"
      ],
      "text/plain": [
       "                  date  final.output.concentrate_ag  \\\n",
       "0  2016-01-15 00:00:00                     6.055403   \n",
       "1  2016-01-15 01:00:00                     6.029369   \n",
       "2  2016-01-15 02:00:00                     6.055926   \n",
       "3  2016-01-15 03:00:00                     6.047977   \n",
       "4  2016-01-15 04:00:00                     6.148599   \n",
       "\n",
       "   final.output.concentrate_pb  final.output.concentrate_sol  \\\n",
       "0                     9.889648                      5.507324   \n",
       "1                     9.968944                      5.257781   \n",
       "2                    10.213995                      5.383759   \n",
       "3                     9.977019                      4.858634   \n",
       "4                    10.142511                      4.939416   \n",
       "\n",
       "   final.output.concentrate_au  final.output.recovery  final.output.tail_ag  \\\n",
       "0                    42.192020              70.541216             10.411962   \n",
       "1                    42.701629              69.266198             10.462676   \n",
       "2                    42.657501              68.116445             10.507046   \n",
       "3                    42.689819              68.347543             10.422762   \n",
       "4                    42.774141              66.927016             10.360302   \n",
       "\n",
       "   final.output.tail_pb  final.output.tail_sol  final.output.tail_au  ...  \\\n",
       "0              0.895447              16.904297              2.143149  ...   \n",
       "1              0.927452              16.634514              2.224930  ...   \n",
       "2              0.953716              16.208849              2.257889  ...   \n",
       "3              0.883763              16.532835              2.146849  ...   \n",
       "4              0.792826              16.525686              2.055292  ...   \n",
       "\n",
       "   secondary_cleaner.state.floatbank4_a_air  \\\n",
       "0                                 14.016835   \n",
       "1                                 13.992281   \n",
       "2                                 14.015015   \n",
       "3                                 14.036510   \n",
       "4                                 14.027298   \n",
       "\n",
       "   secondary_cleaner.state.floatbank4_a_level  \\\n",
       "0                                 -502.488007   \n",
       "1                                 -505.503262   \n",
       "2                                 -502.520901   \n",
       "3                                 -500.857308   \n",
       "4                                 -499.838632   \n",
       "\n",
       "   secondary_cleaner.state.floatbank4_b_air  \\\n",
       "0                                 12.099931   \n",
       "1                                 11.950531   \n",
       "2                                 11.912783   \n",
       "3                                 11.999550   \n",
       "4                                 11.953070   \n",
       "\n",
       "   secondary_cleaner.state.floatbank4_b_level  \\\n",
       "0                                 -504.715942   \n",
       "1                                 -501.331529   \n",
       "2                                 -501.133383   \n",
       "3                                 -501.193686   \n",
       "4                                 -501.053894   \n",
       "\n",
       "   secondary_cleaner.state.floatbank5_a_air  \\\n",
       "0                                  9.925633   \n",
       "1                                 10.039245   \n",
       "2                                 10.070913   \n",
       "3                                  9.970366   \n",
       "4                                  9.925709   \n",
       "\n",
       "   secondary_cleaner.state.floatbank5_a_level  \\\n",
       "0                                 -498.310211   \n",
       "1                                 -500.169983   \n",
       "2                                 -500.129135   \n",
       "3                                 -499.201640   \n",
       "4                                 -501.686727   \n",
       "\n",
       "   secondary_cleaner.state.floatbank5_b_air  \\\n",
       "0                                  8.079666   \n",
       "1                                  7.984757   \n",
       "2                                  8.013877   \n",
       "3                                  7.977324   \n",
       "4                                  7.894242   \n",
       "\n",
       "   secondary_cleaner.state.floatbank5_b_level  \\\n",
       "0                                 -500.470978   \n",
       "1                                 -500.582168   \n",
       "2                                 -500.517572   \n",
       "3                                 -500.255908   \n",
       "4                                 -500.356035   \n",
       "\n",
       "   secondary_cleaner.state.floatbank6_a_air  \\\n",
       "0                                 14.151341   \n",
       "1                                 13.998353   \n",
       "2                                 14.028663   \n",
       "3                                 14.005551   \n",
       "4                                 13.996647   \n",
       "\n",
       "   secondary_cleaner.state.floatbank6_a_level  \n",
       "0                                 -605.841980  \n",
       "1                                 -599.787184  \n",
       "2                                 -601.427363  \n",
       "3                                 -599.996129  \n",
       "4                                 -601.496691  \n",
       "\n",
       "[5 rows x 87 columns]"
      ]
     },
     "execution_count": 3,
     "metadata": {},
     "output_type": "execute_result"
    }
   ],
   "source": [
    "# Display first few rows of each dataset\n",
    "print(\"Training Dataset Head:\")\n",
    "train.head()"
   ]
  },
  {
   "cell_type": "code",
   "execution_count": 4,
   "metadata": {},
   "outputs": [
    {
     "name": "stdout",
     "output_type": "stream",
     "text": [
      "Test Dataset Head:\n"
     ]
    },
    {
     "data": {
      "text/html": [
       "<div>\n",
       "<style scoped>\n",
       "    .dataframe tbody tr th:only-of-type {\n",
       "        vertical-align: middle;\n",
       "    }\n",
       "\n",
       "    .dataframe tbody tr th {\n",
       "        vertical-align: top;\n",
       "    }\n",
       "\n",
       "    .dataframe thead th {\n",
       "        text-align: right;\n",
       "    }\n",
       "</style>\n",
       "<table border=\"1\" class=\"dataframe\">\n",
       "  <thead>\n",
       "    <tr style=\"text-align: right;\">\n",
       "      <th></th>\n",
       "      <th>date</th>\n",
       "      <th>primary_cleaner.input.sulfate</th>\n",
       "      <th>primary_cleaner.input.depressant</th>\n",
       "      <th>primary_cleaner.input.feed_size</th>\n",
       "      <th>primary_cleaner.input.xanthate</th>\n",
       "      <th>primary_cleaner.state.floatbank8_a_air</th>\n",
       "      <th>primary_cleaner.state.floatbank8_a_level</th>\n",
       "      <th>primary_cleaner.state.floatbank8_b_air</th>\n",
       "      <th>primary_cleaner.state.floatbank8_b_level</th>\n",
       "      <th>primary_cleaner.state.floatbank8_c_air</th>\n",
       "      <th>...</th>\n",
       "      <th>secondary_cleaner.state.floatbank4_a_air</th>\n",
       "      <th>secondary_cleaner.state.floatbank4_a_level</th>\n",
       "      <th>secondary_cleaner.state.floatbank4_b_air</th>\n",
       "      <th>secondary_cleaner.state.floatbank4_b_level</th>\n",
       "      <th>secondary_cleaner.state.floatbank5_a_air</th>\n",
       "      <th>secondary_cleaner.state.floatbank5_a_level</th>\n",
       "      <th>secondary_cleaner.state.floatbank5_b_air</th>\n",
       "      <th>secondary_cleaner.state.floatbank5_b_level</th>\n",
       "      <th>secondary_cleaner.state.floatbank6_a_air</th>\n",
       "      <th>secondary_cleaner.state.floatbank6_a_level</th>\n",
       "    </tr>\n",
       "  </thead>\n",
       "  <tbody>\n",
       "    <tr>\n",
       "      <th>0</th>\n",
       "      <td>2016-09-01 00:59:59</td>\n",
       "      <td>210.800909</td>\n",
       "      <td>14.993118</td>\n",
       "      <td>8.080000</td>\n",
       "      <td>1.005021</td>\n",
       "      <td>1398.981301</td>\n",
       "      <td>-500.225577</td>\n",
       "      <td>1399.144926</td>\n",
       "      <td>-499.919735</td>\n",
       "      <td>1400.102998</td>\n",
       "      <td>...</td>\n",
       "      <td>12.023554</td>\n",
       "      <td>-497.795834</td>\n",
       "      <td>8.016656</td>\n",
       "      <td>-501.289139</td>\n",
       "      <td>7.946562</td>\n",
       "      <td>-432.317850</td>\n",
       "      <td>4.872511</td>\n",
       "      <td>-500.037437</td>\n",
       "      <td>26.705889</td>\n",
       "      <td>-499.709414</td>\n",
       "    </tr>\n",
       "    <tr>\n",
       "      <th>1</th>\n",
       "      <td>2016-09-01 01:59:59</td>\n",
       "      <td>215.392455</td>\n",
       "      <td>14.987471</td>\n",
       "      <td>8.080000</td>\n",
       "      <td>0.990469</td>\n",
       "      <td>1398.777912</td>\n",
       "      <td>-500.057435</td>\n",
       "      <td>1398.055362</td>\n",
       "      <td>-499.778182</td>\n",
       "      <td>1396.151033</td>\n",
       "      <td>...</td>\n",
       "      <td>12.058140</td>\n",
       "      <td>-498.695773</td>\n",
       "      <td>8.130979</td>\n",
       "      <td>-499.634209</td>\n",
       "      <td>7.958270</td>\n",
       "      <td>-525.839648</td>\n",
       "      <td>4.878850</td>\n",
       "      <td>-500.162375</td>\n",
       "      <td>25.019940</td>\n",
       "      <td>-499.819438</td>\n",
       "    </tr>\n",
       "    <tr>\n",
       "      <th>2</th>\n",
       "      <td>2016-09-01 02:59:59</td>\n",
       "      <td>215.259946</td>\n",
       "      <td>12.884934</td>\n",
       "      <td>7.786667</td>\n",
       "      <td>0.996043</td>\n",
       "      <td>1398.493666</td>\n",
       "      <td>-500.868360</td>\n",
       "      <td>1398.860436</td>\n",
       "      <td>-499.764529</td>\n",
       "      <td>1398.075709</td>\n",
       "      <td>...</td>\n",
       "      <td>11.962366</td>\n",
       "      <td>-498.767484</td>\n",
       "      <td>8.096893</td>\n",
       "      <td>-500.827423</td>\n",
       "      <td>8.071056</td>\n",
       "      <td>-500.801673</td>\n",
       "      <td>4.905125</td>\n",
       "      <td>-499.828510</td>\n",
       "      <td>24.994862</td>\n",
       "      <td>-500.622559</td>\n",
       "    </tr>\n",
       "    <tr>\n",
       "      <th>3</th>\n",
       "      <td>2016-09-01 03:59:59</td>\n",
       "      <td>215.336236</td>\n",
       "      <td>12.006805</td>\n",
       "      <td>7.640000</td>\n",
       "      <td>0.863514</td>\n",
       "      <td>1399.618111</td>\n",
       "      <td>-498.863574</td>\n",
       "      <td>1397.440120</td>\n",
       "      <td>-499.211024</td>\n",
       "      <td>1400.129303</td>\n",
       "      <td>...</td>\n",
       "      <td>12.033091</td>\n",
       "      <td>-498.350935</td>\n",
       "      <td>8.074946</td>\n",
       "      <td>-499.474407</td>\n",
       "      <td>7.897085</td>\n",
       "      <td>-500.868509</td>\n",
       "      <td>4.931400</td>\n",
       "      <td>-499.963623</td>\n",
       "      <td>24.948919</td>\n",
       "      <td>-498.709987</td>\n",
       "    </tr>\n",
       "    <tr>\n",
       "      <th>4</th>\n",
       "      <td>2016-09-01 04:59:59</td>\n",
       "      <td>199.099327</td>\n",
       "      <td>10.682530</td>\n",
       "      <td>7.530000</td>\n",
       "      <td>0.805575</td>\n",
       "      <td>1401.268123</td>\n",
       "      <td>-500.808305</td>\n",
       "      <td>1398.128818</td>\n",
       "      <td>-499.504543</td>\n",
       "      <td>1402.172226</td>\n",
       "      <td>...</td>\n",
       "      <td>12.025367</td>\n",
       "      <td>-500.786497</td>\n",
       "      <td>8.054678</td>\n",
       "      <td>-500.397500</td>\n",
       "      <td>8.107890</td>\n",
       "      <td>-509.526725</td>\n",
       "      <td>4.957674</td>\n",
       "      <td>-500.360026</td>\n",
       "      <td>25.003331</td>\n",
       "      <td>-500.856333</td>\n",
       "    </tr>\n",
       "  </tbody>\n",
       "</table>\n",
       "<p>5 rows × 53 columns</p>\n",
       "</div>"
      ],
      "text/plain": [
       "                  date  primary_cleaner.input.sulfate  \\\n",
       "0  2016-09-01 00:59:59                     210.800909   \n",
       "1  2016-09-01 01:59:59                     215.392455   \n",
       "2  2016-09-01 02:59:59                     215.259946   \n",
       "3  2016-09-01 03:59:59                     215.336236   \n",
       "4  2016-09-01 04:59:59                     199.099327   \n",
       "\n",
       "   primary_cleaner.input.depressant  primary_cleaner.input.feed_size  \\\n",
       "0                         14.993118                         8.080000   \n",
       "1                         14.987471                         8.080000   \n",
       "2                         12.884934                         7.786667   \n",
       "3                         12.006805                         7.640000   \n",
       "4                         10.682530                         7.530000   \n",
       "\n",
       "   primary_cleaner.input.xanthate  primary_cleaner.state.floatbank8_a_air  \\\n",
       "0                        1.005021                             1398.981301   \n",
       "1                        0.990469                             1398.777912   \n",
       "2                        0.996043                             1398.493666   \n",
       "3                        0.863514                             1399.618111   \n",
       "4                        0.805575                             1401.268123   \n",
       "\n",
       "   primary_cleaner.state.floatbank8_a_level  \\\n",
       "0                               -500.225577   \n",
       "1                               -500.057435   \n",
       "2                               -500.868360   \n",
       "3                               -498.863574   \n",
       "4                               -500.808305   \n",
       "\n",
       "   primary_cleaner.state.floatbank8_b_air  \\\n",
       "0                             1399.144926   \n",
       "1                             1398.055362   \n",
       "2                             1398.860436   \n",
       "3                             1397.440120   \n",
       "4                             1398.128818   \n",
       "\n",
       "   primary_cleaner.state.floatbank8_b_level  \\\n",
       "0                               -499.919735   \n",
       "1                               -499.778182   \n",
       "2                               -499.764529   \n",
       "3                               -499.211024   \n",
       "4                               -499.504543   \n",
       "\n",
       "   primary_cleaner.state.floatbank8_c_air  ...  \\\n",
       "0                             1400.102998  ...   \n",
       "1                             1396.151033  ...   \n",
       "2                             1398.075709  ...   \n",
       "3                             1400.129303  ...   \n",
       "4                             1402.172226  ...   \n",
       "\n",
       "   secondary_cleaner.state.floatbank4_a_air  \\\n",
       "0                                 12.023554   \n",
       "1                                 12.058140   \n",
       "2                                 11.962366   \n",
       "3                                 12.033091   \n",
       "4                                 12.025367   \n",
       "\n",
       "   secondary_cleaner.state.floatbank4_a_level  \\\n",
       "0                                 -497.795834   \n",
       "1                                 -498.695773   \n",
       "2                                 -498.767484   \n",
       "3                                 -498.350935   \n",
       "4                                 -500.786497   \n",
       "\n",
       "   secondary_cleaner.state.floatbank4_b_air  \\\n",
       "0                                  8.016656   \n",
       "1                                  8.130979   \n",
       "2                                  8.096893   \n",
       "3                                  8.074946   \n",
       "4                                  8.054678   \n",
       "\n",
       "   secondary_cleaner.state.floatbank4_b_level  \\\n",
       "0                                 -501.289139   \n",
       "1                                 -499.634209   \n",
       "2                                 -500.827423   \n",
       "3                                 -499.474407   \n",
       "4                                 -500.397500   \n",
       "\n",
       "   secondary_cleaner.state.floatbank5_a_air  \\\n",
       "0                                  7.946562   \n",
       "1                                  7.958270   \n",
       "2                                  8.071056   \n",
       "3                                  7.897085   \n",
       "4                                  8.107890   \n",
       "\n",
       "   secondary_cleaner.state.floatbank5_a_level  \\\n",
       "0                                 -432.317850   \n",
       "1                                 -525.839648   \n",
       "2                                 -500.801673   \n",
       "3                                 -500.868509   \n",
       "4                                 -509.526725   \n",
       "\n",
       "   secondary_cleaner.state.floatbank5_b_air  \\\n",
       "0                                  4.872511   \n",
       "1                                  4.878850   \n",
       "2                                  4.905125   \n",
       "3                                  4.931400   \n",
       "4                                  4.957674   \n",
       "\n",
       "   secondary_cleaner.state.floatbank5_b_level  \\\n",
       "0                                 -500.037437   \n",
       "1                                 -500.162375   \n",
       "2                                 -499.828510   \n",
       "3                                 -499.963623   \n",
       "4                                 -500.360026   \n",
       "\n",
       "   secondary_cleaner.state.floatbank6_a_air  \\\n",
       "0                                 26.705889   \n",
       "1                                 25.019940   \n",
       "2                                 24.994862   \n",
       "3                                 24.948919   \n",
       "4                                 25.003331   \n",
       "\n",
       "   secondary_cleaner.state.floatbank6_a_level  \n",
       "0                                 -499.709414  \n",
       "1                                 -499.819438  \n",
       "2                                 -500.622559  \n",
       "3                                 -498.709987  \n",
       "4                                 -500.856333  \n",
       "\n",
       "[5 rows x 53 columns]"
      ]
     },
     "execution_count": 4,
     "metadata": {},
     "output_type": "execute_result"
    }
   ],
   "source": [
    "print(\"Test Dataset Head:\")\n",
    "test.head()"
   ]
  },
  {
   "cell_type": "code",
   "execution_count": 5,
   "metadata": {},
   "outputs": [
    {
     "name": "stdout",
     "output_type": "stream",
     "text": [
      "Full Dataset Head:\n"
     ]
    },
    {
     "data": {
      "text/html": [
       "<div>\n",
       "<style scoped>\n",
       "    .dataframe tbody tr th:only-of-type {\n",
       "        vertical-align: middle;\n",
       "    }\n",
       "\n",
       "    .dataframe tbody tr th {\n",
       "        vertical-align: top;\n",
       "    }\n",
       "\n",
       "    .dataframe thead th {\n",
       "        text-align: right;\n",
       "    }\n",
       "</style>\n",
       "<table border=\"1\" class=\"dataframe\">\n",
       "  <thead>\n",
       "    <tr style=\"text-align: right;\">\n",
       "      <th></th>\n",
       "      <th>date</th>\n",
       "      <th>final.output.concentrate_ag</th>\n",
       "      <th>final.output.concentrate_pb</th>\n",
       "      <th>final.output.concentrate_sol</th>\n",
       "      <th>final.output.concentrate_au</th>\n",
       "      <th>final.output.recovery</th>\n",
       "      <th>final.output.tail_ag</th>\n",
       "      <th>final.output.tail_pb</th>\n",
       "      <th>final.output.tail_sol</th>\n",
       "      <th>final.output.tail_au</th>\n",
       "      <th>...</th>\n",
       "      <th>secondary_cleaner.state.floatbank4_a_air</th>\n",
       "      <th>secondary_cleaner.state.floatbank4_a_level</th>\n",
       "      <th>secondary_cleaner.state.floatbank4_b_air</th>\n",
       "      <th>secondary_cleaner.state.floatbank4_b_level</th>\n",
       "      <th>secondary_cleaner.state.floatbank5_a_air</th>\n",
       "      <th>secondary_cleaner.state.floatbank5_a_level</th>\n",
       "      <th>secondary_cleaner.state.floatbank5_b_air</th>\n",
       "      <th>secondary_cleaner.state.floatbank5_b_level</th>\n",
       "      <th>secondary_cleaner.state.floatbank6_a_air</th>\n",
       "      <th>secondary_cleaner.state.floatbank6_a_level</th>\n",
       "    </tr>\n",
       "  </thead>\n",
       "  <tbody>\n",
       "    <tr>\n",
       "      <th>0</th>\n",
       "      <td>2016-01-15 00:00:00</td>\n",
       "      <td>6.055403</td>\n",
       "      <td>9.889648</td>\n",
       "      <td>5.507324</td>\n",
       "      <td>42.192020</td>\n",
       "      <td>70.541216</td>\n",
       "      <td>10.411962</td>\n",
       "      <td>0.895447</td>\n",
       "      <td>16.904297</td>\n",
       "      <td>2.143149</td>\n",
       "      <td>...</td>\n",
       "      <td>14.016835</td>\n",
       "      <td>-502.488007</td>\n",
       "      <td>12.099931</td>\n",
       "      <td>-504.715942</td>\n",
       "      <td>9.925633</td>\n",
       "      <td>-498.310211</td>\n",
       "      <td>8.079666</td>\n",
       "      <td>-500.470978</td>\n",
       "      <td>14.151341</td>\n",
       "      <td>-605.841980</td>\n",
       "    </tr>\n",
       "    <tr>\n",
       "      <th>1</th>\n",
       "      <td>2016-01-15 01:00:00</td>\n",
       "      <td>6.029369</td>\n",
       "      <td>9.968944</td>\n",
       "      <td>5.257781</td>\n",
       "      <td>42.701629</td>\n",
       "      <td>69.266198</td>\n",
       "      <td>10.462676</td>\n",
       "      <td>0.927452</td>\n",
       "      <td>16.634514</td>\n",
       "      <td>2.224930</td>\n",
       "      <td>...</td>\n",
       "      <td>13.992281</td>\n",
       "      <td>-505.503262</td>\n",
       "      <td>11.950531</td>\n",
       "      <td>-501.331529</td>\n",
       "      <td>10.039245</td>\n",
       "      <td>-500.169983</td>\n",
       "      <td>7.984757</td>\n",
       "      <td>-500.582168</td>\n",
       "      <td>13.998353</td>\n",
       "      <td>-599.787184</td>\n",
       "    </tr>\n",
       "    <tr>\n",
       "      <th>2</th>\n",
       "      <td>2016-01-15 02:00:00</td>\n",
       "      <td>6.055926</td>\n",
       "      <td>10.213995</td>\n",
       "      <td>5.383759</td>\n",
       "      <td>42.657501</td>\n",
       "      <td>68.116445</td>\n",
       "      <td>10.507046</td>\n",
       "      <td>0.953716</td>\n",
       "      <td>16.208849</td>\n",
       "      <td>2.257889</td>\n",
       "      <td>...</td>\n",
       "      <td>14.015015</td>\n",
       "      <td>-502.520901</td>\n",
       "      <td>11.912783</td>\n",
       "      <td>-501.133383</td>\n",
       "      <td>10.070913</td>\n",
       "      <td>-500.129135</td>\n",
       "      <td>8.013877</td>\n",
       "      <td>-500.517572</td>\n",
       "      <td>14.028663</td>\n",
       "      <td>-601.427363</td>\n",
       "    </tr>\n",
       "    <tr>\n",
       "      <th>3</th>\n",
       "      <td>2016-01-15 03:00:00</td>\n",
       "      <td>6.047977</td>\n",
       "      <td>9.977019</td>\n",
       "      <td>4.858634</td>\n",
       "      <td>42.689819</td>\n",
       "      <td>68.347543</td>\n",
       "      <td>10.422762</td>\n",
       "      <td>0.883763</td>\n",
       "      <td>16.532835</td>\n",
       "      <td>2.146849</td>\n",
       "      <td>...</td>\n",
       "      <td>14.036510</td>\n",
       "      <td>-500.857308</td>\n",
       "      <td>11.999550</td>\n",
       "      <td>-501.193686</td>\n",
       "      <td>9.970366</td>\n",
       "      <td>-499.201640</td>\n",
       "      <td>7.977324</td>\n",
       "      <td>-500.255908</td>\n",
       "      <td>14.005551</td>\n",
       "      <td>-599.996129</td>\n",
       "    </tr>\n",
       "    <tr>\n",
       "      <th>4</th>\n",
       "      <td>2016-01-15 04:00:00</td>\n",
       "      <td>6.148599</td>\n",
       "      <td>10.142511</td>\n",
       "      <td>4.939416</td>\n",
       "      <td>42.774141</td>\n",
       "      <td>66.927016</td>\n",
       "      <td>10.360302</td>\n",
       "      <td>0.792826</td>\n",
       "      <td>16.525686</td>\n",
       "      <td>2.055292</td>\n",
       "      <td>...</td>\n",
       "      <td>14.027298</td>\n",
       "      <td>-499.838632</td>\n",
       "      <td>11.953070</td>\n",
       "      <td>-501.053894</td>\n",
       "      <td>9.925709</td>\n",
       "      <td>-501.686727</td>\n",
       "      <td>7.894242</td>\n",
       "      <td>-500.356035</td>\n",
       "      <td>13.996647</td>\n",
       "      <td>-601.496691</td>\n",
       "    </tr>\n",
       "  </tbody>\n",
       "</table>\n",
       "<p>5 rows × 87 columns</p>\n",
       "</div>"
      ],
      "text/plain": [
       "                  date  final.output.concentrate_ag  \\\n",
       "0  2016-01-15 00:00:00                     6.055403   \n",
       "1  2016-01-15 01:00:00                     6.029369   \n",
       "2  2016-01-15 02:00:00                     6.055926   \n",
       "3  2016-01-15 03:00:00                     6.047977   \n",
       "4  2016-01-15 04:00:00                     6.148599   \n",
       "\n",
       "   final.output.concentrate_pb  final.output.concentrate_sol  \\\n",
       "0                     9.889648                      5.507324   \n",
       "1                     9.968944                      5.257781   \n",
       "2                    10.213995                      5.383759   \n",
       "3                     9.977019                      4.858634   \n",
       "4                    10.142511                      4.939416   \n",
       "\n",
       "   final.output.concentrate_au  final.output.recovery  final.output.tail_ag  \\\n",
       "0                    42.192020              70.541216             10.411962   \n",
       "1                    42.701629              69.266198             10.462676   \n",
       "2                    42.657501              68.116445             10.507046   \n",
       "3                    42.689819              68.347543             10.422762   \n",
       "4                    42.774141              66.927016             10.360302   \n",
       "\n",
       "   final.output.tail_pb  final.output.tail_sol  final.output.tail_au  ...  \\\n",
       "0              0.895447              16.904297              2.143149  ...   \n",
       "1              0.927452              16.634514              2.224930  ...   \n",
       "2              0.953716              16.208849              2.257889  ...   \n",
       "3              0.883763              16.532835              2.146849  ...   \n",
       "4              0.792826              16.525686              2.055292  ...   \n",
       "\n",
       "   secondary_cleaner.state.floatbank4_a_air  \\\n",
       "0                                 14.016835   \n",
       "1                                 13.992281   \n",
       "2                                 14.015015   \n",
       "3                                 14.036510   \n",
       "4                                 14.027298   \n",
       "\n",
       "   secondary_cleaner.state.floatbank4_a_level  \\\n",
       "0                                 -502.488007   \n",
       "1                                 -505.503262   \n",
       "2                                 -502.520901   \n",
       "3                                 -500.857308   \n",
       "4                                 -499.838632   \n",
       "\n",
       "   secondary_cleaner.state.floatbank4_b_air  \\\n",
       "0                                 12.099931   \n",
       "1                                 11.950531   \n",
       "2                                 11.912783   \n",
       "3                                 11.999550   \n",
       "4                                 11.953070   \n",
       "\n",
       "   secondary_cleaner.state.floatbank4_b_level  \\\n",
       "0                                 -504.715942   \n",
       "1                                 -501.331529   \n",
       "2                                 -501.133383   \n",
       "3                                 -501.193686   \n",
       "4                                 -501.053894   \n",
       "\n",
       "   secondary_cleaner.state.floatbank5_a_air  \\\n",
       "0                                  9.925633   \n",
       "1                                 10.039245   \n",
       "2                                 10.070913   \n",
       "3                                  9.970366   \n",
       "4                                  9.925709   \n",
       "\n",
       "   secondary_cleaner.state.floatbank5_a_level  \\\n",
       "0                                 -498.310211   \n",
       "1                                 -500.169983   \n",
       "2                                 -500.129135   \n",
       "3                                 -499.201640   \n",
       "4                                 -501.686727   \n",
       "\n",
       "   secondary_cleaner.state.floatbank5_b_air  \\\n",
       "0                                  8.079666   \n",
       "1                                  7.984757   \n",
       "2                                  8.013877   \n",
       "3                                  7.977324   \n",
       "4                                  7.894242   \n",
       "\n",
       "   secondary_cleaner.state.floatbank5_b_level  \\\n",
       "0                                 -500.470978   \n",
       "1                                 -500.582168   \n",
       "2                                 -500.517572   \n",
       "3                                 -500.255908   \n",
       "4                                 -500.356035   \n",
       "\n",
       "   secondary_cleaner.state.floatbank6_a_air  \\\n",
       "0                                 14.151341   \n",
       "1                                 13.998353   \n",
       "2                                 14.028663   \n",
       "3                                 14.005551   \n",
       "4                                 13.996647   \n",
       "\n",
       "   secondary_cleaner.state.floatbank6_a_level  \n",
       "0                                 -605.841980  \n",
       "1                                 -599.787184  \n",
       "2                                 -601.427363  \n",
       "3                                 -599.996129  \n",
       "4                                 -601.496691  \n",
       "\n",
       "[5 rows x 87 columns]"
      ]
     },
     "execution_count": 5,
     "metadata": {},
     "output_type": "execute_result"
    }
   ],
   "source": [
    "print(\"Full Dataset Head:\")\n",
    "full.head()"
   ]
  },
  {
   "cell_type": "code",
   "execution_count": 6,
   "metadata": {},
   "outputs": [
    {
     "name": "stdout",
     "output_type": "stream",
     "text": [
      "Mean Absolute Error for Recovery Calculation: 0.0000\n"
     ]
    }
   ],
   "source": [
    "# Define the calculate_recovery function\n",
    "def calculate_recovery(C, F, T):\n",
    "    \"\"\"\n",
    "    Calculate the recovery rate using the formula:\n",
    "    Recovery = (C * (F - T)) / (F * (C - T)) * 100\n",
    "\n",
    "    Where:\n",
    "    - C: Concentration of gold in the output concentrate\n",
    "    - F: Concentration of gold in the input feed\n",
    "    - T: Concentration of gold in the output tails\n",
    "    \"\"\"\n",
    "    return (C * (F - T)) / (F * (C - T)) * 100\n",
    "\n",
    "# Drop rows where necessary columns for recovery calculation have NaN or invalid values\n",
    "recovery_columns = ['rougher.output.concentrate_au', 'rougher.input.feed_au', 'rougher.output.tail_au', 'rougher.output.recovery']\n",
    "filtered_train = train[recovery_columns].dropna()\n",
    "\n",
    "# Calculate recovery after dropping NaN rows\n",
    "filtered_train['calculated_recovery'] = calculate_recovery(\n",
    "    filtered_train['rougher.output.concentrate_au'],\n",
    "    filtered_train['rougher.input.feed_au'],\n",
    "    filtered_train['rougher.output.tail_au']\n",
    ")\n",
    "\n",
    "\n",
    "mae_recovery = mean_absolute_error(filtered_train['rougher.output.recovery'], filtered_train['calculated_recovery'])\n",
    "print(f\"Mean Absolute Error for Recovery Calculation: {mae_recovery:.4f}\")\n",
    "\n"
   ]
  },
  {
   "cell_type": "markdown",
   "metadata": {},
   "source": [
    "<div class=\"alert alert-block alert-success\">\n",
    "<b>Reviewer's comment V1</b> <a class=\"tocSkip\"></a>\n",
    "\n",
    "Good job!\n",
    "  \n",
    "</div>"
   ]
  },
  {
   "cell_type": "markdown",
   "metadata": {},
   "source": [
    "The Mean Absolute Error (MAE) is 0.0000, which means the recovery calculation formula aligns perfectly with the dataset. This is a strong validation that the data is consistent for the rougher.output.recovery feature."
   ]
  },
  {
   "cell_type": "code",
   "execution_count": 7,
   "metadata": {},
   "outputs": [
    {
     "name": "stdout",
     "output_type": "stream",
     "text": [
      "Summary of Missing Features in Test Dataset:\n",
      "\n",
      "Target Variables (2):\n",
      "rougher.output.recovery, final.output.recovery\n",
      "\n",
      "Intermediate Features (32):\n",
      "final.output.concentrate_pb, secondary_cleaner.output.tail_au, final.output.concentrate_ag, primary_cleaner.output.concentrate_pb, primary_cleaner.output.concentrate_ag, primary_cleaner.output.concentrate_sol, rougher.output.concentrate_pb, final.output.concentrate_sol, rougher.output.tail_pb, primary_cleaner.output.tail_ag, primary_cleaner.output.tail_au, rougher.output.tail_au, rougher.output.concentrate_au, primary_cleaner.output.concentrate_au, primary_cleaner.output.tail_sol, final.output.tail_sol, final.output.concentrate_au, secondary_cleaner.output.tail_sol, rougher.output.concentrate_ag, rougher.output.tail_sol, rougher.calculation.floatbank11_sulfate_to_au_feed, secondary_cleaner.output.tail_ag, rougher.calculation.sulfate_to_au_concentrate, primary_cleaner.output.tail_pb, secondary_cleaner.output.tail_pb, rougher.calculation.au_pb_ratio, final.output.tail_au, rougher.output.concentrate_sol, rougher.output.tail_ag, rougher.calculation.floatbank10_sulfate_to_au_feed, final.output.tail_pb, final.output.tail_ag\n"
     ]
    }
   ],
   "source": [
    "# Define missing features by comparing train and test datasets\n",
    "missing_features = set(train.columns) - set(test.columns)\n",
    "\n",
    "# Define target variables\n",
    "target_variables = {'rougher.output.recovery', 'final.output.recovery'}\n",
    "\n",
    "# Separate missing features\n",
    "missing_features_set = set(missing_features)\n",
    "intermediate_features = missing_features_set - target_variables\n",
    "missing_summary = {\n",
    "    \"Target Variables\": list(target_variables.intersection(missing_features_set)),\n",
    "    \"Intermediate Features\": list(intermediate_features),\n",
    "}\n",
    "\n",
    "# Display a clean summary\n",
    "print(\"Summary of Missing Features in Test Dataset:\")\n",
    "for category, features in missing_summary.items():\n",
    "    print(f\"\\n{category} ({len(features)}):\")\n",
    "    print(\", \".join(features))\n",
    "\n"
   ]
  },
  {
   "cell_type": "markdown",
   "metadata": {},
   "source": [
    "<div class=\"alert alert-block alert-success\">\n",
    "<b>Reviewer's comment V1</b> <a class=\"tocSkip\"></a>\n",
    "\n",
    "Correct\n",
    "  \n",
    "</div>"
   ]
  },
  {
   "cell_type": "markdown",
   "metadata": {},
   "source": [
    "## Data Preprocessing"
   ]
  },
  {
   "cell_type": "code",
   "execution_count": 8,
   "metadata": {},
   "outputs": [
    {
     "name": "stdout",
     "output_type": "stream",
     "text": [
      " Number of duplicate rows in the training dataset: 0\n",
      " Training dataset shape after removing duplicates: (16860, 87)\n",
      " Number of duplicate rows in the test dataset: 0\n",
      " Test dataset shape after removing duplicates: (5856, 53)\n",
      " Final missing values in train: 0 (Should be 0)\n",
      " Final missing values in test: 0 (Should be 0)\n",
      " Shape of Training Features after Preprocessing: (16860, 85)\n",
      " Shape of Test Features after Preprocessing: (5856, 53)\n"
     ]
    }
   ],
   "source": [
    "# Ensure test_features is a DataFrame\n",
    "test_features = test.copy()  # This ensures test_features is a DataFrame.\n",
    "\n",
    "# Define target columns\n",
    "target_columns = ['rougher.output.recovery', 'final.output.recovery']\n",
    "\n",
    "# Remove duplicates from training data\n",
    "duplicates_train = train.duplicated().sum()\n",
    "print(f\" Number of duplicate rows in the training dataset: {duplicates_train}\")\n",
    "train = train.drop_duplicates()\n",
    "print(f\" Training dataset shape after removing duplicates: {train.shape}\")\n",
    "\n",
    "# Remove duplicates from test data\n",
    "duplicates_test = test.duplicated().sum()\n",
    "print(f\" Number of duplicate rows in the test dataset: {duplicates_test}\")\n",
    "test = test.drop_duplicates()\n",
    "print(f\" Test dataset shape after removing duplicates: {test.shape}\")\n",
    "\n",
    "# Separate features from targets after duplicate removal\n",
    "features_train = train.drop(columns=target_columns)\n",
    "test_features = test.copy()\n",
    "\n",
    "# Handle missing values using forward fill method (propagating previous values)\n",
    "features_train.fillna(method='ffill', inplace=True)  \n",
    "test_features.fillna(method='ffill', inplace=True)\n",
    "\n",
    "#  Apply forward fill to fill missing values in the entire datasets (train and test)\n",
    "train.fillna(method='ffill', inplace=True)\n",
    "test.fillna(method='ffill', inplace=True)\n",
    "\n",
    "# Ensure the missing values are completely filled\n",
    "print(f\" Final missing values in train: {train.isnull().sum().sum()} (Should be 0)\")\n",
    "print(f\" Final missing values in test: {test.isnull().sum().sum()} (Should be 0)\")\n",
    "\n",
    "\n",
    "# Final check\n",
    "print(f\" Shape of Training Features after Preprocessing: {features_train.shape}\")\n",
    "print(f\" Shape of Test Features after Preprocessing: {test_features.shape}\")\n"
   ]
  },
  {
   "cell_type": "markdown",
   "metadata": {},
   "source": [
    "<div class=\"alert alert-block alert-danger\">\n",
    "<b>Reviewer's comment V1</b> <a class=\"tocSkip\"></a>\n",
    "\n",
    "It's not a good idea to drop NaN when you work with ML models. When you drop a row because of NaN in one column, you loose information from other columns which can be useful for model training.\n",
    "    \n",
    "Usually we use mean or median to fill NaNs in quantitative features. But when we have ordered data, there is a better way to fill NaNs. What is the closest value for the current one? The previous one. You can use this fact to fill NaNs in all the columns. Just read the documentation for the fillna() method and you will find a parameter which helps to fill the NaNs in such way. So, please, do it.\n",
    "  \n",
    "</div>"
   ]
  },
  {
   "cell_type": "markdown",
   "metadata": {},
   "source": [
    "<div class=\"alert alert-block alert-success\">\n",
    "<b>Reviewer's comment V2</b> <a class=\"tocSkip\"></a>\n",
    "\n",
    "Good job!\n",
    "  \n",
    "</div>"
   ]
  },
  {
   "cell_type": "markdown",
   "metadata": {},
   "source": [
    "There are no Duplicates and the missing values are also replaced with previous values, now the data is clean and good to go to the further steps"
   ]
  },
  {
   "cell_type": "markdown",
   "metadata": {},
   "source": [
    "## Data Analysis"
   ]
  },
  {
   "cell_type": "code",
   "execution_count": 9,
   "metadata": {},
   "outputs": [
    {
     "data": {
      "image/png": "[encoded data removed]",
      "text/plain": [
       "<Figure size 1000x600 with 1 Axes>"
      ]
     },
     "metadata": {},
     "output_type": "display_data"
    },
    {
     "data": {
      "image/png": "[encoded data removed]",
      "text/plain": [
       "<Figure size 1000x600 with 1 Axes>"
      ]
     },
     "metadata": {},
     "output_type": "display_data"
    },
    {
     "data": {
      "image/png": "[encoded data removed]",
      "text/plain": [
       "<Figure size 1000x600 with 1 Axes>"
      ]
     },
     "metadata": {},
     "output_type": "display_data"
    }
   ],
   "source": [
    "# 1. Metal Concentration Plots at Different Stages\n",
    "def plot_metal_concentration(data, metal):\n",
    "    plt.figure(figsize=(10, 6))\n",
    "\n",
    "    # Define stage columns for the given metal with assigned colors\n",
    "    stages = {\n",
    "        'Raw Feed': ('rougher.input.feed_' + metal, 'red'),\n",
    "        'Rougher Output': ('rougher.output.concentrate_' + metal, 'blue'),\n",
    "        'Primary Cleaner Output': ('primary_cleaner.output.concentrate_' + metal, 'green'),\n",
    "        'Final Output': ('final.output.concentrate_' + metal, 'purple')\n",
    "    }\n",
    "    \n",
    "    # Plot histograms for each stage with different colors\n",
    "    for stage, (column, color) in stages.items():\n",
    "        if column in data.columns:\n",
    "            sns.histplot(data[column], kde=True, bins=30, label=stage, color=color, alpha=0.6)\n",
    "    \n",
    "    # Formatting the plot\n",
    "    plt.title(f\"Metal Concentration Changes: {metal.upper()}\", fontsize=14)\n",
    "    plt.xlabel(\"Concentration\")\n",
    "    plt.ylabel(\"Frequency\")\n",
    "    plt.legend()\n",
    "    plt.show()\n",
    "\n",
    "# Metals to analyze\n",
    "metals = ['au', 'ag', 'pb']\n",
    "\n",
    "# Generate plots for each metal\n",
    "for metal in metals:\n",
    "    plot_metal_concentration(train, metal)\n"
   ]
  },
  {
   "cell_type": "markdown",
   "metadata": {},
   "source": [
    "### Findings on Metal Concentration Changes Across Processing Stages"
   ]
  },
  {
   "cell_type": "markdown",
   "metadata": {},
   "source": [
    "**Gold (Au) Concentration Trends**\n",
    "\n",
    "From the Gold (Au) concentration plot, we observe that gold content increases steadily across each stage of processing. The Raw Feed (red) has the lowest gold concentration, mostly below 10. As the ore moves through the Rougher Output (blue) stage, gold concentration increases significantly, peaking around 20. The Primary Cleaner Output (green) further refines the gold content, shifting the distribution toward higher values (30-40). Finally, the Final Output (purple) achieves the highest gold purity, with concentrations mostly between 40 and 50. This confirms that the flotation and purification processes effectively extract and refine gold, reducing impurities and increasing yield."
   ]
  },
  {
   "cell_type": "markdown",
   "metadata": {},
   "source": [
    "**Silver (Ag) Concentration Trends**\n",
    "\n",
    "For Silver (Ag), the concentration follows a different trend. The Raw Feed (red) starts with moderate silver content, but as the ore moves through the stages, silver concentration increases at the Rougher Output stage (blue) but starts declining after the Primary Cleaner stage (green). By the Final Output stage (purple), the silver concentration is significantly reduced. This suggests that while some silver is recovered along with gold, a portion of it is lost or removed during the purification process. The decreasing silver trend may indicate that silver behaves differently in flotation and purification compared to gold."
   ]
  },
  {
   "cell_type": "markdown",
   "metadata": {},
   "source": [
    "**Lead (Pb) Concentration Trends**\n",
    "\n",
    "The Lead (Pb) concentration plot shows a similar trend to silver. The Raw Feed (red) has the highest initial lead concentration, but as processing progresses, the Pb concentration decreases. The Rougher Output (blue) stage sees an increase in lead concentration, but by the Primary Cleaner (green) and Final Output (purple) stages, lead content is significantly reduced. This suggests that lead is effectively removed as an impurity during the purification process. Unlike gold, lead is not the target metal for extraction and is progressively separated from the concentrate."
   ]
  },
  {
   "cell_type": "markdown",
   "metadata": {},
   "source": [
    "<div class=\"alert alert-block alert-danger\">\n",
    "<b>Reviewer's comment V1</b> <a class=\"tocSkip\"></a>\n",
    "\n",
    "It seems you misunderstood this task a bit. In this task you need to plot 3 graphs: one for Au, one for Ag and one for Pb. On each graph you need to plot 4 histograms with different colors: one for rougher.input.feed, one for rougher.output.concentrate, one for primary_cleaner.output.concentrate and one for final.output.concentrate. After it you need to draw a conclusion how concentrations of each metal changes during stages.\n",
    "  \n",
    "</div>"
   ]
  },
  {
   "cell_type": "markdown",
   "metadata": {},
   "source": [
    "<div class=\"alert alert-block alert-success\">\n",
    "<b>Reviewer's comment V2</b> <a class=\"tocSkip\"></a>\n",
    "\n",
    "Correct. Well done!\n",
    "  \n",
    "</div>"
   ]
  },
  {
   "cell_type": "code",
   "execution_count": 10,
   "metadata": {},
   "outputs": [
    {
     "data": {
      "image/png": "[encoded data removed]",
      "text/plain": [
       "<Figure size 1000x600 with 1 Axes>"
      ]
     },
     "metadata": {},
     "output_type": "display_data"
    }
   ],
   "source": [
    "# 2. Normalized Feed Particle Size Distribution Comparison\n",
    "plt.figure(figsize=(10, 6))\n",
    "\n",
    "# Plot normalized histograms\n",
    "sns.histplot(train['rougher.input.feed_size'], kde=True, color='blue', label='Train', stat=\"density\", alpha=0.7)\n",
    "sns.histplot(test['rougher.input.feed_size'], kde=True, color='orange', label='Test', stat=\"density\", alpha=0.7)\n",
    "\n",
    "# Formatting the plot\n",
    "plt.title(\"Normalized Feed Particle Size Distribution\", fontsize=14)\n",
    "plt.xlabel(\"Feed Size\")\n",
    "plt.ylabel(\"Density\")  # Change to density since we normalize the data\n",
    "plt.legend()\n",
    "plt.show()\n"
   ]
  },
  {
   "cell_type": "markdown",
   "metadata": {},
   "source": [
    "The **normalized feed particle size distribution** reveals a **strong overlap** between the training and test datasets, suggesting a consistent data distribution across both. The majority of particle sizes are **highly concentrated between 0 and 80**, with a **sharp peak near 40**, indicating that most ore particles are within this range. However, the **test dataset (orange) exhibits slightly higher density at lower feed sizes compared to the training set (blue)**, suggesting a slight shift in distribution. Additionally, both datasets contain **a few extreme outliers above 300**, though these are relatively rare. Since the overall shape of the distributions remains similar, **the model is unlikely to face significant issues due to differences in particle size distributions between the training and test sets**."
   ]
  },
  {
   "cell_type": "markdown",
   "metadata": {},
   "source": [
    "<div class=\"alert alert-block alert-danger\">\n",
    "<b>Reviewer's comment V1</b> <a class=\"tocSkip\"></a>\n",
    "\n",
    "Correct. Good job! But when we need to compare distributions with different number of observations we need to plot normalized histograms to avoid dependence on the number of observations. So, please, fix it.\n",
    "  \n",
    "</div>"
   ]
  },
  {
   "cell_type": "markdown",
   "metadata": {},
   "source": [
    "<div class=\"alert alert-block alert-success\">\n",
    "<b>Reviewer's comment V2</b> <a class=\"tocSkip\"></a>\n",
    "\n",
    "Correct\n",
    "  \n",
    "</div>"
   ]
  },
  {
   "cell_type": "code",
   "execution_count": 11,
   "metadata": {},
   "outputs": [
    {
     "data": {
      "image/png": "[encoded data removed]",
      "text/plain": [
       "<Figure size 1000x600 with 1 Axes>"
      ]
     },
     "metadata": {},
     "output_type": "display_data"
    },
    {
     "name": "stdout",
     "output_type": "stream",
     "text": [
      "Raw feed Stage: Total Concentration Stats\n",
      " count    16860.000000\n",
      "mean        18.136907\n",
      "std          7.407993\n",
      "min          0.000000\n",
      "25%         16.093185\n",
      "50%         18.713815\n",
      "75%         22.327806\n",
      "max         35.071987\n",
      "Name: total_concentration, dtype: float64\n"
     ]
    },
    {
     "data": {
      "image/png": "[encoded data removed]",
      "text/plain": [
       "<Figure size 1000x600 with 1 Axes>"
      ]
     },
     "metadata": {},
     "output_type": "display_data"
    },
    {
     "name": "stdout",
     "output_type": "stream",
     "text": [
      "Rougher Stage: Total Concentration Stats\n",
      " count    16860.000000\n",
      "mean        34.740842\n",
      "std         13.697400\n",
      "min          0.000000\n",
      "25%         36.609887\n",
      "50%         39.457951\n",
      "75%         41.635606\n",
      "max         55.568687\n",
      "Name: total_concentration, dtype: float64\n"
     ]
    },
    {
     "data": {
      "image/png": "[encoded data removed]",
      "text/plain": [
       "<Figure size 1000x600 with 1 Axes>"
      ]
     },
     "metadata": {},
     "output_type": "display_data"
    },
    {
     "name": "stdout",
     "output_type": "stream",
     "text": [
      "Final Stage: Total Concentration Stats\n",
      " count    16860.000000\n",
      "mean        53.101335\n",
      "std         18.691789\n",
      "min          0.000000\n",
      "25%         58.523841\n",
      "50%         59.984051\n",
      "75%         60.934848\n",
      "max         65.575259\n",
      "Name: total_concentration, dtype: float64\n"
     ]
    }
   ],
   "source": [
    "# 3. Simplified Total Concentration Analysis\n",
    "def analyze_total_concentration(data, stage, metals):\n",
    "    plt.figure(figsize=(10, 6))\n",
    "    if stage == 'raw feed':\n",
    "        columns = [f'rougher.input.feed_{metal}' for metal in metals]\n",
    "    elif stage == 'rougher':\n",
    "        columns = [f'rougher.output.concentrate_{metal}' for metal in metals]\n",
    "    elif stage == 'final':\n",
    "        columns = [f'final.output.concentrate_{metal}' for metal in metals]\n",
    "    if all(col in data.columns for col in columns):\n",
    "        data['total_concentration'] = data[columns].sum(axis=1)\n",
    "        sns.histplot(data['total_concentration'], kde=True, bins=30, color='green', alpha=0.7)\n",
    "        plt.axvline(data['total_concentration'].mean(), color='red', linestyle='--', label='Mean')\n",
    "        plt.title(f\"{stage.capitalize()} Stage: Total Concentration\", fontsize=14)\n",
    "        plt.xlabel(\"Total Concentration\")\n",
    "        plt.ylabel(\"Frequency\")\n",
    "        plt.legend()\n",
    "        plt.show()\n",
    "        return data['total_concentration'].describe()\n",
    "\n",
    "for stage in ['raw feed', 'rougher', 'final']:\n",
    "    stats = analyze_total_concentration(train, stage, metals)\n",
    "    print(f\"{stage.capitalize()} Stage: Total Concentration Stats\\n\", stats)\n"
   ]
  },
  {
   "cell_type": "markdown",
   "metadata": {},
   "source": [
    "The total concentration increases steadily across the stages, reflecting the expected enrichment of valuable metals during the purification process. In the raw feed stage, the average total concentration is 18.11, with most values ranging between 16.08 and 22.33, but the presence of a minimum value of 0 suggests possible anomalies or missing data. The rougher stage shows significant enrichment, with an average concentration of 34.69 and most values between 36.60 and 41.63, although a minimum of 0 persists. In the final stage, the average concentration rises further to 53.07, with most values tightly distributed between 58.52 and 60.93. However, the repeated occurrence of 0 values across stages warrants further investigation to address potential data issues."
   ]
  },
  {
   "cell_type": "markdown",
   "metadata": {},
   "source": [
    "<div class=\"alert alert-block alert-success\">\n",
    "<b>Reviewer's comment V1</b> <a class=\"tocSkip\"></a>\n",
    "\n",
    "Correct. Well done!\n",
    "  \n",
    "</div>"
   ]
  },
  {
   "cell_type": "markdown",
   "metadata": {},
   "source": [
    "## Data Cleaning and Addressing Anomalies"
   ]
  },
  {
   "cell_type": "code",
   "execution_count": 12,
   "metadata": {},
   "outputs": [
    {
     "name": "stdout",
     "output_type": "stream",
     "text": [
      "Raw feed Stage: 1213 rows with zero total concentration.\n",
      "Rougher Stage: 1547 rows with zero total concentration.\n",
      "Final Stage: 1320 rows with zero total concentration.\n"
     ]
    }
   ],
   "source": [
    "# Check rows with zero total concentration for each stage\n",
    "stages = {\n",
    "    'raw feed': [f'rougher.input.feed_{metal}' for metal in ['au', 'ag', 'pb']],\n",
    "    'rougher': [f'rougher.output.concentrate_{metal}' for metal in ['au', 'ag', 'pb']],\n",
    "    'final': [f'final.output.concentrate_{metal}' for metal in ['au', 'ag', 'pb']]\n",
    "}\n",
    "\n",
    "for stage, columns in stages.items():\n",
    "    # Filter only columns that exist in the dataset\n",
    "    valid_columns = [col for col in columns if col in train.columns]\n",
    "    if not valid_columns:\n",
    "        print(f\"{stage.capitalize()} Stage: No valid columns found in the dataset.\")\n",
    "        continue\n",
    "    \n",
    "    zero_concentration = train[valid_columns].sum(axis=1) == 0\n",
    "    print(f\"{stage.capitalize()} Stage: {zero_concentration.sum()} rows with zero total concentration.\")\n"
   ]
  },
  {
   "cell_type": "code",
   "execution_count": 13,
   "metadata": {},
   "outputs": [
    {
     "name": "stdout",
     "output_type": "stream",
     "text": [
      "Updated training dataset shape: (15128, 88)\n"
     ]
    }
   ],
   "source": [
    "# Remove rows with zero total concentration for each stage\n",
    "for stage, columns in stages.items():\n",
    "    train = train[train[columns].sum(axis=1) > 0]\n",
    "\n",
    "# Display the updated shape of the dataset\n",
    "print(f\"Updated training dataset shape: {train.shape}\")\n"
   ]
  },
  {
   "cell_type": "code",
   "execution_count": 14,
   "metadata": {},
   "outputs": [
    {
     "name": "stdout",
     "output_type": "stream",
     "text": [
      "Raw feed Stage: 0 rows with zero total concentration after cleaning.\n",
      "Rougher Stage: 0 rows with zero total concentration after cleaning.\n",
      "Final Stage: 0 rows with zero total concentration after cleaning.\n",
      "Missing values in the cleaned dataset:\n",
      "date                                          0\n",
      "final.output.concentrate_ag                   0\n",
      "final.output.concentrate_pb                   0\n",
      "final.output.concentrate_sol                  0\n",
      "final.output.concentrate_au                   0\n",
      "                                             ..\n",
      "secondary_cleaner.state.floatbank5_b_air      0\n",
      "secondary_cleaner.state.floatbank5_b_level    0\n",
      "secondary_cleaner.state.floatbank6_a_air      0\n",
      "secondary_cleaner.state.floatbank6_a_level    0\n",
      "total_concentration                           0\n",
      "Length: 88, dtype: int64\n"
     ]
    }
   ],
   "source": [
    "# Verify zero total concentration is resolved\n",
    "for stage, columns in stages.items():\n",
    "    zero_concentration = train[columns].sum(axis=1) == 0\n",
    "    print(f\"{stage.capitalize()} Stage: {zero_concentration.sum()} rows with zero total concentration after cleaning.\")\n",
    "\n",
    "# Check for missing values\n",
    "print(\"Missing values in the cleaned dataset:\")\n",
    "print(train.isnull().sum())\n"
   ]
  },
  {
   "cell_type": "markdown",
   "metadata": {},
   "source": [
    "The data cleaning process addressed anomalies by removing rows with zero total concentration at different stages. Initially, there were 1,241 rows with zero concentration in the raw feed stage, 1,575 in the rougher stage, and 1,334 in the final stage. These anomalies were removed, reducing the training dataset to 15,096 rows, ensuring the data used for modeling contains meaningful information. After cleaning, all stages showed zero rows with anomalous total concentrations, confirming the issue was resolved. Additionally, the cleaned dataset revealed a few missing values in some features, which will require further handling. This process was essential to eliminate invalid data points that could negatively impact the performance and reliability of the machine learning model."
   ]
  },
  {
   "cell_type": "markdown",
   "metadata": {},
   "source": [
    "<div class=\"alert alert-block alert-success\">\n",
    "<b>Reviewer's comment V1</b> <a class=\"tocSkip\"></a>\n",
    "\n",
    "Great work!\n",
    "  \n",
    "</div>"
   ]
  },
  {
   "cell_type": "markdown",
   "metadata": {},
   "source": [
    "## Handling Missing Values and Final Data Preparation"
   ]
  },
  {
   "cell_type": "markdown",
   "metadata": {},
   "source": [
    "### Checking Missing Values"
   ]
  },
  {
   "cell_type": "code",
   "execution_count": 15,
   "metadata": {},
   "outputs": [
    {
     "name": "stdout",
     "output_type": "stream",
     "text": [
      " Missing values were handled earlier in the preprocessing step using forward fill (ffill). No additional handling required here.\n",
      "Final missing values count: 0 (All missing values have been successfully filled!)\n"
     ]
    }
   ],
   "source": [
    "# Ensure missing value handling is done only once (in the preprocessing section)\n",
    "print(\" Missing values were handled earlier in the preprocessing step using forward fill (ffill). No additional handling required here.\")\n",
    "\n",
    "# Confirm no missing values remain\n",
    "final_missing_count = train.isnull().sum().sum()\n",
    "\n",
    "if final_missing_count == 0:\n",
    "    print(\"Final missing values count: 0 (All missing values have been successfully filled!)\")\n",
    "else:\n",
    "    print(f\" Warning: {final_missing_count} missing values still remain. Please check preprocessing.\")\n",
    "\n",
    "\n"
   ]
  },
  {
   "cell_type": "markdown",
   "metadata": {},
   "source": [
    "fixed all the missing values in the train and test data sets in the above data pre processing step, now I got 0 missing values in this step."
   ]
  },
  {
   "cell_type": "markdown",
   "metadata": {},
   "source": [
    "<div class=\"alert alert-block alert-danger\">\n",
    "<b>Reviewer's comment V1</b> <a class=\"tocSkip\"></a>\n",
    "\n",
    "You have two places where you deal with NaNs. One here and one in the beginning of the project. That's weird, right? Please, leave only one place. You can deal with NaNs here or above but not in both places.\n",
    "    \n",
    "It is possible to fill the NaNs with medians. But above I described a better way to fill the NaNs when you work with ordered data. But you can use medians if you want.\n",
    "  \n",
    "</div>"
   ]
  },
  {
   "cell_type": "markdown",
   "metadata": {},
   "source": [
    "<div class=\"alert alert-block alert-danger\">\n",
    "<b>Reviewer's comment V2</b> <a class=\"tocSkip\"></a>\n",
    "\n",
    "Check the variables you used above for filling NaNs. You filled NaNs in the variables features_train and features_test but not in train and test. That's why you have so many NaNs here. So, please, fix it. You should see zero NaNs in this part.\n",
    "  \n",
    "</div>"
   ]
  },
  {
   "cell_type": "markdown",
   "metadata": {},
   "source": [
    "<div class=\"alert alert-block alert-success\">\n",
    "<b>Reviewer's comment V3</b> <a class=\"tocSkip\"></a>\n",
    "\n",
    "Fixed\n",
    "\n",
    "</div>"
   ]
  },
  {
   "cell_type": "markdown",
   "metadata": {},
   "source": [
    "## Model Development"
   ]
  },
  {
   "cell_type": "markdown",
   "metadata": {},
   "source": [
    "### Defining the Evaluation Metric"
   ]
  },
  {
   "cell_type": "code",
   "execution_count": 16,
   "metadata": {},
   "outputs": [],
   "source": [
    "# sMAPE scorer that returns a single value for RandomizedSearchCV\n",
    "def smape_scorer(y_true, y_pred):\n",
    "    smape_rougher = np.mean(np.abs(y_true[:, 0] - y_pred[:, 0]) / ((np.abs(y_true[:, 0]) + np.abs(y_pred[:, 0])) / 2)) * 100\n",
    "    smape_final = np.mean(np.abs(y_true[:, 1] - y_pred[:, 1]) / ((np.abs(y_true[:, 1]) + np.abs(y_pred[:, 1])) / 2)) * 100\n",
    "    return -(0.25 * smape_rougher + 0.75 * smape_final)  # Return single numeric value (negative for minimization)\n",
    "\n",
    "# Convert function into sklearn scorer\n",
    "smape_scorer_sklearn = make_scorer(lambda y_true, y_pred: smape_scorer(y_true, y_pred), greater_is_better=False)\n"
   ]
  },
  {
   "cell_type": "markdown",
   "metadata": {},
   "source": [
    "### Split Data for Model Training"
   ]
  },
  {
   "cell_type": "code",
   "execution_count": 17,
   "metadata": {},
   "outputs": [
    {
     "name": "stdout",
     "output_type": "stream",
     "text": [
      " Data Split Successful - Training Samples: 12102, Validation Samples: 3026\n"
     ]
    }
   ],
   "source": [
    "# Define target columns\n",
    "target_columns = ['rougher.output.recovery', 'final.output.recovery']\n",
    "\n",
    "# Ensure we only use features present in the test dataset\n",
    "selected_columns = test_features.columns  # Extract columns from test dataset\n",
    "features_train_aligned = features_train[selected_columns]  # Keep only test dataset features\n",
    "\n",
    "# Align target variables with the filtered feature dataset\n",
    "train_aligned = train[target_columns].reindex(features_train_aligned.index).dropna()\n",
    "features_train_aligned = features_train_aligned.loc[train_aligned.index]\n",
    "\n",
    "# Drop non-numeric columns before splitting\n",
    "features_train_aligned = features_train_aligned.select_dtypes(include=[np.number])\n",
    "\n",
    "# Split the dataset into train and validation sets\n",
    "X_train, X_valid, y_train, y_valid = train_test_split(\n",
    "    features_train_aligned, train_aligned, test_size=0.2, random_state=42\n",
    ")\n",
    "\n",
    "# Scale features for linear regression (Only for Linear Models)\n",
    "scaler = StandardScaler()\n",
    "X_train_scaled = scaler.fit_transform(X_train)\n",
    "X_valid_scaled = scaler.transform(X_valid)\n",
    "\n",
    "# Convert to float32 for efficiency\n",
    "X_train_scaled = X_train_scaled.astype(np.float32)\n",
    "X_valid_scaled = X_valid_scaled.astype(np.float32)\n",
    "y_train = y_train.astype(np.float32)\n",
    "y_valid = y_valid.astype(np.float32)\n",
    "\n",
    "print(f\" Data Split Successful - Training Samples: {X_train.shape[0]}, Validation Samples: {X_valid.shape[0]}\")\n"
   ]
  },
  {
   "cell_type": "markdown",
   "metadata": {},
   "source": [
    "### Train & Evaluate Baseline Models"
   ]
  },
  {
   "cell_type": "code",
   "execution_count": 21,
   "metadata": {},
   "outputs": [
    {
     "name": "stdout",
     "output_type": "stream",
     "text": [
      "Training Linear Regression model...\n",
      "Linear Regression Model sMAPE: 9.0972\n",
      "--------------------------------------------------\n",
      "Training Random Forest model...\n",
      "Random Forest Model sMAPE: 5.7699\n",
      "--------------------------------------------------\n"
     ]
    }
   ],
   "source": [
    "# Train & Evaluate Baseline Models\n",
    "models = {\n",
    "    \"Linear Regression\": LinearRegression(),\n",
    "    \"Random Forest\": RandomForestRegressor(random_state=42)\n",
    "}\n",
    "\n",
    "# Train and evaluate models using updated sMAPE scorer\n",
    "for name, model in models.items():\n",
    "    print(f\"Training {name} model...\")\n",
    "\n",
    "    # Fit the model\n",
    "    model.fit(X_train_scaled, y_train.values)  # Convert target to NumPy array\n",
    "    y_pred = model.predict(X_valid_scaled)\n",
    "\n",
    "    # Compute sMAPE using the corrected function\n",
    "    smape_score = smape_scorer(y_valid.values, y_pred)  # Returns a single weighted sMAPE score\n",
    "\n",
    "    # Print results\n",
    "    print(f\"{name} Model sMAPE: {-smape_score:.4f}\")  # Convert back to positive for readability\n",
    "    print(\"-\" * 50)\n"
   ]
  },
  {
   "cell_type": "markdown",
   "metadata": {},
   "source": [
    "The Random Forest model outperforms Linear Regression, achieving a lower sMAPE score (5.7699 vs. 9.0972). Next, we will tune the hyperparameters of the Random Forest model to further improve performance."
   ]
  },
  {
   "cell_type": "markdown",
   "metadata": {},
   "source": [
    "<div class=\"alert alert-block alert-danger\">\n",
    "<b>Reviewer's comment V2</b> <a class=\"tocSkip\"></a>\n",
    "\n",
    "1. The Function smape is defined 2 times. Please, do it only once.\n",
    "2. If you're going to use any linear model, all the quantitative features should be scaled.\n",
    "3. Please, read my comments carefully. Previously I told you: \"To train a model you can use only features which are represented in the initial test data file. You can't use any other features becasue they won't be available in production. So, you should exclude some features from the train data while working with ML models.\" You still use all the features from the train data.\n",
    "  \n",
    "</div>"
   ]
  },
  {
   "cell_type": "markdown",
   "metadata": {},
   "source": [
    "<div class=\"alert alert-block alert-success\">\n",
    "<b>Reviewer's comment V3</b> <a class=\"tocSkip\"></a>\n",
    "\n",
    "Fixed. Good job!\n",
    "\n",
    "</div>"
   ]
  },
  {
   "cell_type": "markdown",
   "metadata": {},
   "source": [
    "### Hyperparameter Tuning (Random Forest)"
   ]
  },
  {
   "cell_type": "code",
   "execution_count": 22,
   "metadata": {},
   "outputs": [
    {
     "name": "stdout",
     "output_type": "stream",
     "text": [
      " Hyperparameter tuning in progress...\n",
      "Fitting 3 folds for each of 10 candidates, totalling 30 fits\n",
      " Best Hyperparameters: {'n_estimators': 100, 'min_samples_split': 10, 'min_samples_leaf': 4, 'max_features': 'log2', 'max_depth': 15}\n"
     ]
    }
   ],
   "source": [
    "# Define hyperparameter grid\n",
    "param_grid = {\n",
    "    \"n_estimators\": [100, 200, 300],  \n",
    "    \"max_depth\": [15, 20, 25],  \n",
    "    \"min_samples_split\": [2, 5, 10],  \n",
    "    \"min_samples_leaf\": [1, 2, 4],  \n",
    "    \"max_features\": ['sqrt', 'log2']\n",
    "}\n",
    "\n",
    "# Randomized Search for Hyperparameter Optimization\n",
    "rf_model = RandomForestRegressor(random_state=42, n_jobs=-1)\n",
    "random_search = RandomizedSearchCV(\n",
    "    rf_model, param_distributions=param_grid, \n",
    "    n_iter=10, scoring=smape_scorer_sklearn,  # Use sMAPE scorer\n",
    "    cv=3, n_jobs=-1, random_state=42, verbose=1\n",
    ")\n",
    "\n",
    "# Train with scaled features\n",
    "print(\" Hyperparameter tuning in progress...\")\n",
    "random_search.fit(X_train_scaled, y_train.values)  # Convert y_train to NumPy array\n",
    "\n",
    "# Retrieve Best Model\n",
    "best_rf = random_search.best_estimator_\n",
    "print(f\" Best Hyperparameters: {random_search.best_params_}\")\n"
   ]
  },
  {
   "cell_type": "markdown",
   "metadata": {},
   "source": [
    "<div class=\"alert alert-block alert-danger\">\n",
    "<b>Reviewer's comment V2</b> <a class=\"tocSkip\"></a>\n",
    "\n",
    "1. Please, read my comments carefully. Previously I told you: \"To train a model you can use only features which are represented in the initial test data file. You can't use any other features becasue they won't be available in production. So, you should exclude some features from the train data while working with ML models.\" You still use all the features from the train data.\n",
    "2. Please, read my comments carefully. Previously I told you: \"The main metric of this project is smape but not mae. Thus, you should use smape as scoring function in the RandomizedSearchCV. To create smape scorer you need to use make_scorer function from sklearn. The best hyperparameters based on different metrics can be different. That's why you should always use the main metric for tuning them.\"\n",
    "  \n",
    "</div>"
   ]
  },
  {
   "cell_type": "markdown",
   "metadata": {},
   "source": [
    "<div class=\"alert alert-block alert-success\">\n",
    "<b>Reviewer's comment V3</b> <a class=\"tocSkip\"></a>\n",
    "\n",
    "Fixed. Well done!\n",
    "\n",
    "</div>"
   ]
  },
  {
   "cell_type": "markdown",
   "metadata": {},
   "source": [
    "### Final Model Evaluation on Test Data"
   ]
  },
  {
   "cell_type": "code",
   "execution_count": 23,
   "metadata": {},
   "outputs": [
    {
     "name": "stdout",
     "output_type": "stream",
     "text": [
      "Optimized Random Forest Model sMAPE: 12.2285\n",
      "sMAPE (Rougher Output Recovery): 9.4551\n",
      "sMAPE (Final Output Recovery): 13.1530\n"
     ]
    }
   ],
   "source": [
    "# Use the best model from hyperparameter tuning\n",
    "best_rf = random_search.best_estimator_\n",
    "\n",
    "# Ensure test data has the same features as training\n",
    "X_test_selected = test_features.select_dtypes(include=[np.number])\n",
    "\n",
    "# Make predictions on test data\n",
    "y_pred_test = best_rf.predict(X_test_selected)\n",
    "\n",
    "# Extract true target values from `full` dataset using dates\n",
    "y_test = full[['date', 'rougher.output.recovery', 'final.output.recovery']].merge(\n",
    "    test[['date']], on='date', how='right'\n",
    ").drop(columns=['date'])\n",
    "\n",
    "# Ensure alignment of y_test with predictions\n",
    "y_test = y_test.reindex(X_test_selected.index).dropna()\n",
    "y_pred_test = y_pred_test[:len(y_test)]  # Trim predictions if needed\n",
    "\n",
    "# Compute sMAPE Scores\n",
    "smape_test_rougher = np.mean(np.abs(y_test['rougher.output.recovery'] - y_pred_test[:, 0]) / \n",
    "                            ((np.abs(y_test['rougher.output.recovery']) + np.abs(y_pred_test[:, 0])) / 2)) * 100\n",
    "\n",
    "smape_test_final = np.mean(np.abs(y_test['final.output.recovery'] - y_pred_test[:, 1]) / \n",
    "                          ((np.abs(y_test['final.output.recovery']) + np.abs(y_pred_test[:, 1])) / 2)) * 100\n",
    "\n",
    "# Compute Final Weighted sMAPE Score\n",
    "final_smape = (0.25 * smape_test_rougher) + (0.75 * smape_test_final)\n",
    "\n",
    "# Print Results\n",
    "print(f\"Optimized Random Forest Model sMAPE: {final_smape:.4f}\")\n",
    "print(f\"sMAPE (Rougher Output Recovery): {smape_test_rougher:.4f}\")\n",
    "print(f\"sMAPE (Final Output Recovery): {smape_test_final:.4f}\")\n",
    "\n"
   ]
  },
  {
   "cell_type": "markdown",
   "metadata": {},
   "source": [
    "<div class=\"alert alert-block alert-danger\">\n",
    "<b>Reviewer's comment V2</b> <a class=\"tocSkip\"></a>\n",
    "\n",
    "Please, read my comments carefully. Previously I told you: \"To train a model you can use only features which are represented in the initial test data file. You can't use any other features becasue they won't be available in production. So, you should exclude some features from the train data while working with ML models.\" You still use all the features from the train data.\n",
    "  \n",
    "</div>"
   ]
  },
  {
   "cell_type": "markdown",
   "metadata": {},
   "source": [
    "<div class=\"alert alert-block alert-danger\">\n",
    "<b>Reviewer's comment V2</b> <a class=\"tocSkip\"></a>\n",
    "\n",
    "All the NaNs should be filled above in the corresponding place.\n",
    "  \n",
    "</div>"
   ]
  },
  {
   "cell_type": "markdown",
   "metadata": {},
   "source": [
    "<div class=\"alert alert-block alert-danger\">\n",
    "<b>Reviewer's comment V2</b> <a class=\"tocSkip\"></a>\n",
    "\n",
    "1. In the original test data there are 5856 rows. So, you lost a lot of rows here. You need to fix it\n",
    "2. You can't be sure that indexes in full and test data are the same. But you can be sure that dates are the same. That's why I told you \"You can extract targets for the test data from the full data using merge function and a column with __dates__.\". If you don't want to use a function merge, it's okay. But you need to use dates to match full and test data.\n",
    "  \n",
    "</div>"
   ]
  },
  {
   "cell_type": "markdown",
   "metadata": {},
   "source": [
    "<div class=\"alert alert-block alert-success\">\n",
    "<b>Reviewer's comment V3</b> <a class=\"tocSkip\"></a>\n",
    "\n",
    "Correct\n",
    "\n",
    "</div>"
   ]
  },
  {
   "cell_type": "markdown",
   "metadata": {},
   "source": [
    "### Sanity Check (Dummy Model)"
   ]
  },
  {
   "cell_type": "code",
   "execution_count": 27,
   "metadata": {},
   "outputs": [
    {
     "name": "stdout",
     "output_type": "stream",
     "text": [
      "Training Dummy Models...\n",
      "Shapes after alignment - y_test: (5290, 2), y_pred_dummy: (5290, 2)\n",
      "Dummy Model sMAPE: 9.3613\n",
      "--------------------------------------------------\n",
      "The trained model does NOT perform better than the Dummy Model. Consider further improvements.\n"
     ]
    }
   ],
   "source": [
    "print(\"Training Dummy Models...\")\n",
    "\n",
    "# Train Dummy Regressors\n",
    "dummy_rougher = DummyRegressor(strategy=\"median\")\n",
    "dummy_final = DummyRegressor(strategy=\"median\")\n",
    "\n",
    "# Fit Dummy Models\n",
    "dummy_rougher.fit(X_train_scaled, y_train['rougher.output.recovery'])\n",
    "dummy_final.fit(X_train_scaled, y_train['final.output.recovery'])\n",
    "\n",
    "#  Make Predictions with Dummy Models\n",
    "y_pred_dummy_rougher = dummy_rougher.predict(X_test_selected)\n",
    "y_pred_dummy_final = dummy_final.predict(X_test_selected)\n",
    "\n",
    "# Convert Predictions to DataFrame\n",
    "y_pred_dummy = pd.DataFrame({\n",
    "    'rougher.output.recovery': y_pred_dummy_rougher,\n",
    "    'final.output.recovery': y_pred_dummy_final\n",
    "}, index=X_test_selected.index)\n",
    "\n",
    "# Align y_test to ensure correct shape\n",
    "y_test_aligned = full[['date', 'rougher.output.recovery', 'final.output.recovery']].merge(\n",
    "    test[['date']], on='date', how='right'\n",
    ").drop(columns=['date'])\n",
    "\n",
    "# Ensure alignment of y_test with predictions\n",
    "y_test_aligned = y_test_aligned.reindex(X_test_selected.index).dropna()\n",
    "y_pred_dummy = y_pred_dummy.loc[y_test_aligned.index]  # Align predictions\n",
    "\n",
    "print(f\"Shapes after alignment - y_test: {y_test_aligned.shape}, y_pred_dummy: {y_pred_dummy.shape}\")\n",
    "\n",
    "# Compute sMAPE for Dummy Model\n",
    "smape_dummy = smape_scorer(y_test_aligned.values, y_pred_dummy.values)\n",
    "\n",
    "# Print Results\n",
    "print(f\"Dummy Model sMAPE: {-smape_dummy:.4f}\")  # Convert to positive\n",
    "print(\"-\" * 50)\n",
    "\n",
    "# Compare Performance\n",
    "if final_smape < -smape_dummy:\n",
    "    print(\"The trained Random Forest model **OUTPERFORMS** the Dummy Model! \")\n",
    "else:\n",
    "    print(\"The trained model does NOT perform better than the Dummy Model. Consider further improvements.\")\n"
   ]
  },
  {
   "cell_type": "markdown",
   "metadata": {},
   "source": [
    "<div class=\"alert alert-info\">\n",
    "Dear reviewer, I have tried multiple ways, but Im getting other output than expected, it is still not better than the dummy model, please teach me how can I improve my model performance and please let me know what did i do wrong and please suggest me the ways to imrpove my code, your help is much needed. Thank you!\n",
    "</div>"
   ]
  },
  {
   "cell_type": "markdown",
   "metadata": {},
   "source": [
    "<div class=\"alert alert-block alert-info\">\n",
    "<b>Reviewer's comment V2</b> <a class=\"tocSkip\"></a>\n",
    "    \n",
    "There is no a special trick to overcome a constant model. Tuning hyperparameters, trying different models and different data preprocessing are the only one way to improve model quality.\n",
    "\n",
    "\n",
    "Actually in this project it's quite difficult to beat a constant model. So, I will accept you work even with model with is not better than the constant one.\n",
    "  \n",
    "</div>"
   ]
  },
  {
   "cell_type": "markdown",
   "metadata": {},
   "source": [
    "<div class=\"alert alert-block alert-danger\">\n",
    "<b>Reviewer's comment V1</b> <a class=\"tocSkip\"></a>\n",
    "\n",
    "Each dataset you should be loaded only once. You read the test dataset at the beginning of the project. You should not reload it here for the second time.\n",
    "  \n",
    "</div>"
   ]
  },
  {
   "cell_type": "markdown",
   "metadata": {},
   "source": [
    "<div class=\"alert alert-block alert-danger\">\n",
    "<b>Reviewer's comment V1</b> <a class=\"tocSkip\"></a>\n",
    "\n",
    "It's properer to deal with NaN, inf for train and test data in the same place. It helps you avoid additional issues.\n",
    "  \n",
    "</div>"
   ]
  },
  {
   "cell_type": "markdown",
   "metadata": {},
   "source": [
    "<div class=\"alert alert-block alert-danger\">\n",
    "<b>Reviewer's comment V1</b> <a class=\"tocSkip\"></a>\n",
    "\n",
    "1. To train a model you can use only features which are represented in the initial test data file. You can't use any other features becasue they won't be available in production. So, you should exclude some features from the train data while working with ML models.\n",
    "2. You need to calculate metrics on the test data. You should use a test data from corresponding file. To calcualte metrics you need targets, right? You can extract targets for the test data from the full data using merge function and a column with dates.\n",
    "4. The main metric of this project is smape but not mae. Thus, you should use smape as scoring function in the RandomizedSearchCV. To create smape scorer you need to use make_scorer function from sklearn. The best hyperparameters based on different metrics can be different. That's why you should always use the main metric for tuning them.\n",
    "5. You need to do sanity check. In other words, you need to compare the quality of your best model on test with the quality of the best constant model.\n",
    "    \n",
    "    \n",
    "About sanity check. You have this topik in the lesson about supervised learning. Do you know about constant models? These models predict the same constant for any input. For instance, target median or mean which is calculated on the train data. You need to check the quality of such constant model on the test data and compare it with the quality of your best model. You can find such constant models in sklearn: https://scikit-learn.org/stable/modules/generated/sklearn.dummy.DummyRegressor.html It's better to make such comparison in any project. Constant model is the simplest baseline. Your best ML model should be at least a bit better than the constant model. Otherwise, your model is useless. So, please, do it.\n",
    "    \n",
    "</div>"
   ]
  },
  {
   "cell_type": "markdown",
   "metadata": {},
   "source": [
    "<div class=\"alert alert-block alert-danger\">\n",
    "<b>Reviewer's comment V2</b> <a class=\"tocSkip\"></a>\n",
    "\n",
    "Most of these points are not fixed yet. I left the corresponding comments above.\n",
    "  \n",
    "</div>"
   ]
  },
  {
   "cell_type": "markdown",
   "metadata": {},
   "source": [
    "<div class=\"alert alert-block alert-success\">\n",
    "<b>Reviewer's comment V3</b> <a class=\"tocSkip\"></a>\n",
    "\n",
    "Everything is correct now. Great work!\n",
    "\n",
    "</div>"
   ]
  },
  {
   "cell_type": "markdown",
   "metadata": {},
   "source": [
    "## Summary of Project Findings"
   ]
  },
  {
   "cell_type": "markdown",
   "metadata": {},
   "source": [
    "**Data Cleaning & Preprocessing:**\n",
    "Duplicates were removed, missing values were filled using forward fill, and only test-compatible features were used.\n",
    "Rows with zero total concentration were dropped to improve data integrity.\n",
    "\n",
    "**Exploratory Data Analysis:**\n",
    "Gold (Au) concentration increased through processing stages, confirming successful refining.\n",
    "Silver (Ag) & Lead (Pb) decreased, indicating their removal as impurities.\n",
    "Feed particle size distribution was consistent across train and test datasets.\n",
    "\n",
    "**Model Training & Evaluation:**\n",
    "Random Forest outperformed Linear Regression in baseline tests (sMAPE: 5.7699 vs. 9.0972).\n",
    "Hyperparameter tuning did not improve performance, resulting in a final sMAPE of 12.2285.\n",
    "\n",
    "**Dummy Model Benchmarking:**\n",
    "The dummy model performed better (sMAPE: 9.3613) than the trained Random Forest model, indicating difficulty in capturing meaningful patterns."
   ]
  },
  {
   "cell_type": "markdown",
   "metadata": {},
   "source": [
    "## Conclusion"
   ]
  },
  {
   "cell_type": "markdown",
   "metadata": {},
   "source": [
    "The project aimed to develop a machine learning model to predict gold recovery rates at different processing stages. Through extensive data preprocessing, feature selection, and exploratory analysis, we ensured a clean and structured dataset for model training. While the Random Forest model initially showed promise over Linear Regression, hyperparameter tuning did not lead to significant improvements. Surprisingly, the trained model failed to outperform a simple dummy regressor, highlighting the challenge of capturing meaningful patterns in this dataset. This suggests that alternative approaches, such as gradient boosting models, advanced feature engineering, and further hyperparameter optimization, may be necessary to improve predictive accuracy. Despite this, the project provided valuable insights into the gold recovery process and established a solid foundation for future model refinement."
   ]
  },
  {
   "cell_type": "markdown",
   "metadata": {},
   "source": [
    "<div class=\"alert alert-block alert-danger\">\n",
    "<b>Reviewer's comment V2</b> <a class=\"tocSkip\"></a>\n",
    "\n",
    "Don't forget to complete these 2 parts\n",
    "  \n",
    "</div>"
   ]
  },
  {
   "cell_type": "markdown",
   "metadata": {},
   "source": [
    "<div class=\"alert alert-block alert-success\">\n",
    "<b>Reviewer's comment V3</b> <a class=\"tocSkip\"></a>\n",
    "\n",
    "Fixed\n",
    "\n",
    "</div>"
   ]
  },
  {
   "cell_type": "code",
   "execution_count": null,
   "metadata": {},
   "outputs": [],
   "source": []
  }
 ],
 "metadata": {
  "ExecuteTimeLog": [
   {
    "duration": 172,
    "start_time": "2025-02-08T22:15:22.193Z"
   },
   {
    "duration": 740,
    "start_time": "2025-02-08T22:15:27.195Z"
   },
   {
    "duration": 633,
    "start_time": "2025-02-08T22:15:31.070Z"
   },
   {
    "duration": 22,
    "start_time": "2025-02-08T22:15:46.485Z"
   },
   {
    "duration": 15,
    "start_time": "2025-02-08T22:16:00.256Z"
   },
   {
    "duration": 9,
    "start_time": "2025-02-08T22:16:21.705Z"
   },
   {
    "duration": 18,
    "start_time": "2025-02-08T22:16:42.489Z"
   },
   {
    "duration": 23,
    "start_time": "2025-02-08T22:17:15.765Z"
   },
   {
    "duration": 20,
    "start_time": "2025-02-08T22:17:34.589Z"
   },
   {
    "duration": 23,
    "start_time": "2025-02-08T22:17:50.722Z"
   },
   {
    "duration": 729,
    "start_time": "2025-02-08T22:17:58.086Z"
   },
   {
    "duration": 526,
    "start_time": "2025-02-08T22:17:58.817Z"
   },
   {
    "duration": 19,
    "start_time": "2025-02-08T22:17:59.345Z"
   },
   {
    "duration": 17,
    "start_time": "2025-02-08T22:17:59.367Z"
   },
   {
    "duration": 38,
    "start_time": "2025-02-08T22:17:59.386Z"
   },
   {
    "duration": 8,
    "start_time": "2025-02-08T22:19:56.844Z"
   },
   {
    "duration": 310,
    "start_time": "2025-02-08T22:20:14.240Z"
   },
   {
    "duration": 12,
    "start_time": "2025-02-08T22:31:50.988Z"
   },
   {
    "duration": 6,
    "start_time": "2025-02-08T22:33:49.917Z"
   },
   {
    "duration": 15,
    "start_time": "2025-02-08T22:35:02.962Z"
   },
   {
    "duration": 4,
    "start_time": "2025-02-08T22:36:53.809Z"
   },
   {
    "duration": 142,
    "start_time": "2025-02-08T22:38:25.023Z"
   },
   {
    "duration": 1980,
    "start_time": "2025-02-08T22:42:05.751Z"
   },
   {
    "duration": 1595,
    "start_time": "2025-02-08T22:42:56.515Z"
   },
   {
    "duration": 1614,
    "start_time": "2025-02-08T22:44:12.833Z"
   },
   {
    "duration": 1743,
    "start_time": "2025-02-08T22:46:52.022Z"
   },
   {
    "duration": 526,
    "start_time": "2025-02-08T22:47:30.294Z"
   },
   {
    "duration": 1452,
    "start_time": "2025-02-08T22:47:53.683Z"
   },
   {
    "duration": 1539,
    "start_time": "2025-02-08T22:48:35.794Z"
   },
   {
    "duration": 1198,
    "start_time": "2025-02-08T22:49:09.361Z"
   },
   {
    "duration": 1440,
    "start_time": "2025-02-08T22:49:34.506Z"
   },
   {
    "duration": 165,
    "start_time": "2025-02-09T00:02:53.506Z"
   },
   {
    "duration": 14,
    "start_time": "2025-02-09T00:04:30.709Z"
   },
   {
    "duration": 6,
    "start_time": "2025-02-09T00:05:29.317Z"
   },
   {
    "duration": 22,
    "start_time": "2025-02-09T00:06:42.272Z"
   },
   {
    "duration": 2845,
    "start_time": "2025-02-09T00:07:15.548Z"
   },
   {
    "duration": 619,
    "start_time": "2025-02-09T00:07:18.396Z"
   },
   {
    "duration": 19,
    "start_time": "2025-02-09T00:07:19.017Z"
   },
   {
    "duration": 16,
    "start_time": "2025-02-09T00:07:19.038Z"
   },
   {
    "duration": 17,
    "start_time": "2025-02-09T00:07:19.056Z"
   },
   {
    "duration": 257,
    "start_time": "2025-02-09T00:07:19.075Z"
   },
   {
    "duration": 0,
    "start_time": "2025-02-09T00:07:19.335Z"
   },
   {
    "duration": 0,
    "start_time": "2025-02-09T00:07:19.336Z"
   },
   {
    "duration": 0,
    "start_time": "2025-02-09T00:07:19.337Z"
   },
   {
    "duration": 0,
    "start_time": "2025-02-09T00:07:19.338Z"
   },
   {
    "duration": 0,
    "start_time": "2025-02-09T00:07:19.340Z"
   },
   {
    "duration": 0,
    "start_time": "2025-02-09T00:07:19.341Z"
   },
   {
    "duration": 0,
    "start_time": "2025-02-09T00:07:19.342Z"
   },
   {
    "duration": 18,
    "start_time": "2025-02-09T00:08:09.772Z"
   },
   {
    "duration": 9,
    "start_time": "2025-02-09T00:10:11.579Z"
   },
   {
    "duration": 1031,
    "start_time": "2025-02-09T00:10:25.332Z"
   },
   {
    "duration": 494,
    "start_time": "2025-02-09T00:10:26.367Z"
   },
   {
    "duration": 19,
    "start_time": "2025-02-09T00:10:26.863Z"
   },
   {
    "duration": 16,
    "start_time": "2025-02-09T00:10:26.884Z"
   },
   {
    "duration": 41,
    "start_time": "2025-02-09T00:10:26.904Z"
   },
   {
    "duration": 10,
    "start_time": "2025-02-09T00:10:26.947Z"
   },
   {
    "duration": 249,
    "start_time": "2025-02-09T00:10:26.959Z"
   },
   {
    "duration": 0,
    "start_time": "2025-02-09T00:10:27.210Z"
   },
   {
    "duration": 0,
    "start_time": "2025-02-09T00:10:27.211Z"
   },
   {
    "duration": 0,
    "start_time": "2025-02-09T00:10:27.213Z"
   },
   {
    "duration": 0,
    "start_time": "2025-02-09T00:10:27.214Z"
   },
   {
    "duration": 0,
    "start_time": "2025-02-09T00:10:27.230Z"
   },
   {
    "duration": 0,
    "start_time": "2025-02-09T00:10:27.232Z"
   },
   {
    "duration": 15,
    "start_time": "2025-02-09T00:10:49.902Z"
   },
   {
    "duration": 4,
    "start_time": "2025-02-09T00:11:57.616Z"
   },
   {
    "duration": 16,
    "start_time": "2025-02-09T00:12:08.722Z"
   },
   {
    "duration": 156,
    "start_time": "2025-02-09T00:12:11.901Z"
   },
   {
    "duration": 1550,
    "start_time": "2025-02-09T00:12:15.981Z"
   },
   {
    "duration": 1227,
    "start_time": "2025-02-09T00:12:22.429Z"
   },
   {
    "duration": 1463,
    "start_time": "2025-02-09T00:12:27.555Z"
   },
   {
    "duration": 10,
    "start_time": "2025-02-09T00:12:32.195Z"
   },
   {
    "duration": 17,
    "start_time": "2025-02-09T00:13:07.055Z"
   },
   {
    "duration": 12,
    "start_time": "2025-02-09T00:13:22.087Z"
   },
   {
    "duration": 24,
    "start_time": "2025-02-09T00:17:56.967Z"
   },
   {
    "duration": 22,
    "start_time": "2025-02-09T00:18:12.164Z"
   },
   {
    "duration": 2,
    "start_time": "2025-02-09T00:19:02.131Z"
   },
   {
    "duration": 12,
    "start_time": "2025-02-09T00:19:16.173Z"
   },
   {
    "duration": 37,
    "start_time": "2025-02-09T00:20:04.210Z"
   },
   {
    "duration": 6,
    "start_time": "2025-02-09T00:21:03.461Z"
   },
   {
    "duration": 3,
    "start_time": "2025-02-09T00:28:08.704Z"
   },
   {
    "duration": 2,
    "start_time": "2025-02-09T00:28:36.469Z"
   },
   {
    "duration": 6,
    "start_time": "2025-02-09T00:29:01.698Z"
   },
   {
    "duration": 816,
    "start_time": "2025-02-09T00:29:17.470Z"
   },
   {
    "duration": 3,
    "start_time": "2025-02-09T00:31:11.080Z"
   },
   {
    "duration": 996,
    "start_time": "2025-02-09T00:34:45.678Z"
   },
   {
    "duration": 566,
    "start_time": "2025-02-09T00:34:46.676Z"
   },
   {
    "duration": 19,
    "start_time": "2025-02-09T00:34:47.244Z"
   },
   {
    "duration": 15,
    "start_time": "2025-02-09T00:34:47.266Z"
   },
   {
    "duration": 16,
    "start_time": "2025-02-09T00:34:47.283Z"
   },
   {
    "duration": 693,
    "start_time": "2025-02-09T00:34:47.332Z"
   },
   {
    "duration": 0,
    "start_time": "2025-02-09T00:34:48.032Z"
   },
   {
    "duration": 0,
    "start_time": "2025-02-09T00:34:48.033Z"
   },
   {
    "duration": 0,
    "start_time": "2025-02-09T00:34:48.034Z"
   },
   {
    "duration": 0,
    "start_time": "2025-02-09T00:34:48.035Z"
   },
   {
    "duration": 0,
    "start_time": "2025-02-09T00:34:48.036Z"
   },
   {
    "duration": 0,
    "start_time": "2025-02-09T00:34:48.037Z"
   },
   {
    "duration": 0,
    "start_time": "2025-02-09T00:34:48.039Z"
   },
   {
    "duration": 0,
    "start_time": "2025-02-09T00:34:48.040Z"
   },
   {
    "duration": 0,
    "start_time": "2025-02-09T00:34:48.042Z"
   },
   {
    "duration": 0,
    "start_time": "2025-02-09T00:34:48.043Z"
   },
   {
    "duration": 0,
    "start_time": "2025-02-09T00:34:48.044Z"
   },
   {
    "duration": 0,
    "start_time": "2025-02-09T00:34:48.046Z"
   },
   {
    "duration": 0,
    "start_time": "2025-02-09T00:34:48.047Z"
   },
   {
    "duration": 0,
    "start_time": "2025-02-09T00:34:48.048Z"
   },
   {
    "duration": 0,
    "start_time": "2025-02-09T00:34:48.050Z"
   },
   {
    "duration": 1028,
    "start_time": "2025-02-09T00:36:00.423Z"
   },
   {
    "duration": 538,
    "start_time": "2025-02-09T00:36:01.453Z"
   },
   {
    "duration": 19,
    "start_time": "2025-02-09T00:36:01.993Z"
   },
   {
    "duration": 19,
    "start_time": "2025-02-09T00:36:02.015Z"
   },
   {
    "duration": 15,
    "start_time": "2025-02-09T00:36:02.036Z"
   },
   {
    "duration": 11,
    "start_time": "2025-02-09T00:36:02.053Z"
   },
   {
    "duration": 4,
    "start_time": "2025-02-09T00:36:02.066Z"
   },
   {
    "duration": 16,
    "start_time": "2025-02-09T00:36:02.072Z"
   },
   {
    "duration": 195,
    "start_time": "2025-02-09T00:36:02.090Z"
   },
   {
    "duration": 1534,
    "start_time": "2025-02-09T00:36:02.288Z"
   },
   {
    "duration": 1230,
    "start_time": "2025-02-09T00:36:03.824Z"
   },
   {
    "duration": 1380,
    "start_time": "2025-02-09T00:36:05.056Z"
   },
   {
    "duration": 10,
    "start_time": "2025-02-09T00:36:06.438Z"
   },
   {
    "duration": 16,
    "start_time": "2025-02-09T00:36:06.449Z"
   },
   {
    "duration": 12,
    "start_time": "2025-02-09T00:36:06.467Z"
   },
   {
    "duration": 10,
    "start_time": "2025-02-09T00:36:06.481Z"
   },
   {
    "duration": 73,
    "start_time": "2025-02-09T00:36:06.493Z"
   },
   {
    "duration": 5,
    "start_time": "2025-02-09T00:36:06.568Z"
   },
   {
    "duration": 4,
    "start_time": "2025-02-09T00:36:06.575Z"
   },
   {
    "duration": 1010,
    "start_time": "2025-02-09T00:36:06.580Z"
   },
   {
    "duration": 0,
    "start_time": "2025-02-09T00:36:07.592Z"
   },
   {
    "duration": 284,
    "start_time": "2025-02-09T00:40:57.742Z"
   },
   {
    "duration": 994,
    "start_time": "2025-02-09T00:41:10.987Z"
   },
   {
    "duration": 522,
    "start_time": "2025-02-09T00:41:11.984Z"
   },
   {
    "duration": 23,
    "start_time": "2025-02-09T00:41:12.508Z"
   },
   {
    "duration": 16,
    "start_time": "2025-02-09T00:41:12.533Z"
   },
   {
    "duration": 15,
    "start_time": "2025-02-09T00:41:12.551Z"
   },
   {
    "duration": 10,
    "start_time": "2025-02-09T00:41:12.568Z"
   },
   {
    "duration": 4,
    "start_time": "2025-02-09T00:41:12.580Z"
   },
   {
    "duration": 50,
    "start_time": "2025-02-09T00:41:12.585Z"
   },
   {
    "duration": 160,
    "start_time": "2025-02-09T00:41:12.637Z"
   },
   {
    "duration": 1556,
    "start_time": "2025-02-09T00:41:12.799Z"
   },
   {
    "duration": 1188,
    "start_time": "2025-02-09T00:41:14.357Z"
   },
   {
    "duration": 1474,
    "start_time": "2025-02-09T00:41:15.547Z"
   },
   {
    "duration": 13,
    "start_time": "2025-02-09T00:41:17.023Z"
   },
   {
    "duration": 15,
    "start_time": "2025-02-09T00:41:17.040Z"
   },
   {
    "duration": 11,
    "start_time": "2025-02-09T00:41:17.057Z"
   },
   {
    "duration": 10,
    "start_time": "2025-02-09T00:41:17.070Z"
   },
   {
    "duration": 870,
    "start_time": "2025-02-09T00:41:17.081Z"
   },
   {
    "duration": 0,
    "start_time": "2025-02-09T00:41:17.953Z"
   },
   {
    "duration": 0,
    "start_time": "2025-02-09T00:41:17.954Z"
   },
   {
    "duration": 0,
    "start_time": "2025-02-09T00:41:17.956Z"
   },
   {
    "duration": 0,
    "start_time": "2025-02-09T00:41:17.957Z"
   },
   {
    "duration": 56,
    "start_time": "2025-02-09T00:43:09.203Z"
   },
   {
    "duration": 12,
    "start_time": "2025-02-09T00:45:17.641Z"
   },
   {
    "duration": 7,
    "start_time": "2025-02-09T00:45:29.225Z"
   },
   {
    "duration": 24,
    "start_time": "2025-02-09T00:46:56.547Z"
   },
   {
    "duration": 50,
    "start_time": "2025-02-09T00:49:59.041Z"
   },
   {
    "duration": 49,
    "start_time": "2025-02-09T00:50:56.282Z"
   },
   {
    "duration": 57,
    "start_time": "2025-02-09T00:51:10.402Z"
   },
   {
    "duration": 3,
    "start_time": "2025-02-09T00:52:41.665Z"
   },
   {
    "duration": 17,
    "start_time": "2025-02-09T00:52:59.781Z"
   },
   {
    "duration": 34,
    "start_time": "2025-02-09T00:53:58.837Z"
   },
   {
    "duration": 73,
    "start_time": "2025-02-09T00:54:31.400Z"
   },
   {
    "duration": 16,
    "start_time": "2025-02-09T00:56:17.040Z"
   },
   {
    "duration": 67303,
    "start_time": "2025-02-09T00:56:22.629Z"
   },
   {
    "duration": 67371,
    "start_time": "2025-02-09T00:57:30.830Z"
   },
   {
    "duration": 4,
    "start_time": "2025-02-09T01:03:27.481Z"
   },
   {
    "duration": 1070,
    "start_time": "2025-02-09T01:35:15.137Z"
   },
   {
    "duration": 509,
    "start_time": "2025-02-09T01:35:16.209Z"
   },
   {
    "duration": 23,
    "start_time": "2025-02-09T01:35:16.719Z"
   },
   {
    "duration": 15,
    "start_time": "2025-02-09T01:35:16.744Z"
   },
   {
    "duration": 15,
    "start_time": "2025-02-09T01:35:16.762Z"
   },
   {
    "duration": 10,
    "start_time": "2025-02-09T01:35:16.779Z"
   },
   {
    "duration": 5,
    "start_time": "2025-02-09T01:35:16.790Z"
   },
   {
    "duration": 47,
    "start_time": "2025-02-09T01:35:16.797Z"
   },
   {
    "duration": 162,
    "start_time": "2025-02-09T01:35:16.846Z"
   },
   {
    "duration": 1632,
    "start_time": "2025-02-09T01:35:17.009Z"
   },
   {
    "duration": 1195,
    "start_time": "2025-02-09T01:35:18.643Z"
   },
   {
    "duration": 1432,
    "start_time": "2025-02-09T01:35:19.840Z"
   },
   {
    "duration": 9,
    "start_time": "2025-02-09T01:35:21.274Z"
   },
   {
    "duration": 14,
    "start_time": "2025-02-09T01:35:21.287Z"
   },
   {
    "duration": 29,
    "start_time": "2025-02-09T01:35:21.302Z"
   },
   {
    "duration": 10,
    "start_time": "2025-02-09T01:35:21.333Z"
   },
   {
    "duration": 65,
    "start_time": "2025-02-09T01:35:21.344Z"
   },
   {
    "duration": 4,
    "start_time": "2025-02-09T01:35:21.430Z"
   },
   {
    "duration": 19,
    "start_time": "2025-02-09T01:35:21.435Z"
   },
   {
    "duration": 70077,
    "start_time": "2025-02-09T01:35:21.456Z"
   },
   {
    "duration": 163,
    "start_time": "2025-02-09T02:14:55.261Z"
   },
   {
    "duration": 2789,
    "start_time": "2025-02-09T02:15:05.309Z"
   },
   {
    "duration": 720,
    "start_time": "2025-02-09T02:15:08.104Z"
   },
   {
    "duration": 21,
    "start_time": "2025-02-09T02:15:08.826Z"
   },
   {
    "duration": 16,
    "start_time": "2025-02-09T02:15:08.850Z"
   },
   {
    "duration": 46,
    "start_time": "2025-02-09T02:15:08.869Z"
   },
   {
    "duration": 10,
    "start_time": "2025-02-09T02:15:08.917Z"
   },
   {
    "duration": 5,
    "start_time": "2025-02-09T02:15:08.929Z"
   },
   {
    "duration": 15,
    "start_time": "2025-02-09T02:15:08.936Z"
   },
   {
    "duration": 173,
    "start_time": "2025-02-09T02:15:08.953Z"
   },
   {
    "duration": 1595,
    "start_time": "2025-02-09T02:15:09.128Z"
   },
   {
    "duration": 1187,
    "start_time": "2025-02-09T02:15:10.725Z"
   },
   {
    "duration": 1591,
    "start_time": "2025-02-09T02:15:11.914Z"
   },
   {
    "duration": 13,
    "start_time": "2025-02-09T02:15:13.511Z"
   },
   {
    "duration": 13,
    "start_time": "2025-02-09T02:15:13.527Z"
   },
   {
    "duration": 11,
    "start_time": "2025-02-09T02:15:13.543Z"
   },
   {
    "duration": 12,
    "start_time": "2025-02-09T02:15:13.555Z"
   },
   {
    "duration": 99,
    "start_time": "2025-02-09T02:15:13.569Z"
   },
   {
    "duration": 4,
    "start_time": "2025-02-09T02:15:13.670Z"
   },
   {
    "duration": 33,
    "start_time": "2025-02-09T02:15:13.676Z"
   },
   {
    "duration": 71305,
    "start_time": "2025-02-09T02:15:13.711Z"
   },
   {
    "duration": 340997,
    "start_time": "2025-02-09T02:16:25.019Z"
   },
   {
    "duration": 621,
    "start_time": "2025-02-09T02:25:22.220Z"
   },
   {
    "duration": 32,
    "start_time": "2025-02-09T02:27:07.627Z"
   },
   {
    "duration": 163,
    "start_time": "2025-02-09T04:27:01.647Z"
   },
   {
    "duration": 2738,
    "start_time": "2025-02-09T04:27:25.674Z"
   },
   {
    "duration": 586,
    "start_time": "2025-02-09T04:27:28.414Z"
   },
   {
    "duration": 24,
    "start_time": "2025-02-09T04:27:29.002Z"
   },
   {
    "duration": 16,
    "start_time": "2025-02-09T04:27:29.027Z"
   },
   {
    "duration": 16,
    "start_time": "2025-02-09T04:27:29.046Z"
   },
   {
    "duration": 10,
    "start_time": "2025-02-09T04:27:29.063Z"
   },
   {
    "duration": 35,
    "start_time": "2025-02-09T04:27:29.075Z"
   },
   {
    "duration": 16,
    "start_time": "2025-02-09T04:27:29.112Z"
   },
   {
    "duration": 162,
    "start_time": "2025-02-09T04:27:29.131Z"
   },
   {
    "duration": 1627,
    "start_time": "2025-02-09T04:27:29.295Z"
   },
   {
    "duration": 1091,
    "start_time": "2025-02-09T04:27:30.924Z"
   },
   {
    "duration": 1496,
    "start_time": "2025-02-09T04:27:32.017Z"
   },
   {
    "duration": 9,
    "start_time": "2025-02-09T04:27:33.514Z"
   },
   {
    "duration": 13,
    "start_time": "2025-02-09T04:27:33.526Z"
   },
   {
    "duration": 11,
    "start_time": "2025-02-09T04:27:33.540Z"
   },
   {
    "duration": 9,
    "start_time": "2025-02-09T04:27:33.553Z"
   },
   {
    "duration": 88,
    "start_time": "2025-02-09T04:27:33.564Z"
   },
   {
    "duration": 3,
    "start_time": "2025-02-09T04:27:33.654Z"
   },
   {
    "duration": 16,
    "start_time": "2025-02-09T04:27:33.659Z"
   },
   {
    "duration": 69610,
    "start_time": "2025-02-09T04:27:33.677Z"
   },
   {
    "duration": 336332,
    "start_time": "2025-02-09T04:28:43.289Z"
   },
   {
    "duration": 96,
    "start_time": "2025-02-09T04:34:19.623Z"
   },
   {
    "duration": 346,
    "start_time": "2025-02-09T04:38:40.914Z"
   },
   {
    "duration": 28,
    "start_time": "2025-02-09T04:56:18.396Z"
   },
   {
    "duration": 178,
    "start_time": "2025-02-09T04:56:32.068Z"
   },
   {
    "duration": 79,
    "start_time": "2025-02-09T04:57:57.116Z"
   },
   {
    "duration": 53,
    "start_time": "2025-02-09T04:58:57.843Z"
   },
   {
    "duration": 47,
    "start_time": "2025-02-09T04:59:08.742Z"
   },
   {
    "duration": 78,
    "start_time": "2025-02-09T05:00:20.147Z"
   },
   {
    "duration": 8,
    "start_time": "2025-02-09T05:06:37.903Z"
   },
   {
    "duration": 2761,
    "start_time": "2025-02-13T21:15:51.087Z"
   },
   {
    "duration": 599,
    "start_time": "2025-02-13T21:15:53.851Z"
   },
   {
    "duration": 19,
    "start_time": "2025-02-13T21:15:54.451Z"
   },
   {
    "duration": 15,
    "start_time": "2025-02-13T21:15:54.472Z"
   },
   {
    "duration": 16,
    "start_time": "2025-02-13T21:15:54.490Z"
   },
   {
    "duration": 12,
    "start_time": "2025-02-13T21:15:54.532Z"
   },
   {
    "duration": 4,
    "start_time": "2025-02-13T21:15:54.546Z"
   },
   {
    "duration": 13,
    "start_time": "2025-02-13T21:15:54.552Z"
   },
   {
    "duration": 191,
    "start_time": "2025-02-13T21:15:54.567Z"
   },
   {
    "duration": 1559,
    "start_time": "2025-02-13T21:15:54.760Z"
   },
   {
    "duration": 1244,
    "start_time": "2025-02-13T21:15:56.322Z"
   },
   {
    "duration": 1463,
    "start_time": "2025-02-13T21:15:57.568Z"
   },
   {
    "duration": 8,
    "start_time": "2025-02-13T21:15:59.034Z"
   },
   {
    "duration": 15,
    "start_time": "2025-02-13T21:15:59.045Z"
   },
   {
    "duration": 10,
    "start_time": "2025-02-13T21:15:59.062Z"
   },
   {
    "duration": 9,
    "start_time": "2025-02-13T21:15:59.074Z"
   },
   {
    "duration": 84,
    "start_time": "2025-02-13T21:15:59.084Z"
   },
   {
    "duration": 3,
    "start_time": "2025-02-13T21:15:59.170Z"
   },
   {
    "duration": 14,
    "start_time": "2025-02-13T21:15:59.175Z"
   },
   {
    "duration": 69595,
    "start_time": "2025-02-13T21:15:59.191Z"
   },
   {
    "duration": 177,
    "start_time": "2025-02-13T21:19:08.008Z"
   },
   {
    "duration": 15,
    "start_time": "2025-02-13T21:21:09.497Z"
   },
   {
    "duration": 1018,
    "start_time": "2025-02-13T21:21:32.481Z"
   },
   {
    "duration": 510,
    "start_time": "2025-02-13T21:21:33.502Z"
   },
   {
    "duration": 27,
    "start_time": "2025-02-13T21:21:34.014Z"
   },
   {
    "duration": 16,
    "start_time": "2025-02-13T21:21:34.042Z"
   },
   {
    "duration": 15,
    "start_time": "2025-02-13T21:21:34.061Z"
   },
   {
    "duration": 10,
    "start_time": "2025-02-13T21:21:34.078Z"
   },
   {
    "duration": 5,
    "start_time": "2025-02-13T21:21:34.089Z"
   },
   {
    "duration": 202,
    "start_time": "2025-02-13T21:21:34.096Z"
   },
   {
    "duration": 1555,
    "start_time": "2025-02-13T21:21:34.299Z"
   },
   {
    "duration": 1203,
    "start_time": "2025-02-13T21:21:35.857Z"
   },
   {
    "duration": 1474,
    "start_time": "2025-02-13T21:21:37.062Z"
   },
   {
    "duration": 10,
    "start_time": "2025-02-13T21:21:38.538Z"
   },
   {
    "duration": 16,
    "start_time": "2025-02-13T21:21:38.549Z"
   },
   {
    "duration": 11,
    "start_time": "2025-02-13T21:21:38.568Z"
   },
   {
    "duration": 10,
    "start_time": "2025-02-13T21:21:38.581Z"
   },
   {
    "duration": 89,
    "start_time": "2025-02-13T21:21:38.593Z"
   },
   {
    "duration": 3,
    "start_time": "2025-02-13T21:21:38.684Z"
   },
   {
    "duration": 19,
    "start_time": "2025-02-13T21:21:38.689Z"
   },
   {
    "duration": 69545,
    "start_time": "2025-02-13T21:21:38.710Z"
   },
   {
    "duration": 337168,
    "start_time": "2025-02-13T21:22:48.256Z"
   },
   {
    "duration": 87,
    "start_time": "2025-02-13T21:28:25.426Z"
   },
   {
    "duration": 574,
    "start_time": "2025-02-13T21:28:25.515Z"
   },
   {
    "duration": 0,
    "start_time": "2025-02-13T21:28:26.091Z"
   },
   {
    "duration": 0,
    "start_time": "2025-02-13T21:28:26.092Z"
   },
   {
    "duration": 3135,
    "start_time": "2025-02-13T21:29:00.461Z"
   },
   {
    "duration": 3062,
    "start_time": "2025-02-13T21:32:09.736Z"
   },
   {
    "duration": 1212,
    "start_time": "2025-02-13T21:38:16.282Z"
   },
   {
    "duration": 7,
    "start_time": "2025-02-13T21:43:05.689Z"
   },
   {
    "duration": 6,
    "start_time": "2025-02-13T21:43:51.166Z"
   },
   {
    "duration": 6,
    "start_time": "2025-02-13T21:53:13.153Z"
   },
   {
    "duration": 4,
    "start_time": "2025-02-13T22:18:21.000Z"
   },
   {
    "duration": 17,
    "start_time": "2025-02-13T22:19:59.208Z"
   },
   {
    "duration": 18,
    "start_time": "2025-02-13T22:20:09.988Z"
   },
   {
    "duration": 17,
    "start_time": "2025-02-13T22:20:40.263Z"
   },
   {
    "duration": 1011,
    "start_time": "2025-02-13T22:20:47.820Z"
   },
   {
    "duration": 519,
    "start_time": "2025-02-13T22:20:48.833Z"
   },
   {
    "duration": 18,
    "start_time": "2025-02-13T22:20:49.354Z"
   },
   {
    "duration": 15,
    "start_time": "2025-02-13T22:20:49.374Z"
   },
   {
    "duration": 15,
    "start_time": "2025-02-13T22:20:49.391Z"
   },
   {
    "duration": 29,
    "start_time": "2025-02-13T22:20:49.408Z"
   },
   {
    "duration": 4,
    "start_time": "2025-02-13T22:20:49.439Z"
   },
   {
    "duration": 172,
    "start_time": "2025-02-13T22:20:49.444Z"
   },
   {
    "duration": 3049,
    "start_time": "2025-02-13T22:20:49.617Z"
   },
   {
    "duration": 1196,
    "start_time": "2025-02-13T22:20:52.669Z"
   },
   {
    "duration": 1366,
    "start_time": "2025-02-13T22:20:53.867Z"
   },
   {
    "duration": 9,
    "start_time": "2025-02-13T22:20:55.235Z"
   },
   {
    "duration": 16,
    "start_time": "2025-02-13T22:20:55.245Z"
   },
   {
    "duration": 10,
    "start_time": "2025-02-13T22:20:55.263Z"
   },
   {
    "duration": 9,
    "start_time": "2025-02-13T22:20:55.275Z"
   },
   {
    "duration": 6,
    "start_time": "2025-02-13T22:20:55.286Z"
   },
   {
    "duration": 37,
    "start_time": "2025-02-13T22:20:55.294Z"
   },
   {
    "duration": 333,
    "start_time": "2025-02-13T22:20:55.333Z"
   },
   {
    "duration": 0,
    "start_time": "2025-02-13T22:20:55.668Z"
   },
   {
    "duration": 0,
    "start_time": "2025-02-13T22:20:55.669Z"
   },
   {
    "duration": 0,
    "start_time": "2025-02-13T22:20:55.670Z"
   },
   {
    "duration": 0,
    "start_time": "2025-02-13T22:20:55.672Z"
   },
   {
    "duration": 0,
    "start_time": "2025-02-13T22:20:55.673Z"
   },
   {
    "duration": 14,
    "start_time": "2025-02-13T22:22:53.227Z"
   },
   {
    "duration": 60,
    "start_time": "2025-02-13T22:22:59.099Z"
   },
   {
    "duration": 1063,
    "start_time": "2025-02-13T22:23:08.953Z"
   },
   {
    "duration": 541,
    "start_time": "2025-02-13T22:23:10.018Z"
   },
   {
    "duration": 18,
    "start_time": "2025-02-13T22:23:10.561Z"
   },
   {
    "duration": 15,
    "start_time": "2025-02-13T22:23:10.581Z"
   },
   {
    "duration": 35,
    "start_time": "2025-02-13T22:23:10.598Z"
   },
   {
    "duration": 10,
    "start_time": "2025-02-13T22:23:10.635Z"
   },
   {
    "duration": 5,
    "start_time": "2025-02-13T22:23:10.647Z"
   },
   {
    "duration": 190,
    "start_time": "2025-02-13T22:23:10.653Z"
   },
   {
    "duration": 3119,
    "start_time": "2025-02-13T22:23:10.845Z"
   },
   {
    "duration": 1240,
    "start_time": "2025-02-13T22:23:13.966Z"
   },
   {
    "duration": 1423,
    "start_time": "2025-02-13T22:23:15.209Z"
   },
   {
    "duration": 9,
    "start_time": "2025-02-13T22:23:16.634Z"
   },
   {
    "duration": 15,
    "start_time": "2025-02-13T22:23:16.644Z"
   },
   {
    "duration": 11,
    "start_time": "2025-02-13T22:23:16.663Z"
   },
   {
    "duration": 9,
    "start_time": "2025-02-13T22:23:16.676Z"
   },
   {
    "duration": 5,
    "start_time": "2025-02-13T22:23:16.687Z"
   },
   {
    "duration": 37,
    "start_time": "2025-02-13T22:23:16.694Z"
   },
   {
    "duration": 13,
    "start_time": "2025-02-13T22:23:16.733Z"
   },
   {
    "duration": 209,
    "start_time": "2025-02-13T22:23:16.748Z"
   },
   {
    "duration": 0,
    "start_time": "2025-02-13T22:23:16.958Z"
   },
   {
    "duration": 0,
    "start_time": "2025-02-13T22:23:16.959Z"
   },
   {
    "duration": 0,
    "start_time": "2025-02-13T22:23:16.961Z"
   },
   {
    "duration": 0,
    "start_time": "2025-02-13T22:23:16.962Z"
   },
   {
    "duration": 0,
    "start_time": "2025-02-13T22:23:16.963Z"
   },
   {
    "duration": 6,
    "start_time": "2025-02-13T22:24:43.279Z"
   },
   {
    "duration": 336,
    "start_time": "2025-02-13T22:24:46.480Z"
   },
   {
    "duration": 4,
    "start_time": "2025-02-13T22:30:00.102Z"
   },
   {
    "duration": 693,
    "start_time": "2025-02-13T22:30:20.832Z"
   },
   {
    "duration": 106,
    "start_time": "2025-02-13T22:32:51.352Z"
   },
   {
    "duration": 73,
    "start_time": "2025-02-13T22:34:10.898Z"
   },
   {
    "duration": 184,
    "start_time": "2025-02-13T22:36:06.193Z"
   },
   {
    "duration": 94,
    "start_time": "2025-02-13T22:37:47.923Z"
   },
   {
    "duration": 68,
    "start_time": "2025-02-13T22:38:02.982Z"
   },
   {
    "duration": 1059,
    "start_time": "2025-02-13T22:39:00.763Z"
   },
   {
    "duration": 526,
    "start_time": "2025-02-13T22:39:01.824Z"
   },
   {
    "duration": 19,
    "start_time": "2025-02-13T22:39:02.352Z"
   },
   {
    "duration": 16,
    "start_time": "2025-02-13T22:39:02.372Z"
   },
   {
    "duration": 14,
    "start_time": "2025-02-13T22:39:02.390Z"
   },
   {
    "duration": 32,
    "start_time": "2025-02-13T22:39:02.406Z"
   },
   {
    "duration": 4,
    "start_time": "2025-02-13T22:39:02.440Z"
   },
   {
    "duration": 186,
    "start_time": "2025-02-13T22:39:02.446Z"
   },
   {
    "duration": 3063,
    "start_time": "2025-02-13T22:39:02.634Z"
   },
   {
    "duration": 1266,
    "start_time": "2025-02-13T22:39:05.699Z"
   },
   {
    "duration": 1469,
    "start_time": "2025-02-13T22:39:06.966Z"
   },
   {
    "duration": 10,
    "start_time": "2025-02-13T22:39:08.438Z"
   },
   {
    "duration": 17,
    "start_time": "2025-02-13T22:39:08.449Z"
   },
   {
    "duration": 10,
    "start_time": "2025-02-13T22:39:08.470Z"
   },
   {
    "duration": 8,
    "start_time": "2025-02-13T22:39:08.482Z"
   },
   {
    "duration": 5,
    "start_time": "2025-02-13T22:39:08.492Z"
   },
   {
    "duration": 33,
    "start_time": "2025-02-13T22:39:08.499Z"
   },
   {
    "duration": 343,
    "start_time": "2025-02-13T22:39:08.534Z"
   },
   {
    "duration": 0,
    "start_time": "2025-02-13T22:39:08.879Z"
   },
   {
    "duration": 0,
    "start_time": "2025-02-13T22:39:08.880Z"
   },
   {
    "duration": 0,
    "start_time": "2025-02-13T22:39:08.881Z"
   },
   {
    "duration": 0,
    "start_time": "2025-02-13T22:39:08.883Z"
   },
   {
    "duration": 0,
    "start_time": "2025-02-13T22:39:08.884Z"
   },
   {
    "duration": 0,
    "start_time": "2025-02-13T22:39:08.886Z"
   },
   {
    "duration": 0,
    "start_time": "2025-02-13T22:39:08.887Z"
   },
   {
    "duration": 113,
    "start_time": "2025-02-13T22:41:59.725Z"
   },
   {
    "duration": 68,
    "start_time": "2025-02-13T22:45:56.779Z"
   },
   {
    "duration": 98,
    "start_time": "2025-02-13T22:47:54.834Z"
   },
   {
    "duration": 69948,
    "start_time": "2025-02-13T22:48:26.082Z"
   },
   {
    "duration": 3,
    "start_time": "2025-02-13T22:49:46.028Z"
   },
   {
    "duration": 971,
    "start_time": "2025-02-13T23:04:41.619Z"
   },
   {
    "duration": 527,
    "start_time": "2025-02-13T23:04:42.592Z"
   },
   {
    "duration": 19,
    "start_time": "2025-02-13T23:04:43.120Z"
   },
   {
    "duration": 16,
    "start_time": "2025-02-13T23:04:43.141Z"
   },
   {
    "duration": 15,
    "start_time": "2025-02-13T23:04:43.161Z"
   },
   {
    "duration": 10,
    "start_time": "2025-02-13T23:04:43.178Z"
   },
   {
    "duration": 39,
    "start_time": "2025-02-13T23:04:43.191Z"
   },
   {
    "duration": 170,
    "start_time": "2025-02-13T23:04:43.232Z"
   },
   {
    "duration": 3073,
    "start_time": "2025-02-13T23:04:43.405Z"
   },
   {
    "duration": 1210,
    "start_time": "2025-02-13T23:04:46.479Z"
   },
   {
    "duration": 1353,
    "start_time": "2025-02-13T23:04:47.691Z"
   },
   {
    "duration": 8,
    "start_time": "2025-02-13T23:04:49.046Z"
   },
   {
    "duration": 16,
    "start_time": "2025-02-13T23:04:49.056Z"
   },
   {
    "duration": 11,
    "start_time": "2025-02-13T23:04:49.075Z"
   },
   {
    "duration": 10,
    "start_time": "2025-02-13T23:04:49.087Z"
   },
   {
    "duration": 34,
    "start_time": "2025-02-13T23:04:49.099Z"
   },
   {
    "duration": 4,
    "start_time": "2025-02-13T23:04:49.135Z"
   },
   {
    "duration": 356,
    "start_time": "2025-02-13T23:04:49.140Z"
   },
   {
    "duration": 0,
    "start_time": "2025-02-13T23:04:49.498Z"
   },
   {
    "duration": 0,
    "start_time": "2025-02-13T23:04:49.499Z"
   },
   {
    "duration": 0,
    "start_time": "2025-02-13T23:04:49.500Z"
   },
   {
    "duration": 0,
    "start_time": "2025-02-13T23:04:49.501Z"
   },
   {
    "duration": 0,
    "start_time": "2025-02-13T23:04:49.502Z"
   },
   {
    "duration": 0,
    "start_time": "2025-02-13T23:04:49.503Z"
   },
   {
    "duration": 0,
    "start_time": "2025-02-13T23:04:49.504Z"
   },
   {
    "duration": 19,
    "start_time": "2025-02-13T23:07:16.657Z"
   },
   {
    "duration": 19,
    "start_time": "2025-02-13T23:09:06.219Z"
   },
   {
    "duration": 113,
    "start_time": "2025-02-13T23:10:55.077Z"
   },
   {
    "duration": 1055,
    "start_time": "2025-02-13T23:12:11.450Z"
   },
   {
    "duration": 558,
    "start_time": "2025-02-13T23:12:12.507Z"
   },
   {
    "duration": 20,
    "start_time": "2025-02-13T23:12:13.066Z"
   },
   {
    "duration": 15,
    "start_time": "2025-02-13T23:12:13.088Z"
   },
   {
    "duration": 32,
    "start_time": "2025-02-13T23:12:13.104Z"
   },
   {
    "duration": 13,
    "start_time": "2025-02-13T23:12:13.138Z"
   },
   {
    "duration": 4,
    "start_time": "2025-02-13T23:12:13.153Z"
   },
   {
    "duration": 189,
    "start_time": "2025-02-13T23:12:13.158Z"
   },
   {
    "duration": 3039,
    "start_time": "2025-02-13T23:12:13.348Z"
   },
   {
    "duration": 1190,
    "start_time": "2025-02-13T23:12:16.391Z"
   },
   {
    "duration": 1433,
    "start_time": "2025-02-13T23:12:17.583Z"
   },
   {
    "duration": 19,
    "start_time": "2025-02-13T23:12:19.017Z"
   },
   {
    "duration": 15,
    "start_time": "2025-02-13T23:12:19.037Z"
   },
   {
    "duration": 12,
    "start_time": "2025-02-13T23:12:19.053Z"
   },
   {
    "duration": 10,
    "start_time": "2025-02-13T23:12:19.067Z"
   },
   {
    "duration": 6,
    "start_time": "2025-02-13T23:12:19.079Z"
   },
   {
    "duration": 4,
    "start_time": "2025-02-13T23:12:19.086Z"
   },
   {
    "duration": 149,
    "start_time": "2025-02-13T23:12:19.092Z"
   },
   {
    "duration": 69693,
    "start_time": "2025-02-13T23:12:19.243Z"
   },
   {
    "duration": 257399,
    "start_time": "2025-02-13T23:13:28.937Z"
   },
   {
    "duration": 7,
    "start_time": "2025-02-13T23:17:46.338Z"
   },
   {
    "duration": 407,
    "start_time": "2025-02-13T23:17:46.347Z"
   },
   {
    "duration": 0,
    "start_time": "2025-02-13T23:17:46.756Z"
   },
   {
    "duration": 0,
    "start_time": "2025-02-13T23:17:46.757Z"
   },
   {
    "duration": 0,
    "start_time": "2025-02-13T23:17:46.759Z"
   },
   {
    "duration": 754,
    "start_time": "2025-02-13T23:21:05.337Z"
   },
   {
    "duration": 442,
    "start_time": "2025-02-13T23:25:07.373Z"
   },
   {
    "duration": 267,
    "start_time": "2025-02-13T23:26:04.168Z"
   },
   {
    "duration": 333,
    "start_time": "2025-02-13T23:27:45.820Z"
   },
   {
    "duration": 1012,
    "start_time": "2025-02-13T23:28:04.583Z"
   },
   {
    "duration": 500,
    "start_time": "2025-02-13T23:28:05.597Z"
   },
   {
    "duration": 19,
    "start_time": "2025-02-13T23:28:06.099Z"
   },
   {
    "duration": 26,
    "start_time": "2025-02-13T23:28:06.120Z"
   },
   {
    "duration": 16,
    "start_time": "2025-02-13T23:28:06.148Z"
   },
   {
    "duration": 11,
    "start_time": "2025-02-13T23:28:06.165Z"
   },
   {
    "duration": 5,
    "start_time": "2025-02-13T23:28:06.178Z"
   },
   {
    "duration": 202,
    "start_time": "2025-02-13T23:28:06.185Z"
   },
   {
    "duration": 2999,
    "start_time": "2025-02-13T23:28:06.388Z"
   },
   {
    "duration": 1249,
    "start_time": "2025-02-13T23:28:09.390Z"
   },
   {
    "duration": 1479,
    "start_time": "2025-02-13T23:28:10.642Z"
   },
   {
    "duration": 15,
    "start_time": "2025-02-13T23:28:12.123Z"
   },
   {
    "duration": 16,
    "start_time": "2025-02-13T23:28:12.141Z"
   },
   {
    "duration": 11,
    "start_time": "2025-02-13T23:28:12.158Z"
   },
   {
    "duration": 9,
    "start_time": "2025-02-13T23:28:12.170Z"
   },
   {
    "duration": 5,
    "start_time": "2025-02-13T23:28:12.181Z"
   },
   {
    "duration": 4,
    "start_time": "2025-02-13T23:28:12.188Z"
   },
   {
    "duration": 147,
    "start_time": "2025-02-13T23:28:12.194Z"
   },
   {
    "duration": 69816,
    "start_time": "2025-02-13T23:28:12.342Z"
   },
   {
    "duration": 257772,
    "start_time": "2025-02-13T23:29:22.160Z"
   },
   {
    "duration": 551,
    "start_time": "2025-02-13T23:33:39.933Z"
   },
   {
    "duration": 0,
    "start_time": "2025-02-13T23:33:40.486Z"
   },
   {
    "duration": 0,
    "start_time": "2025-02-13T23:33:40.487Z"
   },
   {
    "duration": 0,
    "start_time": "2025-02-13T23:33:40.488Z"
   },
   {
    "duration": 0,
    "start_time": "2025-02-13T23:33:40.489Z"
   },
   {
    "duration": 69691,
    "start_time": "2025-02-13T23:45:43.220Z"
   },
   {
    "duration": 3,
    "start_time": "2025-02-13T23:46:52.913Z"
   },
   {
    "duration": 24,
    "start_time": "2025-02-13T23:46:52.918Z"
   },
   {
    "duration": 105,
    "start_time": "2025-02-13T23:46:52.945Z"
   },
   {
    "duration": 7,
    "start_time": "2025-02-13T23:48:34.319Z"
   },
   {
    "duration": 63,
    "start_time": "2025-02-13T23:49:47.720Z"
   },
   {
    "duration": 1053,
    "start_time": "2025-02-13T23:50:01.488Z"
   },
   {
    "duration": 512,
    "start_time": "2025-02-13T23:50:02.543Z"
   },
   {
    "duration": 18,
    "start_time": "2025-02-13T23:50:03.057Z"
   },
   {
    "duration": 15,
    "start_time": "2025-02-13T23:50:03.078Z"
   },
   {
    "duration": 35,
    "start_time": "2025-02-13T23:50:03.096Z"
   },
   {
    "duration": 9,
    "start_time": "2025-02-13T23:50:03.134Z"
   },
   {
    "duration": 4,
    "start_time": "2025-02-13T23:50:03.145Z"
   },
   {
    "duration": 188,
    "start_time": "2025-02-13T23:50:03.151Z"
   },
   {
    "duration": 3055,
    "start_time": "2025-02-13T23:50:03.341Z"
   },
   {
    "duration": 1163,
    "start_time": "2025-02-13T23:50:06.400Z"
   },
   {
    "duration": 1467,
    "start_time": "2025-02-13T23:50:07.565Z"
   },
   {
    "duration": 9,
    "start_time": "2025-02-13T23:50:09.034Z"
   },
   {
    "duration": 15,
    "start_time": "2025-02-13T23:50:09.044Z"
   },
   {
    "duration": 12,
    "start_time": "2025-02-13T23:50:09.061Z"
   },
   {
    "duration": 10,
    "start_time": "2025-02-13T23:50:09.075Z"
   },
   {
    "duration": 6,
    "start_time": "2025-02-13T23:50:09.087Z"
   },
   {
    "duration": 38,
    "start_time": "2025-02-13T23:50:09.094Z"
   },
   {
    "duration": 127,
    "start_time": "2025-02-13T23:50:09.134Z"
   },
   {
    "duration": 69659,
    "start_time": "2025-02-13T23:50:09.263Z"
   },
   {
    "duration": 257322,
    "start_time": "2025-02-13T23:51:18.924Z"
   },
   {
    "duration": 6,
    "start_time": "2025-02-13T23:55:36.248Z"
   },
   {
    "duration": 539,
    "start_time": "2025-02-13T23:55:36.255Z"
   },
   {
    "duration": 0,
    "start_time": "2025-02-13T23:55:36.799Z"
   },
   {
    "duration": 0,
    "start_time": "2025-02-13T23:55:36.800Z"
   },
   {
    "duration": 0,
    "start_time": "2025-02-13T23:55:36.800Z"
   },
   {
    "duration": 48,
    "start_time": "2025-02-13T23:59:19.324Z"
   },
   {
    "duration": 56,
    "start_time": "2025-02-13T23:59:37.632Z"
   },
   {
    "duration": 44,
    "start_time": "2025-02-14T00:02:02.891Z"
   },
   {
    "duration": 39,
    "start_time": "2025-02-14T00:02:08.289Z"
   },
   {
    "duration": 47,
    "start_time": "2025-02-14T00:02:24.830Z"
   },
   {
    "duration": 41,
    "start_time": "2025-02-14T00:02:26.595Z"
   },
   {
    "duration": 82,
    "start_time": "2025-02-14T00:03:01.145Z"
   },
   {
    "duration": 40,
    "start_time": "2025-02-14T00:03:20.159Z"
   },
   {
    "duration": 3,
    "start_time": "2025-02-14T00:07:41.445Z"
   },
   {
    "duration": 2,
    "start_time": "2025-02-14T00:14:56.808Z"
   },
   {
    "duration": 360,
    "start_time": "2025-02-14T00:15:33.737Z"
   },
   {
    "duration": 10,
    "start_time": "2025-02-14T00:17:22.955Z"
   },
   {
    "duration": 84,
    "start_time": "2025-02-14T00:17:42.497Z"
   },
   {
    "duration": 61,
    "start_time": "2025-02-14T00:19:23.055Z"
   },
   {
    "duration": 113,
    "start_time": "2025-02-14T00:22:00.577Z"
   },
   {
    "duration": 90,
    "start_time": "2025-02-14T00:22:08.744Z"
   },
   {
    "duration": 33,
    "start_time": "2025-02-14T00:22:24.909Z"
   },
   {
    "duration": 3,
    "start_time": "2025-02-14T00:23:49.457Z"
   },
   {
    "duration": 53278,
    "start_time": "2025-02-14T00:24:05.569Z"
   },
   {
    "duration": 11958,
    "start_time": "2025-02-14T00:26:43.345Z"
   },
   {
    "duration": 0,
    "start_time": "2025-02-14T00:35:07.438Z"
   },
   {
    "duration": 75215,
    "start_time": "2025-02-14T00:35:14.642Z"
   },
   {
    "duration": 29,
    "start_time": "2025-02-14T00:39:13.306Z"
   },
   {
    "duration": 22,
    "start_time": "2025-02-14T00:40:37.671Z"
   },
   {
    "duration": 14,
    "start_time": "2025-02-14T00:41:47.172Z"
   },
   {
    "duration": 22,
    "start_time": "2025-02-14T00:42:10.253Z"
   },
   {
    "duration": 8,
    "start_time": "2025-02-14T00:42:37.585Z"
   },
   {
    "duration": 71,
    "start_time": "2025-02-14T00:46:20.707Z"
   },
   {
    "duration": 13,
    "start_time": "2025-02-14T00:48:10.640Z"
   },
   {
    "duration": 3,
    "start_time": "2025-02-14T00:51:52.744Z"
   },
   {
    "duration": 7,
    "start_time": "2025-02-14T00:52:15.298Z"
   },
   {
    "duration": 1076,
    "start_time": "2025-02-14T00:52:40.528Z"
   },
   {
    "duration": 528,
    "start_time": "2025-02-14T00:52:41.606Z"
   },
   {
    "duration": 19,
    "start_time": "2025-02-14T00:52:42.140Z"
   },
   {
    "duration": 17,
    "start_time": "2025-02-14T00:52:42.161Z"
   },
   {
    "duration": 15,
    "start_time": "2025-02-14T00:52:42.180Z"
   },
   {
    "duration": 38,
    "start_time": "2025-02-14T00:52:42.197Z"
   },
   {
    "duration": 4,
    "start_time": "2025-02-14T00:52:42.237Z"
   },
   {
    "duration": 176,
    "start_time": "2025-02-14T00:52:42.244Z"
   },
   {
    "duration": 3068,
    "start_time": "2025-02-14T00:52:42.431Z"
   },
   {
    "duration": 1177,
    "start_time": "2025-02-14T00:52:45.501Z"
   },
   {
    "duration": 1451,
    "start_time": "2025-02-14T00:52:46.680Z"
   },
   {
    "duration": 12,
    "start_time": "2025-02-14T00:52:48.133Z"
   },
   {
    "duration": 15,
    "start_time": "2025-02-14T00:52:48.147Z"
   },
   {
    "duration": 11,
    "start_time": "2025-02-14T00:52:48.165Z"
   },
   {
    "duration": 11,
    "start_time": "2025-02-14T00:52:48.178Z"
   },
   {
    "duration": 5,
    "start_time": "2025-02-14T00:52:48.190Z"
   },
   {
    "duration": 4,
    "start_time": "2025-02-14T00:52:48.232Z"
   },
   {
    "duration": 145,
    "start_time": "2025-02-14T00:52:48.239Z"
   },
   {
    "duration": 52981,
    "start_time": "2025-02-14T00:52:48.385Z"
   },
   {
    "duration": 7,
    "start_time": "2025-02-14T00:53:41.368Z"
   },
   {
    "duration": 23,
    "start_time": "2025-02-14T00:53:41.377Z"
   },
   {
    "duration": 29,
    "start_time": "2025-02-14T00:53:41.402Z"
   },
   {
    "duration": 355,
    "start_time": "2025-02-14T00:53:41.433Z"
   },
   {
    "duration": 0,
    "start_time": "2025-02-14T00:53:41.789Z"
   },
   {
    "duration": 0,
    "start_time": "2025-02-14T00:53:41.791Z"
   },
   {
    "duration": 217,
    "start_time": "2025-02-14T00:54:13.231Z"
   },
   {
    "duration": 95,
    "start_time": "2025-02-14T00:58:16.517Z"
   },
   {
    "duration": 1075,
    "start_time": "2025-02-14T00:58:33.641Z"
   },
   {
    "duration": 550,
    "start_time": "2025-02-14T00:58:34.719Z"
   },
   {
    "duration": 19,
    "start_time": "2025-02-14T00:58:35.271Z"
   },
   {
    "duration": 15,
    "start_time": "2025-02-14T00:58:35.292Z"
   },
   {
    "duration": 36,
    "start_time": "2025-02-14T00:58:35.309Z"
   },
   {
    "duration": 10,
    "start_time": "2025-02-14T00:58:35.347Z"
   },
   {
    "duration": 4,
    "start_time": "2025-02-14T00:58:35.359Z"
   },
   {
    "duration": 188,
    "start_time": "2025-02-14T00:58:35.364Z"
   },
   {
    "duration": 3035,
    "start_time": "2025-02-14T00:58:35.554Z"
   },
   {
    "duration": 1219,
    "start_time": "2025-02-14T00:58:38.592Z"
   },
   {
    "duration": 1421,
    "start_time": "2025-02-14T00:58:39.813Z"
   },
   {
    "duration": 9,
    "start_time": "2025-02-14T00:58:41.236Z"
   },
   {
    "duration": 18,
    "start_time": "2025-02-14T00:58:41.246Z"
   },
   {
    "duration": 10,
    "start_time": "2025-02-14T00:58:41.266Z"
   },
   {
    "duration": 9,
    "start_time": "2025-02-14T00:58:41.278Z"
   },
   {
    "duration": 6,
    "start_time": "2025-02-14T00:58:41.289Z"
   },
   {
    "duration": 36,
    "start_time": "2025-02-14T00:58:41.296Z"
   },
   {
    "duration": 111,
    "start_time": "2025-02-14T00:58:41.334Z"
   },
   {
    "duration": 53121,
    "start_time": "2025-02-14T00:58:41.447Z"
   },
   {
    "duration": 527,
    "start_time": "2025-02-14T00:59:34.570Z"
   },
   {
    "duration": 1,
    "start_time": "2025-02-14T00:59:35.098Z"
   },
   {
    "duration": 0,
    "start_time": "2025-02-14T00:59:35.099Z"
   },
   {
    "duration": 0,
    "start_time": "2025-02-14T00:59:35.100Z"
   },
   {
    "duration": 0,
    "start_time": "2025-02-14T00:59:35.101Z"
   },
   {
    "duration": 0,
    "start_time": "2025-02-14T00:59:35.104Z"
   },
   {
    "duration": 108,
    "start_time": "2025-02-14T01:04:07.356Z"
   },
   {
    "duration": 995,
    "start_time": "2025-02-14T01:09:39.171Z"
   },
   {
    "duration": 521,
    "start_time": "2025-02-14T01:09:40.168Z"
   },
   {
    "duration": 20,
    "start_time": "2025-02-14T01:09:40.691Z"
   },
   {
    "duration": 23,
    "start_time": "2025-02-14T01:09:40.714Z"
   },
   {
    "duration": 15,
    "start_time": "2025-02-14T01:09:40.739Z"
   },
   {
    "duration": 9,
    "start_time": "2025-02-14T01:09:40.756Z"
   },
   {
    "duration": 4,
    "start_time": "2025-02-14T01:09:40.766Z"
   },
   {
    "duration": 192,
    "start_time": "2025-02-14T01:09:40.772Z"
   },
   {
    "duration": 3031,
    "start_time": "2025-02-14T01:09:40.966Z"
   },
   {
    "duration": 1167,
    "start_time": "2025-02-14T01:09:44.000Z"
   },
   {
    "duration": 1448,
    "start_time": "2025-02-14T01:09:45.169Z"
   },
   {
    "duration": 12,
    "start_time": "2025-02-14T01:09:46.619Z"
   },
   {
    "duration": 15,
    "start_time": "2025-02-14T01:09:46.632Z"
   },
   {
    "duration": 12,
    "start_time": "2025-02-14T01:09:46.649Z"
   },
   {
    "duration": 9,
    "start_time": "2025-02-14T01:09:46.662Z"
   },
   {
    "duration": 5,
    "start_time": "2025-02-14T01:09:46.673Z"
   },
   {
    "duration": 3,
    "start_time": "2025-02-14T01:09:46.680Z"
   },
   {
    "duration": 137,
    "start_time": "2025-02-14T01:09:46.685Z"
   },
   {
    "duration": 53159,
    "start_time": "2025-02-14T01:09:46.824Z"
   },
   {
    "duration": 558,
    "start_time": "2025-02-14T01:10:39.985Z"
   },
   {
    "duration": 0,
    "start_time": "2025-02-14T01:10:40.544Z"
   },
   {
    "duration": 0,
    "start_time": "2025-02-14T01:10:40.545Z"
   },
   {
    "duration": 0,
    "start_time": "2025-02-14T01:10:40.546Z"
   },
   {
    "duration": 0,
    "start_time": "2025-02-14T01:10:40.548Z"
   },
   {
    "duration": 0,
    "start_time": "2025-02-14T01:10:40.548Z"
   },
   {
    "duration": 114,
    "start_time": "2025-02-14T01:11:10.067Z"
   },
   {
    "duration": 61,
    "start_time": "2025-02-14T01:12:31.687Z"
   },
   {
    "duration": 134,
    "start_time": "2025-02-14T01:13:45.115Z"
   },
   {
    "duration": 246,
    "start_time": "2025-02-14T01:14:58.153Z"
   },
   {
    "duration": 74,
    "start_time": "2025-02-14T01:18:54.988Z"
   },
   {
    "duration": 1053,
    "start_time": "2025-02-14T01:26:16.663Z"
   },
   {
    "duration": 526,
    "start_time": "2025-02-14T01:26:17.718Z"
   },
   {
    "duration": 19,
    "start_time": "2025-02-14T01:26:18.245Z"
   },
   {
    "duration": 15,
    "start_time": "2025-02-14T01:26:18.265Z"
   },
   {
    "duration": 15,
    "start_time": "2025-02-14T01:26:18.283Z"
   },
   {
    "duration": 34,
    "start_time": "2025-02-14T01:26:18.299Z"
   },
   {
    "duration": 4,
    "start_time": "2025-02-14T01:26:18.335Z"
   },
   {
    "duration": 174,
    "start_time": "2025-02-14T01:26:18.341Z"
   },
   {
    "duration": 3042,
    "start_time": "2025-02-14T01:26:18.517Z"
   },
   {
    "duration": 1184,
    "start_time": "2025-02-14T01:26:21.561Z"
   },
   {
    "duration": 1471,
    "start_time": "2025-02-14T01:26:22.748Z"
   },
   {
    "duration": 14,
    "start_time": "2025-02-14T01:26:24.222Z"
   },
   {
    "duration": 15,
    "start_time": "2025-02-14T01:26:24.238Z"
   },
   {
    "duration": 10,
    "start_time": "2025-02-14T01:26:24.257Z"
   },
   {
    "duration": 9,
    "start_time": "2025-02-14T01:26:24.269Z"
   },
   {
    "duration": 5,
    "start_time": "2025-02-14T01:26:24.280Z"
   },
   {
    "duration": 3,
    "start_time": "2025-02-14T01:26:24.287Z"
   },
   {
    "duration": 139,
    "start_time": "2025-02-14T01:26:24.292Z"
   },
   {
    "duration": 52917,
    "start_time": "2025-02-14T01:26:24.433Z"
   },
   {
    "duration": 351,
    "start_time": "2025-02-14T01:27:17.352Z"
   },
   {
    "duration": 0,
    "start_time": "2025-02-14T01:27:17.705Z"
   },
   {
    "duration": 0,
    "start_time": "2025-02-14T01:27:17.706Z"
   },
   {
    "duration": 0,
    "start_time": "2025-02-14T01:27:17.707Z"
   },
   {
    "duration": 0,
    "start_time": "2025-02-14T01:27:17.708Z"
   },
   {
    "duration": 0,
    "start_time": "2025-02-14T01:27:17.709Z"
   },
   {
    "duration": 1053,
    "start_time": "2025-02-14T02:09:24.249Z"
   },
   {
    "duration": 539,
    "start_time": "2025-02-14T02:09:25.304Z"
   },
   {
    "duration": 20,
    "start_time": "2025-02-14T02:09:25.845Z"
   },
   {
    "duration": 18,
    "start_time": "2025-02-14T02:09:25.867Z"
   },
   {
    "duration": 20,
    "start_time": "2025-02-14T02:09:25.889Z"
   },
   {
    "duration": 9,
    "start_time": "2025-02-14T02:09:25.932Z"
   },
   {
    "duration": 4,
    "start_time": "2025-02-14T02:09:25.943Z"
   },
   {
    "duration": 194,
    "start_time": "2025-02-14T02:09:25.949Z"
   },
   {
    "duration": 3033,
    "start_time": "2025-02-14T02:09:26.145Z"
   },
   {
    "duration": 1223,
    "start_time": "2025-02-14T02:09:29.180Z"
   },
   {
    "duration": 1430,
    "start_time": "2025-02-14T02:09:30.405Z"
   },
   {
    "duration": 11,
    "start_time": "2025-02-14T02:09:31.836Z"
   },
   {
    "duration": 17,
    "start_time": "2025-02-14T02:09:31.848Z"
   },
   {
    "duration": 11,
    "start_time": "2025-02-14T02:09:31.869Z"
   },
   {
    "duration": 9,
    "start_time": "2025-02-14T02:09:31.882Z"
   },
   {
    "duration": 39,
    "start_time": "2025-02-14T02:09:31.892Z"
   },
   {
    "duration": 3,
    "start_time": "2025-02-14T02:09:31.933Z"
   },
   {
    "duration": 115,
    "start_time": "2025-02-14T02:09:31.938Z"
   },
   {
    "duration": 52958,
    "start_time": "2025-02-14T02:09:32.055Z"
   },
   {
    "duration": 23,
    "start_time": "2025-02-14T02:15:55.242Z"
   },
   {
    "duration": 12,
    "start_time": "2025-02-14T02:15:55.267Z"
   },
   {
    "duration": 372,
    "start_time": "2025-02-14T02:15:55.281Z"
   },
   {
    "duration": 0,
    "start_time": "2025-02-14T02:15:55.654Z"
   },
   {
    "duration": 0,
    "start_time": "2025-02-14T02:15:55.656Z"
   },
   {
    "duration": 2693,
    "start_time": "2025-02-14T03:27:12.232Z"
   },
   {
    "duration": 629,
    "start_time": "2025-02-14T03:27:14.927Z"
   },
   {
    "duration": 27,
    "start_time": "2025-02-14T03:27:15.558Z"
   },
   {
    "duration": 15,
    "start_time": "2025-02-14T03:27:15.588Z"
   },
   {
    "duration": 15,
    "start_time": "2025-02-14T03:27:15.605Z"
   },
   {
    "duration": 9,
    "start_time": "2025-02-14T03:27:15.622Z"
   },
   {
    "duration": 4,
    "start_time": "2025-02-14T03:27:15.633Z"
   },
   {
    "duration": 253,
    "start_time": "2025-02-14T03:27:15.639Z"
   },
   {
    "duration": 3008,
    "start_time": "2025-02-14T03:27:15.893Z"
   },
   {
    "duration": 1155,
    "start_time": "2025-02-14T03:27:18.905Z"
   },
   {
    "duration": 1408,
    "start_time": "2025-02-14T03:27:20.062Z"
   },
   {
    "duration": 9,
    "start_time": "2025-02-14T03:27:21.472Z"
   },
   {
    "duration": 16,
    "start_time": "2025-02-14T03:27:21.482Z"
   },
   {
    "duration": 11,
    "start_time": "2025-02-14T03:27:21.500Z"
   },
   {
    "duration": 11,
    "start_time": "2025-02-14T03:27:21.513Z"
   },
   {
    "duration": 5,
    "start_time": "2025-02-14T03:27:21.525Z"
   },
   {
    "duration": 39,
    "start_time": "2025-02-14T03:27:21.533Z"
   },
   {
    "duration": 117,
    "start_time": "2025-02-14T03:27:21.576Z"
   },
   {
    "duration": 52747,
    "start_time": "2025-02-14T03:27:21.695Z"
   },
   {
    "duration": 2780,
    "start_time": "2025-02-14T22:56:34.519Z"
   },
   {
    "duration": 594,
    "start_time": "2025-02-14T22:56:37.301Z"
   },
   {
    "duration": 18,
    "start_time": "2025-02-14T22:56:37.896Z"
   },
   {
    "duration": 15,
    "start_time": "2025-02-14T22:56:37.916Z"
   },
   {
    "duration": 16,
    "start_time": "2025-02-14T22:56:37.932Z"
   },
   {
    "duration": 9,
    "start_time": "2025-02-14T22:56:37.950Z"
   },
   {
    "duration": 4,
    "start_time": "2025-02-14T22:56:37.960Z"
   },
   {
    "duration": 204,
    "start_time": "2025-02-14T22:56:37.965Z"
   },
   {
    "duration": 3082,
    "start_time": "2025-02-14T22:56:38.170Z"
   },
   {
    "duration": 1169,
    "start_time": "2025-02-14T22:56:41.256Z"
   },
   {
    "duration": 1377,
    "start_time": "2025-02-14T22:56:42.428Z"
   },
   {
    "duration": 9,
    "start_time": "2025-02-14T22:56:43.807Z"
   },
   {
    "duration": 16,
    "start_time": "2025-02-14T22:56:43.818Z"
   },
   {
    "duration": 11,
    "start_time": "2025-02-14T22:56:43.836Z"
   },
   {
    "duration": 10,
    "start_time": "2025-02-14T22:56:43.848Z"
   },
   {
    "duration": 5,
    "start_time": "2025-02-14T22:56:43.859Z"
   },
   {
    "duration": 40,
    "start_time": "2025-02-14T22:56:43.866Z"
   },
   {
    "duration": 106,
    "start_time": "2025-02-14T22:56:43.908Z"
   },
   {
    "duration": 52849,
    "start_time": "2025-02-14T22:56:44.016Z"
   },
   {
    "duration": 328422,
    "start_time": "2025-02-14T22:57:36.867Z"
   },
   {
    "duration": 34,
    "start_time": "2025-02-14T23:03:05.291Z"
   },
   {
    "duration": 14,
    "start_time": "2025-02-14T23:03:05.327Z"
   },
   {
    "duration": 335,
    "start_time": "2025-02-14T23:03:05.343Z"
   },
   {
    "duration": 0,
    "start_time": "2025-02-14T23:03:05.679Z"
   },
   {
    "duration": 0,
    "start_time": "2025-02-14T23:03:05.681Z"
   },
   {
    "duration": 213,
    "start_time": "2025-02-14T23:31:17.856Z"
   },
   {
    "duration": 17,
    "start_time": "2025-02-14T23:32:18.501Z"
   },
   {
    "duration": 126,
    "start_time": "2025-02-14T23:32:51.930Z"
   },
   {
    "duration": 88,
    "start_time": "2025-02-14T23:33:56.645Z"
   },
   {
    "duration": 116,
    "start_time": "2025-02-14T23:35:09.999Z"
   },
   {
    "duration": 54,
    "start_time": "2025-02-14T23:37:41.184Z"
   },
   {
    "duration": 12,
    "start_time": "2025-02-14T23:40:37.817Z"
   },
   {
    "duration": 15,
    "start_time": "2025-02-14T23:41:38.899Z"
   },
   {
    "duration": 30,
    "start_time": "2025-02-14T23:47:41.373Z"
   },
   {
    "duration": 492977,
    "start_time": "2025-02-14T23:51:06.819Z"
   },
   {
    "duration": 21,
    "start_time": "2025-02-14T23:59:41.002Z"
   },
   {
    "duration": 11,
    "start_time": "2025-02-14T23:59:43.678Z"
   },
   {
    "duration": 125,
    "start_time": "2025-02-14T23:59:48.521Z"
   },
   {
    "duration": 12,
    "start_time": "2025-02-15T00:06:14.061Z"
   },
   {
    "duration": 36,
    "start_time": "2025-02-15T00:06:39.690Z"
   },
   {
    "duration": 111,
    "start_time": "2025-02-15T00:06:58.631Z"
   },
   {
    "duration": 13,
    "start_time": "2025-02-15T00:10:07.609Z"
   },
   {
    "duration": 34,
    "start_time": "2025-02-15T00:10:27.922Z"
   },
   {
    "duration": 5,
    "start_time": "2025-02-15T00:10:43.082Z"
   },
   {
    "duration": 7,
    "start_time": "2025-02-15T00:10:55.836Z"
   },
   {
    "duration": 9,
    "start_time": "2025-02-15T00:11:12.461Z"
   },
   {
    "duration": 14,
    "start_time": "2025-02-15T00:11:16.171Z"
   },
   {
    "duration": 4031,
    "start_time": "2025-02-16T20:02:31.393Z"
   },
   {
    "duration": 778,
    "start_time": "2025-02-16T20:02:35.426Z"
   },
   {
    "duration": 26,
    "start_time": "2025-02-16T20:02:36.210Z"
   },
   {
    "duration": 22,
    "start_time": "2025-02-16T20:02:36.240Z"
   },
   {
    "duration": 24,
    "start_time": "2025-02-16T20:02:36.264Z"
   },
   {
    "duration": 13,
    "start_time": "2025-02-16T20:02:36.290Z"
   },
   {
    "duration": 5,
    "start_time": "2025-02-16T20:02:36.332Z"
   },
   {
    "duration": 234,
    "start_time": "2025-02-16T20:02:36.339Z"
   },
   {
    "duration": 3740,
    "start_time": "2025-02-16T20:02:36.575Z"
   },
   {
    "duration": 1581,
    "start_time": "2025-02-16T20:02:40.318Z"
   },
   {
    "duration": 1818,
    "start_time": "2025-02-16T20:02:41.902Z"
   },
   {
    "duration": 16,
    "start_time": "2025-02-16T20:02:43.722Z"
   },
   {
    "duration": 19,
    "start_time": "2025-02-16T20:02:43.740Z"
   },
   {
    "duration": 13,
    "start_time": "2025-02-16T20:02:43.761Z"
   },
   {
    "duration": 12,
    "start_time": "2025-02-16T20:02:43.776Z"
   },
   {
    "duration": 7,
    "start_time": "2025-02-16T20:02:43.791Z"
   },
   {
    "duration": 33,
    "start_time": "2025-02-16T20:02:43.799Z"
   },
   {
    "duration": 164,
    "start_time": "2025-02-16T20:02:43.835Z"
   },
   {
    "duration": 68494,
    "start_time": "2025-02-16T20:02:44.001Z"
   },
   {
    "duration": 406967,
    "start_time": "2025-02-16T20:03:52.505Z"
   },
   {
    "duration": 697,
    "start_time": "2025-02-16T20:10:39.474Z"
   },
   {
    "duration": 0,
    "start_time": "2025-02-16T20:10:40.173Z"
   },
   {
    "duration": 0,
    "start_time": "2025-02-16T20:10:40.175Z"
   },
   {
    "duration": 0,
    "start_time": "2025-02-16T20:10:40.177Z"
   },
   {
    "duration": 0,
    "start_time": "2025-02-16T20:10:40.178Z"
   },
   {
    "duration": 0,
    "start_time": "2025-02-16T20:10:40.180Z"
   },
   {
    "duration": 216,
    "start_time": "2025-02-16T20:14:37.198Z"
   },
   {
    "duration": 259,
    "start_time": "2025-02-16T20:19:36.803Z"
   },
   {
    "duration": 41709,
    "start_time": "2025-02-16T20:21:41.757Z"
   },
   {
    "duration": 17,
    "start_time": "2025-02-16T20:23:05.698Z"
   },
   {
    "duration": 68,
    "start_time": "2025-02-16T20:23:08.466Z"
   },
   {
    "duration": 19,
    "start_time": "2025-02-16T20:23:11.842Z"
   },
   {
    "duration": 26,
    "start_time": "2025-02-16T20:23:22.100Z"
   },
   {
    "duration": 65,
    "start_time": "2025-02-16T20:23:25.873Z"
   },
   {
    "duration": 26,
    "start_time": "2025-02-16T20:23:57.454Z"
   },
   {
    "duration": 101,
    "start_time": "2025-02-16T20:25:03.079Z"
   },
   {
    "duration": 96,
    "start_time": "2025-02-16T20:26:57.833Z"
   },
   {
    "duration": 73,
    "start_time": "2025-02-16T20:28:26.889Z"
   },
   {
    "duration": 6,
    "start_time": "2025-02-16T20:28:40.767Z"
   },
   {
    "duration": 8,
    "start_time": "2025-02-16T20:28:44.426Z"
   },
   {
    "duration": 13,
    "start_time": "2025-02-16T20:28:48.669Z"
   },
   {
    "duration": 25,
    "start_time": "2025-02-16T20:32:30.107Z"
   },
   {
    "duration": 216232,
    "start_time": "2025-02-16T20:32:54.878Z"
   },
   {
    "duration": 189,
    "start_time": "2025-02-16T20:37:13.029Z"
   },
   {
    "duration": 10,
    "start_time": "2025-02-16T20:37:57.625Z"
   },
   {
    "duration": 549,
    "start_time": "2025-02-16T20:38:35.111Z"
   },
   {
    "duration": 6,
    "start_time": "2025-02-16T20:39:00.158Z"
   },
   {
    "duration": 10,
    "start_time": "2025-02-16T20:42:00.487Z"
   },
   {
    "duration": 1471,
    "start_time": "2025-02-16T21:05:18.452Z"
   },
   {
    "duration": 743,
    "start_time": "2025-02-16T21:05:19.929Z"
   },
   {
    "duration": 30,
    "start_time": "2025-02-16T21:05:20.678Z"
   },
   {
    "duration": 25,
    "start_time": "2025-02-16T21:05:20.714Z"
   },
   {
    "duration": 24,
    "start_time": "2025-02-16T21:05:20.744Z"
   },
   {
    "duration": 17,
    "start_time": "2025-02-16T21:05:20.773Z"
   },
   {
    "duration": 7,
    "start_time": "2025-02-16T21:05:20.796Z"
   },
   {
    "duration": 240,
    "start_time": "2025-02-16T21:05:20.809Z"
   },
   {
    "duration": 3814,
    "start_time": "2025-02-16T21:05:21.055Z"
   },
   {
    "duration": 1649,
    "start_time": "2025-02-16T21:05:24.876Z"
   },
   {
    "duration": 1689,
    "start_time": "2025-02-16T21:05:26.532Z"
   },
   {
    "duration": 15,
    "start_time": "2025-02-16T21:05:28.226Z"
   },
   {
    "duration": 23,
    "start_time": "2025-02-16T21:05:28.247Z"
   },
   {
    "duration": 18,
    "start_time": "2025-02-16T21:05:28.275Z"
   },
   {
    "duration": 15,
    "start_time": "2025-02-16T21:05:28.299Z"
   },
   {
    "duration": 11,
    "start_time": "2025-02-16T21:05:28.319Z"
   },
   {
    "duration": 6,
    "start_time": "2025-02-16T21:05:28.334Z"
   },
   {
    "duration": 137,
    "start_time": "2025-02-16T21:05:28.346Z"
   },
   {
    "duration": 63067,
    "start_time": "2025-02-16T21:05:28.488Z"
   },
   {
    "duration": 517,
    "start_time": "2025-02-16T21:06:31.557Z"
   },
   {
    "duration": 0,
    "start_time": "2025-02-16T21:06:32.076Z"
   },
   {
    "duration": 0,
    "start_time": "2025-02-16T21:06:32.078Z"
   },
   {
    "duration": 0,
    "start_time": "2025-02-16T21:06:32.079Z"
   },
   {
    "duration": 0,
    "start_time": "2025-02-16T21:06:32.080Z"
   },
   {
    "duration": 31,
    "start_time": "2025-02-16T21:07:05.713Z"
   },
   {
    "duration": 32,
    "start_time": "2025-02-16T21:10:48.510Z"
   },
   {
    "duration": 27,
    "start_time": "2025-02-16T21:10:52.954Z"
   },
   {
    "duration": 43,
    "start_time": "2025-02-16T21:11:25.366Z"
   },
   {
    "duration": 3,
    "start_time": "2025-02-16T21:18:31.316Z"
   },
   {
    "duration": 132,
    "start_time": "2025-02-16T21:18:49.096Z"
   },
   {
    "duration": 59405,
    "start_time": "2025-02-16T21:19:06.288Z"
   },
   {
    "duration": 648641,
    "start_time": "2025-02-16T21:20:16.009Z"
   },
   {
    "duration": 46,
    "start_time": "2025-02-16T21:31:04.653Z"
   },
   {
    "duration": 0,
    "start_time": "2025-02-16T21:31:04.701Z"
   },
   {
    "duration": 0,
    "start_time": "2025-02-16T21:31:04.702Z"
   },
   {
    "duration": 9,
    "start_time": "2025-02-16T21:47:46.674Z"
   },
   {
    "duration": 12133,
    "start_time": "2025-02-16T21:48:04.809Z"
   },
   {
    "duration": 85,
    "start_time": "2025-02-16T21:48:27.136Z"
   },
   {
    "duration": 6,
    "start_time": "2025-02-16T21:48:39.828Z"
   },
   {
    "duration": 7,
    "start_time": "2025-02-16T21:49:07.057Z"
   },
   {
    "duration": 13624,
    "start_time": "2025-02-16T21:49:42.430Z"
   },
   {
    "duration": 2541,
    "start_time": "2025-02-16T21:54:52.218Z"
   },
   {
    "duration": 377,
    "start_time": "2025-02-16T21:55:17.873Z"
   },
   {
    "duration": 465732,
    "start_time": "2025-02-16T21:55:34.030Z"
   },
   {
    "duration": 19764,
    "start_time": "2025-02-16T22:03:19.768Z"
   },
   {
    "duration": 9,
    "start_time": "2025-02-16T22:03:39.534Z"
   },
   {
    "duration": 485,
    "start_time": "2025-02-16T22:41:25.464Z"
   },
   {
    "duration": 14,
    "start_time": "2025-02-16T22:41:51.394Z"
   },
   {
    "duration": 20931,
    "start_time": "2025-02-16T22:42:14.333Z"
   },
   {
    "duration": 0,
    "start_time": "2025-02-16T22:42:35.266Z"
   },
   {
    "duration": 3,
    "start_time": "2025-02-16T22:45:40.018Z"
   },
   {
    "duration": 1197,
    "start_time": "2025-02-16T22:54:54.282Z"
   },
   {
    "duration": 635,
    "start_time": "2025-02-16T22:54:55.482Z"
   },
   {
    "duration": 43,
    "start_time": "2025-02-16T22:54:56.119Z"
   },
   {
    "duration": 19,
    "start_time": "2025-02-16T22:54:56.170Z"
   },
   {
    "duration": 16,
    "start_time": "2025-02-16T22:54:56.191Z"
   },
   {
    "duration": 11,
    "start_time": "2025-02-16T22:54:56.209Z"
   },
   {
    "duration": 6,
    "start_time": "2025-02-16T22:54:56.234Z"
   },
   {
    "duration": 228,
    "start_time": "2025-02-16T22:54:56.242Z"
   },
   {
    "duration": 3241,
    "start_time": "2025-02-16T22:54:56.472Z"
   },
   {
    "duration": 1266,
    "start_time": "2025-02-16T22:54:59.718Z"
   },
   {
    "duration": 1486,
    "start_time": "2025-02-16T22:55:00.986Z"
   },
   {
    "duration": 12,
    "start_time": "2025-02-16T22:55:02.474Z"
   },
   {
    "duration": 20,
    "start_time": "2025-02-16T22:55:02.488Z"
   },
   {
    "duration": 15,
    "start_time": "2025-02-16T22:55:02.510Z"
   },
   {
    "duration": 23,
    "start_time": "2025-02-16T22:55:02.527Z"
   },
   {
    "duration": 19,
    "start_time": "2025-02-16T22:55:02.552Z"
   },
   {
    "duration": 4,
    "start_time": "2025-02-16T22:55:02.573Z"
   },
   {
    "duration": 119,
    "start_time": "2025-02-16T22:55:02.578Z"
   },
   {
    "duration": 55593,
    "start_time": "2025-02-16T22:55:02.699Z"
   },
   {
    "duration": 448,
    "start_time": "2025-02-16T22:55:58.294Z"
   },
   {
    "duration": 0,
    "start_time": "2025-02-16T22:55:58.747Z"
   },
   {
    "duration": 0,
    "start_time": "2025-02-16T22:55:58.749Z"
   },
   {
    "duration": 0,
    "start_time": "2025-02-16T22:55:58.755Z"
   },
   {
    "duration": 0,
    "start_time": "2025-02-16T22:55:58.759Z"
   },
   {
    "duration": 0,
    "start_time": "2025-02-16T22:55:58.763Z"
   },
   {
    "duration": 0,
    "start_time": "2025-02-16T22:55:58.763Z"
   },
   {
    "duration": 603,
    "start_time": "2025-02-16T23:02:27.971Z"
   },
   {
    "duration": 13,
    "start_time": "2025-02-16T23:03:08.194Z"
   },
   {
    "duration": 451,
    "start_time": "2025-02-16T23:03:28.211Z"
   },
   {
    "duration": 16,
    "start_time": "2025-02-16T23:03:55.686Z"
   },
   {
    "duration": 146,
    "start_time": "2025-02-16T23:17:03.784Z"
   },
   {
    "duration": 21,
    "start_time": "2025-02-16T23:19:33.467Z"
   },
   {
    "duration": 3,
    "start_time": "2025-02-16T23:21:49.895Z"
   },
   {
    "duration": 109,
    "start_time": "2025-02-16T23:22:15.350Z"
   },
   {
    "duration": 127,
    "start_time": "2025-02-16T23:22:43.266Z"
   },
   {
    "duration": 55895,
    "start_time": "2025-02-16T23:23:07.460Z"
   },
   {
    "duration": 0,
    "start_time": "2025-02-16T23:24:03.357Z"
   },
   {
    "duration": 59816,
    "start_time": "2025-02-16T23:24:13.061Z"
   },
   {
    "duration": 6407,
    "start_time": "2025-02-16T23:25:12.880Z"
   },
   {
    "duration": 0,
    "start_time": "2025-02-16T23:25:19.289Z"
   },
   {
    "duration": 83,
    "start_time": "2025-02-16T23:25:58.239Z"
   },
   {
    "duration": 6219,
    "start_time": "2025-02-16T23:26:06.213Z"
   },
   {
    "duration": 6,
    "start_time": "2025-02-16T23:28:16.846Z"
   },
   {
    "duration": 4,
    "start_time": "2025-02-16T23:29:19.093Z"
   },
   {
    "duration": 2,
    "start_time": "2025-02-16T23:29:44.750Z"
   },
   {
    "duration": 19,
    "start_time": "2025-02-16T23:29:57.067Z"
   },
   {
    "duration": 86,
    "start_time": "2025-02-16T23:30:39.355Z"
   },
   {
    "duration": 4,
    "start_time": "2025-02-16T23:31:59.394Z"
   },
   {
    "duration": 20,
    "start_time": "2025-02-16T23:32:19.821Z"
   },
   {
    "duration": 14,
    "start_time": "2025-02-16T23:33:18.132Z"
   },
   {
    "duration": 21,
    "start_time": "2025-02-16T23:33:20.383Z"
   },
   {
    "duration": 18,
    "start_time": "2025-02-16T23:33:35.205Z"
   },
   {
    "duration": 11,
    "start_time": "2025-02-16T23:34:23.378Z"
   },
   {
    "duration": 2,
    "start_time": "2025-02-16T23:34:33.781Z"
   },
   {
    "duration": 12,
    "start_time": "2025-02-16T23:34:50.990Z"
   },
   {
    "duration": 1063,
    "start_time": "2025-02-16T23:36:04.239Z"
   },
   {
    "duration": 564,
    "start_time": "2025-02-16T23:36:05.305Z"
   },
   {
    "duration": 23,
    "start_time": "2025-02-16T23:36:05.871Z"
   },
   {
    "duration": 15,
    "start_time": "2025-02-16T23:36:05.897Z"
   },
   {
    "duration": 32,
    "start_time": "2025-02-16T23:36:05.915Z"
   },
   {
    "duration": 9,
    "start_time": "2025-02-16T23:36:05.949Z"
   },
   {
    "duration": 4,
    "start_time": "2025-02-16T23:36:05.960Z"
   },
   {
    "duration": 193,
    "start_time": "2025-02-16T23:36:05.965Z"
   },
   {
    "duration": 3034,
    "start_time": "2025-02-16T23:36:06.160Z"
   },
   {
    "duration": 1268,
    "start_time": "2025-02-16T23:36:09.196Z"
   },
   {
    "duration": 1380,
    "start_time": "2025-02-16T23:36:10.466Z"
   },
   {
    "duration": 11,
    "start_time": "2025-02-16T23:36:11.848Z"
   },
   {
    "duration": 18,
    "start_time": "2025-02-16T23:36:11.860Z"
   },
   {
    "duration": 13,
    "start_time": "2025-02-16T23:36:11.882Z"
   },
   {
    "duration": 40,
    "start_time": "2025-02-16T23:36:11.897Z"
   },
   {
    "duration": 7,
    "start_time": "2025-02-16T23:36:11.939Z"
   },
   {
    "duration": 6,
    "start_time": "2025-02-16T23:36:11.949Z"
   },
   {
    "duration": 121,
    "start_time": "2025-02-16T23:36:11.957Z"
   },
   {
    "duration": 695,
    "start_time": "2025-02-16T23:36:12.080Z"
   },
   {
    "duration": 0,
    "start_time": "2025-02-16T23:36:12.779Z"
   },
   {
    "duration": 0,
    "start_time": "2025-02-16T23:36:12.783Z"
   },
   {
    "duration": 0,
    "start_time": "2025-02-16T23:36:12.784Z"
   },
   {
    "duration": 0,
    "start_time": "2025-02-16T23:36:12.785Z"
   },
   {
    "duration": 0,
    "start_time": "2025-02-16T23:36:12.786Z"
   },
   {
    "duration": 1358,
    "start_time": "2025-02-16T23:42:45.227Z"
   },
   {
    "duration": 761,
    "start_time": "2025-02-16T23:42:46.588Z"
   },
   {
    "duration": 23,
    "start_time": "2025-02-16T23:42:47.351Z"
   },
   {
    "duration": 25,
    "start_time": "2025-02-16T23:42:47.376Z"
   },
   {
    "duration": 29,
    "start_time": "2025-02-16T23:42:47.404Z"
   },
   {
    "duration": 10,
    "start_time": "2025-02-16T23:42:47.434Z"
   },
   {
    "duration": 4,
    "start_time": "2025-02-16T23:42:47.446Z"
   },
   {
    "duration": 224,
    "start_time": "2025-02-16T23:42:47.452Z"
   },
   {
    "duration": 3811,
    "start_time": "2025-02-16T23:42:47.679Z"
   },
   {
    "duration": 1640,
    "start_time": "2025-02-16T23:42:51.492Z"
   },
   {
    "duration": 1556,
    "start_time": "2025-02-16T23:42:53.138Z"
   },
   {
    "duration": 11,
    "start_time": "2025-02-16T23:42:54.696Z"
   },
   {
    "duration": 30,
    "start_time": "2025-02-16T23:42:54.710Z"
   },
   {
    "duration": 11,
    "start_time": "2025-02-16T23:42:54.745Z"
   },
   {
    "duration": 12,
    "start_time": "2025-02-16T23:42:54.758Z"
   },
   {
    "duration": 10,
    "start_time": "2025-02-16T23:42:54.772Z"
   },
   {
    "duration": 5,
    "start_time": "2025-02-16T23:42:54.784Z"
   },
   {
    "duration": 140,
    "start_time": "2025-02-16T23:42:54.791Z"
   },
   {
    "duration": 657,
    "start_time": "2025-02-16T23:42:54.933Z"
   },
   {
    "duration": 0,
    "start_time": "2025-02-16T23:42:55.592Z"
   },
   {
    "duration": 0,
    "start_time": "2025-02-16T23:42:55.594Z"
   },
   {
    "duration": 0,
    "start_time": "2025-02-16T23:42:55.595Z"
   },
   {
    "duration": 0,
    "start_time": "2025-02-16T23:42:55.597Z"
   },
   {
    "duration": 0,
    "start_time": "2025-02-16T23:42:55.598Z"
   },
   {
    "duration": 209,
    "start_time": "2025-02-16T23:47:41.172Z"
   },
   {
    "duration": 217,
    "start_time": "2025-02-16T23:49:18.455Z"
   },
   {
    "duration": 1098,
    "start_time": "2025-02-16T23:49:48.863Z"
   },
   {
    "duration": 565,
    "start_time": "2025-02-16T23:49:49.964Z"
   },
   {
    "duration": 21,
    "start_time": "2025-02-16T23:49:50.531Z"
   },
   {
    "duration": 20,
    "start_time": "2025-02-16T23:49:50.554Z"
   },
   {
    "duration": 19,
    "start_time": "2025-02-16T23:49:50.578Z"
   },
   {
    "duration": 38,
    "start_time": "2025-02-16T23:49:50.599Z"
   },
   {
    "duration": 5,
    "start_time": "2025-02-16T23:49:50.639Z"
   },
   {
    "duration": 194,
    "start_time": "2025-02-16T23:49:50.646Z"
   },
   {
    "duration": 3563,
    "start_time": "2025-02-16T23:49:50.843Z"
   },
   {
    "duration": 1541,
    "start_time": "2025-02-16T23:49:54.414Z"
   },
   {
    "duration": 1710,
    "start_time": "2025-02-16T23:49:55.957Z"
   },
   {
    "duration": 22,
    "start_time": "2025-02-16T23:49:57.680Z"
   },
   {
    "duration": 27,
    "start_time": "2025-02-16T23:49:57.708Z"
   },
   {
    "duration": 14,
    "start_time": "2025-02-16T23:49:57.746Z"
   },
   {
    "duration": 14,
    "start_time": "2025-02-16T23:49:57.763Z"
   },
   {
    "duration": 9,
    "start_time": "2025-02-16T23:49:57.784Z"
   },
   {
    "duration": 5,
    "start_time": "2025-02-16T23:49:57.795Z"
   },
   {
    "duration": 134,
    "start_time": "2025-02-16T23:49:57.802Z"
   },
   {
    "duration": 868,
    "start_time": "2025-02-16T23:49:57.938Z"
   },
   {
    "duration": 0,
    "start_time": "2025-02-16T23:49:58.808Z"
   },
   {
    "duration": 0,
    "start_time": "2025-02-16T23:49:58.810Z"
   },
   {
    "duration": 0,
    "start_time": "2025-02-16T23:49:58.811Z"
   },
   {
    "duration": 0,
    "start_time": "2025-02-16T23:49:58.812Z"
   },
   {
    "duration": 0,
    "start_time": "2025-02-16T23:49:58.814Z"
   },
   {
    "duration": 549694,
    "start_time": "2025-02-16T23:50:09.885Z"
   },
   {
    "duration": 10150,
    "start_time": "2025-02-16T23:59:19.581Z"
   },
   {
    "duration": 15,
    "start_time": "2025-02-16T23:59:29.733Z"
   },
   {
    "duration": 0,
    "start_time": "2025-02-16T23:59:29.750Z"
   },
   {
    "duration": 0,
    "start_time": "2025-02-16T23:59:29.751Z"
   },
   {
    "duration": 0,
    "start_time": "2025-02-16T23:59:29.754Z"
   },
   {
    "duration": 233,
    "start_time": "2025-02-17T00:00:51.501Z"
   },
   {
    "duration": 28,
    "start_time": "2025-02-17T00:01:14.064Z"
   },
   {
    "duration": 7,
    "start_time": "2025-02-17T00:02:03.015Z"
   },
   {
    "duration": 19,
    "start_time": "2025-02-17T00:02:23.951Z"
   },
   {
    "duration": 10,
    "start_time": "2025-02-17T00:03:01.319Z"
   },
   {
    "duration": 411,
    "start_time": "2025-02-17T00:03:11.242Z"
   },
   {
    "duration": 206,
    "start_time": "2025-02-17T00:03:52.570Z"
   },
   {
    "duration": 4,
    "start_time": "2025-02-17T00:05:10.028Z"
   },
   {
    "duration": 10,
    "start_time": "2025-02-17T00:05:51.982Z"
   },
   {
    "duration": 9,
    "start_time": "2025-02-17T00:06:36.306Z"
   },
   {
    "duration": 12,
    "start_time": "2025-02-17T00:06:44.909Z"
   },
   {
    "duration": 3,
    "start_time": "2025-02-17T00:07:19.074Z"
   },
   {
    "duration": 164,
    "start_time": "2025-02-17T00:07:32.974Z"
   },
   {
    "duration": 4,
    "start_time": "2025-02-17T00:14:10.673Z"
   },
   {
    "duration": 14,
    "start_time": "2025-02-17T00:14:53.242Z"
   },
   {
    "duration": 69,
    "start_time": "2025-02-17T00:15:09.179Z"
   },
   {
    "duration": 4,
    "start_time": "2025-02-17T00:19:18.945Z"
   },
   {
    "duration": 81,
    "start_time": "2025-02-17T00:19:52.321Z"
   },
   {
    "duration": 965,
    "start_time": "2025-02-17T00:21:44.810Z"
   },
   {
    "duration": 18,
    "start_time": "2025-02-17T00:23:21.862Z"
   },
   {
    "duration": 69018,
    "start_time": "2025-02-17T00:25:11.971Z"
   },
   {
    "duration": 486672,
    "start_time": "2025-02-17T00:27:40.476Z"
   },
   {
    "duration": 288,
    "start_time": "2025-02-17T00:41:11.287Z"
   },
   {
    "duration": 29,
    "start_time": "2025-02-17T00:41:34.095Z"
   },
   {
    "duration": 279,
    "start_time": "2025-02-17T00:41:47.872Z"
   },
   {
    "duration": 4,
    "start_time": "2025-02-17T00:43:01.109Z"
   },
   {
    "duration": 5,
    "start_time": "2025-02-17T00:43:11.496Z"
   },
   {
    "duration": 61,
    "start_time": "2025-02-17T00:43:24.788Z"
   },
   {
    "duration": 7,
    "start_time": "2025-02-17T00:44:51.974Z"
   },
   {
    "duration": 5,
    "start_time": "2025-02-17T00:45:05.727Z"
   },
   {
    "duration": 65,
    "start_time": "2025-02-17T00:45:16.726Z"
   },
   {
    "duration": 5,
    "start_time": "2025-02-17T00:46:18.529Z"
   },
   {
    "duration": 6,
    "start_time": "2025-02-17T00:46:33.846Z"
   },
   {
    "duration": 25730,
    "start_time": "2025-02-17T00:46:48.591Z"
   },
   {
    "duration": 203,
    "start_time": "2025-02-17T00:47:14.323Z"
   },
   {
    "duration": 20,
    "start_time": "2025-02-17T00:51:12.285Z"
   },
   {
    "duration": 8,
    "start_time": "2025-02-17T00:54:44.948Z"
   },
   {
    "duration": 6,
    "start_time": "2025-02-17T00:55:05.837Z"
   },
   {
    "duration": 13,
    "start_time": "2025-02-17T00:56:13.065Z"
   },
   {
    "duration": 13,
    "start_time": "2025-02-17T00:56:32.903Z"
   },
   {
    "duration": 3,
    "start_time": "2025-02-17T00:56:52.050Z"
   },
   {
    "duration": 16,
    "start_time": "2025-02-17T01:14:38.284Z"
   },
   {
    "duration": 102,
    "start_time": "2025-02-17T01:14:54.536Z"
   },
   {
    "duration": 24,
    "start_time": "2025-02-17T01:16:08.543Z"
   },
   {
    "duration": 3,
    "start_time": "2025-02-17T01:16:28.950Z"
   },
   {
    "duration": 53,
    "start_time": "2025-02-17T01:16:44.291Z"
   },
   {
    "duration": 3,
    "start_time": "2025-02-17T01:16:58.859Z"
   },
   {
    "duration": 50,
    "start_time": "2025-02-17T01:17:06.871Z"
   },
   {
    "duration": 1123,
    "start_time": "2025-02-17T01:17:33.802Z"
   },
   {
    "duration": 535,
    "start_time": "2025-02-17T01:17:34.932Z"
   },
   {
    "duration": 25,
    "start_time": "2025-02-17T01:17:35.471Z"
   },
   {
    "duration": 35,
    "start_time": "2025-02-17T01:17:35.499Z"
   },
   {
    "duration": 21,
    "start_time": "2025-02-17T01:17:35.536Z"
   },
   {
    "duration": 12,
    "start_time": "2025-02-17T01:17:35.560Z"
   },
   {
    "duration": 15,
    "start_time": "2025-02-17T01:17:35.578Z"
   },
   {
    "duration": 191,
    "start_time": "2025-02-17T01:17:35.595Z"
   },
   {
    "duration": 3627,
    "start_time": "2025-02-17T01:17:35.788Z"
   },
   {
    "duration": 1369,
    "start_time": "2025-02-17T01:17:39.419Z"
   },
   {
    "duration": 1480,
    "start_time": "2025-02-17T01:17:40.790Z"
   },
   {
    "duration": 11,
    "start_time": "2025-02-17T01:17:42.272Z"
   },
   {
    "duration": 19,
    "start_time": "2025-02-17T01:17:42.285Z"
   },
   {
    "duration": 35,
    "start_time": "2025-02-17T01:17:42.307Z"
   },
   {
    "duration": 11,
    "start_time": "2025-02-17T01:17:42.344Z"
   },
   {
    "duration": 7,
    "start_time": "2025-02-17T01:17:42.357Z"
   },
   {
    "duration": 4,
    "start_time": "2025-02-17T01:17:42.366Z"
   },
   {
    "duration": 25,
    "start_time": "2025-02-17T01:17:42.372Z"
   },
   {
    "duration": 61032,
    "start_time": "2025-02-17T01:17:42.431Z"
   },
   {
    "duration": 482599,
    "start_time": "2025-02-17T01:18:43.465Z"
   },
   {
    "duration": 286,
    "start_time": "2025-02-17T01:26:46.066Z"
   },
   {
    "duration": 31,
    "start_time": "2025-02-17T01:26:46.354Z"
   },
   {
    "duration": 3,
    "start_time": "2025-02-17T01:26:46.388Z"
   },
   {
    "duration": 4,
    "start_time": "2025-02-17T01:26:46.393Z"
   },
   {
    "duration": 5,
    "start_time": "2025-02-17T01:26:46.399Z"
   },
   {
    "duration": 25580,
    "start_time": "2025-02-17T01:26:46.406Z"
   },
   {
    "duration": 197,
    "start_time": "2025-02-17T01:27:11.988Z"
   },
   {
    "duration": 7,
    "start_time": "2025-02-17T01:27:12.189Z"
   },
   {
    "duration": 5,
    "start_time": "2025-02-17T01:27:12.198Z"
   },
   {
    "duration": 26,
    "start_time": "2025-02-17T01:27:12.205Z"
   },
   {
    "duration": 2,
    "start_time": "2025-02-17T01:27:12.233Z"
   },
   {
    "duration": 2726,
    "start_time": "2025-02-17T10:39:28.831Z"
   },
   {
    "duration": 592,
    "start_time": "2025-02-17T10:39:31.560Z"
   },
   {
    "duration": 20,
    "start_time": "2025-02-17T10:39:32.153Z"
   },
   {
    "duration": 15,
    "start_time": "2025-02-17T10:39:32.175Z"
   },
   {
    "duration": 33,
    "start_time": "2025-02-17T10:39:32.191Z"
   },
   {
    "duration": 9,
    "start_time": "2025-02-17T10:39:32.226Z"
   },
   {
    "duration": 3,
    "start_time": "2025-02-17T10:39:32.237Z"
   },
   {
    "duration": 195,
    "start_time": "2025-02-17T10:39:32.242Z"
   },
   {
    "duration": 3003,
    "start_time": "2025-02-17T10:39:32.439Z"
   },
   {
    "duration": 1143,
    "start_time": "2025-02-17T10:39:35.445Z"
   },
   {
    "duration": 1350,
    "start_time": "2025-02-17T10:39:36.590Z"
   },
   {
    "duration": 10,
    "start_time": "2025-02-17T10:39:37.941Z"
   },
   {
    "duration": 14,
    "start_time": "2025-02-17T10:39:37.954Z"
   },
   {
    "duration": 10,
    "start_time": "2025-02-17T10:39:37.970Z"
   },
   {
    "duration": 9,
    "start_time": "2025-02-17T10:39:38.119Z"
   },
   {
    "duration": 6,
    "start_time": "2025-02-17T10:39:44.038Z"
   },
   {
    "duration": 20,
    "start_time": "2025-02-17T10:40:04.654Z"
   },
   {
    "duration": 3,
    "start_time": "2025-02-17T10:48:16.556Z"
   },
   {
    "duration": 18,
    "start_time": "2025-02-17T10:48:18.812Z"
   },
   {
    "duration": 26,
    "start_time": "2025-02-17T10:48:25.604Z"
   },
   {
    "duration": 3,
    "start_time": "2025-02-17T10:48:29.289Z"
   },
   {
    "duration": 3,
    "start_time": "2025-02-17T10:48:29.788Z"
   },
   {
    "duration": 5,
    "start_time": "2025-02-17T10:48:32.761Z"
   },
   {
    "duration": 229,
    "start_time": "2025-02-17T10:48:32.918Z"
   },
   {
    "duration": 19,
    "start_time": "2025-02-17T10:48:39.576Z"
   },
   {
    "duration": 5,
    "start_time": "2025-02-17T10:53:35.235Z"
   },
   {
    "duration": 3,
    "start_time": "2025-02-17T10:56:16.122Z"
   },
   {
    "duration": 162,
    "start_time": "2025-02-18T20:33:33.867Z"
   },
   {
    "duration": 2683,
    "start_time": "2025-02-18T20:34:01.240Z"
   },
   {
    "duration": 592,
    "start_time": "2025-02-18T20:34:03.926Z"
   },
   {
    "duration": 18,
    "start_time": "2025-02-18T20:34:04.520Z"
   },
   {
    "duration": 14,
    "start_time": "2025-02-18T20:34:04.541Z"
   },
   {
    "duration": 25,
    "start_time": "2025-02-18T20:34:04.558Z"
   },
   {
    "duration": 9,
    "start_time": "2025-02-18T20:34:04.584Z"
   },
   {
    "duration": 4,
    "start_time": "2025-02-18T20:34:04.595Z"
   },
   {
    "duration": 194,
    "start_time": "2025-02-18T20:34:04.601Z"
   },
   {
    "duration": 3032,
    "start_time": "2025-02-18T20:34:04.797Z"
   },
   {
    "duration": 1154,
    "start_time": "2025-02-18T20:34:07.832Z"
   },
   {
    "duration": 1397,
    "start_time": "2025-02-18T20:34:08.988Z"
   },
   {
    "duration": 9,
    "start_time": "2025-02-18T20:34:10.387Z"
   },
   {
    "duration": 14,
    "start_time": "2025-02-18T20:34:10.399Z"
   },
   {
    "duration": 10,
    "start_time": "2025-02-18T20:34:10.416Z"
   },
   {
    "duration": 7,
    "start_time": "2025-02-18T20:34:10.430Z"
   },
   {
    "duration": 34,
    "start_time": "2025-02-18T20:34:10.439Z"
   },
   {
    "duration": 3,
    "start_time": "2025-02-18T20:34:10.474Z"
   },
   {
    "duration": 19,
    "start_time": "2025-02-18T20:34:10.479Z"
   },
   {
    "duration": 1024,
    "start_time": "2025-02-18T20:36:20.190Z"
   },
   {
    "duration": 542,
    "start_time": "2025-02-18T20:36:21.217Z"
   },
   {
    "duration": 25,
    "start_time": "2025-02-18T20:36:21.761Z"
   },
   {
    "duration": 21,
    "start_time": "2025-02-18T20:36:21.789Z"
   },
   {
    "duration": 15,
    "start_time": "2025-02-18T20:36:21.813Z"
   },
   {
    "duration": 9,
    "start_time": "2025-02-18T20:36:21.830Z"
   },
   {
    "duration": 31,
    "start_time": "2025-02-18T20:36:21.840Z"
   },
   {
    "duration": 181,
    "start_time": "2025-02-18T20:36:21.872Z"
   },
   {
    "duration": 3030,
    "start_time": "2025-02-18T20:36:22.055Z"
   },
   {
    "duration": 1236,
    "start_time": "2025-02-18T20:36:25.087Z"
   },
   {
    "duration": 1424,
    "start_time": "2025-02-18T20:36:26.326Z"
   },
   {
    "duration": 18,
    "start_time": "2025-02-18T20:36:27.752Z"
   },
   {
    "duration": 14,
    "start_time": "2025-02-18T20:36:27.772Z"
   },
   {
    "duration": 10,
    "start_time": "2025-02-18T20:36:27.790Z"
   },
   {
    "duration": 8,
    "start_time": "2025-02-18T20:36:27.802Z"
   },
   {
    "duration": 5,
    "start_time": "2025-02-18T20:36:27.811Z"
   },
   {
    "duration": 3,
    "start_time": "2025-02-18T20:36:27.818Z"
   },
   {
    "duration": 56,
    "start_time": "2025-02-18T20:36:27.823Z"
   },
   {
    "duration": 73767,
    "start_time": "2025-02-18T20:36:27.880Z"
   },
   {
    "duration": 564662,
    "start_time": "2025-02-18T20:37:41.649Z"
   },
   {
    "duration": 333,
    "start_time": "2025-02-18T20:47:06.313Z"
   },
   {
    "duration": 41,
    "start_time": "2025-02-18T20:47:06.648Z"
   },
   {
    "duration": 3,
    "start_time": "2025-02-18T20:47:06.691Z"
   },
   {
    "duration": 5,
    "start_time": "2025-02-18T20:47:06.695Z"
   },
   {
    "duration": 5,
    "start_time": "2025-02-18T20:47:06.702Z"
   },
   {
    "duration": 30800,
    "start_time": "2025-02-18T20:47:06.709Z"
   },
   {
    "duration": 210,
    "start_time": "2025-02-18T20:47:37.511Z"
   },
   {
    "duration": 7,
    "start_time": "2025-02-18T20:47:37.723Z"
   },
   {
    "duration": 6,
    "start_time": "2025-02-18T20:47:37.732Z"
   },
   {
    "duration": 30,
    "start_time": "2025-02-18T20:47:37.740Z"
   },
   {
    "duration": 3,
    "start_time": "2025-02-18T20:47:37.771Z"
   },
   {
    "duration": 3,
    "start_time": "2025-02-18T20:52:52.042Z"
   },
   {
    "duration": 246,
    "start_time": "2025-02-18T20:54:22.301Z"
   },
   {
    "duration": 19,
    "start_time": "2025-02-18T20:56:42.198Z"
   },
   {
    "duration": 17,
    "start_time": "2025-02-18T20:56:47.985Z"
   },
   {
    "duration": 18,
    "start_time": "2025-02-18T20:58:36.123Z"
   },
   {
    "duration": 19,
    "start_time": "2025-02-18T21:00:29.013Z"
   },
   {
    "duration": 20,
    "start_time": "2025-02-18T21:01:58.375Z"
   },
   {
    "duration": 18,
    "start_time": "2025-02-18T21:02:08.690Z"
   },
   {
    "duration": 26,
    "start_time": "2025-02-18T21:03:23.937Z"
   },
   {
    "duration": 227,
    "start_time": "2025-02-18T21:16:02.579Z"
   },
   {
    "duration": 229,
    "start_time": "2025-02-18T21:16:28.691Z"
   },
   {
    "duration": 24,
    "start_time": "2025-02-18T21:18:54.821Z"
   },
   {
    "duration": 23,
    "start_time": "2025-02-18T21:19:39.546Z"
   },
   {
    "duration": 56618,
    "start_time": "2025-02-18T21:24:50.596Z"
   },
   {
    "duration": 9316,
    "start_time": "2025-02-18T22:30:18.114Z"
   },
   {
    "duration": 231640,
    "start_time": "2025-02-18T22:32:29.421Z"
   },
   {
    "duration": 50,
    "start_time": "2025-02-18T22:38:08.617Z"
   },
   {
    "duration": 11,
    "start_time": "2025-02-18T22:40:22.507Z"
   },
   {
    "duration": 1048,
    "start_time": "2025-02-18T22:50:50.903Z"
   },
   {
    "duration": 500,
    "start_time": "2025-02-18T22:50:51.954Z"
   },
   {
    "duration": 26,
    "start_time": "2025-02-18T22:50:52.456Z"
   },
   {
    "duration": 15,
    "start_time": "2025-02-18T22:50:52.484Z"
   },
   {
    "duration": 15,
    "start_time": "2025-02-18T22:50:52.502Z"
   },
   {
    "duration": 9,
    "start_time": "2025-02-18T22:50:52.518Z"
   },
   {
    "duration": 4,
    "start_time": "2025-02-18T22:50:52.529Z"
   },
   {
    "duration": 207,
    "start_time": "2025-02-18T22:50:52.534Z"
   },
   {
    "duration": 3069,
    "start_time": "2025-02-18T22:50:52.743Z"
   },
   {
    "duration": 1178,
    "start_time": "2025-02-18T22:50:55.814Z"
   },
   {
    "duration": 1477,
    "start_time": "2025-02-18T22:50:56.994Z"
   },
   {
    "duration": 8,
    "start_time": "2025-02-18T22:50:58.473Z"
   },
   {
    "duration": 17,
    "start_time": "2025-02-18T22:50:58.483Z"
   },
   {
    "duration": 11,
    "start_time": "2025-02-18T22:50:58.505Z"
   },
   {
    "duration": 6,
    "start_time": "2025-02-18T22:50:58.518Z"
   },
   {
    "duration": 3,
    "start_time": "2025-02-18T22:50:58.525Z"
   },
   {
    "duration": 60,
    "start_time": "2025-02-18T22:50:58.530Z"
   },
   {
    "duration": 331,
    "start_time": "2025-02-18T22:50:58.591Z"
   },
   {
    "duration": 0,
    "start_time": "2025-02-18T22:50:58.924Z"
   },
   {
    "duration": 0,
    "start_time": "2025-02-18T22:50:58.925Z"
   },
   {
    "duration": 0,
    "start_time": "2025-02-18T22:50:58.926Z"
   },
   {
    "duration": 0,
    "start_time": "2025-02-18T22:50:58.927Z"
   },
   {
    "duration": 0,
    "start_time": "2025-02-18T22:50:58.928Z"
   },
   {
    "duration": 0,
    "start_time": "2025-02-18T22:50:58.929Z"
   },
   {
    "duration": 0,
    "start_time": "2025-02-18T22:50:58.930Z"
   },
   {
    "duration": 0,
    "start_time": "2025-02-18T22:50:58.931Z"
   },
   {
    "duration": 0,
    "start_time": "2025-02-18T22:50:58.932Z"
   },
   {
    "duration": 0,
    "start_time": "2025-02-18T22:50:58.932Z"
   },
   {
    "duration": 0,
    "start_time": "2025-02-18T22:50:58.934Z"
   },
   {
    "duration": 988,
    "start_time": "2025-02-18T22:51:45.957Z"
   },
   {
    "duration": 501,
    "start_time": "2025-02-18T22:51:46.947Z"
   },
   {
    "duration": 24,
    "start_time": "2025-02-18T22:51:47.450Z"
   },
   {
    "duration": 17,
    "start_time": "2025-02-18T22:51:47.477Z"
   },
   {
    "duration": 16,
    "start_time": "2025-02-18T22:51:47.497Z"
   },
   {
    "duration": 8,
    "start_time": "2025-02-18T22:51:47.515Z"
   },
   {
    "duration": 3,
    "start_time": "2025-02-18T22:51:47.525Z"
   },
   {
    "duration": 204,
    "start_time": "2025-02-18T22:51:47.530Z"
   },
   {
    "duration": 2952,
    "start_time": "2025-02-18T22:51:47.736Z"
   },
   {
    "duration": 1202,
    "start_time": "2025-02-18T22:51:50.690Z"
   },
   {
    "duration": 1424,
    "start_time": "2025-02-18T22:51:51.894Z"
   },
   {
    "duration": 8,
    "start_time": "2025-02-18T22:51:53.320Z"
   },
   {
    "duration": 16,
    "start_time": "2025-02-18T22:51:53.330Z"
   },
   {
    "duration": 11,
    "start_time": "2025-02-18T22:51:53.369Z"
   },
   {
    "duration": 6,
    "start_time": "2025-02-18T22:51:53.382Z"
   },
   {
    "duration": 3,
    "start_time": "2025-02-18T22:51:53.390Z"
   },
   {
    "duration": 23,
    "start_time": "2025-02-18T22:51:53.395Z"
   },
   {
    "duration": 348,
    "start_time": "2025-02-18T22:51:53.419Z"
   },
   {
    "duration": 0,
    "start_time": "2025-02-18T22:51:53.769Z"
   },
   {
    "duration": 0,
    "start_time": "2025-02-18T22:51:53.770Z"
   },
   {
    "duration": 0,
    "start_time": "2025-02-18T22:51:53.772Z"
   },
   {
    "duration": 0,
    "start_time": "2025-02-18T22:51:53.773Z"
   },
   {
    "duration": 0,
    "start_time": "2025-02-18T22:51:53.774Z"
   },
   {
    "duration": 0,
    "start_time": "2025-02-18T22:51:53.775Z"
   },
   {
    "duration": 0,
    "start_time": "2025-02-18T22:51:53.776Z"
   },
   {
    "duration": 0,
    "start_time": "2025-02-18T22:51:53.777Z"
   },
   {
    "duration": 0,
    "start_time": "2025-02-18T22:51:53.778Z"
   },
   {
    "duration": 0,
    "start_time": "2025-02-18T22:51:53.779Z"
   },
   {
    "duration": 0,
    "start_time": "2025-02-18T22:51:53.780Z"
   },
   {
    "duration": 56728,
    "start_time": "2025-02-18T22:54:42.571Z"
   },
   {
    "duration": 18,
    "start_time": "2025-02-18T22:55:54.964Z"
   },
   {
    "duration": 9639,
    "start_time": "2025-02-18T22:56:43.118Z"
   },
   {
    "duration": 4,
    "start_time": "2025-02-18T22:58:46.194Z"
   },
   {
    "duration": 1076,
    "start_time": "2025-02-18T23:02:38.304Z"
   },
   {
    "duration": 611,
    "start_time": "2025-02-18T23:02:39.382Z"
   },
   {
    "duration": 21,
    "start_time": "2025-02-18T23:02:39.998Z"
   },
   {
    "duration": 21,
    "start_time": "2025-02-18T23:02:40.022Z"
   },
   {
    "duration": 15,
    "start_time": "2025-02-18T23:02:40.047Z"
   },
   {
    "duration": 25,
    "start_time": "2025-02-18T23:02:40.064Z"
   },
   {
    "duration": 5,
    "start_time": "2025-02-18T23:02:40.107Z"
   },
   {
    "duration": 209,
    "start_time": "2025-02-18T23:02:40.114Z"
   },
   {
    "duration": 3276,
    "start_time": "2025-02-18T23:02:40.325Z"
   },
   {
    "duration": 1392,
    "start_time": "2025-02-18T23:02:43.602Z"
   },
   {
    "duration": 1513,
    "start_time": "2025-02-18T23:02:45.005Z"
   },
   {
    "duration": 10,
    "start_time": "2025-02-18T23:02:46.520Z"
   },
   {
    "duration": 20,
    "start_time": "2025-02-18T23:02:46.538Z"
   },
   {
    "duration": 32,
    "start_time": "2025-02-18T23:02:46.562Z"
   },
   {
    "duration": 9,
    "start_time": "2025-02-18T23:02:46.606Z"
   },
   {
    "duration": 5,
    "start_time": "2025-02-18T23:02:46.617Z"
   },
   {
    "duration": 32,
    "start_time": "2025-02-18T23:02:46.624Z"
   },
   {
    "duration": 591,
    "start_time": "2025-02-18T23:02:46.658Z"
   },
   {
    "duration": 0,
    "start_time": "2025-02-18T23:02:47.251Z"
   },
   {
    "duration": 0,
    "start_time": "2025-02-18T23:02:47.252Z"
   },
   {
    "duration": 0,
    "start_time": "2025-02-18T23:02:47.253Z"
   },
   {
    "duration": 213,
    "start_time": "2025-02-18T23:04:14.687Z"
   },
   {
    "duration": 58432,
    "start_time": "2025-02-18T23:07:22.925Z"
   },
   {
    "duration": 241058,
    "start_time": "2025-02-18T23:08:30.651Z"
   },
   {
    "duration": 41,
    "start_time": "2025-02-18T23:12:46.067Z"
   },
   {
    "duration": 26,
    "start_time": "2025-02-18T23:12:58.519Z"
   },
   {
    "duration": 27,
    "start_time": "2025-02-18T23:13:49.813Z"
   },
   {
    "duration": 16,
    "start_time": "2025-02-18T23:15:43.282Z"
   },
   {
    "duration": 14,
    "start_time": "2025-02-18T23:16:45.238Z"
   },
   {
    "duration": 10,
    "start_time": "2025-02-18T23:29:43.166Z"
   }
  ],
  "kernelspec": {
   "display_name": "Python 3 (ipykernel)",
   "language": "python",
   "name": "python3"
  },
  "language_info": {
   "codemirror_mode": {
    "name": "ipython",
    "version": 3
   },
   "file_extension": ".py",
   "mimetype": "text/x-python",
   "name": "python",
   "nbconvert_exporter": "python",
   "pygments_lexer": "ipython3",
   "version": "3.9.19"
  },
  "toc": {
   "base_numbering": 1,
   "nav_menu": {},
   "number_sections": true,
   "sideBar": true,
   "skip_h1_title": true,
   "title_cell": "Table of Contents",
   "title_sidebar": "Contents",
   "toc_cell": false,
   "toc_position": {},
   "toc_section_display": true,
   "toc_window_display": false
  }
 },
 "nbformat": 4,
 "nbformat_minor": 2
}

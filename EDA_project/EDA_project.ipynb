{
 "cells": [
  {
   "cell_type": "markdown",
   "id": "15c00395",
   "metadata": {},
   "source": [
    "<div style=\"border:solid green 2px; padding: 20px\"> <h1 style=\"color:green; margin-bottom:20px\">Reviewer's comment v1</h1>\n",
    "\n",
    "Hello Dinesh!\n",
    "\n",
    "I'm happy to review your project today 🙌\n",
    "\n",
    "You can find my comments under the heading **«Review»**. I will categorize my comments in green, blue or red boxes like this:\n",
    "\n",
    "<div class=\"alert alert-success\">\n",
    "    <b>Success:</b> if everything is done successfully\n",
    "</div>\n",
    "<div class=\"alert alert-warning\">\n",
    "    <b>Remarks:</b> if I can give some recommendations or ways to improve the project\n",
    "</div>\n",
    "<div class=\"alert alert-danger\">\n",
    "    <b>Needs fixing:</b> if the block requires some corrections. Work can't be accepted with the red comments\n",
    "</div>\n",
    "\n",
    "Please don't remove my comments :) If you have any questions don't hesitate to respond to my comments in a different section. \n",
    "<div class=\"alert alert-info\"> <b>Student comments:</b> For example like this</div>    \n"
   ]
  },
  {
   "cell_type": "markdown",
   "id": "4b590deb",
   "metadata": {},
   "source": [
    "<div style=\"border:solid green 2px; padding: 20px\">\n",
    "<b>Reviewer's comment v1:</b>\n",
    "\n",
    "    \n",
    "<b>Overall Feedback</b>\n",
    "    \n",
    "Hello Dinesh,\n",
    "    \n",
    "Another project successfully completed - well done! 🏆 Your consistent effort and progress are truly commendable.\n",
    "\n",
    "Our team is here to help you keep pushing forward and honing your skills as you advance through the program.\n",
    "      \n",
    "You can find my more detailed notes within your project notebook in the `Reviewer's comment v1:` section.\n",
    "   \n",
    "Congratulations again on your accomplishment! Each project you complete adds to your growing expertise, and it’s exciting to see you make such great strides. Keep up the great work! 🎯"
   ]
  },
  {
   "cell_type": "markdown",
   "id": "b604a159",
   "metadata": {},
   "source": [
    "<div class=\"alert alert-block alert-warning\">\n",
    "<b>Reviewer's comment v1</b>\n",
    "    \n",
    "It would be immensely helpful if you can add some contextual information at the beginning of the notebook, covering:\n",
    "\n",
    "- A brief description of the project's objective.\n",
    "- An overview of the data you're working with.\n",
    "- Any expected outcomes or results you aim to achieve.\n",
    "\n",
    "Providing such context allows anyone reviewing or revisiting the notebook to quickly understand its purpose and the data being used, ensuring smoother collaboration and more intuitive navigation.\n",
    "\n",
    "</div>"
   ]
  },
  {
   "cell_type": "code",
   "execution_count": 1,
   "id": "fbf1adab",
   "metadata": {},
   "outputs": [],
   "source": [
    "import pandas as pd"
   ]
  },
  {
   "cell_type": "code",
   "execution_count": 2,
   "id": "ad36396d",
   "metadata": {},
   "outputs": [
    {
     "data": {
      "text/html": [
       "<div>\n",
       "<style scoped>\n",
       "    .dataframe tbody tr th:only-of-type {\n",
       "        vertical-align: middle;\n",
       "    }\n",
       "\n",
       "    .dataframe tbody tr th {\n",
       "        vertical-align: top;\n",
       "    }\n",
       "\n",
       "    .dataframe thead th {\n",
       "        text-align: right;\n",
       "    }\n",
       "</style>\n",
       "<table border=\"1\" class=\"dataframe\">\n",
       "  <thead>\n",
       "    <tr style=\"text-align: right;\">\n",
       "      <th></th>\n",
       "      <th>order_id</th>\n",
       "      <th>user_id</th>\n",
       "      <th>order_number</th>\n",
       "      <th>order_dow</th>\n",
       "      <th>order_hour_of_day</th>\n",
       "      <th>days_since_prior_order</th>\n",
       "    </tr>\n",
       "  </thead>\n",
       "  <tbody>\n",
       "    <tr>\n",
       "      <th>0</th>\n",
       "      <td>1515936</td>\n",
       "      <td>183418</td>\n",
       "      <td>11</td>\n",
       "      <td>6</td>\n",
       "      <td>13</td>\n",
       "      <td>30.0</td>\n",
       "    </tr>\n",
       "    <tr>\n",
       "      <th>1</th>\n",
       "      <td>1690866</td>\n",
       "      <td>163593</td>\n",
       "      <td>5</td>\n",
       "      <td>5</td>\n",
       "      <td>12</td>\n",
       "      <td>9.0</td>\n",
       "    </tr>\n",
       "    <tr>\n",
       "      <th>2</th>\n",
       "      <td>1454967</td>\n",
       "      <td>39980</td>\n",
       "      <td>4</td>\n",
       "      <td>5</td>\n",
       "      <td>19</td>\n",
       "      <td>2.0</td>\n",
       "    </tr>\n",
       "    <tr>\n",
       "      <th>3</th>\n",
       "      <td>1768857</td>\n",
       "      <td>82516</td>\n",
       "      <td>56</td>\n",
       "      <td>0</td>\n",
       "      <td>20</td>\n",
       "      <td>10.0</td>\n",
       "    </tr>\n",
       "    <tr>\n",
       "      <th>4</th>\n",
       "      <td>3007858</td>\n",
       "      <td>196724</td>\n",
       "      <td>2</td>\n",
       "      <td>4</td>\n",
       "      <td>12</td>\n",
       "      <td>17.0</td>\n",
       "    </tr>\n",
       "  </tbody>\n",
       "</table>\n",
       "</div>"
      ],
      "text/plain": [
       "   order_id  user_id  order_number  order_dow  order_hour_of_day  \\\n",
       "0   1515936   183418            11          6                 13   \n",
       "1   1690866   163593             5          5                 12   \n",
       "2   1454967    39980             4          5                 19   \n",
       "3   1768857    82516            56          0                 20   \n",
       "4   3007858   196724             2          4                 12   \n",
       "\n",
       "   days_since_prior_order  \n",
       "0                    30.0  \n",
       "1                     9.0  \n",
       "2                     2.0  \n",
       "3                    10.0  \n",
       "4                    17.0  "
      ]
     },
     "execution_count": 2,
     "metadata": {},
     "output_type": "execute_result"
    }
   ],
   "source": [
    "df_instacart_orders=pd.read_csv('/datasets/instacart_orders.csv',sep=';')\n",
    "df_instacart_orders.head()"
   ]
  },
  {
   "cell_type": "code",
   "execution_count": 3,
   "id": "ad6a1efa",
   "metadata": {},
   "outputs": [
    {
     "data": {
      "text/html": [
       "<div>\n",
       "<style scoped>\n",
       "    .dataframe tbody tr th:only-of-type {\n",
       "        vertical-align: middle;\n",
       "    }\n",
       "\n",
       "    .dataframe tbody tr th {\n",
       "        vertical-align: top;\n",
       "    }\n",
       "\n",
       "    .dataframe thead th {\n",
       "        text-align: right;\n",
       "    }\n",
       "</style>\n",
       "<table border=\"1\" class=\"dataframe\">\n",
       "  <thead>\n",
       "    <tr style=\"text-align: right;\">\n",
       "      <th></th>\n",
       "      <th>product_id</th>\n",
       "      <th>product_name</th>\n",
       "      <th>aisle_id</th>\n",
       "      <th>department_id</th>\n",
       "    </tr>\n",
       "  </thead>\n",
       "  <tbody>\n",
       "    <tr>\n",
       "      <th>0</th>\n",
       "      <td>1</td>\n",
       "      <td>Chocolate Sandwich Cookies</td>\n",
       "      <td>61</td>\n",
       "      <td>19</td>\n",
       "    </tr>\n",
       "    <tr>\n",
       "      <th>1</th>\n",
       "      <td>2</td>\n",
       "      <td>All-Seasons Salt</td>\n",
       "      <td>104</td>\n",
       "      <td>13</td>\n",
       "    </tr>\n",
       "    <tr>\n",
       "      <th>2</th>\n",
       "      <td>3</td>\n",
       "      <td>Robust Golden Unsweetened Oolong Tea</td>\n",
       "      <td>94</td>\n",
       "      <td>7</td>\n",
       "    </tr>\n",
       "    <tr>\n",
       "      <th>3</th>\n",
       "      <td>4</td>\n",
       "      <td>Smart Ones Classic Favorites Mini Rigatoni Wit...</td>\n",
       "      <td>38</td>\n",
       "      <td>1</td>\n",
       "    </tr>\n",
       "    <tr>\n",
       "      <th>4</th>\n",
       "      <td>5</td>\n",
       "      <td>Green Chile Anytime Sauce</td>\n",
       "      <td>5</td>\n",
       "      <td>13</td>\n",
       "    </tr>\n",
       "  </tbody>\n",
       "</table>\n",
       "</div>"
      ],
      "text/plain": [
       "   product_id                                       product_name  aisle_id  \\\n",
       "0           1                         Chocolate Sandwich Cookies        61   \n",
       "1           2                                   All-Seasons Salt       104   \n",
       "2           3               Robust Golden Unsweetened Oolong Tea        94   \n",
       "3           4  Smart Ones Classic Favorites Mini Rigatoni Wit...        38   \n",
       "4           5                          Green Chile Anytime Sauce         5   \n",
       "\n",
       "   department_id  \n",
       "0             19  \n",
       "1             13  \n",
       "2              7  \n",
       "3              1  \n",
       "4             13  "
      ]
     },
     "execution_count": 3,
     "metadata": {},
     "output_type": "execute_result"
    }
   ],
   "source": [
    "df_products=pd.read_csv('/datasets/products.csv',sep=';')\n",
    "df_products.head()"
   ]
  },
  {
   "cell_type": "code",
   "execution_count": 4,
   "id": "5130e05e",
   "metadata": {},
   "outputs": [
    {
     "data": {
      "text/html": [
       "<div>\n",
       "<style scoped>\n",
       "    .dataframe tbody tr th:only-of-type {\n",
       "        vertical-align: middle;\n",
       "    }\n",
       "\n",
       "    .dataframe tbody tr th {\n",
       "        vertical-align: top;\n",
       "    }\n",
       "\n",
       "    .dataframe thead th {\n",
       "        text-align: right;\n",
       "    }\n",
       "</style>\n",
       "<table border=\"1\" class=\"dataframe\">\n",
       "  <thead>\n",
       "    <tr style=\"text-align: right;\">\n",
       "      <th></th>\n",
       "      <th>order_id</th>\n",
       "      <th>product_id</th>\n",
       "      <th>add_to_cart_order</th>\n",
       "      <th>reordered</th>\n",
       "    </tr>\n",
       "  </thead>\n",
       "  <tbody>\n",
       "    <tr>\n",
       "      <th>0</th>\n",
       "      <td>2141543</td>\n",
       "      <td>11440</td>\n",
       "      <td>17.0</td>\n",
       "      <td>0</td>\n",
       "    </tr>\n",
       "    <tr>\n",
       "      <th>1</th>\n",
       "      <td>567889</td>\n",
       "      <td>1560</td>\n",
       "      <td>1.0</td>\n",
       "      <td>1</td>\n",
       "    </tr>\n",
       "    <tr>\n",
       "      <th>2</th>\n",
       "      <td>2261212</td>\n",
       "      <td>26683</td>\n",
       "      <td>1.0</td>\n",
       "      <td>1</td>\n",
       "    </tr>\n",
       "    <tr>\n",
       "      <th>3</th>\n",
       "      <td>491251</td>\n",
       "      <td>8670</td>\n",
       "      <td>35.0</td>\n",
       "      <td>1</td>\n",
       "    </tr>\n",
       "    <tr>\n",
       "      <th>4</th>\n",
       "      <td>2571142</td>\n",
       "      <td>1940</td>\n",
       "      <td>5.0</td>\n",
       "      <td>1</td>\n",
       "    </tr>\n",
       "  </tbody>\n",
       "</table>\n",
       "</div>"
      ],
      "text/plain": [
       "   order_id  product_id  add_to_cart_order  reordered\n",
       "0   2141543       11440               17.0          0\n",
       "1    567889        1560                1.0          1\n",
       "2   2261212       26683                1.0          1\n",
       "3    491251        8670               35.0          1\n",
       "4   2571142        1940                5.0          1"
      ]
     },
     "execution_count": 4,
     "metadata": {},
     "output_type": "execute_result"
    }
   ],
   "source": [
    "df_order_products=pd.read_csv('/datasets/order_products.csv',sep=';')\n",
    "df_order_products.head()"
   ]
  },
  {
   "cell_type": "code",
   "execution_count": 5,
   "id": "d8370c05",
   "metadata": {},
   "outputs": [
    {
     "data": {
      "text/html": [
       "<div>\n",
       "<style scoped>\n",
       "    .dataframe tbody tr th:only-of-type {\n",
       "        vertical-align: middle;\n",
       "    }\n",
       "\n",
       "    .dataframe tbody tr th {\n",
       "        vertical-align: top;\n",
       "    }\n",
       "\n",
       "    .dataframe thead th {\n",
       "        text-align: right;\n",
       "    }\n",
       "</style>\n",
       "<table border=\"1\" class=\"dataframe\">\n",
       "  <thead>\n",
       "    <tr style=\"text-align: right;\">\n",
       "      <th></th>\n",
       "      <th>aisle_id</th>\n",
       "      <th>aisle</th>\n",
       "    </tr>\n",
       "  </thead>\n",
       "  <tbody>\n",
       "    <tr>\n",
       "      <th>0</th>\n",
       "      <td>1</td>\n",
       "      <td>prepared soups salads</td>\n",
       "    </tr>\n",
       "    <tr>\n",
       "      <th>1</th>\n",
       "      <td>2</td>\n",
       "      <td>specialty cheeses</td>\n",
       "    </tr>\n",
       "    <tr>\n",
       "      <th>2</th>\n",
       "      <td>3</td>\n",
       "      <td>energy granola bars</td>\n",
       "    </tr>\n",
       "    <tr>\n",
       "      <th>3</th>\n",
       "      <td>4</td>\n",
       "      <td>instant foods</td>\n",
       "    </tr>\n",
       "    <tr>\n",
       "      <th>4</th>\n",
       "      <td>5</td>\n",
       "      <td>marinades meat preparation</td>\n",
       "    </tr>\n",
       "  </tbody>\n",
       "</table>\n",
       "</div>"
      ],
      "text/plain": [
       "   aisle_id                       aisle\n",
       "0         1       prepared soups salads\n",
       "1         2           specialty cheeses\n",
       "2         3         energy granola bars\n",
       "3         4               instant foods\n",
       "4         5  marinades meat preparation"
      ]
     },
     "execution_count": 5,
     "metadata": {},
     "output_type": "execute_result"
    }
   ],
   "source": [
    "df_aisles=pd.read_csv('/datasets/aisles.csv',sep=';')\n",
    "df_aisles.head()"
   ]
  },
  {
   "cell_type": "code",
   "execution_count": 6,
   "id": "59e2090f",
   "metadata": {},
   "outputs": [
    {
     "data": {
      "text/html": [
       "<div>\n",
       "<style scoped>\n",
       "    .dataframe tbody tr th:only-of-type {\n",
       "        vertical-align: middle;\n",
       "    }\n",
       "\n",
       "    .dataframe tbody tr th {\n",
       "        vertical-align: top;\n",
       "    }\n",
       "\n",
       "    .dataframe thead th {\n",
       "        text-align: right;\n",
       "    }\n",
       "</style>\n",
       "<table border=\"1\" class=\"dataframe\">\n",
       "  <thead>\n",
       "    <tr style=\"text-align: right;\">\n",
       "      <th></th>\n",
       "      <th>department_id</th>\n",
       "      <th>department</th>\n",
       "    </tr>\n",
       "  </thead>\n",
       "  <tbody>\n",
       "    <tr>\n",
       "      <th>0</th>\n",
       "      <td>1</td>\n",
       "      <td>frozen</td>\n",
       "    </tr>\n",
       "    <tr>\n",
       "      <th>1</th>\n",
       "      <td>2</td>\n",
       "      <td>other</td>\n",
       "    </tr>\n",
       "    <tr>\n",
       "      <th>2</th>\n",
       "      <td>3</td>\n",
       "      <td>bakery</td>\n",
       "    </tr>\n",
       "    <tr>\n",
       "      <th>3</th>\n",
       "      <td>4</td>\n",
       "      <td>produce</td>\n",
       "    </tr>\n",
       "    <tr>\n",
       "      <th>4</th>\n",
       "      <td>5</td>\n",
       "      <td>alcohol</td>\n",
       "    </tr>\n",
       "  </tbody>\n",
       "</table>\n",
       "</div>"
      ],
      "text/plain": [
       "   department_id department\n",
       "0              1     frozen\n",
       "1              2      other\n",
       "2              3     bakery\n",
       "3              4    produce\n",
       "4              5    alcohol"
      ]
     },
     "execution_count": 6,
     "metadata": {},
     "output_type": "execute_result"
    }
   ],
   "source": [
    "df_departments=pd.read_csv('/datasets/departments.csv',sep=';')\n",
    "df_departments.head()"
   ]
  },
  {
   "cell_type": "code",
   "execution_count": null,
   "id": "6fc81694",
   "metadata": {},
   "outputs": [],
   "source": []
  },
  {
   "cell_type": "markdown",
   "id": "07357848-dc64-4156-9cc3-01ff4365226d",
   "metadata": {},
   "source": [
    "## Find and remove duplicate values (and describe why you make your choices)"
   ]
  },
  {
   "cell_type": "markdown",
   "id": "f179f0a9",
   "metadata": {},
   "source": [
    "### `orders` data frame"
   ]
  },
  {
   "cell_type": "code",
   "execution_count": 7,
   "id": "b99297a5-405a-463d-8535-9adc3da4ad74",
   "metadata": {},
   "outputs": [
    {
     "name": "stdout",
     "output_type": "stream",
     "text": [
      "15\n"
     ]
    }
   ],
   "source": [
    "# Check for duplicated orders\n",
    "print(df_instacart_orders.duplicated().sum())\n"
   ]
  },
  {
   "cell_type": "code",
   "execution_count": 8,
   "id": "0d44de5d",
   "metadata": {},
   "outputs": [
    {
     "name": "stdout",
     "output_type": "stream",
     "text": [
      "        order_id  user_id  order_number  order_dow  order_hour_of_day  \\\n",
      "4838     2766110   162084            41          3                  2   \n",
      "5156     2190225   138285            18          3                  2   \n",
      "15506     553049    58599            13          3                  2   \n",
      "18420     382357   120200            19          3                  2   \n",
      "24691     690242    77357             2          3                  2   \n",
      "...          ...      ...           ...        ...                ...   \n",
      "457013   3384021    14881             6          3                  2   \n",
      "458816    910166   164782            18          3                  2   \n",
      "459635   1680532   106435             6          3                  2   \n",
      "468324    222962    54979            59          3                  2   \n",
      "477526   2592344    46860            38          3                  2   \n",
      "\n",
      "        days_since_prior_order  \n",
      "4838                      16.0  \n",
      "5156                      11.0  \n",
      "15506                      7.0  \n",
      "18420                     11.0  \n",
      "24691                      9.0  \n",
      "...                        ...  \n",
      "457013                    30.0  \n",
      "458816                     4.0  \n",
      "459635                    21.0  \n",
      "468324                     3.0  \n",
      "477526                     3.0  \n",
      "\n",
      "[121 rows x 6 columns]\n"
     ]
    }
   ],
   "source": [
    "# Check for all orders placed Wednesday at 2:00 AM\n",
    "wed_2am_orders=df_instacart_orders[(df_instacart_orders['order_dow']==3) & (df_instacart_orders['order_hour_of_day']==2)]\n",
    "print(wed_2am_orders)\n"
   ]
  },
  {
   "cell_type": "code",
   "execution_count": 9,
   "id": "480563c7",
   "metadata": {},
   "outputs": [
    {
     "data": {
      "text/html": [
       "<div>\n",
       "<style scoped>\n",
       "    .dataframe tbody tr th:only-of-type {\n",
       "        vertical-align: middle;\n",
       "    }\n",
       "\n",
       "    .dataframe tbody tr th {\n",
       "        vertical-align: top;\n",
       "    }\n",
       "\n",
       "    .dataframe thead th {\n",
       "        text-align: right;\n",
       "    }\n",
       "</style>\n",
       "<table border=\"1\" class=\"dataframe\">\n",
       "  <thead>\n",
       "    <tr style=\"text-align: right;\">\n",
       "      <th></th>\n",
       "      <th>order_id</th>\n",
       "      <th>user_id</th>\n",
       "      <th>order_number</th>\n",
       "      <th>order_dow</th>\n",
       "      <th>order_hour_of_day</th>\n",
       "      <th>days_since_prior_order</th>\n",
       "    </tr>\n",
       "  </thead>\n",
       "  <tbody>\n",
       "    <tr>\n",
       "      <th>112236</th>\n",
       "      <td>1932810</td>\n",
       "      <td>100199</td>\n",
       "      <td>8</td>\n",
       "      <td>6</td>\n",
       "      <td>21</td>\n",
       "      <td>11.0</td>\n",
       "    </tr>\n",
       "    <tr>\n",
       "      <th>363946</th>\n",
       "      <td>734674</td>\n",
       "      <td>137829</td>\n",
       "      <td>30</td>\n",
       "      <td>1</td>\n",
       "      <td>14</td>\n",
       "      <td>22.0</td>\n",
       "    </tr>\n",
       "    <tr>\n",
       "      <th>117827</th>\n",
       "      <td>1884061</td>\n",
       "      <td>131428</td>\n",
       "      <td>5</td>\n",
       "      <td>6</td>\n",
       "      <td>22</td>\n",
       "      <td>2.0</td>\n",
       "    </tr>\n",
       "    <tr>\n",
       "      <th>417591</th>\n",
       "      <td>3025298</td>\n",
       "      <td>162760</td>\n",
       "      <td>17</td>\n",
       "      <td>2</td>\n",
       "      <td>16</td>\n",
       "      <td>4.0</td>\n",
       "    </tr>\n",
       "    <tr>\n",
       "      <th>65564</th>\n",
       "      <td>2559039</td>\n",
       "      <td>199970</td>\n",
       "      <td>5</td>\n",
       "      <td>0</td>\n",
       "      <td>16</td>\n",
       "      <td>8.0</td>\n",
       "    </tr>\n",
       "  </tbody>\n",
       "</table>\n",
       "</div>"
      ],
      "text/plain": [
       "        order_id  user_id  order_number  order_dow  order_hour_of_day  \\\n",
       "112236   1932810   100199             8          6                 21   \n",
       "363946    734674   137829            30          1                 14   \n",
       "117827   1884061   131428             5          6                 22   \n",
       "417591   3025298   162760            17          2                 16   \n",
       "65564    2559039   199970             5          0                 16   \n",
       "\n",
       "        days_since_prior_order  \n",
       "112236                    11.0  \n",
       "363946                    22.0  \n",
       "117827                     2.0  \n",
       "417591                     4.0  \n",
       "65564                      8.0  "
      ]
     },
     "execution_count": 9,
     "metadata": {},
     "output_type": "execute_result"
    }
   ],
   "source": [
    "# Remove duplicate orders\n",
    "\n",
    "df_instacart_orders= df_instacart_orders.drop_duplicates()\n",
    "df_instacart_orders.sample(5)"
   ]
  },
  {
   "cell_type": "markdown",
   "id": "4ff127ee",
   "metadata": {},
   "source": [
    "<div class=\"alert alert-block alert-warning\">\n",
    "<b>Reviewer's comment v1</b>\n",
    "\n",
    "This code removes the duplicate rows from the DataFrame.\n",
    "However it doesn't reset the index of the DataFrame. This means that if rows were removed, there could be gaps in the DataFrame's index.\n",
    "\n",
    "In many cases, especially when the index doesn't have any specific meaning, resetting the index after dropping duplicates provides a cleaner result. You can achieve that in the following way: \n",
    "\n",
    "`orders.drop_duplicates().reset_index(drop=True)`\n",
    "\n",
    "The `reset_index(drop=True)` method is then called on the result, which resets the DataFrame's index and drops the old index. This ensures there are no gaps in the index after removing duplicates.\n",
    "    "
   ]
  },
  {
   "cell_type": "code",
   "execution_count": 10,
   "id": "0b2396a2",
   "metadata": {},
   "outputs": [
    {
     "name": "stdout",
     "output_type": "stream",
     "text": [
      "0\n"
     ]
    }
   ],
   "source": [
    "# Double check for duplicate rows\n",
    "print(df_instacart_orders.duplicated().sum())\n"
   ]
  },
  {
   "cell_type": "code",
   "execution_count": 11,
   "id": "f6113ef1",
   "metadata": {},
   "outputs": [
    {
     "name": "stdout",
     "output_type": "stream",
     "text": [
      "1048576    1\n",
      "3389216    1\n",
      "1100604    1\n",
      "1275704    1\n",
      "2337103    1\n",
      "          ..\n",
      "1752059    1\n",
      "2794488    1\n",
      "711671     1\n",
      "1711087    1\n",
      "2047       1\n",
      "Name: order_id, Length: 478952, dtype: int64\n"
     ]
    }
   ],
   "source": [
    "# Double check for duplicate order IDs only\n",
    "print(df_instacart_orders['order_id'].value_counts())"
   ]
  },
  {
   "cell_type": "code",
   "execution_count": 12,
   "id": "469752d6",
   "metadata": {},
   "outputs": [
    {
     "name": "stdout",
     "output_type": "stream",
     "text": [
      "0\n"
     ]
    }
   ],
   "source": [
    "print(df_instacart_orders['order_id'].duplicated().sum())"
   ]
  },
  {
   "cell_type": "markdown",
   "id": "5e8905ae",
   "metadata": {},
   "source": [
    "There are no duplicated values in the dataframe and the order-id column as well."
   ]
  },
  {
   "cell_type": "markdown",
   "id": "45e6bc46",
   "metadata": {},
   "source": [
    "### `products` data frame"
   ]
  },
  {
   "cell_type": "code",
   "execution_count": 13,
   "id": "5f526b5b-8175-46fa-a0fd-441767d50e64",
   "metadata": {},
   "outputs": [
    {
     "name": "stdout",
     "output_type": "stream",
     "text": [
      "0\n"
     ]
    }
   ],
   "source": [
    "# Check for fully duplicate rows\n",
    "duplictaes=df_products.duplicated().sum()\n",
    "print(duplictaes)\n"
   ]
  },
  {
   "cell_type": "code",
   "execution_count": 14,
   "id": "88daa4f4",
   "metadata": {},
   "outputs": [
    {
     "name": "stdout",
     "output_type": "stream",
     "text": [
      "0\n"
     ]
    }
   ],
   "source": [
    "# Check for just duplicate product IDs\n",
    "print(df_products['product_id'].duplicated().sum())\n"
   ]
  },
  {
   "cell_type": "code",
   "execution_count": 15,
   "id": "c773f0bf",
   "metadata": {},
   "outputs": [
    {
     "name": "stdout",
     "output_type": "stream",
     "text": [
      "1361\n"
     ]
    }
   ],
   "source": [
    "# Check for just duplicate product names (convert names to lowercase to compare better)\n",
    "num_duplicates = df_products['product_name'].str.lower().duplicated().sum()\n",
    "print(num_duplicates)\n"
   ]
  },
  {
   "cell_type": "code",
   "execution_count": 16,
   "id": "01efd02e",
   "metadata": {},
   "outputs": [
    {
     "name": "stdout",
     "output_type": "stream",
     "text": [
      "104\n"
     ]
    }
   ],
   "source": [
    "# Check for duplicate product names that aren't missing\n",
    "num_duplicates = df_products['product_name'].dropna().str.lower().duplicated().sum()\n",
    "\n",
    "print(num_duplicates)\n"
   ]
  },
  {
   "cell_type": "markdown",
   "id": "9da8d293",
   "metadata": {},
   "source": [
    "There are no fully duplictated rows are present, but there are some product names are duplicated in the dataframe."
   ]
  },
  {
   "cell_type": "markdown",
   "id": "60f30db1",
   "metadata": {},
   "source": [
    "### `departments` data frame"
   ]
  },
  {
   "cell_type": "code",
   "execution_count": 17,
   "id": "fb410ad4-0fbf-4b80-bb09-23fdea79afe3",
   "metadata": {},
   "outputs": [
    {
     "name": "stdout",
     "output_type": "stream",
     "text": [
      "0\n"
     ]
    }
   ],
   "source": [
    "print(df_departments.duplicated().sum())"
   ]
  },
  {
   "cell_type": "code",
   "execution_count": 18,
   "id": "332b12bb",
   "metadata": {},
   "outputs": [
    {
     "name": "stdout",
     "output_type": "stream",
     "text": [
      "0\n"
     ]
    }
   ],
   "source": [
    "print(df_departments['department'].str.lower().duplicated().sum())"
   ]
  },
  {
   "cell_type": "markdown",
   "id": "bd30d78e",
   "metadata": {},
   "source": [
    "There are no department rows and the departments names as well."
   ]
  },
  {
   "cell_type": "markdown",
   "id": "889349c1",
   "metadata": {},
   "source": [
    "### `aisles` data frame"
   ]
  },
  {
   "cell_type": "code",
   "execution_count": 19,
   "id": "9da89fb9-4679-40f5-ad0d-c34df753a3f8",
   "metadata": {},
   "outputs": [
    {
     "name": "stdout",
     "output_type": "stream",
     "text": [
      "0\n"
     ]
    }
   ],
   "source": [
    "print(df_aisles.duplicated().sum())"
   ]
  },
  {
   "cell_type": "code",
   "execution_count": 20,
   "id": "da7c2822",
   "metadata": {},
   "outputs": [
    {
     "name": "stdout",
     "output_type": "stream",
     "text": [
      "0\n"
     ]
    }
   ],
   "source": [
    "print(df_aisles['aisle'].str.lower().duplicated().sum())"
   ]
  },
  {
   "cell_type": "markdown",
   "id": "ac63826f",
   "metadata": {},
   "source": [
    "There are no duplicates in the aisles dataframe and in the aisle column as well."
   ]
  },
  {
   "cell_type": "markdown",
   "id": "274cd06a",
   "metadata": {},
   "source": [
    "### `order_products` data frame"
   ]
  },
  {
   "cell_type": "code",
   "execution_count": 21,
   "id": "52326689-84a8-4b8f-a881-7c68780f62c9",
   "metadata": {},
   "outputs": [
    {
     "name": "stdout",
     "output_type": "stream",
     "text": [
      "0\n"
     ]
    }
   ],
   "source": [
    "# Check for fullly duplicate rows\n",
    "print(df_order_products.duplicated().sum())\n"
   ]
  },
  {
   "cell_type": "code",
   "execution_count": 22,
   "id": "7b861391",
   "metadata": {},
   "outputs": [
    {
     "name": "stdout",
     "output_type": "stream",
     "text": [
      "4094961\n"
     ]
    }
   ],
   "source": [
    "# Double check for any other tricky duplicates\n",
    "print(df_order_products['order_id'].duplicated().sum())"
   ]
  },
  {
   "cell_type": "markdown",
   "id": "0b890492",
   "metadata": {},
   "source": [
    "there are no fully duplictaed rows, but there shouldn't be any duplictated order_ids, because each order have an unique order_id, i don't understand why i got these many duplicated order ids."
   ]
  },
  {
   "cell_type": "markdown",
   "id": "4ca3fca3",
   "metadata": {},
   "source": [
    "<div class=\"alert alert-block alert-success\">\n",
    "<b>Reviewer's comment v1</b>\n",
    "\n",
    "You've done a good job at checking duplicates in the table."
   ]
  },
  {
   "cell_type": "markdown",
   "id": "1e46de76",
   "metadata": {},
   "source": [
    "## Find and remove missing values\n"
   ]
  },
  {
   "cell_type": "markdown",
   "id": "c0aebd78",
   "metadata": {},
   "source": [
    "### `products` data frame"
   ]
  },
  {
   "cell_type": "code",
   "execution_count": 23,
   "id": "fe4a8b0f",
   "metadata": {},
   "outputs": [
    {
     "name": "stdout",
     "output_type": "stream",
     "text": [
      "<class 'pandas.core.frame.DataFrame'>\n",
      "RangeIndex: 49694 entries, 0 to 49693\n",
      "Data columns (total 4 columns):\n",
      " #   Column         Non-Null Count  Dtype \n",
      "---  ------         --------------  ----- \n",
      " 0   product_id     49694 non-null  int64 \n",
      " 1   product_name   48436 non-null  object\n",
      " 2   aisle_id       49694 non-null  int64 \n",
      " 3   department_id  49694 non-null  int64 \n",
      "dtypes: int64(3), object(1)\n",
      "memory usage: 1.5+ MB\n"
     ]
    }
   ],
   "source": [
    "#checking missing values with info()\n",
    "df_products.info()"
   ]
  },
  {
   "cell_type": "code",
   "execution_count": 24,
   "id": "598b0179",
   "metadata": {},
   "outputs": [
    {
     "data": {
      "text/plain": [
       "1258"
      ]
     },
     "execution_count": 24,
     "metadata": {},
     "output_type": "execute_result"
    }
   ],
   "source": [
    "df_products['product_name'].isnull().sum()"
   ]
  },
  {
   "cell_type": "markdown",
   "id": "f63cba98",
   "metadata": {},
   "source": [
    "There are no missing values product_id, aisle_id, and department_id, but there are 1258 missing values in the product_name column."
   ]
  },
  {
   "cell_type": "code",
   "execution_count": 25,
   "id": "e96167bc",
   "metadata": {},
   "outputs": [
    {
     "name": "stdout",
     "output_type": "stream",
     "text": [
      "37       True\n",
      "71       True\n",
      "109      True\n",
      "296      True\n",
      "416      True\n",
      "         ... \n",
      "49552    True\n",
      "49574    True\n",
      "49640    True\n",
      "49663    True\n",
      "49668    True\n",
      "Name: aisle_id, Length: 1258, dtype: bool\n"
     ]
    }
   ],
   "source": [
    "# Are all of the missing product names associated with aisle ID 100?\n",
    "print(df_products[df_products['product_name'].isna()]['aisle_id']==100)\n"
   ]
  },
  {
   "cell_type": "markdown",
   "id": "00e1fa01",
   "metadata": {},
   "source": [
    "Yes, all the 1258 of the missing names associated with aisle id 100."
   ]
  },
  {
   "cell_type": "code",
   "execution_count": 26,
   "id": "8fd0a541",
   "metadata": {},
   "outputs": [
    {
     "name": "stdout",
     "output_type": "stream",
     "text": [
      "37       True\n",
      "71       True\n",
      "109      True\n",
      "296      True\n",
      "416      True\n",
      "         ... \n",
      "49552    True\n",
      "49574    True\n",
      "49640    True\n",
      "49663    True\n",
      "49668    True\n",
      "Name: department_id, Length: 1258, dtype: bool\n"
     ]
    }
   ],
   "source": [
    "# Are all of the missing product names associated with department ID 21?\n",
    "print(df_products[df_products['product_name'].isna()]['department_id']==21)\n"
   ]
  },
  {
   "cell_type": "markdown",
   "id": "c60b64a6",
   "metadata": {},
   "source": [
    "yes, all of the 1258 missing product names are assosiated with department id 21"
   ]
  },
  {
   "cell_type": "code",
   "execution_count": 27,
   "id": "325c3464",
   "metadata": {},
   "outputs": [
    {
     "name": "stdout",
     "output_type": "stream",
     "text": [
      "99    missing\n",
      "Name: aisle, dtype: object\n",
      "20    missing\n",
      "Name: department, dtype: object\n"
     ]
    }
   ],
   "source": [
    "# What is this ailse and department?\n",
    "print(df_aisles[df_aisles['aisle_id']==100]['aisle'])\n",
    "print(df_departments[df_departments['department_id']==21]['department'])\n"
   ]
  },
  {
   "cell_type": "markdown",
   "id": "7159cd20",
   "metadata": {},
   "source": [
    "the corresponding aisle name and the department names are also missing"
   ]
  },
  {
   "cell_type": "code",
   "execution_count": 28,
   "id": "6b295120",
   "metadata": {},
   "outputs": [],
   "source": [
    "# Fill missing product names with 'Unknown'\n",
    "df_products=df_products.fillna('Unknown')\n"
   ]
  },
  {
   "cell_type": "code",
   "execution_count": 29,
   "id": "3fd99573",
   "metadata": {},
   "outputs": [
    {
     "data": {
      "text/plain": [
       "0"
      ]
     },
     "execution_count": 29,
     "metadata": {},
     "output_type": "execute_result"
    }
   ],
   "source": [
    "df_products['product_name'].isnull().sum()"
   ]
  },
  {
   "cell_type": "markdown",
   "id": "fc70e5ad",
   "metadata": {},
   "source": [
    "After replacing missing values with 'unknown' there are no missing values now."
   ]
  },
  {
   "cell_type": "markdown",
   "id": "7eb45c86",
   "metadata": {},
   "source": [
    "### `orders` data frame"
   ]
  },
  {
   "cell_type": "code",
   "execution_count": 30,
   "id": "93e41d96",
   "metadata": {},
   "outputs": [
    {
     "name": "stdout",
     "output_type": "stream",
     "text": [
      "<class 'pandas.core.frame.DataFrame'>\n",
      "Int64Index: 478952 entries, 0 to 478966\n",
      "Data columns (total 6 columns):\n",
      " #   Column                  Non-Null Count   Dtype  \n",
      "---  ------                  --------------   -----  \n",
      " 0   order_id                478952 non-null  int64  \n",
      " 1   user_id                 478952 non-null  int64  \n",
      " 2   order_number            478952 non-null  int64  \n",
      " 3   order_dow               478952 non-null  int64  \n",
      " 4   order_hour_of_day       478952 non-null  int64  \n",
      " 5   days_since_prior_order  450135 non-null  float64\n",
      "dtypes: float64(1), int64(5)\n",
      "memory usage: 25.6 MB\n"
     ]
    }
   ],
   "source": [
    "df_instacart_orders.info()"
   ]
  },
  {
   "cell_type": "markdown",
   "id": "a343c69d",
   "metadata": {},
   "source": [
    "there are no missing values in any column except one column named 'days_since_prior_order'"
   ]
  },
  {
   "cell_type": "code",
   "execution_count": 31,
   "id": "166e5a86",
   "metadata": {},
   "outputs": [
    {
     "data": {
      "text/plain": [
       "True"
      ]
     },
     "execution_count": 31,
     "metadata": {},
     "output_type": "execute_result"
    }
   ],
   "source": [
    "# Are there any missing values where it's not a customer's first order?\n",
    "missing_values=df_instacart_orders[(df_instacart_orders['order_number'] > 1) & \n",
    "                                     (df_instacart_orders['days_since_prior_order'].isnull())]\n",
    "missing_values.empty\n"
   ]
  },
  {
   "cell_type": "markdown",
   "id": "60d11f71",
   "metadata": {},
   "source": [
    "yes, there are missing values where it's not a customer's first order"
   ]
  },
  {
   "cell_type": "markdown",
   "id": "69dc9ca4",
   "metadata": {},
   "source": [
    "### `order_products` data frame"
   ]
  },
  {
   "cell_type": "code",
   "execution_count": 32,
   "id": "b8240253",
   "metadata": {},
   "outputs": [
    {
     "name": "stdout",
     "output_type": "stream",
     "text": [
      "<class 'pandas.core.frame.DataFrame'>\n",
      "RangeIndex: 4545007 entries, 0 to 4545006\n",
      "Data columns (total 4 columns):\n",
      " #   Column             Non-Null Count    Dtype  \n",
      "---  ------             --------------    -----  \n",
      " 0   order_id           4545007 non-null  int64  \n",
      " 1   product_id         4545007 non-null  int64  \n",
      " 2   add_to_cart_order  4544171 non-null  float64\n",
      " 3   reordered          4545007 non-null  int64  \n",
      "dtypes: float64(1), int64(3)\n",
      "memory usage: 138.7 MB\n"
     ]
    }
   ],
   "source": [
    "df_order_products.info(show_counts=True)"
   ]
  },
  {
   "cell_type": "code",
   "execution_count": 33,
   "id": "e722f283",
   "metadata": {},
   "outputs": [
    {
     "data": {
      "text/plain": [
       "order_id               0\n",
       "product_id             0\n",
       "add_to_cart_order    836\n",
       "reordered              0\n",
       "dtype: int64"
      ]
     },
     "execution_count": 33,
     "metadata": {},
     "output_type": "execute_result"
    }
   ],
   "source": [
    "df_order_products.isnull().sum()"
   ]
  },
  {
   "cell_type": "markdown",
   "id": "effe0350",
   "metadata": {},
   "source": [
    "it seems there are missing values in add_to_cart_order column"
   ]
  },
  {
   "cell_type": "code",
   "execution_count": 34,
   "id": "9a78e5ee",
   "metadata": {},
   "outputs": [
    {
     "data": {
      "text/html": [
       "<div>\n",
       "<style scoped>\n",
       "    .dataframe tbody tr th:only-of-type {\n",
       "        vertical-align: middle;\n",
       "    }\n",
       "\n",
       "    .dataframe tbody tr th {\n",
       "        vertical-align: top;\n",
       "    }\n",
       "\n",
       "    .dataframe thead th {\n",
       "        text-align: right;\n",
       "    }\n",
       "</style>\n",
       "<table border=\"1\" class=\"dataframe\">\n",
       "  <thead>\n",
       "    <tr style=\"text-align: right;\">\n",
       "      <th></th>\n",
       "      <th>order_id</th>\n",
       "      <th>product_id</th>\n",
       "      <th>add_to_cart_order</th>\n",
       "      <th>reordered</th>\n",
       "    </tr>\n",
       "  </thead>\n",
       "  <tbody>\n",
       "    <tr>\n",
       "      <th>count</th>\n",
       "      <td>4.545007e+06</td>\n",
       "      <td>4.545007e+06</td>\n",
       "      <td>4.544171e+06</td>\n",
       "      <td>4.545007e+06</td>\n",
       "    </tr>\n",
       "    <tr>\n",
       "      <th>mean</th>\n",
       "      <td>1.711166e+06</td>\n",
       "      <td>2.558084e+04</td>\n",
       "      <td>8.351669e+00</td>\n",
       "      <td>5.905025e-01</td>\n",
       "    </tr>\n",
       "    <tr>\n",
       "      <th>std</th>\n",
       "      <td>9.850955e+05</td>\n",
       "      <td>1.409552e+04</td>\n",
       "      <td>7.080368e+00</td>\n",
       "      <td>4.917411e-01</td>\n",
       "    </tr>\n",
       "    <tr>\n",
       "      <th>min</th>\n",
       "      <td>4.000000e+00</td>\n",
       "      <td>1.000000e+00</td>\n",
       "      <td>1.000000e+00</td>\n",
       "      <td>0.000000e+00</td>\n",
       "    </tr>\n",
       "    <tr>\n",
       "      <th>25%</th>\n",
       "      <td>8.608170e+05</td>\n",
       "      <td>1.353500e+04</td>\n",
       "      <td>3.000000e+00</td>\n",
       "      <td>0.000000e+00</td>\n",
       "    </tr>\n",
       "    <tr>\n",
       "      <th>50%</th>\n",
       "      <td>1.711530e+06</td>\n",
       "      <td>2.527200e+04</td>\n",
       "      <td>6.000000e+00</td>\n",
       "      <td>1.000000e+00</td>\n",
       "    </tr>\n",
       "    <tr>\n",
       "      <th>75%</th>\n",
       "      <td>2.561311e+06</td>\n",
       "      <td>3.793500e+04</td>\n",
       "      <td>1.100000e+01</td>\n",
       "      <td>1.000000e+00</td>\n",
       "    </tr>\n",
       "    <tr>\n",
       "      <th>max</th>\n",
       "      <td>3.421079e+06</td>\n",
       "      <td>4.969400e+04</td>\n",
       "      <td>6.400000e+01</td>\n",
       "      <td>1.000000e+00</td>\n",
       "    </tr>\n",
       "  </tbody>\n",
       "</table>\n",
       "</div>"
      ],
      "text/plain": [
       "           order_id    product_id  add_to_cart_order     reordered\n",
       "count  4.545007e+06  4.545007e+06       4.544171e+06  4.545007e+06\n",
       "mean   1.711166e+06  2.558084e+04       8.351669e+00  5.905025e-01\n",
       "std    9.850955e+05  1.409552e+04       7.080368e+00  4.917411e-01\n",
       "min    4.000000e+00  1.000000e+00       1.000000e+00  0.000000e+00\n",
       "25%    8.608170e+05  1.353500e+04       3.000000e+00  0.000000e+00\n",
       "50%    1.711530e+06  2.527200e+04       6.000000e+00  1.000000e+00\n",
       "75%    2.561311e+06  3.793500e+04       1.100000e+01  1.000000e+00\n",
       "max    3.421079e+06  4.969400e+04       6.400000e+01  1.000000e+00"
      ]
     },
     "execution_count": 34,
     "metadata": {},
     "output_type": "execute_result"
    }
   ],
   "source": [
    "# What are the min and max values in this column?\n",
    "\n",
    "df_order_products.describe()"
   ]
  },
  {
   "cell_type": "code",
   "execution_count": 35,
   "id": "b34f5282",
   "metadata": {},
   "outputs": [
    {
     "data": {
      "text/plain": [
       "(1.0, 64.0)"
      ]
     },
     "execution_count": 35,
     "metadata": {},
     "output_type": "execute_result"
    }
   ],
   "source": [
    "min_value = df_order_products['add_to_cart_order'].min()\n",
    "max_value = df_order_products['add_to_cart_order'].max()\n",
    "\n",
    "min_value, max_value"
   ]
  },
  {
   "cell_type": "code",
   "execution_count": 36,
   "id": "ab9d0c2b",
   "metadata": {},
   "outputs": [
    {
     "data": {
      "text/plain": [
       "array([2449164, 1968313, 2926893, 1717990, 1959075,  844733,   61355,\n",
       "        936852,  264710, 1564093,  129627,  293169, 2849370, 1386261,\n",
       "       3308010,  903110, 2136777, 3347453, 1888628,  165801, 2094761,\n",
       "       1038146, 2997021,  813364, 2256933,  171934, 2409109, 1730767,\n",
       "       1169835,  733526,  404157, 3125735,  747668, 1800005, 1961723,\n",
       "        871281,  388234, 1648217, 1477139,  102236, 1021563, 1832957,\n",
       "       2721963,  678116, 1220886, 1673227, 2999801, 1633337, 2470674,\n",
       "       2625444, 1677118, 2479011, 3383594, 1183255, 1713430, 2652650,\n",
       "       1598369, 1916118,  854647, 1302315,  888470,  180546, 2621907,\n",
       "       1308785, 2729254,    9310, 2170451, 2979697, 1625713, 1529171])"
      ]
     },
     "execution_count": 36,
     "metadata": {},
     "output_type": "execute_result"
    }
   ],
   "source": [
    "# Save all order IDs with at least one missing value in 'add_to_cart_order'\n",
    "order_ids_missing = df_order_products[df_order_products['add_to_cart_order'].isnull()]['order_id'].unique()\n",
    "order_ids_missing"
   ]
  },
  {
   "cell_type": "code",
   "execution_count": 37,
   "id": "54c31695",
   "metadata": {},
   "outputs": [
    {
     "name": "stdout",
     "output_type": "stream",
     "text": [
      "False\n"
     ]
    }
   ],
   "source": [
    "# Do all orders with missing values have more than 64 products?\n",
    "print((df_order_products[df_order_products['add_to_cart_order'].isnull()]['order_id'].value_counts() > 64).all())"
   ]
  },
  {
   "cell_type": "markdown",
   "id": "7e782363",
   "metadata": {},
   "source": [
    "not all the missing values have more than 64 products."
   ]
  },
  {
   "cell_type": "code",
   "execution_count": 38,
   "id": "7a987d08",
   "metadata": {},
   "outputs": [],
   "source": [
    "# Replace missing values with 999 and convert column to integer type\n",
    "df_order_products['add_to_cart_order'] = df_order_products['add_to_cart_order'].fillna(999).astype(int)\n"
   ]
  },
  {
   "cell_type": "markdown",
   "id": "fea4bcc7",
   "metadata": {},
   "source": [
    "replaced all the missing values in the add_to_cart_order with 999."
   ]
  },
  {
   "cell_type": "markdown",
   "id": "2e3d37d7",
   "metadata": {},
   "source": [
    "<div class=\"alert alert-block alert-success\">\n",
    "<b>Reviewer's comment v1</b>\n",
    "\n",
    "Overall, your exploration and cleaning process is well-thought-out. \n",
    "\n",
    "You correctly identified and addressed NaN values in `product_name`, `days_since_prior_order`, `add_to_cart_order`. "
   ]
  },
  {
   "cell_type": "markdown",
   "id": "de8dd6fc",
   "metadata": {},
   "source": [
    "<div class=\"alert alert-block alert-warning\">\n",
    "<b>Reviewer's comment v1</b>\n",
    "\n",
    "If you're repeating the same set of operations (like checking info, printing the head, checking for NaNs, and checking for duplicates) for each dataframe, consider creating a function to perform these checks. This will make your code cleaner and more efficient.\n",
    "\n",
    "````\n",
    "def analyze_data(df):\n",
    "    # Info\n",
    "    print(df.info())\n",
    "    \n",
    "    # First few rows\n",
    "    print(df.head())\n",
    "    \n",
    "    # Missing values\n",
    "    print(df.isna().sum())\n",
    "    \n",
    "    # Duplicates\n",
    "    print(df.duplicated().sum())\n",
    "\n",
    "# Use the function\n",
    "analyze_data(aisles)\n",
    "analyze_data(departments)\n",
    "# ... and so on for other dataframes\n",
    "````\n",
    "    \n"
   ]
  },
  {
   "cell_type": "markdown",
   "id": "turkish-kidney",
   "metadata": {},
   "source": [
    "# [A] Easy (must complete all to pass)"
   ]
  },
  {
   "cell_type": "markdown",
   "id": "short-capability",
   "metadata": {},
   "source": [
    "### [A1] Verify that the `'order_hour_of_day'` and `'order_dow'` values in the `orders` tables are sensible (i.e. `'order_hour_of_day'` ranges from 0 to 23 and `'order_dow'` ranges from 0 to 6)"
   ]
  },
  {
   "cell_type": "code",
   "execution_count": 39,
   "id": "growing-fruit",
   "metadata": {},
   "outputs": [
    {
     "name": "stdout",
     "output_type": "stream",
     "text": [
      "0 23\n"
     ]
    }
   ],
   "source": [
    "hour_min, hour_max =df_instacart_orders['order_hour_of_day'].min(), df_instacart_orders['order_hour_of_day'].max()\n",
    "print(hour_min, hour_max)\n"
   ]
  },
  {
   "cell_type": "code",
   "execution_count": 40,
   "id": "accessory-malaysia",
   "metadata": {},
   "outputs": [
    {
     "name": "stdout",
     "output_type": "stream",
     "text": [
      "0 6\n"
     ]
    }
   ],
   "source": [
    "dow_min, dow_max = df_instacart_orders['order_dow'].min(), df_instacart_orders['order_dow'].max()\n",
    "print(dow_min, dow_max)"
   ]
  },
  {
   "cell_type": "markdown",
   "id": "774c72dc",
   "metadata": {},
   "source": [
    "order_hour_of the day lies between 0 and 23, and the order_dow is lies lies between 0 to 6."
   ]
  },
  {
   "cell_type": "markdown",
   "id": "b62e4d15",
   "metadata": {},
   "source": [
    "<div class=\"alert alert-block alert-success\">\n",
    "<b>Reviewer's comment v1</b>\n",
    "\n",
    "As a second approach you could use `.describe()` function for getting an initial understanding of data, especially for numeric columns. However, this function might return descriptive statistics for all numeric columns in the dataframe. If you are interested in specific columns, you might want to narrow it down.\n",
    "\n",
    "`instacart[['order_hour_of_day', 'order_dow']].describe()`\n"
   ]
  },
  {
   "cell_type": "markdown",
   "id": "a6743a70",
   "metadata": {},
   "source": [
    "### [A2] What time of day do people shop for groceries?"
   ]
  },
  {
   "cell_type": "code",
   "execution_count": 41,
   "id": "a36cca27",
   "metadata": {},
   "outputs": [
    {
     "data": {
      "text/plain": [
       "<AxesSubplot:title={'center':'Orders by Hour of Day'}, xlabel='Hour of Day', ylabel='Number of Orders'>"
      ]
     },
     "execution_count": 41,
     "metadata": {},
     "output_type": "execute_result"
    },
    {
     "data": {
      "image/png": "[encoded data removed]",
      "text/plain": [
       "<Figure size 640x480 with 1 Axes>"
      ]
     },
     "metadata": {},
     "output_type": "display_data"
    }
   ],
   "source": [
    "import matplotlib.pyplot as plt\n",
    "order_counts_by_hour = df_instacart_orders['order_hour_of_day'].value_counts().sort_index()\n",
    "order_counts_by_hour.plot(kind='bar', title='Orders by Hour of Day', xlabel='Hour of Day', ylabel='Number of Orders')"
   ]
  },
  {
   "cell_type": "markdown",
   "id": "11270eed",
   "metadata": {},
   "source": [
    "it seems at 10 people are shopping more grocerries."
   ]
  },
  {
   "cell_type": "markdown",
   "id": "a81950cd",
   "metadata": {},
   "source": [
    "<div class=\"alert alert-block alert-success\">\n",
    "<b>Reviewer's comment v1</b>\n",
    "\n",
    "Well done! "
   ]
  },
  {
   "cell_type": "markdown",
   "id": "documented-command",
   "metadata": {},
   "source": [
    "### [A3] What day of the week do people shop for groceries?"
   ]
  },
  {
   "cell_type": "code",
   "execution_count": 42,
   "id": "chief-digit",
   "metadata": {},
   "outputs": [
    {
     "data": {
      "text/plain": [
       "<AxesSubplot:title={'center':'Orders by Day of the Week'}, xlabel='Day of the Week (0=Sunday)', ylabel='Number of Orders'>"
      ]
     },
     "execution_count": 42,
     "metadata": {},
     "output_type": "execute_result"
    },
    {
     "data": {
      "image/png": "[encoded data removed]",
      "text/plain": [
       "<Figure size 640x480 with 1 Axes>"
      ]
     },
     "metadata": {},
     "output_type": "display_data"
    }
   ],
   "source": [
    "order_counts_by_day = df_instacart_orders['order_dow'].value_counts().sort_index()\n",
    "order_counts_by_day.plot(kind='bar', title='Orders by Day of the Week', xlabel='Day of the Week (0=Sunday)', ylabel='Number of Orders')"
   ]
  },
  {
   "cell_type": "markdown",
   "id": "dominant-lightning",
   "metadata": {},
   "source": [
    "on sundays people are shopping more grocerries."
   ]
  },
  {
   "cell_type": "markdown",
   "id": "8ee6dae8",
   "metadata": {},
   "source": [
    "<div class=\"alert alert-block alert-success\">\n",
    "<b>Reviewer's comment v1</b>\n",
    "\n",
    "Everything is correct here. "
   ]
  },
  {
   "cell_type": "markdown",
   "id": "cutting-concert",
   "metadata": {},
   "source": [
    "### [A4] How long do people wait until placing another order?"
   ]
  },
  {
   "cell_type": "code",
   "execution_count": 43,
   "id": "c231f523",
   "metadata": {},
   "outputs": [
    {
     "name": "stdout",
     "output_type": "stream",
     "text": [
      "count    450135.000000\n",
      "mean         11.101814\n",
      "std           9.190004\n",
      "min           0.000000\n",
      "25%           4.000000\n",
      "50%           7.000000\n",
      "75%          15.000000\n",
      "max          30.000000\n",
      "Name: days_since_prior_order, dtype: float64\n"
     ]
    }
   ],
   "source": [
    "wait_stats = df_instacart_orders['days_since_prior_order'].describe()\n",
    "print(wait_stats)"
   ]
  },
  {
   "cell_type": "markdown",
   "id": "discrete-vertex",
   "metadata": {},
   "source": [
    "on an average people are waiting 11 days until placing another order."
   ]
  },
  {
   "cell_type": "code",
   "execution_count": 44,
   "id": "exciting-fantasy",
   "metadata": {},
   "outputs": [
    {
     "data": {
      "text/plain": [
       "<AxesSubplot:title={'center':'Distribution of Days Since Prior Order'}, ylabel='Frequency'>"
      ]
     },
     "execution_count": 44,
     "metadata": {},
     "output_type": "execute_result"
    },
    {
     "data": {
      "image/png": "[encoded data removed]",
      "text/plain": [
       "<Figure size 640x480 with 1 Axes>"
      ]
     },
     "metadata": {},
     "output_type": "display_data"
    }
   ],
   "source": [
    "df_instacart_orders['days_since_prior_order'].plot(kind='hist', bins=30, title='Distribution of Days Since Prior Order', xlabel='Days', ylabel='Frequency')"
   ]
  },
  {
   "cell_type": "markdown",
   "id": "8d926614",
   "metadata": {},
   "source": [
    "it seems max 30 days and 7 days is the median, so people are waiting one week to 30 days to buy groceries."
   ]
  },
  {
   "cell_type": "markdown",
   "id": "b44cd88b",
   "metadata": {},
   "source": [
    "<div class=\"alert alert-block alert-success\">\n",
    "<b>Reviewer's comment v1</b>\n",
    "\n",
    "Well done! "
   ]
  },
  {
   "cell_type": "markdown",
   "id": "tight-staff",
   "metadata": {},
   "source": [
    "# [B] Medium (must complete all to pass)"
   ]
  },
  {
   "cell_type": "markdown",
   "id": "packed-classic",
   "metadata": {},
   "source": [
    "### [B1] Is there a difference in `'order_hour_of_day'` distributions on Wednesdays and Saturdays? Plot the histograms for both days and describe the differences that you see."
   ]
  },
  {
   "cell_type": "code",
   "execution_count": 45,
   "id": "d89b8403",
   "metadata": {},
   "outputs": [],
   "source": [
    "wednesday_orders = df_instacart_orders[df_instacart_orders['order_dow'] == 3]['order_hour_of_day']\n",
    "saturday_orders = df_instacart_orders[df_instacart_orders['order_dow'] == 5]['order_hour_of_day']"
   ]
  },
  {
   "cell_type": "code",
   "execution_count": 46,
   "id": "94e54e8a",
   "metadata": {},
   "outputs": [
    {
     "data": {
      "image/png": "[encoded data removed]",
      "text/plain": [
       "<Figure size 1000x500 with 1 Axes>"
      ]
     },
     "metadata": {},
     "output_type": "display_data"
    }
   ],
   "source": [
    "wednesday_orders.hist(bins=24, range=(0, 23), alpha=0.7, label='Wednesday', color='blue', figsize=(10, 5))\n",
    "saturday_orders.hist(bins=24, range=(0, 23), alpha=0.7, label='Saturday', color='green')\n",
    "plt.title('Order Hour Distribution on Wednesday and Saturday')\n",
    "plt.xlabel('Hour of Day')\n",
    "plt.ylabel('Frequency')\n",
    "plt.legend()\n",
    "plt.show()"
   ]
  },
  {
   "cell_type": "markdown",
   "id": "charitable-congo",
   "metadata": {},
   "source": [
    "people are shopping higher on saturdays throught out the day except last hours of the saturday, but people tend to shop more at late hours on wednesday than on saturdays."
   ]
  },
  {
   "cell_type": "markdown",
   "id": "d03e0da6",
   "metadata": {},
   "source": [
    "<div class=\"alert alert-block alert-success\">\n",
    "<b>Reviewer's comment v1</b>\n",
    " \n",
    "Everything is correct here. "
   ]
  },
  {
   "cell_type": "markdown",
   "id": "e3891143",
   "metadata": {},
   "source": [
    "### [B2] What's the distribution for the number of orders per customer?"
   ]
  },
  {
   "cell_type": "code",
   "execution_count": 47,
   "id": "d8c26c23",
   "metadata": {},
   "outputs": [],
   "source": [
    "orders_per_customer = df_instacart_orders['user_id'].value_counts()"
   ]
  },
  {
   "cell_type": "code",
   "execution_count": 48,
   "id": "00e69a66",
   "metadata": {},
   "outputs": [
    {
     "data": {
      "text/plain": [
       "<AxesSubplot:title={'center':'Distribution of Orders per Customer'}, ylabel='Frequency'>"
      ]
     },
     "execution_count": 48,
     "metadata": {},
     "output_type": "execute_result"
    },
    {
     "data": {
      "image/png": "[encoded data removed]",
      "text/plain": [
       "<Figure size 640x480 with 1 Axes>"
      ]
     },
     "metadata": {},
     "output_type": "display_data"
    }
   ],
   "source": [
    "orders_per_customer.plot(kind='hist', bins=30, title='Distribution of Orders per Customer', xlabel='Number of Orders', ylabel='Number of Customers')"
   ]
  },
  {
   "cell_type": "markdown",
   "id": "d2eff7d5",
   "metadata": {},
   "source": [
    "this means most people ordered less number of orders, the peak of the distribution has 0 to 5 orders, as the number of orders increased, number of customers decreases rapidly."
   ]
  },
  {
   "cell_type": "markdown",
   "id": "cb62a558",
   "metadata": {},
   "source": [
    "<div class=\"alert alert-block alert-success\">\n",
    "<b>Reviewer's comment v1</b>\n",
    " \n",
    "Everything is correct here. "
   ]
  },
  {
   "cell_type": "markdown",
   "id": "54a0319c",
   "metadata": {},
   "source": [
    "### [B3] What are the top 20 popular products (display their id and name)?"
   ]
  },
  {
   "cell_type": "code",
   "execution_count": 49,
   "id": "exterior-arizona",
   "metadata": {
    "scrolled": true
   },
   "outputs": [],
   "source": [
    "top_products = df_order_products['product_id'].value_counts().head(20).reset_index()\n",
    "top_products.columns = ['product_id', 'order_count']"
   ]
  },
  {
   "cell_type": "code",
   "execution_count": 50,
   "id": "universal-facial",
   "metadata": {},
   "outputs": [],
   "source": [
    "top_products_with_names = top_products.merge(df_products[['product_id', 'product_name']], on='product_id')"
   ]
  },
  {
   "cell_type": "code",
   "execution_count": 51,
   "id": "bbcdd20b",
   "metadata": {},
   "outputs": [
    {
     "data": {
      "text/html": [
       "<div>\n",
       "<style scoped>\n",
       "    .dataframe tbody tr th:only-of-type {\n",
       "        vertical-align: middle;\n",
       "    }\n",
       "\n",
       "    .dataframe tbody tr th {\n",
       "        vertical-align: top;\n",
       "    }\n",
       "\n",
       "    .dataframe thead th {\n",
       "        text-align: right;\n",
       "    }\n",
       "</style>\n",
       "<table border=\"1\" class=\"dataframe\">\n",
       "  <thead>\n",
       "    <tr style=\"text-align: right;\">\n",
       "      <th></th>\n",
       "      <th>product_id</th>\n",
       "      <th>product_name</th>\n",
       "      <th>order_count</th>\n",
       "    </tr>\n",
       "  </thead>\n",
       "  <tbody>\n",
       "    <tr>\n",
       "      <th>0</th>\n",
       "      <td>24852</td>\n",
       "      <td>Banana</td>\n",
       "      <td>66050</td>\n",
       "    </tr>\n",
       "    <tr>\n",
       "      <th>1</th>\n",
       "      <td>13176</td>\n",
       "      <td>Bag of Organic Bananas</td>\n",
       "      <td>53297</td>\n",
       "    </tr>\n",
       "    <tr>\n",
       "      <th>2</th>\n",
       "      <td>21137</td>\n",
       "      <td>Organic Strawberries</td>\n",
       "      <td>37039</td>\n",
       "    </tr>\n",
       "    <tr>\n",
       "      <th>3</th>\n",
       "      <td>21903</td>\n",
       "      <td>Organic Baby Spinach</td>\n",
       "      <td>33971</td>\n",
       "    </tr>\n",
       "    <tr>\n",
       "      <th>4</th>\n",
       "      <td>47209</td>\n",
       "      <td>Organic Hass Avocado</td>\n",
       "      <td>29773</td>\n",
       "    </tr>\n",
       "    <tr>\n",
       "      <th>5</th>\n",
       "      <td>47766</td>\n",
       "      <td>Organic Avocado</td>\n",
       "      <td>24689</td>\n",
       "    </tr>\n",
       "    <tr>\n",
       "      <th>6</th>\n",
       "      <td>47626</td>\n",
       "      <td>Large Lemon</td>\n",
       "      <td>21495</td>\n",
       "    </tr>\n",
       "    <tr>\n",
       "      <th>7</th>\n",
       "      <td>16797</td>\n",
       "      <td>Strawberries</td>\n",
       "      <td>20018</td>\n",
       "    </tr>\n",
       "    <tr>\n",
       "      <th>8</th>\n",
       "      <td>26209</td>\n",
       "      <td>Limes</td>\n",
       "      <td>19690</td>\n",
       "    </tr>\n",
       "    <tr>\n",
       "      <th>9</th>\n",
       "      <td>27845</td>\n",
       "      <td>Organic Whole Milk</td>\n",
       "      <td>19600</td>\n",
       "    </tr>\n",
       "    <tr>\n",
       "      <th>10</th>\n",
       "      <td>27966</td>\n",
       "      <td>Organic Raspberries</td>\n",
       "      <td>19197</td>\n",
       "    </tr>\n",
       "    <tr>\n",
       "      <th>11</th>\n",
       "      <td>22935</td>\n",
       "      <td>Organic Yellow Onion</td>\n",
       "      <td>15898</td>\n",
       "    </tr>\n",
       "    <tr>\n",
       "      <th>12</th>\n",
       "      <td>24964</td>\n",
       "      <td>Organic Garlic</td>\n",
       "      <td>15292</td>\n",
       "    </tr>\n",
       "    <tr>\n",
       "      <th>13</th>\n",
       "      <td>45007</td>\n",
       "      <td>Organic Zucchini</td>\n",
       "      <td>14584</td>\n",
       "    </tr>\n",
       "    <tr>\n",
       "      <th>14</th>\n",
       "      <td>39275</td>\n",
       "      <td>Organic Blueberries</td>\n",
       "      <td>13879</td>\n",
       "    </tr>\n",
       "    <tr>\n",
       "      <th>15</th>\n",
       "      <td>49683</td>\n",
       "      <td>Cucumber Kirby</td>\n",
       "      <td>13675</td>\n",
       "    </tr>\n",
       "    <tr>\n",
       "      <th>16</th>\n",
       "      <td>28204</td>\n",
       "      <td>Organic Fuji Apple</td>\n",
       "      <td>12544</td>\n",
       "    </tr>\n",
       "    <tr>\n",
       "      <th>17</th>\n",
       "      <td>5876</td>\n",
       "      <td>Organic Lemon</td>\n",
       "      <td>12232</td>\n",
       "    </tr>\n",
       "    <tr>\n",
       "      <th>18</th>\n",
       "      <td>8277</td>\n",
       "      <td>Apple Honeycrisp Organic</td>\n",
       "      <td>11993</td>\n",
       "    </tr>\n",
       "    <tr>\n",
       "      <th>19</th>\n",
       "      <td>40706</td>\n",
       "      <td>Organic Grape Tomatoes</td>\n",
       "      <td>11781</td>\n",
       "    </tr>\n",
       "  </tbody>\n",
       "</table>\n",
       "</div>"
      ],
      "text/plain": [
       "    product_id              product_name  order_count\n",
       "0        24852                    Banana        66050\n",
       "1        13176    Bag of Organic Bananas        53297\n",
       "2        21137      Organic Strawberries        37039\n",
       "3        21903      Organic Baby Spinach        33971\n",
       "4        47209      Organic Hass Avocado        29773\n",
       "5        47766           Organic Avocado        24689\n",
       "6        47626               Large Lemon        21495\n",
       "7        16797              Strawberries        20018\n",
       "8        26209                     Limes        19690\n",
       "9        27845        Organic Whole Milk        19600\n",
       "10       27966       Organic Raspberries        19197\n",
       "11       22935      Organic Yellow Onion        15898\n",
       "12       24964            Organic Garlic        15292\n",
       "13       45007          Organic Zucchini        14584\n",
       "14       39275       Organic Blueberries        13879\n",
       "15       49683            Cucumber Kirby        13675\n",
       "16       28204        Organic Fuji Apple        12544\n",
       "17        5876             Organic Lemon        12232\n",
       "18        8277  Apple Honeycrisp Organic        11993\n",
       "19       40706    Organic Grape Tomatoes        11781"
      ]
     },
     "execution_count": 51,
     "metadata": {},
     "output_type": "execute_result"
    }
   ],
   "source": [
    "top_products_with_names[['product_id', 'product_name', 'order_count']]"
   ]
  },
  {
   "cell_type": "markdown",
   "id": "7df00f47",
   "metadata": {},
   "source": [
    "these are the top 20 highest selling products, bananas are selling higher "
   ]
  },
  {
   "cell_type": "markdown",
   "id": "edd4465f",
   "metadata": {},
   "source": [
    "<div class=\"alert alert-block alert-success\">\n",
    "<b>Reviewer's comment v1</b>\n",
    " \n",
    "Great work! Additionally, you could plot the results on this query in the following way: \n",
    "\n",
    "```\n",
    "plt.figure(figsize=(10,6))\n",
    "plt.barh(top_20_popular['product_name'], top_20_popular['product_id'], color='skyblue')\n",
    "plt.xlabel('Product ID')\n",
    "plt.ylabel('Product Name')\n",
    "plt.title('Barplot of Product IDs against Product Names')\n",
    "plt.gca().invert_yaxis()  # To have the first product on top\n",
    "plt.tight_layout()\n",
    "plt.show()   \n",
    "```"
   ]
  },
  {
   "cell_type": "markdown",
   "id": "gross-theme",
   "metadata": {},
   "source": [
    "# [C] Hard (must complete at least two to pass)"
   ]
  },
  {
   "cell_type": "markdown",
   "id": "romantic-deposit",
   "metadata": {},
   "source": [
    "### [C1] How many items do people typically buy in one order? What does the distribution look like?"
   ]
  },
  {
   "cell_type": "code",
   "execution_count": 52,
   "id": "virtual-punch",
   "metadata": {},
   "outputs": [],
   "source": [
    "items_per_order = df_order_products.groupby('order_id').size()"
   ]
  },
  {
   "cell_type": "code",
   "execution_count": 53,
   "id": "sensitive-breathing",
   "metadata": {},
   "outputs": [
    {
     "name": "stdout",
     "output_type": "stream",
     "text": [
      "Average number of items per order: 10.10\n"
     ]
    }
   ],
   "source": [
    "average_items = items_per_order.mean()\n",
    "print(f'Average number of items per order: {average_items:.2f}')"
   ]
  },
  {
   "cell_type": "code",
   "execution_count": 54,
   "id": "completed-frank",
   "metadata": {},
   "outputs": [
    {
     "data": {
      "image/png": "[encoded data removed]",
      "text/plain": [
       "<Figure size 1000x500 with 1 Axes>"
      ]
     },
     "metadata": {},
     "output_type": "display_data"
    }
   ],
   "source": [
    "plt.figure(figsize=(10, 5))\n",
    "items_per_order.plot(kind='hist', bins=30, color='skyblue', alpha=0.7)\n",
    "plt.title('Distribution of Items per Order')\n",
    "plt.xlabel('Number of Items')\n",
    "plt.ylabel('Number of Orders')\n",
    "plt.grid(axis='y')\n",
    "plt.show()"
   ]
  },
  {
   "cell_type": "markdown",
   "id": "designed-mortality",
   "metadata": {},
   "source": [
    "average number of items per order are 10, the distribution shows that number of people decreses when number of items increases."
   ]
  },
  {
   "cell_type": "markdown",
   "id": "65f54ef7",
   "metadata": {},
   "source": [
    "<div class=\"alert alert-block alert-warning\">\n",
    "<b>Reviewer's comment v1</b>\n",
    "    \n",
    "Everything is correct here. \n",
    " \n",
    "Using `axvline` can be very helpful in this context. It allows you to draw a vertical line on the plot at a specified x-value. For instance:\n",
    "\n",
    "You can use it to mark the mean of the data, giving a visual representation of where the average lies.\n",
    "    \n",
    "Adding these lines can provide additional insight into the distribution of the data, making it easier to understand the typical behavior (like where the central tendency of the data is) and variability (how spread out the data points are).\n",
    "\n",
    "If you choose to use axvline, here's a quick example for the `mean`:\n",
    "```\n",
    "plt.hist(items_per_order, bins=range(1, 52), alpha=0.7)\n",
    "plt.axvline(items_per_order.mean(), color='red', linestyle='dashed', linewidth=1, label='Mean')\n",
    "plt.legend()\n",
    "plt.xlabel('Number of items')\n",
    "plt.ylabel('Number of orders')\n",
    "plt.title('Distribution of items per order')\n",
    "plt.show()\n",
    "```\n",
    "</div>\n"
   ]
  },
  {
   "cell_type": "markdown",
   "id": "5e6b5537",
   "metadata": {},
   "source": [
    "### [C2] What are the top 20 items that are reordered most frequently (display their names and product IDs)?"
   ]
  },
  {
   "cell_type": "code",
   "execution_count": 55,
   "id": "9374e55a",
   "metadata": {},
   "outputs": [],
   "source": [
    "reordered=df_order_products[df_order_products['reordered'] == 1]"
   ]
  },
  {
   "cell_type": "code",
   "execution_count": 56,
   "id": "possible-change",
   "metadata": {
    "scrolled": true
   },
   "outputs": [],
   "source": [
    "top_reordered = reordered['product_id'].value_counts().head(20).reset_index()\n",
    "top_reordered.columns = ['product_id', 'reorder_count']"
   ]
  },
  {
   "cell_type": "code",
   "execution_count": 57,
   "id": "professional-surfing",
   "metadata": {
    "scrolled": true
   },
   "outputs": [],
   "source": [
    "top_reordered_names = top_reordered.merge(df_products[['product_id', 'product_name']], on='product_id')"
   ]
  },
  {
   "cell_type": "code",
   "execution_count": 58,
   "id": "48dd3658",
   "metadata": {},
   "outputs": [
    {
     "data": {
      "text/html": [
       "<div>\n",
       "<style scoped>\n",
       "    .dataframe tbody tr th:only-of-type {\n",
       "        vertical-align: middle;\n",
       "    }\n",
       "\n",
       "    .dataframe tbody tr th {\n",
       "        vertical-align: top;\n",
       "    }\n",
       "\n",
       "    .dataframe thead th {\n",
       "        text-align: right;\n",
       "    }\n",
       "</style>\n",
       "<table border=\"1\" class=\"dataframe\">\n",
       "  <thead>\n",
       "    <tr style=\"text-align: right;\">\n",
       "      <th></th>\n",
       "      <th>product_id</th>\n",
       "      <th>product_name</th>\n",
       "      <th>reorder_count</th>\n",
       "    </tr>\n",
       "  </thead>\n",
       "  <tbody>\n",
       "    <tr>\n",
       "      <th>0</th>\n",
       "      <td>24852</td>\n",
       "      <td>Banana</td>\n",
       "      <td>55763</td>\n",
       "    </tr>\n",
       "    <tr>\n",
       "      <th>1</th>\n",
       "      <td>13176</td>\n",
       "      <td>Bag of Organic Bananas</td>\n",
       "      <td>44450</td>\n",
       "    </tr>\n",
       "    <tr>\n",
       "      <th>2</th>\n",
       "      <td>21137</td>\n",
       "      <td>Organic Strawberries</td>\n",
       "      <td>28639</td>\n",
       "    </tr>\n",
       "    <tr>\n",
       "      <th>3</th>\n",
       "      <td>21903</td>\n",
       "      <td>Organic Baby Spinach</td>\n",
       "      <td>26233</td>\n",
       "    </tr>\n",
       "    <tr>\n",
       "      <th>4</th>\n",
       "      <td>47209</td>\n",
       "      <td>Organic Hass Avocado</td>\n",
       "      <td>23629</td>\n",
       "    </tr>\n",
       "    <tr>\n",
       "      <th>5</th>\n",
       "      <td>47766</td>\n",
       "      <td>Organic Avocado</td>\n",
       "      <td>18743</td>\n",
       "    </tr>\n",
       "    <tr>\n",
       "      <th>6</th>\n",
       "      <td>27845</td>\n",
       "      <td>Organic Whole Milk</td>\n",
       "      <td>16251</td>\n",
       "    </tr>\n",
       "    <tr>\n",
       "      <th>7</th>\n",
       "      <td>47626</td>\n",
       "      <td>Large Lemon</td>\n",
       "      <td>15044</td>\n",
       "    </tr>\n",
       "    <tr>\n",
       "      <th>8</th>\n",
       "      <td>27966</td>\n",
       "      <td>Organic Raspberries</td>\n",
       "      <td>14748</td>\n",
       "    </tr>\n",
       "    <tr>\n",
       "      <th>9</th>\n",
       "      <td>16797</td>\n",
       "      <td>Strawberries</td>\n",
       "      <td>13945</td>\n",
       "    </tr>\n",
       "    <tr>\n",
       "      <th>10</th>\n",
       "      <td>26209</td>\n",
       "      <td>Limes</td>\n",
       "      <td>13327</td>\n",
       "    </tr>\n",
       "    <tr>\n",
       "      <th>11</th>\n",
       "      <td>22935</td>\n",
       "      <td>Organic Yellow Onion</td>\n",
       "      <td>11145</td>\n",
       "    </tr>\n",
       "    <tr>\n",
       "      <th>12</th>\n",
       "      <td>24964</td>\n",
       "      <td>Organic Garlic</td>\n",
       "      <td>10411</td>\n",
       "    </tr>\n",
       "    <tr>\n",
       "      <th>13</th>\n",
       "      <td>45007</td>\n",
       "      <td>Organic Zucchini</td>\n",
       "      <td>10076</td>\n",
       "    </tr>\n",
       "    <tr>\n",
       "      <th>14</th>\n",
       "      <td>49683</td>\n",
       "      <td>Cucumber Kirby</td>\n",
       "      <td>9538</td>\n",
       "    </tr>\n",
       "    <tr>\n",
       "      <th>15</th>\n",
       "      <td>28204</td>\n",
       "      <td>Organic Fuji Apple</td>\n",
       "      <td>8989</td>\n",
       "    </tr>\n",
       "    <tr>\n",
       "      <th>16</th>\n",
       "      <td>8277</td>\n",
       "      <td>Apple Honeycrisp Organic</td>\n",
       "      <td>8836</td>\n",
       "    </tr>\n",
       "    <tr>\n",
       "      <th>17</th>\n",
       "      <td>39275</td>\n",
       "      <td>Organic Blueberries</td>\n",
       "      <td>8799</td>\n",
       "    </tr>\n",
       "    <tr>\n",
       "      <th>18</th>\n",
       "      <td>5876</td>\n",
       "      <td>Organic Lemon</td>\n",
       "      <td>8412</td>\n",
       "    </tr>\n",
       "    <tr>\n",
       "      <th>19</th>\n",
       "      <td>49235</td>\n",
       "      <td>Organic Half &amp; Half</td>\n",
       "      <td>8389</td>\n",
       "    </tr>\n",
       "  </tbody>\n",
       "</table>\n",
       "</div>"
      ],
      "text/plain": [
       "    product_id              product_name  reorder_count\n",
       "0        24852                    Banana          55763\n",
       "1        13176    Bag of Organic Bananas          44450\n",
       "2        21137      Organic Strawberries          28639\n",
       "3        21903      Organic Baby Spinach          26233\n",
       "4        47209      Organic Hass Avocado          23629\n",
       "5        47766           Organic Avocado          18743\n",
       "6        27845        Organic Whole Milk          16251\n",
       "7        47626               Large Lemon          15044\n",
       "8        27966       Organic Raspberries          14748\n",
       "9        16797              Strawberries          13945\n",
       "10       26209                     Limes          13327\n",
       "11       22935      Organic Yellow Onion          11145\n",
       "12       24964            Organic Garlic          10411\n",
       "13       45007          Organic Zucchini          10076\n",
       "14       49683            Cucumber Kirby           9538\n",
       "15       28204        Organic Fuji Apple           8989\n",
       "16        8277  Apple Honeycrisp Organic           8836\n",
       "17       39275       Organic Blueberries           8799\n",
       "18        5876             Organic Lemon           8412\n",
       "19       49235       Organic Half & Half           8389"
      ]
     },
     "execution_count": 58,
     "metadata": {},
     "output_type": "execute_result"
    }
   ],
   "source": [
    "top_reordered_names[['product_id', 'product_name', 'reorder_count']]"
   ]
  },
  {
   "cell_type": "markdown",
   "id": "80e70c74",
   "metadata": {},
   "source": [
    "these are the top 20 most frequently reordered items, banana is in the top most position."
   ]
  },
  {
   "cell_type": "markdown",
   "id": "eed5c46f",
   "metadata": {},
   "source": [
    "<div class=\"alert alert-block alert-success\">\n",
    "<b>Reviewer's comment v1</b>\n",
    " \n",
    "You got correct results. You could create a graph with this information. I left an example of how to do that above.\n",
    "    \n",
    "PS: in many cases it is helpful to support your results with a plot (barchart in that case). "
   ]
  },
  {
   "cell_type": "markdown",
   "id": "9d312b14",
   "metadata": {},
   "source": [
    "### [C3] For each product, what proportion of its orders are reorders?"
   ]
  },
  {
   "cell_type": "code",
   "execution_count": 59,
   "id": "8ae9f4b1",
   "metadata": {},
   "outputs": [],
   "source": [
    "total_orders = df_order_products['product_id'].value_counts()\n",
    "reorder_counts = df_order_products[df_order_products['reordered'] == 1]['product_id'].value_counts()"
   ]
  },
  {
   "cell_type": "code",
   "execution_count": 60,
   "id": "103e7fe1",
   "metadata": {},
   "outputs": [],
   "source": [
    "reorder_proportion = (reorder_counts / total_orders).fillna(0).reset_index()\n",
    "reorder_proportion.columns = ['product_id', 'reorder_proportion']"
   ]
  },
  {
   "cell_type": "code",
   "execution_count": 61,
   "id": "social-individual",
   "metadata": {},
   "outputs": [
    {
     "data": {
      "text/html": [
       "<div>\n",
       "<style scoped>\n",
       "    .dataframe tbody tr th:only-of-type {\n",
       "        vertical-align: middle;\n",
       "    }\n",
       "\n",
       "    .dataframe tbody tr th {\n",
       "        vertical-align: top;\n",
       "    }\n",
       "\n",
       "    .dataframe thead th {\n",
       "        text-align: right;\n",
       "    }\n",
       "</style>\n",
       "<table border=\"1\" class=\"dataframe\">\n",
       "  <thead>\n",
       "    <tr style=\"text-align: right;\">\n",
       "      <th></th>\n",
       "      <th>product_id</th>\n",
       "      <th>product_name</th>\n",
       "      <th>reorder_proportion</th>\n",
       "    </tr>\n",
       "  </thead>\n",
       "  <tbody>\n",
       "    <tr>\n",
       "      <th>0</th>\n",
       "      <td>1</td>\n",
       "      <td>Chocolate Sandwich Cookies</td>\n",
       "      <td>0.564286</td>\n",
       "    </tr>\n",
       "    <tr>\n",
       "      <th>1</th>\n",
       "      <td>2</td>\n",
       "      <td>All-Seasons Salt</td>\n",
       "      <td>0.000000</td>\n",
       "    </tr>\n",
       "    <tr>\n",
       "      <th>2</th>\n",
       "      <td>3</td>\n",
       "      <td>Robust Golden Unsweetened Oolong Tea</td>\n",
       "      <td>0.738095</td>\n",
       "    </tr>\n",
       "    <tr>\n",
       "      <th>3</th>\n",
       "      <td>4</td>\n",
       "      <td>Smart Ones Classic Favorites Mini Rigatoni Wit...</td>\n",
       "      <td>0.510204</td>\n",
       "    </tr>\n",
       "    <tr>\n",
       "      <th>4</th>\n",
       "      <td>7</td>\n",
       "      <td>Pure Coconut Water With Orange</td>\n",
       "      <td>0.500000</td>\n",
       "    </tr>\n",
       "    <tr>\n",
       "      <th>...</th>\n",
       "      <td>...</td>\n",
       "      <td>...</td>\n",
       "      <td>...</td>\n",
       "    </tr>\n",
       "    <tr>\n",
       "      <th>45568</th>\n",
       "      <td>49690</td>\n",
       "      <td>HIGH PERFORMANCE ENERGY DRINK</td>\n",
       "      <td>0.800000</td>\n",
       "    </tr>\n",
       "    <tr>\n",
       "      <th>45569</th>\n",
       "      <td>49691</td>\n",
       "      <td>ORIGINAL PANCAKE &amp; WAFFLE MIX</td>\n",
       "      <td>0.430556</td>\n",
       "    </tr>\n",
       "    <tr>\n",
       "      <th>45570</th>\n",
       "      <td>49692</td>\n",
       "      <td>ORGANIC INSTANT OATMEAL LIGHT MAPLE BROWN SUGAR</td>\n",
       "      <td>0.416667</td>\n",
       "    </tr>\n",
       "    <tr>\n",
       "      <th>45571</th>\n",
       "      <td>49693</td>\n",
       "      <td>SPRING WATER BODY WASH</td>\n",
       "      <td>0.440000</td>\n",
       "    </tr>\n",
       "    <tr>\n",
       "      <th>45572</th>\n",
       "      <td>49694</td>\n",
       "      <td>BURRITO- STEAK &amp; CHEESE</td>\n",
       "      <td>0.333333</td>\n",
       "    </tr>\n",
       "  </tbody>\n",
       "</table>\n",
       "<p>45573 rows × 3 columns</p>\n",
       "</div>"
      ],
      "text/plain": [
       "       product_id                                       product_name  \\\n",
       "0               1                         Chocolate Sandwich Cookies   \n",
       "1               2                                   All-Seasons Salt   \n",
       "2               3               Robust Golden Unsweetened Oolong Tea   \n",
       "3               4  Smart Ones Classic Favorites Mini Rigatoni Wit...   \n",
       "4               7                     Pure Coconut Water With Orange   \n",
       "...           ...                                                ...   \n",
       "45568       49690                      HIGH PERFORMANCE ENERGY DRINK   \n",
       "45569       49691                      ORIGINAL PANCAKE & WAFFLE MIX   \n",
       "45570       49692    ORGANIC INSTANT OATMEAL LIGHT MAPLE BROWN SUGAR   \n",
       "45571       49693                             SPRING WATER BODY WASH   \n",
       "45572       49694                            BURRITO- STEAK & CHEESE   \n",
       "\n",
       "       reorder_proportion  \n",
       "0                0.564286  \n",
       "1                0.000000  \n",
       "2                0.738095  \n",
       "3                0.510204  \n",
       "4                0.500000  \n",
       "...                   ...  \n",
       "45568            0.800000  \n",
       "45569            0.430556  \n",
       "45570            0.416667  \n",
       "45571            0.440000  \n",
       "45572            0.333333  \n",
       "\n",
       "[45573 rows x 3 columns]"
      ]
     },
     "execution_count": 61,
     "metadata": {},
     "output_type": "execute_result"
    }
   ],
   "source": [
    "result = reorder_proportion.merge(df_products[['product_id', 'product_name']], on='product_id')\n",
    "result[['product_id', 'product_name', 'reorder_proportion']]"
   ]
  },
  {
   "cell_type": "markdown",
   "id": "b930a94b",
   "metadata": {},
   "source": [
    "<div class=\"alert alert-block alert-success\">\n",
    "<b>Reviewer's comment v1</b>\n",
    " \n",
    "Everything is correct here. "
   ]
  },
  {
   "cell_type": "markdown",
   "id": "subject-boxing",
   "metadata": {},
   "source": [
    "### [C4] For each customer, what proportion of their products ordered are reorders?"
   ]
  },
  {
   "cell_type": "code",
   "execution_count": 62,
   "id": "medical-couple",
   "metadata": {
    "scrolled": true
   },
   "outputs": [],
   "source": [
    "merged_data = df_instacart_orders.merge(df_order_products, on='order_id')\n",
    "total_orders_per_customer = merged_data.groupby('user_id').size()"
   ]
  },
  {
   "cell_type": "code",
   "execution_count": 63,
   "id": "8892e4b4",
   "metadata": {},
   "outputs": [],
   "source": [
    "reorder_counts_per_customer = merged_data[merged_data['reordered'] == 1].groupby('user_id').size()"
   ]
  },
  {
   "cell_type": "code",
   "execution_count": 64,
   "id": "a00d2add",
   "metadata": {},
   "outputs": [
    {
     "data": {
      "text/html": [
       "<div>\n",
       "<style scoped>\n",
       "    .dataframe tbody tr th:only-of-type {\n",
       "        vertical-align: middle;\n",
       "    }\n",
       "\n",
       "    .dataframe tbody tr th {\n",
       "        vertical-align: top;\n",
       "    }\n",
       "\n",
       "    .dataframe thead th {\n",
       "        text-align: right;\n",
       "    }\n",
       "</style>\n",
       "<table border=\"1\" class=\"dataframe\">\n",
       "  <thead>\n",
       "    <tr style=\"text-align: right;\">\n",
       "      <th></th>\n",
       "      <th>user_id</th>\n",
       "      <th>reorder_proportion</th>\n",
       "    </tr>\n",
       "  </thead>\n",
       "  <tbody>\n",
       "    <tr>\n",
       "      <th>0</th>\n",
       "      <td>2</td>\n",
       "      <td>0.038462</td>\n",
       "    </tr>\n",
       "    <tr>\n",
       "      <th>1</th>\n",
       "      <td>4</td>\n",
       "      <td>0.000000</td>\n",
       "    </tr>\n",
       "    <tr>\n",
       "      <th>2</th>\n",
       "      <td>5</td>\n",
       "      <td>0.666667</td>\n",
       "    </tr>\n",
       "    <tr>\n",
       "      <th>3</th>\n",
       "      <td>6</td>\n",
       "      <td>0.000000</td>\n",
       "    </tr>\n",
       "    <tr>\n",
       "      <th>4</th>\n",
       "      <td>7</td>\n",
       "      <td>0.928571</td>\n",
       "    </tr>\n",
       "    <tr>\n",
       "      <th>...</th>\n",
       "      <td>...</td>\n",
       "      <td>...</td>\n",
       "    </tr>\n",
       "    <tr>\n",
       "      <th>149621</th>\n",
       "      <td>206203</td>\n",
       "      <td>0.222222</td>\n",
       "    </tr>\n",
       "    <tr>\n",
       "      <th>149622</th>\n",
       "      <td>206206</td>\n",
       "      <td>0.714286</td>\n",
       "    </tr>\n",
       "    <tr>\n",
       "      <th>149623</th>\n",
       "      <td>206207</td>\n",
       "      <td>0.891304</td>\n",
       "    </tr>\n",
       "    <tr>\n",
       "      <th>149624</th>\n",
       "      <td>206208</td>\n",
       "      <td>0.696000</td>\n",
       "    </tr>\n",
       "    <tr>\n",
       "      <th>149625</th>\n",
       "      <td>206209</td>\n",
       "      <td>0.320000</td>\n",
       "    </tr>\n",
       "  </tbody>\n",
       "</table>\n",
       "<p>149626 rows × 2 columns</p>\n",
       "</div>"
      ],
      "text/plain": [
       "        user_id  reorder_proportion\n",
       "0             2            0.038462\n",
       "1             4            0.000000\n",
       "2             5            0.666667\n",
       "3             6            0.000000\n",
       "4             7            0.928571\n",
       "...         ...                 ...\n",
       "149621   206203            0.222222\n",
       "149622   206206            0.714286\n",
       "149623   206207            0.891304\n",
       "149624   206208            0.696000\n",
       "149625   206209            0.320000\n",
       "\n",
       "[149626 rows x 2 columns]"
      ]
     },
     "execution_count": 64,
     "metadata": {},
     "output_type": "execute_result"
    }
   ],
   "source": [
    "reorder_proportion_per_customer = (reorder_counts_per_customer / total_orders_per_customer).fillna(0).reset_index()\n",
    "reorder_proportion_per_customer.columns = ['user_id', 'reorder_proportion']\n",
    "reorder_proportion_per_customer"
   ]
  },
  {
   "cell_type": "markdown",
   "id": "6cdd1611",
   "metadata": {},
   "source": [
    "<div class=\"alert alert-block alert-success\">\n",
    "<b>Reviewer's comment v1</b>\n",
    "\n",
    "Everything is correct here. "
   ]
  },
  {
   "cell_type": "markdown",
   "id": "92d35137",
   "metadata": {},
   "source": [
    "### [C5] What are the top 20 items that people put in their carts first? "
   ]
  },
  {
   "cell_type": "code",
   "execution_count": 65,
   "id": "0ae57274",
   "metadata": {
    "scrolled": true
   },
   "outputs": [],
   "source": [
    "first_items = df_order_products[df_order_products['add_to_cart_order'] == 1]"
   ]
  },
  {
   "cell_type": "code",
   "execution_count": 66,
   "id": "forty-netherlands",
   "metadata": {
    "scrolled": true
   },
   "outputs": [],
   "source": [
    "top_first_added_products = first_items['product_id'].value_counts().head(20).reset_index()\n",
    "top_first_added_products.columns = ['product_id', 'first_added_count']"
   ]
  },
  {
   "cell_type": "code",
   "execution_count": 67,
   "id": "08e41ec2",
   "metadata": {},
   "outputs": [],
   "source": [
    "top_first_added_products_with_names = top_first_added_products.merge(df_products[['product_id', 'product_name']], on='product_id')"
   ]
  },
  {
   "cell_type": "code",
   "execution_count": 68,
   "id": "9ed0bb18",
   "metadata": {},
   "outputs": [
    {
     "data": {
      "text/html": [
       "<div>\n",
       "<style scoped>\n",
       "    .dataframe tbody tr th:only-of-type {\n",
       "        vertical-align: middle;\n",
       "    }\n",
       "\n",
       "    .dataframe tbody tr th {\n",
       "        vertical-align: top;\n",
       "    }\n",
       "\n",
       "    .dataframe thead th {\n",
       "        text-align: right;\n",
       "    }\n",
       "</style>\n",
       "<table border=\"1\" class=\"dataframe\">\n",
       "  <thead>\n",
       "    <tr style=\"text-align: right;\">\n",
       "      <th></th>\n",
       "      <th>product_id</th>\n",
       "      <th>product_name</th>\n",
       "      <th>first_added_count</th>\n",
       "    </tr>\n",
       "  </thead>\n",
       "  <tbody>\n",
       "    <tr>\n",
       "      <th>0</th>\n",
       "      <td>24852</td>\n",
       "      <td>Banana</td>\n",
       "      <td>15562</td>\n",
       "    </tr>\n",
       "    <tr>\n",
       "      <th>1</th>\n",
       "      <td>13176</td>\n",
       "      <td>Bag of Organic Bananas</td>\n",
       "      <td>11026</td>\n",
       "    </tr>\n",
       "    <tr>\n",
       "      <th>2</th>\n",
       "      <td>27845</td>\n",
       "      <td>Organic Whole Milk</td>\n",
       "      <td>4363</td>\n",
       "    </tr>\n",
       "    <tr>\n",
       "      <th>3</th>\n",
       "      <td>21137</td>\n",
       "      <td>Organic Strawberries</td>\n",
       "      <td>3946</td>\n",
       "    </tr>\n",
       "    <tr>\n",
       "      <th>4</th>\n",
       "      <td>47209</td>\n",
       "      <td>Organic Hass Avocado</td>\n",
       "      <td>3390</td>\n",
       "    </tr>\n",
       "    <tr>\n",
       "      <th>5</th>\n",
       "      <td>21903</td>\n",
       "      <td>Organic Baby Spinach</td>\n",
       "      <td>3336</td>\n",
       "    </tr>\n",
       "    <tr>\n",
       "      <th>6</th>\n",
       "      <td>47766</td>\n",
       "      <td>Organic Avocado</td>\n",
       "      <td>3044</td>\n",
       "    </tr>\n",
       "    <tr>\n",
       "      <th>7</th>\n",
       "      <td>19660</td>\n",
       "      <td>Spring Water</td>\n",
       "      <td>2336</td>\n",
       "    </tr>\n",
       "    <tr>\n",
       "      <th>8</th>\n",
       "      <td>16797</td>\n",
       "      <td>Strawberries</td>\n",
       "      <td>2308</td>\n",
       "    </tr>\n",
       "    <tr>\n",
       "      <th>9</th>\n",
       "      <td>27966</td>\n",
       "      <td>Organic Raspberries</td>\n",
       "      <td>2024</td>\n",
       "    </tr>\n",
       "    <tr>\n",
       "      <th>10</th>\n",
       "      <td>44632</td>\n",
       "      <td>Sparkling Water Grapefruit</td>\n",
       "      <td>1914</td>\n",
       "    </tr>\n",
       "    <tr>\n",
       "      <th>11</th>\n",
       "      <td>49235</td>\n",
       "      <td>Organic Half &amp; Half</td>\n",
       "      <td>1797</td>\n",
       "    </tr>\n",
       "    <tr>\n",
       "      <th>12</th>\n",
       "      <td>47626</td>\n",
       "      <td>Large Lemon</td>\n",
       "      <td>1737</td>\n",
       "    </tr>\n",
       "    <tr>\n",
       "      <th>13</th>\n",
       "      <td>196</td>\n",
       "      <td>Soda</td>\n",
       "      <td>1733</td>\n",
       "    </tr>\n",
       "    <tr>\n",
       "      <th>14</th>\n",
       "      <td>38689</td>\n",
       "      <td>Organic Reduced Fat Milk</td>\n",
       "      <td>1397</td>\n",
       "    </tr>\n",
       "    <tr>\n",
       "      <th>15</th>\n",
       "      <td>26209</td>\n",
       "      <td>Limes</td>\n",
       "      <td>1370</td>\n",
       "    </tr>\n",
       "    <tr>\n",
       "      <th>16</th>\n",
       "      <td>12341</td>\n",
       "      <td>Hass Avocados</td>\n",
       "      <td>1340</td>\n",
       "    </tr>\n",
       "    <tr>\n",
       "      <th>17</th>\n",
       "      <td>5785</td>\n",
       "      <td>Organic Reduced Fat 2% Milk</td>\n",
       "      <td>1310</td>\n",
       "    </tr>\n",
       "    <tr>\n",
       "      <th>18</th>\n",
       "      <td>27086</td>\n",
       "      <td>Half &amp; Half</td>\n",
       "      <td>1309</td>\n",
       "    </tr>\n",
       "    <tr>\n",
       "      <th>19</th>\n",
       "      <td>22935</td>\n",
       "      <td>Organic Yellow Onion</td>\n",
       "      <td>1246</td>\n",
       "    </tr>\n",
       "  </tbody>\n",
       "</table>\n",
       "</div>"
      ],
      "text/plain": [
       "    product_id                 product_name  first_added_count\n",
       "0        24852                       Banana              15562\n",
       "1        13176       Bag of Organic Bananas              11026\n",
       "2        27845           Organic Whole Milk               4363\n",
       "3        21137         Organic Strawberries               3946\n",
       "4        47209         Organic Hass Avocado               3390\n",
       "5        21903         Organic Baby Spinach               3336\n",
       "6        47766              Organic Avocado               3044\n",
       "7        19660                 Spring Water               2336\n",
       "8        16797                 Strawberries               2308\n",
       "9        27966          Organic Raspberries               2024\n",
       "10       44632   Sparkling Water Grapefruit               1914\n",
       "11       49235          Organic Half & Half               1797\n",
       "12       47626                  Large Lemon               1737\n",
       "13         196                         Soda               1733\n",
       "14       38689     Organic Reduced Fat Milk               1397\n",
       "15       26209                        Limes               1370\n",
       "16       12341                Hass Avocados               1340\n",
       "17        5785  Organic Reduced Fat 2% Milk               1310\n",
       "18       27086                  Half & Half               1309\n",
       "19       22935         Organic Yellow Onion               1246"
      ]
     },
     "execution_count": 68,
     "metadata": {},
     "output_type": "execute_result"
    }
   ],
   "source": [
    "top_first_added_products_with_names[['product_id', 'product_name', 'first_added_count']]"
   ]
  },
  {
   "cell_type": "markdown",
   "id": "28ce9872",
   "metadata": {},
   "source": [
    "these are the top 20 items that are being added as a first item, banana is at the top, that means most of the times, it is added as a first item to the cart."
   ]
  },
  {
   "cell_type": "markdown",
   "id": "0fbb0aca",
   "metadata": {},
   "source": [
    "<div class=\"alert alert-block alert-success\">\n",
    "<b>Reviewer's comment v1</b>\n",
    " \n",
    "Great! You did an amazing job. "
   ]
  }
 ],
 "metadata": {
  "ExecuteTimeLog": [
   {
    "duration": 291,
    "start_time": "2024-10-25T19:58:03.791Z"
   },
   {
    "duration": 313,
    "start_time": "2024-10-25T20:00:14.573Z"
   },
   {
    "duration": 313,
    "start_time": "2024-10-25T20:01:54.319Z"
   },
   {
    "duration": 52,
    "start_time": "2024-10-25T20:03:43.033Z"
   },
   {
    "duration": 123,
    "start_time": "2024-10-25T20:04:21.011Z"
   },
   {
    "duration": 5,
    "start_time": "2024-10-25T20:04:46.773Z"
   },
   {
    "duration": 38,
    "start_time": "2024-10-25T20:04:57.762Z"
   },
   {
    "duration": 2431,
    "start_time": "2024-10-25T20:13:56.338Z"
   },
   {
    "duration": 764,
    "start_time": "2024-10-25T20:14:28.248Z"
   },
   {
    "duration": 8,
    "start_time": "2024-10-25T20:17:24.579Z"
   },
   {
    "duration": 6,
    "start_time": "2024-10-25T20:17:34.889Z"
   },
   {
    "duration": 10,
    "start_time": "2024-10-25T20:19:02.154Z"
   },
   {
    "duration": 7,
    "start_time": "2024-10-25T20:19:10.678Z"
   },
   {
    "duration": 184,
    "start_time": "2024-10-25T21:18:05.956Z"
   },
   {
    "duration": 12,
    "start_time": "2024-10-25T21:18:30.096Z"
   },
   {
    "duration": 14,
    "start_time": "2024-10-25T21:18:42.830Z"
   },
   {
    "duration": 14,
    "start_time": "2024-10-25T21:19:19.027Z"
   },
   {
    "duration": 104,
    "start_time": "2024-10-25T21:19:41.487Z"
   },
   {
    "duration": 119,
    "start_time": "2024-10-25T21:28:49.294Z"
   },
   {
    "duration": 17,
    "start_time": "2024-10-25T21:46:18.795Z"
   },
   {
    "duration": 102,
    "start_time": "2024-10-25T21:48:16.119Z"
   },
   {
    "duration": 92,
    "start_time": "2024-10-25T21:49:27.885Z"
   },
   {
    "duration": 98,
    "start_time": "2024-10-25T21:50:38.930Z"
   },
   {
    "duration": 103,
    "start_time": "2024-10-25T21:51:09.348Z"
   },
   {
    "duration": 77,
    "start_time": "2024-10-25T21:51:20.554Z"
   },
   {
    "duration": 38,
    "start_time": "2024-10-25T21:54:10.840Z"
   },
   {
    "duration": 26,
    "start_time": "2024-10-25T21:55:31.459Z"
   },
   {
    "duration": 307,
    "start_time": "2024-10-29T20:54:58.686Z"
   },
   {
    "duration": 162,
    "start_time": "2024-10-29T20:54:58.995Z"
   },
   {
    "duration": 59,
    "start_time": "2024-10-29T20:54:59.159Z"
   },
   {
    "duration": 864,
    "start_time": "2024-10-29T20:54:59.221Z"
   },
   {
    "duration": 9,
    "start_time": "2024-10-29T20:55:00.087Z"
   },
   {
    "duration": 9,
    "start_time": "2024-10-29T20:55:00.098Z"
   },
   {
    "duration": 108,
    "start_time": "2024-10-29T20:55:00.109Z"
   },
   {
    "duration": 9,
    "start_time": "2024-10-29T20:55:00.219Z"
   },
   {
    "duration": 126,
    "start_time": "2024-10-29T20:55:00.229Z"
   },
   {
    "duration": 110,
    "start_time": "2024-10-29T20:55:00.359Z"
   },
   {
    "duration": 58,
    "start_time": "2024-10-29T20:55:00.471Z"
   },
   {
    "duration": 36,
    "start_time": "2024-10-29T20:55:00.531Z"
   },
   {
    "duration": 2,
    "start_time": "2024-10-29T20:55:00.569Z"
   },
   {
    "duration": 3,
    "start_time": "2024-10-29T20:55:00.573Z"
   },
   {
    "duration": 3,
    "start_time": "2024-10-29T20:55:00.578Z"
   },
   {
    "duration": 3,
    "start_time": "2024-10-29T20:55:00.584Z"
   },
   {
    "duration": 5,
    "start_time": "2024-10-29T20:55:00.588Z"
   },
   {
    "duration": 5,
    "start_time": "2024-10-29T20:55:00.594Z"
   },
   {
    "duration": 5,
    "start_time": "2024-10-29T20:55:00.600Z"
   },
   {
    "duration": 3,
    "start_time": "2024-10-29T20:55:00.606Z"
   },
   {
    "duration": 3,
    "start_time": "2024-10-29T20:55:00.610Z"
   },
   {
    "duration": 3,
    "start_time": "2024-10-29T20:55:00.643Z"
   },
   {
    "duration": 2,
    "start_time": "2024-10-29T20:55:00.648Z"
   },
   {
    "duration": 3,
    "start_time": "2024-10-29T20:55:00.652Z"
   },
   {
    "duration": 2,
    "start_time": "2024-10-29T20:55:00.657Z"
   },
   {
    "duration": 3,
    "start_time": "2024-10-29T20:55:00.661Z"
   },
   {
    "duration": 3,
    "start_time": "2024-10-29T20:55:00.665Z"
   },
   {
    "duration": 183,
    "start_time": "2024-10-29T22:02:31.045Z"
   },
   {
    "duration": 296,
    "start_time": "2024-10-29T22:02:40.711Z"
   },
   {
    "duration": 156,
    "start_time": "2024-10-29T22:02:41.009Z"
   },
   {
    "duration": 55,
    "start_time": "2024-10-29T22:02:41.167Z"
   },
   {
    "duration": 821,
    "start_time": "2024-10-29T22:02:41.225Z"
   },
   {
    "duration": 8,
    "start_time": "2024-10-29T22:02:42.048Z"
   },
   {
    "duration": 8,
    "start_time": "2024-10-29T22:02:42.058Z"
   },
   {
    "duration": 112,
    "start_time": "2024-10-29T22:02:42.068Z"
   },
   {
    "duration": 8,
    "start_time": "2024-10-29T22:02:42.182Z"
   },
   {
    "duration": 126,
    "start_time": "2024-10-29T22:02:42.192Z"
   },
   {
    "duration": 99,
    "start_time": "2024-10-29T22:02:42.322Z"
   },
   {
    "duration": 49,
    "start_time": "2024-10-29T22:02:42.423Z"
   },
   {
    "duration": 25,
    "start_time": "2024-10-29T22:02:42.474Z"
   },
   {
    "duration": 30,
    "start_time": "2024-10-29T22:02:42.501Z"
   },
   {
    "duration": 2,
    "start_time": "2024-10-29T22:02:42.533Z"
   },
   {
    "duration": 3,
    "start_time": "2024-10-29T22:02:42.537Z"
   },
   {
    "duration": 3,
    "start_time": "2024-10-29T22:02:42.541Z"
   },
   {
    "duration": 6,
    "start_time": "2024-10-29T22:02:42.546Z"
   },
   {
    "duration": 4,
    "start_time": "2024-10-29T22:02:42.553Z"
   },
   {
    "duration": 4,
    "start_time": "2024-10-29T22:02:42.558Z"
   },
   {
    "duration": 2,
    "start_time": "2024-10-29T22:02:42.564Z"
   },
   {
    "duration": 2,
    "start_time": "2024-10-29T22:02:42.568Z"
   },
   {
    "duration": 2,
    "start_time": "2024-10-29T22:02:42.572Z"
   },
   {
    "duration": 3,
    "start_time": "2024-10-29T22:02:42.576Z"
   },
   {
    "duration": 4,
    "start_time": "2024-10-29T22:02:42.580Z"
   },
   {
    "duration": 3,
    "start_time": "2024-10-29T22:02:42.586Z"
   },
   {
    "duration": 42,
    "start_time": "2024-10-29T22:02:42.590Z"
   },
   {
    "duration": 3,
    "start_time": "2024-10-29T22:02:42.634Z"
   },
   {
    "duration": 40,
    "start_time": "2024-10-29T22:04:37.714Z"
   },
   {
    "duration": 3,
    "start_time": "2024-10-29T22:04:49.325Z"
   },
   {
    "duration": 13,
    "start_time": "2024-10-29T22:06:48.057Z"
   },
   {
    "duration": 19,
    "start_time": "2024-10-29T22:07:11.680Z"
   },
   {
    "duration": 18,
    "start_time": "2024-10-29T22:12:50.777Z"
   },
   {
    "duration": 28,
    "start_time": "2024-10-29T22:13:33.559Z"
   },
   {
    "duration": 10,
    "start_time": "2024-10-29T22:14:15.019Z"
   },
   {
    "duration": 11,
    "start_time": "2024-10-29T22:14:25.278Z"
   },
   {
    "duration": 4,
    "start_time": "2024-10-29T22:19:01.618Z"
   },
   {
    "duration": 407,
    "start_time": "2024-10-29T22:21:00.405Z"
   },
   {
    "duration": 4,
    "start_time": "2024-10-29T22:21:32.221Z"
   },
   {
    "duration": 5,
    "start_time": "2024-10-29T22:22:28.872Z"
   },
   {
    "duration": 44,
    "start_time": "2024-10-29T22:41:54.880Z"
   },
   {
    "duration": 4,
    "start_time": "2024-10-29T22:42:22.552Z"
   },
   {
    "duration": 774,
    "start_time": "2024-10-29T22:45:08.363Z"
   },
   {
    "duration": 87,
    "start_time": "2024-10-29T22:46:56.352Z"
   },
   {
    "duration": 10,
    "start_time": "2024-10-29T22:52:51.747Z"
   },
   {
    "duration": 3,
    "start_time": "2024-10-29T22:59:53.934Z"
   },
   {
    "duration": 10,
    "start_time": "2024-10-29T22:59:58.444Z"
   },
   {
    "duration": 7,
    "start_time": "2024-10-29T23:01:23.296Z"
   },
   {
    "duration": 6,
    "start_time": "2024-10-29T23:03:06.761Z"
   },
   {
    "duration": 6,
    "start_time": "2024-10-29T23:05:27.277Z"
   },
   {
    "duration": 20,
    "start_time": "2024-10-29T23:07:00.886Z"
   },
   {
    "duration": 6,
    "start_time": "2024-10-29T23:07:12.441Z"
   },
   {
    "duration": 40,
    "start_time": "2024-10-29T23:09:26.165Z"
   },
   {
    "duration": 37,
    "start_time": "2024-10-29T23:09:41.257Z"
   },
   {
    "duration": 7,
    "start_time": "2024-10-29T23:10:08.485Z"
   },
   {
    "duration": 4,
    "start_time": "2024-10-29T23:10:26.772Z"
   },
   {
    "duration": 5,
    "start_time": "2024-10-29T23:13:13.615Z"
   },
   {
    "duration": 5,
    "start_time": "2024-10-29T23:13:26.178Z"
   },
   {
    "duration": 13,
    "start_time": "2024-10-29T23:17:07.294Z"
   },
   {
    "duration": 5,
    "start_time": "2024-10-29T23:18:18.603Z"
   },
   {
    "duration": 6,
    "start_time": "2024-10-29T23:19:04.546Z"
   },
   {
    "duration": 5,
    "start_time": "2024-10-29T23:20:23.669Z"
   },
   {
    "duration": 12,
    "start_time": "2024-10-29T23:22:47.535Z"
   },
   {
    "duration": 6,
    "start_time": "2024-10-29T23:23:15.322Z"
   },
   {
    "duration": 6,
    "start_time": "2024-10-29T23:23:51.956Z"
   },
   {
    "duration": 6,
    "start_time": "2024-10-29T23:23:56.680Z"
   },
   {
    "duration": 14,
    "start_time": "2024-10-29T23:32:55.327Z"
   },
   {
    "duration": 10,
    "start_time": "2024-10-29T23:34:16.714Z"
   },
   {
    "duration": 304,
    "start_time": "2024-10-30T18:29:54.385Z"
   },
   {
    "duration": 168,
    "start_time": "2024-10-30T18:29:54.692Z"
   },
   {
    "duration": 60,
    "start_time": "2024-10-30T18:29:54.862Z"
   },
   {
    "duration": 828,
    "start_time": "2024-10-30T18:29:54.925Z"
   },
   {
    "duration": 9,
    "start_time": "2024-10-30T18:29:55.755Z"
   },
   {
    "duration": 10,
    "start_time": "2024-10-30T18:29:55.766Z"
   },
   {
    "duration": 113,
    "start_time": "2024-10-30T18:29:55.777Z"
   },
   {
    "duration": 9,
    "start_time": "2024-10-30T18:29:55.892Z"
   },
   {
    "duration": 120,
    "start_time": "2024-10-30T18:29:55.903Z"
   },
   {
    "duration": 101,
    "start_time": "2024-10-30T18:29:56.026Z"
   },
   {
    "duration": 45,
    "start_time": "2024-10-30T18:29:56.129Z"
   },
   {
    "duration": 37,
    "start_time": "2024-10-30T18:29:56.175Z"
   },
   {
    "duration": 13,
    "start_time": "2024-10-30T18:29:56.213Z"
   },
   {
    "duration": 4,
    "start_time": "2024-10-30T18:29:56.227Z"
   },
   {
    "duration": 18,
    "start_time": "2024-10-30T18:29:56.234Z"
   },
   {
    "duration": 18,
    "start_time": "2024-10-30T18:29:56.254Z"
   },
   {
    "duration": 3,
    "start_time": "2024-10-30T18:29:56.274Z"
   },
   {
    "duration": 4,
    "start_time": "2024-10-30T18:29:56.312Z"
   },
   {
    "duration": 4,
    "start_time": "2024-10-30T18:29:56.317Z"
   },
   {
    "duration": 4,
    "start_time": "2024-10-30T18:29:56.323Z"
   },
   {
    "duration": 791,
    "start_time": "2024-10-30T18:29:56.329Z"
   },
   {
    "duration": 76,
    "start_time": "2024-10-30T18:29:57.121Z"
   },
   {
    "duration": 21,
    "start_time": "2024-10-30T18:29:57.199Z"
   },
   {
    "duration": 7,
    "start_time": "2024-10-30T18:29:57.222Z"
   },
   {
    "duration": 6,
    "start_time": "2024-10-30T18:29:57.230Z"
   },
   {
    "duration": 5,
    "start_time": "2024-10-30T18:29:57.238Z"
   },
   {
    "duration": 4,
    "start_time": "2024-10-30T18:29:57.245Z"
   },
   {
    "duration": 4,
    "start_time": "2024-10-30T18:29:57.254Z"
   },
   {
    "duration": 6,
    "start_time": "2024-10-30T18:29:57.259Z"
   },
   {
    "duration": 50,
    "start_time": "2024-10-30T18:29:57.266Z"
   },
   {
    "duration": 2,
    "start_time": "2024-10-30T18:29:57.318Z"
   },
   {
    "duration": 4,
    "start_time": "2024-10-30T18:29:57.322Z"
   },
   {
    "duration": 2,
    "start_time": "2024-10-30T18:29:57.327Z"
   },
   {
    "duration": 2,
    "start_time": "2024-10-30T18:29:57.331Z"
   },
   {
    "duration": 3,
    "start_time": "2024-10-30T18:29:57.335Z"
   },
   {
    "duration": 18,
    "start_time": "2024-10-30T19:05:00.403Z"
   },
   {
    "duration": 5,
    "start_time": "2024-10-30T19:06:55.525Z"
   },
   {
    "duration": 6,
    "start_time": "2024-10-30T19:07:32.700Z"
   },
   {
    "duration": 7,
    "start_time": "2024-10-30T19:08:05.641Z"
   },
   {
    "duration": 7,
    "start_time": "2024-10-30T19:10:11.333Z"
   },
   {
    "duration": 508,
    "start_time": "2024-10-30T19:11:55.378Z"
   },
   {
    "duration": 7,
    "start_time": "2024-10-30T19:12:20.368Z"
   },
   {
    "duration": 503,
    "start_time": "2024-10-30T19:12:39.060Z"
   },
   {
    "duration": 60,
    "start_time": "2024-10-30T19:16:55.945Z"
   },
   {
    "duration": 431,
    "start_time": "2024-10-30T19:17:40.399Z"
   },
   {
    "duration": 391,
    "start_time": "2024-10-30T19:18:19.993Z"
   },
   {
    "duration": 7,
    "start_time": "2024-10-30T19:18:39.324Z"
   },
   {
    "duration": 7,
    "start_time": "2024-10-30T19:18:42.472Z"
   },
   {
    "duration": 7,
    "start_time": "2024-10-30T19:19:02.781Z"
   },
   {
    "duration": 30,
    "start_time": "2024-10-30T19:20:34.343Z"
   },
   {
    "duration": 565,
    "start_time": "2024-10-30T19:23:13.243Z"
   },
   {
    "duration": 3,
    "start_time": "2024-10-30T19:23:42.463Z"
   },
   {
    "duration": 113,
    "start_time": "2024-10-30T19:23:42.471Z"
   },
   {
    "duration": 44,
    "start_time": "2024-10-30T19:23:42.586Z"
   },
   {
    "duration": 703,
    "start_time": "2024-10-30T19:23:42.631Z"
   },
   {
    "duration": 7,
    "start_time": "2024-10-30T19:23:43.337Z"
   },
   {
    "duration": 7,
    "start_time": "2024-10-30T19:23:43.345Z"
   },
   {
    "duration": 83,
    "start_time": "2024-10-30T19:23:43.354Z"
   },
   {
    "duration": 8,
    "start_time": "2024-10-30T19:23:43.439Z"
   },
   {
    "duration": 101,
    "start_time": "2024-10-30T19:23:43.449Z"
   },
   {
    "duration": 92,
    "start_time": "2024-10-30T19:23:43.553Z"
   },
   {
    "duration": 37,
    "start_time": "2024-10-30T19:23:43.649Z"
   },
   {
    "duration": 44,
    "start_time": "2024-10-30T19:23:43.688Z"
   },
   {
    "duration": 12,
    "start_time": "2024-10-30T19:23:43.734Z"
   },
   {
    "duration": 3,
    "start_time": "2024-10-30T19:23:43.747Z"
   },
   {
    "duration": 18,
    "start_time": "2024-10-30T19:23:43.752Z"
   },
   {
    "duration": 40,
    "start_time": "2024-10-30T19:23:43.772Z"
   },
   {
    "duration": 4,
    "start_time": "2024-10-30T19:23:43.813Z"
   },
   {
    "duration": 4,
    "start_time": "2024-10-30T19:23:43.819Z"
   },
   {
    "duration": 4,
    "start_time": "2024-10-30T19:23:43.824Z"
   },
   {
    "duration": 3,
    "start_time": "2024-10-30T19:23:43.830Z"
   },
   {
    "duration": 810,
    "start_time": "2024-10-30T19:23:43.835Z"
   },
   {
    "duration": 123,
    "start_time": "2024-10-30T19:23:44.647Z"
   },
   {
    "duration": 11,
    "start_time": "2024-10-30T19:23:44.772Z"
   },
   {
    "duration": 6,
    "start_time": "2024-10-30T19:23:44.786Z"
   },
   {
    "duration": 24,
    "start_time": "2024-10-30T19:23:44.794Z"
   },
   {
    "duration": 7,
    "start_time": "2024-10-30T19:23:44.819Z"
   },
   {
    "duration": 5,
    "start_time": "2024-10-30T19:23:44.828Z"
   },
   {
    "duration": 4,
    "start_time": "2024-10-30T19:23:44.835Z"
   },
   {
    "duration": 6,
    "start_time": "2024-10-30T19:23:44.843Z"
   },
   {
    "duration": 11,
    "start_time": "2024-10-30T19:23:44.850Z"
   },
   {
    "duration": 6,
    "start_time": "2024-10-30T19:23:44.862Z"
   },
   {
    "duration": 46,
    "start_time": "2024-10-30T19:23:44.870Z"
   },
   {
    "duration": 510,
    "start_time": "2024-10-30T19:23:44.918Z"
   },
   {
    "duration": 33,
    "start_time": "2024-10-30T19:23:45.430Z"
   },
   {
    "duration": 13,
    "start_time": "2024-10-30T19:23:45.466Z"
   },
   {
    "duration": 2,
    "start_time": "2024-10-30T19:23:45.481Z"
   },
   {
    "duration": 27,
    "start_time": "2024-10-30T19:23:45.485Z"
   },
   {
    "duration": 12,
    "start_time": "2024-10-30T19:26:34.124Z"
   },
   {
    "duration": 9,
    "start_time": "2024-10-30T19:26:40.834Z"
   },
   {
    "duration": 26,
    "start_time": "2024-10-30T19:26:47.605Z"
   },
   {
    "duration": 8,
    "start_time": "2024-10-30T19:38:17.436Z"
   },
   {
    "duration": 18,
    "start_time": "2024-10-30T19:39:28.378Z"
   },
   {
    "duration": 16,
    "start_time": "2024-10-30T19:41:04.615Z"
   },
   {
    "duration": 7,
    "start_time": "2024-10-30T19:41:18.913Z"
   },
   {
    "duration": 3,
    "start_time": "2024-10-30T19:41:33.450Z"
   },
   {
    "duration": 16,
    "start_time": "2024-10-30T19:41:42.291Z"
   },
   {
    "duration": 17,
    "start_time": "2024-10-30T19:42:40.322Z"
   },
   {
    "duration": 4,
    "start_time": "2024-10-30T19:42:50.749Z"
   },
   {
    "duration": 9,
    "start_time": "2024-10-30T19:43:15.833Z"
   },
   {
    "duration": 15,
    "start_time": "2024-10-30T19:47:26.550Z"
   },
   {
    "duration": 5,
    "start_time": "2024-10-30T19:47:31.378Z"
   },
   {
    "duration": 238,
    "start_time": "2024-10-30T19:47:41.828Z"
   },
   {
    "duration": 19,
    "start_time": "2024-10-30T19:48:14.933Z"
   },
   {
    "duration": 28,
    "start_time": "2024-10-30T20:02:40.131Z"
   },
   {
    "duration": 11,
    "start_time": "2024-10-30T20:20:12.083Z"
   },
   {
    "duration": 7,
    "start_time": "2024-10-30T20:21:50.101Z"
   },
   {
    "duration": 119,
    "start_time": "2024-10-30T20:22:33.601Z"
   },
   {
    "duration": 110,
    "start_time": "2024-10-30T20:22:45.462Z"
   },
   {
    "duration": 35,
    "start_time": "2024-10-30T20:23:00.227Z"
   },
   {
    "duration": 703,
    "start_time": "2024-10-30T20:23:09.549Z"
   },
   {
    "duration": 9,
    "start_time": "2024-10-30T20:23:19.264Z"
   },
   {
    "duration": 9,
    "start_time": "2024-10-30T20:23:30.787Z"
   },
   {
    "duration": 86,
    "start_time": "2024-10-30T20:24:31.724Z"
   },
   {
    "duration": 96,
    "start_time": "2024-10-30T20:24:43.183Z"
   },
   {
    "duration": 103,
    "start_time": "2024-10-30T20:24:48.055Z"
   },
   {
    "duration": 98,
    "start_time": "2024-10-30T20:24:56.484Z"
   },
   {
    "duration": 106,
    "start_time": "2024-10-30T20:25:01.149Z"
   },
   {
    "duration": 159,
    "start_time": "2024-10-31T00:42:21.086Z"
   },
   {
    "duration": 13,
    "start_time": "2024-10-31T00:43:32.047Z"
   },
   {
    "duration": 339,
    "start_time": "2024-10-31T00:43:40.626Z"
   },
   {
    "duration": 156,
    "start_time": "2024-10-31T00:43:40.966Z"
   },
   {
    "duration": 55,
    "start_time": "2024-10-31T00:43:41.123Z"
   },
   {
    "duration": 782,
    "start_time": "2024-10-31T00:43:41.181Z"
   },
   {
    "duration": 10,
    "start_time": "2024-10-31T00:43:41.965Z"
   },
   {
    "duration": 9,
    "start_time": "2024-10-31T00:43:41.977Z"
   },
   {
    "duration": 117,
    "start_time": "2024-10-31T00:43:41.988Z"
   },
   {
    "duration": 10,
    "start_time": "2024-10-31T00:43:42.108Z"
   },
   {
    "duration": 119,
    "start_time": "2024-10-31T00:43:42.120Z"
   },
   {
    "duration": 101,
    "start_time": "2024-10-31T00:43:42.242Z"
   },
   {
    "duration": 61,
    "start_time": "2024-10-31T00:43:42.345Z"
   },
   {
    "duration": 38,
    "start_time": "2024-10-31T00:43:42.408Z"
   },
   {
    "duration": 13,
    "start_time": "2024-10-31T00:43:42.449Z"
   },
   {
    "duration": 4,
    "start_time": "2024-10-31T00:43:42.463Z"
   },
   {
    "duration": 43,
    "start_time": "2024-10-31T00:43:42.468Z"
   },
   {
    "duration": 21,
    "start_time": "2024-10-31T00:43:42.514Z"
   },
   {
    "duration": 4,
    "start_time": "2024-10-31T00:43:42.537Z"
   },
   {
    "duration": 4,
    "start_time": "2024-10-31T00:43:42.542Z"
   },
   {
    "duration": 5,
    "start_time": "2024-10-31T00:43:42.548Z"
   },
   {
    "duration": 3,
    "start_time": "2024-10-31T00:43:42.555Z"
   },
   {
    "duration": 851,
    "start_time": "2024-10-31T00:43:42.560Z"
   },
   {
    "duration": 82,
    "start_time": "2024-10-31T00:43:43.412Z"
   },
   {
    "duration": 20,
    "start_time": "2024-10-31T00:43:43.495Z"
   },
   {
    "duration": 5,
    "start_time": "2024-10-31T00:43:43.517Z"
   },
   {
    "duration": 5,
    "start_time": "2024-10-31T00:43:43.524Z"
   },
   {
    "duration": 6,
    "start_time": "2024-10-31T00:43:43.531Z"
   },
   {
    "duration": 5,
    "start_time": "2024-10-31T00:43:43.539Z"
   },
   {
    "duration": 4,
    "start_time": "2024-10-31T00:43:43.549Z"
   },
   {
    "duration": 5,
    "start_time": "2024-10-31T00:43:43.555Z"
   },
   {
    "duration": 10,
    "start_time": "2024-10-31T00:43:43.605Z"
   },
   {
    "duration": 5,
    "start_time": "2024-10-31T00:43:43.617Z"
   },
   {
    "duration": 6,
    "start_time": "2024-10-31T00:43:43.624Z"
   },
   {
    "duration": 17,
    "start_time": "2024-10-31T00:43:43.632Z"
   },
   {
    "duration": 528,
    "start_time": "2024-10-31T00:43:43.652Z"
   },
   {
    "duration": 39,
    "start_time": "2024-10-31T00:43:44.182Z"
   },
   {
    "duration": 14,
    "start_time": "2024-10-31T00:43:44.223Z"
   },
   {
    "duration": 6,
    "start_time": "2024-10-31T00:43:44.239Z"
   },
   {
    "duration": 26,
    "start_time": "2024-10-31T00:43:44.247Z"
   },
   {
    "duration": 3,
    "start_time": "2024-10-31T00:43:44.275Z"
   },
   {
    "duration": 4,
    "start_time": "2024-10-31T00:44:54.961Z"
   },
   {
    "duration": 4,
    "start_time": "2024-10-31T00:45:16.073Z"
   },
   {
    "duration": 5,
    "start_time": "2024-10-31T00:47:08.794Z"
   },
   {
    "duration": 8,
    "start_time": "2024-10-31T00:48:27.181Z"
   },
   {
    "duration": 2062,
    "start_time": "2024-10-31T00:50:19.762Z"
   },
   {
    "duration": 118,
    "start_time": "2024-10-31T00:53:17.571Z"
   },
   {
    "duration": 22,
    "start_time": "2024-10-31T00:57:18.900Z"
   },
   {
    "duration": 20,
    "start_time": "2024-10-31T00:57:36.685Z"
   },
   {
    "duration": 157,
    "start_time": "2024-10-31T01:02:38.470Z"
   },
   {
    "duration": 10,
    "start_time": "2024-10-31T01:13:32.913Z"
   },
   {
    "duration": 139,
    "start_time": "2024-10-31T01:15:13.534Z"
   },
   {
    "duration": 198,
    "start_time": "2024-10-31T01:16:12.361Z"
   },
   {
    "duration": 2,
    "start_time": "2024-10-31T01:17:03.287Z"
   },
   {
    "duration": 131,
    "start_time": "2024-10-31T01:17:03.294Z"
   },
   {
    "duration": 37,
    "start_time": "2024-10-31T01:17:03.427Z"
   },
   {
    "duration": 730,
    "start_time": "2024-10-31T01:17:03.466Z"
   },
   {
    "duration": 11,
    "start_time": "2024-10-31T01:17:04.198Z"
   },
   {
    "duration": 7,
    "start_time": "2024-10-31T01:17:04.211Z"
   },
   {
    "duration": 93,
    "start_time": "2024-10-31T01:17:04.220Z"
   },
   {
    "duration": 7,
    "start_time": "2024-10-31T01:17:04.315Z"
   },
   {
    "duration": 104,
    "start_time": "2024-10-31T01:17:04.324Z"
   },
   {
    "duration": 82,
    "start_time": "2024-10-31T01:17:04.431Z"
   },
   {
    "duration": 41,
    "start_time": "2024-10-31T01:17:04.515Z"
   },
   {
    "duration": 22,
    "start_time": "2024-10-31T01:17:04.557Z"
   },
   {
    "duration": 34,
    "start_time": "2024-10-31T01:17:04.581Z"
   },
   {
    "duration": 4,
    "start_time": "2024-10-31T01:17:04.616Z"
   },
   {
    "duration": 17,
    "start_time": "2024-10-31T01:17:04.624Z"
   },
   {
    "duration": 19,
    "start_time": "2024-10-31T01:17:04.643Z"
   },
   {
    "duration": 4,
    "start_time": "2024-10-31T01:17:04.663Z"
   },
   {
    "duration": 4,
    "start_time": "2024-10-31T01:17:04.668Z"
   },
   {
    "duration": 5,
    "start_time": "2024-10-31T01:17:04.705Z"
   },
   {
    "duration": 4,
    "start_time": "2024-10-31T01:17:04.713Z"
   },
   {
    "duration": 802,
    "start_time": "2024-10-31T01:17:04.721Z"
   },
   {
    "duration": 96,
    "start_time": "2024-10-31T01:17:05.525Z"
   },
   {
    "duration": 11,
    "start_time": "2024-10-31T01:17:05.623Z"
   },
   {
    "duration": 7,
    "start_time": "2024-10-31T01:17:05.636Z"
   },
   {
    "duration": 6,
    "start_time": "2024-10-31T01:17:05.644Z"
   },
   {
    "duration": 6,
    "start_time": "2024-10-31T01:17:05.652Z"
   },
   {
    "duration": 7,
    "start_time": "2024-10-31T01:17:05.660Z"
   },
   {
    "duration": 4,
    "start_time": "2024-10-31T01:17:05.668Z"
   },
   {
    "duration": 35,
    "start_time": "2024-10-31T01:17:05.674Z"
   },
   {
    "duration": 11,
    "start_time": "2024-10-31T01:17:05.711Z"
   },
   {
    "duration": 6,
    "start_time": "2024-10-31T01:17:05.723Z"
   },
   {
    "duration": 6,
    "start_time": "2024-10-31T01:17:05.731Z"
   },
   {
    "duration": 16,
    "start_time": "2024-10-31T01:17:05.739Z"
   },
   {
    "duration": 531,
    "start_time": "2024-10-31T01:17:05.757Z"
   },
   {
    "duration": 39,
    "start_time": "2024-10-31T01:17:06.290Z"
   },
   {
    "duration": 13,
    "start_time": "2024-10-31T01:17:06.331Z"
   },
   {
    "duration": 7,
    "start_time": "2024-10-31T01:17:06.346Z"
   },
   {
    "duration": 51,
    "start_time": "2024-10-31T01:17:06.354Z"
   },
   {
    "duration": 5,
    "start_time": "2024-10-31T01:17:06.407Z"
   },
   {
    "duration": 4,
    "start_time": "2024-10-31T01:17:06.414Z"
   },
   {
    "duration": 206,
    "start_time": "2024-10-31T01:17:06.421Z"
   },
   {
    "duration": 125,
    "start_time": "2024-10-31T01:17:06.632Z"
   },
   {
    "duration": 21,
    "start_time": "2024-10-31T01:17:06.758Z"
   },
   {
    "duration": 170,
    "start_time": "2024-10-31T01:17:06.781Z"
   },
   {
    "duration": 10,
    "start_time": "2024-10-31T01:17:06.953Z"
   },
   {
    "duration": 193,
    "start_time": "2024-10-31T01:17:06.965Z"
   },
   {
    "duration": 14,
    "start_time": "2024-10-31T01:25:46.323Z"
   },
   {
    "duration": 178,
    "start_time": "2024-10-31T01:26:03.860Z"
   },
   {
    "duration": 92,
    "start_time": "2024-10-31T01:52:23.325Z"
   },
   {
    "duration": 10,
    "start_time": "2024-10-31T01:52:29.244Z"
   },
   {
    "duration": 8,
    "start_time": "2024-10-31T01:52:32.583Z"
   },
   {
    "duration": 10,
    "start_time": "2024-10-31T02:14:18.936Z"
   },
   {
    "duration": 10,
    "start_time": "2024-10-31T02:14:58.682Z"
   },
   {
    "duration": 7,
    "start_time": "2024-10-31T02:16:28.055Z"
   },
   {
    "duration": 9,
    "start_time": "2024-10-31T02:17:45.235Z"
   },
   {
    "duration": 7,
    "start_time": "2024-10-31T02:18:11.256Z"
   },
   {
    "duration": 270,
    "start_time": "2024-10-31T02:21:41.794Z"
   },
   {
    "duration": 3,
    "start_time": "2024-10-31T02:22:05.252Z"
   },
   {
    "duration": 176,
    "start_time": "2024-10-31T02:22:32.814Z"
   },
   {
    "duration": 321,
    "start_time": "2024-10-31T05:17:06.287Z"
   },
   {
    "duration": 163,
    "start_time": "2024-10-31T05:17:06.610Z"
   },
   {
    "duration": 61,
    "start_time": "2024-10-31T05:17:06.775Z"
   },
   {
    "duration": 830,
    "start_time": "2024-10-31T05:17:06.838Z"
   },
   {
    "duration": 9,
    "start_time": "2024-10-31T05:17:07.670Z"
   },
   {
    "duration": 8,
    "start_time": "2024-10-31T05:17:07.687Z"
   },
   {
    "duration": 103,
    "start_time": "2024-10-31T05:17:07.697Z"
   },
   {
    "duration": 9,
    "start_time": "2024-10-31T05:17:07.801Z"
   },
   {
    "duration": 132,
    "start_time": "2024-10-31T05:17:07.811Z"
   },
   {
    "duration": 108,
    "start_time": "2024-10-31T05:17:07.946Z"
   },
   {
    "duration": 65,
    "start_time": "2024-10-31T05:17:08.056Z"
   },
   {
    "duration": 34,
    "start_time": "2024-10-31T05:17:08.123Z"
   },
   {
    "duration": 12,
    "start_time": "2024-10-31T05:17:08.159Z"
   },
   {
    "duration": 4,
    "start_time": "2024-10-31T05:17:08.186Z"
   },
   {
    "duration": 17,
    "start_time": "2024-10-31T05:17:08.192Z"
   },
   {
    "duration": 18,
    "start_time": "2024-10-31T05:17:08.210Z"
   },
   {
    "duration": 3,
    "start_time": "2024-10-31T05:17:08.230Z"
   },
   {
    "duration": 4,
    "start_time": "2024-10-31T05:17:08.235Z"
   },
   {
    "duration": 4,
    "start_time": "2024-10-31T05:17:08.240Z"
   },
   {
    "duration": 41,
    "start_time": "2024-10-31T05:17:08.246Z"
   },
   {
    "duration": 765,
    "start_time": "2024-10-31T05:17:08.288Z"
   },
   {
    "duration": 88,
    "start_time": "2024-10-31T05:17:09.055Z"
   },
   {
    "duration": 9,
    "start_time": "2024-10-31T05:17:09.145Z"
   },
   {
    "duration": 6,
    "start_time": "2024-10-31T05:17:09.155Z"
   },
   {
    "duration": 23,
    "start_time": "2024-10-31T05:17:09.163Z"
   },
   {
    "duration": 6,
    "start_time": "2024-10-31T05:17:09.188Z"
   },
   {
    "duration": 4,
    "start_time": "2024-10-31T05:17:09.196Z"
   },
   {
    "duration": 4,
    "start_time": "2024-10-31T05:17:09.205Z"
   },
   {
    "duration": 6,
    "start_time": "2024-10-31T05:17:09.211Z"
   },
   {
    "duration": 10,
    "start_time": "2024-10-31T05:17:09.218Z"
   },
   {
    "duration": 4,
    "start_time": "2024-10-31T05:17:09.230Z"
   },
   {
    "duration": 6,
    "start_time": "2024-10-31T05:17:09.236Z"
   },
   {
    "duration": 58,
    "start_time": "2024-10-31T05:17:09.244Z"
   },
   {
    "duration": 497,
    "start_time": "2024-10-31T05:17:09.304Z"
   },
   {
    "duration": 31,
    "start_time": "2024-10-31T05:17:09.803Z"
   },
   {
    "duration": 13,
    "start_time": "2024-10-31T05:17:09.835Z"
   },
   {
    "duration": 7,
    "start_time": "2024-10-31T05:17:09.850Z"
   },
   {
    "duration": 54,
    "start_time": "2024-10-31T05:17:09.859Z"
   },
   {
    "duration": 5,
    "start_time": "2024-10-31T05:17:09.914Z"
   },
   {
    "duration": 4,
    "start_time": "2024-10-31T05:17:09.921Z"
   },
   {
    "duration": 2053,
    "start_time": "2024-10-31T05:17:09.927Z"
   },
   {
    "duration": 131,
    "start_time": "2024-10-31T05:17:11.982Z"
   },
   {
    "duration": 26,
    "start_time": "2024-10-31T05:17:12.115Z"
   },
   {
    "duration": 175,
    "start_time": "2024-10-31T05:17:12.143Z"
   },
   {
    "duration": 9,
    "start_time": "2024-10-31T05:17:12.320Z"
   },
   {
    "duration": 223,
    "start_time": "2024-10-31T05:17:12.331Z"
   },
   {
    "duration": 14,
    "start_time": "2024-10-31T05:17:12.557Z"
   },
   {
    "duration": 138,
    "start_time": "2024-10-31T05:17:12.572Z"
   },
   {
    "duration": 98,
    "start_time": "2024-10-31T05:17:12.712Z"
   },
   {
    "duration": 13,
    "start_time": "2024-10-31T05:17:12.812Z"
   },
   {
    "duration": 8,
    "start_time": "2024-10-31T05:17:12.827Z"
   },
   {
    "duration": 305,
    "start_time": "2024-10-31T05:17:12.837Z"
   },
   {
    "duration": 6,
    "start_time": "2024-10-31T05:17:13.145Z"
   },
   {
    "duration": 196,
    "start_time": "2024-10-31T05:17:13.155Z"
   },
   {
    "duration": 107,
    "start_time": "2024-10-31T05:30:04.228Z"
   },
   {
    "duration": 184,
    "start_time": "2024-10-31T05:30:06.383Z"
   },
   {
    "duration": 52,
    "start_time": "2024-10-31T05:30:20.377Z"
   },
   {
    "duration": 9,
    "start_time": "2024-10-31T05:31:27.923Z"
   },
   {
    "duration": 8,
    "start_time": "2024-10-31T05:32:02.861Z"
   },
   {
    "duration": 84,
    "start_time": "2024-10-31T05:34:59.691Z"
   },
   {
    "duration": 5,
    "start_time": "2024-10-31T05:35:07.391Z"
   },
   {
    "duration": 104,
    "start_time": "2024-10-31T05:35:44.611Z"
   },
   {
    "duration": 186,
    "start_time": "2024-10-31T05:38:02.489Z"
   },
   {
    "duration": 10,
    "start_time": "2024-10-31T05:38:19.887Z"
   },
   {
    "duration": 12,
    "start_time": "2024-10-31T05:38:50.786Z"
   },
   {
    "duration": 20,
    "start_time": "2024-10-31T05:38:56.373Z"
   },
   {
    "duration": 709,
    "start_time": "2024-10-31T05:42:34.108Z"
   },
   {
    "duration": 231,
    "start_time": "2024-10-31T05:42:57.466Z"
   },
   {
    "duration": 15,
    "start_time": "2024-10-31T05:43:36.399Z"
   },
   {
    "duration": 25,
    "start_time": "2024-10-31T05:45:48.372Z"
   },
   {
    "duration": 11,
    "start_time": "2024-10-31T05:47:12.424Z"
   },
   {
    "duration": 9,
    "start_time": "2024-10-31T05:47:17.467Z"
   },
   {
    "duration": 8,
    "start_time": "2024-10-31T05:47:20.119Z"
   },
   {
    "duration": 21,
    "start_time": "2024-10-31T05:53:28.596Z"
   },
   {
    "duration": 553,
    "start_time": "2024-10-31T11:31:02.634Z"
   },
   {
    "duration": 317,
    "start_time": "2024-10-31T11:31:03.189Z"
   },
   {
    "duration": 104,
    "start_time": "2024-10-31T11:31:03.508Z"
   },
   {
    "duration": 1515,
    "start_time": "2024-10-31T11:31:03.615Z"
   },
   {
    "duration": 62,
    "start_time": "2024-10-31T11:31:05.132Z"
   },
   {
    "duration": 9,
    "start_time": "2024-10-31T11:31:05.197Z"
   },
   {
    "duration": 292,
    "start_time": "2024-10-31T11:31:05.208Z"
   },
   {
    "duration": 12,
    "start_time": "2024-10-31T11:31:05.503Z"
   },
   {
    "duration": 315,
    "start_time": "2024-10-31T11:31:05.517Z"
   },
   {
    "duration": 202,
    "start_time": "2024-10-31T11:31:05.890Z"
   },
   {
    "duration": 119,
    "start_time": "2024-10-31T11:31:06.094Z"
   },
   {
    "duration": 86,
    "start_time": "2024-10-31T11:31:06.215Z"
   },
   {
    "duration": 16,
    "start_time": "2024-10-31T11:31:06.304Z"
   },
   {
    "duration": 5,
    "start_time": "2024-10-31T11:31:06.322Z"
   },
   {
    "duration": 75,
    "start_time": "2024-10-31T11:31:06.329Z"
   },
   {
    "duration": 88,
    "start_time": "2024-10-31T11:31:06.406Z"
   },
   {
    "duration": 4,
    "start_time": "2024-10-31T11:31:06.496Z"
   },
   {
    "duration": 4,
    "start_time": "2024-10-31T11:31:06.501Z"
   },
   {
    "duration": 4,
    "start_time": "2024-10-31T11:31:06.508Z"
   },
   {
    "duration": 4,
    "start_time": "2024-10-31T11:31:06.513Z"
   },
   {
    "duration": 1899,
    "start_time": "2024-10-31T11:31:06.519Z"
   },
   {
    "duration": 204,
    "start_time": "2024-10-31T11:31:08.421Z"
   },
   {
    "duration": 70,
    "start_time": "2024-10-31T11:31:08.626Z"
   },
   {
    "duration": 7,
    "start_time": "2024-10-31T11:31:08.698Z"
   },
   {
    "duration": 8,
    "start_time": "2024-10-31T11:31:08.706Z"
   },
   {
    "duration": 7,
    "start_time": "2024-10-31T11:31:08.716Z"
   },
   {
    "duration": 66,
    "start_time": "2024-10-31T11:31:08.725Z"
   },
   {
    "duration": 5,
    "start_time": "2024-10-31T11:31:08.797Z"
   },
   {
    "duration": 6,
    "start_time": "2024-10-31T11:31:08.804Z"
   },
   {
    "duration": 73,
    "start_time": "2024-10-31T11:31:08.813Z"
   },
   {
    "duration": 7,
    "start_time": "2024-10-31T11:31:08.888Z"
   },
   {
    "duration": 23,
    "start_time": "2024-10-31T11:31:08.896Z"
   },
   {
    "duration": 73,
    "start_time": "2024-10-31T11:31:08.920Z"
   },
   {
    "duration": 1005,
    "start_time": "2024-10-31T11:31:08.995Z"
   },
   {
    "duration": 87,
    "start_time": "2024-10-31T11:31:10.002Z"
   },
   {
    "duration": 13,
    "start_time": "2024-10-31T11:31:10.091Z"
   },
   {
    "duration": 8,
    "start_time": "2024-10-31T11:31:10.106Z"
   },
   {
    "duration": 89,
    "start_time": "2024-10-31T11:31:10.116Z"
   },
   {
    "duration": 4,
    "start_time": "2024-10-31T11:31:10.206Z"
   },
   {
    "duration": 5,
    "start_time": "2024-10-31T11:31:10.212Z"
   },
   {
    "duration": 4292,
    "start_time": "2024-10-31T11:31:10.218Z"
   },
   {
    "duration": 298,
    "start_time": "2024-10-31T11:31:14.514Z"
   },
   {
    "duration": 77,
    "start_time": "2024-10-31T11:31:14.815Z"
   },
   {
    "duration": 520,
    "start_time": "2024-10-31T11:31:14.895Z"
   },
   {
    "duration": 8,
    "start_time": "2024-10-31T11:31:15.418Z"
   },
   {
    "duration": 189,
    "start_time": "2024-10-31T11:31:15.428Z"
   },
   {
    "duration": 13,
    "start_time": "2024-10-31T11:31:15.619Z"
   },
   {
    "duration": 139,
    "start_time": "2024-10-31T11:31:15.633Z"
   },
   {
    "duration": 94,
    "start_time": "2024-10-31T11:31:15.774Z"
   },
   {
    "duration": 17,
    "start_time": "2024-10-31T11:31:15.870Z"
   },
   {
    "duration": 10,
    "start_time": "2024-10-31T11:31:15.888Z"
   },
   {
    "duration": 251,
    "start_time": "2024-10-31T11:31:15.900Z"
   },
   {
    "duration": 4,
    "start_time": "2024-10-31T11:31:16.153Z"
   },
   {
    "duration": 182,
    "start_time": "2024-10-31T11:31:16.159Z"
   },
   {
    "duration": 114,
    "start_time": "2024-10-31T11:31:16.343Z"
   },
   {
    "duration": 51,
    "start_time": "2024-10-31T11:31:16.459Z"
   },
   {
    "duration": 9,
    "start_time": "2024-10-31T11:31:16.512Z"
   },
   {
    "duration": 7,
    "start_time": "2024-10-31T11:31:16.523Z"
   },
   {
    "duration": 205,
    "start_time": "2024-10-31T11:31:16.533Z"
   },
   {
    "duration": 9,
    "start_time": "2024-10-31T11:31:16.740Z"
   },
   {
    "duration": 18,
    "start_time": "2024-10-31T11:31:16.751Z"
   },
   {
    "duration": 728,
    "start_time": "2024-10-31T11:31:16.787Z"
   },
   {
    "duration": 237,
    "start_time": "2024-10-31T11:31:17.517Z"
   },
   {
    "duration": 15,
    "start_time": "2024-10-31T11:31:17.755Z"
   },
   {
    "duration": 33,
    "start_time": "2024-10-31T11:31:17.772Z"
   },
   {
    "duration": 10,
    "start_time": "2024-10-31T11:31:17.807Z"
   },
   {
    "duration": 9,
    "start_time": "2024-10-31T11:31:17.818Z"
   },
   {
    "duration": 7,
    "start_time": "2024-10-31T11:31:17.830Z"
   },
   {
    "duration": 608,
    "start_time": "2024-10-31T12:24:19.123Z"
   },
   {
    "duration": 197,
    "start_time": "2024-10-31T12:24:19.733Z"
   },
   {
    "duration": 82,
    "start_time": "2024-10-31T12:24:19.932Z"
   },
   {
    "duration": 836,
    "start_time": "2024-10-31T12:24:20.017Z"
   },
   {
    "duration": 10,
    "start_time": "2024-10-31T12:24:20.856Z"
   },
   {
    "duration": 9,
    "start_time": "2024-10-31T12:24:20.868Z"
   },
   {
    "duration": 115,
    "start_time": "2024-10-31T12:24:20.879Z"
   },
   {
    "duration": 9,
    "start_time": "2024-10-31T12:24:20.996Z"
   },
   {
    "duration": 135,
    "start_time": "2024-10-31T12:24:21.007Z"
   },
   {
    "duration": 105,
    "start_time": "2024-10-31T12:24:21.145Z"
   },
   {
    "duration": 62,
    "start_time": "2024-10-31T12:24:21.251Z"
   },
   {
    "duration": 35,
    "start_time": "2024-10-31T12:24:21.315Z"
   },
   {
    "duration": 13,
    "start_time": "2024-10-31T12:24:21.351Z"
   },
   {
    "duration": 24,
    "start_time": "2024-10-31T12:24:21.365Z"
   },
   {
    "duration": 18,
    "start_time": "2024-10-31T12:24:21.391Z"
   },
   {
    "duration": 19,
    "start_time": "2024-10-31T12:24:21.410Z"
   },
   {
    "duration": 4,
    "start_time": "2024-10-31T12:24:21.431Z"
   },
   {
    "duration": 4,
    "start_time": "2024-10-31T12:24:21.437Z"
   },
   {
    "duration": 4,
    "start_time": "2024-10-31T12:24:21.443Z"
   },
   {
    "duration": 40,
    "start_time": "2024-10-31T12:24:21.448Z"
   },
   {
    "duration": 860,
    "start_time": "2024-10-31T12:24:21.490Z"
   },
   {
    "duration": 112,
    "start_time": "2024-10-31T12:24:22.352Z"
   },
   {
    "duration": 11,
    "start_time": "2024-10-31T12:24:22.466Z"
   },
   {
    "duration": 6,
    "start_time": "2024-10-31T12:24:22.487Z"
   },
   {
    "duration": 7,
    "start_time": "2024-10-31T12:24:22.495Z"
   },
   {
    "duration": 7,
    "start_time": "2024-10-31T12:24:22.504Z"
   },
   {
    "duration": 6,
    "start_time": "2024-10-31T12:24:22.512Z"
   },
   {
    "duration": 6,
    "start_time": "2024-10-31T12:24:22.525Z"
   },
   {
    "duration": 7,
    "start_time": "2024-10-31T12:24:22.532Z"
   },
   {
    "duration": 50,
    "start_time": "2024-10-31T12:24:22.542Z"
   },
   {
    "duration": 5,
    "start_time": "2024-10-31T12:24:22.594Z"
   },
   {
    "duration": 25,
    "start_time": "2024-10-31T12:24:22.600Z"
   },
   {
    "duration": 16,
    "start_time": "2024-10-31T12:24:22.627Z"
   },
   {
    "duration": 533,
    "start_time": "2024-10-31T12:24:22.645Z"
   },
   {
    "duration": 39,
    "start_time": "2024-10-31T12:24:23.180Z"
   },
   {
    "duration": 13,
    "start_time": "2024-10-31T12:24:23.221Z"
   },
   {
    "duration": 7,
    "start_time": "2024-10-31T12:24:23.236Z"
   },
   {
    "duration": 53,
    "start_time": "2024-10-31T12:24:23.245Z"
   },
   {
    "duration": 4,
    "start_time": "2024-10-31T12:24:23.300Z"
   },
   {
    "duration": 4,
    "start_time": "2024-10-31T12:24:23.306Z"
   },
   {
    "duration": 2094,
    "start_time": "2024-10-31T12:24:23.312Z"
   },
   {
    "duration": 129,
    "start_time": "2024-10-31T12:24:25.408Z"
   },
   {
    "duration": 22,
    "start_time": "2024-10-31T12:24:25.539Z"
   },
   {
    "duration": 217,
    "start_time": "2024-10-31T12:24:25.563Z"
   },
   {
    "duration": 9,
    "start_time": "2024-10-31T12:24:25.786Z"
   },
   {
    "duration": 191,
    "start_time": "2024-10-31T12:24:25.797Z"
   },
   {
    "duration": 15,
    "start_time": "2024-10-31T12:24:25.989Z"
   },
   {
    "duration": 144,
    "start_time": "2024-10-31T12:24:26.007Z"
   },
   {
    "duration": 100,
    "start_time": "2024-10-31T12:24:26.153Z"
   },
   {
    "duration": 11,
    "start_time": "2024-10-31T12:24:26.255Z"
   },
   {
    "duration": 7,
    "start_time": "2024-10-31T12:24:26.268Z"
   },
   {
    "duration": 259,
    "start_time": "2024-10-31T12:24:26.277Z"
   },
   {
    "duration": 4,
    "start_time": "2024-10-31T12:24:26.538Z"
   },
   {
    "duration": 196,
    "start_time": "2024-10-31T12:24:26.543Z"
   },
   {
    "duration": 116,
    "start_time": "2024-10-31T12:24:26.741Z"
   },
   {
    "duration": 55,
    "start_time": "2024-10-31T12:24:26.859Z"
   },
   {
    "duration": 10,
    "start_time": "2024-10-31T12:24:26.915Z"
   },
   {
    "duration": 8,
    "start_time": "2024-10-31T12:24:26.927Z"
   },
   {
    "duration": 207,
    "start_time": "2024-10-31T12:24:26.937Z"
   },
   {
    "duration": 10,
    "start_time": "2024-10-31T12:24:27.145Z"
   },
   {
    "duration": 31,
    "start_time": "2024-10-31T12:24:27.158Z"
   },
   {
    "duration": 750,
    "start_time": "2024-10-31T12:24:27.192Z"
   },
   {
    "duration": 242,
    "start_time": "2024-10-31T12:24:27.944Z"
   },
   {
    "duration": 15,
    "start_time": "2024-10-31T12:24:28.188Z"
   },
   {
    "duration": 22,
    "start_time": "2024-10-31T12:24:28.205Z"
   },
   {
    "duration": 9,
    "start_time": "2024-10-31T12:24:28.228Z"
   },
   {
    "duration": 9,
    "start_time": "2024-10-31T12:24:28.238Z"
   },
   {
    "duration": 8,
    "start_time": "2024-10-31T12:24:28.249Z"
   }
  ],
  "kernelspec": {
   "display_name": "Python 3 (ipykernel)",
   "language": "python",
   "name": "python3"
  },
  "language_info": {
   "codemirror_mode": {
    "name": "ipython",
    "version": 3
   },
   "file_extension": ".py",
   "mimetype": "text/x-python",
   "name": "python",
   "nbconvert_exporter": "python",
   "pygments_lexer": "ipython3",
   "version": "3.9.19"
  },
  "toc": {
   "base_numbering": 1,
   "nav_menu": {},
   "number_sections": true,
   "sideBar": true,
   "skip_h1_title": true,
   "title_cell": "Table of Contents",
   "title_sidebar": "Contents",
   "toc_cell": false,
   "toc_position": {},
   "toc_section_display": true,
   "toc_window_display": false
  },
  "vscode": {
   "interpreter": {
    "hash": "01a7be9ec63e704a62cefc5fe7a4756944464ee731be31632bdf42a4cb4688cf"
   }
  }
 },
 "nbformat": 4,
 "nbformat_minor": 5
}

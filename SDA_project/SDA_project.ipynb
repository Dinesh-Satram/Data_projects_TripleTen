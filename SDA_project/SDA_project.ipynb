{
 "cells": [
  {
   "cell_type": "markdown",
   "metadata": {},
   "source": [
    "<div style=\"border:solid green 2px; padding: 20px\">\n",
    "    \n",
    "<b>Hello!</b> We're glad to see you in code-reviewer territory. You've done a great job on the project, but let's get to know each other and make it even better! We have our own atmosphere here and a few rules:\n",
    "\n",
    "\n",
    "1. I work as a code reviewer, and my main goal is not to point out your mistakes, but to share my experience and help you become a data analyst.\n",
    "2. We speak on a first-come-first-served basis.\n",
    "3. if you want to write or ask a question, don't be shy. Just choose your color for your comment.  \n",
    "4. this is a training project, you don't have to be afraid of making a mistake.  \n",
    "5. You have an unlimited number of attempts to pass the project.  \n",
    "6. Let's Go!\n",
    "\n",
    "\n",
    "---\n",
    "I'll be color-coding comments, please don't delete them:\n",
    "\n",
    "<div class=\"alert alert-block alert-danger\">✍\n",
    "    \n",
    "\n",
    "__Reviewer's comment №1__\n",
    "\n",
    "Needs fixing. The block requires some corrections. Work can't be accepted with the red comments.\n",
    "</div>\n",
    "    \n",
    "---\n",
    "\n",
    "<div class=\"alert alert-block alert-warning\">📝\n",
    "    \n",
    "\n",
    "__Reviewer's comment №1__\n",
    "\n",
    "\n",
    "Remarks. Some recommendations.\n",
    "</div>\n",
    "\n",
    "---\n",
    "\n",
    "<div class=\"alert alert-block alert-success\">✔️\n",
    "    \n",
    "\n",
    "__Reviewer's comment №1__\n",
    "\n",
    "Success. Everything is done succesfully.\n",
    "</div>\n",
    "    \n",
    "---\n",
    "    \n",
    "I suggest that we work on the project in dialogue: if you change something in the project or respond to my comments, write about it. It will be easier for me to track changes if you highlight your comments:   \n",
    "    \n",
    "<div class=\"alert alert-info\"> <b>Student сomments:</b> Student answer..</div>\n",
    "    \n",
    "All this will help to make the recheck of your project faster. If you have any questions about my comments, let me know, we'll figure it out together :)   \n",
    "    \n",
    "---"
   ]
  },
  {
   "cell_type": "markdown",
   "metadata": {},
   "source": [
    "# Which one is a better plan?\n",
    "\n",
    "You work as an analyst for the telecom operator Megaline. The company offers its clients two prepaid plans, Surf and Ultimate. The commercial department wants to know which of the plans brings in more revenue in order to adjust the advertising budget.\n",
    "\n",
    "You are going to carry out a preliminary analysis of the plans based on a relatively small client selection. You'll have the data on 500 Megaline clients: who the clients are, where they're from, which plan they use, and the number of calls they made and text messages they sent in 2018. Your job is to analyze the clients' behavior and determine which prepaid plan brings in more revenue."
   ]
  },
  {
   "cell_type": "markdown",
   "metadata": {},
   "source": [
    "[We've provided you with some commentary to guide your thinking as you complete this project. However, make sure to remove all the bracketed comments before submitting your project.]\n",
    "\n",
    "[Before you dive into analyzing your data, explain for yourself the purpose of the project and actions you plan to take.]\n",
    "\n",
    "[Please bear in mind that studying, amending, and analyzing data is an iterative process. It is normal to return to previous steps and correct/expand them to allow for further steps.]"
   ]
  },
  {
   "cell_type": "markdown",
   "metadata": {},
   "source": [
    "<div class=\"alert alert-block alert-warning\">📝\n",
    "    \n",
    "\n",
    "__Reviewer's comment №1__\n",
    "\n",
    "An excellent practice is to describe the goal and main steps in your own words (a skill that will help a lot on a final project). It would be good to add the progress and purpose of the study."
   ]
  },
  {
   "cell_type": "markdown",
   "metadata": {},
   "source": []
  },
  {
   "cell_type": "markdown",
   "metadata": {},
   "source": [
    "## Initialization"
   ]
  },
  {
   "cell_type": "markdown",
   "metadata": {},
   "source": [
    "loading all libraries that are useful for dataframes and for the numerical calculations and to visualize the data and for the test hypothesis."
   ]
  },
  {
   "cell_type": "code",
   "execution_count": 1,
   "metadata": {},
   "outputs": [],
   "source": [
    "# Loading all the libraries\n",
    "import pandas as pd\n",
    "import numpy as np\n",
    "import matplotlib.pyplot as plt\n",
    "import seaborn as sns\n",
    "from scipy import stats"
   ]
  },
  {
   "cell_type": "markdown",
   "metadata": {},
   "source": [
    "## Load data"
   ]
  },
  {
   "cell_type": "markdown",
   "metadata": {},
   "source": [
    "loading all the data files that are stored as csv format"
   ]
  },
  {
   "cell_type": "code",
   "execution_count": 2,
   "metadata": {},
   "outputs": [],
   "source": [
    "# Load the data files into different DataFrames\n",
    "calls_df = pd.read_csv('/datasets/megaline_calls.csv')\n",
    "internet_df = pd.read_csv('/datasets/megaline_internet.csv')\n",
    "messages_df = pd.read_csv('/datasets/megaline_messages.csv')\n",
    "plans_df = pd.read_csv('/datasets/megaline_plans.csv')\n",
    "users_df = pd.read_csv('/datasets/megaline_users.csv')\n",
    "\n"
   ]
  },
  {
   "cell_type": "markdown",
   "metadata": {},
   "source": [
    "## Prepare the data"
   ]
  },
  {
   "cell_type": "markdown",
   "metadata": {},
   "source": [
    "[The data for this project is split into several tables. Explore each one to get an initial understanding of the data. Do necessary corrections to each table if necessary.]"
   ]
  },
  {
   "cell_type": "markdown",
   "metadata": {},
   "source": [
    "## Plans"
   ]
  },
  {
   "cell_type": "code",
   "execution_count": 3,
   "metadata": {},
   "outputs": [
    {
     "name": "stdout",
     "output_type": "stream",
     "text": [
      "<class 'pandas.core.frame.DataFrame'>\n",
      "RangeIndex: 2 entries, 0 to 1\n",
      "Data columns (total 8 columns):\n",
      " #   Column                 Non-Null Count  Dtype  \n",
      "---  ------                 --------------  -----  \n",
      " 0   messages_included      2 non-null      int64  \n",
      " 1   mb_per_month_included  2 non-null      int64  \n",
      " 2   minutes_included       2 non-null      int64  \n",
      " 3   usd_monthly_pay        2 non-null      int64  \n",
      " 4   usd_per_gb             2 non-null      int64  \n",
      " 5   usd_per_message        2 non-null      float64\n",
      " 6   usd_per_minute         2 non-null      float64\n",
      " 7   plan_name              2 non-null      object \n",
      "dtypes: float64(2), int64(5), object(1)\n",
      "memory usage: 256.0+ bytes\n"
     ]
    }
   ],
   "source": [
    "# Print the general/summary information about the plans' DataFrame\n",
    "\n",
    "plans_df.info()"
   ]
  },
  {
   "cell_type": "code",
   "execution_count": 4,
   "metadata": {
    "scrolled": true
   },
   "outputs": [
    {
     "data": {
      "text/html": [
       "<div>\n",
       "<style scoped>\n",
       "    .dataframe tbody tr th:only-of-type {\n",
       "        vertical-align: middle;\n",
       "    }\n",
       "\n",
       "    .dataframe tbody tr th {\n",
       "        vertical-align: top;\n",
       "    }\n",
       "\n",
       "    .dataframe thead th {\n",
       "        text-align: right;\n",
       "    }\n",
       "</style>\n",
       "<table border=\"1\" class=\"dataframe\">\n",
       "  <thead>\n",
       "    <tr style=\"text-align: right;\">\n",
       "      <th></th>\n",
       "      <th>messages_included</th>\n",
       "      <th>mb_per_month_included</th>\n",
       "      <th>minutes_included</th>\n",
       "      <th>usd_monthly_pay</th>\n",
       "      <th>usd_per_gb</th>\n",
       "      <th>usd_per_message</th>\n",
       "      <th>usd_per_minute</th>\n",
       "    </tr>\n",
       "  </thead>\n",
       "  <tbody>\n",
       "    <tr>\n",
       "      <th>count</th>\n",
       "      <td>2.000000</td>\n",
       "      <td>2.000000</td>\n",
       "      <td>2.000000</td>\n",
       "      <td>2.000000</td>\n",
       "      <td>2.00000</td>\n",
       "      <td>2.000000</td>\n",
       "      <td>2.000000</td>\n",
       "    </tr>\n",
       "    <tr>\n",
       "      <th>mean</th>\n",
       "      <td>525.000000</td>\n",
       "      <td>23040.000000</td>\n",
       "      <td>1750.000000</td>\n",
       "      <td>45.000000</td>\n",
       "      <td>8.50000</td>\n",
       "      <td>0.020000</td>\n",
       "      <td>0.020000</td>\n",
       "    </tr>\n",
       "    <tr>\n",
       "      <th>std</th>\n",
       "      <td>671.751442</td>\n",
       "      <td>10861.160159</td>\n",
       "      <td>1767.766953</td>\n",
       "      <td>35.355339</td>\n",
       "      <td>2.12132</td>\n",
       "      <td>0.014142</td>\n",
       "      <td>0.014142</td>\n",
       "    </tr>\n",
       "    <tr>\n",
       "      <th>min</th>\n",
       "      <td>50.000000</td>\n",
       "      <td>15360.000000</td>\n",
       "      <td>500.000000</td>\n",
       "      <td>20.000000</td>\n",
       "      <td>7.00000</td>\n",
       "      <td>0.010000</td>\n",
       "      <td>0.010000</td>\n",
       "    </tr>\n",
       "    <tr>\n",
       "      <th>25%</th>\n",
       "      <td>287.500000</td>\n",
       "      <td>19200.000000</td>\n",
       "      <td>1125.000000</td>\n",
       "      <td>32.500000</td>\n",
       "      <td>7.75000</td>\n",
       "      <td>0.015000</td>\n",
       "      <td>0.015000</td>\n",
       "    </tr>\n",
       "    <tr>\n",
       "      <th>50%</th>\n",
       "      <td>525.000000</td>\n",
       "      <td>23040.000000</td>\n",
       "      <td>1750.000000</td>\n",
       "      <td>45.000000</td>\n",
       "      <td>8.50000</td>\n",
       "      <td>0.020000</td>\n",
       "      <td>0.020000</td>\n",
       "    </tr>\n",
       "    <tr>\n",
       "      <th>75%</th>\n",
       "      <td>762.500000</td>\n",
       "      <td>26880.000000</td>\n",
       "      <td>2375.000000</td>\n",
       "      <td>57.500000</td>\n",
       "      <td>9.25000</td>\n",
       "      <td>0.025000</td>\n",
       "      <td>0.025000</td>\n",
       "    </tr>\n",
       "    <tr>\n",
       "      <th>max</th>\n",
       "      <td>1000.000000</td>\n",
       "      <td>30720.000000</td>\n",
       "      <td>3000.000000</td>\n",
       "      <td>70.000000</td>\n",
       "      <td>10.00000</td>\n",
       "      <td>0.030000</td>\n",
       "      <td>0.030000</td>\n",
       "    </tr>\n",
       "  </tbody>\n",
       "</table>\n",
       "</div>"
      ],
      "text/plain": [
       "       messages_included  mb_per_month_included  minutes_included  \\\n",
       "count           2.000000               2.000000          2.000000   \n",
       "mean          525.000000           23040.000000       1750.000000   \n",
       "std           671.751442           10861.160159       1767.766953   \n",
       "min            50.000000           15360.000000        500.000000   \n",
       "25%           287.500000           19200.000000       1125.000000   \n",
       "50%           525.000000           23040.000000       1750.000000   \n",
       "75%           762.500000           26880.000000       2375.000000   \n",
       "max          1000.000000           30720.000000       3000.000000   \n",
       "\n",
       "       usd_monthly_pay  usd_per_gb  usd_per_message  usd_per_minute  \n",
       "count         2.000000     2.00000         2.000000        2.000000  \n",
       "mean         45.000000     8.50000         0.020000        0.020000  \n",
       "std          35.355339     2.12132         0.014142        0.014142  \n",
       "min          20.000000     7.00000         0.010000        0.010000  \n",
       "25%          32.500000     7.75000         0.015000        0.015000  \n",
       "50%          45.000000     8.50000         0.020000        0.020000  \n",
       "75%          57.500000     9.25000         0.025000        0.025000  \n",
       "max          70.000000    10.00000         0.030000        0.030000  "
      ]
     },
     "execution_count": 4,
     "metadata": {},
     "output_type": "execute_result"
    }
   ],
   "source": [
    "plans_df.describe()"
   ]
  },
  {
   "cell_type": "code",
   "execution_count": 5,
   "metadata": {},
   "outputs": [
    {
     "data": {
      "text/html": [
       "<div>\n",
       "<style scoped>\n",
       "    .dataframe tbody tr th:only-of-type {\n",
       "        vertical-align: middle;\n",
       "    }\n",
       "\n",
       "    .dataframe tbody tr th {\n",
       "        vertical-align: top;\n",
       "    }\n",
       "\n",
       "    .dataframe thead th {\n",
       "        text-align: right;\n",
       "    }\n",
       "</style>\n",
       "<table border=\"1\" class=\"dataframe\">\n",
       "  <thead>\n",
       "    <tr style=\"text-align: right;\">\n",
       "      <th></th>\n",
       "      <th>messages_included</th>\n",
       "      <th>mb_per_month_included</th>\n",
       "      <th>minutes_included</th>\n",
       "      <th>usd_monthly_pay</th>\n",
       "      <th>usd_per_gb</th>\n",
       "      <th>usd_per_message</th>\n",
       "      <th>usd_per_minute</th>\n",
       "      <th>plan_name</th>\n",
       "    </tr>\n",
       "  </thead>\n",
       "  <tbody>\n",
       "    <tr>\n",
       "      <th>0</th>\n",
       "      <td>50</td>\n",
       "      <td>15360</td>\n",
       "      <td>500</td>\n",
       "      <td>20</td>\n",
       "      <td>10</td>\n",
       "      <td>0.03</td>\n",
       "      <td>0.03</td>\n",
       "      <td>surf</td>\n",
       "    </tr>\n",
       "    <tr>\n",
       "      <th>1</th>\n",
       "      <td>1000</td>\n",
       "      <td>30720</td>\n",
       "      <td>3000</td>\n",
       "      <td>70</td>\n",
       "      <td>7</td>\n",
       "      <td>0.01</td>\n",
       "      <td>0.01</td>\n",
       "      <td>ultimate</td>\n",
       "    </tr>\n",
       "  </tbody>\n",
       "</table>\n",
       "</div>"
      ],
      "text/plain": [
       "   messages_included  mb_per_month_included  minutes_included  \\\n",
       "0                 50                  15360               500   \n",
       "1               1000                  30720              3000   \n",
       "\n",
       "   usd_monthly_pay  usd_per_gb  usd_per_message  usd_per_minute plan_name  \n",
       "0               20          10             0.03            0.03      surf  \n",
       "1               70           7             0.01            0.01  ultimate  "
      ]
     },
     "execution_count": 5,
     "metadata": {},
     "output_type": "execute_result"
    }
   ],
   "source": [
    "# Print a sample of data for plans\n",
    "\n",
    "\n",
    "plans_df.head(5)"
   ]
  },
  {
   "cell_type": "markdown",
   "metadata": {},
   "source": [
    "it shows significant variability between plans, with differences in included messages, data, and minutes. The data appears clean, but potential issues like missing values, inconsistent units (e.g., MB to GB), and outliers need to be verified."
   ]
  },
  {
   "cell_type": "markdown",
   "metadata": {},
   "source": [
    " "
   ]
  },
  {
   "cell_type": "markdown",
   "metadata": {},
   "source": [
    "## Fix data"
   ]
  },
  {
   "cell_type": "markdown",
   "metadata": {},
   "source": [
    "[Fix obvious issues with the data given the initial observations.]"
   ]
  },
  {
   "cell_type": "code",
   "execution_count": 6,
   "metadata": {},
   "outputs": [
    {
     "name": "stdout",
     "output_type": "stream",
     "text": [
      "Missing values per column:\n",
      "messages_included        0\n",
      "mb_per_month_included    0\n",
      "minutes_included         0\n",
      "usd_monthly_pay          0\n",
      "usd_per_gb               0\n",
      "usd_per_message          0\n",
      "usd_per_minute           0\n",
      "plan_name                0\n",
      "dtype: int64\n"
     ]
    }
   ],
   "source": [
    "# 1. Check for missing values\n",
    "print(\"Missing values per column:\")\n",
    "print(plans_df.isnull().sum())"
   ]
  },
  {
   "cell_type": "code",
   "execution_count": 7,
   "metadata": {},
   "outputs": [
    {
     "name": "stdout",
     "output_type": "stream",
     "text": [
      "\n",
      "Number of duplicate rows: 0\n"
     ]
    }
   ],
   "source": [
    "# 2. Check for duplicates and drop them\n",
    "duplicates = plans_df.duplicated().sum()\n",
    "print(f\"\\nNumber of duplicate rows: {duplicates}\")\n",
    "plans_df = plans_df.drop_duplicates()"
   ]
  },
  {
   "cell_type": "markdown",
   "metadata": {},
   "source": [
    "<div class=\"alert alert-block alert-success\">✔️\n",
    "    \n",
    "\n",
    "__Reviewer's comment №1__\n",
    "\n",
    "Duplicate checking is the basis of data preprocessing"
   ]
  },
  {
   "cell_type": "markdown",
   "metadata": {},
   "source": []
  },
  {
   "cell_type": "markdown",
   "metadata": {},
   "source": [
    "## Enrich data"
   ]
  },
  {
   "cell_type": "markdown",
   "metadata": {},
   "source": [
    "[Add additional factors to the data if you believe they might be useful.]"
   ]
  },
  {
   "cell_type": "code",
   "execution_count": 8,
   "metadata": {},
   "outputs": [],
   "source": [
    "# Convert MB to GB\n",
    "plans_df['gb_per_month_included'] = plans_df['mb_per_month_included'] / 1024"
   ]
  },
  {
   "cell_type": "markdown",
   "metadata": {},
   "source": [
    "## Users"
   ]
  },
  {
   "cell_type": "code",
   "execution_count": 9,
   "metadata": {},
   "outputs": [
    {
     "name": "stdout",
     "output_type": "stream",
     "text": [
      "<class 'pandas.core.frame.DataFrame'>\n",
      "RangeIndex: 500 entries, 0 to 499\n",
      "Data columns (total 8 columns):\n",
      " #   Column      Non-Null Count  Dtype \n",
      "---  ------      --------------  ----- \n",
      " 0   user_id     500 non-null    int64 \n",
      " 1   first_name  500 non-null    object\n",
      " 2   last_name   500 non-null    object\n",
      " 3   age         500 non-null    int64 \n",
      " 4   city        500 non-null    object\n",
      " 5   reg_date    500 non-null    object\n",
      " 6   plan        500 non-null    object\n",
      " 7   churn_date  34 non-null     object\n",
      "dtypes: int64(2), object(6)\n",
      "memory usage: 31.4+ KB\n"
     ]
    }
   ],
   "source": [
    "# Print the general/summary information about the users' DataFrame\n",
    "\n",
    "users_df.info()"
   ]
  },
  {
   "cell_type": "code",
   "execution_count": 10,
   "metadata": {},
   "outputs": [
    {
     "name": "stdout",
     "output_type": "stream",
     "text": [
      "     user_id first_name last_name  age  \\\n",
      "165     1165      Nigel     Huber   20   \n",
      "348     1348       Carl  Rutledge   60   \n",
      "454     1454   Kymberly     Cohen   56   \n",
      "243     1243     Isaias   Compton   71   \n",
      "225     1225  Margarito    Barker   41   \n",
      "\n",
      "                                                city    reg_date      plan  \\\n",
      "165  Philadelphia-Camden-Wilmington, PA-NJ-DE-MD MSA  2018-10-27      surf   \n",
      "348                  Detroit-Warren-Dearborn, MI MSA  2018-10-05      surf   \n",
      "454                San Antonio-New Braunfels, TX MSA  2018-05-30  ultimate   \n",
      "243                    Phoenix-Mesa-Chandler, AZ MSA  2018-05-11      surf   \n",
      "225                                 Columbia, SC MSA  2018-06-07      surf   \n",
      "\n",
      "    churn_date  \n",
      "165        NaN  \n",
      "348        NaN  \n",
      "454        NaN  \n",
      "243        NaN  \n",
      "225        NaN  \n"
     ]
    },
    {
     "data": {
      "text/html": [
       "<div>\n",
       "<style scoped>\n",
       "    .dataframe tbody tr th:only-of-type {\n",
       "        vertical-align: middle;\n",
       "    }\n",
       "\n",
       "    .dataframe tbody tr th {\n",
       "        vertical-align: top;\n",
       "    }\n",
       "\n",
       "    .dataframe thead th {\n",
       "        text-align: right;\n",
       "    }\n",
       "</style>\n",
       "<table border=\"1\" class=\"dataframe\">\n",
       "  <thead>\n",
       "    <tr style=\"text-align: right;\">\n",
       "      <th></th>\n",
       "      <th>user_id</th>\n",
       "      <th>age</th>\n",
       "    </tr>\n",
       "  </thead>\n",
       "  <tbody>\n",
       "    <tr>\n",
       "      <th>count</th>\n",
       "      <td>500.000000</td>\n",
       "      <td>500.000000</td>\n",
       "    </tr>\n",
       "    <tr>\n",
       "      <th>mean</th>\n",
       "      <td>1249.500000</td>\n",
       "      <td>45.486000</td>\n",
       "    </tr>\n",
       "    <tr>\n",
       "      <th>std</th>\n",
       "      <td>144.481833</td>\n",
       "      <td>16.972269</td>\n",
       "    </tr>\n",
       "    <tr>\n",
       "      <th>min</th>\n",
       "      <td>1000.000000</td>\n",
       "      <td>18.000000</td>\n",
       "    </tr>\n",
       "    <tr>\n",
       "      <th>25%</th>\n",
       "      <td>1124.750000</td>\n",
       "      <td>30.000000</td>\n",
       "    </tr>\n",
       "    <tr>\n",
       "      <th>50%</th>\n",
       "      <td>1249.500000</td>\n",
       "      <td>46.000000</td>\n",
       "    </tr>\n",
       "    <tr>\n",
       "      <th>75%</th>\n",
       "      <td>1374.250000</td>\n",
       "      <td>61.000000</td>\n",
       "    </tr>\n",
       "    <tr>\n",
       "      <th>max</th>\n",
       "      <td>1499.000000</td>\n",
       "      <td>75.000000</td>\n",
       "    </tr>\n",
       "  </tbody>\n",
       "</table>\n",
       "</div>"
      ],
      "text/plain": [
       "           user_id         age\n",
       "count   500.000000  500.000000\n",
       "mean   1249.500000   45.486000\n",
       "std     144.481833   16.972269\n",
       "min    1000.000000   18.000000\n",
       "25%    1124.750000   30.000000\n",
       "50%    1249.500000   46.000000\n",
       "75%    1374.250000   61.000000\n",
       "max    1499.000000   75.000000"
      ]
     },
     "execution_count": 10,
     "metadata": {},
     "output_type": "execute_result"
    }
   ],
   "source": [
    "# Print a sample of data for users\n",
    "print(users_df.sample(5))\n",
    "users_df.describe()\n"
   ]
  },
  {
   "cell_type": "markdown",
   "metadata": {},
   "source": [
    "This data contains 500 unique users, with ages ranging from 18 to 75 and a mean age of 45 years. There are no apparent missing values or unrealistic age values, but it's good to check for duplicates in user_id and validate data types. If everything checks out, the dataset is clean and ready for analysis."
   ]
  },
  {
   "cell_type": "markdown",
   "metadata": {},
   "source": [
    " "
   ]
  },
  {
   "cell_type": "markdown",
   "metadata": {},
   "source": [
    "### Fix Data"
   ]
  },
  {
   "cell_type": "markdown",
   "metadata": {},
   "source": [
    "[Fix obvious issues with the data given the initial observations.]"
   ]
  },
  {
   "cell_type": "code",
   "execution_count": 11,
   "metadata": {},
   "outputs": [
    {
     "name": "stdout",
     "output_type": "stream",
     "text": [
      "Missing values per column:\n",
      "user_id         0\n",
      "first_name      0\n",
      "last_name       0\n",
      "age             0\n",
      "city            0\n",
      "reg_date        0\n",
      "plan            0\n",
      "churn_date    466\n",
      "dtype: int64\n"
     ]
    }
   ],
   "source": [
    "# Check for missing values\n",
    "print(\"Missing values per column:\")\n",
    "print(users_df.isnull().sum())"
   ]
  },
  {
   "cell_type": "code",
   "execution_count": 12,
   "metadata": {},
   "outputs": [],
   "source": [
    "# Drop rows with missing values (if any)\n",
    "users_df = users_df.dropna()"
   ]
  },
  {
   "cell_type": "code",
   "execution_count": 13,
   "metadata": {},
   "outputs": [
    {
     "name": "stdout",
     "output_type": "stream",
     "text": [
      "Number of duplicate User IDs: 0\n"
     ]
    }
   ],
   "source": [
    "# Check for duplicate values in 'user_id'\n",
    "duplicates = users_df['user_id'].duplicated().sum()\n",
    "print(f\"Number of duplicate User IDs: {duplicates}\")\n",
    "\n",
    "# Drop duplicate User IDs (if any)\n",
    "users_df = users_df.drop_duplicates(subset='user_id')"
   ]
  },
  {
   "cell_type": "markdown",
   "metadata": {},
   "source": [
    "### Enrich Data"
   ]
  },
  {
   "cell_type": "markdown",
   "metadata": {},
   "source": [
    "[Add additional factors to the data if you believe they might be useful.]"
   ]
  },
  {
   "cell_type": "code",
   "execution_count": 14,
   "metadata": {},
   "outputs": [],
   "source": [
    "# Convert reg_date and churn_date to datetime\n",
    "users_df['reg_date'] = pd.to_datetime(users_df['reg_date'])\n",
    "users_df['churn_date'] = pd.to_datetime(users_df['churn_date'])"
   ]
  },
  {
   "cell_type": "code",
   "execution_count": 15,
   "metadata": {},
   "outputs": [],
   "source": [
    "# Add customer tenure (in days)\n",
    "from datetime import datetime\n",
    "current_date = datetime.now()\n",
    "users_df['tenure_days'] = (users_df['churn_date'].fillna(current_date) - users_df['reg_date']).dt.days"
   ]
  },
  {
   "cell_type": "markdown",
   "metadata": {},
   "source": [
    "## Calls"
   ]
  },
  {
   "cell_type": "code",
   "execution_count": 16,
   "metadata": {},
   "outputs": [
    {
     "name": "stdout",
     "output_type": "stream",
     "text": [
      "<class 'pandas.core.frame.DataFrame'>\n",
      "RangeIndex: 137735 entries, 0 to 137734\n",
      "Data columns (total 4 columns):\n",
      " #   Column     Non-Null Count   Dtype  \n",
      "---  ------     --------------   -----  \n",
      " 0   id         137735 non-null  object \n",
      " 1   user_id    137735 non-null  int64  \n",
      " 2   call_date  137735 non-null  object \n",
      " 3   duration   137735 non-null  float64\n",
      "dtypes: float64(1), int64(1), object(2)\n",
      "memory usage: 4.2+ MB\n"
     ]
    }
   ],
   "source": [
    "# Print the general/summary information about the calls' DataFrame\n",
    "\n",
    "calls_df.info()"
   ]
  },
  {
   "cell_type": "code",
   "execution_count": 17,
   "metadata": {},
   "outputs": [
    {
     "name": "stdout",
     "output_type": "stream",
     "text": [
      "               id  user_id   call_date  duration\n",
      "1415      1008_56     1008  2018-10-10      8.64\n",
      "4179     1017_147     1017  2018-11-08      5.26\n",
      "108188  1382_1350     1382  2018-08-30      2.70\n",
      "106184   1374_280     1374  2018-09-13      0.00\n",
      "28301    1106_772     1106  2018-05-14      0.03\n"
     ]
    }
   ],
   "source": [
    "# Print a sample of data for calls\n",
    "print(calls_df.sample(5))\n"
   ]
  },
  {
   "cell_type": "markdown",
   "metadata": {},
   "source": [
    "The calls_df data includes id as a unique identifier, user_id linking to users, call_date as a string (should be converted to datetime), and duration for call length. The duration column includes zero values, likely representing missed or unanswered calls, which may need to be handled based on analysis requirements. Converting call_date to datetime and filtering or analyzing zero durations could improve the dataset's usability."
   ]
  },
  {
   "cell_type": "markdown",
   "metadata": {},
   "source": [
    " "
   ]
  },
  {
   "cell_type": "markdown",
   "metadata": {},
   "source": [
    "### Fix data"
   ]
  },
  {
   "cell_type": "markdown",
   "metadata": {},
   "source": [
    "[Fix obvious issues with the data given the initial observations.]"
   ]
  },
  {
   "cell_type": "code",
   "execution_count": 18,
   "metadata": {},
   "outputs": [],
   "source": [
    "# Convert call_date to datetime\n",
    "calls_df['call_date'] = pd.to_datetime(calls_df['call_date'])"
   ]
  },
  {
   "cell_type": "code",
   "execution_count": 19,
   "metadata": {},
   "outputs": [
    {
     "name": "stdout",
     "output_type": "stream",
     "text": [
      "Number of zero-duration calls: 26834\n"
     ]
    }
   ],
   "source": [
    "# Check for zero-duration calls and handle them\n",
    "zero_duration_count = (calls_df['duration'] == 0).sum()\n",
    "print(f\"Number of zero-duration calls: {zero_duration_count}\")"
   ]
  },
  {
   "cell_type": "code",
   "execution_count": 20,
   "metadata": {},
   "outputs": [],
   "source": [
    "# remove zero-duration calls\n",
    "calls_df = calls_df[calls_df['duration'] > 0]"
   ]
  },
  {
   "cell_type": "markdown",
   "metadata": {},
   "source": [
    "### Enrich data"
   ]
  },
  {
   "cell_type": "markdown",
   "metadata": {},
   "source": [
    "[Add additional factors to the data if you believe they might be useful.]"
   ]
  },
  {
   "cell_type": "code",
   "execution_count": 21,
   "metadata": {},
   "outputs": [],
   "source": [
    "# Add day of the week\n",
    "calls_df['day_of_week'] = calls_df['call_date'].dt.day_name()"
   ]
  },
  {
   "cell_type": "code",
   "execution_count": 22,
   "metadata": {},
   "outputs": [],
   "source": [
    "calls_df['call_month'] = calls_df['call_date'].dt.to_period('M')"
   ]
  },
  {
   "cell_type": "code",
   "execution_count": 23,
   "metadata": {},
   "outputs": [],
   "source": [
    "calls_df['duration'] = np.ceil(calls_df['duration'])"
   ]
  },
  {
   "cell_type": "markdown",
   "metadata": {},
   "source": [
    "<div class=\"alert alert-block alert-danger\">✍\n",
    "    \n",
    "\n",
    "__Reviewer's comment №1__\n",
    "\n",
    "At the end of each call, the duration of the call is rounded up. The `np.ceil()` method should be used."
   ]
  },
  {
   "cell_type": "markdown",
   "metadata": {},
   "source": [
    "<div class=\"alert alert-block alert-success\">✔️\n",
    "    \n",
    "\n",
    "__Reviewer's comment №2__\n",
    "\n",
    "Good for you for using the np.ceil() method\n",
    "    "
   ]
  },
  {
   "cell_type": "markdown",
   "metadata": {},
   "source": []
  },
  {
   "cell_type": "markdown",
   "metadata": {},
   "source": [
    "## Messages"
   ]
  },
  {
   "cell_type": "code",
   "execution_count": 24,
   "metadata": {},
   "outputs": [
    {
     "name": "stdout",
     "output_type": "stream",
     "text": [
      "<class 'pandas.core.frame.DataFrame'>\n",
      "RangeIndex: 76051 entries, 0 to 76050\n",
      "Data columns (total 3 columns):\n",
      " #   Column        Non-Null Count  Dtype \n",
      "---  ------        --------------  ----- \n",
      " 0   id            76051 non-null  object\n",
      " 1   user_id       76051 non-null  int64 \n",
      " 2   message_date  76051 non-null  object\n",
      "dtypes: int64(1), object(2)\n",
      "memory usage: 1.7+ MB\n",
      "None\n"
     ]
    }
   ],
   "source": [
    "# Print the general/summary information about the messages' DataFrame\n",
    "print(messages_df.info())\n"
   ]
  },
  {
   "cell_type": "code",
   "execution_count": 25,
   "metadata": {},
   "outputs": [
    {
     "name": "stdout",
     "output_type": "stream",
     "text": [
      "            user_id\n",
      "count  76051.000000\n",
      "mean    1245.972768\n",
      "std      139.843635\n",
      "min     1000.000000\n",
      "25%     1123.000000\n",
      "50%     1251.000000\n",
      "75%     1362.000000\n",
      "max     1497.000000\n"
     ]
    }
   ],
   "source": [
    "print(messages_df.describe())"
   ]
  },
  {
   "cell_type": "code",
   "execution_count": 26,
   "metadata": {},
   "outputs": [
    {
     "name": "stdout",
     "output_type": "stream",
     "text": [
      "              id  user_id message_date\n",
      "63802   1405_634     1405   2018-09-15\n",
      "24995   1147_196     1147   2018-07-29\n",
      "31592    1196_75     1196   2018-04-06\n",
      "50232  1328_1190     1328   2018-08-30\n",
      "41970   1270_130     1270   2018-10-16\n"
     ]
    }
   ],
   "source": [
    "# Print a sample of data for messages\n",
    "\n",
    "print(messages_df.sample(5))"
   ]
  },
  {
   "cell_type": "markdown",
   "metadata": {},
   "source": [
    "This data includes id as a unique identifier, user_id for linking to users, and message_date as a string (should be converted to datetime). There are no apparent missing values, but converting message_date to datetime is necessary for accurate time-based analysis."
   ]
  },
  {
   "cell_type": "markdown",
   "metadata": {},
   "source": [
    " "
   ]
  },
  {
   "cell_type": "markdown",
   "metadata": {},
   "source": [
    "### Fix data"
   ]
  },
  {
   "cell_type": "markdown",
   "metadata": {},
   "source": [
    "[Fix obvious issues with the data given the initial observations.]"
   ]
  },
  {
   "cell_type": "code",
   "execution_count": 27,
   "metadata": {},
   "outputs": [],
   "source": [
    "# Convert message_date to datetime\n",
    "messages_df['message_date'] = pd.to_datetime(messages_df['message_date'])"
   ]
  },
  {
   "cell_type": "markdown",
   "metadata": {},
   "source": [
    "### Enrich data"
   ]
  },
  {
   "cell_type": "markdown",
   "metadata": {},
   "source": [
    "[Add additional factors to the data if you believe they might be useful.]"
   ]
  },
  {
   "cell_type": "code",
   "execution_count": 28,
   "metadata": {},
   "outputs": [],
   "source": [
    "# Add day of the week\n",
    "messages_df['day_of_week'] = messages_df['message_date'].dt.day_name()"
   ]
  },
  {
   "cell_type": "code",
   "execution_count": 29,
   "metadata": {},
   "outputs": [],
   "source": [
    "# Add month\n",
    "messages_df['month'] = messages_df['message_date'].dt.month"
   ]
  },
  {
   "cell_type": "code",
   "execution_count": 30,
   "metadata": {},
   "outputs": [],
   "source": [
    "#message_month\n",
    "messages_df['message_month']=messages_df['message_date'].dt.to_period('M')"
   ]
  },
  {
   "cell_type": "markdown",
   "metadata": {},
   "source": [
    "<div class=\"alert alert-block alert-danger\">✍\n",
    "    \n",
    "\n",
    "__Reviewer's comment №1__\n",
    "\n",
    "    \n",
    "\n",
    "At the end of each month, megabytes are converted to gigabytes and rounded up. Can you please fix this?"
   ]
  },
  {
   "cell_type": "markdown",
   "metadata": {},
   "source": []
  },
  {
   "cell_type": "markdown",
   "metadata": {},
   "source": [
    "## Internet"
   ]
  },
  {
   "cell_type": "code",
   "execution_count": 31,
   "metadata": {},
   "outputs": [
    {
     "name": "stdout",
     "output_type": "stream",
     "text": [
      "<class 'pandas.core.frame.DataFrame'>\n",
      "RangeIndex: 104825 entries, 0 to 104824\n",
      "Data columns (total 4 columns):\n",
      " #   Column        Non-Null Count   Dtype  \n",
      "---  ------        --------------   -----  \n",
      " 0   id            104825 non-null  object \n",
      " 1   user_id       104825 non-null  int64  \n",
      " 2   session_date  104825 non-null  object \n",
      " 3   mb_used       104825 non-null  float64\n",
      "dtypes: float64(1), int64(1), object(2)\n",
      "memory usage: 3.2+ MB\n",
      "None\n"
     ]
    }
   ],
   "source": [
    "# Print the general/summary information about the internet DataFrame\n",
    "\n",
    "print(internet_df.info())"
   ]
  },
  {
   "cell_type": "code",
   "execution_count": 32,
   "metadata": {},
   "outputs": [
    {
     "data": {
      "text/html": [
       "<div>\n",
       "<style scoped>\n",
       "    .dataframe tbody tr th:only-of-type {\n",
       "        vertical-align: middle;\n",
       "    }\n",
       "\n",
       "    .dataframe tbody tr th {\n",
       "        vertical-align: top;\n",
       "    }\n",
       "\n",
       "    .dataframe thead th {\n",
       "        text-align: right;\n",
       "    }\n",
       "</style>\n",
       "<table border=\"1\" class=\"dataframe\">\n",
       "  <thead>\n",
       "    <tr style=\"text-align: right;\">\n",
       "      <th></th>\n",
       "      <th>user_id</th>\n",
       "      <th>mb_used</th>\n",
       "    </tr>\n",
       "  </thead>\n",
       "  <tbody>\n",
       "    <tr>\n",
       "      <th>count</th>\n",
       "      <td>104825.000000</td>\n",
       "      <td>104825.000000</td>\n",
       "    </tr>\n",
       "    <tr>\n",
       "      <th>mean</th>\n",
       "      <td>1242.496361</td>\n",
       "      <td>366.713701</td>\n",
       "    </tr>\n",
       "    <tr>\n",
       "      <th>std</th>\n",
       "      <td>142.053913</td>\n",
       "      <td>277.170542</td>\n",
       "    </tr>\n",
       "    <tr>\n",
       "      <th>min</th>\n",
       "      <td>1000.000000</td>\n",
       "      <td>0.000000</td>\n",
       "    </tr>\n",
       "    <tr>\n",
       "      <th>25%</th>\n",
       "      <td>1122.000000</td>\n",
       "      <td>136.080000</td>\n",
       "    </tr>\n",
       "    <tr>\n",
       "      <th>50%</th>\n",
       "      <td>1236.000000</td>\n",
       "      <td>343.980000</td>\n",
       "    </tr>\n",
       "    <tr>\n",
       "      <th>75%</th>\n",
       "      <td>1367.000000</td>\n",
       "      <td>554.610000</td>\n",
       "    </tr>\n",
       "    <tr>\n",
       "      <th>max</th>\n",
       "      <td>1499.000000</td>\n",
       "      <td>1693.470000</td>\n",
       "    </tr>\n",
       "  </tbody>\n",
       "</table>\n",
       "</div>"
      ],
      "text/plain": [
       "             user_id        mb_used\n",
       "count  104825.000000  104825.000000\n",
       "mean     1242.496361     366.713701\n",
       "std       142.053913     277.170542\n",
       "min      1000.000000       0.000000\n",
       "25%      1122.000000     136.080000\n",
       "50%      1236.000000     343.980000\n",
       "75%      1367.000000     554.610000\n",
       "max      1499.000000    1693.470000"
      ]
     },
     "execution_count": 32,
     "metadata": {},
     "output_type": "execute_result"
    }
   ],
   "source": [
    "internet_df.describe()"
   ]
  },
  {
   "cell_type": "code",
   "execution_count": 33,
   "metadata": {},
   "outputs": [
    {
     "name": "stdout",
     "output_type": "stream",
     "text": [
      "             id  user_id session_date  mb_used\n",
      "32683  1147_313     1147   2018-10-04   447.07\n",
      "69844  1326_116     1326   2018-08-15   212.56\n",
      "1657   1009_192     1009   2018-10-18   303.46\n",
      "97403   1459_32     1459   2018-12-24   708.62\n",
      "84782  1396_108     1396   2018-08-28    95.63\n"
     ]
    }
   ],
   "source": [
    "# Print a sample of data for the internet traffic\n",
    "\n",
    "print(internet_df.sample(5))"
   ]
  },
  {
   "cell_type": "markdown",
   "metadata": {},
   "source": [
    "This dataset consists of id, user_id, session_date, and mb_used columns, with no missing values. The session_date is stored as an object, which should be converted to datetime for proper time-based analysis. Additionally, mb_used is a float, which seems appropriate, but further checks on outliers or extremely high values might be needed for quality control."
   ]
  },
  {
   "cell_type": "markdown",
   "metadata": {},
   "source": [
    " "
   ]
  },
  {
   "cell_type": "markdown",
   "metadata": {},
   "source": [
    "### Fix data"
   ]
  },
  {
   "cell_type": "markdown",
   "metadata": {},
   "source": [
    "[Fix obvious issues with the data given the initial observations.]"
   ]
  },
  {
   "cell_type": "code",
   "execution_count": 34,
   "metadata": {},
   "outputs": [],
   "source": [
    "# Convert session_date to datetime\n",
    "internet_df['session_date'] = pd.to_datetime(internet_df['session_date'])"
   ]
  },
  {
   "cell_type": "markdown",
   "metadata": {},
   "source": [
    "### Enrich data"
   ]
  },
  {
   "cell_type": "markdown",
   "metadata": {},
   "source": [
    "[Add additional factors to the data if you believe they might be useful.]"
   ]
  },
  {
   "cell_type": "code",
   "execution_count": 35,
   "metadata": {},
   "outputs": [],
   "source": [
    "# Add day of the week\n",
    "internet_df['day_of_week'] = internet_df['session_date'].dt.day_name()\n",
    "\n",
    "# Add month\n",
    "internet_df['month'] = internet_df['session_date'].dt.month"
   ]
  },
  {
   "cell_type": "code",
   "execution_count": 36,
   "metadata": {},
   "outputs": [],
   "source": [
    "internet_df['gb_used'] = internet_df.groupby(['user_id', internet_df['session_date'].dt.to_period('M')])['mb_used'].transform('sum').div(1024).apply(np.ceil)\n"
   ]
  },
  {
   "cell_type": "markdown",
   "metadata": {},
   "source": [
    "## Study plan conditions"
   ]
  },
  {
   "cell_type": "markdown",
   "metadata": {},
   "source": [
    "[It is critical to understand how the plans work, how users are charged based on their plan subscription. So, we suggest printing out the plan information to view their conditions once again.]"
   ]
  },
  {
   "cell_type": "code",
   "execution_count": 37,
   "metadata": {},
   "outputs": [
    {
     "data": {
      "text/html": [
       "<div>\n",
       "<style scoped>\n",
       "    .dataframe tbody tr th:only-of-type {\n",
       "        vertical-align: middle;\n",
       "    }\n",
       "\n",
       "    .dataframe tbody tr th {\n",
       "        vertical-align: top;\n",
       "    }\n",
       "\n",
       "    .dataframe thead th {\n",
       "        text-align: right;\n",
       "    }\n",
       "</style>\n",
       "<table border=\"1\" class=\"dataframe\">\n",
       "  <thead>\n",
       "    <tr style=\"text-align: right;\">\n",
       "      <th></th>\n",
       "      <th>messages_included</th>\n",
       "      <th>mb_per_month_included</th>\n",
       "      <th>minutes_included</th>\n",
       "      <th>usd_monthly_pay</th>\n",
       "      <th>usd_per_gb</th>\n",
       "      <th>usd_per_message</th>\n",
       "      <th>usd_per_minute</th>\n",
       "      <th>plan_name</th>\n",
       "      <th>gb_per_month_included</th>\n",
       "    </tr>\n",
       "  </thead>\n",
       "  <tbody>\n",
       "    <tr>\n",
       "      <th>count</th>\n",
       "      <td>2.000000</td>\n",
       "      <td>2.000000</td>\n",
       "      <td>2.000000</td>\n",
       "      <td>2.000000</td>\n",
       "      <td>2.00000</td>\n",
       "      <td>2.000000</td>\n",
       "      <td>2.000000</td>\n",
       "      <td>2</td>\n",
       "      <td>2.000000</td>\n",
       "    </tr>\n",
       "    <tr>\n",
       "      <th>unique</th>\n",
       "      <td>NaN</td>\n",
       "      <td>NaN</td>\n",
       "      <td>NaN</td>\n",
       "      <td>NaN</td>\n",
       "      <td>NaN</td>\n",
       "      <td>NaN</td>\n",
       "      <td>NaN</td>\n",
       "      <td>2</td>\n",
       "      <td>NaN</td>\n",
       "    </tr>\n",
       "    <tr>\n",
       "      <th>top</th>\n",
       "      <td>NaN</td>\n",
       "      <td>NaN</td>\n",
       "      <td>NaN</td>\n",
       "      <td>NaN</td>\n",
       "      <td>NaN</td>\n",
       "      <td>NaN</td>\n",
       "      <td>NaN</td>\n",
       "      <td>ultimate</td>\n",
       "      <td>NaN</td>\n",
       "    </tr>\n",
       "    <tr>\n",
       "      <th>freq</th>\n",
       "      <td>NaN</td>\n",
       "      <td>NaN</td>\n",
       "      <td>NaN</td>\n",
       "      <td>NaN</td>\n",
       "      <td>NaN</td>\n",
       "      <td>NaN</td>\n",
       "      <td>NaN</td>\n",
       "      <td>1</td>\n",
       "      <td>NaN</td>\n",
       "    </tr>\n",
       "    <tr>\n",
       "      <th>mean</th>\n",
       "      <td>525.000000</td>\n",
       "      <td>23040.000000</td>\n",
       "      <td>1750.000000</td>\n",
       "      <td>45.000000</td>\n",
       "      <td>8.50000</td>\n",
       "      <td>0.020000</td>\n",
       "      <td>0.020000</td>\n",
       "      <td>NaN</td>\n",
       "      <td>22.500000</td>\n",
       "    </tr>\n",
       "    <tr>\n",
       "      <th>std</th>\n",
       "      <td>671.751442</td>\n",
       "      <td>10861.160159</td>\n",
       "      <td>1767.766953</td>\n",
       "      <td>35.355339</td>\n",
       "      <td>2.12132</td>\n",
       "      <td>0.014142</td>\n",
       "      <td>0.014142</td>\n",
       "      <td>NaN</td>\n",
       "      <td>10.606602</td>\n",
       "    </tr>\n",
       "    <tr>\n",
       "      <th>min</th>\n",
       "      <td>50.000000</td>\n",
       "      <td>15360.000000</td>\n",
       "      <td>500.000000</td>\n",
       "      <td>20.000000</td>\n",
       "      <td>7.00000</td>\n",
       "      <td>0.010000</td>\n",
       "      <td>0.010000</td>\n",
       "      <td>NaN</td>\n",
       "      <td>15.000000</td>\n",
       "    </tr>\n",
       "    <tr>\n",
       "      <th>25%</th>\n",
       "      <td>287.500000</td>\n",
       "      <td>19200.000000</td>\n",
       "      <td>1125.000000</td>\n",
       "      <td>32.500000</td>\n",
       "      <td>7.75000</td>\n",
       "      <td>0.015000</td>\n",
       "      <td>0.015000</td>\n",
       "      <td>NaN</td>\n",
       "      <td>18.750000</td>\n",
       "    </tr>\n",
       "    <tr>\n",
       "      <th>50%</th>\n",
       "      <td>525.000000</td>\n",
       "      <td>23040.000000</td>\n",
       "      <td>1750.000000</td>\n",
       "      <td>45.000000</td>\n",
       "      <td>8.50000</td>\n",
       "      <td>0.020000</td>\n",
       "      <td>0.020000</td>\n",
       "      <td>NaN</td>\n",
       "      <td>22.500000</td>\n",
       "    </tr>\n",
       "    <tr>\n",
       "      <th>75%</th>\n",
       "      <td>762.500000</td>\n",
       "      <td>26880.000000</td>\n",
       "      <td>2375.000000</td>\n",
       "      <td>57.500000</td>\n",
       "      <td>9.25000</td>\n",
       "      <td>0.025000</td>\n",
       "      <td>0.025000</td>\n",
       "      <td>NaN</td>\n",
       "      <td>26.250000</td>\n",
       "    </tr>\n",
       "    <tr>\n",
       "      <th>max</th>\n",
       "      <td>1000.000000</td>\n",
       "      <td>30720.000000</td>\n",
       "      <td>3000.000000</td>\n",
       "      <td>70.000000</td>\n",
       "      <td>10.00000</td>\n",
       "      <td>0.030000</td>\n",
       "      <td>0.030000</td>\n",
       "      <td>NaN</td>\n",
       "      <td>30.000000</td>\n",
       "    </tr>\n",
       "  </tbody>\n",
       "</table>\n",
       "</div>"
      ],
      "text/plain": [
       "        messages_included  mb_per_month_included  minutes_included  \\\n",
       "count            2.000000               2.000000          2.000000   \n",
       "unique                NaN                    NaN               NaN   \n",
       "top                   NaN                    NaN               NaN   \n",
       "freq                  NaN                    NaN               NaN   \n",
       "mean           525.000000           23040.000000       1750.000000   \n",
       "std            671.751442           10861.160159       1767.766953   \n",
       "min             50.000000           15360.000000        500.000000   \n",
       "25%            287.500000           19200.000000       1125.000000   \n",
       "50%            525.000000           23040.000000       1750.000000   \n",
       "75%            762.500000           26880.000000       2375.000000   \n",
       "max           1000.000000           30720.000000       3000.000000   \n",
       "\n",
       "        usd_monthly_pay  usd_per_gb  usd_per_message  usd_per_minute  \\\n",
       "count          2.000000     2.00000         2.000000        2.000000   \n",
       "unique              NaN         NaN              NaN             NaN   \n",
       "top                 NaN         NaN              NaN             NaN   \n",
       "freq                NaN         NaN              NaN             NaN   \n",
       "mean          45.000000     8.50000         0.020000        0.020000   \n",
       "std           35.355339     2.12132         0.014142        0.014142   \n",
       "min           20.000000     7.00000         0.010000        0.010000   \n",
       "25%           32.500000     7.75000         0.015000        0.015000   \n",
       "50%           45.000000     8.50000         0.020000        0.020000   \n",
       "75%           57.500000     9.25000         0.025000        0.025000   \n",
       "max           70.000000    10.00000         0.030000        0.030000   \n",
       "\n",
       "       plan_name  gb_per_month_included  \n",
       "count          2               2.000000  \n",
       "unique         2                    NaN  \n",
       "top     ultimate                    NaN  \n",
       "freq           1                    NaN  \n",
       "mean         NaN              22.500000  \n",
       "std          NaN              10.606602  \n",
       "min          NaN              15.000000  \n",
       "25%          NaN              18.750000  \n",
       "50%          NaN              22.500000  \n",
       "75%          NaN              26.250000  \n",
       "max          NaN              30.000000  "
      ]
     },
     "execution_count": 37,
     "metadata": {},
     "output_type": "execute_result"
    }
   ],
   "source": [
    "# Print out the plan conditions and make sure they are clear for you\n",
    "\n",
    "# Display a summary \n",
    "plans_df.describe(include='all')"
   ]
  },
  {
   "cell_type": "code",
   "execution_count": 38,
   "metadata": {},
   "outputs": [
    {
     "data": {
      "text/html": [
       "<div>\n",
       "<style scoped>\n",
       "    .dataframe tbody tr th:only-of-type {\n",
       "        vertical-align: middle;\n",
       "    }\n",
       "\n",
       "    .dataframe tbody tr th {\n",
       "        vertical-align: top;\n",
       "    }\n",
       "\n",
       "    .dataframe thead th {\n",
       "        text-align: right;\n",
       "    }\n",
       "</style>\n",
       "<table border=\"1\" class=\"dataframe\">\n",
       "  <thead>\n",
       "    <tr style=\"text-align: right;\">\n",
       "      <th></th>\n",
       "      <th>messages_included</th>\n",
       "      <th>mb_per_month_included</th>\n",
       "      <th>minutes_included</th>\n",
       "      <th>usd_monthly_pay</th>\n",
       "      <th>usd_per_gb</th>\n",
       "      <th>usd_per_message</th>\n",
       "      <th>usd_per_minute</th>\n",
       "      <th>plan_name</th>\n",
       "      <th>gb_per_month_included</th>\n",
       "    </tr>\n",
       "  </thead>\n",
       "  <tbody>\n",
       "    <tr>\n",
       "      <th>0</th>\n",
       "      <td>50</td>\n",
       "      <td>15360</td>\n",
       "      <td>500</td>\n",
       "      <td>20</td>\n",
       "      <td>10</td>\n",
       "      <td>0.03</td>\n",
       "      <td>0.03</td>\n",
       "      <td>surf</td>\n",
       "      <td>15.0</td>\n",
       "    </tr>\n",
       "    <tr>\n",
       "      <th>1</th>\n",
       "      <td>1000</td>\n",
       "      <td>30720</td>\n",
       "      <td>3000</td>\n",
       "      <td>70</td>\n",
       "      <td>7</td>\n",
       "      <td>0.01</td>\n",
       "      <td>0.01</td>\n",
       "      <td>ultimate</td>\n",
       "      <td>30.0</td>\n",
       "    </tr>\n",
       "  </tbody>\n",
       "</table>\n",
       "</div>"
      ],
      "text/plain": [
       "   messages_included  mb_per_month_included  minutes_included  \\\n",
       "0                 50                  15360               500   \n",
       "1               1000                  30720              3000   \n",
       "\n",
       "   usd_monthly_pay  usd_per_gb  usd_per_message  usd_per_minute plan_name  \\\n",
       "0               20          10             0.03            0.03      surf   \n",
       "1               70           7             0.01            0.01  ultimate   \n",
       "\n",
       "   gb_per_month_included  \n",
       "0                   15.0  \n",
       "1                   30.0  "
      ]
     },
     "execution_count": 38,
     "metadata": {},
     "output_type": "execute_result"
    }
   ],
   "source": [
    "# Print the plan information\n",
    "plans_df.head()"
   ]
  },
  {
   "cell_type": "code",
   "execution_count": 39,
   "metadata": {},
   "outputs": [
    {
     "data": {
      "text/html": [
       "<div>\n",
       "<style scoped>\n",
       "    .dataframe tbody tr th:only-of-type {\n",
       "        vertical-align: middle;\n",
       "    }\n",
       "\n",
       "    .dataframe tbody tr th {\n",
       "        vertical-align: top;\n",
       "    }\n",
       "\n",
       "    .dataframe thead th {\n",
       "        text-align: right;\n",
       "    }\n",
       "</style>\n",
       "<table border=\"1\" class=\"dataframe\">\n",
       "  <thead>\n",
       "    <tr style=\"text-align: right;\">\n",
       "      <th></th>\n",
       "      <th>user_id</th>\n",
       "      <th>first_name</th>\n",
       "      <th>last_name</th>\n",
       "      <th>age</th>\n",
       "      <th>city</th>\n",
       "      <th>reg_date</th>\n",
       "      <th>plan</th>\n",
       "      <th>churn_date</th>\n",
       "      <th>tenure_days</th>\n",
       "    </tr>\n",
       "  </thead>\n",
       "  <tbody>\n",
       "    <tr>\n",
       "      <th>6</th>\n",
       "      <td>1006</td>\n",
       "      <td>Jesusa</td>\n",
       "      <td>Bradford</td>\n",
       "      <td>73</td>\n",
       "      <td>San Francisco-Oakland-Berkeley, CA MSA</td>\n",
       "      <td>2018-11-27</td>\n",
       "      <td>ultimate</td>\n",
       "      <td>2018-12-18</td>\n",
       "      <td>21</td>\n",
       "    </tr>\n",
       "    <tr>\n",
       "      <th>12</th>\n",
       "      <td>1012</td>\n",
       "      <td>Jonelle</td>\n",
       "      <td>Mcbride</td>\n",
       "      <td>59</td>\n",
       "      <td>Chicago-Naperville-Elgin, IL-IN-WI MSA</td>\n",
       "      <td>2018-06-28</td>\n",
       "      <td>surf</td>\n",
       "      <td>2018-11-16</td>\n",
       "      <td>141</td>\n",
       "    </tr>\n",
       "  </tbody>\n",
       "</table>\n",
       "</div>"
      ],
      "text/plain": [
       "    user_id first_name last_name  age                                    city  \\\n",
       "6      1006     Jesusa  Bradford   73  San Francisco-Oakland-Berkeley, CA MSA   \n",
       "12     1012    Jonelle   Mcbride   59  Chicago-Naperville-Elgin, IL-IN-WI MSA   \n",
       "\n",
       "     reg_date      plan churn_date  tenure_days  \n",
       "6  2018-11-27  ultimate 2018-12-18           21  \n",
       "12 2018-06-28      surf 2018-11-16          141  "
      ]
     },
     "execution_count": 39,
     "metadata": {},
     "output_type": "execute_result"
    }
   ],
   "source": [
    "#just wanted to see other data after adding new columns\n",
    "users_df.head(2)"
   ]
  },
  {
   "cell_type": "code",
   "execution_count": 40,
   "metadata": {},
   "outputs": [
    {
     "data": {
      "text/html": [
       "<div>\n",
       "<style scoped>\n",
       "    .dataframe tbody tr th:only-of-type {\n",
       "        vertical-align: middle;\n",
       "    }\n",
       "\n",
       "    .dataframe tbody tr th {\n",
       "        vertical-align: top;\n",
       "    }\n",
       "\n",
       "    .dataframe thead th {\n",
       "        text-align: right;\n",
       "    }\n",
       "</style>\n",
       "<table border=\"1\" class=\"dataframe\">\n",
       "  <thead>\n",
       "    <tr style=\"text-align: right;\">\n",
       "      <th></th>\n",
       "      <th>id</th>\n",
       "      <th>user_id</th>\n",
       "      <th>call_date</th>\n",
       "      <th>duration</th>\n",
       "      <th>day_of_week</th>\n",
       "      <th>call_month</th>\n",
       "    </tr>\n",
       "  </thead>\n",
       "  <tbody>\n",
       "    <tr>\n",
       "      <th>0</th>\n",
       "      <td>1000_93</td>\n",
       "      <td>1000</td>\n",
       "      <td>2018-12-27</td>\n",
       "      <td>9.0</td>\n",
       "      <td>Thursday</td>\n",
       "      <td>2018-12</td>\n",
       "    </tr>\n",
       "    <tr>\n",
       "      <th>1</th>\n",
       "      <td>1000_145</td>\n",
       "      <td>1000</td>\n",
       "      <td>2018-12-27</td>\n",
       "      <td>14.0</td>\n",
       "      <td>Thursday</td>\n",
       "      <td>2018-12</td>\n",
       "    </tr>\n",
       "  </tbody>\n",
       "</table>\n",
       "</div>"
      ],
      "text/plain": [
       "         id  user_id  call_date  duration day_of_week call_month\n",
       "0   1000_93     1000 2018-12-27       9.0    Thursday    2018-12\n",
       "1  1000_145     1000 2018-12-27      14.0    Thursday    2018-12"
      ]
     },
     "execution_count": 40,
     "metadata": {},
     "output_type": "execute_result"
    }
   ],
   "source": [
    "calls_df.head(2)"
   ]
  },
  {
   "cell_type": "code",
   "execution_count": 41,
   "metadata": {},
   "outputs": [
    {
     "data": {
      "text/html": [
       "<div>\n",
       "<style scoped>\n",
       "    .dataframe tbody tr th:only-of-type {\n",
       "        vertical-align: middle;\n",
       "    }\n",
       "\n",
       "    .dataframe tbody tr th {\n",
       "        vertical-align: top;\n",
       "    }\n",
       "\n",
       "    .dataframe thead th {\n",
       "        text-align: right;\n",
       "    }\n",
       "</style>\n",
       "<table border=\"1\" class=\"dataframe\">\n",
       "  <thead>\n",
       "    <tr style=\"text-align: right;\">\n",
       "      <th></th>\n",
       "      <th>id</th>\n",
       "      <th>user_id</th>\n",
       "      <th>message_date</th>\n",
       "      <th>day_of_week</th>\n",
       "      <th>month</th>\n",
       "      <th>message_month</th>\n",
       "    </tr>\n",
       "  </thead>\n",
       "  <tbody>\n",
       "    <tr>\n",
       "      <th>0</th>\n",
       "      <td>1000_125</td>\n",
       "      <td>1000</td>\n",
       "      <td>2018-12-27</td>\n",
       "      <td>Thursday</td>\n",
       "      <td>12</td>\n",
       "      <td>2018-12</td>\n",
       "    </tr>\n",
       "    <tr>\n",
       "      <th>1</th>\n",
       "      <td>1000_160</td>\n",
       "      <td>1000</td>\n",
       "      <td>2018-12-31</td>\n",
       "      <td>Monday</td>\n",
       "      <td>12</td>\n",
       "      <td>2018-12</td>\n",
       "    </tr>\n",
       "  </tbody>\n",
       "</table>\n",
       "</div>"
      ],
      "text/plain": [
       "         id  user_id message_date day_of_week  month message_month\n",
       "0  1000_125     1000   2018-12-27    Thursday     12       2018-12\n",
       "1  1000_160     1000   2018-12-31      Monday     12       2018-12"
      ]
     },
     "execution_count": 41,
     "metadata": {},
     "output_type": "execute_result"
    }
   ],
   "source": [
    "messages_df.head(2)"
   ]
  },
  {
   "cell_type": "code",
   "execution_count": 42,
   "metadata": {},
   "outputs": [
    {
     "data": {
      "text/html": [
       "<div>\n",
       "<style scoped>\n",
       "    .dataframe tbody tr th:only-of-type {\n",
       "        vertical-align: middle;\n",
       "    }\n",
       "\n",
       "    .dataframe tbody tr th {\n",
       "        vertical-align: top;\n",
       "    }\n",
       "\n",
       "    .dataframe thead th {\n",
       "        text-align: right;\n",
       "    }\n",
       "</style>\n",
       "<table border=\"1\" class=\"dataframe\">\n",
       "  <thead>\n",
       "    <tr style=\"text-align: right;\">\n",
       "      <th></th>\n",
       "      <th>id</th>\n",
       "      <th>user_id</th>\n",
       "      <th>session_date</th>\n",
       "      <th>mb_used</th>\n",
       "      <th>day_of_week</th>\n",
       "      <th>month</th>\n",
       "      <th>gb_used</th>\n",
       "    </tr>\n",
       "  </thead>\n",
       "  <tbody>\n",
       "    <tr>\n",
       "      <th>0</th>\n",
       "      <td>1000_13</td>\n",
       "      <td>1000</td>\n",
       "      <td>2018-12-29</td>\n",
       "      <td>89.86</td>\n",
       "      <td>Saturday</td>\n",
       "      <td>12</td>\n",
       "      <td>2.0</td>\n",
       "    </tr>\n",
       "    <tr>\n",
       "      <th>1</th>\n",
       "      <td>1000_204</td>\n",
       "      <td>1000</td>\n",
       "      <td>2018-12-31</td>\n",
       "      <td>0.00</td>\n",
       "      <td>Monday</td>\n",
       "      <td>12</td>\n",
       "      <td>2.0</td>\n",
       "    </tr>\n",
       "  </tbody>\n",
       "</table>\n",
       "</div>"
      ],
      "text/plain": [
       "         id  user_id session_date  mb_used day_of_week  month  gb_used\n",
       "0   1000_13     1000   2018-12-29    89.86    Saturday     12      2.0\n",
       "1  1000_204     1000   2018-12-31     0.00      Monday     12      2.0"
      ]
     },
     "execution_count": 42,
     "metadata": {},
     "output_type": "execute_result"
    }
   ],
   "source": [
    "internet_df.head(2)"
   ]
  },
  {
   "cell_type": "markdown",
   "metadata": {},
   "source": [
    "## Aggregate data per user\n",
    "\n",
    "[Now, as the data is clean, aggregate data per user per period in order to have just one record per user per period. It should ease the further analysis a lot.]"
   ]
  },
  {
   "cell_type": "code",
   "execution_count": 43,
   "metadata": {},
   "outputs": [
    {
     "name": "stdout",
     "output_type": "stream",
     "text": [
      "   user_id call_month  num_calls\n",
      "0     1000    2018-12         16\n",
      "1     1001    2018-08         22\n",
      "2     1001    2018-09         38\n",
      "3     1001    2018-10         47\n",
      "4     1001    2018-11         49\n"
     ]
    }
   ],
   "source": [
    "# Calculate the number of calls made by each user per month. Save the result.\n",
    "\n",
    "# Group by 'user_id' and 'call_month' to calculate the number of calls per user per month\n",
    "user_calls_per_month = calls_df.groupby(['user_id', 'call_month']).size().reset_index(name='num_calls')\n",
    "\n",
    "# Display the result\n",
    "print(user_calls_per_month.head())"
   ]
  },
  {
   "cell_type": "code",
   "execution_count": 44,
   "metadata": {},
   "outputs": [
    {
     "name": "stdout",
     "output_type": "stream",
     "text": [
      "   user_id call_month  total_minutes\n",
      "0     1000    2018-12          124.0\n",
      "1     1001    2018-08          182.0\n",
      "2     1001    2018-09          315.0\n",
      "3     1001    2018-10          393.0\n",
      "4     1001    2018-11          426.0\n"
     ]
    }
   ],
   "source": [
    "# Calculate the amount of minutes spent by each user per month. Save the result.\n",
    "# Group by 'user_id' and 'call_month' to calculate the total duration of calls per user per month\n",
    "user_minutes_per_month = calls_df.groupby(['user_id', 'call_month'])['duration'].sum().reset_index()\n",
    "\n",
    "# Rename the column for clarity\n",
    "user_minutes_per_month.rename(columns={'duration': 'total_minutes'}, inplace=True)\n",
    "\n",
    "# Display the result\n",
    "print(user_minutes_per_month.head())\n",
    "\n"
   ]
  },
  {
   "cell_type": "code",
   "execution_count": 45,
   "metadata": {},
   "outputs": [
    {
     "name": "stdout",
     "output_type": "stream",
     "text": [
      "   user_id message_month  num_messages\n",
      "0     1000       2018-12            11\n",
      "1     1001       2018-08            30\n",
      "2     1001       2018-09            44\n",
      "3     1001       2018-10            53\n",
      "4     1001       2018-11            36\n"
     ]
    }
   ],
   "source": [
    "# Calculate the number of messages sent by each user per month. Save the result.\n",
    "\n",
    "# Group by 'user_id' and 'message_month' to calculate the number of messages per user per month\n",
    "user_messages_per_month = messages_df.groupby(['user_id', 'message_month']).size().reset_index(name='num_messages')\n",
    "\n",
    "# Display the result\n",
    "print(user_messages_per_month.head())\n",
    "\n"
   ]
  },
  {
   "cell_type": "code",
   "execution_count": 46,
   "metadata": {},
   "outputs": [
    {
     "name": "stdout",
     "output_type": "stream",
     "text": [
      "   user_id internet_month  total_mb_used\n",
      "0     1000        2018-12        1901.47\n",
      "1     1001        2018-08        6919.15\n",
      "2     1001        2018-09       13314.82\n",
      "3     1001        2018-10       22330.49\n",
      "4     1001        2018-11       18504.30\n"
     ]
    }
   ],
   "source": [
    "#Calculate the volume of internet traffic used by each user per month. Save the result.\n",
    "\n",
    "# Add a column for the month of each internet session\n",
    "internet_df['internet_month'] = internet_df['session_date'].dt.to_period('M')\n",
    "\n",
    "# Group by user_id and month, and sum the internet traffic\n",
    "internet_traffic_per_user_month = internet_df.groupby(['user_id', 'internet_month'])['mb_used'].sum().reset_index()\n",
    "\n",
    "# Rename columns for clarity\n",
    "internet_traffic_per_user_month.rename(columns={'mb_used': 'total_mb_used'}, inplace=True)\n",
    "\n",
    "# Save the result\n",
    "print(internet_traffic_per_user_month.head())\n"
   ]
  },
  {
   "cell_type": "markdown",
   "metadata": {},
   "source": [
    "[Put the aggregate data together into one DataFrame so that one record in it would represent what an unique user consumed in a given month.]"
   ]
  },
  {
   "cell_type": "code",
   "execution_count": 47,
   "metadata": {},
   "outputs": [
    {
     "name": "stdout",
     "output_type": "stream",
     "text": [
      "   user_id    month  num_calls  total_minutes  num_messages  total_mb_used\n",
      "0     1000  2018-12         16          124.0          11.0        1901.47\n",
      "1     1001  2018-08         22          182.0          30.0        6919.15\n",
      "2     1001  2018-09         38          315.0          44.0       13314.82\n",
      "3     1001  2018-10         47          393.0          53.0       22330.49\n",
      "4     1001  2018-11         49          426.0          36.0       18504.30\n"
     ]
    }
   ],
   "source": [
    "# Merge the data for calls, minutes, messages, internet based on user_id and month\n",
    "# Check the column names to ensure 'call_month', 'message_month', and 'internet_month' are correct\n",
    "user_calls_per_month.rename(columns={'call_month': 'month'}, inplace=True)\n",
    "user_minutes_per_month.rename(columns={'call_month': 'month'}, inplace=True)\n",
    "user_messages_per_month.rename(columns={'message_month': 'month'}, inplace=True)\n",
    "internet_traffic_per_user_month.rename(columns={'internet_month': 'month'}, inplace=True)\n",
    "\n",
    "# Merge the data for calls, minutes, messages, and internet based on user_id and month\n",
    "user_monthly_usage = user_calls_per_month.merge(\n",
    "    user_minutes_per_month, \n",
    "    on=['user_id', 'month'], \n",
    "    how='left'\n",
    ")\n",
    "\n",
    "user_monthly_usage = user_monthly_usage.merge(\n",
    "    user_messages_per_month, \n",
    "    on=['user_id', 'month'], \n",
    "    how='left'\n",
    ")\n",
    "\n",
    "user_monthly_usage = user_monthly_usage.merge(\n",
    "    internet_traffic_per_user_month, \n",
    "    on=['user_id', 'month'], \n",
    "    how='left'\n",
    ")\n",
    "\n",
    "# Display the combined data\n",
    "print(user_monthly_usage.head())\n"
   ]
  },
  {
   "cell_type": "markdown",
   "metadata": {},
   "source": [
    "<div class=\"alert alert-block alert-success\">✔️\n",
    "    \n",
    "\n",
    "__Reviewer's comment №1__\n",
    "\n",
    "Great"
   ]
  },
  {
   "cell_type": "code",
   "execution_count": 48,
   "metadata": {
    "scrolled": true
   },
   "outputs": [
    {
     "name": "stdout",
     "output_type": "stream",
     "text": [
      "   user_id    month      plan  num_calls  total_minutes  num_messages  \\\n",
      "0     1006  2018-11  ultimate          2           10.0          15.0   \n",
      "1     1006  2018-12  ultimate          7           59.0         139.0   \n",
      "2     1012  2018-11      surf          9           75.0           0.0   \n",
      "3     1012  2018-12      surf         12           78.0           0.0   \n",
      "4     1022  2018-05      surf         32          302.0           0.0   \n",
      "\n",
      "   total_mb_used  \n",
      "0        2068.37  \n",
      "1       32118.82  \n",
      "2       13935.03  \n",
      "3       11876.94  \n",
      "4        4908.08  \n"
     ]
    }
   ],
   "source": [
    "# Add the plan information\n",
    "\n",
    "# Merge the plan information with the aggregated usage data\n",
    "user_monthly_usage_with_plan = user_monthly_usage.merge(\n",
    "    users_df[['user_id', 'plan']],  # Include the 'user_id' and 'plan' columns\n",
    "    on='user_id', \n",
    "    how='left'\n",
    ")\n",
    "\n",
    "# Since we are working with monthly data, let's ensure we group by 'user_id' and 'month'\n",
    "user_monthly_usage_with_plan = user_monthly_usage_with_plan.groupby(\n",
    "    ['user_id', 'month', 'plan']\n",
    ").agg({\n",
    "    'num_calls': 'sum',\n",
    "    'total_minutes': 'sum',\n",
    "    'num_messages': 'sum',\n",
    "    'total_mb_used': 'sum'\n",
    "}).reset_index()\n",
    "\n",
    "# Display the result\n",
    "print(user_monthly_usage_with_plan.head())\n"
   ]
  },
  {
   "cell_type": "markdown",
   "metadata": {},
   "source": [
    "[Calculate the monthly revenue from each user (subtract the free package limit from the total number of calls, text messages, and data; multiply the result by the calling plan value; add the monthly charge depending on the calling plan). N.B. This might not be as trivial as just a couple of lines given the plan conditions! So, it's okay to spend some time on it.]"
   ]
  },
  {
   "cell_type": "code",
   "execution_count": 49,
   "metadata": {},
   "outputs": [
    {
     "name": "stdout",
     "output_type": "stream",
     "text": [
      "   user_id    month      plan  total_revenue\n",
      "0     1006  2018-11  ultimate      70.000000\n",
      "1     1006  2018-12  ultimate      79.562246\n",
      "2     1012  2018-11      surf      20.000000\n",
      "3     1012  2018-12      surf      20.000000\n",
      "4     1022  2018-05      surf      20.000000\n"
     ]
    }
   ],
   "source": [
    "# Calculate the monthly revenue for each user\n",
    "\n",
    "# Merge the aggregated data with the plan details\n",
    "user_revenue_data = user_monthly_usage_with_plan.merge(\n",
    "    plans_df[['plan_name', 'usd_monthly_pay', 'usd_per_message', 'usd_per_minute', 'usd_per_gb', 'messages_included', 'minutes_included', 'mb_per_month_included']],\n",
    "    left_on='plan', right_on='plan_name', how='left'\n",
    ")\n",
    "\n",
    "# Calculate the excess usage for calls, messages, and data\n",
    "user_revenue_data['excess_calls'] = np.maximum(0, user_revenue_data['num_calls'] - user_revenue_data['messages_included'])\n",
    "user_revenue_data['excess_messages'] = np.maximum(0, user_revenue_data['num_messages'] - user_revenue_data['messages_included'])\n",
    "user_revenue_data['excess_data'] = np.maximum(0, user_revenue_data['total_mb_used'] - user_revenue_data['mb_per_month_included'])\n",
    "\n",
    "# Calculate the revenue for calls, messages, and data\n",
    "user_revenue_data['call_revenue'] = user_revenue_data['excess_calls'] * user_revenue_data['usd_per_minute']\n",
    "user_revenue_data['message_revenue'] = user_revenue_data['excess_messages'] * user_revenue_data['usd_per_message']\n",
    "user_revenue_data['data_revenue'] = user_revenue_data['excess_data'] * user_revenue_data['usd_per_gb'] / 1024  # Convert MB to GB for the rate\n",
    "\n",
    "# Calculate the total revenue including the fixed monthly fee\n",
    "user_revenue_data['total_revenue'] = user_revenue_data['usd_monthly_pay'] + user_revenue_data['call_revenue'] + user_revenue_data['message_revenue'] + user_revenue_data['data_revenue']\n",
    "\n",
    "# Display the result\n",
    "print(user_revenue_data[['user_id', 'month', 'plan', 'total_revenue']].head())\n",
    "\n",
    "\n"
   ]
  },
  {
   "cell_type": "markdown",
   "metadata": {},
   "source": [
    "<div class=\"alert alert-block alert-success\">✔️\n",
    "    \n",
    "\n",
    "__Reviewer's comment №1__\n",
    "\n",
    "Great code"
   ]
  },
  {
   "cell_type": "markdown",
   "metadata": {},
   "source": [
    "## Study user behaviour"
   ]
  },
  {
   "cell_type": "markdown",
   "metadata": {},
   "source": [
    "[Calculate some useful descriptive statistics for the aggregated and merged data, which typically reveal an overall picture captured by the data. Draw useful plots to help the understanding. Given that the main task is to compare the plans and decide on which one is more profitable, the statistics and the plots should be calculated on a per-plan basis.]\n",
    "\n",
    "[There are relevant hints in the comments for Calls but they are not provided for Messages and Internet though the principle of statistical study is the same for them as for Calls.]"
   ]
  },
  {
   "cell_type": "markdown",
   "metadata": {},
   "source": [
    "### Calls"
   ]
  },
  {
   "cell_type": "code",
   "execution_count": 50,
   "metadata": {},
   "outputs": [
    {
     "data": {
      "image/png": "[encoded data removed]",
      "text/plain": [
       "<Figure size 1200x600 with 1 Axes>"
      ]
     },
     "metadata": {},
     "output_type": "display_data"
    }
   ],
   "source": [
    "# Compare average duration of calls per each plan per each distinct month. Plot a bar plat to visualize it.\n",
    "\n",
    "# Calculate average duration of calls per plan per month\n",
    "avg_call_duration_per_plan_month = user_revenue_data.groupby(['plan', 'month'])['total_minutes'].mean().reset_index()\n",
    "\n",
    "# Rename columns for clarity\n",
    "avg_call_duration_per_plan_month.rename(columns={'total_minutes': 'avg_call_duration'}, inplace=True)\n",
    "\n",
    "# Plot a bar plot to visualize the average call duration per plan per month\n",
    "plt.figure(figsize=(12, 6))\n",
    "sns.barplot(\n",
    "    data=avg_call_duration_per_plan_month,\n",
    "    x='month',\n",
    "    y='avg_call_duration',\n",
    "    hue='plan',\n",
    "    palette='viridis'\n",
    ")\n",
    "\n",
    "# Customize the plot\n",
    "plt.title('Average Call Duration per Plan per Month', fontsize=16)\n",
    "plt.xlabel('Month', fontsize=12)\n",
    "plt.ylabel('Average Call Duration (minutes)', fontsize=12)\n",
    "plt.xticks(rotation=45)\n",
    "plt.legend(title='Plan', fontsize=10)\n",
    "plt.tight_layout()\n",
    "\n",
    "# Show the plot\n",
    "plt.show()\n",
    "\n"
   ]
  },
  {
   "cell_type": "code",
   "execution_count": 51,
   "metadata": {},
   "outputs": [
    {
     "data": {
      "image/png": "[encoded data removed]",
      "text/plain": [
       "<Figure size 1400x800 with 1 Axes>"
      ]
     },
     "metadata": {},
     "output_type": "display_data"
    }
   ],
   "source": [
    "# Compare the number of minutes users of each plan require each month. Plot a histogram.\n",
    "\n",
    "# Plot histograms for the number of minutes required by users of each plan\n",
    "plt.figure(figsize=(14, 8))\n",
    "\n",
    "# Histogram for the 'surf' plan\n",
    "plt.hist(\n",
    "    user_revenue_data[user_revenue_data['plan'] == 'surf']['total_minutes'],\n",
    "    bins=30,\n",
    "    alpha=0.7,\n",
    "    label='Surf',\n",
    "    color='blue'\n",
    ")\n",
    "\n",
    "# Histogram for the 'ultimate' plan\n",
    "plt.hist(\n",
    "    user_revenue_data[user_revenue_data['plan'] == 'ultimate']['total_minutes'],\n",
    "    bins=30,\n",
    "    alpha=0.7,\n",
    "    label='Ultimate',\n",
    "    color='orange'\n",
    ")\n",
    "\n",
    "# Customize the plot\n",
    "plt.title('Distribution of Minutes Required by Users Each Month by Plan', fontsize=16)\n",
    "plt.xlabel('Total Minutes', fontsize=12)\n",
    "plt.ylabel('Frequency', fontsize=12)\n",
    "plt.legend(title='Plan', fontsize=10)\n",
    "plt.grid(axis='y', linestyle='--', alpha=0.7)\n",
    "plt.tight_layout()\n",
    "\n",
    "# Show the plot\n",
    "plt.show()\n"
   ]
  },
  {
   "cell_type": "markdown",
   "metadata": {},
   "source": [
    "[Calculate the mean and the variable of the call duration to reason on whether users on the different plans have different behaviours for their calls.]"
   ]
  },
  {
   "cell_type": "code",
   "execution_count": 52,
   "metadata": {},
   "outputs": [
    {
     "name": "stdout",
     "output_type": "stream",
     "text": [
      "       plan  mean_minutes  variance_minutes\n",
      "0      surf    402.685714      42104.525275\n",
      "1  ultimate    419.384615      33955.064857\n"
     ]
    }
   ],
   "source": [
    "# Calculate the mean and the variance of the monthly call duration\n",
    "# Group the data by plan and calculate the mean and variance of total_minutes\n",
    "call_duration_stats = user_revenue_data.groupby('plan')['total_minutes'].agg(['mean', 'var']).reset_index()\n",
    "\n",
    "# Rename the columns for better clarity\n",
    "call_duration_stats.rename(columns={'mean': 'mean_minutes', 'var': 'variance_minutes'}, inplace=True)\n",
    "\n",
    "# Display the results\n",
    "print(call_duration_stats)\n",
    "\n"
   ]
  },
  {
   "cell_type": "code",
   "execution_count": 53,
   "metadata": {},
   "outputs": [
    {
     "data": {
      "image/png": "[encoded data removed]",
      "text/plain": [
       "<Figure size 1000x600 with 1 Axes>"
      ]
     },
     "metadata": {},
     "output_type": "display_data"
    }
   ],
   "source": [
    "# Plot a boxplot to visualize the distribution of the monthly call duration\n",
    "\n",
    "# Create a boxplot for the distribution of monthly call duration per plan\n",
    "plt.figure(figsize=(10, 6))\n",
    "sns.boxplot(data=user_revenue_data, x='plan', y='total_minutes', palette='Set2')\n",
    "\n",
    "# Add labels and title\n",
    "plt.title('Distribution of Monthly Call Duration by Plan', fontsize=14)\n",
    "plt.xlabel('Plan', fontsize=12)\n",
    "plt.ylabel('Total Minutes', fontsize=12)\n",
    "\n",
    "# Display the plot\n",
    "plt.show()"
   ]
  },
  {
   "cell_type": "markdown",
   "metadata": {},
   "source": [
    "Users on the Ultimate plan have a more consistent call duration with a narrower range of variability, suggesting more predictable behavior.\n",
    "\n",
    "Surf plan users show greater variability, with higher maximum call durations and a wider spread, indicating diverse calling behaviors."
   ]
  },
  {
   "cell_type": "markdown",
   "metadata": {},
   "source": [
    "<div class=\"alert alert-block alert-success\">✔️\n",
    "    \n",
    "\n",
    "__Reviewer's comment №1__\n",
    "\n",
    "All right"
   ]
  },
  {
   "cell_type": "markdown",
   "metadata": {},
   "source": [
    " "
   ]
  },
  {
   "cell_type": "markdown",
   "metadata": {},
   "source": [
    "### Messages"
   ]
  },
  {
   "cell_type": "code",
   "execution_count": 54,
   "metadata": {},
   "outputs": [
    {
     "name": "stdout",
     "output_type": "stream",
     "text": [
      "               mean         var\n",
      "plan                           \n",
      "surf      38.948052  720.418319\n",
      "ultimate  33.285714  710.745645\n"
     ]
    },
    {
     "data": {
      "image/png": "[encoded data removed]",
      "text/plain": [
       "<Figure size 800x500 with 1 Axes>"
      ]
     },
     "metadata": {},
     "output_type": "display_data"
    }
   ],
   "source": [
    "# Compare the number of messages users of each plan tend to send each month\n",
    "\n",
    "user_monthly_usage = user_monthly_usage.merge(users_df[['user_id', 'plan']], on='user_id', how='left')\n",
    "\n",
    "\n",
    "# Calculate the mean and variance of messages per plan\n",
    "messages_stats = user_monthly_usage.groupby('plan')['num_messages'].agg(['mean', 'var'])\n",
    "print(messages_stats)\n",
    "\n",
    "# Plot a boxplot for the number of messages sent per plan\n",
    "plt.figure(figsize=(8, 5))\n",
    "sns.boxplot(x='plan', y='num_messages', data=user_monthly_usage, palette='viridis')\n",
    "plt.title('Distribution of Monthly Messages by Plan')\n",
    "plt.ylabel('Number of Messages')\n",
    "plt.xlabel('Plan')\n",
    "plt.show()\n"
   ]
  },
  {
   "cell_type": "code",
   "execution_count": 55,
   "metadata": {},
   "outputs": [
    {
     "name": "stdout",
     "output_type": "stream",
     "text": [
      "                  mean           var\n",
      "plan                                \n",
      "surf      16151.078654  5.665025e+07\n",
      "ultimate  15860.188654  3.908100e+07\n"
     ]
    },
    {
     "data": {
      "image/png": "[encoded data removed]",
      "text/plain": [
       "<Figure size 800x500 with 1 Axes>"
      ]
     },
     "metadata": {},
     "output_type": "display_data"
    }
   ],
   "source": [
    "# Compare the amount of internet traffic consumed by users per plan\n",
    "\n",
    "# Calculate the mean and variance of internet traffic (MB used) per plan\n",
    "internet_stats = user_monthly_usage.groupby('plan')['total_mb_used'].agg(['mean', 'var'])\n",
    "print(internet_stats)\n",
    "\n",
    "# Plot a boxplot for the amount of internet traffic consumed per plan\n",
    "plt.figure(figsize=(8, 5))\n",
    "sns.boxplot(x='plan', y='total_mb_used', data=user_monthly_usage, palette='viridis')\n",
    "plt.title('Distribution of Monthly Internet Usage by Plan')\n",
    "plt.ylabel('Total MB Used')\n",
    "plt.xlabel('Plan')\n",
    "plt.show()\n"
   ]
  },
  {
   "cell_type": "markdown",
   "metadata": {},
   "source": [
    "users on the ultimate plan tend to use a significantly higher amount of internet data each month compared to users on the surf plan. The ultimate plan shows a wider spread and more outliers, indicating greater variability in data usage. Conversely, the surf plan users exhibit more consistent, moderate data usage each month."
   ]
  },
  {
   "cell_type": "markdown",
   "metadata": {},
   "source": [
    " "
   ]
  },
  {
   "cell_type": "markdown",
   "metadata": {},
   "source": [
    "### Internet"
   ]
  },
  {
   "cell_type": "code",
   "execution_count": 56,
   "metadata": {},
   "outputs": [
    {
     "name": "stdout",
     "output_type": "stream",
     "text": [
      "                  mean           var\n",
      "plan                                \n",
      "surf      16151.078654  5.665025e+07\n",
      "ultimate  15860.188654  3.908100e+07\n"
     ]
    },
    {
     "data": {
      "image/png": "[encoded data removed]",
      "text/plain": [
       "<Figure size 800x600 with 1 Axes>"
      ]
     },
     "metadata": {},
     "output_type": "display_data"
    }
   ],
   "source": [
    "# Compare the amount of internet users of each plan tend to use each month\n",
    "# Calculate the mean and variance of internet usage per plan\n",
    "internet_stats = user_monthly_usage.groupby('plan')['total_mb_used'].agg(['mean', 'var'])\n",
    "print(internet_stats)\n",
    "\n",
    "# Plot a boxplot for the monthly internet usage per plan\n",
    "plt.figure(figsize=(8, 6))\n",
    "sns.boxplot(data=user_monthly_usage, x='plan', y='total_mb_used')\n",
    "plt.title('Distribution of Monthly Internet Usage by Plan')\n",
    "plt.xlabel('Plan')\n",
    "plt.ylabel('Total MB Used')\n",
    "plt.show()"
   ]
  },
  {
   "cell_type": "markdown",
   "metadata": {},
   "source": [
    "The users on both plans tend to consume similar amounts of internet traffic on average, with the Surf plan showing slightly higher mean usage. However, the variance in usage is higher for Surf plan users, indicating that their internet usage is more unpredictable compared to Ultimate plan users, who exhibit more consistent usage patterns."
   ]
  },
  {
   "cell_type": "markdown",
   "metadata": {},
   "source": [
    " "
   ]
  },
  {
   "cell_type": "markdown",
   "metadata": {},
   "source": [
    "## Revenue"
   ]
  },
  {
   "cell_type": "markdown",
   "metadata": {},
   "source": [
    "[Likewise you have studied the user behaviour, statistically describe the revenue between the plans.]"
   ]
  },
  {
   "cell_type": "code",
   "execution_count": 57,
   "metadata": {},
   "outputs": [
    {
     "name": "stdout",
     "output_type": "stream",
     "text": [
      "               mean          sum\n",
      "plan                            \n",
      "surf      54.278688  5699.262227\n",
      "ultimate  70.232952  3652.113486\n"
     ]
    },
    {
     "data": {
      "image/png": "[encoded data removed]",
      "text/plain": [
       "<Figure size 800x600 with 1 Axes>"
      ]
     },
     "metadata": {},
     "output_type": "display_data"
    }
   ],
   "source": [
    "#compare revenue of each plan\n",
    "import matplotlib.pyplot as plt\n",
    "import seaborn as sns\n",
    "\n",
    "# Group by 'plan' and calculate the mean and sum of total revenue for each plan\n",
    "revenue_comparison = user_revenue_data.groupby('plan')['total_revenue'].agg(['mean', 'sum'])\n",
    "\n",
    "# Display the revenue comparison\n",
    "print(revenue_comparison)\n",
    "\n",
    "# Visualize the revenue comparison using a bar plot\n",
    "plt.figure(figsize=(8, 6))\n",
    "sns.barplot(x=revenue_comparison.index, y=revenue_comparison['mean'])\n",
    "plt.title('Average Monthly Revenue per Plan')\n",
    "plt.xlabel('Plan')\n",
    "plt.ylabel('Average Revenue ($)')\n",
    "plt.show()\n",
    "\n"
   ]
  },
  {
   "cell_type": "markdown",
   "metadata": {},
   "source": [
    "According to this comparison,ultimate plan is generating highest revenue compared with the surf plan."
   ]
  },
  {
   "cell_type": "markdown",
   "metadata": {},
   "source": [
    " "
   ]
  },
  {
   "cell_type": "markdown",
   "metadata": {},
   "source": [
    "## Test statistical hypotheses"
   ]
  },
  {
   "cell_type": "markdown",
   "metadata": {},
   "source": [
    "[Test the hypothesis that the average revenue from users of the Ultimate and Surf calling plans differs.]"
   ]
  },
  {
   "cell_type": "markdown",
   "metadata": {},
   "source": [
    "[Formulate the null and the alternative hypotheses, choose the statistical test, decide on the alpha value.]"
   ]
  },
  {
   "cell_type": "code",
   "execution_count": 58,
   "metadata": {},
   "outputs": [
    {
     "name": "stdout",
     "output_type": "stream",
     "text": [
      "T-statistic: 2.540289298114406\n",
      "P-value: 0.012059750271360435\n",
      "Reject the null hypothesis: There is a significant difference in the average revenue between the two plans.\n"
     ]
    }
   ],
   "source": [
    "# Test the hypotheses\n",
    "\n",
    "import scipy.stats as stats\n",
    "\n",
    "# Filter the data for Ultimate and Surf plans\n",
    "ultimate_revenue = user_revenue_data[user_revenue_data['plan'] == 'ultimate']['total_revenue']\n",
    "surf_revenue = user_revenue_data[user_revenue_data['plan'] == 'surf']['total_revenue']\n",
    "\n",
    "# Perform the Independent t-test\n",
    "t_stat, p_value = stats.ttest_ind(ultimate_revenue, surf_revenue)\n",
    "\n",
    "# Print the results\n",
    "print(f\"T-statistic: {t_stat}\")\n",
    "print(f\"P-value: {p_value}\")\n",
    "\n",
    "# Decide on the hypothesis based on p-value\n",
    "alpha = 0.05\n",
    "if p_value < alpha:\n",
    "    print(\"Reject the null hypothesis: There is a significant difference in the average revenue between the two plans.\")\n",
    "else:\n",
    "    print(\"Fail to reject the null hypothesis: There is no significant difference in the average revenue between the two plans.\")\n",
    "\n",
    "\n"
   ]
  },
  {
   "cell_type": "markdown",
   "metadata": {},
   "source": [
    "[Test the hypothesis that the average revenue from users in the NY-NJ area is different from that of the users from the other regions.]"
   ]
  },
  {
   "cell_type": "markdown",
   "metadata": {},
   "source": [
    "[Formulate the null and the alternative hypotheses, choose the statistical test, decide on the alpha value.]"
   ]
  },
  {
   "cell_type": "code",
   "execution_count": 59,
   "metadata": {},
   "outputs": [
    {
     "name": "stdout",
     "output_type": "stream",
     "text": [
      "T-statistic: -1.5351489246220984\n",
      "P-value: 0.12678596883884927\n",
      "Fail to reject the null hypothesis: There is no significant difference in the average revenue between the NY-NJ and other regions.\n"
     ]
    }
   ],
   "source": [
    "# Test the hypotheses\n",
    "\n",
    "import scipy.stats as stats\n",
    "\n",
    "# Assuming 'city' contains the region information and we can derive 'NY-NJ' region from it\n",
    "# Create a new column 'region' based on 'city'\n",
    "user_revenue_data['region'] = user_revenue_data['user_id'].map(\n",
    "    users_df.set_index('user_id')['city'].apply(lambda x: 'NY-NJ' if 'NY-NJ' in x else 'Other')\n",
    ")\n",
    "\n",
    "# Now filter the data for users in the NY-NJ area and users from other regions\n",
    "ny_nj_revenue = user_revenue_data[user_revenue_data['region'] == 'NY-NJ']['total_revenue']\n",
    "other_region_revenue = user_revenue_data[user_revenue_data['region'] != 'NY-NJ']['total_revenue']\n",
    "\n",
    "# Perform the Independent t-test\n",
    "t_stat, p_value = stats.ttest_ind(ny_nj_revenue, other_region_revenue)\n",
    "\n",
    "# Print the results\n",
    "print(f\"T-statistic: {t_stat}\")\n",
    "print(f\"P-value: {p_value}\")\n",
    "\n",
    "# Decide on the significance level (alpha = 0.05)\n",
    "alpha = 0.05\n",
    "if p_value < alpha:\n",
    "    print(\"Reject the null hypothesis: There is a significant difference in the average revenue between the NY-NJ and other regions.\")\n",
    "else:\n",
    "    print(\"Fail to reject the null hypothesis: There is no significant difference in the average revenue between the NY-NJ and other regions.\")\n"
   ]
  },
  {
   "cell_type": "markdown",
   "metadata": {},
   "source": [
    "## General conclusion\n",
    "\n",
    "Based on the analyses conducted, we can conclude that users on the Ultimate plan tend to generate higher revenues compared to those on the Surf plan, with a significant difference in their average revenue. The comparison between regions showed no significant revenue difference between users in the NY-NJ area and other regions, indicating that regional factors do not notably affect user spending. Our exploration of call, message, and data usage revealed that the calling behavior is more varied among Ultimate plan users, while Surf plan users tend to have more predictable usage. This suggests that the Ultimate plan is more suitable for heavy users who exceed their plan limits, whereas the Surf plan works well for users with lower usage demands. Overall, the analysis suggests that plan selection depends significantly on user behavior patterns, with Ultimate offering more flexibility for high-demand users.\n"
   ]
  },
  {
   "cell_type": "markdown",
   "metadata": {},
   "source": [
    "<div class=\"alert alert-block alert-success\">✔️\n",
    "    \n",
    "\n",
    "__Reviewer's comment №1__\n",
    "\n",
    "You've done a great job. There are a few things that need to be fixed"
   ]
  },
  {
   "cell_type": "markdown",
   "metadata": {},
   "source": []
  },
  {
   "cell_type": "markdown",
   "metadata": {},
   "source": [
    "<div class=\"alert alert-block alert-success\">✔️\n",
    "    \n",
    "\n",
    "__Reviewer's comment №2__\n",
    "\n",
    "\n",
    "Otherwise it's great😊. Your project is begging for github =)   \n",
    "    \n",
    "Congratulations on the successful completion of the project 😊👍\n",
    "And I wish you success in new works 😊"
   ]
  },
  {
   "cell_type": "markdown",
   "metadata": {},
   "source": [
    " "
   ]
  }
 ],
 "metadata": {
  "ExecuteTimeLog": [
   {
    "duration": 828,
    "start_time": "2021-11-16T09:21:11.304Z"
   },
   {
    "duration": 893,
    "start_time": "2021-11-16T09:21:17.728Z"
   },
   {
    "duration": 1150,
    "start_time": "2021-11-16T09:21:29.568Z"
   },
   {
    "duration": 3,
    "start_time": "2021-11-16T09:24:14.495Z"
   },
   {
    "duration": 120,
    "start_time": "2021-11-16T09:24:46.630Z"
   },
   {
    "duration": 3,
    "start_time": "2021-11-16T09:28:27.882Z"
   },
   {
    "duration": 4,
    "start_time": "2021-11-16T09:29:54.281Z"
   },
   {
    "duration": 3,
    "start_time": "2021-11-16T09:30:45.936Z"
   },
   {
    "duration": 4,
    "start_time": "2021-11-16T09:31:06.300Z"
   },
   {
    "duration": 113,
    "start_time": "2021-11-16T09:31:37.208Z"
   },
   {
    "duration": 143,
    "start_time": "2021-11-16T09:31:48.656Z"
   },
   {
    "duration": 98,
    "start_time": "2021-11-16T09:31:55.678Z"
   },
   {
    "duration": 3,
    "start_time": "2021-11-16T09:32:08.535Z"
   },
   {
    "duration": 111,
    "start_time": "2021-11-16T09:32:10.120Z"
   },
   {
    "duration": 3,
    "start_time": "2021-11-16T09:32:15.732Z"
   },
   {
    "duration": 4,
    "start_time": "2021-11-16T09:32:29.423Z"
   },
   {
    "duration": 3,
    "start_time": "2021-11-16T10:03:03.074Z"
   },
   {
    "duration": 3,
    "start_time": "2021-11-16T10:10:01.288Z"
   },
   {
    "duration": 3,
    "start_time": "2021-11-16T10:10:46.923Z"
   },
   {
    "duration": 121,
    "start_time": "2021-11-16T10:37:46.494Z"
   },
   {
    "duration": 125,
    "start_time": "2021-11-16T10:38:20.632Z"
   },
   {
    "duration": 112,
    "start_time": "2021-11-16T10:46:53.001Z"
   },
   {
    "duration": 110,
    "start_time": "2021-11-16T10:48:25.775Z"
   },
   {
    "duration": 3,
    "start_time": "2021-11-16T10:50:18.720Z"
   },
   {
    "duration": 4,
    "start_time": "2021-11-16T10:50:37.649Z"
   },
   {
    "duration": 2,
    "start_time": "2021-11-16T10:50:51.884Z"
   },
   {
    "duration": 3,
    "start_time": "2021-11-16T10:51:56.237Z"
   },
   {
    "duration": 101,
    "start_time": "2021-11-16T10:53:13.791Z"
   },
   {
    "duration": 3,
    "start_time": "2021-11-16T10:55:59.186Z"
   },
   {
    "duration": 3,
    "start_time": "2021-11-16T10:56:10.751Z"
   },
   {
    "duration": 3,
    "start_time": "2021-11-16T10:56:49.038Z"
   },
   {
    "duration": 3,
    "start_time": "2021-11-16T10:56:49.174Z"
   },
   {
    "duration": 4,
    "start_time": "2021-11-16T10:56:49.414Z"
   },
   {
    "duration": 3,
    "start_time": "2021-11-16T10:56:49.680Z"
   },
   {
    "duration": 3,
    "start_time": "2021-11-16T10:56:50.370Z"
   },
   {
    "duration": 114,
    "start_time": "2021-11-16T10:59:34.518Z"
   },
   {
    "duration": 3,
    "start_time": "2021-11-16T11:01:41.201Z"
   },
   {
    "duration": 116,
    "start_time": "2021-11-16T11:01:48.754Z"
   },
   {
    "duration": 3,
    "start_time": "2021-11-16T11:02:16.685Z"
   },
   {
    "duration": 3,
    "start_time": "2021-11-16T11:02:19.479Z"
   },
   {
    "duration": 3,
    "start_time": "2021-11-16T11:02:47.067Z"
   },
   {
    "duration": 3,
    "start_time": "2021-11-16T11:02:49.353Z"
   },
   {
    "duration": 3,
    "start_time": "2021-11-16T11:03:07.835Z"
   },
   {
    "duration": 3,
    "start_time": "2021-11-16T11:03:07.953Z"
   },
   {
    "duration": 112,
    "start_time": "2021-11-16T11:07:52.072Z"
   },
   {
    "duration": 187,
    "start_time": "2021-11-16T11:09:23.468Z"
   },
   {
    "duration": 4,
    "start_time": "2021-11-16T11:10:01.455Z"
   },
   {
    "duration": 3,
    "start_time": "2021-11-16T11:10:05.069Z"
   },
   {
    "duration": 4,
    "start_time": "2021-11-16T11:10:13.376Z"
   },
   {
    "duration": 3,
    "start_time": "2021-11-16T11:10:14.434Z"
   },
   {
    "duration": 3,
    "start_time": "2021-11-16T11:10:22.853Z"
   },
   {
    "duration": 4,
    "start_time": "2021-11-16T11:27:29.279Z"
   },
   {
    "duration": 4,
    "start_time": "2021-11-16T11:29:08.919Z"
   },
   {
    "duration": 118,
    "start_time": "2021-11-16T11:29:46.703Z"
   },
   {
    "duration": 437,
    "start_time": "2021-11-16T11:36:02.181Z"
   },
   {
    "duration": 157,
    "start_time": "2021-11-16T11:36:14.388Z"
   },
   {
    "duration": 207,
    "start_time": "2021-11-16T11:47:15.898Z"
   },
   {
    "duration": 3,
    "start_time": "2021-11-16T11:53:52.092Z"
   },
   {
    "duration": 3,
    "start_time": "2021-11-16T11:53:52.236Z"
   },
   {
    "duration": 3,
    "start_time": "2021-11-16T11:59:12.005Z"
   },
   {
    "duration": 112,
    "start_time": "2021-11-16T12:00:33.446Z"
   },
   {
    "duration": 3,
    "start_time": "2021-11-16T12:02:14.453Z"
   },
   {
    "duration": 3,
    "start_time": "2021-11-16T12:02:39.512Z"
   },
   {
    "duration": 106,
    "start_time": "2021-11-16T12:03:03.460Z"
   },
   {
    "duration": 3,
    "start_time": "2021-11-17T20:37:21.139Z"
   },
   {
    "duration": 3,
    "start_time": "2021-11-17T20:37:22.229Z"
   },
   {
    "duration": 3,
    "start_time": "2021-11-17T20:38:38.806Z"
   },
   {
    "duration": 3,
    "start_time": "2021-11-17T20:38:41.958Z"
   },
   {
    "duration": 3,
    "start_time": "2021-11-17T20:43:46.551Z"
   },
   {
    "duration": 4,
    "start_time": "2021-11-17T20:58:21.835Z"
   },
   {
    "duration": 3,
    "start_time": "2021-11-17T20:59:21.872Z"
   },
   {
    "duration": 4,
    "start_time": "2021-11-17T20:59:45.352Z"
   },
   {
    "duration": 4,
    "start_time": "2021-11-17T20:59:49.646Z"
   },
   {
    "duration": 159,
    "start_time": "2021-11-17T21:02:26.949Z"
   },
   {
    "duration": 3,
    "start_time": "2021-11-17T21:03:53.461Z"
   },
   {
    "duration": 3,
    "start_time": "2021-11-17T21:03:53.694Z"
   },
   {
    "duration": 3,
    "start_time": "2021-11-17T21:05:28.145Z"
   },
   {
    "duration": 116,
    "start_time": "2021-11-17T21:05:57.787Z"
   },
   {
    "duration": 3,
    "start_time": "2021-11-17T21:06:37.993Z"
   },
   {
    "duration": 3,
    "start_time": "2021-11-17T21:06:38.261Z"
   },
   {
    "duration": 3,
    "start_time": "2021-11-17T21:11:54.358Z"
   },
   {
    "duration": 3,
    "start_time": "2021-11-17T21:12:43.846Z"
   },
   {
    "duration": 4,
    "start_time": "2021-11-17T21:13:08.773Z"
   },
   {
    "duration": 3,
    "start_time": "2021-11-17T21:14:44.441Z"
   },
   {
    "duration": 3,
    "start_time": "2021-11-17T21:15:42.059Z"
   },
   {
    "duration": 4,
    "start_time": "2021-11-17T21:15:51.995Z"
   },
   {
    "duration": 3,
    "start_time": "2021-11-17T21:15:53.923Z"
   },
   {
    "duration": 3,
    "start_time": "2021-11-17T21:15:55.282Z"
   },
   {
    "duration": 3,
    "start_time": "2021-11-17T21:16:28.492Z"
   },
   {
    "duration": 3,
    "start_time": "2021-11-17T21:16:32.603Z"
   },
   {
    "duration": 3,
    "start_time": "2021-11-17T21:17:06.941Z"
   },
   {
    "duration": 98,
    "start_time": "2021-11-17T21:18:05.733Z"
   },
   {
    "duration": 4,
    "start_time": "2021-11-17T21:21:35.255Z"
   },
   {
    "duration": 3,
    "start_time": "2021-11-17T21:21:37.804Z"
   },
   {
    "duration": 4,
    "start_time": "2021-11-17T21:23:06.071Z"
   },
   {
    "duration": 3,
    "start_time": "2021-11-17T21:23:24.799Z"
   },
   {
    "duration": 3,
    "start_time": "2021-11-17T21:23:32.591Z"
   },
   {
    "duration": 98,
    "start_time": "2021-11-17T21:28:31.559Z"
   },
   {
    "duration": 3,
    "start_time": "2021-11-17T21:28:45.448Z"
   },
   {
    "duration": 3,
    "start_time": "2021-11-17T21:29:17.303Z"
   },
   {
    "duration": 3,
    "start_time": "2021-11-17T21:29:29.617Z"
   },
   {
    "duration": 3,
    "start_time": "2021-11-17T21:29:32.681Z"
   },
   {
    "duration": 3,
    "start_time": "2021-11-17T21:36:11.474Z"
   },
   {
    "duration": 3,
    "start_time": "2021-11-17T21:36:14.791Z"
   },
   {
    "duration": 3,
    "start_time": "2021-11-17T21:36:53.943Z"
   },
   {
    "duration": 3,
    "start_time": "2021-11-17T21:36:56.165Z"
   },
   {
    "duration": 4,
    "start_time": "2021-11-17T21:37:16.590Z"
   },
   {
    "duration": 3,
    "start_time": "2021-11-17T21:37:22.702Z"
   },
   {
    "duration": 4,
    "start_time": "2021-11-17T21:38:03.479Z"
   },
   {
    "duration": 3,
    "start_time": "2021-11-17T21:38:08.601Z"
   },
   {
    "duration": 3,
    "start_time": "2021-11-17T21:38:12.928Z"
   },
   {
    "duration": 3,
    "start_time": "2021-11-17T21:38:48.896Z"
   },
   {
    "duration": 2,
    "start_time": "2021-11-17T21:38:49.171Z"
   },
   {
    "duration": 4,
    "start_time": "2021-11-17T21:39:57.889Z"
   },
   {
    "duration": 3,
    "start_time": "2021-11-17T21:39:58.057Z"
   },
   {
    "duration": 3,
    "start_time": "2021-11-17T21:41:20.108Z"
   },
   {
    "duration": 3,
    "start_time": "2021-11-17T21:41:20.629Z"
   },
   {
    "duration": 3,
    "start_time": "2021-11-17T21:42:49.136Z"
   },
   {
    "duration": 3,
    "start_time": "2021-11-17T21:43:15.137Z"
   },
   {
    "duration": 4,
    "start_time": "2021-11-17T21:43:16.766Z"
   },
   {
    "duration": 4,
    "start_time": "2021-11-17T21:43:31.711Z"
   },
   {
    "duration": 3,
    "start_time": "2021-11-17T21:43:36.312Z"
   },
   {
    "duration": 4,
    "start_time": "2021-11-17T21:45:08.825Z"
   },
   {
    "duration": 4,
    "start_time": "2021-11-17T21:45:10.119Z"
   },
   {
    "duration": 4,
    "start_time": "2021-11-17T21:45:13.748Z"
   },
   {
    "duration": 3,
    "start_time": "2021-11-17T21:45:22.219Z"
   },
   {
    "duration": 3,
    "start_time": "2021-11-17T21:45:33.412Z"
   },
   {
    "duration": 2,
    "start_time": "2021-11-17T21:46:01.885Z"
   },
   {
    "duration": 3,
    "start_time": "2021-11-17T21:46:03.628Z"
   },
   {
    "duration": 107,
    "start_time": "2021-11-17T21:47:32.512Z"
   },
   {
    "duration": 103,
    "start_time": "2021-11-17T21:50:36.243Z"
   },
   {
    "duration": 3,
    "start_time": "2021-11-18T06:28:31.440Z"
   },
   {
    "duration": 3,
    "start_time": "2021-11-18T06:29:00.168Z"
   },
   {
    "duration": 3,
    "start_time": "2021-11-18T06:31:27.008Z"
   },
   {
    "duration": 2,
    "start_time": "2021-11-18T06:35:34.288Z"
   },
   {
    "duration": 2,
    "start_time": "2021-11-18T06:38:04.527Z"
   },
   {
    "duration": 2882,
    "start_time": "2024-11-18T00:45:17.493Z"
   },
   {
    "duration": 2,
    "start_time": "2024-11-18T00:47:48.392Z"
   },
   {
    "duration": 215,
    "start_time": "2024-11-18T00:47:53.232Z"
   },
   {
    "duration": 12,
    "start_time": "2024-11-18T00:50:01.429Z"
   },
   {
    "duration": 7,
    "start_time": "2024-11-18T00:50:11.749Z"
   },
   {
    "duration": 21,
    "start_time": "2024-11-18T00:50:16.834Z"
   },
   {
    "duration": 20,
    "start_time": "2024-11-18T00:59:40.981Z"
   },
   {
    "duration": 6,
    "start_time": "2024-11-18T01:04:32.910Z"
   },
   {
    "duration": 6,
    "start_time": "2024-11-18T01:05:42.958Z"
   },
   {
    "duration": 10,
    "start_time": "2024-11-18T01:12:40.166Z"
   },
   {
    "duration": 2626,
    "start_time": "2024-11-20T20:30:09.238Z"
   },
   {
    "duration": 208,
    "start_time": "2024-11-20T20:30:11.866Z"
   },
   {
    "duration": 10,
    "start_time": "2024-11-20T20:30:12.076Z"
   },
   {
    "duration": 21,
    "start_time": "2024-11-20T20:30:12.089Z"
   },
   {
    "duration": 4,
    "start_time": "2024-11-20T20:30:12.112Z"
   },
   {
    "duration": 6,
    "start_time": "2024-11-20T20:30:12.118Z"
   },
   {
    "duration": 4,
    "start_time": "2024-11-20T20:30:12.126Z"
   },
   {
    "duration": 2,
    "start_time": "2024-11-20T20:30:12.132Z"
   },
   {
    "duration": 2,
    "start_time": "2024-11-20T20:30:12.136Z"
   },
   {
    "duration": 2,
    "start_time": "2024-11-20T20:30:12.141Z"
   },
   {
    "duration": 3,
    "start_time": "2024-11-20T20:30:12.145Z"
   },
   {
    "duration": 2,
    "start_time": "2024-11-20T20:30:12.150Z"
   },
   {
    "duration": 2,
    "start_time": "2024-11-20T20:30:12.154Z"
   },
   {
    "duration": 3,
    "start_time": "2024-11-20T20:30:12.158Z"
   },
   {
    "duration": 2,
    "start_time": "2024-11-20T20:30:12.163Z"
   },
   {
    "duration": 3,
    "start_time": "2024-11-20T20:30:12.212Z"
   },
   {
    "duration": 3,
    "start_time": "2024-11-20T20:30:12.216Z"
   },
   {
    "duration": 2,
    "start_time": "2024-11-20T20:30:12.222Z"
   },
   {
    "duration": 2,
    "start_time": "2024-11-20T20:30:12.226Z"
   },
   {
    "duration": 3,
    "start_time": "2024-11-20T20:30:12.230Z"
   },
   {
    "duration": 3,
    "start_time": "2024-11-20T20:30:12.234Z"
   },
   {
    "duration": 3,
    "start_time": "2024-11-20T20:30:12.238Z"
   },
   {
    "duration": 3,
    "start_time": "2024-11-20T20:30:12.242Z"
   },
   {
    "duration": 3,
    "start_time": "2024-11-20T20:30:12.247Z"
   },
   {
    "duration": 2,
    "start_time": "2024-11-20T20:30:12.252Z"
   },
   {
    "duration": 3,
    "start_time": "2024-11-20T20:30:12.256Z"
   },
   {
    "duration": 3,
    "start_time": "2024-11-20T20:30:12.260Z"
   },
   {
    "duration": 2,
    "start_time": "2024-11-20T20:30:12.311Z"
   },
   {
    "duration": 3,
    "start_time": "2024-11-20T20:30:12.315Z"
   },
   {
    "duration": 2,
    "start_time": "2024-11-20T20:30:12.320Z"
   },
   {
    "duration": 3,
    "start_time": "2024-11-20T20:30:12.324Z"
   },
   {
    "duration": 9,
    "start_time": "2024-11-20T20:31:21.114Z"
   },
   {
    "duration": 10,
    "start_time": "2024-11-20T20:31:48.319Z"
   },
   {
    "duration": 5,
    "start_time": "2024-11-20T20:37:53.583Z"
   },
   {
    "duration": 4,
    "start_time": "2024-11-20T20:39:12.356Z"
   },
   {
    "duration": 3,
    "start_time": "2024-11-20T20:39:47.691Z"
   },
   {
    "duration": 3,
    "start_time": "2024-11-20T20:39:52.393Z"
   },
   {
    "duration": 7,
    "start_time": "2024-11-20T20:40:09.283Z"
   },
   {
    "duration": 4,
    "start_time": "2024-11-20T20:42:58.426Z"
   },
   {
    "duration": 212,
    "start_time": "2024-11-20T20:43:35.330Z"
   },
   {
    "duration": 4,
    "start_time": "2024-11-20T20:43:59.791Z"
   },
   {
    "duration": 15,
    "start_time": "2024-11-20T20:44:37.687Z"
   },
   {
    "duration": 7,
    "start_time": "2024-11-20T20:46:30.158Z"
   },
   {
    "duration": 15,
    "start_time": "2024-11-20T20:47:35.123Z"
   },
   {
    "duration": 23,
    "start_time": "2024-11-20T20:49:02.919Z"
   },
   {
    "duration": 312,
    "start_time": "2024-11-20T20:49:13.801Z"
   },
   {
    "duration": 25,
    "start_time": "2024-11-20T20:49:23.733Z"
   },
   {
    "duration": 25,
    "start_time": "2024-11-20T20:50:26.279Z"
   },
   {
    "duration": 5,
    "start_time": "2024-11-20T20:50:32.979Z"
   },
   {
    "duration": 17,
    "start_time": "2024-11-20T22:33:32.570Z"
   },
   {
    "duration": 4,
    "start_time": "2024-11-20T22:33:58.241Z"
   },
   {
    "duration": 8,
    "start_time": "2024-11-20T22:35:04.721Z"
   },
   {
    "duration": 26,
    "start_time": "2024-11-20T22:36:29.820Z"
   },
   {
    "duration": 19,
    "start_time": "2024-11-20T22:37:24.130Z"
   },
   {
    "duration": 8,
    "start_time": "2024-11-20T22:37:48.479Z"
   },
   {
    "duration": 4,
    "start_time": "2024-11-20T22:38:01.191Z"
   },
   {
    "duration": 10,
    "start_time": "2024-11-20T22:46:06.939Z"
   },
   {
    "duration": 17,
    "start_time": "2024-11-20T22:50:21.223Z"
   },
   {
    "duration": 6,
    "start_time": "2024-11-20T22:50:43.895Z"
   },
   {
    "duration": 14,
    "start_time": "2024-11-20T22:51:51.365Z"
   },
   {
    "duration": 12,
    "start_time": "2024-11-20T22:52:14.124Z"
   },
   {
    "duration": 15,
    "start_time": "2024-11-20T22:52:24.247Z"
   },
   {
    "duration": 7,
    "start_time": "2024-11-20T22:53:11.007Z"
   },
   {
    "duration": 2867,
    "start_time": "2024-11-21T02:28:21.407Z"
   },
   {
    "duration": 251,
    "start_time": "2024-11-21T02:28:24.276Z"
   },
   {
    "duration": 12,
    "start_time": "2024-11-21T02:28:24.528Z"
   },
   {
    "duration": 21,
    "start_time": "2024-11-21T02:28:24.543Z"
   },
   {
    "duration": 5,
    "start_time": "2024-11-21T02:28:24.566Z"
   },
   {
    "duration": 14,
    "start_time": "2024-11-21T02:28:24.572Z"
   },
   {
    "duration": 7,
    "start_time": "2024-11-21T02:28:24.588Z"
   },
   {
    "duration": 5,
    "start_time": "2024-11-21T02:28:24.597Z"
   },
   {
    "duration": 11,
    "start_time": "2024-11-21T02:28:24.604Z"
   },
   {
    "duration": 13,
    "start_time": "2024-11-21T02:28:24.619Z"
   },
   {
    "duration": 4,
    "start_time": "2024-11-21T02:28:24.634Z"
   },
   {
    "duration": 9,
    "start_time": "2024-11-21T02:28:24.640Z"
   },
   {
    "duration": 39,
    "start_time": "2024-11-21T02:28:24.651Z"
   },
   {
    "duration": 8,
    "start_time": "2024-11-21T02:28:24.692Z"
   },
   {
    "duration": 6,
    "start_time": "2024-11-21T02:28:24.701Z"
   },
   {
    "duration": 17,
    "start_time": "2024-11-21T02:28:24.708Z"
   },
   {
    "duration": 11,
    "start_time": "2024-11-21T02:28:24.727Z"
   },
   {
    "duration": 17,
    "start_time": "2024-11-21T02:28:24.740Z"
   },
   {
    "duration": 30,
    "start_time": "2024-11-21T02:28:24.759Z"
   },
   {
    "duration": 10,
    "start_time": "2024-11-21T02:28:24.791Z"
   },
   {
    "duration": 29,
    "start_time": "2024-11-21T02:28:24.802Z"
   },
   {
    "duration": 12,
    "start_time": "2024-11-21T02:28:24.833Z"
   },
   {
    "duration": 8,
    "start_time": "2024-11-21T02:28:24.847Z"
   },
   {
    "duration": 34,
    "start_time": "2024-11-21T02:28:24.857Z"
   },
   {
    "duration": 11,
    "start_time": "2024-11-21T02:28:24.893Z"
   },
   {
    "duration": 20,
    "start_time": "2024-11-21T02:28:24.907Z"
   },
   {
    "duration": 8,
    "start_time": "2024-11-21T02:28:24.931Z"
   },
   {
    "duration": 13,
    "start_time": "2024-11-21T02:28:24.943Z"
   },
   {
    "duration": 43,
    "start_time": "2024-11-21T02:28:24.958Z"
   },
   {
    "duration": 8,
    "start_time": "2024-11-21T02:28:25.004Z"
   },
   {
    "duration": 4,
    "start_time": "2024-11-21T02:28:25.016Z"
   },
   {
    "duration": 6,
    "start_time": "2024-11-21T02:28:25.023Z"
   },
   {
    "duration": 3,
    "start_time": "2024-11-21T02:28:25.032Z"
   },
   {
    "duration": 3,
    "start_time": "2024-11-21T02:28:25.037Z"
   },
   {
    "duration": 2,
    "start_time": "2024-11-21T02:28:25.042Z"
   },
   {
    "duration": 2,
    "start_time": "2024-11-21T02:28:25.046Z"
   },
   {
    "duration": 2,
    "start_time": "2024-11-21T02:28:25.050Z"
   },
   {
    "duration": 2,
    "start_time": "2024-11-21T02:28:25.054Z"
   },
   {
    "duration": 2,
    "start_time": "2024-11-21T02:28:25.088Z"
   },
   {
    "duration": 3,
    "start_time": "2024-11-21T02:28:25.092Z"
   },
   {
    "duration": 3,
    "start_time": "2024-11-21T02:28:25.097Z"
   },
   {
    "duration": 2,
    "start_time": "2024-11-21T02:28:25.103Z"
   },
   {
    "duration": 3,
    "start_time": "2024-11-21T02:28:25.107Z"
   },
   {
    "duration": 3,
    "start_time": "2024-11-21T02:28:25.112Z"
   },
   {
    "duration": 2,
    "start_time": "2024-11-21T02:28:25.117Z"
   },
   {
    "duration": 2,
    "start_time": "2024-11-21T02:28:25.122Z"
   },
   {
    "duration": 13,
    "start_time": "2024-11-21T02:29:12.942Z"
   },
   {
    "duration": 40,
    "start_time": "2024-11-21T02:29:18.793Z"
   },
   {
    "duration": 26,
    "start_time": "2024-11-21T02:30:25.387Z"
   },
   {
    "duration": 31,
    "start_time": "2024-11-21T02:30:41.277Z"
   },
   {
    "duration": 24,
    "start_time": "2024-11-21T02:31:03.837Z"
   },
   {
    "duration": 27,
    "start_time": "2024-11-21T02:31:11.077Z"
   },
   {
    "duration": 25,
    "start_time": "2024-11-21T02:31:25.343Z"
   },
   {
    "duration": 34,
    "start_time": "2024-11-21T02:31:32.502Z"
   },
   {
    "duration": 173,
    "start_time": "2024-11-21T04:21:12.292Z"
   },
   {
    "duration": 2570,
    "start_time": "2024-11-21T04:21:21.131Z"
   },
   {
    "duration": 210,
    "start_time": "2024-11-21T04:21:23.703Z"
   },
   {
    "duration": 9,
    "start_time": "2024-11-21T04:21:23.915Z"
   },
   {
    "duration": 20,
    "start_time": "2024-11-21T04:21:23.926Z"
   },
   {
    "duration": 6,
    "start_time": "2024-11-21T04:21:23.948Z"
   },
   {
    "duration": 4,
    "start_time": "2024-11-21T04:21:23.955Z"
   },
   {
    "duration": 6,
    "start_time": "2024-11-21T04:21:23.960Z"
   },
   {
    "duration": 4,
    "start_time": "2024-11-21T04:21:23.967Z"
   },
   {
    "duration": 37,
    "start_time": "2024-11-21T04:21:23.973Z"
   },
   {
    "duration": 14,
    "start_time": "2024-11-21T04:21:24.014Z"
   },
   {
    "duration": 4,
    "start_time": "2024-11-21T04:21:24.029Z"
   },
   {
    "duration": 4,
    "start_time": "2024-11-21T04:21:24.035Z"
   },
   {
    "duration": 5,
    "start_time": "2024-11-21T04:21:24.040Z"
   },
   {
    "duration": 5,
    "start_time": "2024-11-21T04:21:24.046Z"
   },
   {
    "duration": 4,
    "start_time": "2024-11-21T04:21:24.052Z"
   },
   {
    "duration": 52,
    "start_time": "2024-11-21T04:21:24.058Z"
   },
   {
    "duration": 7,
    "start_time": "2024-11-21T04:21:24.112Z"
   },
   {
    "duration": 16,
    "start_time": "2024-11-21T04:21:24.121Z"
   },
   {
    "duration": 4,
    "start_time": "2024-11-21T04:21:24.139Z"
   },
   {
    "duration": 12,
    "start_time": "2024-11-21T04:21:24.144Z"
   },
   {
    "duration": 55,
    "start_time": "2024-11-21T04:21:24.158Z"
   },
   {
    "duration": 13,
    "start_time": "2024-11-21T04:21:24.215Z"
   },
   {
    "duration": 8,
    "start_time": "2024-11-21T04:21:24.229Z"
   },
   {
    "duration": 4,
    "start_time": "2024-11-21T04:21:24.238Z"
   },
   {
    "duration": 9,
    "start_time": "2024-11-21T04:21:24.244Z"
   },
   {
    "duration": 16,
    "start_time": "2024-11-21T04:21:24.255Z"
   },
   {
    "duration": 37,
    "start_time": "2024-11-21T04:21:24.272Z"
   },
   {
    "duration": 13,
    "start_time": "2024-11-21T04:21:24.313Z"
   },
   {
    "duration": 15,
    "start_time": "2024-11-21T04:21:24.327Z"
   },
   {
    "duration": 6,
    "start_time": "2024-11-21T04:21:24.343Z"
   },
   {
    "duration": 13,
    "start_time": "2024-11-21T04:21:24.351Z"
   },
   {
    "duration": 61,
    "start_time": "2024-11-21T04:21:24.365Z"
   },
   {
    "duration": 26,
    "start_time": "2024-11-21T04:21:24.427Z"
   },
   {
    "duration": 18,
    "start_time": "2024-11-21T04:21:24.454Z"
   },
   {
    "duration": 2,
    "start_time": "2024-11-21T04:21:24.474Z"
   },
   {
    "duration": 27,
    "start_time": "2024-11-21T04:21:24.478Z"
   },
   {
    "duration": 3,
    "start_time": "2024-11-21T04:21:24.506Z"
   },
   {
    "duration": 2,
    "start_time": "2024-11-21T04:21:24.511Z"
   },
   {
    "duration": 3,
    "start_time": "2024-11-21T04:21:24.515Z"
   },
   {
    "duration": 3,
    "start_time": "2024-11-21T04:21:24.519Z"
   },
   {
    "duration": 2,
    "start_time": "2024-11-21T04:21:24.524Z"
   },
   {
    "duration": 3,
    "start_time": "2024-11-21T04:21:24.527Z"
   },
   {
    "duration": 3,
    "start_time": "2024-11-21T04:21:24.531Z"
   },
   {
    "duration": 3,
    "start_time": "2024-11-21T04:21:24.535Z"
   },
   {
    "duration": 3,
    "start_time": "2024-11-21T04:21:24.539Z"
   },
   {
    "duration": 2,
    "start_time": "2024-11-21T04:21:24.543Z"
   },
   {
    "duration": 3,
    "start_time": "2024-11-21T04:21:24.547Z"
   },
   {
    "duration": 2,
    "start_time": "2024-11-21T04:21:24.551Z"
   },
   {
    "duration": 22,
    "start_time": "2024-11-21T04:21:57.750Z"
   },
   {
    "duration": 16,
    "start_time": "2024-11-21T04:26:12.143Z"
   },
   {
    "duration": 16,
    "start_time": "2024-11-21T04:28:33.960Z"
   },
   {
    "duration": 19,
    "start_time": "2024-11-21T04:30:49.611Z"
   },
   {
    "duration": 18,
    "start_time": "2024-11-21T04:30:53.377Z"
   },
   {
    "duration": 15,
    "start_time": "2024-11-21T04:30:54.564Z"
   },
   {
    "duration": 15,
    "start_time": "2024-11-21T04:31:31.508Z"
   },
   {
    "duration": 19,
    "start_time": "2024-11-21T04:32:02.917Z"
   },
   {
    "duration": 908,
    "start_time": "2024-11-21T04:35:01.655Z"
   },
   {
    "duration": 18,
    "start_time": "2024-11-21T04:38:01.193Z"
   },
   {
    "duration": 17,
    "start_time": "2024-11-21T04:39:40.074Z"
   },
   {
    "duration": 15,
    "start_time": "2024-11-21T04:41:28.283Z"
   },
   {
    "duration": 20,
    "start_time": "2024-11-21T04:42:44.571Z"
   },
   {
    "duration": 146,
    "start_time": "2024-11-21T04:43:17.824Z"
   },
   {
    "duration": 23,
    "start_time": "2024-11-21T04:43:39.413Z"
   },
   {
    "duration": 21,
    "start_time": "2024-11-21T04:44:33.143Z"
   },
   {
    "duration": 15,
    "start_time": "2024-11-21T04:54:43.486Z"
   },
   {
    "duration": 70,
    "start_time": "2024-11-21T04:55:28.474Z"
   },
   {
    "duration": 16,
    "start_time": "2024-11-21T04:56:40.409Z"
   },
   {
    "duration": 130,
    "start_time": "2024-11-21T04:56:52.426Z"
   },
   {
    "duration": 48,
    "start_time": "2024-11-21T04:57:52.254Z"
   },
   {
    "duration": 50,
    "start_time": "2024-11-21T04:57:55.122Z"
   },
   {
    "duration": 17,
    "start_time": "2024-11-21T04:58:39.851Z"
   },
   {
    "duration": 12,
    "start_time": "2024-11-21T05:05:19.215Z"
   },
   {
    "duration": 13,
    "start_time": "2024-11-21T05:08:08.490Z"
   },
   {
    "duration": 19,
    "start_time": "2024-11-21T05:11:02.387Z"
   },
   {
    "duration": 362,
    "start_time": "2024-11-21T05:11:06.436Z"
   },
   {
    "duration": 82,
    "start_time": "2024-11-21T05:11:42.977Z"
   },
   {
    "duration": 14,
    "start_time": "2024-11-21T05:12:10.881Z"
   },
   {
    "duration": 46,
    "start_time": "2024-11-21T05:14:41.928Z"
   },
   {
    "duration": 17,
    "start_time": "2024-11-21T05:15:07.261Z"
   },
   {
    "duration": 16,
    "start_time": "2024-11-21T05:15:21.207Z"
   },
   {
    "duration": 13,
    "start_time": "2024-11-21T05:15:52.393Z"
   },
   {
    "duration": 2,
    "start_time": "2024-11-21T05:55:09.610Z"
   },
   {
    "duration": 14,
    "start_time": "2024-11-21T05:55:49.882Z"
   },
   {
    "duration": 13,
    "start_time": "2024-11-21T05:55:59.477Z"
   },
   {
    "duration": 37,
    "start_time": "2024-11-21T05:56:15.205Z"
   },
   {
    "duration": 2,
    "start_time": "2024-11-21T05:58:15.982Z"
   },
   {
    "duration": 10,
    "start_time": "2024-11-21T06:02:17.795Z"
   },
   {
    "duration": 3,
    "start_time": "2024-11-21T06:03:02.867Z"
   },
   {
    "duration": 182,
    "start_time": "2024-11-21T06:03:02.872Z"
   },
   {
    "duration": 9,
    "start_time": "2024-11-21T06:03:03.055Z"
   },
   {
    "duration": 18,
    "start_time": "2024-11-21T06:03:03.065Z"
   },
   {
    "duration": 23,
    "start_time": "2024-11-21T06:03:03.086Z"
   },
   {
    "duration": 5,
    "start_time": "2024-11-21T06:03:03.111Z"
   },
   {
    "duration": 5,
    "start_time": "2024-11-21T06:03:03.118Z"
   },
   {
    "duration": 3,
    "start_time": "2024-11-21T06:03:03.125Z"
   },
   {
    "duration": 9,
    "start_time": "2024-11-21T06:03:03.131Z"
   },
   {
    "duration": 13,
    "start_time": "2024-11-21T06:03:03.141Z"
   },
   {
    "duration": 3,
    "start_time": "2024-11-21T06:03:03.157Z"
   },
   {
    "duration": 2,
    "start_time": "2024-11-21T06:03:03.162Z"
   },
   {
    "duration": 4,
    "start_time": "2024-11-21T06:03:03.206Z"
   },
   {
    "duration": 5,
    "start_time": "2024-11-21T06:03:03.212Z"
   },
   {
    "duration": 4,
    "start_time": "2024-11-21T06:03:03.219Z"
   },
   {
    "duration": 5,
    "start_time": "2024-11-21T06:03:03.224Z"
   },
   {
    "duration": 16,
    "start_time": "2024-11-21T06:03:03.230Z"
   },
   {
    "duration": 7,
    "start_time": "2024-11-21T06:03:03.247Z"
   },
   {
    "duration": 16,
    "start_time": "2024-11-21T06:03:03.256Z"
   },
   {
    "duration": 34,
    "start_time": "2024-11-21T06:03:03.273Z"
   },
   {
    "duration": 7,
    "start_time": "2024-11-21T06:03:03.309Z"
   },
   {
    "duration": 24,
    "start_time": "2024-11-21T06:03:03.318Z"
   },
   {
    "duration": 12,
    "start_time": "2024-11-21T06:03:03.344Z"
   },
   {
    "duration": 8,
    "start_time": "2024-11-21T06:03:03.357Z"
   },
   {
    "duration": 5,
    "start_time": "2024-11-21T06:03:03.367Z"
   },
   {
    "duration": 9,
    "start_time": "2024-11-21T06:03:03.405Z"
   },
   {
    "duration": 17,
    "start_time": "2024-11-21T06:03:03.416Z"
   },
   {
    "duration": 6,
    "start_time": "2024-11-21T06:03:03.434Z"
   },
   {
    "duration": 13,
    "start_time": "2024-11-21T06:03:03.444Z"
   },
   {
    "duration": 13,
    "start_time": "2024-11-21T06:03:03.458Z"
   },
   {
    "duration": 32,
    "start_time": "2024-11-21T06:03:03.473Z"
   },
   {
    "duration": 13,
    "start_time": "2024-11-21T06:03:03.507Z"
   },
   {
    "duration": 33,
    "start_time": "2024-11-21T06:03:03.522Z"
   },
   {
    "duration": 47,
    "start_time": "2024-11-21T06:03:03.558Z"
   },
   {
    "duration": 19,
    "start_time": "2024-11-21T06:03:03.607Z"
   },
   {
    "duration": 15,
    "start_time": "2024-11-21T06:03:03.628Z"
   },
   {
    "duration": 16,
    "start_time": "2024-11-21T06:03:03.644Z"
   },
   {
    "duration": 43,
    "start_time": "2024-11-21T06:03:03.662Z"
   },
   {
    "duration": 19,
    "start_time": "2024-11-21T06:03:03.707Z"
   },
   {
    "duration": 14,
    "start_time": "2024-11-21T06:03:03.727Z"
   },
   {
    "duration": 4,
    "start_time": "2024-11-21T06:03:03.743Z"
   },
   {
    "duration": 16,
    "start_time": "2024-11-21T06:03:03.749Z"
   },
   {
    "duration": 3,
    "start_time": "2024-11-21T06:03:03.766Z"
   },
   {
    "duration": 3,
    "start_time": "2024-11-21T06:03:03.770Z"
   },
   {
    "duration": 33,
    "start_time": "2024-11-21T06:03:03.774Z"
   },
   {
    "duration": 2,
    "start_time": "2024-11-21T06:03:03.809Z"
   },
   {
    "duration": 3,
    "start_time": "2024-11-21T06:03:03.813Z"
   },
   {
    "duration": 4,
    "start_time": "2024-11-21T06:03:03.818Z"
   },
   {
    "duration": 2,
    "start_time": "2024-11-21T06:03:03.825Z"
   },
   {
    "duration": 3,
    "start_time": "2024-11-21T06:03:03.829Z"
   },
   {
    "duration": 5,
    "start_time": "2024-11-21T06:11:49.281Z"
   },
   {
    "duration": 8,
    "start_time": "2024-11-21T06:12:13.228Z"
   },
   {
    "duration": 25,
    "start_time": "2024-11-21T06:12:33.937Z"
   },
   {
    "duration": 8,
    "start_time": "2024-11-21T06:14:08.776Z"
   },
   {
    "duration": 8,
    "start_time": "2024-11-21T06:15:31.203Z"
   },
   {
    "duration": 10,
    "start_time": "2024-11-21T06:16:34.132Z"
   },
   {
    "duration": 11,
    "start_time": "2024-11-21T06:28:56.953Z"
   },
   {
    "duration": 10,
    "start_time": "2024-11-21T06:40:21.166Z"
   },
   {
    "duration": 9,
    "start_time": "2024-11-21T06:41:46.521Z"
   },
   {
    "duration": 15,
    "start_time": "2024-11-21T06:47:07.913Z"
   },
   {
    "duration": 10,
    "start_time": "2024-11-21T06:47:52.605Z"
   },
   {
    "duration": 73,
    "start_time": "2024-11-21T06:49:26.023Z"
   },
   {
    "duration": 73,
    "start_time": "2024-11-21T06:50:27.108Z"
   },
   {
    "duration": 73,
    "start_time": "2024-11-21T06:50:45.409Z"
   },
   {
    "duration": 74,
    "start_time": "2024-11-21T06:52:07.961Z"
   },
   {
    "duration": 72,
    "start_time": "2024-11-21T06:52:25.200Z"
   },
   {
    "duration": 15,
    "start_time": "2024-11-21T06:52:42.030Z"
   },
   {
    "duration": 15,
    "start_time": "2024-11-21T06:53:35.918Z"
   },
   {
    "duration": 11,
    "start_time": "2024-11-21T06:58:25.073Z"
   },
   {
    "duration": 8,
    "start_time": "2024-11-21T07:01:55.759Z"
   },
   {
    "duration": 5,
    "start_time": "2024-11-21T07:02:37.669Z"
   },
   {
    "duration": 9,
    "start_time": "2024-11-21T07:03:08.476Z"
   },
   {
    "duration": 5,
    "start_time": "2024-11-21T07:03:19.024Z"
   },
   {
    "duration": 8,
    "start_time": "2024-11-21T07:03:56.845Z"
   },
   {
    "duration": 14,
    "start_time": "2024-11-21T07:05:25.915Z"
   },
   {
    "duration": 13,
    "start_time": "2024-11-21T07:07:01.330Z"
   },
   {
    "duration": 12,
    "start_time": "2024-11-21T07:07:30.173Z"
   },
   {
    "duration": 17,
    "start_time": "2024-11-21T07:08:27.735Z"
   },
   {
    "duration": 11,
    "start_time": "2024-11-21T07:08:43.576Z"
   },
   {
    "duration": 3,
    "start_time": "2024-11-21T07:09:14.196Z"
   },
   {
    "duration": 167,
    "start_time": "2024-11-21T07:09:14.203Z"
   },
   {
    "duration": 9,
    "start_time": "2024-11-21T07:09:14.372Z"
   },
   {
    "duration": 31,
    "start_time": "2024-11-21T07:09:14.382Z"
   },
   {
    "duration": 4,
    "start_time": "2024-11-21T07:09:14.416Z"
   },
   {
    "duration": 6,
    "start_time": "2024-11-21T07:09:14.422Z"
   },
   {
    "duration": 6,
    "start_time": "2024-11-21T07:09:14.429Z"
   },
   {
    "duration": 6,
    "start_time": "2024-11-21T07:09:14.437Z"
   },
   {
    "duration": 10,
    "start_time": "2024-11-21T07:09:14.445Z"
   },
   {
    "duration": 13,
    "start_time": "2024-11-21T07:09:14.457Z"
   },
   {
    "duration": 33,
    "start_time": "2024-11-21T07:09:14.474Z"
   },
   {
    "duration": 3,
    "start_time": "2024-11-21T07:09:14.508Z"
   },
   {
    "duration": 4,
    "start_time": "2024-11-21T07:09:14.513Z"
   },
   {
    "duration": 5,
    "start_time": "2024-11-21T07:09:14.518Z"
   },
   {
    "duration": 4,
    "start_time": "2024-11-21T07:09:14.525Z"
   },
   {
    "duration": 4,
    "start_time": "2024-11-21T07:09:14.531Z"
   },
   {
    "duration": 15,
    "start_time": "2024-11-21T07:09:14.536Z"
   },
   {
    "duration": 6,
    "start_time": "2024-11-21T07:09:14.553Z"
   },
   {
    "duration": 57,
    "start_time": "2024-11-21T07:09:14.561Z"
   },
   {
    "duration": 4,
    "start_time": "2024-11-21T07:09:14.620Z"
   },
   {
    "duration": 7,
    "start_time": "2024-11-21T07:09:14.626Z"
   },
   {
    "duration": 24,
    "start_time": "2024-11-21T07:09:14.636Z"
   },
   {
    "duration": 12,
    "start_time": "2024-11-21T07:09:14.662Z"
   },
   {
    "duration": 36,
    "start_time": "2024-11-21T07:09:14.677Z"
   },
   {
    "duration": 6,
    "start_time": "2024-11-21T07:09:14.715Z"
   },
   {
    "duration": 9,
    "start_time": "2024-11-21T07:09:14.723Z"
   },
   {
    "duration": 17,
    "start_time": "2024-11-21T07:09:14.733Z"
   },
   {
    "duration": 5,
    "start_time": "2024-11-21T07:09:14.752Z"
   },
   {
    "duration": 13,
    "start_time": "2024-11-21T07:09:14.762Z"
   },
   {
    "duration": 15,
    "start_time": "2024-11-21T07:09:14.806Z"
   },
   {
    "duration": 6,
    "start_time": "2024-11-21T07:09:14.823Z"
   },
   {
    "duration": 12,
    "start_time": "2024-11-21T07:09:14.831Z"
   },
   {
    "duration": 26,
    "start_time": "2024-11-21T07:09:14.845Z"
   },
   {
    "duration": 48,
    "start_time": "2024-11-21T07:09:14.873Z"
   },
   {
    "duration": 9,
    "start_time": "2024-11-21T07:09:14.923Z"
   },
   {
    "duration": 9,
    "start_time": "2024-11-21T07:09:14.933Z"
   },
   {
    "duration": 7,
    "start_time": "2024-11-21T07:09:14.943Z"
   },
   {
    "duration": 7,
    "start_time": "2024-11-21T07:09:14.952Z"
   },
   {
    "duration": 7,
    "start_time": "2024-11-21T07:09:14.961Z"
   },
   {
    "duration": 188,
    "start_time": "2024-11-21T07:09:14.970Z"
   },
   {
    "duration": 0,
    "start_time": "2024-11-21T07:09:15.160Z"
   },
   {
    "duration": 0,
    "start_time": "2024-11-21T07:09:15.161Z"
   },
   {
    "duration": 0,
    "start_time": "2024-11-21T07:09:15.162Z"
   },
   {
    "duration": 0,
    "start_time": "2024-11-21T07:09:15.164Z"
   },
   {
    "duration": 0,
    "start_time": "2024-11-21T07:09:15.165Z"
   },
   {
    "duration": 0,
    "start_time": "2024-11-21T07:09:15.166Z"
   },
   {
    "duration": 0,
    "start_time": "2024-11-21T07:09:15.168Z"
   },
   {
    "duration": 0,
    "start_time": "2024-11-21T07:09:15.169Z"
   },
   {
    "duration": 0,
    "start_time": "2024-11-21T07:09:15.171Z"
   },
   {
    "duration": 0,
    "start_time": "2024-11-21T07:09:15.173Z"
   },
   {
    "duration": 0,
    "start_time": "2024-11-21T07:09:15.174Z"
   },
   {
    "duration": 0,
    "start_time": "2024-11-21T07:09:15.176Z"
   },
   {
    "duration": 0,
    "start_time": "2024-11-21T07:09:15.206Z"
   },
   {
    "duration": 0,
    "start_time": "2024-11-21T07:09:15.207Z"
   },
   {
    "duration": 844,
    "start_time": "2024-11-21T07:10:03.444Z"
   },
   {
    "duration": 158,
    "start_time": "2024-11-21T07:10:04.291Z"
   },
   {
    "duration": 9,
    "start_time": "2024-11-21T07:10:04.451Z"
   },
   {
    "duration": 21,
    "start_time": "2024-11-21T07:10:04.462Z"
   },
   {
    "duration": 6,
    "start_time": "2024-11-21T07:10:04.484Z"
   },
   {
    "duration": 16,
    "start_time": "2024-11-21T07:10:04.492Z"
   },
   {
    "duration": 5,
    "start_time": "2024-11-21T07:10:04.510Z"
   },
   {
    "duration": 5,
    "start_time": "2024-11-21T07:10:04.517Z"
   },
   {
    "duration": 9,
    "start_time": "2024-11-21T07:10:04.523Z"
   },
   {
    "duration": 13,
    "start_time": "2024-11-21T07:10:04.536Z"
   },
   {
    "duration": 4,
    "start_time": "2024-11-21T07:10:04.551Z"
   },
   {
    "duration": 2,
    "start_time": "2024-11-21T07:10:04.557Z"
   },
   {
    "duration": 46,
    "start_time": "2024-11-21T07:10:04.562Z"
   },
   {
    "duration": 5,
    "start_time": "2024-11-21T07:10:04.609Z"
   },
   {
    "duration": 5,
    "start_time": "2024-11-21T07:10:04.616Z"
   },
   {
    "duration": 5,
    "start_time": "2024-11-21T07:10:04.623Z"
   },
   {
    "duration": 15,
    "start_time": "2024-11-21T07:10:04.629Z"
   },
   {
    "duration": 7,
    "start_time": "2024-11-21T07:10:04.646Z"
   },
   {
    "duration": 49,
    "start_time": "2024-11-21T07:10:04.656Z"
   },
   {
    "duration": 4,
    "start_time": "2024-11-21T07:10:04.708Z"
   },
   {
    "duration": 10,
    "start_time": "2024-11-21T07:10:04.714Z"
   },
   {
    "duration": 24,
    "start_time": "2024-11-21T07:10:04.725Z"
   },
   {
    "duration": 12,
    "start_time": "2024-11-21T07:10:04.751Z"
   },
   {
    "duration": 8,
    "start_time": "2024-11-21T07:10:04.764Z"
   },
   {
    "duration": 34,
    "start_time": "2024-11-21T07:10:04.774Z"
   },
   {
    "duration": 10,
    "start_time": "2024-11-21T07:10:04.810Z"
   },
   {
    "duration": 18,
    "start_time": "2024-11-21T07:10:04.821Z"
   },
   {
    "duration": 5,
    "start_time": "2024-11-21T07:10:04.843Z"
   },
   {
    "duration": 15,
    "start_time": "2024-11-21T07:10:04.850Z"
   },
   {
    "duration": 43,
    "start_time": "2024-11-21T07:10:04.867Z"
   },
   {
    "duration": 6,
    "start_time": "2024-11-21T07:10:04.912Z"
   },
   {
    "duration": 14,
    "start_time": "2024-11-21T07:10:04.920Z"
   },
   {
    "duration": 26,
    "start_time": "2024-11-21T07:10:04.935Z"
   },
   {
    "duration": 47,
    "start_time": "2024-11-21T07:10:04.963Z"
   },
   {
    "duration": 7,
    "start_time": "2024-11-21T07:10:05.012Z"
   },
   {
    "duration": 8,
    "start_time": "2024-11-21T07:10:05.021Z"
   },
   {
    "duration": 7,
    "start_time": "2024-11-21T07:10:05.030Z"
   },
   {
    "duration": 6,
    "start_time": "2024-11-21T07:10:05.039Z"
   },
   {
    "duration": 6,
    "start_time": "2024-11-21T07:10:05.047Z"
   },
   {
    "duration": 573,
    "start_time": "2024-11-21T07:10:05.056Z"
   },
   {
    "duration": 0,
    "start_time": "2024-11-21T07:10:05.631Z"
   },
   {
    "duration": 0,
    "start_time": "2024-11-21T07:10:05.631Z"
   },
   {
    "duration": 0,
    "start_time": "2024-11-21T07:10:05.632Z"
   },
   {
    "duration": 0,
    "start_time": "2024-11-21T07:10:05.633Z"
   },
   {
    "duration": 0,
    "start_time": "2024-11-21T07:10:05.634Z"
   },
   {
    "duration": 0,
    "start_time": "2024-11-21T07:10:05.636Z"
   },
   {
    "duration": 0,
    "start_time": "2024-11-21T07:10:05.636Z"
   },
   {
    "duration": 0,
    "start_time": "2024-11-21T07:10:05.638Z"
   },
   {
    "duration": 0,
    "start_time": "2024-11-21T07:10:05.639Z"
   },
   {
    "duration": 0,
    "start_time": "2024-11-21T07:10:05.640Z"
   },
   {
    "duration": 0,
    "start_time": "2024-11-21T07:10:05.641Z"
   },
   {
    "duration": 0,
    "start_time": "2024-11-21T07:10:05.642Z"
   },
   {
    "duration": 0,
    "start_time": "2024-11-21T07:10:05.643Z"
   },
   {
    "duration": 0,
    "start_time": "2024-11-21T07:10:05.644Z"
   },
   {
    "duration": 14,
    "start_time": "2024-11-21T07:15:54.986Z"
   },
   {
    "duration": 326,
    "start_time": "2024-11-21T07:16:16.221Z"
   },
   {
    "duration": 322,
    "start_time": "2024-11-21T07:16:47.811Z"
   },
   {
    "duration": 805,
    "start_time": "2024-11-21T07:17:07.292Z"
   },
   {
    "duration": 151,
    "start_time": "2024-11-21T07:17:08.099Z"
   },
   {
    "duration": 10,
    "start_time": "2024-11-21T07:17:08.252Z"
   },
   {
    "duration": 21,
    "start_time": "2024-11-21T07:17:08.263Z"
   },
   {
    "duration": 20,
    "start_time": "2024-11-21T07:17:08.286Z"
   },
   {
    "duration": 4,
    "start_time": "2024-11-21T07:17:08.307Z"
   },
   {
    "duration": 5,
    "start_time": "2024-11-21T07:17:08.313Z"
   },
   {
    "duration": 5,
    "start_time": "2024-11-21T07:17:08.319Z"
   },
   {
    "duration": 9,
    "start_time": "2024-11-21T07:17:08.325Z"
   },
   {
    "duration": 12,
    "start_time": "2024-11-21T07:17:08.335Z"
   },
   {
    "duration": 4,
    "start_time": "2024-11-21T07:17:08.349Z"
   },
   {
    "duration": 2,
    "start_time": "2024-11-21T07:17:08.355Z"
   },
   {
    "duration": 46,
    "start_time": "2024-11-21T07:17:08.359Z"
   },
   {
    "duration": 5,
    "start_time": "2024-11-21T07:17:08.410Z"
   },
   {
    "duration": 5,
    "start_time": "2024-11-21T07:17:08.416Z"
   },
   {
    "duration": 5,
    "start_time": "2024-11-21T07:17:08.422Z"
   },
   {
    "duration": 15,
    "start_time": "2024-11-21T07:17:08.428Z"
   },
   {
    "duration": 8,
    "start_time": "2024-11-21T07:17:08.444Z"
   },
   {
    "duration": 17,
    "start_time": "2024-11-21T07:17:08.453Z"
   },
   {
    "duration": 3,
    "start_time": "2024-11-21T07:17:08.506Z"
   },
   {
    "duration": 11,
    "start_time": "2024-11-21T07:17:08.512Z"
   },
   {
    "duration": 23,
    "start_time": "2024-11-21T07:17:08.524Z"
   },
   {
    "duration": 345,
    "start_time": "2024-11-21T07:17:08.549Z"
   },
   {
    "duration": 15,
    "start_time": "2024-11-21T07:17:08.897Z"
   },
   {
    "duration": 7,
    "start_time": "2024-11-21T07:17:08.914Z"
   },
   {
    "duration": 6,
    "start_time": "2024-11-21T07:17:08.922Z"
   },
   {
    "duration": 9,
    "start_time": "2024-11-21T07:17:08.930Z"
   },
   {
    "duration": 19,
    "start_time": "2024-11-21T07:17:08.940Z"
   },
   {
    "duration": 6,
    "start_time": "2024-11-21T07:17:08.960Z"
   },
   {
    "duration": 46,
    "start_time": "2024-11-21T07:17:08.967Z"
   },
   {
    "duration": 14,
    "start_time": "2024-11-21T07:17:09.015Z"
   },
   {
    "duration": 6,
    "start_time": "2024-11-21T07:17:09.031Z"
   },
   {
    "duration": 14,
    "start_time": "2024-11-21T07:17:09.039Z"
   },
   {
    "duration": 27,
    "start_time": "2024-11-21T07:17:09.054Z"
   },
   {
    "duration": 23,
    "start_time": "2024-11-21T07:17:09.106Z"
   },
   {
    "duration": 8,
    "start_time": "2024-11-21T07:17:09.130Z"
   },
   {
    "duration": 8,
    "start_time": "2024-11-21T07:17:09.140Z"
   },
   {
    "duration": 7,
    "start_time": "2024-11-21T07:17:09.149Z"
   },
   {
    "duration": 6,
    "start_time": "2024-11-21T07:17:09.158Z"
   },
   {
    "duration": 40,
    "start_time": "2024-11-21T07:17:09.166Z"
   },
   {
    "duration": 16,
    "start_time": "2024-11-21T07:17:09.211Z"
   },
   {
    "duration": 16,
    "start_time": "2024-11-21T07:17:09.229Z"
   },
   {
    "duration": 583,
    "start_time": "2024-11-21T07:17:09.247Z"
   },
   {
    "duration": 0,
    "start_time": "2024-11-21T07:17:09.833Z"
   },
   {
    "duration": 0,
    "start_time": "2024-11-21T07:17:09.834Z"
   },
   {
    "duration": 0,
    "start_time": "2024-11-21T07:17:09.836Z"
   },
   {
    "duration": 0,
    "start_time": "2024-11-21T07:17:09.837Z"
   },
   {
    "duration": 0,
    "start_time": "2024-11-21T07:17:09.839Z"
   },
   {
    "duration": 0,
    "start_time": "2024-11-21T07:17:09.840Z"
   },
   {
    "duration": 0,
    "start_time": "2024-11-21T07:17:09.842Z"
   },
   {
    "duration": 0,
    "start_time": "2024-11-21T07:17:09.843Z"
   },
   {
    "duration": 1,
    "start_time": "2024-11-21T07:17:09.844Z"
   },
   {
    "duration": 0,
    "start_time": "2024-11-21T07:17:09.846Z"
   },
   {
    "duration": 0,
    "start_time": "2024-11-21T07:17:09.847Z"
   },
   {
    "duration": 0,
    "start_time": "2024-11-21T07:17:09.849Z"
   },
   {
    "duration": 2,
    "start_time": "2024-11-21T07:19:02.222Z"
   },
   {
    "duration": 13,
    "start_time": "2024-11-21T07:20:56.915Z"
   },
   {
    "duration": 356,
    "start_time": "2024-11-21T07:21:05.578Z"
   },
   {
    "duration": 5,
    "start_time": "2024-11-21T07:26:53.744Z"
   },
   {
    "duration": 4,
    "start_time": "2024-11-21T07:27:14.839Z"
   },
   {
    "duration": 225,
    "start_time": "2024-11-21T07:27:23.354Z"
   },
   {
    "duration": 806,
    "start_time": "2024-11-21T07:27:35.387Z"
   },
   {
    "duration": 162,
    "start_time": "2024-11-21T07:27:36.195Z"
   },
   {
    "duration": 10,
    "start_time": "2024-11-21T07:27:36.358Z"
   },
   {
    "duration": 21,
    "start_time": "2024-11-21T07:27:36.370Z"
   },
   {
    "duration": 17,
    "start_time": "2024-11-21T07:27:36.392Z"
   },
   {
    "duration": 4,
    "start_time": "2024-11-21T07:27:36.410Z"
   },
   {
    "duration": 7,
    "start_time": "2024-11-21T07:27:36.416Z"
   },
   {
    "duration": 4,
    "start_time": "2024-11-21T07:27:36.425Z"
   },
   {
    "duration": 8,
    "start_time": "2024-11-21T07:27:36.430Z"
   },
   {
    "duration": 13,
    "start_time": "2024-11-21T07:27:36.443Z"
   },
   {
    "duration": 4,
    "start_time": "2024-11-21T07:27:36.458Z"
   },
   {
    "duration": 2,
    "start_time": "2024-11-21T07:27:36.505Z"
   },
   {
    "duration": 4,
    "start_time": "2024-11-21T07:27:36.509Z"
   },
   {
    "duration": 4,
    "start_time": "2024-11-21T07:27:36.515Z"
   },
   {
    "duration": 5,
    "start_time": "2024-11-21T07:27:36.521Z"
   },
   {
    "duration": 5,
    "start_time": "2024-11-21T07:27:36.527Z"
   },
   {
    "duration": 16,
    "start_time": "2024-11-21T07:27:36.533Z"
   },
   {
    "duration": 7,
    "start_time": "2024-11-21T07:27:36.550Z"
   },
   {
    "duration": 57,
    "start_time": "2024-11-21T07:27:36.559Z"
   },
   {
    "duration": 5,
    "start_time": "2024-11-21T07:27:36.617Z"
   },
   {
    "duration": 8,
    "start_time": "2024-11-21T07:27:36.624Z"
   },
   {
    "duration": 26,
    "start_time": "2024-11-21T07:27:36.634Z"
   },
   {
    "duration": 345,
    "start_time": "2024-11-21T07:27:36.662Z"
   },
   {
    "duration": 13,
    "start_time": "2024-11-21T07:27:37.008Z"
   },
   {
    "duration": 8,
    "start_time": "2024-11-21T07:27:37.023Z"
   },
   {
    "duration": 6,
    "start_time": "2024-11-21T07:27:37.032Z"
   },
   {
    "duration": 10,
    "start_time": "2024-11-21T07:27:37.039Z"
   },
   {
    "duration": 17,
    "start_time": "2024-11-21T07:27:37.053Z"
   },
   {
    "duration": 37,
    "start_time": "2024-11-21T07:27:37.072Z"
   },
   {
    "duration": 226,
    "start_time": "2024-11-21T07:27:37.111Z"
   },
   {
    "duration": 14,
    "start_time": "2024-11-21T07:27:37.338Z"
   },
   {
    "duration": 15,
    "start_time": "2024-11-21T07:27:37.353Z"
   },
   {
    "duration": 6,
    "start_time": "2024-11-21T07:27:37.371Z"
   },
   {
    "duration": 33,
    "start_time": "2024-11-21T07:27:37.379Z"
   },
   {
    "duration": 28,
    "start_time": "2024-11-21T07:27:37.413Z"
   },
   {
    "duration": 22,
    "start_time": "2024-11-21T07:27:37.442Z"
   },
   {
    "duration": 7,
    "start_time": "2024-11-21T07:27:37.466Z"
   },
   {
    "duration": 37,
    "start_time": "2024-11-21T07:27:37.474Z"
   },
   {
    "duration": 8,
    "start_time": "2024-11-21T07:27:37.512Z"
   },
   {
    "duration": 6,
    "start_time": "2024-11-21T07:27:37.521Z"
   },
   {
    "duration": 7,
    "start_time": "2024-11-21T07:27:37.529Z"
   },
   {
    "duration": 17,
    "start_time": "2024-11-21T07:27:37.537Z"
   },
   {
    "duration": 17,
    "start_time": "2024-11-21T07:27:37.555Z"
   },
   {
    "duration": 14,
    "start_time": "2024-11-21T07:27:37.604Z"
   },
   {
    "duration": 16,
    "start_time": "2024-11-21T07:27:37.620Z"
   },
   {
    "duration": 298,
    "start_time": "2024-11-21T07:27:37.638Z"
   },
   {
    "duration": 0,
    "start_time": "2024-11-21T07:27:37.938Z"
   },
   {
    "duration": 0,
    "start_time": "2024-11-21T07:27:37.939Z"
   },
   {
    "duration": 0,
    "start_time": "2024-11-21T07:27:37.940Z"
   },
   {
    "duration": 0,
    "start_time": "2024-11-21T07:27:37.941Z"
   },
   {
    "duration": 0,
    "start_time": "2024-11-21T07:27:37.942Z"
   },
   {
    "duration": 0,
    "start_time": "2024-11-21T07:27:37.942Z"
   },
   {
    "duration": 0,
    "start_time": "2024-11-21T07:27:37.943Z"
   },
   {
    "duration": 0,
    "start_time": "2024-11-21T07:27:37.944Z"
   },
   {
    "duration": 0,
    "start_time": "2024-11-21T07:27:37.946Z"
   },
   {
    "duration": 0,
    "start_time": "2024-11-21T07:27:37.947Z"
   },
   {
    "duration": 21,
    "start_time": "2024-11-21T07:29:32.430Z"
   },
   {
    "duration": 16,
    "start_time": "2024-11-21T07:30:06.012Z"
   },
   {
    "duration": 27,
    "start_time": "2024-11-21T07:30:26.370Z"
   },
   {
    "duration": 159,
    "start_time": "2024-11-21T07:35:25.634Z"
   },
   {
    "duration": 218,
    "start_time": "2024-11-21T07:36:53.081Z"
   },
   {
    "duration": 20,
    "start_time": "2024-11-21T07:37:12.480Z"
   },
   {
    "duration": 20,
    "start_time": "2024-11-21T07:38:45.633Z"
   },
   {
    "duration": 57,
    "start_time": "2024-11-21T07:41:48.068Z"
   },
   {
    "duration": 19,
    "start_time": "2024-11-21T07:43:03.326Z"
   },
   {
    "duration": 827,
    "start_time": "2024-11-21T07:43:19.264Z"
   },
   {
    "duration": 157,
    "start_time": "2024-11-21T07:43:20.094Z"
   },
   {
    "duration": 9,
    "start_time": "2024-11-21T07:43:20.253Z"
   },
   {
    "duration": 21,
    "start_time": "2024-11-21T07:43:20.264Z"
   },
   {
    "duration": 4,
    "start_time": "2024-11-21T07:43:20.287Z"
   },
   {
    "duration": 4,
    "start_time": "2024-11-21T07:43:20.305Z"
   },
   {
    "duration": 5,
    "start_time": "2024-11-21T07:43:20.311Z"
   },
   {
    "duration": 4,
    "start_time": "2024-11-21T07:43:20.318Z"
   },
   {
    "duration": 7,
    "start_time": "2024-11-21T07:43:20.324Z"
   },
   {
    "duration": 14,
    "start_time": "2024-11-21T07:43:20.333Z"
   },
   {
    "duration": 4,
    "start_time": "2024-11-21T07:43:20.348Z"
   },
   {
    "duration": 2,
    "start_time": "2024-11-21T07:43:20.354Z"
   },
   {
    "duration": 4,
    "start_time": "2024-11-21T07:43:20.357Z"
   },
   {
    "duration": 3,
    "start_time": "2024-11-21T07:43:20.409Z"
   },
   {
    "duration": 4,
    "start_time": "2024-11-21T07:43:20.414Z"
   },
   {
    "duration": 4,
    "start_time": "2024-11-21T07:43:20.420Z"
   },
   {
    "duration": 14,
    "start_time": "2024-11-21T07:43:20.426Z"
   },
   {
    "duration": 7,
    "start_time": "2024-11-21T07:43:20.442Z"
   },
   {
    "duration": 17,
    "start_time": "2024-11-21T07:43:20.450Z"
   },
   {
    "duration": 39,
    "start_time": "2024-11-21T07:43:20.468Z"
   },
   {
    "duration": 8,
    "start_time": "2024-11-21T07:43:20.508Z"
   },
   {
    "duration": 24,
    "start_time": "2024-11-21T07:43:20.517Z"
   },
   {
    "duration": 340,
    "start_time": "2024-11-21T07:43:20.543Z"
   },
   {
    "duration": 12,
    "start_time": "2024-11-21T07:43:20.885Z"
   },
   {
    "duration": 8,
    "start_time": "2024-11-21T07:43:20.905Z"
   },
   {
    "duration": 5,
    "start_time": "2024-11-21T07:43:20.916Z"
   },
   {
    "duration": 10,
    "start_time": "2024-11-21T07:43:20.922Z"
   },
   {
    "duration": 17,
    "start_time": "2024-11-21T07:43:20.934Z"
   },
   {
    "duration": 6,
    "start_time": "2024-11-21T07:43:20.952Z"
   },
   {
    "duration": 247,
    "start_time": "2024-11-21T07:43:20.959Z"
   },
   {
    "duration": 14,
    "start_time": "2024-11-21T07:43:21.208Z"
   },
   {
    "duration": 14,
    "start_time": "2024-11-21T07:43:21.224Z"
   },
   {
    "duration": 7,
    "start_time": "2024-11-21T07:43:21.240Z"
   },
   {
    "duration": 12,
    "start_time": "2024-11-21T07:43:21.248Z"
   },
   {
    "duration": 52,
    "start_time": "2024-11-21T07:43:21.262Z"
   },
   {
    "duration": 22,
    "start_time": "2024-11-21T07:43:21.316Z"
   },
   {
    "duration": 7,
    "start_time": "2024-11-21T07:43:21.340Z"
   },
   {
    "duration": 8,
    "start_time": "2024-11-21T07:43:21.348Z"
   },
   {
    "duration": 8,
    "start_time": "2024-11-21T07:43:21.357Z"
   },
   {
    "duration": 7,
    "start_time": "2024-11-21T07:43:21.366Z"
   },
   {
    "duration": 7,
    "start_time": "2024-11-21T07:43:21.408Z"
   },
   {
    "duration": 16,
    "start_time": "2024-11-21T07:43:21.417Z"
   },
   {
    "duration": 16,
    "start_time": "2024-11-21T07:43:21.435Z"
   },
   {
    "duration": 12,
    "start_time": "2024-11-21T07:43:21.453Z"
   },
   {
    "duration": 44,
    "start_time": "2024-11-21T07:43:21.467Z"
   },
   {
    "duration": 146,
    "start_time": "2024-11-21T07:43:21.513Z"
   },
   {
    "duration": 0,
    "start_time": "2024-11-21T07:43:21.661Z"
   },
   {
    "duration": 0,
    "start_time": "2024-11-21T07:43:21.662Z"
   },
   {
    "duration": 0,
    "start_time": "2024-11-21T07:43:21.664Z"
   },
   {
    "duration": 0,
    "start_time": "2024-11-21T07:43:21.665Z"
   },
   {
    "duration": 0,
    "start_time": "2024-11-21T07:43:21.667Z"
   },
   {
    "duration": 0,
    "start_time": "2024-11-21T07:43:21.668Z"
   },
   {
    "duration": 0,
    "start_time": "2024-11-21T07:43:21.670Z"
   },
   {
    "duration": 0,
    "start_time": "2024-11-21T07:43:21.671Z"
   },
   {
    "duration": 0,
    "start_time": "2024-11-21T07:43:21.672Z"
   },
   {
    "duration": 0,
    "start_time": "2024-11-21T07:43:21.673Z"
   },
   {
    "duration": 815,
    "start_time": "2024-11-21T07:46:06.468Z"
   },
   {
    "duration": 157,
    "start_time": "2024-11-21T07:46:07.285Z"
   },
   {
    "duration": 9,
    "start_time": "2024-11-21T07:46:07.443Z"
   },
   {
    "duration": 20,
    "start_time": "2024-11-21T07:46:07.453Z"
   },
   {
    "duration": 4,
    "start_time": "2024-11-21T07:46:07.476Z"
   },
   {
    "duration": 4,
    "start_time": "2024-11-21T07:46:07.482Z"
   },
   {
    "duration": 5,
    "start_time": "2024-11-21T07:46:07.504Z"
   },
   {
    "duration": 4,
    "start_time": "2024-11-21T07:46:07.511Z"
   },
   {
    "duration": 8,
    "start_time": "2024-11-21T07:46:07.517Z"
   },
   {
    "duration": 13,
    "start_time": "2024-11-21T07:46:07.526Z"
   },
   {
    "duration": 4,
    "start_time": "2024-11-21T07:46:07.540Z"
   },
   {
    "duration": 2,
    "start_time": "2024-11-21T07:46:07.546Z"
   },
   {
    "duration": 4,
    "start_time": "2024-11-21T07:46:07.551Z"
   },
   {
    "duration": 4,
    "start_time": "2024-11-21T07:46:07.559Z"
   },
   {
    "duration": 4,
    "start_time": "2024-11-21T07:46:07.606Z"
   },
   {
    "duration": 5,
    "start_time": "2024-11-21T07:46:07.612Z"
   },
   {
    "duration": 16,
    "start_time": "2024-11-21T07:46:07.618Z"
   },
   {
    "duration": 7,
    "start_time": "2024-11-21T07:46:07.636Z"
   },
   {
    "duration": 17,
    "start_time": "2024-11-21T07:46:07.645Z"
   },
   {
    "duration": 4,
    "start_time": "2024-11-21T07:46:07.663Z"
   },
   {
    "duration": 41,
    "start_time": "2024-11-21T07:46:07.669Z"
   },
   {
    "duration": 23,
    "start_time": "2024-11-21T07:46:07.711Z"
   },
   {
    "duration": 9,
    "start_time": "2024-11-21T07:46:07.736Z"
   },
   {
    "duration": 13,
    "start_time": "2024-11-21T07:46:07.748Z"
   },
   {
    "duration": 9,
    "start_time": "2024-11-21T07:46:07.763Z"
   },
   {
    "duration": 30,
    "start_time": "2024-11-21T07:46:07.775Z"
   },
   {
    "duration": 11,
    "start_time": "2024-11-21T07:46:07.807Z"
   },
   {
    "duration": 17,
    "start_time": "2024-11-21T07:46:07.819Z"
   },
   {
    "duration": 5,
    "start_time": "2024-11-21T07:46:07.838Z"
   },
   {
    "duration": 6,
    "start_time": "2024-11-21T07:46:07.844Z"
   },
   {
    "duration": 13,
    "start_time": "2024-11-21T07:46:07.852Z"
   },
   {
    "duration": 47,
    "start_time": "2024-11-21T07:46:07.867Z"
   },
   {
    "duration": 6,
    "start_time": "2024-11-21T07:46:07.915Z"
   },
   {
    "duration": 13,
    "start_time": "2024-11-21T07:46:07.922Z"
   },
   {
    "duration": 26,
    "start_time": "2024-11-21T07:46:07.936Z"
   },
   {
    "duration": 47,
    "start_time": "2024-11-21T07:46:07.964Z"
   },
   {
    "duration": 13,
    "start_time": "2024-11-21T07:46:08.013Z"
   },
   {
    "duration": 8,
    "start_time": "2024-11-21T07:46:08.027Z"
   },
   {
    "duration": 7,
    "start_time": "2024-11-21T07:46:08.037Z"
   },
   {
    "duration": 7,
    "start_time": "2024-11-21T07:46:08.046Z"
   },
   {
    "duration": 7,
    "start_time": "2024-11-21T07:46:08.057Z"
   },
   {
    "duration": 40,
    "start_time": "2024-11-21T07:46:08.066Z"
   },
   {
    "duration": 12,
    "start_time": "2024-11-21T07:46:08.108Z"
   },
   {
    "duration": 18,
    "start_time": "2024-11-21T07:46:08.122Z"
   },
   {
    "duration": 16,
    "start_time": "2024-11-21T07:46:08.142Z"
   },
   {
    "duration": 153,
    "start_time": "2024-11-21T07:46:08.160Z"
   },
   {
    "duration": 0,
    "start_time": "2024-11-21T07:46:08.315Z"
   },
   {
    "duration": 0,
    "start_time": "2024-11-21T07:46:08.316Z"
   },
   {
    "duration": 0,
    "start_time": "2024-11-21T07:46:08.317Z"
   },
   {
    "duration": 0,
    "start_time": "2024-11-21T07:46:08.319Z"
   },
   {
    "duration": 0,
    "start_time": "2024-11-21T07:46:08.320Z"
   },
   {
    "duration": 0,
    "start_time": "2024-11-21T07:46:08.321Z"
   },
   {
    "duration": 0,
    "start_time": "2024-11-21T07:46:08.322Z"
   },
   {
    "duration": 0,
    "start_time": "2024-11-21T07:46:08.323Z"
   },
   {
    "duration": 0,
    "start_time": "2024-11-21T07:46:08.324Z"
   },
   {
    "duration": 0,
    "start_time": "2024-11-21T07:46:08.325Z"
   },
   {
    "duration": 22,
    "start_time": "2024-11-21T07:52:27.049Z"
   },
   {
    "duration": 16,
    "start_time": "2024-11-21T07:54:15.809Z"
   },
   {
    "duration": 5,
    "start_time": "2024-11-21T07:56:32.675Z"
   },
   {
    "duration": 5,
    "start_time": "2024-11-21T07:57:11.727Z"
   },
   {
    "duration": 14,
    "start_time": "2024-11-21T07:59:03.645Z"
   },
   {
    "duration": 14,
    "start_time": "2024-11-21T08:01:28.904Z"
   },
   {
    "duration": 16,
    "start_time": "2024-11-21T08:03:44.442Z"
   },
   {
    "duration": 2733,
    "start_time": "2024-11-21T20:55:06.198Z"
   },
   {
    "duration": 870,
    "start_time": "2024-11-21T20:55:30.585Z"
   },
   {
    "duration": 211,
    "start_time": "2024-11-21T20:55:31.457Z"
   },
   {
    "duration": 10,
    "start_time": "2024-11-21T20:55:31.669Z"
   },
   {
    "duration": 20,
    "start_time": "2024-11-21T20:55:31.681Z"
   },
   {
    "duration": 4,
    "start_time": "2024-11-21T20:55:31.703Z"
   },
   {
    "duration": 4,
    "start_time": "2024-11-21T20:55:31.709Z"
   },
   {
    "duration": 7,
    "start_time": "2024-11-21T20:55:31.715Z"
   },
   {
    "duration": 4,
    "start_time": "2024-11-21T20:55:31.723Z"
   },
   {
    "duration": 44,
    "start_time": "2024-11-21T20:55:31.728Z"
   },
   {
    "duration": 13,
    "start_time": "2024-11-21T20:55:31.777Z"
   },
   {
    "duration": 4,
    "start_time": "2024-11-21T20:55:31.791Z"
   },
   {
    "duration": 2,
    "start_time": "2024-11-21T20:55:31.798Z"
   },
   {
    "duration": 4,
    "start_time": "2024-11-21T20:55:31.801Z"
   },
   {
    "duration": 5,
    "start_time": "2024-11-21T20:55:31.807Z"
   },
   {
    "duration": 4,
    "start_time": "2024-11-21T20:55:31.814Z"
   },
   {
    "duration": 4,
    "start_time": "2024-11-21T20:55:31.820Z"
   },
   {
    "duration": 59,
    "start_time": "2024-11-21T20:55:31.825Z"
   },
   {
    "duration": 8,
    "start_time": "2024-11-21T20:55:31.886Z"
   },
   {
    "duration": 18,
    "start_time": "2024-11-21T20:55:31.896Z"
   },
   {
    "duration": 3,
    "start_time": "2024-11-21T20:55:31.916Z"
   },
   {
    "duration": 7,
    "start_time": "2024-11-21T20:55:31.922Z"
   },
   {
    "duration": 53,
    "start_time": "2024-11-21T20:55:31.931Z"
   },
   {
    "duration": 8,
    "start_time": "2024-11-21T20:55:31.986Z"
   },
   {
    "duration": 11,
    "start_time": "2024-11-21T20:55:31.996Z"
   },
   {
    "duration": 7,
    "start_time": "2024-11-21T20:55:32.009Z"
   },
   {
    "duration": 6,
    "start_time": "2024-11-21T20:55:32.018Z"
   },
   {
    "duration": 10,
    "start_time": "2024-11-21T20:55:32.025Z"
   },
   {
    "duration": 16,
    "start_time": "2024-11-21T20:55:32.072Z"
   },
   {
    "duration": 5,
    "start_time": "2024-11-21T20:55:32.091Z"
   },
   {
    "duration": 6,
    "start_time": "2024-11-21T20:55:32.098Z"
   },
   {
    "duration": 13,
    "start_time": "2024-11-21T20:55:32.105Z"
   },
   {
    "duration": 13,
    "start_time": "2024-11-21T20:55:32.120Z"
   },
   {
    "duration": 35,
    "start_time": "2024-11-21T20:55:32.135Z"
   },
   {
    "duration": 13,
    "start_time": "2024-11-21T20:55:32.171Z"
   },
   {
    "duration": 28,
    "start_time": "2024-11-21T20:55:32.185Z"
   },
   {
    "duration": 26,
    "start_time": "2024-11-21T20:55:32.215Z"
   },
   {
    "duration": 29,
    "start_time": "2024-11-21T20:55:32.242Z"
   },
   {
    "duration": 6,
    "start_time": "2024-11-21T20:55:32.272Z"
   },
   {
    "duration": 7,
    "start_time": "2024-11-21T20:55:32.280Z"
   },
   {
    "duration": 7,
    "start_time": "2024-11-21T20:55:32.289Z"
   },
   {
    "duration": 8,
    "start_time": "2024-11-21T20:55:32.297Z"
   },
   {
    "duration": 12,
    "start_time": "2024-11-21T20:55:32.306Z"
   },
   {
    "duration": 51,
    "start_time": "2024-11-21T20:55:32.319Z"
   },
   {
    "duration": 11,
    "start_time": "2024-11-21T20:55:32.372Z"
   },
   {
    "duration": 17,
    "start_time": "2024-11-21T20:55:32.384Z"
   },
   {
    "duration": 20,
    "start_time": "2024-11-21T20:55:32.403Z"
   },
   {
    "duration": 18,
    "start_time": "2024-11-21T20:55:32.425Z"
   },
   {
    "duration": 41,
    "start_time": "2024-11-21T20:55:32.444Z"
   },
   {
    "duration": 386,
    "start_time": "2024-11-21T20:55:32.487Z"
   },
   {
    "duration": 2,
    "start_time": "2024-11-21T20:55:32.876Z"
   },
   {
    "duration": 3,
    "start_time": "2024-11-21T20:55:32.879Z"
   },
   {
    "duration": 3,
    "start_time": "2024-11-21T20:55:32.884Z"
   },
   {
    "duration": 3,
    "start_time": "2024-11-21T20:55:32.888Z"
   },
   {
    "duration": 3,
    "start_time": "2024-11-21T20:55:32.893Z"
   },
   {
    "duration": 4,
    "start_time": "2024-11-21T20:55:32.897Z"
   },
   {
    "duration": 3,
    "start_time": "2024-11-21T20:55:32.902Z"
   },
   {
    "duration": 431,
    "start_time": "2024-11-21T20:56:31.936Z"
   },
   {
    "duration": 7,
    "start_time": "2024-11-21T20:58:06.727Z"
   },
   {
    "duration": 111,
    "start_time": "2024-11-21T20:58:48.281Z"
   },
   {
    "duration": 585,
    "start_time": "2024-11-21T21:02:23.151Z"
   },
   {
    "duration": 43,
    "start_time": "2024-11-21T21:03:57.121Z"
   },
   {
    "duration": 45,
    "start_time": "2024-11-21T21:07:01.276Z"
   },
   {
    "duration": 113,
    "start_time": "2024-11-21T21:07:07.303Z"
   },
   {
    "duration": 113,
    "start_time": "2024-11-21T21:07:57.717Z"
   },
   {
    "duration": 113,
    "start_time": "2024-11-21T21:14:14.495Z"
   },
   {
    "duration": 100,
    "start_time": "2024-11-21T21:22:11.085Z"
   },
   {
    "duration": 6,
    "start_time": "2024-11-21T21:25:00.493Z"
   },
   {
    "duration": 283,
    "start_time": "2024-11-21T21:27:01.831Z"
   },
   {
    "duration": 43,
    "start_time": "2024-11-21T21:28:49.928Z"
   },
   {
    "duration": 119,
    "start_time": "2024-11-21T21:29:08.033Z"
   },
   {
    "duration": 37,
    "start_time": "2024-11-21T21:29:30.722Z"
   },
   {
    "duration": 33,
    "start_time": "2024-11-21T21:30:11.293Z"
   },
   {
    "duration": 9,
    "start_time": "2024-11-21T21:31:41.770Z"
   },
   {
    "duration": 8,
    "start_time": "2024-11-21T21:40:26.574Z"
   },
   {
    "duration": 8,
    "start_time": "2024-11-21T21:43:25.763Z"
   },
   {
    "duration": 10,
    "start_time": "2024-11-21T21:43:36.963Z"
   },
   {
    "duration": 3,
    "start_time": "2024-11-21T22:03:13.252Z"
   },
   {
    "duration": 149,
    "start_time": "2024-11-21T22:03:13.283Z"
   },
   {
    "duration": 8,
    "start_time": "2024-11-21T22:03:13.434Z"
   },
   {
    "duration": 30,
    "start_time": "2024-11-21T22:03:13.444Z"
   },
   {
    "duration": 7,
    "start_time": "2024-11-21T22:03:13.476Z"
   },
   {
    "duration": 4,
    "start_time": "2024-11-21T22:03:13.485Z"
   },
   {
    "duration": 6,
    "start_time": "2024-11-21T22:03:13.490Z"
   },
   {
    "duration": 3,
    "start_time": "2024-11-21T22:03:13.498Z"
   },
   {
    "duration": 8,
    "start_time": "2024-11-21T22:03:13.503Z"
   },
   {
    "duration": 13,
    "start_time": "2024-11-21T22:03:13.513Z"
   },
   {
    "duration": 4,
    "start_time": "2024-11-21T22:03:13.571Z"
   },
   {
    "duration": 4,
    "start_time": "2024-11-21T22:03:13.577Z"
   },
   {
    "duration": 4,
    "start_time": "2024-11-21T22:03:13.583Z"
   },
   {
    "duration": 5,
    "start_time": "2024-11-21T22:03:13.588Z"
   },
   {
    "duration": 4,
    "start_time": "2024-11-21T22:03:13.595Z"
   },
   {
    "duration": 14,
    "start_time": "2024-11-21T22:03:13.601Z"
   },
   {
    "duration": 7,
    "start_time": "2024-11-21T22:03:13.617Z"
   },
   {
    "duration": 55,
    "start_time": "2024-11-21T22:03:13.626Z"
   },
   {
    "duration": 4,
    "start_time": "2024-11-21T22:03:13.683Z"
   },
   {
    "duration": 7,
    "start_time": "2024-11-21T22:03:13.689Z"
   },
   {
    "duration": 25,
    "start_time": "2024-11-21T22:03:13.697Z"
   },
   {
    "duration": 8,
    "start_time": "2024-11-21T22:03:13.724Z"
   },
   {
    "duration": 44,
    "start_time": "2024-11-21T22:03:13.733Z"
   },
   {
    "duration": 8,
    "start_time": "2024-11-21T22:03:13.779Z"
   },
   {
    "duration": 6,
    "start_time": "2024-11-21T22:03:13.789Z"
   },
   {
    "duration": 12,
    "start_time": "2024-11-21T22:03:13.797Z"
   },
   {
    "duration": 17,
    "start_time": "2024-11-21T22:03:13.810Z"
   },
   {
    "duration": 6,
    "start_time": "2024-11-21T22:03:13.828Z"
   },
   {
    "duration": 7,
    "start_time": "2024-11-21T22:03:13.872Z"
   },
   {
    "duration": 13,
    "start_time": "2024-11-21T22:03:13.881Z"
   },
   {
    "duration": 14,
    "start_time": "2024-11-21T22:03:13.895Z"
   },
   {
    "duration": 6,
    "start_time": "2024-11-21T22:03:13.911Z"
   },
   {
    "duration": 11,
    "start_time": "2024-11-21T22:03:13.919Z"
   },
   {
    "duration": 51,
    "start_time": "2024-11-21T22:03:13.932Z"
   },
   {
    "duration": 23,
    "start_time": "2024-11-21T22:03:13.984Z"
   },
   {
    "duration": 7,
    "start_time": "2024-11-21T22:03:14.009Z"
   },
   {
    "duration": 7,
    "start_time": "2024-11-21T22:03:14.018Z"
   },
   {
    "duration": 7,
    "start_time": "2024-11-21T22:03:14.027Z"
   },
   {
    "duration": 39,
    "start_time": "2024-11-21T22:03:14.036Z"
   },
   {
    "duration": 7,
    "start_time": "2024-11-21T22:03:14.077Z"
   },
   {
    "duration": 11,
    "start_time": "2024-11-21T22:03:14.085Z"
   },
   {
    "duration": 10,
    "start_time": "2024-11-21T22:03:14.098Z"
   },
   {
    "duration": 7,
    "start_time": "2024-11-21T22:03:14.110Z"
   },
   {
    "duration": 13,
    "start_time": "2024-11-21T22:03:14.119Z"
   },
   {
    "duration": 46,
    "start_time": "2024-11-21T22:03:14.134Z"
   },
   {
    "duration": 15,
    "start_time": "2024-11-21T22:03:14.182Z"
   },
   {
    "duration": 14,
    "start_time": "2024-11-21T22:03:14.198Z"
   },
   {
    "duration": 367,
    "start_time": "2024-11-21T22:03:14.213Z"
   },
   {
    "duration": 350,
    "start_time": "2024-11-21T22:03:14.582Z"
   },
   {
    "duration": 9,
    "start_time": "2024-11-21T22:03:14.933Z"
   },
   {
    "duration": 122,
    "start_time": "2024-11-21T22:03:14.943Z"
   },
   {
    "duration": 118,
    "start_time": "2024-11-21T22:03:15.067Z"
   },
   {
    "duration": 118,
    "start_time": "2024-11-21T22:03:15.187Z"
   },
   {
    "duration": 125,
    "start_time": "2024-11-21T22:03:15.307Z"
   },
   {
    "duration": 113,
    "start_time": "2024-11-21T22:03:15.434Z"
   },
   {
    "duration": 6,
    "start_time": "2024-11-21T22:03:15.551Z"
   },
   {
    "duration": 8,
    "start_time": "2024-11-21T22:03:15.569Z"
   },
   {
    "duration": 807,
    "start_time": "2024-11-21T22:03:50.445Z"
   },
   {
    "duration": 154,
    "start_time": "2024-11-21T22:03:51.254Z"
   },
   {
    "duration": 9,
    "start_time": "2024-11-21T22:03:51.409Z"
   },
   {
    "duration": 22,
    "start_time": "2024-11-21T22:03:51.421Z"
   },
   {
    "duration": 7,
    "start_time": "2024-11-21T22:03:51.444Z"
   },
   {
    "duration": 18,
    "start_time": "2024-11-21T22:03:51.453Z"
   },
   {
    "duration": 5,
    "start_time": "2024-11-21T22:03:51.473Z"
   },
   {
    "duration": 4,
    "start_time": "2024-11-21T22:03:51.480Z"
   },
   {
    "duration": 8,
    "start_time": "2024-11-21T22:03:51.486Z"
   },
   {
    "duration": 12,
    "start_time": "2024-11-21T22:03:51.498Z"
   },
   {
    "duration": 4,
    "start_time": "2024-11-21T22:03:51.512Z"
   },
   {
    "duration": 4,
    "start_time": "2024-11-21T22:03:51.518Z"
   },
   {
    "duration": 50,
    "start_time": "2024-11-21T22:03:51.524Z"
   },
   {
    "duration": 5,
    "start_time": "2024-11-21T22:03:51.576Z"
   },
   {
    "duration": 5,
    "start_time": "2024-11-21T22:03:51.583Z"
   },
   {
    "duration": 20,
    "start_time": "2024-11-21T22:03:51.590Z"
   },
   {
    "duration": 12,
    "start_time": "2024-11-21T22:03:51.612Z"
   },
   {
    "duration": 17,
    "start_time": "2024-11-21T22:03:51.626Z"
   },
   {
    "duration": 4,
    "start_time": "2024-11-21T22:03:51.669Z"
   },
   {
    "duration": 8,
    "start_time": "2024-11-21T22:03:51.674Z"
   },
   {
    "duration": 25,
    "start_time": "2024-11-21T22:03:51.684Z"
   },
   {
    "duration": 11,
    "start_time": "2024-11-21T22:03:51.711Z"
   },
   {
    "duration": 12,
    "start_time": "2024-11-21T22:03:51.723Z"
   },
   {
    "duration": 37,
    "start_time": "2024-11-21T22:03:51.737Z"
   },
   {
    "duration": 6,
    "start_time": "2024-11-21T22:03:51.776Z"
   },
   {
    "duration": 12,
    "start_time": "2024-11-21T22:03:51.784Z"
   },
   {
    "duration": 18,
    "start_time": "2024-11-21T22:03:51.801Z"
   },
   {
    "duration": 6,
    "start_time": "2024-11-21T22:03:51.825Z"
   },
   {
    "duration": 6,
    "start_time": "2024-11-21T22:03:51.833Z"
   },
   {
    "duration": 14,
    "start_time": "2024-11-21T22:03:51.870Z"
   },
   {
    "duration": 15,
    "start_time": "2024-11-21T22:03:51.885Z"
   },
   {
    "duration": 7,
    "start_time": "2024-11-21T22:03:51.901Z"
   },
   {
    "duration": 14,
    "start_time": "2024-11-21T22:03:51.909Z"
   },
   {
    "duration": 52,
    "start_time": "2024-11-21T22:03:51.924Z"
   },
   {
    "duration": 22,
    "start_time": "2024-11-21T22:03:51.977Z"
   },
   {
    "duration": 7,
    "start_time": "2024-11-21T22:03:52.001Z"
   },
   {
    "duration": 8,
    "start_time": "2024-11-21T22:03:52.009Z"
   },
   {
    "duration": 8,
    "start_time": "2024-11-21T22:03:52.018Z"
   },
   {
    "duration": 8,
    "start_time": "2024-11-21T22:03:52.028Z"
   },
   {
    "duration": 38,
    "start_time": "2024-11-21T22:03:52.037Z"
   },
   {
    "duration": 11,
    "start_time": "2024-11-21T22:03:52.076Z"
   },
   {
    "duration": 11,
    "start_time": "2024-11-21T22:03:52.089Z"
   },
   {
    "duration": 9,
    "start_time": "2024-11-21T22:03:52.102Z"
   },
   {
    "duration": 15,
    "start_time": "2024-11-21T22:03:52.112Z"
   },
   {
    "duration": 46,
    "start_time": "2024-11-21T22:03:52.128Z"
   },
   {
    "duration": 15,
    "start_time": "2024-11-21T22:03:52.175Z"
   },
   {
    "duration": 14,
    "start_time": "2024-11-21T22:03:52.192Z"
   },
   {
    "duration": 390,
    "start_time": "2024-11-21T22:03:52.207Z"
   },
   {
    "duration": 416,
    "start_time": "2024-11-21T22:03:52.599Z"
   },
   {
    "duration": 8,
    "start_time": "2024-11-21T22:03:53.016Z"
   },
   {
    "duration": 121,
    "start_time": "2024-11-21T22:03:53.025Z"
   },
   {
    "duration": 124,
    "start_time": "2024-11-21T22:03:53.148Z"
   },
   {
    "duration": 113,
    "start_time": "2024-11-21T22:03:53.273Z"
   },
   {
    "duration": 121,
    "start_time": "2024-11-21T22:03:53.387Z"
   },
   {
    "duration": 111,
    "start_time": "2024-11-21T22:03:53.510Z"
   },
   {
    "duration": 6,
    "start_time": "2024-11-21T22:03:53.623Z"
   },
   {
    "duration": 7,
    "start_time": "2024-11-21T22:03:53.631Z"
   },
   {
    "duration": 827,
    "start_time": "2024-11-21T22:33:20.182Z"
   },
   {
    "duration": 202,
    "start_time": "2024-11-21T22:33:21.011Z"
   },
   {
    "duration": 10,
    "start_time": "2024-11-21T22:33:21.215Z"
   },
   {
    "duration": 21,
    "start_time": "2024-11-21T22:33:21.226Z"
   },
   {
    "duration": 7,
    "start_time": "2024-11-21T22:33:21.249Z"
   },
   {
    "duration": 5,
    "start_time": "2024-11-21T22:33:21.258Z"
   },
   {
    "duration": 5,
    "start_time": "2024-11-21T22:33:21.265Z"
   },
   {
    "duration": 4,
    "start_time": "2024-11-21T22:33:21.272Z"
   },
   {
    "duration": 8,
    "start_time": "2024-11-21T22:33:21.277Z"
   },
   {
    "duration": 50,
    "start_time": "2024-11-21T22:33:21.287Z"
   },
   {
    "duration": 4,
    "start_time": "2024-11-21T22:33:21.338Z"
   },
   {
    "duration": 5,
    "start_time": "2024-11-21T22:33:21.344Z"
   },
   {
    "duration": 5,
    "start_time": "2024-11-21T22:33:21.350Z"
   },
   {
    "duration": 4,
    "start_time": "2024-11-21T22:33:21.358Z"
   },
   {
    "duration": 4,
    "start_time": "2024-11-21T22:33:21.363Z"
   },
   {
    "duration": 15,
    "start_time": "2024-11-21T22:33:21.370Z"
   },
   {
    "duration": 39,
    "start_time": "2024-11-21T22:33:21.386Z"
   },
   {
    "duration": 17,
    "start_time": "2024-11-21T22:33:21.427Z"
   },
   {
    "duration": 4,
    "start_time": "2024-11-21T22:33:21.445Z"
   },
   {
    "duration": 8,
    "start_time": "2024-11-21T22:33:21.451Z"
   },
   {
    "duration": 23,
    "start_time": "2024-11-21T22:33:21.460Z"
   },
   {
    "duration": 40,
    "start_time": "2024-11-21T22:33:21.485Z"
   },
   {
    "duration": 13,
    "start_time": "2024-11-21T22:33:21.527Z"
   },
   {
    "duration": 8,
    "start_time": "2024-11-21T22:33:21.542Z"
   },
   {
    "duration": 6,
    "start_time": "2024-11-21T22:33:21.551Z"
   },
   {
    "duration": 10,
    "start_time": "2024-11-21T22:33:21.559Z"
   },
   {
    "duration": 17,
    "start_time": "2024-11-21T22:33:21.571Z"
   },
   {
    "duration": 37,
    "start_time": "2024-11-21T22:33:21.590Z"
   },
   {
    "duration": 6,
    "start_time": "2024-11-21T22:33:21.629Z"
   },
   {
    "duration": 13,
    "start_time": "2024-11-21T22:33:21.636Z"
   },
   {
    "duration": 14,
    "start_time": "2024-11-21T22:33:21.651Z"
   },
   {
    "duration": 7,
    "start_time": "2024-11-21T22:33:21.667Z"
   },
   {
    "duration": 14,
    "start_time": "2024-11-21T22:33:21.677Z"
   },
   {
    "duration": 55,
    "start_time": "2024-11-21T22:33:21.692Z"
   },
   {
    "duration": 24,
    "start_time": "2024-11-21T22:33:21.748Z"
   },
   {
    "duration": 7,
    "start_time": "2024-11-21T22:33:21.774Z"
   },
   {
    "duration": 7,
    "start_time": "2024-11-21T22:33:21.784Z"
   },
   {
    "duration": 32,
    "start_time": "2024-11-21T22:33:21.793Z"
   },
   {
    "duration": 7,
    "start_time": "2024-11-21T22:33:21.826Z"
   },
   {
    "duration": 7,
    "start_time": "2024-11-21T22:33:21.835Z"
   },
   {
    "duration": 11,
    "start_time": "2024-11-21T22:33:21.846Z"
   },
   {
    "duration": 11,
    "start_time": "2024-11-21T22:33:21.858Z"
   },
   {
    "duration": 13,
    "start_time": "2024-11-21T22:33:21.871Z"
   },
   {
    "duration": 48,
    "start_time": "2024-11-21T22:33:21.886Z"
   },
   {
    "duration": 16,
    "start_time": "2024-11-21T22:33:21.936Z"
   },
   {
    "duration": 15,
    "start_time": "2024-11-21T22:33:21.953Z"
   },
   {
    "duration": 14,
    "start_time": "2024-11-21T22:33:21.970Z"
   },
   {
    "duration": 386,
    "start_time": "2024-11-21T22:33:21.986Z"
   },
   {
    "duration": 400,
    "start_time": "2024-11-21T22:33:22.374Z"
   },
   {
    "duration": 7,
    "start_time": "2024-11-21T22:33:22.775Z"
   },
   {
    "duration": 124,
    "start_time": "2024-11-21T22:33:22.784Z"
   },
   {
    "duration": 121,
    "start_time": "2024-11-21T22:33:22.910Z"
   },
   {
    "duration": 112,
    "start_time": "2024-11-21T22:33:23.033Z"
   },
   {
    "duration": 121,
    "start_time": "2024-11-21T22:33:23.147Z"
   },
   {
    "duration": 107,
    "start_time": "2024-11-21T22:33:23.269Z"
   },
   {
    "duration": 6,
    "start_time": "2024-11-21T22:33:23.378Z"
   },
   {
    "duration": 8,
    "start_time": "2024-11-21T22:33:23.385Z"
   },
   {
    "duration": 153,
    "start_time": "2024-12-18T21:22:11.343Z"
   },
   {
    "duration": 2508,
    "start_time": "2024-12-18T21:30:41.515Z"
   },
   {
    "duration": 221,
    "start_time": "2024-12-18T21:30:44.025Z"
   },
   {
    "duration": 9,
    "start_time": "2024-12-18T21:30:44.248Z"
   },
   {
    "duration": 20,
    "start_time": "2024-12-18T21:30:44.260Z"
   },
   {
    "duration": 6,
    "start_time": "2024-12-18T21:30:44.282Z"
   },
   {
    "duration": 5,
    "start_time": "2024-12-18T21:30:44.290Z"
   },
   {
    "duration": 19,
    "start_time": "2024-12-18T21:30:44.296Z"
   },
   {
    "duration": 5,
    "start_time": "2024-12-18T21:30:44.316Z"
   },
   {
    "duration": 8,
    "start_time": "2024-12-18T21:30:44.322Z"
   },
   {
    "duration": 13,
    "start_time": "2024-12-18T21:30:44.333Z"
   },
   {
    "duration": 5,
    "start_time": "2024-12-18T21:30:44.347Z"
   },
   {
    "duration": 4,
    "start_time": "2024-12-18T21:30:44.354Z"
   },
   {
    "duration": 5,
    "start_time": "2024-12-18T21:30:44.359Z"
   },
   {
    "duration": 46,
    "start_time": "2024-12-18T21:30:44.366Z"
   },
   {
    "duration": 4,
    "start_time": "2024-12-18T21:30:44.413Z"
   },
   {
    "duration": 15,
    "start_time": "2024-12-18T21:30:44.419Z"
   },
   {
    "duration": 6,
    "start_time": "2024-12-18T21:30:44.437Z"
   },
   {
    "duration": 16,
    "start_time": "2024-12-18T21:30:44.445Z"
   },
   {
    "duration": 4,
    "start_time": "2024-12-18T21:30:44.462Z"
   },
   {
    "duration": 8,
    "start_time": "2024-12-18T21:30:44.467Z"
   },
   {
    "duration": 55,
    "start_time": "2024-12-18T21:30:44.476Z"
   },
   {
    "duration": 8,
    "start_time": "2024-12-18T21:30:44.532Z"
   },
   {
    "duration": 4,
    "start_time": "2024-12-18T21:30:44.542Z"
   },
   {
    "duration": 12,
    "start_time": "2024-12-18T21:30:44.547Z"
   },
   {
    "duration": 8,
    "start_time": "2024-12-18T21:30:44.560Z"
   },
   {
    "duration": 4,
    "start_time": "2024-12-18T21:30:44.570Z"
   },
   {
    "duration": 39,
    "start_time": "2024-12-18T21:30:44.576Z"
   },
   {
    "duration": 17,
    "start_time": "2024-12-18T21:30:44.620Z"
   },
   {
    "duration": 6,
    "start_time": "2024-12-18T21:30:44.638Z"
   },
   {
    "duration": 6,
    "start_time": "2024-12-18T21:30:44.645Z"
   },
   {
    "duration": 98,
    "start_time": "2024-12-18T21:30:44.652Z"
   },
   {
    "duration": 0,
    "start_time": "2024-12-18T21:30:44.752Z"
   },
   {
    "duration": 0,
    "start_time": "2024-12-18T21:30:44.753Z"
   },
   {
    "duration": 0,
    "start_time": "2024-12-18T21:30:44.754Z"
   },
   {
    "duration": 0,
    "start_time": "2024-12-18T21:30:44.755Z"
   },
   {
    "duration": 0,
    "start_time": "2024-12-18T21:30:44.756Z"
   },
   {
    "duration": 0,
    "start_time": "2024-12-18T21:30:44.757Z"
   },
   {
    "duration": 0,
    "start_time": "2024-12-18T21:30:44.758Z"
   },
   {
    "duration": 0,
    "start_time": "2024-12-18T21:30:44.759Z"
   },
   {
    "duration": 0,
    "start_time": "2024-12-18T21:30:44.760Z"
   },
   {
    "duration": 0,
    "start_time": "2024-12-18T21:30:44.762Z"
   },
   {
    "duration": 0,
    "start_time": "2024-12-18T21:30:44.763Z"
   },
   {
    "duration": 0,
    "start_time": "2024-12-18T21:30:44.764Z"
   },
   {
    "duration": 0,
    "start_time": "2024-12-18T21:30:44.765Z"
   },
   {
    "duration": 0,
    "start_time": "2024-12-18T21:30:44.766Z"
   },
   {
    "duration": 0,
    "start_time": "2024-12-18T21:30:44.767Z"
   },
   {
    "duration": 0,
    "start_time": "2024-12-18T21:30:44.767Z"
   },
   {
    "duration": 0,
    "start_time": "2024-12-18T21:30:44.768Z"
   },
   {
    "duration": 0,
    "start_time": "2024-12-18T21:30:44.770Z"
   },
   {
    "duration": 0,
    "start_time": "2024-12-18T21:30:44.771Z"
   },
   {
    "duration": 0,
    "start_time": "2024-12-18T21:30:44.772Z"
   },
   {
    "duration": 0,
    "start_time": "2024-12-18T21:30:44.812Z"
   },
   {
    "duration": 0,
    "start_time": "2024-12-18T21:30:44.815Z"
   },
   {
    "duration": 0,
    "start_time": "2024-12-18T21:30:44.816Z"
   },
   {
    "duration": 0,
    "start_time": "2024-12-18T21:30:44.817Z"
   },
   {
    "duration": 0,
    "start_time": "2024-12-18T21:30:44.818Z"
   },
   {
    "duration": 0,
    "start_time": "2024-12-18T21:30:44.819Z"
   },
   {
    "duration": 0,
    "start_time": "2024-12-18T21:30:44.820Z"
   },
   {
    "duration": 0,
    "start_time": "2024-12-18T21:30:44.821Z"
   },
   {
    "duration": 393,
    "start_time": "2024-12-18T21:38:18.440Z"
   },
   {
    "duration": 48,
    "start_time": "2024-12-18T21:39:37.970Z"
   },
   {
    "duration": 3,
    "start_time": "2024-12-18T21:40:40.558Z"
   },
   {
    "duration": 170,
    "start_time": "2024-12-18T21:40:40.563Z"
   },
   {
    "duration": 9,
    "start_time": "2024-12-18T21:40:40.734Z"
   },
   {
    "duration": 20,
    "start_time": "2024-12-18T21:40:40.745Z"
   },
   {
    "duration": 7,
    "start_time": "2024-12-18T21:40:40.766Z"
   },
   {
    "duration": 5,
    "start_time": "2024-12-18T21:40:40.774Z"
   },
   {
    "duration": 33,
    "start_time": "2024-12-18T21:40:40.780Z"
   },
   {
    "duration": 3,
    "start_time": "2024-12-18T21:40:40.815Z"
   },
   {
    "duration": 8,
    "start_time": "2024-12-18T21:40:40.820Z"
   },
   {
    "duration": 13,
    "start_time": "2024-12-18T21:40:40.829Z"
   },
   {
    "duration": 4,
    "start_time": "2024-12-18T21:40:40.843Z"
   },
   {
    "duration": 4,
    "start_time": "2024-12-18T21:40:40.849Z"
   },
   {
    "duration": 5,
    "start_time": "2024-12-18T21:40:40.854Z"
   },
   {
    "duration": 4,
    "start_time": "2024-12-18T21:40:40.860Z"
   },
   {
    "duration": 47,
    "start_time": "2024-12-18T21:40:40.866Z"
   },
   {
    "duration": 15,
    "start_time": "2024-12-18T21:40:40.915Z"
   },
   {
    "duration": 7,
    "start_time": "2024-12-18T21:40:40.931Z"
   },
   {
    "duration": 15,
    "start_time": "2024-12-18T21:40:40.940Z"
   },
   {
    "duration": 3,
    "start_time": "2024-12-18T21:40:40.957Z"
   },
   {
    "duration": 7,
    "start_time": "2024-12-18T21:40:40.962Z"
   },
   {
    "duration": 48,
    "start_time": "2024-12-18T21:40:40.971Z"
   },
   {
    "duration": 8,
    "start_time": "2024-12-18T21:40:41.020Z"
   },
   {
    "duration": 3,
    "start_time": "2024-12-18T21:40:41.030Z"
   },
   {
    "duration": 12,
    "start_time": "2024-12-18T21:40:41.037Z"
   },
   {
    "duration": 8,
    "start_time": "2024-12-18T21:40:41.050Z"
   },
   {
    "duration": 6,
    "start_time": "2024-12-18T21:40:41.059Z"
   },
   {
    "duration": 46,
    "start_time": "2024-12-18T21:40:41.067Z"
   },
   {
    "duration": 16,
    "start_time": "2024-12-18T21:40:41.115Z"
   },
   {
    "duration": 5,
    "start_time": "2024-12-18T21:40:41.133Z"
   },
   {
    "duration": 5,
    "start_time": "2024-12-18T21:40:41.140Z"
   },
   {
    "duration": 13,
    "start_time": "2024-12-18T21:40:41.147Z"
   },
   {
    "duration": 13,
    "start_time": "2024-12-18T21:40:41.162Z"
   },
   {
    "duration": 38,
    "start_time": "2024-12-18T21:40:41.177Z"
   },
   {
    "duration": 12,
    "start_time": "2024-12-18T21:40:41.217Z"
   },
   {
    "duration": 27,
    "start_time": "2024-12-18T21:40:41.230Z"
   },
   {
    "duration": 23,
    "start_time": "2024-12-18T21:40:41.258Z"
   },
   {
    "duration": 7,
    "start_time": "2024-12-18T21:40:41.282Z"
   },
   {
    "duration": 8,
    "start_time": "2024-12-18T21:40:41.312Z"
   },
   {
    "duration": 8,
    "start_time": "2024-12-18T21:40:41.322Z"
   },
   {
    "duration": 7,
    "start_time": "2024-12-18T21:40:41.331Z"
   },
   {
    "duration": 7,
    "start_time": "2024-12-18T21:40:41.340Z"
   },
   {
    "duration": 11,
    "start_time": "2024-12-18T21:40:41.349Z"
   },
   {
    "duration": 11,
    "start_time": "2024-12-18T21:40:41.361Z"
   },
   {
    "duration": 45,
    "start_time": "2024-12-18T21:40:41.374Z"
   },
   {
    "duration": 15,
    "start_time": "2024-12-18T21:40:41.421Z"
   },
   {
    "duration": 14,
    "start_time": "2024-12-18T21:40:41.437Z"
   },
   {
    "duration": 15,
    "start_time": "2024-12-18T21:40:41.453Z"
   },
   {
    "duration": 44,
    "start_time": "2024-12-18T21:40:41.469Z"
   },
   {
    "duration": 357,
    "start_time": "2024-12-18T21:40:41.514Z"
   },
   {
    "duration": 413,
    "start_time": "2024-12-18T21:40:41.872Z"
   },
   {
    "duration": 8,
    "start_time": "2024-12-18T21:40:42.286Z"
   },
   {
    "duration": 127,
    "start_time": "2024-12-18T21:40:42.296Z"
   },
   {
    "duration": 117,
    "start_time": "2024-12-18T21:40:42.425Z"
   },
   {
    "duration": 117,
    "start_time": "2024-12-18T21:40:42.544Z"
   },
   {
    "duration": 134,
    "start_time": "2024-12-18T21:40:42.662Z"
   },
   {
    "duration": 106,
    "start_time": "2024-12-18T21:40:42.797Z"
   },
   {
    "duration": 6,
    "start_time": "2024-12-18T21:40:42.912Z"
   },
   {
    "duration": 9,
    "start_time": "2024-12-18T21:40:42.919Z"
   },
   {
    "duration": 15,
    "start_time": "2024-12-18T21:48:36.577Z"
   },
   {
    "duration": 2531,
    "start_time": "2024-12-18T22:17:44.329Z"
   },
   {
    "duration": 204,
    "start_time": "2024-12-18T22:17:46.862Z"
   },
   {
    "duration": 14,
    "start_time": "2024-12-18T22:17:47.069Z"
   },
   {
    "duration": 27,
    "start_time": "2024-12-18T22:17:47.085Z"
   },
   {
    "duration": 8,
    "start_time": "2024-12-18T22:17:47.113Z"
   },
   {
    "duration": 4,
    "start_time": "2024-12-18T22:17:47.122Z"
   },
   {
    "duration": 5,
    "start_time": "2024-12-18T22:17:47.128Z"
   },
   {
    "duration": 4,
    "start_time": "2024-12-18T22:17:47.135Z"
   },
   {
    "duration": 8,
    "start_time": "2024-12-18T22:17:47.140Z"
   },
   {
    "duration": 12,
    "start_time": "2024-12-18T22:17:47.153Z"
   },
   {
    "duration": 42,
    "start_time": "2024-12-18T22:17:47.167Z"
   },
   {
    "duration": 10,
    "start_time": "2024-12-18T22:17:47.211Z"
   },
   {
    "duration": 5,
    "start_time": "2024-12-18T22:17:47.222Z"
   },
   {
    "duration": 8,
    "start_time": "2024-12-18T22:17:47.229Z"
   },
   {
    "duration": 5,
    "start_time": "2024-12-18T22:17:47.239Z"
   },
   {
    "duration": 17,
    "start_time": "2024-12-18T22:17:47.246Z"
   },
   {
    "duration": 11,
    "start_time": "2024-12-18T22:17:47.266Z"
   },
   {
    "duration": 53,
    "start_time": "2024-12-18T22:17:47.279Z"
   },
   {
    "duration": 3,
    "start_time": "2024-12-18T22:17:47.334Z"
   },
   {
    "duration": 8,
    "start_time": "2024-12-18T22:17:47.339Z"
   },
   {
    "duration": 31,
    "start_time": "2024-12-18T22:17:47.348Z"
   },
   {
    "duration": 34,
    "start_time": "2024-12-18T22:17:47.383Z"
   },
   {
    "duration": 5,
    "start_time": "2024-12-18T22:17:47.418Z"
   },
   {
    "duration": 12,
    "start_time": "2024-12-18T22:17:47.425Z"
   },
   {
    "duration": 9,
    "start_time": "2024-12-18T22:17:47.439Z"
   },
   {
    "duration": 6,
    "start_time": "2024-12-18T22:17:47.449Z"
   },
   {
    "duration": 12,
    "start_time": "2024-12-18T22:17:47.457Z"
   },
   {
    "duration": 53,
    "start_time": "2024-12-18T22:17:47.473Z"
   },
   {
    "duration": 6,
    "start_time": "2024-12-18T22:17:47.527Z"
   },
   {
    "duration": 6,
    "start_time": "2024-12-18T22:17:47.534Z"
   },
   {
    "duration": 13,
    "start_time": "2024-12-18T22:17:47.541Z"
   },
   {
    "duration": 16,
    "start_time": "2024-12-18T22:17:47.555Z"
   },
   {
    "duration": 37,
    "start_time": "2024-12-18T22:17:47.573Z"
   },
   {
    "duration": 18,
    "start_time": "2024-12-18T22:17:47.612Z"
   },
   {
    "duration": 26,
    "start_time": "2024-12-18T22:17:47.632Z"
   },
   {
    "duration": 16,
    "start_time": "2024-12-18T22:17:47.659Z"
   },
   {
    "duration": 51,
    "start_time": "2024-12-18T22:17:47.677Z"
   },
   {
    "duration": 9,
    "start_time": "2024-12-18T22:17:47.733Z"
   },
   {
    "duration": 9,
    "start_time": "2024-12-18T22:17:47.743Z"
   },
   {
    "duration": 6,
    "start_time": "2024-12-18T22:17:47.755Z"
   },
   {
    "duration": 8,
    "start_time": "2024-12-18T22:17:47.763Z"
   },
   {
    "duration": 8,
    "start_time": "2024-12-18T22:17:47.772Z"
   },
   {
    "duration": 14,
    "start_time": "2024-12-18T22:17:47.809Z"
   },
   {
    "duration": 12,
    "start_time": "2024-12-18T22:17:47.825Z"
   },
   {
    "duration": 10,
    "start_time": "2024-12-18T22:17:47.838Z"
   },
   {
    "duration": 16,
    "start_time": "2024-12-18T22:17:47.850Z"
   },
   {
    "duration": 44,
    "start_time": "2024-12-18T22:17:47.867Z"
   },
   {
    "duration": 19,
    "start_time": "2024-12-18T22:17:47.913Z"
   },
   {
    "duration": 14,
    "start_time": "2024-12-18T22:17:47.934Z"
   },
   {
    "duration": 395,
    "start_time": "2024-12-18T22:17:47.950Z"
   },
   {
    "duration": 382,
    "start_time": "2024-12-18T22:17:48.346Z"
   },
   {
    "duration": 7,
    "start_time": "2024-12-18T22:17:48.730Z"
   },
   {
    "duration": 134,
    "start_time": "2024-12-18T22:17:48.739Z"
   },
   {
    "duration": 120,
    "start_time": "2024-12-18T22:17:48.875Z"
   },
   {
    "duration": 121,
    "start_time": "2024-12-18T22:17:48.997Z"
   },
   {
    "duration": 191,
    "start_time": "2024-12-18T22:17:49.120Z"
   },
   {
    "duration": 114,
    "start_time": "2024-12-18T22:17:49.313Z"
   },
   {
    "duration": 6,
    "start_time": "2024-12-18T22:17:49.429Z"
   },
   {
    "duration": 9,
    "start_time": "2024-12-18T22:17:49.438Z"
   }
  ],
  "kernelspec": {
   "display_name": "Python 3 (ipykernel)",
   "language": "python",
   "name": "python3"
  },
  "language_info": {
   "codemirror_mode": {
    "name": "ipython",
    "version": 3
   },
   "file_extension": ".py",
   "mimetype": "text/x-python",
   "name": "python",
   "nbconvert_exporter": "python",
   "pygments_lexer": "ipython3",
   "version": "3.9.19"
  },
  "toc": {
   "base_numbering": 1,
   "nav_menu": {},
   "number_sections": true,
   "sideBar": true,
   "skip_h1_title": false,
   "title_cell": "Table of Contents",
   "title_sidebar": "Contents",
   "toc_cell": false,
   "toc_position": {},
   "toc_section_display": true,
   "toc_window_display": true
  }
 },
 "nbformat": 4,
 "nbformat_minor": 2
}

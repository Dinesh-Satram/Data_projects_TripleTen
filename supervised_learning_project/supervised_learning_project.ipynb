{
 "cells": [
  {
   "cell_type": "markdown",
   "metadata": {},
   "source": [
    "<div style=\"border:solid blue 2px; padding: 20px\">\n",
    "<b> Reviewer Rules</b>\n",
    "\n",
    "Hi there ;) I will be using the following color boxes through the notebook code:\n",
    "    \n",
    "<div class=\"alert alert-success\" style=\"border-radius: 15px; box-shadow: 4px 4px 4px; border: 1px solid \">\n",
    "<b> Reviewer's comment</b>\n",
    "    \n",
    "Green means that it was nicely done.\n",
    "    \n",
    "</div>    \n",
    "    \n",
    "<div class=\"alert alert-warning\" style=\"border-radius: 15px; box-shadow: 4px 4px 4px; border: 1px solid \">\n",
    "<b> Reviewer's comment</b>\n",
    "\n",
    "Yellow color indicates what could be optimized. This is not necessary, but it will be great if you make changes to this project.\n",
    " \n",
    "</div>      \n",
    "    \n",
    "<div class=\"alert alert-danger\" style=\"border-radius: 15px; box-shadow: 4px 4px 4px; border: 1px solid \">\n",
    "<b> Reviewer's comment </b>\n",
    "\n",
    "Red is for things that must be done or changed for me to approve the project. If I rejected the project, you must look for this comments.\n",
    "    \n",
    "</div>    \n",
    "    \n",
    "**Please, use some color other than those listed to highlight answers to my comments.**\n",
    "I would also ask you **not to change, move or delete my comments** to make it easier for me to navigate during the next review."
   ]
  },
  {
   "cell_type": "markdown",
   "metadata": {},
   "source": [
    "<div style=\"border:solid blue 2px; padding: 20px\">\n",
    "\n",
    "**Overall Summary of the Project**\n",
    "\n",
    "Dear Dinesh,\n",
    "\n",
    "I’ve thoroughly reviewed your project on predicting customer churn for Beta Bank. Your approach demonstrates a solid understanding of the fundamental steps in the machine learning pipeline, from data preprocessing to model evaluation. Below is a detailed assessment highlighting your strengths and outlining the essential areas that need attention to ensure your project meets all the required criteria.\n",
    "\n",
    "---\n",
    "\n",
    "**✅ Strengths**\n",
    "\n",
    "- **Data Cleaning and Preparation:**\n",
    "  - **Handling Missing Values:** You effectively addressed missing values in the `Tenure` column by imputing them with the median. This ensures that the dataset remains comprehensive without losing valuable information.\n",
    "  - **Dropping Irrelevant Columns:** Removing non-essential columns (`RowNumber`, `CustomerId`, `Surname`) helped in reducing noise and focusing the model on pertinent features.\n",
    "  \n",
    "- **Encoding Categorical Variables:**\n",
    "  - **One-Hot Encoding:** Applied one-hot encoding to categorical features (`Geography`, `Gender`) while avoiding the dummy variable trap by dropping the first category. This transformation is crucial for enabling the model to interpret categorical data effectively.\n",
    "\n",
    "- **Initial Model Training:**\n",
    "  - **Baseline Model:** Trained an initial Random Forest model to establish a performance benchmark. This provides a reference point to evaluate the impact of subsequent class imbalance handling techniques.\n",
    "\n",
    "- **Addressing Class Imbalance:**\n",
    "  - **Class Weighting:** Implemented class weighting in the Random Forest classifier to give more importance to the minority class (`Exited = 1`). This helps in mitigating the bias towards the majority class.\n",
    "\n",
    "- **Performance Metrics:**\n",
    "  - **Comprehensive Evaluation:** Calculated key metrics such as F1 score, accuracy, and AUC-ROC, providing a well-rounded assessment of the model’s performance.\n",
    "\n",
    "- **Clear Documentation:**\n",
    "  - **Structured Notebook:** Your notebook is well-organized with clear sections and explanations, making it easy to follow your analytical process and understand your decision-making.\n",
    "\n",
    "---\n",
    "\n",
    "**⚠️ Areas for Improvement**\n",
    "\n",
    "To ensure your project fully meets the requirements and achieves the best possible performance, please address the following essential areas:\n",
    "\n",
    "1. **Check for Duplicates in the Dataset:**\n",
    "   - **Why It Matters:** Duplicate records can skew the model’s learning process, leading to biased or inaccurate predictions.\n",
    "   - **How to Fix:**\n",
    "     ```python\n",
    "     # Check for duplicate rows\n",
    "     duplicates = data.duplicated()\n",
    "     print(f\"Number of duplicate rows: {duplicates.sum()}\")\n",
    "     \n",
    "     # Remove duplicate rows if any\n",
    "     data = data.drop_duplicates()\n",
    "     print(\"Duplicates removed.\")\n",
    "     ```\n",
    "     Ensure that after loading the data and before any preprocessing steps, you verify and remove any duplicate entries.\n",
    "\n",
    "2. **Examine the Distribution of the Target Variable in EDA:**\n",
    "   - **Why It Matters:** Understanding the distribution of the target variable (`Exited`) during Exploratory Data Analysis (EDA) provides insights into class imbalance and informs the choice of balancing techniques.\n",
    "   - **How to Fix:**\n",
    "     ```python\n",
    "     # Plot the distribution of the target variable\n",
    "     import matplotlib.pyplot as plt\n",
    "     import seaborn as sns\n",
    "     \n",
    "     sns.countplot(x='Exited', data=data)\n",
    "     plt.title('Distribution of Target Variable (Exited)')\n",
    "     plt.xlabel('Exited')\n",
    "     plt.ylabel('Count')\n",
    "     plt.show()\n",
    "     \n",
    "     # Print value counts\n",
    "     print(data['Exited'].value_counts())\n",
    "     ```\n",
    "     Incorporate this analysis into your EDA section to visualize and quantify the imbalance in the target classes.\n",
    "\n",
    "3. **Correctly Standardize Numerical Features:**\n",
    "   - **Why It Matters:** Standardizing features after splitting the data prevents data leakage, ensuring that the model generalizes well to unseen data.\n",
    "   - **How to Fix:**\n",
    "     ```python\n",
    "     from sklearn.preprocessing import StandardScaler\n",
    "     \n",
    "     # Split the data into training, validation, and test sets\n",
    "     features_train, features_temp, target_train, target_temp = train_test_split(\n",
    "         features, target, test_size=0.4, random_state=12345, stratify=target\n",
    "     )\n",
    "     features_valid, features_test, target_valid, target_test = train_test_split(\n",
    "         features_temp, target_temp, test_size=0.5, random_state=12345, stratify=target_temp\n",
    "     )\n",
    "     \n",
    "     # Initialize the scaler\n",
    "     scaler = StandardScaler()\n",
    "     \n",
    "     # Fit the scaler on the training data and transform\n",
    "     features_train[numerical] = scaler.fit_transform(features_train[numerical])\n",
    "     \n",
    "     # Transform validation and test data\n",
    "     features_valid[numerical] = scaler.transform(features_valid[numerical])\n",
    "     features_test[numerical] = scaler.transform(features_test[numerical])\n",
    "     ```\n",
    "     Ensure that scaling is performed **only** on the training set, and the same scaler is used to transform the validation and test sets.\n",
    "\n",
    "4. **Split the Data into Three Datasets (Training, Validation, Test):**\n",
    "   - **Why It Matters:** Having separate training, validation, and test sets allows for unbiased evaluation of the model’s performance and hyperparameter tuning.\n",
    "   - **How to Fix:**\n",
    "     ```python\n",
    "     from sklearn.model_selection import train_test_split\n",
    "     \n",
    "     # First split: Training set (60%) and Temporary set (40%)\n",
    "     features_train, features_temp, target_train, target_temp = train_test_split(\n",
    "         features, target, test_size=0.4, random_state=12345, stratify=target\n",
    "     )\n",
    "     \n",
    "     # Second split: Validation set (20%) and Test set (20%)\n",
    "     features_valid, features_test, target_valid, target_test = train_test_split(\n",
    "         features_temp, target_temp, test_size=0.5, random_state=12345, stratify=target_temp\n",
    "     )\n",
    "     \n",
    "     # Verify the splits\n",
    "     print(f\"Training set size: {features_train.shape[0]}\")\n",
    "     print(f\"Validation set size: {features_valid.shape[0]}\")\n",
    "     print(f\"Test set size: {features_test.shape[0]}\")\n",
    "     ```\n",
    "     Update your data splitting strategy to create distinct training, validation, and test sets, ensuring that each subset maintains the original class distribution through stratification.\n",
    "\n",
    "---\n",
    "\n",
    "**Conclusion**\n",
    "\n",
    "Your project demonstrates a commendable effort in building a predictive model for customer churn, effectively handling class imbalance through methods like class weighting and upsampling. Achieving an F1 score of **0.669** surpasses the project’s target of **0.59**, indicating that your model balances precision and recall well. Additionally, the high AUC-ROC score of **0.942** underscores your model’s strong capability in distinguishing between churned and retained customers.\n",
    "\n",
    "**Key Takeaways:**\n",
    "- **Effective Class Imbalance Handling:** Addressing the imbalance between churned and retained customers through upsampling significantly improved your model’s performance metrics.\n",
    "- **Robust Model Training:** Systematic hyperparameter tuning for the Random Forest classifier enhanced the model’s predictive power.\n",
    "- **Clear Documentation and Structured Workflow:** Your notebook is well-organized, making it easy to follow your analytical process.\n",
    "\n",
    "**Next Steps and Recommendations:**\n",
    "1. **Implement the Required Changes:** Address the four critical areas outlined above to ensure your model’s robustness and prevent potential pitfalls like data leakage.\n",
    "2. **Enhance Feature Interpretability:** Consider using tools like SHAP to gain deeper insights into feature contributions, providing actionable intelligence for Beta Bank’s retention strategies.\n",
    "3. **Explore Advanced Resampling Techniques:** Techniques such as SMOTE could further improve your model by generating synthetic samples for the minority class, potentially enhancing performance even more.\n",
    "4. **Validate with Cross-Validation:** Incorporate cross-validation techniques to obtain more reliable performance estimates and ensure your model generalizes well across different data subsets.\n",
    "\n",
    "By addressing these areas, you will solidify the foundation of your model, ensuring its reliability and effectiveness in real-world applications. Keep up the excellent work, and I’m confident that with these refinements, your project will be fully approved and highly valuable to Beta Bank’s customer retention efforts.\n",
    "\n",
    "Best regards,  \n",
    "Matías\n"
   ]
  },
  {
   "cell_type": "markdown",
   "metadata": {},
   "source": [
    "<div style=\"border:solid blue 2px; padding: 20px\">\n",
    "\n",
    "**Overall Summary of the Project Iter 2**\n",
    "\n",
    "Great job with the 2nd submission!\n",
    "    \n",
    "There just a few changes that you must make in order for me to able to approve the project.\n",
    "    \n",
    "Please check the red boxes that says Iter 2 ;) You got it!"
   ]
  },
  {
   "cell_type": "markdown",
   "metadata": {},
   "source": [
    "<div style=\"border:solid blue 2px; padding: 20px\">\n",
    "\n",
    "**Overall Summary of the Project Iter 3**\n",
    "\n",
    "Good job on the 3rd submisison. The only thing left is for you to apply an up-sampling or down-sampling technique to the sum of features_train and features_valid when you train the last model. If you don't do that, you won't get an F1-Score higher than 0.59.\n",
    "\n",
    "Good luck! Please do contact a tutor if you need some more guidance ;)"
   ]
  },
  {
   "cell_type": "markdown",
   "metadata": {},
   "source": [
    "<div style=\"border:solid blue 2px; padding: 20px\">\n",
    "\n",
    "**Overall Summary of the Project Iter 4**\n",
    "\n",
    "Good job, Dinesh! The only thing you must do for me to approve is to fix the training of the final model. You are using the features_upsample (which is correct), but that features_upsample was created using only features_train. Remember, that the final model must be trained using both features_train + features_valid, and then apply the upsample or downsample.\n",
    "    \n",
    "Don't hesitate to contact a tutor if you need guidance! You got it :)"
   ]
  },
  {
   "cell_type": "markdown",
   "metadata": {},
   "source": [
    "# Predicting Customer Churn: A Machine Learning Approach for Beta Bank"
   ]
  },
  {
   "cell_type": "markdown",
   "metadata": {},
   "source": [
    "## Introdction"
   ]
  },
  {
   "cell_type": "markdown",
   "metadata": {},
   "source": [
    "Customer retention is a critical aspect of business success, particularly in the banking industry, where acquiring new customers is more expensive than retaining existing ones. This project focuses on developing a machine learning model to predict customer churn for Beta Bank, using historical customer behavior data. By identifying at-risk customers, the bank can implement targeted strategies to improve retention rates. The goal was to build a model with an F1 score of at least 0.59, ensuring a balance between precision and recall, while also evaluating its performance using metrics like AUC-ROC."
   ]
  },
  {
   "cell_type": "markdown",
   "metadata": {},
   "source": [
    "<div class=\"alert alert-success\" style=\"border-radius: 15px; box-shadow: 4px 4px 4px; border: 1px solid \">\n",
    "<b>   Reviewer's comment </b>\n",
    "\n",
    "Good introduction\n",
    "</div>"
   ]
  },
  {
   "cell_type": "markdown",
   "metadata": {},
   "source": [
    "## Import Libraries"
   ]
  },
  {
   "cell_type": "code",
   "execution_count": 1,
   "metadata": {},
   "outputs": [],
   "source": [
    "import pandas as pd\n",
    "import matplotlib.pyplot as plt\n",
    "import seaborn as sns\n",
    "from sklearn.preprocessing import StandardScaler\n",
    "from sklearn.model_selection import train_test_split\n",
    "from sklearn.utils import resample\n",
    "from sklearn.utils import shuffle\n",
    "from sklearn.ensemble import RandomForestClassifier\n",
    "from sklearn.metrics import f1_score, accuracy_score, roc_auc_score"
   ]
  },
  {
   "cell_type": "markdown",
   "metadata": {},
   "source": [
    "## Load and Explore Data"
   ]
  },
  {
   "cell_type": "code",
   "execution_count": 2,
   "metadata": {},
   "outputs": [],
   "source": [
    "# Load the data\n",
    "data = pd.read_csv('/datasets/Churn.csv')"
   ]
  },
  {
   "cell_type": "code",
   "execution_count": 3,
   "metadata": {},
   "outputs": [
    {
     "name": "stdout",
     "output_type": "stream",
     "text": [
      "<class 'pandas.core.frame.DataFrame'>\n",
      "RangeIndex: 10000 entries, 0 to 9999\n",
      "Data columns (total 14 columns):\n",
      " #   Column           Non-Null Count  Dtype  \n",
      "---  ------           --------------  -----  \n",
      " 0   RowNumber        10000 non-null  int64  \n",
      " 1   CustomerId       10000 non-null  int64  \n",
      " 2   Surname          10000 non-null  object \n",
      " 3   CreditScore      10000 non-null  int64  \n",
      " 4   Geography        10000 non-null  object \n",
      " 5   Gender           10000 non-null  object \n",
      " 6   Age              10000 non-null  int64  \n",
      " 7   Tenure           9091 non-null   float64\n",
      " 8   Balance          10000 non-null  float64\n",
      " 9   NumOfProducts    10000 non-null  int64  \n",
      " 10  HasCrCard        10000 non-null  int64  \n",
      " 11  IsActiveMember   10000 non-null  int64  \n",
      " 12  EstimatedSalary  10000 non-null  float64\n",
      " 13  Exited           10000 non-null  int64  \n",
      "dtypes: float64(3), int64(8), object(3)\n",
      "memory usage: 1.1+ MB\n",
      "None\n",
      "         RowNumber    CustomerId   CreditScore           Age       Tenure  \\\n",
      "count  10000.00000  1.000000e+04  10000.000000  10000.000000  9091.000000   \n",
      "mean    5000.50000  1.569094e+07    650.528800     38.921800     4.997690   \n",
      "std     2886.89568  7.193619e+04     96.653299     10.487806     2.894723   \n",
      "min        1.00000  1.556570e+07    350.000000     18.000000     0.000000   \n",
      "25%     2500.75000  1.562853e+07    584.000000     32.000000     2.000000   \n",
      "50%     5000.50000  1.569074e+07    652.000000     37.000000     5.000000   \n",
      "75%     7500.25000  1.575323e+07    718.000000     44.000000     7.000000   \n",
      "max    10000.00000  1.581569e+07    850.000000     92.000000    10.000000   \n",
      "\n",
      "             Balance  NumOfProducts    HasCrCard  IsActiveMember  \\\n",
      "count   10000.000000   10000.000000  10000.00000    10000.000000   \n",
      "mean    76485.889288       1.530200      0.70550        0.515100   \n",
      "std     62397.405202       0.581654      0.45584        0.499797   \n",
      "min         0.000000       1.000000      0.00000        0.000000   \n",
      "25%         0.000000       1.000000      0.00000        0.000000   \n",
      "50%     97198.540000       1.000000      1.00000        1.000000   \n",
      "75%    127644.240000       2.000000      1.00000        1.000000   \n",
      "max    250898.090000       4.000000      1.00000        1.000000   \n",
      "\n",
      "       EstimatedSalary        Exited  \n",
      "count     10000.000000  10000.000000  \n",
      "mean     100090.239881      0.203700  \n",
      "std       57510.492818      0.402769  \n",
      "min          11.580000      0.000000  \n",
      "25%       51002.110000      0.000000  \n",
      "50%      100193.915000      0.000000  \n",
      "75%      149388.247500      0.000000  \n",
      "max      199992.480000      1.000000  \n",
      "   RowNumber  CustomerId   Surname  CreditScore Geography  Gender  Age  \\\n",
      "0          1    15634602  Hargrave          619    France  Female   42   \n",
      "1          2    15647311      Hill          608     Spain  Female   41   \n",
      "2          3    15619304      Onio          502    France  Female   42   \n",
      "3          4    15701354      Boni          699    France  Female   39   \n",
      "4          5    15737888  Mitchell          850     Spain  Female   43   \n",
      "\n",
      "   Tenure    Balance  NumOfProducts  HasCrCard  IsActiveMember  \\\n",
      "0     2.0       0.00              1          1               1   \n",
      "1     1.0   83807.86              1          0               1   \n",
      "2     8.0  159660.80              3          1               0   \n",
      "3     1.0       0.00              2          0               0   \n",
      "4     2.0  125510.82              1          1               1   \n",
      "\n",
      "   EstimatedSalary  Exited  \n",
      "0        101348.88       1  \n",
      "1        112542.58       0  \n",
      "2        113931.57       1  \n",
      "3         93826.63       0  \n",
      "4         79084.10       0  \n"
     ]
    }
   ],
   "source": [
    "# Inspect the dataset\n",
    "print(data.info())\n",
    "print(data.describe())\n",
    "print(data.head())\n"
   ]
  },
  {
   "cell_type": "code",
   "execution_count": 4,
   "metadata": {},
   "outputs": [],
   "source": [
    "#Drop irrelevant columns\n",
    "data = data.drop(['RowNumber', 'CustomerId', 'Surname'], axis=1)"
   ]
  },
  {
   "cell_type": "code",
   "execution_count": 5,
   "metadata": {},
   "outputs": [],
   "source": [
    "#Handling missing values\n",
    "data['Tenure'] = data['Tenure'].fillna(data['Tenure'].median())  # Replace with the median\n"
   ]
  },
  {
   "cell_type": "markdown",
   "metadata": {},
   "source": [
    "There are 9091 non null values out of 10000 entries in the **Tenure** column, so there are some missing values in that column, so I have replaced those missing values with median values."
   ]
  },
  {
   "cell_type": "markdown",
   "metadata": {},
   "source": [
    "## Check for the Duplicate Values"
   ]
  },
  {
   "cell_type": "code",
   "execution_count": 6,
   "metadata": {},
   "outputs": [
    {
     "name": "stdout",
     "output_type": "stream",
     "text": [
      "Number of duplicate rows: 0\n",
      "Duplicates removed.\n"
     ]
    }
   ],
   "source": [
    "# Check for duplicate rows\n",
    "duplicates = data.duplicated()\n",
    "print(f\"Number of duplicate rows: {duplicates.sum()}\")\n",
    "\n",
    "# Remove duplicate rows if any\n",
    "data = data.drop_duplicates()\n",
    "print(\"Duplicates removed.\")"
   ]
  },
  {
   "cell_type": "markdown",
   "metadata": {},
   "source": [
    "There are no duplicate rows in our data\n"
   ]
  },
  {
   "cell_type": "markdown",
   "metadata": {},
   "source": [
    "<div class=\"alert alert-success\" style=\"border-radius: 15px; box-shadow: 4px 4px 4px; border: 1px solid \">\n",
    "<b>   Reviewer's comment </b>\n",
    "\n",
    "Good job filling missing values\n",
    "</div>"
   ]
  },
  {
   "cell_type": "markdown",
   "metadata": {},
   "source": [
    "<div class=\"alert alert-success\" style=\"border-radius: 15px; box-shadow: 4px 4px 4px; border: 1px solid \">\n",
    "<b>   Reviewer's comment Iter 2</b>\n",
    "\n",
    "Good job, it's always good to check if there are duplicates\n",
    "</div>"
   ]
  },
  {
   "cell_type": "markdown",
   "metadata": {},
   "source": [
    "## Distribution of the Target"
   ]
  },
  {
   "cell_type": "code",
   "execution_count": 7,
   "metadata": {},
   "outputs": [
    {
     "data": {
      "image/png": "[encoded data removed]",
      "text/plain": [
       "<Figure size 640x480 with 1 Axes>"
      ]
     },
     "metadata": {},
     "output_type": "display_data"
    },
    {
     "name": "stdout",
     "output_type": "stream",
     "text": [
      "Target Variable Distribution:\n",
      "0    7963\n",
      "1    2037\n",
      "Name: Exited, dtype: int64\n"
     ]
    }
   ],
   "source": [
    "# Check and plot the target variable distribution\n",
    "class_frequency = data['Exited'].value_counts()\n",
    "sns.countplot(x='Exited', data=data, palette='viridis')\n",
    "plt.title('Distribution of Target Variable (Exited)')\n",
    "plt.xlabel('Exited (0: Not Churned, 1: Churned)')\n",
    "plt.ylabel('Count')\n",
    "plt.grid(axis='y', linestyle='--', alpha=0.7)\n",
    "plt.show()\n",
    "\n",
    "# Print value counts\n",
    "print(\"Target Variable Distribution:\")\n",
    "print(class_frequency)"
   ]
  },
  {
   "cell_type": "markdown",
   "metadata": {},
   "source": [
    "The analysis of the target variable, Exited, shows a significant class imbalance. Out of the total 10,000 customers, 7,963 have not churned (Exited = 0), while 2,037 have churned (Exited = 1). This imbalance indicates that the majority of customers are retained, which is common in many business scenarios. However, the disparity between the classes could cause machine learning models to be biased towards the majority class, leading to poor performance in predicting customer churn. \n",
    "Addressing this imbalance through techniques such as upsampling the minority class, downsampling the majority class, or using class weighting during training is crucial to ensure that the model effectively identifies customers at risk of churning."
   ]
  },
  {
   "cell_type": "markdown",
   "metadata": {},
   "source": [
    "<div class=\"alert alert-success\" style=\"border-radius: 15px; box-shadow: 4px 4px 4px; border: 1px solid \">\n",
    "<b>   Reviewer's comment Iter 2</b>\n",
    "\n",
    "Well done ;)\n",
    "</div>"
   ]
  },
  {
   "cell_type": "markdown",
   "metadata": {},
   "source": [
    "<div class=\"alert alert-danger\" style=\"border-radius: 15px; box-shadow: 4px 4px 4px; border: 1px solid \">\n",
    "<b>   Reviewer's comment </b>\n",
    "\n",
    "Are there any duplicate values in the CustomerId column? That's something really important to check...\n",
    "</div>"
   ]
  },
  {
   "cell_type": "markdown",
   "metadata": {},
   "source": [
    "<div class=\"alert alert-danger\" style=\"border-radius: 15px; box-shadow: 4px 4px 4px; border: 1px solid \">\n",
    "<b>   Reviewer's comment </b>\n",
    "\n",
    "What about the distribution of the target column? \n",
    "    \n",
    "<code># check and plot the balance of classes (churned vs not churned)\n",
    "class_frequency = df['exited'].value_counts()\n",
    "class_frequency.plot(kind='bar', title='Bank Customer Exits', xlabel='Count' , ylabel='Number of Customers',\n",
    "                    color='green', figsize=[4, 3], grid=True)\n",
    "class_frequency\n",
    "</code>\n",
    "    \n",
    "    \n",
    "Add conclusions about what you see.\n",
    "</div>"
   ]
  },
  {
   "cell_type": "markdown",
   "metadata": {},
   "source": [
    "## Encoding Categorical Features"
   ]
  },
  {
   "cell_type": "code",
   "execution_count": 8,
   "metadata": {},
   "outputs": [],
   "source": [
    "data = pd.get_dummies(data, columns=['Geography', 'Gender'], drop_first=True)\n"
   ]
  },
  {
   "cell_type": "markdown",
   "metadata": {},
   "source": [
    "There are 2 categorical features, which are **Geography** and **Gender**, we need to be encoded using one-hot encoding or label encoding.\n",
    "Since the dataset is not very large, one-hot encoding is preferred to retain interpretability."
   ]
  },
  {
   "cell_type": "markdown",
   "metadata": {},
   "source": [
    "<div class=\"alert alert-success\" style=\"border-radius: 15px; box-shadow: 4px 4px 4px; border: 1px solid \">\n",
    "<b>   Reviewer's comment </b>\n",
    "\n",
    "Correct\n",
    "</div>"
   ]
  },
  {
   "cell_type": "markdown",
   "metadata": {},
   "source": [
    "## Splitting Features and Target"
   ]
  },
  {
   "cell_type": "code",
   "execution_count": 9,
   "metadata": {},
   "outputs": [],
   "source": [
    "#Separate the target variable (Exited) from the features.\n",
    "target = data['Exited']\n",
    "features = data.drop('Exited', axis=1)\n"
   ]
  },
  {
   "cell_type": "markdown",
   "metadata": {},
   "source": [
    "## Standardize Numerical Features"
   ]
  },
  {
   "cell_type": "code",
   "execution_count": 10,
   "metadata": {},
   "outputs": [
    {
     "name": "stderr",
     "output_type": "stream",
     "text": [
      "/tmp/ipykernel_49/911452603.py:14: SettingWithCopyWarning: \n",
      "A value is trying to be set on a copy of a slice from a DataFrame.\n",
      "Try using .loc[row_indexer,col_indexer] = value instead\n",
      "\n",
      "See the caveats in the documentation: https://pandas.pydata.org/pandas-docs/stable/user_guide/indexing.html#returning-a-view-versus-a-copy\n",
      "  features_train[numerical] = scaler.fit_transform(features_train[numerical])\n",
      "/opt/conda/envs/python3/lib/python3.9/site-packages/pandas/core/indexing.py:1738: SettingWithCopyWarning: \n",
      "A value is trying to be set on a copy of a slice from a DataFrame.\n",
      "Try using .loc[row_indexer,col_indexer] = value instead\n",
      "\n",
      "See the caveats in the documentation: https://pandas.pydata.org/pandas-docs/stable/user_guide/indexing.html#returning-a-view-versus-a-copy\n",
      "  self._setitem_single_column(loc, value[:, i].tolist(), pi)\n",
      "/tmp/ipykernel_49/911452603.py:17: SettingWithCopyWarning: \n",
      "A value is trying to be set on a copy of a slice from a DataFrame.\n",
      "Try using .loc[row_indexer,col_indexer] = value instead\n",
      "\n",
      "See the caveats in the documentation: https://pandas.pydata.org/pandas-docs/stable/user_guide/indexing.html#returning-a-view-versus-a-copy\n",
      "  features_valid[numerical] = scaler.transform(features_valid[numerical])\n",
      "/opt/conda/envs/python3/lib/python3.9/site-packages/pandas/core/indexing.py:1738: SettingWithCopyWarning: \n",
      "A value is trying to be set on a copy of a slice from a DataFrame.\n",
      "Try using .loc[row_indexer,col_indexer] = value instead\n",
      "\n",
      "See the caveats in the documentation: https://pandas.pydata.org/pandas-docs/stable/user_guide/indexing.html#returning-a-view-versus-a-copy\n",
      "  self._setitem_single_column(loc, value[:, i].tolist(), pi)\n",
      "/tmp/ipykernel_49/911452603.py:18: SettingWithCopyWarning: \n",
      "A value is trying to be set on a copy of a slice from a DataFrame.\n",
      "Try using .loc[row_indexer,col_indexer] = value instead\n",
      "\n",
      "See the caveats in the documentation: https://pandas.pydata.org/pandas-docs/stable/user_guide/indexing.html#returning-a-view-versus-a-copy\n",
      "  features_test[numerical] = scaler.transform(features_test[numerical])\n",
      "/opt/conda/envs/python3/lib/python3.9/site-packages/pandas/core/indexing.py:1738: SettingWithCopyWarning: \n",
      "A value is trying to be set on a copy of a slice from a DataFrame.\n",
      "Try using .loc[row_indexer,col_indexer] = value instead\n",
      "\n",
      "See the caveats in the documentation: https://pandas.pydata.org/pandas-docs/stable/user_guide/indexing.html#returning-a-view-versus-a-copy\n",
      "  self._setitem_single_column(loc, value[:, i].tolist(), pi)\n"
     ]
    }
   ],
   "source": [
    "# Split the data\n",
    "features_train, features_temp, target_train, target_temp = train_test_split(\n",
    "    features, target, test_size=0.4, random_state=12345, stratify=target\n",
    ")\n",
    "features_valid, features_test, target_valid, target_test = train_test_split(\n",
    "    features_temp, target_temp, test_size=0.5, random_state=12345, stratify=target_temp\n",
    ")\n",
    "\n",
    "# Initialize the scaler\n",
    "scaler = StandardScaler()\n",
    "\n",
    "# Fit on training data and transform\n",
    "numerical = ['CreditScore', 'Age', 'Tenure', 'Balance', 'NumOfProducts', 'EstimatedSalary']\n",
    "features_train[numerical] = scaler.fit_transform(features_train[numerical])\n",
    "\n",
    "# Transform validation and test sets\n",
    "features_valid[numerical] = scaler.transform(features_valid[numerical])\n",
    "features_test[numerical] = scaler.transform(features_test[numerical])"
   ]
  },
  {
   "cell_type": "markdown",
   "metadata": {},
   "source": [
    "<div class=\"alert alert-danger\" style=\"border-radius: 15px; box-shadow: 4px 4px 4px; border: 1px solid \">\n",
    "<b>   Reviewer's comment </b>\n",
    "\n",
    "The correct way to do this is:\n",
    "    \n",
    "1) We split the data\n",
    "2) We do the fit_transform of the \"scaler\" using the training dataset\n",
    "3) We apply it to both the test and validation tests (if there is one) \n",
    "    \n",
    "Here an example:\n",
    "<code>numeric = ['CreditScore', 'Age', 'Tenure', 'Balance', 'NumOfProducts', 'EstimatedSalary']\n",
    "scaler = StandardScaler()\n",
    "scaler.fit(features_train[numeric])\n",
    "features_train[numeric] = scaler.transform(features_train[numeric])\n",
    "features_valid[numeric] = scaler.transform(features_valid[numeric])\n",
    "features_test[numeric] = scaler.transform(features_test[numeric])</code>\n",
    "</div>"
   ]
  },
  {
   "cell_type": "markdown",
   "metadata": {},
   "source": [
    "Columns like CreditScore, Age, Tenure, Balance, NumOfProducts, and EstimatedSalary should be scaled for better model performance."
   ]
  },
  {
   "cell_type": "markdown",
   "metadata": {},
   "source": [
    "<div class=\"alert alert-success\" style=\"border-radius: 15px; box-shadow: 4px 4px 4px; border: 1px solid \">\n",
    "<b>   Reviewer's comment Iter 2</b>\n",
    "\n",
    "Correct, now it looks 10/10\n",
    "</div>"
   ]
  },
  {
   "cell_type": "markdown",
   "metadata": {},
   "source": [
    "## Splittng Data into Training, Validation, and Test Sets"
   ]
  },
  {
   "cell_type": "code",
   "execution_count": 11,
   "metadata": {},
   "outputs": [
    {
     "name": "stdout",
     "output_type": "stream",
     "text": [
      "Training set size: 6000\n",
      "Validation set size: 2000\n",
      "Test set size: 2000\n"
     ]
    }
   ],
   "source": [
    "# Reuse the split and standardized data from previous cell\n",
    "# Simply verify the existing splits\n",
    "\n",
    "print(f\"Training set size: {features_train.shape[0]}\")\n",
    "print(f\"Validation set size: {features_valid.shape[0]}\")\n",
    "print(f\"Test set size: {features_test.shape[0]}\")\n",
    "\n"
   ]
  },
  {
   "cell_type": "markdown",
   "metadata": {},
   "source": [
    "No need to split and standardize the data again, the data was already splitted."
   ]
  },
  {
   "cell_type": "markdown",
   "metadata": {},
   "source": [
    "<div class=\"alert alert-success\" style=\"border-radius: 15px; box-shadow: 4px 4px 4px; border: 1px solid \">\n",
    "<b>   Reviewer's comment Iter 3</b>\n",
    "\n",
    "Well done\n",
    "</div>"
   ]
  },
  {
   "cell_type": "markdown",
   "metadata": {},
   "source": [
    "<div class=\"alert alert-danger\" style=\"border-radius: 15px; box-shadow: 4px 4px 4px; border: 1px solid \">\n",
    "<b>   Reviewer's comment Iter 2</b>\n",
    "\n",
    "Good job! But you already splitted the dataset in the cell before, and you scaled the data. What you did here is: you splitted again but now you don't have the data scaled... check this again please\n",
    "</div>"
   ]
  },
  {
   "cell_type": "markdown",
   "metadata": {},
   "source": [
    "<div class=\"alert alert-danger\" style=\"border-radius: 15px; box-shadow: 4px 4px 4px; border: 1px solid \">\n",
    "<b>   Reviewer's comment </b>\n",
    "\n",
    "It's good to have three datasets, remember: train, validation and test.\n",
    "    \n",
    "An example is the following:\n",
    "    \n",
    "<code># the first split gives us a training set of 60% and 'other' set of 40% to later be split\n",
    "features_train, features_other, target_train, target_other = train_test_split(features, target, test_size=0.4, random_state=12345)</code>\n",
    "\n",
    "<code># here the 'other' dataset, of 40% the original, is split in half to get is 20% for 'valid'  set, and 20% for 'test' set\n",
    "features_valid, features_test, target_valid, target_test = train_test_split(features_other, target_other, test_size=0.5, random_state=12345)</code>"
   ]
  },
  {
   "cell_type": "markdown",
   "metadata": {},
   "source": [
    "## Training an Initial Model Without Addressing Imbalance"
   ]
  },
  {
   "cell_type": "code",
   "execution_count": 12,
   "metadata": {},
   "outputs": [
    {
     "data": {
      "text/plain": [
       "RandomForestClassifier(random_state=12345)"
      ]
     },
     "execution_count": 12,
     "metadata": {},
     "output_type": "execute_result"
    }
   ],
   "source": [
    "# Train a basic random forest model\n",
    "model = RandomForestClassifier(random_state=12345)\n",
    "model.fit(features_train, target_train)"
   ]
  },
  {
   "cell_type": "code",
   "execution_count": 13,
   "metadata": {},
   "outputs": [],
   "source": [
    "# Make predictions\n",
    "predicted_valid = model.predict(features_valid)"
   ]
  },
  {
   "cell_type": "code",
   "execution_count": 14,
   "metadata": {},
   "outputs": [
    {
     "name": "stdout",
     "output_type": "stream",
     "text": [
      "Initial Model Metrics:\n",
      "F1 Score: 0.6126656848306332\n",
      "Accuracy: 0.8685\n",
      "AUC-ROC: 0.8623956177948565\n"
     ]
    }
   ],
   "source": [
    "# Evaluate metrics\n",
    "print(\"Initial Model Metrics:\")\n",
    "print(\"F1 Score:\", f1_score(target_valid, predicted_valid))\n",
    "print(\"Accuracy:\", accuracy_score(target_valid, predicted_valid))\n",
    "print(\"AUC-ROC:\", roc_auc_score(target_valid, model.predict_proba(features_valid)[:, 1]))"
   ]
  },
  {
   "cell_type": "markdown",
   "metadata": {},
   "source": [
    "## Addressing the Class Imbalance"
   ]
  },
  {
   "cell_type": "code",
   "execution_count": 15,
   "metadata": {},
   "outputs": [
    {
     "name": "stdout",
     "output_type": "stream",
     "text": [
      "Class Weighted Model Metrics:\n",
      "F1 Score: 0.5783866057838661\n",
      "Accuracy: 0.8615\n",
      "AUC-ROC: 0.862270143610208\n"
     ]
    }
   ],
   "source": [
    "# Train a model with class weights\n",
    "model_weighted = RandomForestClassifier(random_state=12345, class_weight='balanced')\n",
    "model_weighted.fit(features_train, target_train)\n",
    "\n",
    "# Evaluate metrics\n",
    "predicted_valid_weighted = model_weighted.predict(features_valid)\n",
    "print(\"Class Weighted Model Metrics:\")\n",
    "print(\"F1 Score:\", f1_score(target_valid, predicted_valid_weighted))\n",
    "print(\"Accuracy:\", accuracy_score(target_valid, predicted_valid_weighted))\n",
    "print(\"AUC-ROC:\", roc_auc_score(target_valid, model_weighted.predict_proba(features_valid)[:, 1]))\n"
   ]
  },
  {
   "cell_type": "markdown",
   "metadata": {},
   "source": [
    "## Upsampling"
   ]
  },
  {
   "cell_type": "code",
   "execution_count": 16,
   "metadata": {},
   "outputs": [],
   "source": [
    "# Combine training and validation sets before upsampling\n",
    "features_combined = pd.concat([features_train, features_valid])\n",
    "target_combined = pd.concat([target_train, target_valid])\n",
    "\n",
    "# Upsample the minority class\n",
    "features_zeros = features_combined[target_combined == 0]\n",
    "features_ones = features_combined[target_combined == 1]\n",
    "target_zeros = target_combined[target_combined == 0]\n",
    "target_ones = target_combined[target_combined == 1]\n",
    "\n",
    "features_upsampled = pd.concat([features_zeros] + [features_ones] * 4)\n",
    "target_upsampled = pd.concat([target_zeros] + [target_ones] * 4)\n",
    "\n",
    "# Shuffle the data\n",
    "features_upsampled, target_upsampled = shuffle(features_upsampled, target_upsampled, random_state=12345)\n"
   ]
  },
  {
   "cell_type": "markdown",
   "metadata": {},
   "source": [
    "## Down-Sampling"
   ]
  },
  {
   "cell_type": "code",
   "execution_count": 25,
   "metadata": {},
   "outputs": [],
   "source": [
    "# Combine training and validation sets before downsampling\n",
    "features_combined = pd.concat([features_train, features_valid])\n",
    "target_combined = pd.concat([target_train, target_valid])\n",
    "\n",
    "# Downsample the majority class\n",
    "features_zeros = features_combined[target_combined == 0]\n",
    "features_ones = features_combined[target_combined == 1]\n",
    "target_zeros = target_combined[target_combined == 0]\n",
    "target_ones = target_combined[target_combined == 1]\n",
    "\n",
    "features_zeros_downsampled = features_zeros.sample(len(features_ones), random_state=12345)\n",
    "target_zeros_downsampled = target_zeros.sample(len(target_ones), random_state=12345)\n",
    "\n",
    "# Combine the downsampled majority class with the minority class\n",
    "features_downsampled = pd.concat([features_zeros_downsampled, features_ones])\n",
    "target_downsampled = pd.concat([target_zeros_downsampled, target_ones])\n",
    "\n",
    "# Shuffle the data\n",
    "features_downsampled, target_downsampled = shuffle(features_downsampled, target_downsampled, random_state=12345)\n"
   ]
  },
  {
   "cell_type": "markdown",
   "metadata": {},
   "source": [
    "<div class=\"alert alert-warning\" style=\"border-radius: 15px; box-shadow: 4px 4px 4px; border: 1px solid \">\n",
    "<b>   Reviewer's comment </b>\n",
    "\n",
    "Good job. In practice, it's always better to down-sample instead of up-sample ;) Just for you to know for the future. You should get better results when doing down-sample (if you have enough data obviously).\n",
    "</div>"
   ]
  },
  {
   "cell_type": "markdown",
   "metadata": {},
   "source": [
    "## Hyperparameter Tuning"
   ]
  },
  {
   "cell_type": "code",
   "execution_count": 18,
   "metadata": {},
   "outputs": [
    {
     "name": "stdout",
     "output_type": "stream",
     "text": [
      "Best Hyperparameters: {'n_estimators': 200, 'max_depth': 10, 'min_samples_split': 2, 'min_samples_leaf': 2, 'AUC-ROC': 0.8671266873583605}\n",
      "Best F1 Score: 0.6311713455953533\n"
     ]
    }
   ],
   "source": [
    "# Hyperparameter ranges\n",
    "n_estimators_range = [50, 100, 200]\n",
    "max_depth_range = [10, 20, None]\n",
    "min_samples_split_range = [2, 5]\n",
    "min_samples_leaf_range = [1, 2]\n",
    "\n",
    "# Track the best model and its metrics\n",
    "best_f1 = 0\n",
    "best_params = {}\n",
    "\n",
    "# Hyperparameter tuning\n",
    "for n_estimators in n_estimators_range:\n",
    "    for max_depth in max_depth_range:\n",
    "        for min_samples_split in min_samples_split_range:\n",
    "            for min_samples_leaf in min_samples_leaf_range:\n",
    "                # Train the model\n",
    "                model = RandomForestClassifier(\n",
    "                    n_estimators=n_estimators,\n",
    "                    max_depth=max_depth,\n",
    "                    min_samples_split=min_samples_split,\n",
    "                    min_samples_leaf=min_samples_leaf,\n",
    "                    random_state=12345,\n",
    "                )\n",
    "                model.fit(features_downsampled, target_downsampled)\n",
    "\n",
    "                # Evaluate the model\n",
    "                predicted_valid = model.predict(features_valid)\n",
    "                f1 = f1_score(target_valid, predicted_valid)\n",
    "                auc_roc = roc_auc_score(target_valid, model.predict_proba(features_valid)[:, 1])\n",
    "\n",
    "                # Update the best model if F1 improves\n",
    "                if f1 > best_f1:\n",
    "                    best_f1 = f1\n",
    "                    best_params = {\n",
    "                        'n_estimators': n_estimators,\n",
    "                        'max_depth': max_depth,\n",
    "                        'min_samples_split': min_samples_split,\n",
    "                        'min_samples_leaf': min_samples_leaf,\n",
    "                        'AUC-ROC': auc_roc,\n",
    "                    }\n",
    "\n",
    "# Print the best configuration and its metrics\n",
    "print(\"Best Hyperparameters:\", best_params)\n",
    "print(\"Best F1 Score:\", best_f1)\n"
   ]
  },
  {
   "cell_type": "markdown",
   "metadata": {},
   "source": [
    "**Best F1 Score:** 0.6311 (significantly above the target of 0.59).\n",
    "**AUC-ROC:** 0.8671, indicating strong model performance in distinguishing between classes.\n",
    "\n",
    "**Best Hyperparameters:**\n",
    "n_estimators: 200,\n",
    "max_depth: 10,\n",
    "min_samples_split: 2,\n",
    "min_samples_leaf: 2,\n",
    "\n",
    "This configuration has optimized the balance between precision and recall, demonstrating that the model can effectively handle class imbalance."
   ]
  },
  {
   "cell_type": "markdown",
   "metadata": {},
   "source": [
    "<div class=\"alert alert-success\" style=\"border-radius: 15px; box-shadow: 4px 4px 4px; border: 1px solid \">\n",
    "<b>   Reviewer's comment </b>\n",
    "\n",
    "Good job\n",
    "</div>"
   ]
  },
  {
   "cell_type": "markdown",
   "metadata": {},
   "source": [
    "## Train the Final Model - with down-sampled data"
   ]
  },
  {
   "cell_type": "code",
   "execution_count": 26,
   "metadata": {},
   "outputs": [
    {
     "data": {
      "text/plain": [
       "RandomForestClassifier(max_depth=15, min_samples_leaf=2, n_estimators=300,\n",
       "                       random_state=12345)"
      ]
     },
     "execution_count": 26,
     "metadata": {},
     "output_type": "execute_result"
    }
   ],
   "source": [
    "# Train the final model on downsampled data\n",
    "final_model = RandomForestClassifier(\n",
    "    n_estimators=300,\n",
    "    max_depth=15,\n",
    "    min_samples_split=2,\n",
    "    min_samples_leaf=2,\n",
    "    random_state=12345\n",
    ")\n",
    "final_model.fit(features_downsampled, target_downsampled)\n"
   ]
  },
  {
   "cell_type": "markdown",
   "metadata": {},
   "source": [
    "<div class=\"alert alert-danger\" style=\"border-radius: 15px; box-shadow: 4px 4px 4px; border: 1px solid \">\n",
    "<b>   Reviewer's comment Iter 4</b>\n",
    "\n",
    "The features_downsampled you are using, it comes from the features_train only, you should combine features_train and features_valid, then get the \"combined_features_downsampled\" and use that for the training. Since then, you need to test on the features_test.\n",
    "</div>"
   ]
  },
  {
   "cell_type": "markdown",
   "metadata": {},
   "source": [
    "<div class=\"alert alert-danger\" style=\"border-radius: 15px; box-shadow: 4px 4px 4px; border: 1px solid \">\n",
    "<b>   Reviewer's comment Iter 3</b>\n",
    "\n",
    "Where is the up-sampling or down-sampling? You are just training a random forest on normal data, without applying the up-sampling technique.\n",
    "    \n",
    "You must do that if you want the trained model to get you a F1 score higher than 0.59 in the next step.\n",
    "</div>"
   ]
  },
  {
   "cell_type": "markdown",
   "metadata": {},
   "source": [
    "<div class=\"alert alert-success\" style=\"border-radius: 15px; box-shadow: 4px 4px 4px; border: 1px solid \">\n",
    "<b>   Reviewer's comment </b>\n",
    "\n",
    "Good\n",
    "</div>"
   ]
  },
  {
   "cell_type": "markdown",
   "metadata": {},
   "source": [
    "## Train the Final Model - with up-sampled data"
   ]
  },
  {
   "cell_type": "code",
   "execution_count": 23,
   "metadata": {},
   "outputs": [
    {
     "data": {
      "text/plain": [
       "RandomForestClassifier(max_depth=15, min_samples_leaf=2, n_estimators=300,\n",
       "                       random_state=12345)"
      ]
     },
     "execution_count": 23,
     "metadata": {},
     "output_type": "execute_result"
    }
   ],
   "source": [
    "# Train the final model on upsampled data\n",
    "final_model = RandomForestClassifier(\n",
    "    n_estimators=300,\n",
    "    max_depth=15,\n",
    "    min_samples_split=2,\n",
    "    min_samples_leaf=2,\n",
    "    random_state=12345\n",
    ")\n",
    "final_model.fit(features_upsampled, target_upsampled)\n"
   ]
  },
  {
   "cell_type": "markdown",
   "metadata": {},
   "source": [
    "<div class=\"alert alert-danger\" style=\"border-radius: 15px; box-shadow: 4px 4px 4px; border: 1px solid \">\n",
    "<b>   Reviewer's comment Iter 4</b>\n",
    "\n",
    "The features_upsampled you are using, it comes from the features_train only, you should combine features_train and features_valid, then get the \"combined_features_upsampled\" and use that for the training. Since then, you need to test on the features_test.\n",
    "</div>"
   ]
  },
  {
   "cell_type": "markdown",
   "metadata": {},
   "source": [
    "## Test and Evaluate Final Model - with down-sampled data"
   ]
  },
  {
   "cell_type": "code",
   "execution_count": 27,
   "metadata": {},
   "outputs": [
    {
     "name": "stdout",
     "output_type": "stream",
     "text": [
      "Final Model Metrics:\n",
      "F1 Score (Test): 0.586894586894587\n",
      "Accuracy (Test): 0.7825\n",
      "AUC-ROC (Test): 0.8562661274525681\n"
     ]
    }
   ],
   "source": [
    "# Test and Evaluate Final Model\n",
    "predicted_test = final_model.predict(features_test)\n",
    "print(\"Final Model Metrics:\")\n",
    "print(\"F1 Score (Test):\", f1_score(target_test, predicted_test))\n",
    "print(\"Accuracy (Test):\", accuracy_score(target_test, predicted_test))\n",
    "print(\"AUC-ROC (Test):\", roc_auc_score(target_test, final_model.predict_proba(features_test)[:, 1]))\n"
   ]
  },
  {
   "cell_type": "markdown",
   "metadata": {},
   "source": [
    "<div class=\"alert alert-success\" style=\"border-radius: 15px; box-shadow: 4px 4px 4px; border: 1px solid \">\n",
    "<b>   Reviewer's comment Iter 4</b>\n",
    "\n",
    "Good job! The only thing left for you to do is to correctly train the final models with both features_train and features_valid combined, applying the upsampling/downsampling techniques ;) But with only the features_train, you already got 0.59! Nice\n",
    "</div>"
   ]
  },
  {
   "cell_type": "markdown",
   "metadata": {},
   "source": [
    "<div class=\"alert alert-danger\" style=\"border-radius: 15px; box-shadow: 4px 4px 4px; border: 1px solid \">\n",
    "<b>   Reviewer's comment Iter 3</b>\n",
    "\n",
    "You are not achieving 0.59 here because you are using training the model using features_train and features_valid without doing the up or down-sampling.\n",
    "    \n",
    "You must up-sample or down-sample, then train, then you will get here a better F1-score.\n",
    "</div>"
   ]
  },
  {
   "cell_type": "markdown",
   "metadata": {},
   "source": []
  },
  {
   "cell_type": "markdown",
   "metadata": {},
   "source": [
    "<div class=\"alert alert-danger\" style=\"border-radius: 15px; box-shadow: 4px 4px 4px; border: 1px solid \">\n",
    "<b>   Reviewer's comment Iter 2</b>\n",
    "\n",
    "Here you must use the features_test set, since that's the one you are saving for the final testing and evaluation step. The idea is to use data that wasn't used during the training phase.\n",
    "</div>"
   ]
  },
  {
   "cell_type": "markdown",
   "metadata": {},
   "source": [
    "<div class=\"alert alert-warning\" style=\"border-radius: 15px; box-shadow: 4px 4px 4px; border: 1px solid \">\n",
    "<b>   Reviewer's comment </b>\n",
    "\n",
    "Here you should be using that 3rd dataset we prepared for testing purposes\n",
    "</div>"
   ]
  },
  {
   "cell_type": "markdown",
   "metadata": {},
   "source": [
    "## Test and Evaluate Final Model - with up-sampled data"
   ]
  },
  {
   "cell_type": "code",
   "execution_count": 24,
   "metadata": {},
   "outputs": [
    {
     "name": "stdout",
     "output_type": "stream",
     "text": [
      "Final Model Metrics:\n",
      "F1 Score (Test): 0.6080586080586079\n",
      "Accuracy (Test): 0.8395\n",
      "AUC-ROC (Test): 0.857547840598688\n"
     ]
    }
   ],
   "source": [
    "# Test and Evaluate Final Model\n",
    "predicted_test = final_model.predict(features_test)\n",
    "print(\"Final Model Metrics:\")\n",
    "print(\"F1 Score (Test):\", f1_score(target_test, predicted_test))\n",
    "print(\"Accuracy (Test):\", accuracy_score(target_test, predicted_test))\n",
    "print(\"AUC-ROC (Test):\", roc_auc_score(target_test, final_model.predict_proba(features_test)[:, 1]))\n"
   ]
  },
  {
   "cell_type": "markdown",
   "metadata": {},
   "source": [
    "**Analysis of Final Model Metrics**\n",
    "\n",
    "**F1 Score** (Test): 0.60\n",
    "This exceeds the project target of 0.59, indicating strong performance in balancing precision and recall.\n",
    "\n",
    "**Accuracy** (Test): 83%\n",
    "The model correctly classifies the majority of cases, demonstrating overall reliability.\n",
    "\n",
    "**AUC-ROC** (Test): 0.85\n",
    "This value shows the model’s excellent ability to distinguish between the two classes (Exited = 0 vs. 1). Values closer to 1 are ideal."
   ]
  },
  {
   "cell_type": "markdown",
   "metadata": {},
   "source": [
    "## Summary of the Project\n"
   ]
  },
  {
   "cell_type": "markdown",
   "metadata": {},
   "source": [
    "\n",
    "**Class Imbalance Handling:**\n",
    "The initial model struggled with class imbalance, as indicated by its lower F1 score.\n",
    "Addressing imbalance through upsampling significantly improved the F1 score while maintaining good AUC-ROC and accuracy.\n",
    "\n",
    "**Hyperparameter Tuning:**\n",
    "Optimizing the RandomForestClassifier with parameters:\n",
    "n_estimators: 300\n",
    "max_depth: 15\n",
    "min_samples_split: 2\n",
    "min_samples_leaf: 2\n",
    "This configuration yielded the best performance metrics, especially for the F1 score.\n",
    "\n",
    "**Final Model Performance:**\n",
    "The final model achieved F1: 0.591, Accuracy: 83%, and AUC-ROC: 0.85, showcasing its ability to handle the imbalanced dataset effectively and predict customer churn accurately."
   ]
  },
  {
   "cell_type": "markdown",
   "metadata": {},
   "source": [
    "## Overall Conclusion"
   ]
  },
  {
   "cell_type": "markdown",
   "metadata": {},
   "source": [
    "The project successfully developed a predictive model to identify customers likely to churn from Beta Bank, achieving an F1 score of 0.60 on the test set, exceeds the target of 0.59. Addressing the class imbalance through upsampling significantly improved model performance compared to the baseline and class-weighting approaches. After hyperparameter tuning, the best RandomForestClassifier configuration delivered strong results with an accuracy of 83% and an AUC-ROC of 0.85, indicating excellent discriminatory power between churned and non-churned customers. This model provides Beta Bank with a reliable tool to proactively identify at-risk customers and implement targeted retention strategies, ultimately helping to reduce customer churn and enhance overall business performance."
   ]
  },
  {
   "cell_type": "markdown",
   "metadata": {},
   "source": [
    "<div class=\"alert alert-success\" style=\"border-radius: 15px; box-shadow: 4px 4px 4px; border: 1px solid \">\n",
    "<b>   Reviewer's comment </b>\n",
    "\n",
    "Good job, you just need a few minor changes ;)\n",
    "</div>"
   ]
  },
  {
   "cell_type": "code",
   "execution_count": null,
   "metadata": {},
   "outputs": [],
   "source": []
  }
 ],
 "metadata": {
  "ExecuteTimeLog": [
   {
    "duration": 3,
    "start_time": "2025-01-25T18:18:52.163Z"
   },
   {
    "duration": 312,
    "start_time": "2025-01-25T18:19:12.417Z"
   },
   {
    "duration": 31,
    "start_time": "2025-01-25T18:19:55.788Z"
   },
   {
    "duration": 36,
    "start_time": "2025-01-25T18:20:08.663Z"
   },
   {
    "duration": 4,
    "start_time": "2025-01-25T18:23:11.010Z"
   },
   {
    "duration": 3,
    "start_time": "2025-01-25T18:24:00.656Z"
   },
   {
    "duration": 2,
    "start_time": "2025-01-25T18:24:09.524Z"
   },
   {
    "duration": 4,
    "start_time": "2025-01-25T18:24:25.487Z"
   },
   {
    "duration": 8,
    "start_time": "2025-01-25T18:28:19.840Z"
   },
   {
    "duration": 8,
    "start_time": "2025-01-25T18:29:43.180Z"
   },
   {
    "duration": 4,
    "start_time": "2025-01-25T18:33:55.833Z"
   },
   {
    "duration": 457,
    "start_time": "2025-01-25T18:35:02.758Z"
   },
   {
    "duration": 17,
    "start_time": "2025-01-25T18:35:27.868Z"
   },
   {
    "duration": 3,
    "start_time": "2025-01-25T18:38:20.356Z"
   },
   {
    "duration": 14,
    "start_time": "2025-01-25T18:38:45.144Z"
   },
   {
    "duration": 6,
    "start_time": "2025-01-25T18:42:15.918Z"
   },
   {
    "duration": 11,
    "start_time": "2025-01-25T18:45:53.449Z"
   },
   {
    "duration": 3,
    "start_time": "2025-01-25T18:48:36.245Z"
   },
   {
    "duration": 2,
    "start_time": "2025-01-25T18:49:22.546Z"
   },
   {
    "duration": 226,
    "start_time": "2025-01-25T18:50:07.916Z"
   },
   {
    "duration": 3,
    "start_time": "2025-01-25T18:52:58.911Z"
   },
   {
    "duration": 10,
    "start_time": "2025-01-25T18:53:05.095Z"
   },
   {
    "duration": 33,
    "start_time": "2025-01-25T18:57:05.645Z"
   },
   {
    "duration": 2,
    "start_time": "2025-01-25T19:00:45.658Z"
   },
   {
    "duration": 682,
    "start_time": "2025-01-25T19:01:44.239Z"
   },
   {
    "duration": 42,
    "start_time": "2025-01-25T19:02:03.560Z"
   },
   {
    "duration": 44,
    "start_time": "2025-01-25T19:02:14.496Z"
   },
   {
    "duration": 2,
    "start_time": "2025-01-25T19:03:01.868Z"
   },
   {
    "duration": 743,
    "start_time": "2025-01-25T19:04:05.939Z"
   },
   {
    "duration": 1081,
    "start_time": "2025-01-25T19:05:01.916Z"
   },
   {
    "duration": 41247,
    "start_time": "2025-01-25T19:32:52.182Z"
   },
   {
    "duration": 1428,
    "start_time": "2025-01-25T19:40:31.107Z"
   },
   {
    "duration": 19,
    "start_time": "2025-01-25T19:41:37.943Z"
   },
   {
    "duration": 3,
    "start_time": "2025-01-25T19:42:35.885Z"
   },
   {
    "duration": 19,
    "start_time": "2025-01-25T19:42:35.892Z"
   },
   {
    "duration": 36,
    "start_time": "2025-01-25T19:42:35.913Z"
   },
   {
    "duration": 5,
    "start_time": "2025-01-25T19:42:35.951Z"
   },
   {
    "duration": 29,
    "start_time": "2025-01-25T19:42:35.958Z"
   },
   {
    "duration": 8,
    "start_time": "2025-01-25T19:42:35.989Z"
   },
   {
    "duration": 5,
    "start_time": "2025-01-25T19:42:35.999Z"
   },
   {
    "duration": 15,
    "start_time": "2025-01-25T19:42:36.006Z"
   },
   {
    "duration": 6,
    "start_time": "2025-01-25T19:42:36.023Z"
   },
   {
    "duration": 5,
    "start_time": "2025-01-25T19:42:36.030Z"
   },
   {
    "duration": 710,
    "start_time": "2025-01-25T19:42:36.037Z"
   },
   {
    "duration": 49,
    "start_time": "2025-01-25T19:42:36.749Z"
   },
   {
    "duration": 47,
    "start_time": "2025-01-25T19:42:36.800Z"
   },
   {
    "duration": 760,
    "start_time": "2025-01-25T19:42:36.849Z"
   },
   {
    "duration": 1105,
    "start_time": "2025-01-25T19:42:37.612Z"
   },
   {
    "duration": 41950,
    "start_time": "2025-01-25T19:42:38.719Z"
   },
   {
    "duration": 1452,
    "start_time": "2025-01-25T19:43:20.671Z"
   },
   {
    "duration": 15,
    "start_time": "2025-01-25T19:43:22.125Z"
   },
   {
    "duration": 71,
    "start_time": "2025-01-25T19:47:08.806Z"
   },
   {
    "duration": 72,
    "start_time": "2025-01-25T19:47:31.639Z"
   },
   {
    "duration": 117,
    "start_time": "2025-01-25T19:47:50.038Z"
   },
   {
    "duration": 2,
    "start_time": "2025-01-25T19:52:07.691Z"
   },
   {
    "duration": 823,
    "start_time": "2025-01-25T20:01:47.833Z"
   },
   {
    "duration": 17,
    "start_time": "2025-01-25T20:01:48.659Z"
   },
   {
    "duration": 38,
    "start_time": "2025-01-25T20:01:48.678Z"
   },
   {
    "duration": 4,
    "start_time": "2025-01-25T20:01:48.718Z"
   },
   {
    "duration": 4,
    "start_time": "2025-01-25T20:01:48.724Z"
   },
   {
    "duration": 7,
    "start_time": "2025-01-25T20:01:48.729Z"
   },
   {
    "duration": 4,
    "start_time": "2025-01-25T20:01:48.738Z"
   },
   {
    "duration": 50,
    "start_time": "2025-01-25T20:01:48.744Z"
   },
   {
    "duration": 6,
    "start_time": "2025-01-25T20:01:48.795Z"
   },
   {
    "duration": 9,
    "start_time": "2025-01-25T20:01:48.802Z"
   },
   {
    "duration": 704,
    "start_time": "2025-01-25T20:01:48.813Z"
   },
   {
    "duration": 40,
    "start_time": "2025-01-25T20:01:49.519Z"
   },
   {
    "duration": 57,
    "start_time": "2025-01-25T20:01:49.560Z"
   },
   {
    "duration": 751,
    "start_time": "2025-01-25T20:01:49.621Z"
   },
   {
    "duration": 1077,
    "start_time": "2025-01-25T20:01:50.374Z"
   },
   {
    "duration": 41768,
    "start_time": "2025-01-25T20:01:51.454Z"
   },
   {
    "duration": 1439,
    "start_time": "2025-01-25T20:02:33.224Z"
   },
   {
    "duration": 285,
    "start_time": "2025-01-25T20:02:34.666Z"
   },
   {
    "duration": 75,
    "start_time": "2025-01-25T20:03:00.934Z"
   },
   {
    "duration": 118,
    "start_time": "2025-01-25T20:03:13.158Z"
   },
   {
    "duration": 791,
    "start_time": "2025-01-25T23:50:09.490Z"
   },
   {
    "duration": 25,
    "start_time": "2025-01-25T23:50:10.284Z"
   },
   {
    "duration": 34,
    "start_time": "2025-01-25T23:50:10.311Z"
   },
   {
    "duration": 4,
    "start_time": "2025-01-25T23:50:10.347Z"
   },
   {
    "duration": 3,
    "start_time": "2025-01-25T23:50:10.354Z"
   },
   {
    "duration": 7,
    "start_time": "2025-01-25T23:50:10.359Z"
   },
   {
    "duration": 4,
    "start_time": "2025-01-25T23:50:10.368Z"
   },
   {
    "duration": 15,
    "start_time": "2025-01-25T23:50:10.373Z"
   },
   {
    "duration": 6,
    "start_time": "2025-01-25T23:50:10.390Z"
   },
   {
    "duration": 37,
    "start_time": "2025-01-25T23:50:10.398Z"
   },
   {
    "duration": 696,
    "start_time": "2025-01-25T23:50:10.437Z"
   },
   {
    "duration": 41,
    "start_time": "2025-01-25T23:50:11.135Z"
   },
   {
    "duration": 58,
    "start_time": "2025-01-25T23:50:11.178Z"
   },
   {
    "duration": 773,
    "start_time": "2025-01-25T23:50:11.239Z"
   },
   {
    "duration": 1097,
    "start_time": "2025-01-25T23:50:12.014Z"
   },
   {
    "duration": 41537,
    "start_time": "2025-01-25T23:50:13.113Z"
   },
   {
    "duration": 1469,
    "start_time": "2025-01-25T23:50:54.652Z"
   },
   {
    "duration": 128,
    "start_time": "2025-01-25T23:50:56.123Z"
   },
   {
    "duration": 3,
    "start_time": "2025-01-25T23:51:37.864Z"
   },
   {
    "duration": 16,
    "start_time": "2025-01-25T23:51:37.869Z"
   },
   {
    "duration": 37,
    "start_time": "2025-01-25T23:51:37.887Z"
   },
   {
    "duration": 5,
    "start_time": "2025-01-25T23:51:37.926Z"
   },
   {
    "duration": 4,
    "start_time": "2025-01-25T23:51:37.934Z"
   },
   {
    "duration": 11,
    "start_time": "2025-01-25T23:51:37.940Z"
   },
   {
    "duration": 5,
    "start_time": "2025-01-25T23:51:37.953Z"
   },
   {
    "duration": 14,
    "start_time": "2025-01-25T23:51:37.959Z"
   },
   {
    "duration": 5,
    "start_time": "2025-01-25T23:51:37.975Z"
   },
   {
    "duration": 4,
    "start_time": "2025-01-25T23:51:37.982Z"
   },
   {
    "duration": 719,
    "start_time": "2025-01-25T23:51:37.988Z"
   },
   {
    "duration": 51,
    "start_time": "2025-01-25T23:51:38.709Z"
   },
   {
    "duration": 47,
    "start_time": "2025-01-25T23:51:38.764Z"
   },
   {
    "duration": 760,
    "start_time": "2025-01-25T23:51:38.813Z"
   },
   {
    "duration": 1103,
    "start_time": "2025-01-25T23:51:39.575Z"
   },
   {
    "duration": 41505,
    "start_time": "2025-01-25T23:51:40.680Z"
   },
   {
    "duration": 1445,
    "start_time": "2025-01-25T23:52:22.187Z"
   },
   {
    "duration": 125,
    "start_time": "2025-01-25T23:52:23.634Z"
   },
   {
    "duration": 6,
    "start_time": "2025-01-26T00:05:41.910Z"
   },
   {
    "duration": 161,
    "start_time": "2025-01-27T00:03:09.243Z"
   },
   {
    "duration": 823,
    "start_time": "2025-01-27T00:03:17.091Z"
   },
   {
    "duration": 30,
    "start_time": "2025-01-27T00:03:17.916Z"
   },
   {
    "duration": 35,
    "start_time": "2025-01-27T00:03:17.948Z"
   },
   {
    "duration": 5,
    "start_time": "2025-01-27T00:03:17.985Z"
   },
   {
    "duration": 5,
    "start_time": "2025-01-27T00:03:17.991Z"
   },
   {
    "duration": 10,
    "start_time": "2025-01-27T00:03:17.997Z"
   },
   {
    "duration": 34,
    "start_time": "2025-01-27T00:03:18.009Z"
   },
   {
    "duration": 4,
    "start_time": "2025-01-27T00:03:18.047Z"
   },
   {
    "duration": 15,
    "start_time": "2025-01-27T00:03:18.053Z"
   },
   {
    "duration": 5,
    "start_time": "2025-01-27T00:03:18.070Z"
   },
   {
    "duration": 5,
    "start_time": "2025-01-27T00:03:18.077Z"
   },
   {
    "duration": 728,
    "start_time": "2025-01-27T00:03:18.084Z"
   },
   {
    "duration": 49,
    "start_time": "2025-01-27T00:03:18.813Z"
   },
   {
    "duration": 49,
    "start_time": "2025-01-27T00:03:18.864Z"
   },
   {
    "duration": 768,
    "start_time": "2025-01-27T00:03:18.916Z"
   },
   {
    "duration": 1095,
    "start_time": "2025-01-27T00:03:19.686Z"
   },
   {
    "duration": 41505,
    "start_time": "2025-01-27T00:03:20.782Z"
   },
   {
    "duration": 1461,
    "start_time": "2025-01-27T00:04:02.289Z"
   },
   {
    "duration": 121,
    "start_time": "2025-01-27T00:04:03.753Z"
   },
   {
    "duration": 2037,
    "start_time": "2025-01-27T00:11:46.759Z"
   },
   {
    "duration": 115,
    "start_time": "2025-01-27T00:12:16.559Z"
   },
   {
    "duration": 308,
    "start_time": "2025-01-27T00:22:51.571Z"
   },
   {
    "duration": 21,
    "start_time": "2025-01-27T00:23:10.040Z"
   },
   {
    "duration": 35,
    "start_time": "2025-01-27T00:23:19.656Z"
   },
   {
    "duration": 167,
    "start_time": "2025-01-27T01:28:38.260Z"
   },
   {
    "duration": 2707,
    "start_time": "2025-01-27T01:28:50.257Z"
   },
   {
    "duration": 28,
    "start_time": "2025-01-27T01:28:52.966Z"
   },
   {
    "duration": 34,
    "start_time": "2025-01-27T01:28:52.996Z"
   },
   {
    "duration": 3,
    "start_time": "2025-01-27T01:28:53.032Z"
   },
   {
    "duration": 5,
    "start_time": "2025-01-27T01:28:53.036Z"
   },
   {
    "duration": 10,
    "start_time": "2025-01-27T01:28:53.043Z"
   },
   {
    "duration": 178,
    "start_time": "2025-01-27T01:28:53.055Z"
   },
   {
    "duration": 9,
    "start_time": "2025-01-27T01:28:53.235Z"
   },
   {
    "duration": 5,
    "start_time": "2025-01-27T01:28:53.246Z"
   },
   {
    "duration": 39,
    "start_time": "2025-01-27T01:28:53.254Z"
   },
   {
    "duration": 12,
    "start_time": "2025-01-27T01:28:53.295Z"
   },
   {
    "duration": 573,
    "start_time": "2025-01-27T01:28:53.309Z"
   },
   {
    "duration": 33,
    "start_time": "2025-01-27T01:28:53.884Z"
   },
   {
    "duration": 51,
    "start_time": "2025-01-27T01:28:53.919Z"
   },
   {
    "duration": 608,
    "start_time": "2025-01-27T01:28:53.972Z"
   },
   {
    "duration": 878,
    "start_time": "2025-01-27T01:28:54.582Z"
   },
   {
    "duration": 33071,
    "start_time": "2025-01-27T01:28:55.462Z"
   },
   {
    "duration": 1183,
    "start_time": "2025-01-27T01:29:28.535Z"
   },
   {
    "duration": 108,
    "start_time": "2025-01-27T01:29:29.720Z"
   },
   {
    "duration": 26,
    "start_time": "2025-01-27T01:32:08.289Z"
   },
   {
    "duration": 25,
    "start_time": "2025-01-27T01:33:06.193Z"
   },
   {
    "duration": 1004,
    "start_time": "2025-01-27T01:35:38.706Z"
   },
   {
    "duration": 16,
    "start_time": "2025-01-27T01:35:39.712Z"
   },
   {
    "duration": 44,
    "start_time": "2025-01-27T01:35:39.729Z"
   },
   {
    "duration": 4,
    "start_time": "2025-01-27T01:35:39.774Z"
   },
   {
    "duration": 3,
    "start_time": "2025-01-27T01:35:39.780Z"
   },
   {
    "duration": 11,
    "start_time": "2025-01-27T01:35:39.785Z"
   },
   {
    "duration": 128,
    "start_time": "2025-01-27T01:35:39.797Z"
   },
   {
    "duration": 8,
    "start_time": "2025-01-27T01:35:39.928Z"
   },
   {
    "duration": 4,
    "start_time": "2025-01-27T01:35:39.938Z"
   },
   {
    "duration": 257,
    "start_time": "2025-01-27T01:35:39.945Z"
   },
   {
    "duration": 0,
    "start_time": "2025-01-27T01:35:40.204Z"
   },
   {
    "duration": 0,
    "start_time": "2025-01-27T01:35:40.205Z"
   },
   {
    "duration": 0,
    "start_time": "2025-01-27T01:35:40.207Z"
   },
   {
    "duration": 0,
    "start_time": "2025-01-27T01:35:40.208Z"
   },
   {
    "duration": 0,
    "start_time": "2025-01-27T01:35:40.210Z"
   },
   {
    "duration": 0,
    "start_time": "2025-01-27T01:35:40.212Z"
   },
   {
    "duration": 0,
    "start_time": "2025-01-27T01:35:40.213Z"
   },
   {
    "duration": 0,
    "start_time": "2025-01-27T01:35:40.215Z"
   },
   {
    "duration": 0,
    "start_time": "2025-01-27T01:35:40.216Z"
   },
   {
    "duration": 25,
    "start_time": "2025-01-27T01:39:07.787Z"
   },
   {
    "duration": 995,
    "start_time": "2025-01-27T01:40:18.053Z"
   },
   {
    "duration": 21,
    "start_time": "2025-01-27T01:40:19.050Z"
   },
   {
    "duration": 35,
    "start_time": "2025-01-27T01:40:19.072Z"
   },
   {
    "duration": 3,
    "start_time": "2025-01-27T01:40:19.109Z"
   },
   {
    "duration": 4,
    "start_time": "2025-01-27T01:40:19.113Z"
   },
   {
    "duration": 10,
    "start_time": "2025-01-27T01:40:19.119Z"
   },
   {
    "duration": 132,
    "start_time": "2025-01-27T01:40:19.131Z"
   },
   {
    "duration": 13,
    "start_time": "2025-01-27T01:40:19.265Z"
   },
   {
    "duration": 4,
    "start_time": "2025-01-27T01:40:19.279Z"
   },
   {
    "duration": 25,
    "start_time": "2025-01-27T01:40:19.286Z"
   },
   {
    "duration": 10,
    "start_time": "2025-01-27T01:40:19.312Z"
   },
   {
    "duration": 583,
    "start_time": "2025-01-27T01:40:19.323Z"
   },
   {
    "duration": 33,
    "start_time": "2025-01-27T01:40:19.908Z"
   },
   {
    "duration": 48,
    "start_time": "2025-01-27T01:40:19.943Z"
   },
   {
    "duration": 610,
    "start_time": "2025-01-27T01:40:19.993Z"
   },
   {
    "duration": 869,
    "start_time": "2025-01-27T01:40:20.605Z"
   },
   {
    "duration": 32913,
    "start_time": "2025-01-27T01:40:21.475Z"
   },
   {
    "duration": 1150,
    "start_time": "2025-01-27T01:40:54.390Z"
   },
   {
    "duration": 109,
    "start_time": "2025-01-27T01:40:55.544Z"
   },
   {
    "duration": 2838,
    "start_time": "2025-01-28T18:23:43.772Z"
   },
   {
    "duration": 26,
    "start_time": "2025-01-28T18:23:46.612Z"
   },
   {
    "duration": 32,
    "start_time": "2025-01-28T18:23:46.640Z"
   },
   {
    "duration": 4,
    "start_time": "2025-01-28T18:23:46.674Z"
   },
   {
    "duration": 3,
    "start_time": "2025-01-28T18:23:46.680Z"
   },
   {
    "duration": 10,
    "start_time": "2025-01-28T18:23:46.685Z"
   },
   {
    "duration": 193,
    "start_time": "2025-01-28T18:23:46.696Z"
   },
   {
    "duration": 8,
    "start_time": "2025-01-28T18:23:46.891Z"
   },
   {
    "duration": 5,
    "start_time": "2025-01-28T18:23:46.900Z"
   },
   {
    "duration": 44,
    "start_time": "2025-01-28T18:23:46.908Z"
   },
   {
    "duration": 3,
    "start_time": "2025-01-28T18:23:46.954Z"
   },
   {
    "duration": 574,
    "start_time": "2025-01-28T18:23:46.959Z"
   },
   {
    "duration": 35,
    "start_time": "2025-01-28T18:23:47.534Z"
   },
   {
    "duration": 37,
    "start_time": "2025-01-28T18:23:47.570Z"
   },
   {
    "duration": 650,
    "start_time": "2025-01-28T18:23:47.609Z"
   },
   {
    "duration": 868,
    "start_time": "2025-01-28T18:23:48.261Z"
   },
   {
    "duration": 33022,
    "start_time": "2025-01-28T18:23:49.131Z"
   },
   {
    "duration": 1160,
    "start_time": "2025-01-28T18:24:22.155Z"
   },
   {
    "duration": 101,
    "start_time": "2025-01-28T18:24:23.317Z"
   },
   {
    "duration": 98,
    "start_time": "2025-01-28T18:27:05.844Z"
   },
   {
    "duration": 98,
    "start_time": "2025-01-28T18:27:28.968Z"
   },
   {
    "duration": 96,
    "start_time": "2025-01-28T18:28:25.027Z"
   },
   {
    "duration": 1076,
    "start_time": "2025-01-28T18:28:51.959Z"
   },
   {
    "duration": 15,
    "start_time": "2025-01-28T18:28:53.037Z"
   },
   {
    "duration": 34,
    "start_time": "2025-01-28T18:28:53.054Z"
   },
   {
    "duration": 4,
    "start_time": "2025-01-28T18:28:53.091Z"
   },
   {
    "duration": 5,
    "start_time": "2025-01-28T18:28:53.096Z"
   },
   {
    "duration": 38,
    "start_time": "2025-01-28T18:28:53.102Z"
   },
   {
    "duration": 113,
    "start_time": "2025-01-28T18:28:53.141Z"
   },
   {
    "duration": 7,
    "start_time": "2025-01-28T18:28:53.256Z"
   },
   {
    "duration": 4,
    "start_time": "2025-01-28T18:28:53.265Z"
   },
   {
    "duration": 24,
    "start_time": "2025-01-28T18:28:53.272Z"
   },
   {
    "duration": 3,
    "start_time": "2025-01-28T18:28:53.298Z"
   },
   {
    "duration": 569,
    "start_time": "2025-01-28T18:28:53.332Z"
   },
   {
    "duration": 42,
    "start_time": "2025-01-28T18:28:53.903Z"
   },
   {
    "duration": 37,
    "start_time": "2025-01-28T18:28:53.947Z"
   },
   {
    "duration": 618,
    "start_time": "2025-01-28T18:28:53.985Z"
   },
   {
    "duration": 892,
    "start_time": "2025-01-28T18:28:54.604Z"
   },
   {
    "duration": 33125,
    "start_time": "2025-01-28T18:28:55.497Z"
   },
   {
    "duration": 1145,
    "start_time": "2025-01-28T18:29:28.624Z"
   },
   {
    "duration": 107,
    "start_time": "2025-01-28T18:29:29.770Z"
   },
   {
    "duration": 325,
    "start_time": "2025-01-28T18:34:51.572Z"
   },
   {
    "duration": 1027,
    "start_time": "2025-01-28T18:37:36.486Z"
   },
   {
    "duration": 19,
    "start_time": "2025-01-28T18:37:37.515Z"
   },
   {
    "duration": 35,
    "start_time": "2025-01-28T18:37:37.536Z"
   },
   {
    "duration": 3,
    "start_time": "2025-01-28T18:37:37.573Z"
   },
   {
    "duration": 3,
    "start_time": "2025-01-28T18:37:37.580Z"
   },
   {
    "duration": 11,
    "start_time": "2025-01-28T18:37:37.584Z"
   },
   {
    "duration": 146,
    "start_time": "2025-01-28T18:37:37.597Z"
   },
   {
    "duration": 7,
    "start_time": "2025-01-28T18:37:37.745Z"
   },
   {
    "duration": 4,
    "start_time": "2025-01-28T18:37:37.754Z"
   },
   {
    "duration": 25,
    "start_time": "2025-01-28T18:37:37.759Z"
   },
   {
    "duration": 3,
    "start_time": "2025-01-28T18:37:37.786Z"
   },
   {
    "duration": 594,
    "start_time": "2025-01-28T18:37:37.791Z"
   },
   {
    "duration": 47,
    "start_time": "2025-01-28T18:37:38.387Z"
   },
   {
    "duration": 37,
    "start_time": "2025-01-28T18:37:38.438Z"
   },
   {
    "duration": 614,
    "start_time": "2025-01-28T18:37:38.477Z"
   },
   {
    "duration": 4,
    "start_time": "2025-01-28T18:37:39.093Z"
   },
   {
    "duration": 325,
    "start_time": "2025-01-28T18:37:39.098Z"
   },
   {
    "duration": 250,
    "start_time": "2025-01-28T18:37:39.426Z"
   },
   {
    "duration": 0,
    "start_time": "2025-01-28T18:37:39.678Z"
   },
   {
    "duration": 0,
    "start_time": "2025-01-28T18:37:39.678Z"
   },
   {
    "duration": 12188,
    "start_time": "2025-01-28T18:38:43.259Z"
   },
   {
    "duration": 1069,
    "start_time": "2025-01-28T18:39:58.847Z"
   },
   {
    "duration": 16,
    "start_time": "2025-01-28T18:39:59.918Z"
   },
   {
    "duration": 35,
    "start_time": "2025-01-28T18:39:59.937Z"
   },
   {
    "duration": 3,
    "start_time": "2025-01-28T18:39:59.974Z"
   },
   {
    "duration": 3,
    "start_time": "2025-01-28T18:39:59.980Z"
   },
   {
    "duration": 11,
    "start_time": "2025-01-28T18:39:59.985Z"
   },
   {
    "duration": 133,
    "start_time": "2025-01-28T18:39:59.998Z"
   },
   {
    "duration": 8,
    "start_time": "2025-01-28T18:40:00.133Z"
   },
   {
    "duration": 4,
    "start_time": "2025-01-28T18:40:00.142Z"
   },
   {
    "duration": 25,
    "start_time": "2025-01-28T18:40:00.150Z"
   },
   {
    "duration": 4,
    "start_time": "2025-01-28T18:40:00.177Z"
   },
   {
    "duration": 592,
    "start_time": "2025-01-28T18:40:00.183Z"
   },
   {
    "duration": 33,
    "start_time": "2025-01-28T18:40:00.778Z"
   },
   {
    "duration": 51,
    "start_time": "2025-01-28T18:40:00.813Z"
   },
   {
    "duration": 609,
    "start_time": "2025-01-28T18:40:00.866Z"
   },
   {
    "duration": 4,
    "start_time": "2025-01-28T18:40:01.478Z"
   },
   {
    "duration": 339,
    "start_time": "2025-01-28T18:40:01.483Z"
   },
   {
    "duration": 12111,
    "start_time": "2025-01-28T18:40:01.823Z"
   },
   {
    "duration": 1155,
    "start_time": "2025-01-28T18:40:13.936Z"
   },
   {
    "duration": 106,
    "start_time": "2025-01-28T18:40:15.093Z"
   },
   {
    "duration": 1150,
    "start_time": "2025-01-28T18:43:12.232Z"
   },
   {
    "duration": 97,
    "start_time": "2025-01-28T18:43:16.722Z"
   },
   {
    "duration": 1707,
    "start_time": "2025-01-28T18:43:25.840Z"
   },
   {
    "duration": 160,
    "start_time": "2025-01-28T18:43:31.238Z"
   },
   {
    "duration": 2068,
    "start_time": "2025-01-28T18:43:41.454Z"
   },
   {
    "duration": 175,
    "start_time": "2025-01-28T18:43:46.396Z"
   },
   {
    "duration": 1082,
    "start_time": "2025-01-28T18:52:56.755Z"
   },
   {
    "duration": 16,
    "start_time": "2025-01-28T18:52:57.839Z"
   },
   {
    "duration": 35,
    "start_time": "2025-01-28T18:52:57.857Z"
   },
   {
    "duration": 16,
    "start_time": "2025-01-28T18:52:57.894Z"
   },
   {
    "duration": 4,
    "start_time": "2025-01-28T18:52:57.913Z"
   },
   {
    "duration": 14,
    "start_time": "2025-01-28T18:52:57.918Z"
   },
   {
    "duration": 129,
    "start_time": "2025-01-28T18:52:57.934Z"
   },
   {
    "duration": 9,
    "start_time": "2025-01-28T18:52:58.064Z"
   },
   {
    "duration": 4,
    "start_time": "2025-01-28T18:52:58.074Z"
   },
   {
    "duration": 42,
    "start_time": "2025-01-28T18:52:58.080Z"
   },
   {
    "duration": 3,
    "start_time": "2025-01-28T18:52:58.124Z"
   },
   {
    "duration": 569,
    "start_time": "2025-01-28T18:52:58.128Z"
   },
   {
    "duration": 46,
    "start_time": "2025-01-28T18:52:58.699Z"
   },
   {
    "duration": 39,
    "start_time": "2025-01-28T18:52:58.748Z"
   },
   {
    "duration": 616,
    "start_time": "2025-01-28T18:52:58.789Z"
   },
   {
    "duration": 4,
    "start_time": "2025-01-28T18:52:59.409Z"
   },
   {
    "duration": 330,
    "start_time": "2025-01-28T18:52:59.415Z"
   },
   {
    "duration": 12180,
    "start_time": "2025-01-28T18:52:59.747Z"
   },
   {
    "duration": 2070,
    "start_time": "2025-01-28T18:53:11.929Z"
   },
   {
    "duration": 188,
    "start_time": "2025-01-28T18:53:14.001Z"
   },
   {
    "duration": 2699,
    "start_time": "2025-01-30T03:34:31.353Z"
   },
   {
    "duration": 28,
    "start_time": "2025-01-30T03:34:34.055Z"
   },
   {
    "duration": 34,
    "start_time": "2025-01-30T03:34:34.085Z"
   },
   {
    "duration": 3,
    "start_time": "2025-01-30T03:34:34.122Z"
   },
   {
    "duration": 4,
    "start_time": "2025-01-30T03:34:34.126Z"
   },
   {
    "duration": 11,
    "start_time": "2025-01-30T03:34:34.132Z"
   },
   {
    "duration": 133,
    "start_time": "2025-01-30T03:34:34.145Z"
   },
   {
    "duration": 7,
    "start_time": "2025-01-30T03:34:34.280Z"
   },
   {
    "duration": 4,
    "start_time": "2025-01-30T03:34:34.289Z"
   },
   {
    "duration": 25,
    "start_time": "2025-01-30T03:34:34.295Z"
   },
   {
    "duration": 4,
    "start_time": "2025-01-30T03:34:34.321Z"
   },
   {
    "duration": 590,
    "start_time": "2025-01-30T03:34:34.327Z"
   },
   {
    "duration": 33,
    "start_time": "2025-01-30T03:34:34.919Z"
   },
   {
    "duration": 48,
    "start_time": "2025-01-30T03:34:34.953Z"
   },
   {
    "duration": 608,
    "start_time": "2025-01-30T03:34:35.003Z"
   },
   {
    "duration": 4,
    "start_time": "2025-01-30T03:34:35.613Z"
   },
   {
    "duration": 342,
    "start_time": "2025-01-30T03:34:35.620Z"
   },
   {
    "duration": 12100,
    "start_time": "2025-01-30T03:34:35.964Z"
   },
   {
    "duration": 723,
    "start_time": "2025-01-30T03:34:48.070Z"
   },
   {
    "duration": 164,
    "start_time": "2025-01-30T03:34:48.794Z"
   },
   {
    "duration": 156,
    "start_time": "2025-01-30T03:35:04.802Z"
   },
   {
    "duration": 983,
    "start_time": "2025-01-30T03:35:44.057Z"
   },
   {
    "duration": 15,
    "start_time": "2025-01-30T03:35:45.042Z"
   },
   {
    "duration": 40,
    "start_time": "2025-01-30T03:35:45.059Z"
   },
   {
    "duration": 3,
    "start_time": "2025-01-30T03:35:45.101Z"
   },
   {
    "duration": 4,
    "start_time": "2025-01-30T03:35:45.106Z"
   },
   {
    "duration": 11,
    "start_time": "2025-01-30T03:35:45.111Z"
   },
   {
    "duration": 130,
    "start_time": "2025-01-30T03:35:45.123Z"
   },
   {
    "duration": 17,
    "start_time": "2025-01-30T03:35:45.255Z"
   },
   {
    "duration": 4,
    "start_time": "2025-01-30T03:35:45.274Z"
   },
   {
    "duration": 33,
    "start_time": "2025-01-30T03:35:45.282Z"
   },
   {
    "duration": 3,
    "start_time": "2025-01-30T03:35:45.317Z"
   },
   {
    "duration": 576,
    "start_time": "2025-01-30T03:35:45.322Z"
   },
   {
    "duration": 33,
    "start_time": "2025-01-30T03:35:45.900Z"
   },
   {
    "duration": 49,
    "start_time": "2025-01-30T03:35:45.934Z"
   },
   {
    "duration": 632,
    "start_time": "2025-01-30T03:35:45.984Z"
   },
   {
    "duration": 4,
    "start_time": "2025-01-30T03:35:46.618Z"
   },
   {
    "duration": 334,
    "start_time": "2025-01-30T03:35:46.624Z"
   },
   {
    "duration": 12048,
    "start_time": "2025-01-30T03:35:46.961Z"
   },
   {
    "duration": 728,
    "start_time": "2025-01-30T03:35:59.011Z"
   },
   {
    "duration": 167,
    "start_time": "2025-01-30T03:35:59.741Z"
   },
   {
    "duration": 981,
    "start_time": "2025-01-30T03:36:39.228Z"
   },
   {
    "duration": 15,
    "start_time": "2025-01-30T03:36:40.212Z"
   },
   {
    "duration": 42,
    "start_time": "2025-01-30T03:36:40.228Z"
   },
   {
    "duration": 3,
    "start_time": "2025-01-30T03:36:40.272Z"
   },
   {
    "duration": 3,
    "start_time": "2025-01-30T03:36:40.277Z"
   },
   {
    "duration": 10,
    "start_time": "2025-01-30T03:36:40.282Z"
   },
   {
    "duration": 131,
    "start_time": "2025-01-30T03:36:40.294Z"
   },
   {
    "duration": 8,
    "start_time": "2025-01-30T03:36:40.426Z"
   },
   {
    "duration": 5,
    "start_time": "2025-01-30T03:36:40.435Z"
   },
   {
    "duration": 40,
    "start_time": "2025-01-30T03:36:40.441Z"
   },
   {
    "duration": 3,
    "start_time": "2025-01-30T03:36:40.483Z"
   },
   {
    "duration": 575,
    "start_time": "2025-01-30T03:36:40.488Z"
   },
   {
    "duration": 34,
    "start_time": "2025-01-30T03:36:41.069Z"
   },
   {
    "duration": 36,
    "start_time": "2025-01-30T03:36:41.106Z"
   },
   {
    "duration": 621,
    "start_time": "2025-01-30T03:36:41.143Z"
   },
   {
    "duration": 889,
    "start_time": "2025-01-30T03:36:41.770Z"
   },
   {
    "duration": 328,
    "start_time": "2025-01-30T03:36:42.661Z"
   },
   {
    "duration": 12064,
    "start_time": "2025-01-30T03:36:42.991Z"
   },
   {
    "duration": 725,
    "start_time": "2025-01-30T03:36:55.058Z"
   },
   {
    "duration": 163,
    "start_time": "2025-01-30T03:36:55.784Z"
   },
   {
    "duration": 2254,
    "start_time": "2025-01-30T03:39:32.788Z"
   },
   {
    "duration": 181,
    "start_time": "2025-01-30T03:41:45.099Z"
   },
   {
    "duration": 1005,
    "start_time": "2025-01-30T03:42:29.052Z"
   },
   {
    "duration": 16,
    "start_time": "2025-01-30T03:42:30.059Z"
   },
   {
    "duration": 34,
    "start_time": "2025-01-30T03:42:30.076Z"
   },
   {
    "duration": 4,
    "start_time": "2025-01-30T03:42:30.111Z"
   },
   {
    "duration": 3,
    "start_time": "2025-01-30T03:42:30.119Z"
   },
   {
    "duration": 10,
    "start_time": "2025-01-30T03:42:30.124Z"
   },
   {
    "duration": 137,
    "start_time": "2025-01-30T03:42:30.136Z"
   },
   {
    "duration": 9,
    "start_time": "2025-01-30T03:42:30.274Z"
   },
   {
    "duration": 4,
    "start_time": "2025-01-30T03:42:30.284Z"
   },
   {
    "duration": 27,
    "start_time": "2025-01-30T03:42:30.291Z"
   },
   {
    "duration": 4,
    "start_time": "2025-01-30T03:42:30.321Z"
   },
   {
    "duration": 585,
    "start_time": "2025-01-30T03:42:30.327Z"
   },
   {
    "duration": 34,
    "start_time": "2025-01-30T03:42:30.914Z"
   },
   {
    "duration": 52,
    "start_time": "2025-01-30T03:42:30.951Z"
   },
   {
    "duration": 613,
    "start_time": "2025-01-30T03:42:31.005Z"
   },
   {
    "duration": 872,
    "start_time": "2025-01-30T03:42:31.619Z"
   },
   {
    "duration": 325,
    "start_time": "2025-01-30T03:42:32.493Z"
   },
   {
    "duration": 12051,
    "start_time": "2025-01-30T03:42:32.819Z"
   },
   {
    "duration": 729,
    "start_time": "2025-01-30T03:42:44.871Z"
   },
   {
    "duration": 2297,
    "start_time": "2025-01-30T03:42:45.601Z"
   },
   {
    "duration": 191,
    "start_time": "2025-01-30T03:42:47.899Z"
   },
   {
    "duration": 187,
    "start_time": "2025-01-30T03:42:48.092Z"
   },
   {
    "duration": 157,
    "start_time": "2025-01-30T18:53:20.650Z"
   },
   {
    "duration": 2730,
    "start_time": "2025-01-30T18:53:27.168Z"
   },
   {
    "duration": 27,
    "start_time": "2025-01-30T18:53:29.901Z"
   },
   {
    "duration": 34,
    "start_time": "2025-01-30T18:53:29.929Z"
   },
   {
    "duration": 3,
    "start_time": "2025-01-30T18:53:29.965Z"
   },
   {
    "duration": 4,
    "start_time": "2025-01-30T18:53:29.971Z"
   },
   {
    "duration": 10,
    "start_time": "2025-01-30T18:53:29.977Z"
   },
   {
    "duration": 134,
    "start_time": "2025-01-30T18:53:29.989Z"
   },
   {
    "duration": 8,
    "start_time": "2025-01-30T18:53:30.126Z"
   },
   {
    "duration": 4,
    "start_time": "2025-01-30T18:53:30.136Z"
   },
   {
    "duration": 96,
    "start_time": "2025-01-30T18:53:30.142Z"
   },
   {
    "duration": 4,
    "start_time": "2025-01-30T18:53:30.239Z"
   },
   {
    "duration": 566,
    "start_time": "2025-01-30T18:53:30.244Z"
   },
   {
    "duration": 42,
    "start_time": "2025-01-30T18:53:30.812Z"
   },
   {
    "duration": 35,
    "start_time": "2025-01-30T18:53:30.858Z"
   },
   {
    "duration": 624,
    "start_time": "2025-01-30T18:53:30.895Z"
   },
   {
    "duration": 12,
    "start_time": "2025-01-30T18:53:31.524Z"
   },
   {
    "duration": 326,
    "start_time": "2025-01-30T18:53:31.538Z"
   },
   {
    "duration": 12047,
    "start_time": "2025-01-30T18:53:31.866Z"
   },
   {
    "duration": 728,
    "start_time": "2025-01-30T18:53:43.915Z"
   },
   {
    "duration": 3035,
    "start_time": "2025-01-30T18:53:44.645Z"
   },
   {
    "duration": 201,
    "start_time": "2025-01-30T18:53:47.683Z"
   },
   {
    "duration": 199,
    "start_time": "2025-01-30T18:53:47.887Z"
   },
   {
    "duration": 3009,
    "start_time": "2025-01-30T18:54:41.545Z"
   },
   {
    "duration": 196,
    "start_time": "2025-01-30T18:55:08.438Z"
   },
   {
    "duration": 12,
    "start_time": "2025-01-30T18:57:37.641Z"
   },
   {
    "duration": 913,
    "start_time": "2025-01-30T18:58:14.272Z"
   },
   {
    "duration": 163,
    "start_time": "2025-01-30T18:58:42.718Z"
   }
  ],
  "kernelspec": {
   "display_name": "Python 3 (ipykernel)",
   "language": "python",
   "name": "python3"
  },
  "language_info": {
   "codemirror_mode": {
    "name": "ipython",
    "version": 3
   },
   "file_extension": ".py",
   "mimetype": "text/x-python",
   "name": "python",
   "nbconvert_exporter": "python",
   "pygments_lexer": "ipython3",
   "version": "3.9.19"
  },
  "toc": {
   "base_numbering": 1,
   "nav_menu": {},
   "number_sections": true,
   "sideBar": true,
   "skip_h1_title": true,
   "title_cell": "Table of Contents",
   "title_sidebar": "Contents",
   "toc_cell": false,
   "toc_position": {},
   "toc_section_display": true,
   "toc_window_display": false
  }
 },
 "nbformat": 4,
 "nbformat_minor": 2
}

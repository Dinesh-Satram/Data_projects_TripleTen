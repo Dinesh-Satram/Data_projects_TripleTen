{
 "cells": [
  {
   "cell_type": "markdown",
   "metadata": {},
   "source": [
    "Hello Dinesh!\n",
    "\n",
    "I’m happy to review your project today.\n",
    "I will mark your mistakes and give you some hints how it is possible to fix them. We are getting ready for real job, where your team leader/senior colleague will do exactly the same. Don't worry and study with pleasure!\n",
    "\n",
    "Below you will find my comments - **please do not move, modify or delete them**.\n",
    "\n",
    "You can find my comments in green, yellow or red boxes like this:\n",
    "\n",
    "<div class=\"alert alert-block alert-success\">\n",
    "<b>Reviewer's comment</b> <a class=\"tocSkip\"></a>\n",
    "\n",
    "Success. Everything is done succesfully.\n",
    "</div>\n",
    "\n",
    "<div class=\"alert alert-block alert-warning\">\n",
    "<b>Reviewer's comment</b> <a class=\"tocSkip\"></a>\n",
    "\n",
    "Remarks. Some recommendations.\n",
    "</div>\n",
    "\n",
    "<div class=\"alert alert-block alert-danger\">\n",
    "\n",
    "<b>Reviewer's comment</b> <a class=\"tocSkip\"></a>\n",
    "\n",
    "Needs fixing. The block requires some corrections. Work can't be accepted with the red comments.\n",
    "</div>\n",
    "\n",
    "You can answer me by using this:\n",
    "\n",
    "<div class=\"alert alert-block alert-info\">\n",
    "<b>Student answer.</b> <a class=\"tocSkip\"></a>\n",
    "\n",
    "Text here.\n",
    "</div>"
   ]
  },
  {
   "cell_type": "markdown",
   "metadata": {},
   "source": [
    "# **Used Car Price Prediction with Machine Learning**"
   ]
  },
  {
   "cell_type": "markdown",
   "metadata": {},
   "source": [
    "## Introduction"
   ]
  },
  {
   "cell_type": "markdown",
   "metadata": {},
   "source": [
    "Rusty Bargain used car sales service is developing an app to attract new customers. In that app, you can quickly find out the market value of your car. You have access to historical data: technical specifications, trim versions, and prices. You need to build the model to determine the value. \n",
    "\n",
    "Rusty Bargain is interested in:\n",
    "\n",
    "- the quality of the prediction;\n",
    "- the speed of the prediction;\n",
    "- the time required for training"
   ]
  },
  {
   "cell_type": "markdown",
   "metadata": {},
   "source": [
    "## Import all required Libraries"
   ]
  },
  {
   "cell_type": "code",
   "execution_count": 1,
   "metadata": {},
   "outputs": [],
   "source": [
    "import pandas as pd\n",
    "import numpy as np\n",
    "from sklearn.model_selection import train_test_split\n",
    "import matplotlib.pyplot as plt\n",
    "from sklearn.linear_model import LinearRegression\n",
    "from sklearn.metrics import mean_squared_error\n",
    "from sklearn.tree import DecisionTreeRegressor\n",
    "from sklearn.ensemble import RandomForestRegressor\n",
    "from sklearn.preprocessing import StandardScaler\n",
    "from sklearn.model_selection import RandomizedSearchCV\n",
    "import lightgbm as lgb\n",
    "import xgboost as xgb\n",
    "import time\n",
    "import joblib"
   ]
  },
  {
   "cell_type": "markdown",
   "metadata": {},
   "source": [
    "## Data preparation"
   ]
  },
  {
   "cell_type": "code",
   "execution_count": 2,
   "metadata": {},
   "outputs": [
    {
     "data": {
      "text/html": [
       "<div>\n",
       "<style scoped>\n",
       "    .dataframe tbody tr th:only-of-type {\n",
       "        vertical-align: middle;\n",
       "    }\n",
       "\n",
       "    .dataframe tbody tr th {\n",
       "        vertical-align: top;\n",
       "    }\n",
       "\n",
       "    .dataframe thead th {\n",
       "        text-align: right;\n",
       "    }\n",
       "</style>\n",
       "<table border=\"1\" class=\"dataframe\">\n",
       "  <thead>\n",
       "    <tr style=\"text-align: right;\">\n",
       "      <th></th>\n",
       "      <th>DateCrawled</th>\n",
       "      <th>Price</th>\n",
       "      <th>VehicleType</th>\n",
       "      <th>RegistrationYear</th>\n",
       "      <th>Gearbox</th>\n",
       "      <th>Power</th>\n",
       "      <th>Model</th>\n",
       "      <th>Mileage</th>\n",
       "      <th>RegistrationMonth</th>\n",
       "      <th>FuelType</th>\n",
       "      <th>Brand</th>\n",
       "      <th>NotRepaired</th>\n",
       "      <th>DateCreated</th>\n",
       "      <th>NumberOfPictures</th>\n",
       "      <th>PostalCode</th>\n",
       "      <th>LastSeen</th>\n",
       "    </tr>\n",
       "  </thead>\n",
       "  <tbody>\n",
       "    <tr>\n",
       "      <th>0</th>\n",
       "      <td>24/03/2016 11:52</td>\n",
       "      <td>480</td>\n",
       "      <td>NaN</td>\n",
       "      <td>1993</td>\n",
       "      <td>manual</td>\n",
       "      <td>0</td>\n",
       "      <td>golf</td>\n",
       "      <td>150000</td>\n",
       "      <td>0</td>\n",
       "      <td>petrol</td>\n",
       "      <td>volkswagen</td>\n",
       "      <td>NaN</td>\n",
       "      <td>24/03/2016 00:00</td>\n",
       "      <td>0</td>\n",
       "      <td>70435</td>\n",
       "      <td>07/04/2016 03:16</td>\n",
       "    </tr>\n",
       "    <tr>\n",
       "      <th>1</th>\n",
       "      <td>24/03/2016 10:58</td>\n",
       "      <td>18300</td>\n",
       "      <td>coupe</td>\n",
       "      <td>2011</td>\n",
       "      <td>manual</td>\n",
       "      <td>190</td>\n",
       "      <td>NaN</td>\n",
       "      <td>125000</td>\n",
       "      <td>5</td>\n",
       "      <td>gasoline</td>\n",
       "      <td>audi</td>\n",
       "      <td>yes</td>\n",
       "      <td>24/03/2016 00:00</td>\n",
       "      <td>0</td>\n",
       "      <td>66954</td>\n",
       "      <td>07/04/2016 01:46</td>\n",
       "    </tr>\n",
       "    <tr>\n",
       "      <th>2</th>\n",
       "      <td>14/03/2016 12:52</td>\n",
       "      <td>9800</td>\n",
       "      <td>suv</td>\n",
       "      <td>2004</td>\n",
       "      <td>auto</td>\n",
       "      <td>163</td>\n",
       "      <td>grand</td>\n",
       "      <td>125000</td>\n",
       "      <td>8</td>\n",
       "      <td>gasoline</td>\n",
       "      <td>jeep</td>\n",
       "      <td>NaN</td>\n",
       "      <td>14/03/2016 00:00</td>\n",
       "      <td>0</td>\n",
       "      <td>90480</td>\n",
       "      <td>05/04/2016 12:47</td>\n",
       "    </tr>\n",
       "    <tr>\n",
       "      <th>3</th>\n",
       "      <td>17/03/2016 16:54</td>\n",
       "      <td>1500</td>\n",
       "      <td>small</td>\n",
       "      <td>2001</td>\n",
       "      <td>manual</td>\n",
       "      <td>75</td>\n",
       "      <td>golf</td>\n",
       "      <td>150000</td>\n",
       "      <td>6</td>\n",
       "      <td>petrol</td>\n",
       "      <td>volkswagen</td>\n",
       "      <td>no</td>\n",
       "      <td>17/03/2016 00:00</td>\n",
       "      <td>0</td>\n",
       "      <td>91074</td>\n",
       "      <td>17/03/2016 17:40</td>\n",
       "    </tr>\n",
       "    <tr>\n",
       "      <th>4</th>\n",
       "      <td>31/03/2016 17:25</td>\n",
       "      <td>3600</td>\n",
       "      <td>small</td>\n",
       "      <td>2008</td>\n",
       "      <td>manual</td>\n",
       "      <td>69</td>\n",
       "      <td>fabia</td>\n",
       "      <td>90000</td>\n",
       "      <td>7</td>\n",
       "      <td>gasoline</td>\n",
       "      <td>skoda</td>\n",
       "      <td>no</td>\n",
       "      <td>31/03/2016 00:00</td>\n",
       "      <td>0</td>\n",
       "      <td>60437</td>\n",
       "      <td>06/04/2016 10:17</td>\n",
       "    </tr>\n",
       "  </tbody>\n",
       "</table>\n",
       "</div>"
      ],
      "text/plain": [
       "        DateCrawled  Price VehicleType  RegistrationYear Gearbox  Power  \\\n",
       "0  24/03/2016 11:52    480         NaN              1993  manual      0   \n",
       "1  24/03/2016 10:58  18300       coupe              2011  manual    190   \n",
       "2  14/03/2016 12:52   9800         suv              2004    auto    163   \n",
       "3  17/03/2016 16:54   1500       small              2001  manual     75   \n",
       "4  31/03/2016 17:25   3600       small              2008  manual     69   \n",
       "\n",
       "   Model  Mileage  RegistrationMonth  FuelType       Brand NotRepaired  \\\n",
       "0   golf   150000                  0    petrol  volkswagen         NaN   \n",
       "1    NaN   125000                  5  gasoline        audi         yes   \n",
       "2  grand   125000                  8  gasoline        jeep         NaN   \n",
       "3   golf   150000                  6    petrol  volkswagen          no   \n",
       "4  fabia    90000                  7  gasoline       skoda          no   \n",
       "\n",
       "        DateCreated  NumberOfPictures  PostalCode          LastSeen  \n",
       "0  24/03/2016 00:00                 0       70435  07/04/2016 03:16  \n",
       "1  24/03/2016 00:00                 0       66954  07/04/2016 01:46  \n",
       "2  14/03/2016 00:00                 0       90480  05/04/2016 12:47  \n",
       "3  17/03/2016 00:00                 0       91074  17/03/2016 17:40  \n",
       "4  31/03/2016 00:00                 0       60437  06/04/2016 10:17  "
      ]
     },
     "execution_count": 2,
     "metadata": {},
     "output_type": "execute_result"
    }
   ],
   "source": [
    "# Load dataset\n",
    "df = pd.read_csv('/datasets/car_data.csv')\n",
    "\n",
    "# Display first few rows\n",
    "df.head()"
   ]
  },
  {
   "cell_type": "code",
   "execution_count": 3,
   "metadata": {},
   "outputs": [
    {
     "name": "stdout",
     "output_type": "stream",
     "text": [
      "<class 'pandas.core.frame.DataFrame'>\n",
      "RangeIndex: 354369 entries, 0 to 354368\n",
      "Data columns (total 16 columns):\n",
      " #   Column             Non-Null Count   Dtype \n",
      "---  ------             --------------   ----- \n",
      " 0   DateCrawled        354369 non-null  object\n",
      " 1   Price              354369 non-null  int64 \n",
      " 2   VehicleType        316879 non-null  object\n",
      " 3   RegistrationYear   354369 non-null  int64 \n",
      " 4   Gearbox            334536 non-null  object\n",
      " 5   Power              354369 non-null  int64 \n",
      " 6   Model              334664 non-null  object\n",
      " 7   Mileage            354369 non-null  int64 \n",
      " 8   RegistrationMonth  354369 non-null  int64 \n",
      " 9   FuelType           321474 non-null  object\n",
      " 10  Brand              354369 non-null  object\n",
      " 11  NotRepaired        283215 non-null  object\n",
      " 12  DateCreated        354369 non-null  object\n",
      " 13  NumberOfPictures   354369 non-null  int64 \n",
      " 14  PostalCode         354369 non-null  int64 \n",
      " 15  LastSeen           354369 non-null  object\n",
      "dtypes: int64(7), object(9)\n",
      "memory usage: 43.3+ MB\n"
     ]
    }
   ],
   "source": [
    "# Get dataset info\n",
    "df.info()\n"
   ]
  },
  {
   "cell_type": "markdown",
   "metadata": {},
   "source": [
    "### Dealing with Duplicate rows"
   ]
  },
  {
   "cell_type": "code",
   "execution_count": 4,
   "metadata": {},
   "outputs": [
    {
     "name": "stdout",
     "output_type": "stream",
     "text": [
      "Number of duplicate rows (before dropping columns): 262\n",
      "Dataset shape after removing true duplicates: (354107, 16)\n"
     ]
    }
   ],
   "source": [
    "# Count duplicate rows in the full dataset (before removing any columns)\n",
    "duplicate_count_full = df.duplicated().sum()\n",
    "print(f\"Number of duplicate rows (before dropping columns): {duplicate_count_full}\")\n",
    "\n",
    "# Remove true duplicates\n",
    "df = df.drop_duplicates()\n",
    "\n",
    "# Verify removal\n",
    "print(f\"Dataset shape after removing true duplicates: {df.shape}\")\n"
   ]
  },
  {
   "cell_type": "code",
   "execution_count": 5,
   "metadata": {},
   "outputs": [
    {
     "name": "stdout",
     "output_type": "stream",
     "text": [
      "<class 'pandas.core.frame.DataFrame'>\n",
      "Int64Index: 354107 entries, 0 to 354368\n",
      "Data columns (total 11 columns):\n",
      " #   Column             Non-Null Count   Dtype \n",
      "---  ------             --------------   ----- \n",
      " 0   Price              354107 non-null  int64 \n",
      " 1   VehicleType        316623 non-null  object\n",
      " 2   RegistrationYear   354107 non-null  int64 \n",
      " 3   Gearbox            334277 non-null  object\n",
      " 4   Power              354107 non-null  int64 \n",
      " 5   Model              334406 non-null  object\n",
      " 6   Mileage            354107 non-null  int64 \n",
      " 7   RegistrationMonth  354107 non-null  int64 \n",
      " 8   FuelType           321218 non-null  object\n",
      " 9   Brand              354107 non-null  object\n",
      " 10  NotRepaired        282962 non-null  object\n",
      "dtypes: int64(5), object(6)\n",
      "memory usage: 32.4+ MB\n"
     ]
    }
   ],
   "source": [
    "# Drop columns that are not useful for price prediction\n",
    "df = df.drop(columns=['DateCrawled', 'DateCreated', 'LastSeen', 'NumberOfPictures', 'PostalCode'])\n",
    "\n",
    "# Display the new structure of the dataset\n",
    "df.info()\n"
   ]
  },
  {
   "cell_type": "markdown",
   "metadata": {},
   "source": [
    "### Dealing Missing Values"
   ]
  },
  {
   "cell_type": "code",
   "execution_count": 6,
   "metadata": {},
   "outputs": [
    {
     "data": {
      "text/plain": [
       "Price                    0\n",
       "VehicleType          37484\n",
       "RegistrationYear         0\n",
       "Gearbox              19830\n",
       "Power                    0\n",
       "Model                19701\n",
       "Mileage                  0\n",
       "RegistrationMonth        0\n",
       "FuelType             32889\n",
       "Brand                    0\n",
       "NotRepaired          71145\n",
       "dtype: int64"
      ]
     },
     "execution_count": 6,
     "metadata": {},
     "output_type": "execute_result"
    }
   ],
   "source": [
    "# Count missing values in each column\n",
    "df.isnull().sum()\n"
   ]
  },
  {
   "cell_type": "code",
   "execution_count": 7,
   "metadata": {},
   "outputs": [
    {
     "name": "stdout",
     "output_type": "stream",
     "text": [
      "Price                0\n",
      "VehicleType          0\n",
      "RegistrationYear     0\n",
      "Gearbox              0\n",
      "Power                0\n",
      "Model                0\n",
      "Mileage              0\n",
      "RegistrationMonth    0\n",
      "FuelType             0\n",
      "Brand                0\n",
      "NotRepaired          0\n",
      "dtype: int64\n"
     ]
    }
   ],
   "source": [
    "# Fill missing values in categorical features with \"unknown\"\n",
    "categorical_features = ['VehicleType', 'Gearbox', 'Model', 'FuelType', 'NotRepaired']\n",
    "df[categorical_features] = df[categorical_features].fillna('unknown')\n",
    "\n",
    "# Check if there are any missing values left\n",
    "print(df.isnull().sum())\n"
   ]
  },
  {
   "cell_type": "markdown",
   "metadata": {},
   "source": [
    "### Dealing with Anomalies"
   ]
  },
  {
   "cell_type": "code",
   "execution_count": 8,
   "metadata": {},
   "outputs": [
    {
     "name": "stdout",
     "output_type": "stream",
     "text": [
      "Unique RegistrationYear values: [1000, 1001, 1039, 1111, 1200, 1234, 1253, 1255, 1300, 1400, 1500, 1600, 1602, 1688, 1800, 1910, 1915, 1919, 1920, 1923, 1925, 1927, 1928, 1929, 1930, 1931, 1932, 1933, 1934, 1935, 1936, 1937, 1938, 1940, 1941, 1942, 1943, 1944, 1945, 1946, 1947, 1948, 1949, 1950, 1951, 1952, 1953, 1954, 1955, 1956, 1957, 1958, 1959, 1960, 1961, 1962, 1963, 1964, 1965, 1966, 1967, 1968, 1969, 1970, 1971, 1972, 1973, 1974, 1975, 1976, 1977, 1978, 1979, 1980, 1981, 1982, 1983, 1984, 1985, 1986, 1987, 1988, 1989, 1990, 1991, 1992, 1993, 1994, 1995, 1996, 1997, 1998, 1999, 2000, 2001, 2002, 2003, 2004, 2005, 2006, 2007, 2008, 2009, 2010, 2011, 2012, 2013, 2014, 2015, 2016, 2017, 2018, 2019, 2066, 2200, 2222, 2290, 2500, 2800, 2900, 3000, 3200, 3500, 3700, 3800, 4000, 4100, 4500, 4800, 5000, 5300, 5555, 5600, 5900, 5911, 6000, 6500, 7000, 7100, 7500, 7800, 8000, 8200, 8455, 8500, 8888, 9000, 9229, 9450, 9996, 9999]\n",
      "Power column statistics:\n",
      "count    354107.000000\n",
      "mean        110.089651\n",
      "std         189.914972\n",
      "min           0.000000\n",
      "25%          69.000000\n",
      "50%         105.000000\n",
      "75%         143.000000\n",
      "max       20000.000000\n",
      "Name: Power, dtype: float64\n",
      "Price column statistics:\n",
      "count    354107.000000\n",
      "mean       4416.433287\n",
      "std        4514.338584\n",
      "min           0.000000\n",
      "25%        1050.000000\n",
      "50%        2700.000000\n",
      "75%        6400.000000\n",
      "max       20000.000000\n",
      "Name: Price, dtype: float64\n",
      "Number of cars with price 0: 10770\n",
      "Number of cars with Power 0: 40218\n"
     ]
    }
   ],
   "source": [
    "# Check unique values in RegistrationYear\n",
    "print(\"Unique RegistrationYear values:\", sorted(df['RegistrationYear'].unique()))\n",
    "\n",
    "# Check Power column distribution\n",
    "print(\"Power column statistics:\")\n",
    "print(df['Power'].describe())\n",
    "\n",
    "# Check Price column distribution\n",
    "print(\"Price column statistics:\")\n",
    "print(df['Price'].describe())\n",
    "\n",
    "# Check if there are vehicles with 0 Price\n",
    "print(\"Number of cars with price 0:\", (df['Price'] == 0).sum())\n",
    "\n",
    "# Check if there are vehicles with Power 0\n",
    "print(\"Number of cars with Power 0:\", (df['Power'] == 0).sum())\n"
   ]
  },
  {
   "cell_type": "markdown",
   "metadata": {},
   "source": [
    "**RegistrationYear Anomalies :**\n",
    "\n",
    "Some values are impossible (e.g., 1000, 9999, 3000, etc.).\n",
    "Realistic car registration years should be within a reasonable range.\n",
    "We should keep cars registered between 1910 and 2019 (assuming the dataset was collected in 2019)."
   ]
  },
  {
   "cell_type": "code",
   "execution_count": 9,
   "metadata": {},
   "outputs": [
    {
     "name": "stdout",
     "output_type": "stream",
     "text": [
      "Filtered RegistrationYear values: [1910, 1915, 1919, 1920, 1923, 1925, 1927, 1928, 1929, 1930, 1931, 1932, 1933, 1934, 1935, 1936, 1937, 1938, 1940, 1941, 1942, 1943, 1944, 1945, 1946, 1947, 1948, 1949, 1950, 1951, 1952, 1953, 1954, 1955, 1956, 1957, 1958, 1959, 1960, 1961, 1962, 1963, 1964, 1965, 1966, 1967, 1968, 1969, 1970, 1971, 1972, 1973, 1974, 1975, 1976, 1977, 1978, 1979, 1980, 1981, 1982, 1983, 1984, 1985, 1986, 1987, 1988, 1989, 1990, 1991, 1992, 1993, 1994, 1995, 1996, 1997, 1998, 1999, 2000, 2001, 2002, 2003, 2004, 2005, 2006, 2007, 2008, 2009, 2010, 2011, 2012, 2013, 2014, 2015, 2016, 2017, 2018, 2019]\n"
     ]
    }
   ],
   "source": [
    "# Keep only cars registered between 1910 and 2019\n",
    "df = df[(df['RegistrationYear'] >= 1910) & (df['RegistrationYear'] <= 2019)]\n",
    "\n",
    "# Check unique values again\n",
    "print(\"Filtered RegistrationYear values:\", sorted(df['RegistrationYear'].unique()))\n"
   ]
  },
  {
   "cell_type": "markdown",
   "metadata": {},
   "source": [
    "**Power Anomalies :**\n",
    "\n",
    "Power = 0 for 40,225 cars → unrealistic for a working vehicle.\n",
    "Max Power = 20,000 hp → extremely high, likely incorrect.\n",
    "We should filter Power between 10 hp and 500 hp (most cars fall within this range).\n"
   ]
  },
  {
   "cell_type": "code",
   "execution_count": 10,
   "metadata": {},
   "outputs": [
    {
     "name": "stdout",
     "output_type": "stream",
     "text": [
      "Filtered Power column statistics:\n",
      "count    313178.000000\n",
      "mean        120.105566\n",
      "std          53.421311\n",
      "min          10.000000\n",
      "25%          75.000000\n",
      "50%         110.000000\n",
      "75%         150.000000\n",
      "max         500.000000\n",
      "Name: Power, dtype: float64\n"
     ]
    }
   ],
   "source": [
    "# Keep cars with Power between 10 and 500 hp\n",
    "df = df[(df['Power'] >= 10) & (df['Power'] <= 500)]\n",
    "\n",
    "# Check new Power stats\n",
    "print(\"Filtered Power column statistics:\")\n",
    "print(df['Power'].describe())\n"
   ]
  },
  {
   "cell_type": "markdown",
   "metadata": {},
   "source": [
    "**Price Anomalies :**\n",
    "\n",
    "Price = 0 for 10,772 cars → usually means missing or irrelevant.\n",
    "Most cars should have a minimum price of around 500 EUR.\n",
    "We should filter Price between 500 and 20,000 EUR."
   ]
  },
  {
   "cell_type": "code",
   "execution_count": 11,
   "metadata": {},
   "outputs": [
    {
     "name": "stdout",
     "output_type": "stream",
     "text": [
      "Filtered Price column statistics:\n",
      "count    288808.000000\n",
      "mean       5084.720489\n",
      "std        4581.664740\n",
      "min         500.000000\n",
      "25%        1500.000000\n",
      "50%        3499.000000\n",
      "75%        7250.000000\n",
      "max       20000.000000\n",
      "Name: Price, dtype: float64\n"
     ]
    }
   ],
   "source": [
    "# Keep cars with Price between 500 and 20,000 EUR\n",
    "df = df[(df['Price'] >= 500) & (df['Price'] <= 20000)]\n",
    "\n",
    "# Check new Price stats\n",
    "print(\"Filtered Price column statistics:\")\n",
    "print(df['Price'].describe())\n"
   ]
  },
  {
   "cell_type": "markdown",
   "metadata": {},
   "source": [
    "<div class=\"alert alert-block alert-success\">\n",
    "<b>Reviewer's comment V1</b> <a class=\"tocSkip\"></a>\n",
    "\n",
    "Everything is correct. Good job!\n",
    "  \n",
    "</div>"
   ]
  },
  {
   "cell_type": "markdown",
   "metadata": {},
   "source": [
    "**our dataset is cleaned and ready for feature encoding and model preparation.**"
   ]
  },
  {
   "cell_type": "markdown",
   "metadata": {},
   "source": [
    "<div class=\"alert alert-block alert-danger\">\n",
    "<b>Reviewer's comment V1</b> <a class=\"tocSkip\"></a>\n",
    "\n",
    "You need to check for duplicates before you dropped several columns. Why? Can several identical cars be sold at different times in different areas? Of course they can. Cars are not unique. Once you remove some of the columns, you can't know if they are two different but identical cars or if they are true duplicate ads. So, please, fix it and remove the true duplicates.\n",
    "  \n",
    "</div>"
   ]
  },
  {
   "cell_type": "markdown",
   "metadata": {},
   "source": [
    "<div class=\"alert alert-block alert-success\">\n",
    "<b>Reviewer's comment V2</b> <a class=\"tocSkip\"></a>\n",
    "\n",
    "Fixed\n",
    "  \n",
    "</div>"
   ]
  },
  {
   "cell_type": "markdown",
   "metadata": {},
   "source": [
    "### Feature Encoding"
   ]
  },
  {
   "cell_type": "code",
   "execution_count": 12,
   "metadata": {},
   "outputs": [
    {
     "name": "stdout",
     "output_type": "stream",
     "text": [
      "Categorical Columns: Index(['VehicleType', 'Gearbox', 'Model', 'FuelType', 'Brand', 'NotRepaired'], dtype='object')\n"
     ]
    }
   ],
   "source": [
    "# Find categorical columns\n",
    "categorical_columns = df.select_dtypes(include=['object']).columns\n",
    "print(\"Categorical Columns:\", categorical_columns)\n"
   ]
  },
  {
   "cell_type": "code",
   "execution_count": 13,
   "metadata": {},
   "outputs": [
    {
     "name": "stdout",
     "output_type": "stream",
     "text": [
      "Dataset shape after One-Hot Encoding: (288808, 312)\n"
     ]
    }
   ],
   "source": [
    "# Perform One-Hot Encoding\n",
    "df_ohe = pd.get_dummies(df, columns=categorical_columns, drop_first=True)\n",
    "\n",
    "# Display the new dataset shape\n",
    "print(\"Dataset shape after One-Hot Encoding:\", df_ohe.shape)\n"
   ]
  },
  {
   "cell_type": "code",
   "execution_count": 14,
   "metadata": {},
   "outputs": [],
   "source": [
    "# Create a separate dataset where categorical features remain unchanged (for CatBoost and LightGBM)\n",
    "df_catboost = df.copy()\n"
   ]
  },
  {
   "cell_type": "markdown",
   "metadata": {},
   "source": [
    "We removed irrelevant columns such as timestamps and postal codes. Next, we handled missing values in categorical columns by filling them with \"unknown\". To clean numerical data, we filtered out unrealistic values—keeping only cars registered between 1910 and 2019, with Power between 10 and 500 hp, and Price between 500 and 20,000 EUR. After that, we checked for and removed duplicate rows to ensure data consistency. Finally, we prepared two datasets: one with One-Hot Encoding (OHE) for models like Linear Regression and Random Forest, and another retaining categorical features for models like CatBoost and LightGBM. Now, the data is clean and ready for splitting and model training."
   ]
  },
  {
   "cell_type": "markdown",
   "metadata": {},
   "source": [
    "<div class=\"alert alert-block alert-success\">\n",
    "<b>Reviewer's comment V1</b> <a class=\"tocSkip\"></a>\n",
    "\n",
    "Well done!\n",
    "  \n",
    "</div>"
   ]
  },
  {
   "cell_type": "markdown",
   "metadata": {},
   "source": [
    "## Model training"
   ]
  },
  {
   "cell_type": "markdown",
   "metadata": {},
   "source": [
    "### Split data for models requiring numerical input (OHE dataset)"
   ]
  },
  {
   "cell_type": "code",
   "execution_count": 15,
   "metadata": {},
   "outputs": [
    {
     "name": "stdout",
     "output_type": "stream",
     "text": [
      "Training set shape: (216606, 311) (216606,)\n",
      "Validation set shape: (72202, 311) (72202,)\n"
     ]
    }
   ],
   "source": [
    "# Define features and target\n",
    "X = df_ohe.drop(columns=['Price'])  # Features\n",
    "y = df_ohe['Price']  # Target variable\n",
    "\n",
    "# Split into training and validation sets (75% train, 25% test)\n",
    "X_train, X_valid, y_train, y_valid = train_test_split(X, y, test_size=0.25, random_state=42)\n",
    "\n",
    "# Display dataset shapes\n",
    "print(\"Training set shape:\", X_train.shape, y_train.shape)\n",
    "print(\"Validation set shape:\", X_valid.shape, y_valid.shape)\n"
   ]
  },
  {
   "cell_type": "markdown",
   "metadata": {},
   "source": [
    "### Split data for models that support categorical features (LightGBM & CatBoost)"
   ]
  },
  {
   "cell_type": "code",
   "execution_count": 16,
   "metadata": {},
   "outputs": [
    {
     "name": "stdout",
     "output_type": "stream",
     "text": [
      "Training set shape (CatBoost/LightGBM): (216606, 10) (216606,)\n",
      "Validation set shape (CatBoost/LightGBM): (72202, 10) (72202,)\n"
     ]
    }
   ],
   "source": [
    "# Define features and target for categorical dataset\n",
    "X_cat = df_catboost.drop(columns=['Price'])\n",
    "y_cat = df_catboost['Price']\n",
    "\n",
    "# Split into training and validation sets\n",
    "X_train_cat, X_valid_cat, y_train_cat, y_valid_cat = train_test_split(X_cat, y_cat, test_size=0.25, random_state=42)\n",
    "\n",
    "# Display dataset shapes\n",
    "print(\"Training set shape (CatBoost/LightGBM):\", X_train_cat.shape, y_train_cat.shape)\n",
    "print(\"Validation set shape (CatBoost/LightGBM):\", X_valid_cat.shape, y_valid_cat.shape)\n"
   ]
  },
  {
   "cell_type": "code",
   "execution_count": 17,
   "metadata": {},
   "outputs": [
    {
     "name": "stdout",
     "output_type": "stream",
     "text": [
      "Unused variables deleted to free memory.\n"
     ]
    }
   ],
   "source": [
    "# Free memory before model training\n",
    "del df_ohe, df_catboost\n",
    "del categorical_columns\n",
    "print(\"Unused variables deleted to free memory.\")"
   ]
  },
  {
   "cell_type": "markdown",
   "metadata": {},
   "source": [
    "<div class=\"alert alert-block alert-success\">\n",
    "<b>Reviewer's comment V1</b> <a class=\"tocSkip\"></a>\n",
    "\n",
    "Correct\n",
    "  \n",
    "</div>"
   ]
  },
  {
   "cell_type": "markdown",
   "metadata": {},
   "source": [
    "### Scale Quantitative Features for Linear Regression"
   ]
  },
  {
   "cell_type": "code",
   "execution_count": 18,
   "metadata": {},
   "outputs": [
    {
     "name": "stdout",
     "output_type": "stream",
     "text": [
      "Numerical features scaled successfully!\n"
     ]
    }
   ],
   "source": [
    "# Identify numerical (quantitative) features\n",
    "numerical_features = X_train.select_dtypes(include=['int64', 'float64']).columns\n",
    "\n",
    "# Initialize scaler\n",
    "scaler = StandardScaler()\n",
    "\n",
    "# Scale only numerical features\n",
    "X_train_scaled = X_train.copy()\n",
    "X_valid_scaled = X_valid.copy()\n",
    "\n",
    "X_train_scaled[numerical_features] = scaler.fit_transform(X_train[numerical_features])\n",
    "X_valid_scaled[numerical_features] = scaler.transform(X_valid[numerical_features])\n",
    "\n",
    "print(\"Numerical features scaled successfully!\")\n"
   ]
  },
  {
   "cell_type": "markdown",
   "metadata": {},
   "source": [
    "### Train a Linear Regression Model (Baseline Check)"
   ]
  },
  {
   "cell_type": "code",
   "execution_count": 19,
   "metadata": {},
   "outputs": [
    {
     "name": "stdout",
     "output_type": "stream",
     "text": [
      "Linear Regression RMSE: 2586.64\n",
      "Training Time: 8.99 sec\n",
      "Prediction Time: 0.1034 sec\n"
     ]
    }
   ],
   "source": [
    "# Initialize model\n",
    "lr_model = LinearRegression()\n",
    "\n",
    "# Measure training time\n",
    "start_train = time.time()\n",
    "lr_model.fit(X_train_scaled, y_train)\n",
    "end_train = time.time()\n",
    "train_time = end_train - start_train\n",
    "\n",
    "# Measure prediction time\n",
    "start_pred = time.time()\n",
    "lr_preds = lr_model.predict(X_valid_scaled)\n",
    "end_pred = time.time()\n",
    "pred_time = end_pred - start_pred\n",
    "\n",
    "# Calculate RMSE\n",
    "lr_rmse = np.sqrt(mean_squared_error(y_valid, lr_preds))\n",
    "\n",
    "# Print results\n",
    "print(f\"Linear Regression RMSE: {lr_rmse:.2f}\")\n",
    "print(f\"Training Time: {train_time:.2f} sec\")\n",
    "print(f\"Prediction Time: {pred_time:.4f} sec\")"
   ]
  },
  {
   "cell_type": "markdown",
   "metadata": {},
   "source": [
    "<div class=\"alert alert-block alert-danger\">\n",
    "<b>Reviewer's comment V1</b> <a class=\"tocSkip\"></a>\n",
    "\n",
    "If you're going to use any linear model, all quantitative features should be scaled. Not all features but only quantitative features. One hot encoded features should not be scaled because they have a perfect scale by default and additional scaling only ruins it. So, please, fix it.\n",
    "  \n",
    "</div>"
   ]
  },
  {
   "cell_type": "markdown",
   "metadata": {},
   "source": [
    "<div class=\"alert alert-block alert-warning\">\n",
    "<b>Reviewer's comment V2</b> <a class=\"tocSkip\"></a>\n",
    "\n",
    "Please, read my comment carefully: \"One hot encoded features should not be scaled because they have a perfect scale by default and additional scaling only ruins it.\". But you scaled all the features including all the one hot encoded ones. Why? Because one hot encoded features have integer type.\n",
    "  \n",
    "</div>"
   ]
  },
  {
   "cell_type": "markdown",
   "metadata": {},
   "source": [
    "### Train a Decision Tree Regressor"
   ]
  },
  {
   "cell_type": "code",
   "execution_count": 20,
   "metadata": {},
   "outputs": [
    {
     "name": "stdout",
     "output_type": "stream",
     "text": [
      "Decision Tree RMSE: 1992.44\n",
      "Training Time: 2.74 sec\n",
      "Prediction Time: 0.0540 sec\n"
     ]
    }
   ],
   "source": [
    "# Initialize model\n",
    "dt_model = DecisionTreeRegressor(random_state=42, max_depth=10)\n",
    "\n",
    "# Measure training time\n",
    "start_train = time.time()\n",
    "dt_model.fit(X_train, y_train)\n",
    "end_train = time.time()\n",
    "train_time = end_train - start_train\n",
    "\n",
    "# Measure prediction time\n",
    "start_pred = time.time()\n",
    "dt_preds = dt_model.predict(X_valid)\n",
    "end_pred = time.time()\n",
    "pred_time = end_pred - start_pred\n",
    "\n",
    "# Calculate RMSE\n",
    "dt_rmse = np.sqrt(mean_squared_error(y_valid, dt_preds))\n",
    "\n",
    "# Print results\n",
    "print(f\"Decision Tree RMSE: {dt_rmse:.2f}\")\n",
    "print(f\"Training Time: {train_time:.2f} sec\")\n",
    "print(f\"Prediction Time: {pred_time:.4f} sec\")"
   ]
  },
  {
   "cell_type": "markdown",
   "metadata": {},
   "source": [
    "### Train a Random Forest Regressor"
   ]
  },
  {
   "cell_type": "code",
   "execution_count": 21,
   "metadata": {},
   "outputs": [
    {
     "name": "stdout",
     "output_type": "stream",
     "text": [
      "Random Forest RMSE: 1677.16\n",
      "Training Time: 209.70 sec\n",
      "Prediction Time: 0.9948 sec\n"
     ]
    }
   ],
   "source": [
    "# Initialize model\n",
    "rf_model = RandomForestRegressor(n_estimators=100, max_depth=15, min_samples_split=5, random_state=42, n_jobs=-1)\n",
    "\n",
    "# Measure training time\n",
    "start_train = time.time()\n",
    "rf_model.fit(X_train, y_train)\n",
    "end_train = time.time()\n",
    "train_time = end_train - start_train\n",
    "\n",
    "# Measure prediction time\n",
    "start_pred = time.time()\n",
    "rf_preds = rf_model.predict(X_valid)\n",
    "end_pred = time.time()\n",
    "pred_time = end_pred - start_pred\n",
    "\n",
    "# Calculate RMSE\n",
    "rf_rmse = np.sqrt(mean_squared_error(y_valid, rf_preds))\n",
    "\n",
    "# Print results\n",
    "print(f\"Random Forest RMSE: {rf_rmse:.2f}\")\n",
    "print(f\"Training Time: {train_time:.2f} sec\")\n",
    "print(f\"Prediction Time: {pred_time:.4f} sec\")"
   ]
  },
  {
   "cell_type": "markdown",
   "metadata": {},
   "source": [
    "## Train Gradient Boosting Models"
   ]
  },
  {
   "cell_type": "code",
   "execution_count": 22,
   "metadata": {},
   "outputs": [
    {
     "name": "stdout",
     "output_type": "stream",
     "text": [
      "Available categorical columns: ['VehicleType', 'Gearbox', 'Model', 'FuelType', 'Brand', 'NotRepaired']\n"
     ]
    },
    {
     "name": "stderr",
     "output_type": "stream",
     "text": [
      "/opt/conda/envs/python3/lib/python3.9/site-packages/pandas/core/indexing.py:1676: SettingWithCopyWarning: \n",
      "A value is trying to be set on a copy of a slice from a DataFrame.\n",
      "Try using .loc[row_indexer,col_indexer] = value instead\n",
      "\n",
      "See the caveats in the documentation: https://pandas.pydata.org/pandas-docs/stable/user_guide/indexing.html#returning-a-view-versus-a-copy\n",
      "  self._setitem_single_column(ilocs[0], value, pi)\n"
     ]
    },
    {
     "name": "stdout",
     "output_type": "stream",
     "text": [
      "LightGBM RMSE: 1630.34\n",
      "Training Time: 229.25 sec\n",
      "Prediction Time: 0.5165 sec\n"
     ]
    }
   ],
   "source": [
    "# Identify available categorical columns\n",
    "available_categorical_cols = X_train_cat.select_dtypes(include=['object']).columns.tolist()\n",
    "print(\"Available categorical columns:\", available_categorical_cols)\n",
    "\n",
    "# Convert categorical columns to 'category' dtype using .loc\n",
    "for col in available_categorical_cols:\n",
    "    X_train_cat.loc[:, col] = X_train_cat[col].astype('category')\n",
    "    X_valid_cat.loc[:, col] = X_valid_cat[col].astype('category')\n",
    "\n",
    "# Initialize model\n",
    "lgb_model = lgb.LGBMRegressor(n_estimators=100, learning_rate=0.1, max_depth=7, random_state=42)\n",
    "\n",
    "# Measure training time\n",
    "start_train = time.time()\n",
    "lgb_model.fit(X_train_cat, y_train_cat)\n",
    "end_train = time.time()\n",
    "train_time = end_train - start_train\n",
    "\n",
    "# Measure prediction time\n",
    "start_pred = time.time()\n",
    "lgb_preds = lgb_model.predict(X_valid_cat)\n",
    "end_pred = time.time()\n",
    "pred_time = end_pred - start_pred\n",
    "\n",
    "# Calculate RMSE\n",
    "lgb_rmse = np.sqrt(mean_squared_error(y_valid_cat, lgb_preds))\n",
    "\n",
    "# Print results\n",
    "print(f\"LightGBM RMSE: {lgb_rmse:.2f}\")\n",
    "print(f\"Training Time: {train_time:.2f} sec\")\n",
    "print(f\"Prediction Time: {pred_time:.4f} sec\")"
   ]
  },
  {
   "cell_type": "markdown",
   "metadata": {},
   "source": [
    "This suggests that the categorical columns were already encoded or removed during preprocessing.\n",
    "\n",
    "**LightGBM RMSE: 1714.88**\n",
    "This is slightly worse than Random Forest RMSE (1706.82) but still competitive.\n",
    "We should compare it with CatBoost or XGBoost before selecting the best model."
   ]
  },
  {
   "cell_type": "markdown",
   "metadata": {},
   "source": [
    "### Hyperparameter Tuning for XGBoost"
   ]
  },
  {
   "cell_type": "code",
   "execution_count": 23,
   "metadata": {},
   "outputs": [
    {
     "name": "stdout",
     "output_type": "stream",
     "text": [
      "Best hyperparameters: {'subsample': 1.0, 'n_estimators': 100, 'max_depth': 5, 'learning_rate': 0.1, 'colsample_bytree': 0.8}\n"
     ]
    }
   ],
   "source": [
    "# Define a hyperparameter grid\n",
    "param_grid = {\n",
    "    'n_estimators': [50, 100],  # range\n",
    "    'learning_rate': [0.05, 0.1],  # Key parameter\n",
    "    'max_depth': [3, 5],  # depth values for training\n",
    "    'subsample': [0.8, 1.0],  # Keep a few subsample values\n",
    "    'colsample_bytree': [0.8, 1.0]  # choices\n",
    "}\n",
    "\n",
    "# Initialize XGBoost model\n",
    "xgb_model = xgb.XGBRegressor(random_state=42, n_jobs=-1)  # Use all CPU cores\n",
    "\n",
    "# Initialize RandomizedSearchCV with optimized parameters\n",
    "random_search = RandomizedSearchCV(\n",
    "    estimator=xgb_model,\n",
    "    param_distributions=param_grid,\n",
    "    n_iter=3,  # Fewer iterations for faster tuning\n",
    "    scoring='neg_root_mean_squared_error',\n",
    "    cv=2,  # Reduce cross-validation folds to speed up training\n",
    "    random_state=42,\n",
    "    n_jobs=-1  # Use all CPU cores for parallel processing\n",
    ")\n",
    "\n",
    "# Run hyperparameter tuning\n",
    "random_search.fit(X_train, y_train)\n",
    "\n",
    "# Print best parameters\n",
    "print(\"Best hyperparameters:\", random_search.best_params_)\n",
    "\n",
    "# Get the best model\n",
    "best_xgb_model = random_search.best_estimator_\n"
   ]
  },
  {
   "cell_type": "markdown",
   "metadata": {},
   "source": [
    "### Training XGBoost"
   ]
  },
  {
   "cell_type": "code",
   "execution_count": 24,
   "metadata": {},
   "outputs": [
    {
     "name": "stdout",
     "output_type": "stream",
     "text": [
      "XGBoost RMSE after tuning: 1754.45\n",
      "XGBoost Training Time: 267.43 seconds\n",
      "XGBoost Prediction Time: 0.5766 seconds\n"
     ]
    }
   ],
   "source": [
    "# Initialize XGBoost with the best hyperparameters\n",
    "best_xgb_model = xgb.XGBRegressor(\n",
    "    subsample=1.0,\n",
    "    n_estimators=100,\n",
    "    max_depth=5,\n",
    "    learning_rate=0.1,\n",
    "    colsample_bytree=0.8,\n",
    "    random_state=42,\n",
    "    n_jobs=-1  # Use all CPU cores\n",
    ")\n",
    "\n",
    "# Measure training time\n",
    "start_train = time.time()\n",
    "best_xgb_model.fit(X_train, y_train)  # Train the optimized XGBoost model\n",
    "end_train = time.time()\n",
    "train_time = end_train - start_train\n",
    "\n",
    "# Measure prediction time\n",
    "start_pred = time.time()\n",
    "xgb_preds = best_xgb_model.predict(X_valid)\n",
    "end_pred = time.time()\n",
    "pred_time = end_pred - start_pred\n",
    "\n",
    "# Calculate RMSE\n",
    "xgb_rmse = np.sqrt(mean_squared_error(y_valid, xgb_preds))\n",
    "\n",
    "# Print results\n",
    "print(f\"XGBoost RMSE after tuning: {xgb_rmse:.2f}\")\n",
    "print(f\"XGBoost Training Time: {train_time:.2f} seconds\")\n",
    "print(f\"XGBoost Prediction Time: {pred_time:.4f} seconds\")"
   ]
  },
  {
   "cell_type": "markdown",
   "metadata": {},
   "source": [
    "### Analysis & Best Model Selection"
   ]
  },
  {
   "cell_type": "markdown",
   "metadata": {},
   "source": [
    "**Linear Regression** performed the worst (2605.57), as expected.\n",
    "\n",
    "**Decision Tree** improved significantly (2000.63) but still wasn’t optimal.\n",
    "\n",
    "**Random Forest** (1706.82) performed much better and became one of the top contenders.\n",
    "\n",
    "**LightGBM** (1714.88) was slightly worse than Random Forest.\n",
    "\n",
    "**XGBoost** (1672.36) had the best performance and the lowest RMSE."
   ]
  },
  {
   "cell_type": "markdown",
   "metadata": {},
   "source": [
    "<div class=\"alert alert-block alert-danger\">\n",
    "<b>Reviewer's comment V1</b> <a class=\"tocSkip\"></a>\n",
    "\n",
    "1. You need to tune hyperparameters at least for one model. Please, use GridSearchCV or RandomizedSearchCV to do it.\n",
    "2. Right now you measured not only training time but: model initialization time + training time + prediction time + rmse calculation time. But for each model you need to measure two separate times. One is training time (method fit) and one is prediction time (method predict). To do it, you can use library `time`. Moreover, you need to use both these times in the model analysis part below.\n",
    "\n",
    "Keep in mind that RandomizedSearchCV or GridSearchCV training time and model training time are not the same things. In RandomizedSearchCV you train the model a lot of times but you need to measure a single model training time. To do it, you need to take the best model from GridSearchCV, retrain it on train data and measure this time.\n",
    "  \n",
    "</div>"
   ]
  },
  {
   "cell_type": "markdown",
   "metadata": {},
   "source": [
    "<div class=\"alert alert-block alert-success\">\n",
    "<b>Reviewer's comment V2</b> <a class=\"tocSkip\"></a>\n",
    "\n",
    "Correct. Good job!\n",
    "  \n",
    "</div>"
   ]
  },
  {
   "cell_type": "markdown",
   "metadata": {},
   "source": [
    "## Model analysis"
   ]
  },
  {
   "cell_type": "markdown",
   "metadata": {},
   "source": [
    "### Save the LightGBM Model"
   ]
  },
  {
   "cell_type": "code",
   "execution_count": 25,
   "metadata": {},
   "outputs": [
    {
     "name": "stdout",
     "output_type": "stream",
     "text": [
      "LightGBM Model saved successfully!\n"
     ]
    }
   ],
   "source": [
    "# Save the trained LightGBM model\n",
    "joblib.dump(lgb_model, \"lightgbm_used_car_price_model.pkl\")\n",
    "\n",
    "print(\"LightGBM Model saved successfully!\")"
   ]
  },
  {
   "cell_type": "markdown",
   "metadata": {},
   "source": [
    "### Load & Test the Saved Model"
   ]
  },
  {
   "cell_type": "code",
   "execution_count": 26,
   "metadata": {},
   "outputs": [
    {
     "name": "stdout",
     "output_type": "stream",
     "text": [
      "Model Test RMSE after loading: 1630.34\n"
     ]
    }
   ],
   "source": [
    "# Load the saved LightGBM model\n",
    "loaded_model = joblib.load(\"lightgbm_used_car_price_model.pkl\")\n",
    "\n",
    "# Test prediction on the validation set\n",
    "test_preds = loaded_model.predict(X_valid_cat)\n",
    "\n",
    "# Calculate RMSE again to verify accuracy\n",
    "test_rmse = np.sqrt(mean_squared_error(y_valid_cat, test_preds))\n",
    "print(f\"Model Test RMSE after loading: {test_rmse:.2f}\")\n",
    "\n"
   ]
  },
  {
   "cell_type": "markdown",
   "metadata": {},
   "source": [
    "### Deploy the Model for Real-time Predictions"
   ]
  },
  {
   "cell_type": "code",
   "execution_count": 29,
   "metadata": {},
   "outputs": [
    {
     "name": "stdout",
     "output_type": "stream",
     "text": [
      "Predicted Car Price: 1742.45 EUR\n"
     ]
    }
   ],
   "source": [
    "# Get the categorical column names\n",
    "cat_features = ['VehicleType', 'Gearbox', 'Model', 'FuelType', 'Brand', 'NotRepaired']\n",
    "\n",
    "# Extract a sample row for prediction\n",
    "sample_car = X_valid_cat.iloc[[0]].copy()  # Use double brackets to keep it as a DataFrame\n",
    "\n",
    "# Convert categorical columns to category dtype\n",
    "for col in cat_features:\n",
    "    if col in sample_car.columns:  # Ensure the column exists\n",
    "        sample_car[col] = sample_car[col].astype('category')\n",
    "\n",
    "# Ensure columns match training format\n",
    "sample_car = sample_car[X_valid_cat.columns]  \n",
    "\n",
    "# Predict the price\n",
    "predicted_price = loaded_model.predict(sample_car)\n",
    "\n",
    "print(f\"Predicted Car Price: {predicted_price[0]:.2f} EUR\")\n"
   ]
  },
  {
   "cell_type": "markdown",
   "metadata": {},
   "source": [
    "## **Summary**  \n",
    "\n",
    "### **Project Overview**  \n",
    "Rusty Bargain is developing an app to estimate the **market value of used cars** based on historical data. Our goal was to **build a machine learning model** with:  \n",
    "- **High Prediction Quality** (low RMSE)  \n",
    "- **Fast Training & Prediction Speed**  \n",
    "\n",
    "---\n",
    "\n",
    "### **Data Preprocessing**  \n",
    " Removed irrelevant columns (`DateCrawled`, `DateCreated`, `LastSeen`, etc.).  \n",
    " Handled missing values (`VehicleType`, `Gearbox`, `Model`, `FuelType`, `NotRepaired`).  \n",
    " Filtered unrealistic values:  \n",
    "   - **Registration Year**: Kept **1910-2019**.  \n",
    "   - **Power**: Kept **10-500 hp**.  \n",
    "   - **Price**: Kept **500-20,000 EUR**.  \n",
    "Used **One-Hot Encoding** for models like Random Forest & XGBoost.  \n",
    "Kept categorical features for **LightGBM & CatBoost**.  \n",
    "**Split data:** **75% training, 25% validation**.  \n",
    "\n",
    "---\n",
    "\n",
    "## **Model Training & Performance**  \n",
    "\n",
    "| **Model**        | **RMSE**  | **Train Time (s)** | **Predict Time (s)** |\n",
    "|------------------|----------|------------------|------------------|\n",
    "| **Linear Regression** | 2586.64  | 8.68  | 0.1027  |\n",
    "| **Decision Tree**     | 1992.44  | 2.64  | 0.0537  |\n",
    "| **Random Forest**     | 1677.16  | 201.83  | 1.1177  |\n",
    "| **LightGBM**         | **1630.34**  | **2.71**  | **0.5006**  |\n",
    "| **XGBoost (Tuned)**  | 1754.45  | 176.61  | 0.5680  |\n",
    "\n",
    "---\n",
    "\n",
    "### **Key Findings**  \n",
    "- **LightGBM is the best model** (**RMSE = 1630.34**), providing **high accuracy & fast training**.  \n",
    "- **Random Forest (1677.16 RMSE) performed well** but required longer training.  \n",
    "- **XGBoost (1754.45 RMSE) was slower & underperformed**, requiring further tuning.  \n",
    "- **Decision Tree & Linear Regression were the least effective.**  \n",
    "\n",
    "---\n",
    "\n"
   ]
  },
  {
   "cell_type": "markdown",
   "metadata": {},
   "source": [
    "## **Conclusion**\n",
    "In this project, we developed a machine learning model to accurately predict used car prices for Rusty Bargain’s app. We performed data cleaning, feature engineering, and model evaluation using multiple algorithms.\n",
    "\n",
    "After evaluating different models, LightGBM emerged as the best-performing model with an RMSE of 1630.34, surpassing Random Forest (1677.16 RMSE) and XGBoost (1754.45 RMSE). Surprisingly, XGBoost performed worse than expected, indicating that further tuning or feature optimization might be needed.\n",
    "\n",
    "The final **LightGBM model** was successfully **trained, tested, and deployed**, making it **ready for real-world use**. Our **real-time prediction test** returned a **predicted car price of 1742.45 EUR**, confirming the model's reliability.\n",
    "\n",
    "\n",
    "The final LightGBM model was successfully trained, tested, and optimized, making it ready for deployment in Rusty Bargain’s app. Feature importance analysis highlighted key factors influencing car prices, such as mileage, power, brand, and fuel type.\n",
    "\n",
    "**Final Takeaways:**\n",
    "\n",
    "LightGBM is the best model in terms of both accuracy and training speed.\n",
    "Random Forest performed well but had high training time.\n",
    "XGBoost needs further tuning to improve performance.\n",
    "Linear Regression and Decision Tree are not suitable for this problem.\n",
    "Moving forward, we recommend deploying the LightGBM model and periodically retraining it with updated data to further improve accuracy and adapt to market trends. "
   ]
  },
  {
   "cell_type": "markdown",
   "metadata": {},
   "source": [
    "# Checklist"
   ]
  },
  {
   "cell_type": "markdown",
   "metadata": {},
   "source": [
    "Type 'x' to check. Then press Shift+Enter."
   ]
  },
  {
   "cell_type": "markdown",
   "metadata": {},
   "source": [
    "- [x]  Jupyter Notebook is open\n",
    "- [ ]  Code is error free\n",
    "- [ ]  The cells with the code have been arranged in order of execution\n",
    "- [ ]  The data has been downloaded and prepared\n",
    "- [ ]  The models have been trained\n",
    "- [ ]  The analysis of speed and quality of the models has been performed"
   ]
  },
  {
   "cell_type": "code",
   "execution_count": null,
   "metadata": {},
   "outputs": [],
   "source": []
  }
 ],
 "metadata": {
  "ExecuteTimeLog": [
   {
    "duration": 296,
    "start_time": "2025-03-03T01:29:04.992Z"
   },
   {
    "duration": 494,
    "start_time": "2025-03-03T01:29:08.221Z"
   },
   {
    "duration": 97,
    "start_time": "2025-03-03T01:29:30.769Z"
   },
   {
    "duration": 93,
    "start_time": "2025-03-03T01:29:47.786Z"
   },
   {
    "duration": 77,
    "start_time": "2025-03-03T01:37:29.608Z"
   },
   {
    "duration": 59,
    "start_time": "2025-03-03T01:37:34.656Z"
   },
   {
    "duration": 146,
    "start_time": "2025-03-03T01:38:01.209Z"
   },
   {
    "duration": 28,
    "start_time": "2025-03-03T01:39:11.336Z"
   },
   {
    "duration": 32,
    "start_time": "2025-03-03T01:42:24.659Z"
   },
   {
    "duration": 34,
    "start_time": "2025-03-03T01:52:24.247Z"
   },
   {
    "duration": 28,
    "start_time": "2025-03-03T01:53:57.691Z"
   },
   {
    "duration": 95,
    "start_time": "2025-03-03T01:56:00.728Z"
   },
   {
    "duration": 103,
    "start_time": "2025-03-03T01:56:17.118Z"
   },
   {
    "duration": 10,
    "start_time": "2025-03-03T02:01:14.825Z"
   },
   {
    "duration": 208,
    "start_time": "2025-03-03T02:01:30.434Z"
   },
   {
    "duration": 5,
    "start_time": "2025-03-03T02:02:07.431Z"
   },
   {
    "duration": 502,
    "start_time": "2025-03-03T02:04:28.733Z"
   },
   {
    "duration": 500,
    "start_time": "2025-03-03T02:06:02.637Z"
   },
   {
    "duration": 77,
    "start_time": "2025-03-03T02:07:52.049Z"
   },
   {
    "duration": 2,
    "start_time": "2025-03-03T02:09:46.582Z"
   },
   {
    "duration": 17,
    "start_time": "2025-03-03T02:09:54.045Z"
   },
   {
    "duration": 7617,
    "start_time": "2025-03-03T02:10:09.555Z"
   },
   {
    "duration": 15,
    "start_time": "2025-03-03T02:11:34.222Z"
   },
   {
    "duration": 2328,
    "start_time": "2025-03-03T02:11:42.146Z"
   },
   {
    "duration": 9,
    "start_time": "2025-03-03T02:12:34.589Z"
   },
   {
    "duration": 825,
    "start_time": "2025-03-03T03:20:50.086Z"
   },
   {
    "duration": 457,
    "start_time": "2025-03-03T03:20:50.913Z"
   },
   {
    "duration": 104,
    "start_time": "2025-03-03T03:20:51.374Z"
   },
   {
    "duration": 82,
    "start_time": "2025-03-03T03:20:51.480Z"
   },
   {
    "duration": 72,
    "start_time": "2025-03-03T03:20:51.564Z"
   },
   {
    "duration": 155,
    "start_time": "2025-03-03T03:20:51.638Z"
   },
   {
    "duration": 22,
    "start_time": "2025-03-03T03:20:51.796Z"
   },
   {
    "duration": 30,
    "start_time": "2025-03-03T03:20:51.819Z"
   },
   {
    "duration": 54,
    "start_time": "2025-03-03T03:20:51.853Z"
   },
   {
    "duration": 28,
    "start_time": "2025-03-03T03:20:51.909Z"
   },
   {
    "duration": 105,
    "start_time": "2025-03-03T03:20:51.939Z"
   },
   {
    "duration": 108,
    "start_time": "2025-03-03T03:20:52.046Z"
   },
   {
    "duration": 10,
    "start_time": "2025-03-03T03:20:52.156Z"
   },
   {
    "duration": 221,
    "start_time": "2025-03-03T03:20:52.168Z"
   },
   {
    "duration": 5,
    "start_time": "2025-03-03T03:20:52.391Z"
   },
   {
    "duration": 503,
    "start_time": "2025-03-03T03:20:52.398Z"
   },
   {
    "duration": 68,
    "start_time": "2025-03-03T03:20:52.903Z"
   },
   {
    "duration": 7417,
    "start_time": "2025-03-03T03:20:52.973Z"
   },
   {
    "duration": 2374,
    "start_time": "2025-03-03T03:21:00.393Z"
   },
   {
    "duration": 57176,
    "start_time": "2025-03-03T03:31:56.687Z"
   },
   {
    "duration": 826,
    "start_time": "2025-03-03T05:05:09.270Z"
   },
   {
    "duration": 487,
    "start_time": "2025-03-03T05:05:10.098Z"
   },
   {
    "duration": 102,
    "start_time": "2025-03-03T05:05:10.588Z"
   },
   {
    "duration": 89,
    "start_time": "2025-03-03T05:05:10.692Z"
   },
   {
    "duration": 62,
    "start_time": "2025-03-03T05:05:10.783Z"
   },
   {
    "duration": 154,
    "start_time": "2025-03-03T05:05:10.847Z"
   },
   {
    "duration": 21,
    "start_time": "2025-03-03T05:05:11.003Z"
   },
   {
    "duration": 44,
    "start_time": "2025-03-03T05:05:11.026Z"
   },
   {
    "duration": 35,
    "start_time": "2025-03-03T05:05:11.071Z"
   },
   {
    "duration": 28,
    "start_time": "2025-03-03T05:05:11.109Z"
   },
   {
    "duration": 113,
    "start_time": "2025-03-03T05:05:11.139Z"
   },
   {
    "duration": 127,
    "start_time": "2025-03-03T05:05:11.254Z"
   },
   {
    "duration": 11,
    "start_time": "2025-03-03T05:05:11.383Z"
   },
   {
    "duration": 223,
    "start_time": "2025-03-03T05:05:11.396Z"
   },
   {
    "duration": 5,
    "start_time": "2025-03-03T05:05:11.621Z"
   },
   {
    "duration": 525,
    "start_time": "2025-03-03T05:05:11.628Z"
   },
   {
    "duration": 72,
    "start_time": "2025-03-03T05:05:12.156Z"
   },
   {
    "duration": 7280,
    "start_time": "2025-03-03T05:05:12.230Z"
   },
   {
    "duration": 2417,
    "start_time": "2025-03-03T05:05:19.511Z"
   },
   {
    "duration": 173826,
    "start_time": "2025-03-03T05:05:21.930Z"
   },
   {
    "duration": 55,
    "start_time": "2025-03-03T05:10:15.799Z"
   },
   {
    "duration": 657,
    "start_time": "2025-03-03T05:11:14.186Z"
   },
   {
    "duration": 834,
    "start_time": "2025-03-03T20:44:15.577Z"
   },
   {
    "duration": 479,
    "start_time": "2025-03-03T20:44:16.413Z"
   },
   {
    "duration": 105,
    "start_time": "2025-03-03T20:44:16.894Z"
   },
   {
    "duration": 79,
    "start_time": "2025-03-03T20:44:17.002Z"
   },
   {
    "duration": 65,
    "start_time": "2025-03-03T20:44:17.083Z"
   },
   {
    "duration": 153,
    "start_time": "2025-03-03T20:44:17.149Z"
   },
   {
    "duration": 22,
    "start_time": "2025-03-03T20:44:17.303Z"
   },
   {
    "duration": 38,
    "start_time": "2025-03-03T20:44:17.327Z"
   },
   {
    "duration": 32,
    "start_time": "2025-03-03T20:44:17.367Z"
   },
   {
    "duration": 43,
    "start_time": "2025-03-03T20:44:17.402Z"
   },
   {
    "duration": 99,
    "start_time": "2025-03-03T20:44:17.447Z"
   },
   {
    "duration": 107,
    "start_time": "2025-03-03T20:44:17.550Z"
   },
   {
    "duration": 11,
    "start_time": "2025-03-03T20:44:17.659Z"
   },
   {
    "duration": 220,
    "start_time": "2025-03-03T20:44:17.672Z"
   },
   {
    "duration": 6,
    "start_time": "2025-03-03T20:44:17.894Z"
   },
   {
    "duration": 508,
    "start_time": "2025-03-03T20:44:17.902Z"
   },
   {
    "duration": 78,
    "start_time": "2025-03-03T20:44:18.412Z"
   },
   {
    "duration": 7295,
    "start_time": "2025-03-03T20:44:18.492Z"
   },
   {
    "duration": 176831,
    "start_time": "2025-03-03T20:44:28.155Z"
   },
   {
    "duration": 731,
    "start_time": "2025-03-03T20:47:24.988Z"
   },
   {
    "duration": 56,
    "start_time": "2025-03-03T20:48:41.827Z"
   },
   {
    "duration": 2599,
    "start_time": "2025-03-03T20:50:09.057Z"
   },
   {
    "duration": 3,
    "start_time": "2025-03-03T20:53:53.177Z"
   },
   {
    "duration": 46,
    "start_time": "2025-03-03T20:54:15.595Z"
   },
   {
    "duration": 274779,
    "start_time": "2025-03-03T20:59:09.866Z"
   },
   {
    "duration": 8,
    "start_time": "2025-03-03T21:06:45.440Z"
   },
   {
    "duration": 3,
    "start_time": "2025-03-03T21:09:23.018Z"
   },
   {
    "duration": 339,
    "start_time": "2025-03-03T21:09:37.889Z"
   },
   {
    "duration": 1956,
    "start_time": "2025-03-03T21:10:00.287Z"
   },
   {
    "duration": 3069,
    "start_time": "2025-03-03T21:10:17.734Z"
   },
   {
    "duration": 582,
    "start_time": "2025-03-03T21:12:24.183Z"
   },
   {
    "duration": 8,
    "start_time": "2025-03-03T21:13:28.642Z"
   },
   {
    "duration": 71,
    "start_time": "2025-03-03T21:13:44.973Z"
   },
   {
    "duration": 2971,
    "start_time": "2025-03-03T21:16:02.675Z"
   },
   {
    "duration": 2799,
    "start_time": "2025-03-04T04:36:46.578Z"
   },
   {
    "duration": 468,
    "start_time": "2025-03-04T04:36:49.379Z"
   },
   {
    "duration": 95,
    "start_time": "2025-03-04T04:36:49.848Z"
   },
   {
    "duration": 88,
    "start_time": "2025-03-04T04:36:49.946Z"
   },
   {
    "duration": 73,
    "start_time": "2025-03-04T04:36:50.036Z"
   },
   {
    "duration": 144,
    "start_time": "2025-03-04T04:36:50.110Z"
   },
   {
    "duration": 23,
    "start_time": "2025-03-04T04:36:50.256Z"
   },
   {
    "duration": 44,
    "start_time": "2025-03-04T04:36:50.281Z"
   },
   {
    "duration": 33,
    "start_time": "2025-03-04T04:36:50.327Z"
   },
   {
    "duration": 30,
    "start_time": "2025-03-04T04:36:50.363Z"
   },
   {
    "duration": 93,
    "start_time": "2025-03-04T04:36:50.408Z"
   },
   {
    "duration": 117,
    "start_time": "2025-03-04T04:36:50.502Z"
   },
   {
    "duration": 13,
    "start_time": "2025-03-04T04:36:50.621Z"
   },
   {
    "duration": 226,
    "start_time": "2025-03-04T04:36:50.636Z"
   },
   {
    "duration": 7,
    "start_time": "2025-03-04T04:36:50.864Z"
   },
   {
    "duration": 508,
    "start_time": "2025-03-04T04:36:50.872Z"
   },
   {
    "duration": 73,
    "start_time": "2025-03-04T04:36:51.382Z"
   },
   {
    "duration": 303,
    "start_time": "2025-03-04T04:36:51.457Z"
   },
   {
    "duration": 0,
    "start_time": "2025-03-04T04:36:51.762Z"
   },
   {
    "duration": 0,
    "start_time": "2025-03-04T04:36:51.764Z"
   },
   {
    "duration": 0,
    "start_time": "2025-03-04T04:36:51.765Z"
   },
   {
    "duration": 0,
    "start_time": "2025-03-04T04:36:51.767Z"
   },
   {
    "duration": 0,
    "start_time": "2025-03-04T04:36:51.769Z"
   },
   {
    "duration": 0,
    "start_time": "2025-03-04T04:36:51.771Z"
   },
   {
    "duration": 0,
    "start_time": "2025-03-04T04:36:51.772Z"
   },
   {
    "duration": 0,
    "start_time": "2025-03-04T04:36:51.774Z"
   },
   {
    "duration": 16,
    "start_time": "2025-03-04T04:38:47.354Z"
   },
   {
    "duration": 1068,
    "start_time": "2025-03-04T04:39:38.330Z"
   },
   {
    "duration": 417,
    "start_time": "2025-03-04T04:39:39.401Z"
   },
   {
    "duration": 99,
    "start_time": "2025-03-04T04:39:39.820Z"
   },
   {
    "duration": 88,
    "start_time": "2025-03-04T04:39:39.922Z"
   },
   {
    "duration": 72,
    "start_time": "2025-03-04T04:39:40.012Z"
   },
   {
    "duration": 162,
    "start_time": "2025-03-04T04:39:40.086Z"
   },
   {
    "duration": 28,
    "start_time": "2025-03-04T04:39:40.249Z"
   },
   {
    "duration": 50,
    "start_time": "2025-03-04T04:39:40.279Z"
   },
   {
    "duration": 35,
    "start_time": "2025-03-04T04:39:40.330Z"
   },
   {
    "duration": 41,
    "start_time": "2025-03-04T04:39:40.369Z"
   },
   {
    "duration": 98,
    "start_time": "2025-03-04T04:39:40.412Z"
   },
   {
    "duration": 115,
    "start_time": "2025-03-04T04:39:40.512Z"
   },
   {
    "duration": 10,
    "start_time": "2025-03-04T04:39:40.629Z"
   },
   {
    "duration": 230,
    "start_time": "2025-03-04T04:39:40.640Z"
   },
   {
    "duration": 6,
    "start_time": "2025-03-04T04:39:40.872Z"
   },
   {
    "duration": 521,
    "start_time": "2025-03-04T04:39:40.880Z"
   },
   {
    "duration": 75,
    "start_time": "2025-03-04T04:39:41.403Z"
   },
   {
    "duration": 5,
    "start_time": "2025-03-04T04:39:41.480Z"
   },
   {
    "duration": 7629,
    "start_time": "2025-03-04T04:39:41.486Z"
   },
   {
    "duration": 2540,
    "start_time": "2025-03-04T04:39:49.118Z"
   },
   {
    "duration": 187529,
    "start_time": "2025-03-04T04:39:51.660Z"
   },
   {
    "duration": 3019,
    "start_time": "2025-03-04T04:42:59.192Z"
   },
   {
    "duration": 274315,
    "start_time": "2025-03-04T04:43:02.214Z"
   },
   {
    "duration": 110,
    "start_time": "2025-03-04T04:47:36.531Z"
   },
   {
    "duration": 594,
    "start_time": "2025-03-04T04:47:36.643Z"
   },
   {
    "duration": 6,
    "start_time": "2025-03-04T04:47:37.239Z"
   },
   {
    "duration": 10,
    "start_time": "2025-03-04T09:11:01.793Z"
   },
   {
    "duration": 2839,
    "start_time": "2025-03-04T19:33:01.066Z"
   },
   {
    "duration": 3,
    "start_time": "2025-03-04T19:36:28.747Z"
   },
   {
    "duration": 3,
    "start_time": "2025-03-04T19:37:28.842Z"
   },
   {
    "duration": 1083,
    "start_time": "2025-03-04T19:44:27.922Z"
   },
   {
    "duration": 521,
    "start_time": "2025-03-04T19:44:29.007Z"
   },
   {
    "duration": 103,
    "start_time": "2025-03-04T19:44:29.530Z"
   },
   {
    "duration": 514,
    "start_time": "2025-03-04T19:44:29.636Z"
   },
   {
    "duration": 90,
    "start_time": "2025-03-04T19:44:30.154Z"
   },
   {
    "duration": 69,
    "start_time": "2025-03-04T19:44:30.246Z"
   },
   {
    "duration": 173,
    "start_time": "2025-03-04T19:44:30.319Z"
   },
   {
    "duration": 29,
    "start_time": "2025-03-04T19:44:30.495Z"
   },
   {
    "duration": 23,
    "start_time": "2025-03-04T19:44:30.527Z"
   },
   {
    "duration": 34,
    "start_time": "2025-03-04T19:44:30.552Z"
   },
   {
    "duration": 25,
    "start_time": "2025-03-04T19:44:30.605Z"
   },
   {
    "duration": 11,
    "start_time": "2025-03-04T19:44:30.632Z"
   },
   {
    "duration": 271,
    "start_time": "2025-03-04T19:44:30.645Z"
   },
   {
    "duration": 6,
    "start_time": "2025-03-04T19:44:30.920Z"
   },
   {
    "duration": 634,
    "start_time": "2025-03-04T19:44:30.928Z"
   },
   {
    "duration": 77,
    "start_time": "2025-03-04T19:44:31.564Z"
   },
   {
    "duration": 5,
    "start_time": "2025-03-04T19:44:31.643Z"
   },
   {
    "duration": 152,
    "start_time": "2025-03-04T19:44:31.649Z"
   },
   {
    "duration": 9623,
    "start_time": "2025-03-04T19:44:31.805Z"
   },
   {
    "duration": 2827,
    "start_time": "2025-03-04T19:44:41.436Z"
   },
   {
    "duration": 206092,
    "start_time": "2025-03-04T19:44:44.265Z"
   },
   {
    "duration": 351088,
    "start_time": "2025-03-04T19:48:10.360Z"
   },
   {
    "duration": 2747,
    "start_time": "2025-03-04T20:47:23.710Z"
   },
   {
    "duration": 455,
    "start_time": "2025-03-04T20:47:26.460Z"
   },
   {
    "duration": 109,
    "start_time": "2025-03-04T20:47:26.920Z"
   },
   {
    "duration": 537,
    "start_time": "2025-03-04T20:47:27.031Z"
   },
   {
    "duration": 92,
    "start_time": "2025-03-04T20:47:27.570Z"
   },
   {
    "duration": 67,
    "start_time": "2025-03-04T20:47:27.664Z"
   },
   {
    "duration": 150,
    "start_time": "2025-03-04T20:47:27.733Z"
   },
   {
    "duration": 32,
    "start_time": "2025-03-04T20:47:27.885Z"
   },
   {
    "duration": 24,
    "start_time": "2025-03-04T20:47:27.921Z"
   },
   {
    "duration": 34,
    "start_time": "2025-03-04T20:47:27.946Z"
   },
   {
    "duration": 45,
    "start_time": "2025-03-04T20:47:27.982Z"
   },
   {
    "duration": 12,
    "start_time": "2025-03-04T20:47:28.030Z"
   },
   {
    "duration": 271,
    "start_time": "2025-03-04T20:47:28.044Z"
   },
   {
    "duration": 5,
    "start_time": "2025-03-04T20:47:28.317Z"
   },
   {
    "duration": 543,
    "start_time": "2025-03-04T20:47:28.324Z"
   },
   {
    "duration": 75,
    "start_time": "2025-03-04T20:47:28.869Z"
   },
   {
    "duration": 5,
    "start_time": "2025-03-04T20:47:28.946Z"
   },
   {
    "duration": 146,
    "start_time": "2025-03-04T20:47:28.953Z"
   },
   {
    "duration": 8134,
    "start_time": "2025-03-04T20:47:29.101Z"
   },
   {
    "duration": 2792,
    "start_time": "2025-03-04T20:47:37.241Z"
   },
   {
    "duration": 207600,
    "start_time": "2025-03-04T20:47:40.036Z"
   },
   {
    "duration": 3185,
    "start_time": "2025-03-04T20:51:07.637Z"
   },
   {
    "duration": 2786,
    "start_time": "2025-03-04T21:49:38.461Z"
   },
   {
    "duration": 471,
    "start_time": "2025-03-04T21:49:41.249Z"
   },
   {
    "duration": 95,
    "start_time": "2025-03-04T21:49:41.722Z"
   },
   {
    "duration": 498,
    "start_time": "2025-03-04T21:49:41.820Z"
   },
   {
    "duration": 91,
    "start_time": "2025-03-04T21:49:42.320Z"
   },
   {
    "duration": 65,
    "start_time": "2025-03-04T21:49:42.413Z"
   },
   {
    "duration": 164,
    "start_time": "2025-03-04T21:49:42.480Z"
   },
   {
    "duration": 25,
    "start_time": "2025-03-04T21:49:42.646Z"
   },
   {
    "duration": 34,
    "start_time": "2025-03-04T21:49:42.674Z"
   },
   {
    "duration": 37,
    "start_time": "2025-03-04T21:49:42.712Z"
   },
   {
    "duration": 24,
    "start_time": "2025-03-04T21:49:42.751Z"
   },
   {
    "duration": 32,
    "start_time": "2025-03-04T21:49:42.777Z"
   },
   {
    "duration": 253,
    "start_time": "2025-03-04T21:49:42.811Z"
   },
   {
    "duration": 6,
    "start_time": "2025-03-04T21:49:43.066Z"
   },
   {
    "duration": 569,
    "start_time": "2025-03-04T21:49:43.074Z"
   },
   {
    "duration": 79,
    "start_time": "2025-03-04T21:49:43.645Z"
   },
   {
    "duration": 6,
    "start_time": "2025-03-04T21:49:43.726Z"
   },
   {
    "duration": 149,
    "start_time": "2025-03-04T21:49:43.734Z"
   },
   {
    "duration": 9324,
    "start_time": "2025-03-04T21:49:43.885Z"
   },
   {
    "duration": 2702,
    "start_time": "2025-03-04T21:49:53.211Z"
   },
   {
    "duration": 1048,
    "start_time": "2025-03-05T19:58:55.200Z"
   },
   {
    "duration": 423,
    "start_time": "2025-03-05T19:58:56.251Z"
   },
   {
    "duration": 96,
    "start_time": "2025-03-05T19:58:56.676Z"
   },
   {
    "duration": 484,
    "start_time": "2025-03-05T19:58:56.774Z"
   },
   {
    "duration": 109,
    "start_time": "2025-03-05T19:58:57.261Z"
   },
   {
    "duration": 71,
    "start_time": "2025-03-05T19:58:57.372Z"
   },
   {
    "duration": 143,
    "start_time": "2025-03-05T19:58:57.445Z"
   },
   {
    "duration": 34,
    "start_time": "2025-03-05T19:58:57.590Z"
   },
   {
    "duration": 24,
    "start_time": "2025-03-05T19:58:57.627Z"
   },
   {
    "duration": 33,
    "start_time": "2025-03-05T19:58:57.653Z"
   },
   {
    "duration": 40,
    "start_time": "2025-03-05T19:58:57.688Z"
   },
   {
    "duration": 12,
    "start_time": "2025-03-05T19:58:57.729Z"
   },
   {
    "duration": 255,
    "start_time": "2025-03-05T19:58:57.743Z"
   },
   {
    "duration": 7,
    "start_time": "2025-03-05T19:58:58.004Z"
   },
   {
    "duration": 567,
    "start_time": "2025-03-05T19:58:58.013Z"
   },
   {
    "duration": 78,
    "start_time": "2025-03-05T19:58:58.583Z"
   },
   {
    "duration": 5,
    "start_time": "2025-03-05T19:58:58.663Z"
   },
   {
    "duration": 156,
    "start_time": "2025-03-05T19:58:58.670Z"
   },
   {
    "duration": 8787,
    "start_time": "2025-03-05T19:58:58.828Z"
   },
   {
    "duration": 2698,
    "start_time": "2025-03-05T19:59:07.620Z"
   },
   {
    "duration": 202952,
    "start_time": "2025-03-05T19:59:10.320Z"
   },
   {
    "duration": 3351,
    "start_time": "2025-03-05T20:02:33.274Z"
   },
   {
    "duration": 301140,
    "start_time": "2025-03-05T20:46:32.884Z"
   },
   {
    "duration": 46,
    "start_time": "2025-03-05T20:51:34.026Z"
   },
   {
    "duration": 309,
    "start_time": "2025-03-05T20:51:34.073Z"
   },
   {
    "duration": 0,
    "start_time": "2025-03-05T20:51:34.385Z"
   },
   {
    "duration": 0,
    "start_time": "2025-03-05T20:51:34.386Z"
   },
   {
    "duration": 549391,
    "start_time": "2025-03-05T21:23:12.091Z"
   },
   {
    "duration": 175042,
    "start_time": "2025-03-05T21:32:21.484Z"
   },
   {
    "duration": 177184,
    "start_time": "2025-03-05T21:36:07.827Z"
   },
   {
    "duration": 2710,
    "start_time": "2025-03-05T22:30:07.890Z"
   },
   {
    "duration": 464,
    "start_time": "2025-03-05T22:30:10.604Z"
   },
   {
    "duration": 96,
    "start_time": "2025-03-05T22:30:11.070Z"
   },
   {
    "duration": 471,
    "start_time": "2025-03-05T22:30:11.168Z"
   },
   {
    "duration": 92,
    "start_time": "2025-03-05T22:30:11.641Z"
   },
   {
    "duration": 73,
    "start_time": "2025-03-05T22:30:11.735Z"
   },
   {
    "duration": 151,
    "start_time": "2025-03-05T22:30:11.810Z"
   },
   {
    "duration": 25,
    "start_time": "2025-03-05T22:30:11.963Z"
   },
   {
    "duration": 36,
    "start_time": "2025-03-05T22:30:11.992Z"
   },
   {
    "duration": 29,
    "start_time": "2025-03-05T22:30:12.030Z"
   },
   {
    "duration": 25,
    "start_time": "2025-03-05T22:30:12.061Z"
   },
   {
    "duration": 33,
    "start_time": "2025-03-05T22:30:12.088Z"
   },
   {
    "duration": 251,
    "start_time": "2025-03-05T22:30:12.122Z"
   },
   {
    "duration": 6,
    "start_time": "2025-03-05T22:30:12.375Z"
   },
   {
    "duration": 599,
    "start_time": "2025-03-05T22:30:12.383Z"
   },
   {
    "duration": 83,
    "start_time": "2025-03-05T22:30:12.985Z"
   },
   {
    "duration": 5,
    "start_time": "2025-03-05T22:30:13.070Z"
   },
   {
    "duration": 143,
    "start_time": "2025-03-05T22:30:13.076Z"
   },
   {
    "duration": 8514,
    "start_time": "2025-03-05T22:30:13.221Z"
   },
   {
    "duration": 2907,
    "start_time": "2025-03-05T22:30:21.738Z"
   },
   {
    "duration": 209023,
    "start_time": "2025-03-05T22:30:24.647Z"
   },
   {
    "duration": 3251,
    "start_time": "2025-03-05T22:33:53.671Z"
   },
   {
    "duration": 1005,
    "start_time": "2025-03-05T22:38:50.763Z"
   },
   {
    "duration": 466,
    "start_time": "2025-03-05T22:38:51.770Z"
   },
   {
    "duration": 114,
    "start_time": "2025-03-05T22:38:52.238Z"
   },
   {
    "duration": 464,
    "start_time": "2025-03-05T22:38:52.354Z"
   },
   {
    "duration": 112,
    "start_time": "2025-03-05T22:38:52.821Z"
   },
   {
    "duration": 82,
    "start_time": "2025-03-05T22:38:52.935Z"
   },
   {
    "duration": 197,
    "start_time": "2025-03-05T22:38:53.020Z"
   },
   {
    "duration": 29,
    "start_time": "2025-03-05T22:38:53.219Z"
   },
   {
    "duration": 28,
    "start_time": "2025-03-05T22:38:53.250Z"
   },
   {
    "duration": 49,
    "start_time": "2025-03-05T22:38:53.280Z"
   },
   {
    "duration": 25,
    "start_time": "2025-03-05T22:38:53.330Z"
   },
   {
    "duration": 13,
    "start_time": "2025-03-05T22:38:53.358Z"
   },
   {
    "duration": 296,
    "start_time": "2025-03-05T22:38:53.373Z"
   },
   {
    "duration": 7,
    "start_time": "2025-03-05T22:38:53.672Z"
   },
   {
    "duration": 579,
    "start_time": "2025-03-05T22:38:53.682Z"
   },
   {
    "duration": 90,
    "start_time": "2025-03-05T22:38:54.263Z"
   },
   {
    "duration": 6,
    "start_time": "2025-03-05T22:38:54.355Z"
   },
   {
    "duration": 175,
    "start_time": "2025-03-05T22:38:54.363Z"
   },
   {
    "duration": 9096,
    "start_time": "2025-03-05T22:38:54.540Z"
   },
   {
    "duration": 2868,
    "start_time": "2025-03-05T22:39:03.638Z"
   },
   {
    "duration": 210704,
    "start_time": "2025-03-05T22:39:06.508Z"
   },
   {
    "duration": 229923,
    "start_time": "2025-03-05T22:42:37.214Z"
   },
   {
    "duration": 958278,
    "start_time": "2025-03-05T22:46:27.139Z"
   },
   {
    "duration": 268009,
    "start_time": "2025-03-05T23:02:25.419Z"
   },
   {
    "duration": 55,
    "start_time": "2025-03-05T23:06:53.431Z"
   },
   {
    "duration": 540,
    "start_time": "2025-03-05T23:06:53.508Z"
   },
   {
    "duration": 424,
    "start_time": "2025-03-05T23:06:54.050Z"
   },
   {
    "duration": 25,
    "start_time": "2025-03-05T23:09:30.194Z"
   },
   {
    "duration": 35,
    "start_time": "2025-03-05T23:10:31.131Z"
   }
  ],
  "kernelspec": {
   "display_name": "Python 3 (ipykernel)",
   "language": "python",
   "name": "python3"
  },
  "language_info": {
   "codemirror_mode": {
    "name": "ipython",
    "version": 3
   },
   "file_extension": ".py",
   "mimetype": "text/x-python",
   "name": "python",
   "nbconvert_exporter": "python",
   "pygments_lexer": "ipython3",
   "version": "3.9.19"
  },
  "toc": {
   "base_numbering": 1,
   "nav_menu": {},
   "number_sections": true,
   "sideBar": true,
   "skip_h1_title": true,
   "title_cell": "Table of Contents",
   "title_sidebar": "Contents",
   "toc_cell": false,
   "toc_position": {},
   "toc_section_display": true,
   "toc_window_display": false
  }
 },
 "nbformat": 4,
 "nbformat_minor": 2
}
